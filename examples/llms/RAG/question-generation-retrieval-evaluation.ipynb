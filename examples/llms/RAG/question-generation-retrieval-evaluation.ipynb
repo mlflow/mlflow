{
 "cells": [
  {
   "cell_type": "markdown",
   "metadata": {
    "application/vnd.databricks.v1+cell": {
     "cellMetadata": {},
     "inputWidgets": {},
     "nuid": "cd68bc70-d82e-4919-bc28-68b2450ed3eb",
     "showTitle": false,
     "title": ""
    }
   },
   "source": [
    "# Question Generation For Retrieval Evaluation\n",
    "\n",
    "MLflow provides an advanced framework for constructing Retrieval-Augmented Generation (RAG) models.\n",
    "RAG is a cutting edge approach that combines the strengths of retrieval models (a model that chooses and ranks relevant \n",
    "chunks of a document based on the user's question) and generative models.\n",
    "It effectively merges the capabilities of searching and generating text to provide responses that are contextually\n",
    "relevant and coherent, allowing the generated text to make reference to existing documents. RAG leverges the retriever to find context documents, and\n",
    "this novel approach has revolutionized various NLP tasks.\n",
    "\n",
    "Naturally, we want to be able to evaluate this retriever system for the RAG model to compare and judge its\n",
    "performance. To evaluate a retriever system, we would first need a test set of questions on the documents.\n",
    "These questions need to be diverse, relevant, and coherent. Manually generating questions may be challenging\n",
    "because it first requires you to understand the documents, and spend lots of time coming up with questions \n",
    "for them. \n",
    "\n",
    "We want to make this process simpler by utilizing an LLM to generate questions for this test set. This\n",
    "tutorial will walk through how to generate the questions and how to analyze the diversity and relevance\n",
    "of the questions."
   ]
  },
  {
   "cell_type": "markdown",
   "metadata": {
    "application/vnd.databricks.v1+cell": {
     "cellMetadata": {},
     "inputWidgets": {},
     "nuid": "b58f25ee-d0d6-4d9d-9cbb-dbbcaceebcdc",
     "showTitle": false,
     "title": ""
    }
   },
   "source": [
    "## Step 1: Install and Load Packages\n",
    "\n",
    "We also define some utility functions to cache the LLM responses to save cost. You can skip reading the implementation details in the next cell."
   ]
  },
  {
   "cell_type": "code",
   "execution_count": null,
   "metadata": {
    "application/vnd.databricks.v1+cell": {
     "cellMetadata": {},
     "inputWidgets": {},
     "nuid": "3cc6c6aa-56d8-4787-b263-56f508c06302",
     "showTitle": false,
     "title": ""
    }
   },
   "outputs": [],
   "source": [
    "%pip install beautifulsoup4 langchain openai pandas seaborn scikit-learn"
   ]
  },
  {
   "cell_type": "code",
   "execution_count": 1,
   "metadata": {
    "application/vnd.databricks.v1+cell": {
     "cellMetadata": {
      "byteLimit": 2048000,
      "rowLimit": 10000
     },
     "inputWidgets": {},
     "nuid": "5cbd5d73-4b97-46c8-a83d-9a3cb48901d1",
     "showTitle": false,
     "title": ""
    }
   },
   "outputs": [],
   "source": [
    "import json\n",
    "import os\n",
    "\n",
    "# For cost-saving, create a cache for the LLM responses\n",
    "import threading\n",
    "\n",
    "# For data analysis and visualization\n",
    "import matplotlib.pyplot as plt\n",
    "import numpy as np\n",
    "import openai\n",
    "import pandas as pd\n",
    "\n",
    "# For scraping\n",
    "import requests\n",
    "import seaborn as sns\n",
    "from bs4 import BeautifulSoup\n",
    "from langchain.embeddings import OpenAIEmbeddings\n",
    "from langchain.text_splitter import CharacterTextSplitter\n",
    "from sklearn.decomposition import PCA\n",
    "from sklearn.manifold import TSNE\n",
    "\n",
    "\n",
    "class Cache:\n",
    "    def __init__(self, persist_path, cache_loading_fn):\n",
    "        \"\"\"\n",
    "        The cache_loading_fn should be a function that takes arbitrary\n",
    "        serializable arguments and returns a serilaizable value.\n",
    "          value = cache_loading_fn(**kwargs)\n",
    "        For example, for openai.chat.completions.create(...), the\n",
    "        cache_loading_fn should be:\n",
    "          def cache_loading_fn(**kwargs):\n",
    "            result = openai.chat.completions.create(**kwargs)\n",
    "            return result.to_dict_recursive()\n",
    "        \"\"\"\n",
    "        self._cache = self._get_or_create_cache_dict(persist_path)\n",
    "        self._persist_path = persist_path\n",
    "        self._cache_loading_fn = cache_loading_fn\n",
    "        self._cache_lock = threading.Lock()\n",
    "\n",
    "    @classmethod\n",
    "    def _get_or_create_cache_dict(cls, persist_path):\n",
    "        if os.path.exists(persist_path):\n",
    "            # File exists, load it as a JSON string into a dict\n",
    "            with open(persist_path) as f:\n",
    "                cache = json.load(f)\n",
    "        else:\n",
    "            # File does not exist, create an empty dict\n",
    "            cache = {}\n",
    "        return cache\n",
    "\n",
    "    def _save_to_file(self):\n",
    "        with open(self._persist_path, \"w\") as file:\n",
    "            json.dump(self._cache, file)\n",
    "\n",
    "    def _update_cache(self, key, value):\n",
    "        with self._cache_lock:\n",
    "            self._cache[key] = value\n",
    "            self._save_to_file()\n",
    "\n",
    "    def get_from_cache_or_load_cache(self, **kwargs):\n",
    "        key = json.dumps(kwargs)\n",
    "\n",
    "        with self._cache_lock:\n",
    "            value = self._cache.get(key, None)\n",
    "\n",
    "        if value is None:\n",
    "            value = self._cache_loading_fn(**kwargs)\n",
    "            self._update_cache(key, value)\n",
    "        else:\n",
    "            print(\"Loaded from cache\")\n",
    "\n",
    "        return value\n",
    "\n",
    "\n",
    "def chat_completion_create_fn(**kwargs):\n",
    "    return openai.chat.completions.create(**kwargs)\n",
    "\n",
    "\n",
    "def cached_openai_ChatCompletion_create(**kwargs):\n",
    "    cache = kwargs.pop(\"cache\")\n",
    "    return cache.get_from_cache_or_load_cache(**kwargs)\n",
    "\n",
    "\n",
    "def embeddings_embed_documents_fn(**kwargs):\n",
    "    chunk = kwargs.get(\"chunk\")\n",
    "    return embeddings.embed_documents([chunk])\n",
    "\n",
    "\n",
    "def cached_langchain_openai_embeddings(**kwargs):\n",
    "    cache = kwargs.pop(\"cache\")\n",
    "    return cache.get_from_cache_or_load_cache(**kwargs)"
   ]
  },
  {
   "cell_type": "markdown",
   "metadata": {
    "application/vnd.databricks.v1+cell": {
     "cellMetadata": {},
     "inputWidgets": {},
     "nuid": "b0a21c3b-a534-46a2-891a-f2c737d52124",
     "showTitle": false,
     "title": ""
    }
   },
   "source": [
    "## Step 2: Set OpenAI Key\n",
    "\n",
    "The question generation system can be done using any LLM. We chose to use OpenAI here, so we will need their API key."
   ]
  },
  {
   "cell_type": "code",
   "execution_count": null,
   "metadata": {
    "application/vnd.databricks.v1+cell": {
     "cellMetadata": {
      "byteLimit": 2048000,
      "rowLimit": 10000
     },
     "inputWidgets": {},
     "nuid": "4b6cb5cd-e6f9-47ce-ad78-6c4a9266879f",
     "showTitle": false,
     "title": ""
    }
   },
   "outputs": [],
   "source": [
    "openai.api_key = \"<redacted>\"\n",
    "os.environ[\"OPENAI_API_KEY\"] = openai.api_key"
   ]
  },
  {
   "cell_type": "code",
   "execution_count": 2,
   "metadata": {
    "application/vnd.databricks.v1+cell": {
     "cellMetadata": {
      "byteLimit": 2048000,
      "rowLimit": 10000
     },
     "inputWidgets": {},
     "nuid": "8606b8f6-0bee-451a-9c10-ef416a0f65ce",
     "showTitle": false,
     "title": ""
    }
   },
   "outputs": [],
   "source": [
    "# Other configurations\n",
    "\n",
    "# Choose a seed for reproducible results\n",
    "SEED = 2023\n",
    "\n",
    "# For cost-saving purposes, choose a path to persist the responses for LLM calls\n",
    "CACHE_PATH = \"_cache.json\"\n",
    "EMBEDDINGS_CACHE_PATH = \"_embeddings_cache.json\"\n",
    "\n",
    "# To avoid re-running the scraping process, choose a path to save the scrapped docs\n",
    "SCRAPPED_DATA_PATH = \"mlflow_docs_scraped.csv\"\n",
    "\n",
    "# Choose a path to save the generated dataset\n",
    "OUTPUT_DF_PATH = \"question_answer_source.csv\""
   ]
  },
  {
   "cell_type": "code",
   "execution_count": 3,
   "metadata": {
    "application/vnd.databricks.v1+cell": {
     "cellMetadata": {
      "byteLimit": 2048000,
      "rowLimit": 10000
     },
     "inputWidgets": {},
     "nuid": "2ec8f724-0ed5-4313-a6d1-58daf2b0848b",
     "showTitle": true,
     "title": "Utility functions"
    }
   },
   "outputs": [],
   "source": [
    "cache = Cache(CACHE_PATH, chat_completion_create_fn)\n",
    "embeddings_cache = Cache(EMBEDDINGS_CACHE_PATH, embeddings_embed_documents_fn)"
   ]
  },
  {
   "cell_type": "markdown",
   "metadata": {
    "application/vnd.databricks.v1+cell": {
     "cellMetadata": {},
     "inputWidgets": {},
     "nuid": "db7d1074-b850-4318-9681-e0629a78682e",
     "showTitle": false,
     "title": ""
    }
   },
   "source": [
    "## Step 3: Decide on Chunk Size"
   ]
  },
  {
   "cell_type": "code",
   "execution_count": 4,
   "metadata": {
    "application/vnd.databricks.v1+cell": {
     "cellMetadata": {
      "byteLimit": 2048000,
      "rowLimit": 10000
     },
     "inputWidgets": {},
     "nuid": "b1ce021d-47f6-44e7-9626-4c2d69db10fe",
     "showTitle": false,
     "title": ""
    }
   },
   "outputs": [],
   "source": [
    "CHUNK_SIZE = 1500"
   ]
  },
  {
   "cell_type": "markdown",
   "metadata": {
    "application/vnd.databricks.v1+cell": {
     "cellMetadata": {},
     "inputWidgets": {},
     "nuid": "28cd0b69-59e7-42e1-b5d7-c4346c5ed898",
     "showTitle": false,
     "title": ""
    }
   },
   "source": [
    "## Step 4: Prepare Document Data"
   ]
  },
  {
   "cell_type": "markdown",
   "metadata": {},
   "source": [
    "### Scrape the documents from the MLflow website"
   ]
  },
  {
   "cell_type": "code",
   "execution_count": null,
   "metadata": {
    "application/vnd.databricks.v1+cell": {
     "cellMetadata": {},
     "inputWidgets": {},
     "nuid": "0e50b398-04be-4746-8bcc-0dcd6f413bce",
     "showTitle": false,
     "title": ""
    }
   },
   "outputs": [],
   "source": [
    "page = requests.get(\"https://mlflow.org/docs/latest/index.html\")\n",
    "soup = BeautifulSoup(page.content, \"html.parser\")\n",
    "\n",
    "mainLocation = \"https://mlflow.org/docs/latest/\"\n",
    "header = {\n",
    "    \"User-Agent\": \"Mozilla/5.0 (X11; Linux x86_64) AppleWebKit/537.11 (KHTML, like Gecko) Chrome/23.0.1271.64 Safari/537.11\",\n",
    "    \"Accept-Language\": \"en-US,en;q=0.8\",\n",
    "    \"Connection\": \"keep-alive\",\n",
    "}\n",
    "\n",
    "data = []\n",
    "for a_link in soup.find_all(\"a\"):\n",
    "    document_url = mainLocation + a_link[\"href\"]\n",
    "    page = requests.get(document_url, headers=header)\n",
    "    soup = BeautifulSoup(page.content, \"html.parser\")\n",
    "    file_to_store = a_link.get(\"href\")\n",
    "    if soup.find(\"div\", {\"class\": \"rst-content\"}):\n",
    "        data.append(\n",
    "            [\n",
    "                file_to_store,\n",
    "                soup.find(\"div\", {\"class\": \"rst-content\"}).text.replace(\"\\n\", \" \"),\n",
    "            ]\n",
    "        )\n",
    "\n",
    "df = pd.DataFrame(data, columns=[\"source\", \"text\"])"
   ]
  },
  {
   "cell_type": "code",
   "execution_count": 5,
   "metadata": {
    "application/vnd.databricks.v1+cell": {
     "cellMetadata": {
      "byteLimit": 2048000,
      "rowLimit": 10000
     },
     "inputWidgets": {},
     "nuid": "d6661fd5-8920-4801-a6af-388191b2a28e",
     "showTitle": false,
     "title": ""
    }
   },
   "outputs": [],
   "source": [
    "df.to_csv(SCRAPPED_DATA_PATH, index=False)\n",
    "df = pd.read_csv(SCRAPPED_DATA_PATH)"
   ]
  },
  {
   "cell_type": "markdown",
   "metadata": {},
   "source": [
    "### Select a subset of the documents and split them into chunks"
   ]
  },
  {
   "cell_type": "code",
   "execution_count": 6,
   "metadata": {
    "application/vnd.databricks.v1+cell": {
     "cellMetadata": {
      "byteLimit": 2048000,
      "rowLimit": 10000
     },
     "inputWidgets": {},
     "nuid": "49f3aaa3-ef58-4da1-9689-62d52bcf3a2b",
     "showTitle": false,
     "title": ""
    }
   },
   "outputs": [
    {
     "data": {
      "text/html": [
       "<div>\n",
       "<style scoped>\n",
       "    .dataframe tbody tr th:only-of-type {\n",
       "        vertical-align: middle;\n",
       "    }\n",
       "\n",
       "    .dataframe tbody tr th {\n",
       "        vertical-align: top;\n",
       "    }\n",
       "\n",
       "    .dataframe thead th {\n",
       "        text-align: right;\n",
       "    }\n",
       "</style>\n",
       "<table border=\"1\" class=\"dataframe\">\n",
       "  <thead>\n",
       "    <tr style=\"text-align: right;\">\n",
       "      <th></th>\n",
       "      <th>chunk</th>\n",
       "      <th>source</th>\n",
       "      <th>chunk_index</th>\n",
       "    </tr>\n",
       "  </thead>\n",
       "  <tbody>\n",
       "    <tr>\n",
       "      <th>0</th>\n",
       "      <td>Documentation MLflow Tracking MLflow Tracking ...</td>\n",
       "      <td>tracking.html</td>\n",
       "      <td>0</td>\n",
       "    </tr>\n",
       "    <tr>\n",
       "      <th>1</th>\n",
       "      <td>Tags Concepts MLflow Tracking is organized aro...</td>\n",
       "      <td>tracking.html</td>\n",
       "      <td>1</td>\n",
       "    </tr>\n",
       "    <tr>\n",
       "      <th>2</th>\n",
       "      <td>runs into experiments, which group together ru...</td>\n",
       "      <td>tracking.html</td>\n",
       "      <td>2</td>\n",
       "    </tr>\n",
       "  </tbody>\n",
       "</table>\n",
       "</div>"
      ],
      "text/plain": [
       "                                               chunk         source  \\\n",
       "0  Documentation MLflow Tracking MLflow Tracking ...  tracking.html   \n",
       "1  Tags Concepts MLflow Tracking is organized aro...  tracking.html   \n",
       "2  runs into experiments, which group together ru...  tracking.html   \n",
       "\n",
       "  chunk_index  \n",
       "0           0  \n",
       "1           1  \n",
       "2           2  "
      ]
     },
     "execution_count": 6,
     "metadata": {},
     "output_type": "execute_result"
    }
   ],
   "source": [
    "# For demonstration purposes, let's pick 5 popular MLflow documantation pages from the dataset\n",
    "mask = df[\"source\"].isin(\n",
    "    {\n",
    "        \"tracking.html\",\n",
    "        \"models.html\",\n",
    "        \"model-registry.html\",\n",
    "        \"search-runs.html\",\n",
    "        \"projects.html\",\n",
    "    }\n",
    ")\n",
    "sub_df = df[mask]\n",
    "\n",
    "# Split documents into chunks\n",
    "text_splitter = CharacterTextSplitter(chunk_size=CHUNK_SIZE, separator=\" \")\n",
    "\n",
    "\n",
    "def get_chunks(input_row):\n",
    "    new_rows = []\n",
    "    chunks = text_splitter.split_text(input_row[\"text\"])\n",
    "    for i, chunk in enumerate(chunks):\n",
    "        new_rows.append({\"chunk\": chunk, \"source\": input_row[\"source\"], \"chunk_index\": i})\n",
    "    return new_rows\n",
    "\n",
    "\n",
    "expanded_df = pd.DataFrame(columns=[\"chunk\", \"source\", \"chunk_index\"])\n",
    "\n",
    "for index, row in sub_df.iterrows():\n",
    "    new_rows = get_chunks(row)\n",
    "    expanded_df = pd.concat([expanded_df, pd.DataFrame(new_rows)], ignore_index=True)\n",
    "\n",
    "expanded_df.head(3)"
   ]
  },
  {
   "cell_type": "code",
   "execution_count": 7,
   "metadata": {
    "application/vnd.databricks.v1+cell": {
     "cellMetadata": {},
     "inputWidgets": {},
     "nuid": "eb1014bb-559b-4fde-8788-0a7c926adc4b",
     "showTitle": false,
     "title": ""
    }
   },
   "outputs": [
    {
     "data": {
      "text/html": [
       "<div>\n",
       "<style scoped>\n",
       "    .dataframe tbody tr th:only-of-type {\n",
       "        vertical-align: middle;\n",
       "    }\n",
       "\n",
       "    .dataframe tbody tr th {\n",
       "        vertical-align: top;\n",
       "    }\n",
       "\n",
       "    .dataframe thead th {\n",
       "        text-align: right;\n",
       "    }\n",
       "</style>\n",
       "<table border=\"1\" class=\"dataframe\">\n",
       "  <thead>\n",
       "    <tr style=\"text-align: right;\">\n",
       "      <th></th>\n",
       "      <th>chunk</th>\n",
       "      <th>source</th>\n",
       "      <th>chunk_index</th>\n",
       "    </tr>\n",
       "  </thead>\n",
       "  <tbody>\n",
       "    <tr>\n",
       "      <th>0</th>\n",
       "      <td>Documentation MLflow Model Registry MLflow Mod...</td>\n",
       "      <td>model-registry.html</td>\n",
       "      <td>0</td>\n",
       "    </tr>\n",
       "    <tr>\n",
       "      <th>1</th>\n",
       "      <td>logged, this model can then be registered with...</td>\n",
       "      <td>model-registry.html</td>\n",
       "      <td>1</td>\n",
       "    </tr>\n",
       "    <tr>\n",
       "      <th>2</th>\n",
       "      <td>associate with registered models and model ver...</td>\n",
       "      <td>model-registry.html</td>\n",
       "      <td>2</td>\n",
       "    </tr>\n",
       "  </tbody>\n",
       "</table>\n",
       "</div>"
      ],
      "text/plain": [
       "                                               chunk               source  \\\n",
       "0  Documentation MLflow Model Registry MLflow Mod...  model-registry.html   \n",
       "1  logged, this model can then be registered with...  model-registry.html   \n",
       "2  associate with registered models and model ver...  model-registry.html   \n",
       "\n",
       "  chunk_index  \n",
       "0           0  \n",
       "1           1  \n",
       "2           2  "
      ]
     },
     "execution_count": 7,
     "metadata": {},
     "output_type": "execute_result"
    }
   ],
   "source": [
    "# For cost-saving purposes, let's pick the first 3 chunks from each doc\n",
    "# To generate questions with more chunks, change the start index and end index in iloc[]\n",
    "start, end = 0, 3\n",
    "filtered_df = (\n",
    "    expanded_df.groupby(\"source\").apply(lambda x: x.iloc[start:end]).reset_index(drop=True)\n",
    ")\n",
    "filtered_df.head(3)"
   ]
  },
  {
   "cell_type": "code",
   "execution_count": null,
   "metadata": {
    "application/vnd.databricks.v1+cell": {
     "cellMetadata": {},
     "inputWidgets": {},
     "nuid": "51be6fcc-2810-4f4f-9ddd-07746199e9ed",
     "showTitle": false,
     "title": ""
    }
   },
   "outputs": [
    {
     "data": {
      "text/plain": [
       "'Documentation MLflow Model Registry MLflow Model Registry The MLflow Model Registry component is a centralized model store, set of APIs, and UI, to collaboratively manage the full lifecycle of an MLflow Model. It provides model lineage (which MLflow experiment and run produced the model), model versioning, model aliasing, model tagging, and annotations. Table of Contents Concepts Model Registry Workflows UI Workflow Register a Model Find Registered Models Deploy and Organize Models API Workflow Adding an MLflow Model to the Model Registry Deploy and Organize Models with Aliases and Tags Fetching an MLflow Model from the Model Registry Serving an MLflow Model from Model Registry Promoting an MLflow Model across environments Adding or Updating an MLflow Model Descriptions Renaming an MLflow Model Listing and Searching MLflow Models Deleting MLflow Models Registering a Model Saved Outside MLflow Registering an Unsupported Machine Learning Model Transitioning an MLflow Model’s Stage Archiving an MLflow Model Concepts The Model Registry introduces a few concepts that describe and facilitate the full lifecycle of an MLflow Model. ModelAn MLflow Model is created from an experiment or run that is logged with one of the model flavor’s mlflow.<model_flavor>.log_model() methods. Once logged, this model can then be registered with the Model Registry. Registered ModelAn MLflow Model can be registered with the Model Registry. A registered model has a unique name, contains versions,'"
      ]
     },
     "execution_count": 14,
     "metadata": {},
     "output_type": "execute_result"
    }
   ],
   "source": [
    "filtered_df[\"chunk\"][0]"
   ]
  },
  {
   "cell_type": "markdown",
   "metadata": {
    "application/vnd.databricks.v1+cell": {
     "cellMetadata": {},
     "inputWidgets": {},
     "nuid": "fd2fac88-c82d-4d56-abd5-73abc951bd00",
     "showTitle": false,
     "title": ""
    }
   },
   "source": [
    "## Step 5: Generate questions\n",
    "\n",
    "The prompt below instructs the LLM to generate a question for each given chunk, and also generate an answer to the question to make it easier to do human validation. Also, return the results in a structured format.\n",
    "\n",
    "This example uses OpenAI's gpt-4o-mini model to generate the questions, you can replace it with the LLM that works best for your use case."
   ]
  },
  {
   "cell_type": "code",
   "execution_count": null,
   "metadata": {
    "application/vnd.databricks.v1+cell": {
     "cellMetadata": {
      "byteLimit": 2048000,
      "rowLimit": 10000
     },
     "inputWidgets": {},
     "nuid": "1d34bd7e-b982-44ba-83d9-ee8ab3adc34f",
     "showTitle": false,
     "title": ""
    }
   },
   "outputs": [],
   "source": [
    "def get_raw_response(content):\n",
    "    prompt = f\"\"\"Please generate a question asking for the key information in the given paragraph.\n",
    "    Also answer the questions using the information in the given paragraph.\n",
    "    Please ask the specific question instead of the general question, like\n",
    "    'What is the key information in the given paragraph?'.\n",
    "    Please generate the answer using as much information as possible.\n",
    "    If you are unable to answer it, please generate the answer as 'I don't know.'\n",
    "    The answer should be informative and should be more than 3 sentences.\n",
    "\n",
    "    Paragraph: {content}\n",
    "\n",
    "    Please call the submit_function function to submit the generated question and answer.\n",
    "    \"\"\"\n",
    "\n",
    "    messages = [{\"role\": \"user\", \"content\": prompt}]\n",
    "\n",
    "    submit_function = {\n",
    "        \"name\": \"submit_function\",\n",
    "        \"description\": \"Call this function to submit the generated question and answer.\",\n",
    "        \"parameters\": {\n",
    "            \"type\": \"object\",\n",
    "            \"properties\": {\n",
    "                \"question\": {\n",
    "                    \"type\": \"string\",\n",
    "                    \"description\": \"The question asking for the key information in the given paragraph.\",\n",
    "                },\n",
    "                \"answer\": {\n",
    "                    \"type\": \"string\",\n",
    "                    \"description\": \"The answer to the question using the information in the given paragraph.\",\n",
    "                },\n",
    "            },\n",
    "            \"required\": [\"question\", \"answer\"],\n",
    "        },\n",
    "    }\n",
    "\n",
    "    return cached_openai_ChatCompletion_create(\n",
    "        messages=messages,\n",
    "        model=\"gpt-4o-mini\",\n",
    "        functions=[submit_function],\n",
    "        function_call=\"auto\",\n",
    "        temperature=0.0,\n",
    "        seed=SEED,\n",
    "        cache=cache,\n",
    "    )\n",
    "\n",
    "\n",
    "def generate_question_answer(content):\n",
    "    if content is None or len(content) == 0:\n",
    "        return \"\", \"N/A\"\n",
    "\n",
    "    response = get_raw_response(content)\n",
    "    try:\n",
    "        func_args = json.loads(response[\"choices\"][0][\"message\"][\"function_call\"][\"arguments\"])\n",
    "        question = func_args[\"question\"]\n",
    "        answer = func_args[\"answer\"]\n",
    "        return question, answer\n",
    "    except Exception as e:\n",
    "        return str(e), \"N/A\""
   ]
  },
  {
   "cell_type": "code",
   "execution_count": null,
   "metadata": {
    "application/vnd.databricks.v1+cell": {
     "cellMetadata": {},
     "inputWidgets": {},
     "nuid": "fd2fac88-c82d-4d56-abd5-73abc951bd00",
     "showTitle": false,
     "title": ""
    }
   },
   "outputs": [],
   "source": [
    "queries = []"
   ]
  },
  {
   "cell_type": "code",
   "execution_count": null,
   "metadata": {
    "application/vnd.databricks.v1+cell": {
     "cellMetadata": {},
     "inputWidgets": {},
     "nuid": "4c592784-04ed-43e1-8c39-4716dd3605f9",
     "showTitle": false,
     "title": ""
    }
   },
   "outputs": [
    {
     "data": {
      "text/plain": [
       "{'id': 'chatcmpl-8NPsIJQZYDP4aqiWEUlUyLakv3lyR',\n",
       " 'object': 'chat.completion',\n",
       " 'created': 1700591698,\n",
       " 'model': 'gpt-3.5-turbo-0613',\n",
       " 'choices': [{'index': 0,\n",
       "   'message': {'role': 'assistant',\n",
       "    'content': None,\n",
       "    'function_call': {'name': 'submit_function',\n",
       "     'arguments': '{\\n  \"question\": \"What is the purpose of the MLflow Model Registry?\",\\n  \"answer\": \"The purpose of the MLflow Model Registry is to provide a centralized model store, set of APIs, and UI to collaboratively manage the full lifecycle of an MLflow Model. It allows for model lineage, versioning, aliasing, tagging, and annotations.\"\\n}'}},\n",
       "   'finish_reason': 'function_call'}],\n",
       " 'usage': {'prompt_tokens': 490, 'completion_tokens': 81, 'total_tokens': 571}}"
      ]
     },
     "execution_count": 18,
     "metadata": {},
     "output_type": "execute_result"
    }
   ],
   "source": [
    "get_raw_response(filtered_df[\"chunk\"][0])"
   ]
  },
  {
   "cell_type": "code",
   "execution_count": null,
   "metadata": {
    "application/vnd.databricks.v1+cell": {
     "cellMetadata": {
      "byteLimit": 2048000,
      "rowLimit": 10000
     },
     "inputWidgets": {},
     "nuid": "b88bd73d-222f-42c4-ada4-f251d40c2da2",
     "showTitle": false,
     "title": ""
    }
   },
   "outputs": [
    {
     "name": "stdout",
     "output_type": "stream",
     "text": [
      "Loaded from cache\n",
      "1/15: What is the purpose of the MLflow Model Registry?\n",
      "Loaded from cache\n",
      "2/15: What are the key features of a registered model in the Model Registry?\n",
      "Loaded from cache\n",
      "3/15: What can you do with tags in MLflow?\n",
      "Loaded from cache\n",
      "4/15: What is the purpose of an MLflow Model?\n",
      "Loaded from cache\n",
      "5/15: What are the flavors defined in the MLmodel file for the mlflow.sklearn library?\n",
      "Loaded from cache\n",
      "6/15: What are the fields that can be contained in the MLmodel YAML format?\n",
      "Loaded from cache\n",
      "7/15: What is an MLflow Project?\n",
      "Loaded from cache\n",
      "8/15: What can you specify for the entry points in a MLproject file?\n",
      "Loaded from cache\n",
      "9/15: What are the project environments supported by MLflow?\n",
      "Loaded from cache\n",
      "10/15: What does the MLflow UI and API support in terms of searching runs?\n",
      "Loaded from cache\n",
      "11/15: What are the key information in the given paragraph?\n",
      "12/15: What are some examples of entity names that contain special characters?\n",
      "13/15: What is the purpose of MLflow Tracking?\n",
      "14/15: What information does each run record in MLflow Tracking?\n",
      "15/15: How can you create an experiment in MLflow?\n"
     ]
    }
   ],
   "source": [
    "# The requests sometimes get ratelimited, you can re-execute this cell without losing the existing results.\n",
    "n = len(filtered_df)\n",
    "for i, row in filtered_df.iterrows():\n",
    "    chunk = row[\"chunk\"]\n",
    "    question, answer = generate_question_answer(chunk)\n",
    "    print(f\"{i+1}/{n}: {question}\")\n",
    "    queries.append(\n",
    "        {\n",
    "            \"question\": question,\n",
    "            \"answer\": answer,\n",
    "            \"chunk\": chunk,\n",
    "            \"chunk_id\": row[\"chunk_index\"],\n",
    "            \"source\": row[\"source\"],\n",
    "        }\n",
    "    )"
   ]
  },
  {
   "cell_type": "markdown",
   "metadata": {
    "application/vnd.databricks.v1+cell": {
     "cellMetadata": {},
     "inputWidgets": {},
     "nuid": "eca136f3-b6dc-41c1-a195-08653ccc349d",
     "showTitle": false,
     "title": ""
    }
   },
   "source": [
    "Sometimes, the LLM may fail to generate a question. We can examine the data above to see whether there are any errors. If so, remove the error records."
   ]
  },
  {
   "cell_type": "code",
   "execution_count": null,
   "metadata": {
    "application/vnd.databricks.v1+cell": {
     "cellMetadata": {
      "byteLimit": 2048000,
      "rowLimit": 10000
     },
     "inputWidgets": {},
     "nuid": "f3c60e95-2bfa-4724-b2d2-27415f4d6d2b",
     "showTitle": false,
     "title": ""
    }
   },
   "outputs": [],
   "source": [
    "result_df = pd.DataFrame(queries)\n",
    "result_df = result_df[result_df[\"answer\"] != \"N/A\"]"
   ]
  },
  {
   "cell_type": "code",
   "execution_count": 10,
   "metadata": {
    "application/vnd.databricks.v1+cell": {
     "cellMetadata": {},
     "inputWidgets": {},
     "nuid": "eca136f3-b6dc-41c1-a195-08653ccc349d",
     "showTitle": false,
     "title": ""
    }
   },
   "outputs": [],
   "source": [
    "def add_to_output_df(result_df=pd.DataFrame({})):\n",
    "    \"\"\"\n",
    "    This function adds the records in result_df to the existing records saved at OUTPUT_DF_PATH,\n",
    "    remove the duplicate rows and save the new collection of records back to OUTPUT_DF_PATH.\n",
    "    \"\"\"\n",
    "    if os.path.exists(OUTPUT_DF_PATH):\n",
    "        all_result_df = pd.read_csv(OUTPUT_DF_PATH)\n",
    "    else:\n",
    "        all_result_df = pd.DataFrame({})\n",
    "    all_result_df = (\n",
    "        pd.concat([all_result_df, result_df], ignore_index=True)\n",
    "        .drop_duplicates()\n",
    "        .sort_values(by=[\"source\", \"chunk_id\"])\n",
    "        .reset_index(drop=True)\n",
    "    )\n",
    "    all_result_df.to_csv(OUTPUT_DF_PATH, index=False)\n",
    "    return all_result_df"
   ]
  },
  {
   "cell_type": "code",
   "execution_count": 11,
   "metadata": {
    "application/vnd.databricks.v1+cell": {
     "cellMetadata": {},
     "inputWidgets": {},
     "nuid": "3e43973e-89c5-4ada-9bd6-e61c7ff12ad9",
     "showTitle": false,
     "title": ""
    }
   },
   "outputs": [],
   "source": [
    "all_result_df = add_to_output_df(result_df)"
   ]
  },
  {
   "cell_type": "code",
   "execution_count": 12,
   "metadata": {
    "application/vnd.databricks.v1+cell": {
     "cellMetadata": {},
     "inputWidgets": {},
     "nuid": "ff0c5fbb-4701-493c-a4e8-df0b7a009b46",
     "showTitle": false,
     "title": ""
    }
   },
   "outputs": [
    {
     "data": {
      "text/html": [
       "<div>\n",
       "<style scoped>\n",
       "    .dataframe tbody tr th:only-of-type {\n",
       "        vertical-align: middle;\n",
       "    }\n",
       "\n",
       "    .dataframe tbody tr th {\n",
       "        vertical-align: top;\n",
       "    }\n",
       "\n",
       "    .dataframe thead th {\n",
       "        text-align: right;\n",
       "    }\n",
       "</style>\n",
       "<table border=\"1\" class=\"dataframe\">\n",
       "  <thead>\n",
       "    <tr style=\"text-align: right;\">\n",
       "      <th></th>\n",
       "      <th>question</th>\n",
       "      <th>answer</th>\n",
       "      <th>chunk</th>\n",
       "      <th>chunk_id</th>\n",
       "      <th>source</th>\n",
       "    </tr>\n",
       "  </thead>\n",
       "  <tbody>\n",
       "    <tr>\n",
       "      <th>0</th>\n",
       "      <td>What is the purpose of the MLflow Model Registry?</td>\n",
       "      <td>The purpose of the MLflow Model Registry is to...</td>\n",
       "      <td>Documentation MLflow Model Registry MLflow Mod...</td>\n",
       "      <td>0</td>\n",
       "      <td>model-registry.html</td>\n",
       "    </tr>\n",
       "    <tr>\n",
       "      <th>1</th>\n",
       "      <td>What is the purpose of registering a model wit...</td>\n",
       "      <td>The purpose of registering a model with the Mo...</td>\n",
       "      <td>logged, this model can then be registered with...</td>\n",
       "      <td>1</td>\n",
       "      <td>model-registry.html</td>\n",
       "    </tr>\n",
       "    <tr>\n",
       "      <th>2</th>\n",
       "      <td>What can you do with registered models and mod...</td>\n",
       "      <td>With registered models and model versions, you...</td>\n",
       "      <td>associate with registered models and model ver...</td>\n",
       "      <td>2</td>\n",
       "      <td>model-registry.html</td>\n",
       "    </tr>\n",
       "  </tbody>\n",
       "</table>\n",
       "</div>"
      ],
      "text/plain": [
       "                                            question  \\\n",
       "0  What is the purpose of the MLflow Model Registry?   \n",
       "1  What is the purpose of registering a model wit...   \n",
       "2  What can you do with registered models and mod...   \n",
       "\n",
       "                                              answer  \\\n",
       "0  The purpose of the MLflow Model Registry is to...   \n",
       "1  The purpose of registering a model with the Mo...   \n",
       "2  With registered models and model versions, you...   \n",
       "\n",
       "                                               chunk  chunk_id  \\\n",
       "0  Documentation MLflow Model Registry MLflow Mod...         0   \n",
       "1  logged, this model can then be registered with...         1   \n",
       "2  associate with registered models and model ver...         2   \n",
       "\n",
       "                source  \n",
       "0  model-registry.html  \n",
       "1  model-registry.html  \n",
       "2  model-registry.html  "
      ]
     },
     "execution_count": 12,
     "metadata": {},
     "output_type": "execute_result"
    }
   ],
   "source": [
    "all_result_df.head(3)"
   ]
  },
  {
   "cell_type": "markdown",
   "metadata": {
    "application/vnd.databricks.v1+cell": {
     "cellMetadata": {},
     "inputWidgets": {},
     "nuid": "03138482-c22e-4e05-ac15-f860544f1d87",
     "showTitle": false,
     "title": ""
    }
   },
   "source": [
    "## Quality Analysis of Questions Generated (Optional)\n",
    "\n",
    "If you would like to compare quality of questions generated across different prompts, we can\n",
    "analyze the quality of questions manually and in aggregate. We want to evaluate questions \n",
    "along two dimensions - their diversity and relevance.\n",
    "\n",
    "https://github.com/mlflow/mlflow/blob/master/examples/llms/question_generation/question_answer_source.csv is a pre-generated dataset with 56 questions. You can download it and specify the path with `OUTPUT_DF_PATH`, and load it to run the rest of the notebook if you want to jump to this section.\n",
    "\n",
    "Note: There isn't a well-defined way to analyze the quality of generated questions, so this is just one approach you can take to gain insight into how diverse and relevant your generated questions are."
   ]
  },
  {
   "cell_type": "code",
   "execution_count": 14,
   "metadata": {
    "application/vnd.databricks.v1+cell": {
     "cellMetadata": {
      "byteLimit": 2048000,
      "rowLimit": 10000
     },
     "inputWidgets": {},
     "nuid": "1be8e728-bfed-4522-8151-5faa9a0c1b92",
     "showTitle": false,
     "title": ""
    }
   },
   "outputs": [],
   "source": [
    "all_result_df = add_to_output_df()"
   ]
  },
  {
   "cell_type": "markdown",
   "metadata": {
    "application/vnd.databricks.v1+cell": {
     "cellMetadata": {},
     "inputWidgets": {},
     "nuid": "03138482-c22e-4e05-ac15-f860544f1d87",
     "showTitle": false,
     "title": ""
    }
   },
   "source": [
    "### Evaluating Diversity of Questions\n",
    "\n",
    "Diversity of questions is important because we want questions to cover the majority of the\n",
    "document content. In addition, we want to be able to evaluate the retriever with different \n",
    "forms of questioning. We want to be able to have harder questions and easier questions. All\n",
    "of these are not straightforward to analyze, and we decided to analyze its through question\n",
    "length and latent space embeddings."
   ]
  },
  {
   "cell_type": "markdown",
   "metadata": {
    "application/vnd.databricks.v1+cell": {
     "cellMetadata": {},
     "inputWidgets": {},
     "nuid": "f9f3e4b3-4988-4570-a687-e762c6bac202",
     "showTitle": false,
     "title": ""
    }
   },
   "source": [
    "#### Length\n",
    "\n",
    "Length gives a sense of how diverse the questions are. Some questions may be wordy while\n",
    "others are straight to the point. It also allows us to identify problems with the question\n",
    "generated."
   ]
  },
  {
   "cell_type": "code",
   "execution_count": null,
   "metadata": {
    "application/vnd.databricks.v1+cell": {
     "cellMetadata": {},
     "inputWidgets": {},
     "nuid": "5df96390-b4db-4c47-8e80-34d0a1f404a7",
     "showTitle": false,
     "title": ""
    }
   },
   "outputs": [
    {
     "data": {
      "image/png": "[encoded data removed]",
      "text/plain": [
       "<Figure size 640x480 with 1 Axes>"
      ]
     },
     "metadata": {},
     "output_type": "display_data"
    }
   ],
   "source": [
    "# Length\n",
    "questions = all_result_df[\"question\"].to_list()\n",
    "question_len = pd.DataFrame([len(q) for q in questions], columns=[\"length\"])\n",
    "question_len.hist(bins=5)\n",
    "plt.title(\"Histogram of Question Lengths\")\n",
    "plt.xlabel(\"Question Length\")\n",
    "plt.ylabel(\"Frequency\")\n",
    "plt.show()"
   ]
  },
  {
   "cell_type": "markdown",
   "metadata": {
    "application/vnd.databricks.v1+cell": {
     "cellMetadata": {},
     "inputWidgets": {},
     "nuid": "f9f3e4b3-4988-4570-a687-e762c6bac202",
     "showTitle": false,
     "title": ""
    }
   },
   "source": [
    "In addition to visual representation, we also want to look at more concrete percentile values.\n"
   ]
  },
  {
   "cell_type": "code",
   "execution_count": null,
   "metadata": {
    "application/vnd.databricks.v1+cell": {
     "cellMetadata": {
      "byteLimit": 2048000,
      "rowLimit": 10000
     },
     "inputWidgets": {},
     "nuid": "d31fbb55-0504-4f14-aeb5-5e48912f3275",
     "showTitle": false,
     "title": ""
    }
   },
   "outputs": [
    {
     "name": "stdout",
     "output_type": "stream",
     "text": [
      "p10-p90 range is 46\n"
     ]
    }
   ],
   "source": [
    "# Calculating percentile values\n",
    "p10 = int(question_len[\"length\"].quantile(0.10))\n",
    "p90 = int(question_len[\"length\"].quantile(0.90))\n",
    "print(\"p10-p90 range is\", p90 - p10)"
   ]
  },
  {
   "cell_type": "markdown",
   "metadata": {
    "application/vnd.databricks.v1+cell": {
     "cellMetadata": {},
     "inputWidgets": {},
     "nuid": "9d6f9401-ed13-4a2e-9336-2ae0bc031a5f",
     "showTitle": false,
     "title": ""
    }
   },
   "source": [
    "There are also a couple queries that are longer than normal. However, these seem fine."
   ]
  },
  {
   "cell_type": "code",
   "execution_count": null,
   "metadata": {
    "application/vnd.databricks.v1+cell": {
     "cellMetadata": {
      "byteLimit": 2048000,
      "rowLimit": 10000
     },
     "inputWidgets": {},
     "nuid": "40808ff8-d227-427a-89ae-beeac614dfa0",
     "showTitle": false,
     "title": ""
    }
   },
   "outputs": [
    {
     "data": {
      "text/plain": [
       "['What is a common configuration for lowering the total memory pressure for pytorch models within transformers pipelines?',\n",
       " 'How can you get all active runs from experiments IDs 3, 4, and 17 that used a CNN model with 10 layers and had a prediction accuracy of 94.5% or higher?',\n",
       " 'What interfaces does the MLflow client use to record MLflow entities and artifacts when running MLflow on a local machine with a SQLAlchemy-compatible database?']"
      ]
     },
     "execution_count": 29,
     "metadata": {},
     "output_type": "execute_result"
    }
   ],
   "source": [
    "[q for q in questions if len(q) > 100]"
   ]
  },
  {
   "cell_type": "markdown",
   "metadata": {
    "application/vnd.databricks.v1+cell": {
     "cellMetadata": {},
     "inputWidgets": {},
     "nuid": "37cc6a27-434b-47b5-906a-b8b0f42e8fc8",
     "showTitle": false,
     "title": ""
    }
   },
   "source": [
    "#### Latent Space\n",
    "\n",
    "Latent space embeddings contain semantic information about the question. This can be used to \n",
    "evaluate the diversity and the difference between two questions semantically. To do so, we will need to map the\n",
    "high dimensional space to a lower dimensional space. We utilize PCA and TSNE to map the embeddings \n",
    "into a 2-dimensional space for visualization."
   ]
  },
  {
   "cell_type": "markdown",
   "metadata": {
    "application/vnd.databricks.v1+cell": {
     "cellMetadata": {},
     "inputWidgets": {},
     "nuid": "0f056942-595a-46d1-9b69-c5efa08aa5f3",
     "showTitle": false,
     "title": ""
    }
   },
   "source": [
    "We append 5 benchmark queries to help visualize how diverse the questions are. The first four of these questions are semantically similar and all asking about MLflow, while the last is different and asks about RAG."
   ]
  },
  {
   "cell_type": "code",
   "execution_count": null,
   "metadata": {
    "application/vnd.databricks.v1+cell": {
     "cellMetadata": {},
     "inputWidgets": {},
     "nuid": "e6c43c4e-2b9a-4071-bce8-be87c2484383",
     "showTitle": false,
     "title": ""
    }
   },
   "outputs": [],
   "source": [
    "benchmark_questions = [\n",
    "    \"What is MLflow?\",\n",
    "    \"What is MLflow about?\",\n",
    "    \"What is MLflow Tracking?\",\n",
    "    \"What is MLflow Evaluation?\",\n",
    "    \"Why is RAG so popular?\",\n",
    "]\n",
    "questions_to_embed = questions + benchmark_questions"
   ]
  },
  {
   "cell_type": "markdown",
   "metadata": {
    "application/vnd.databricks.v1+cell": {
     "cellMetadata": {},
     "inputWidgets": {},
     "nuid": "0f056942-595a-46d1-9b69-c5efa08aa5f3",
     "showTitle": false,
     "title": ""
    }
   },
   "source": [
    "We apply PCA to reduce the embedding dimensions to 10 before applying TSNE to reduce it to 2 dimensions, as recommended by sklearn due to the computational complexity of TSNE."
   ]
  },
  {
   "cell_type": "code",
   "execution_count": null,
   "metadata": {
    "application/vnd.databricks.v1+cell": {
     "cellMetadata": {
      "byteLimit": 2048000,
      "rowLimit": 10000
     },
     "inputWidgets": {},
     "nuid": "5c9aa32e-8168-417d-89f1-5fdf65e91491",
     "showTitle": false,
     "title": ""
    }
   },
   "outputs": [],
   "source": [
    "# Apply embeddings\n",
    "embeddings = OpenAIEmbeddings()\n",
    "question_embeddings = embeddings.embed_documents(questions_to_embed)\n",
    "# PCA on embeddings to reduce to 10-dim\n",
    "pca = PCA(n_components=10)\n",
    "question_embeddings_reduced = pca.fit_transform(question_embeddings)\n",
    "# TSNE on embeddings to reduce to 2-dim\n",
    "tsne = TSNE(n_components=2, random_state=SEED)\n",
    "lower_dim_embeddings = tsne.fit_transform(question_embeddings_reduced)"
   ]
  },
  {
   "cell_type": "markdown",
   "metadata": {
    "application/vnd.databricks.v1+cell": {
     "cellMetadata": {},
     "inputWidgets": {},
     "nuid": "3c772b11-337b-4d0e-99f3-86a79158c686",
     "showTitle": false,
     "title": ""
    }
   },
   "source": [
    "Now that we have 2-dimensional embeddings representing the semantics of the question, we can visualize it with a scatter plot, differentiating the generated questions and the benchmark questions."
   ]
  },
  {
   "cell_type": "code",
   "execution_count": null,
   "metadata": {
    "application/vnd.databricks.v1+cell": {
     "cellMetadata": {
      "byteLimit": 2048000,
      "rowLimit": 10000
     },
     "inputWidgets": {},
     "nuid": "ea3260ed-c69a-4de1-901d-7855554e4e1b",
     "showTitle": false,
     "title": ""
    }
   },
   "outputs": [
    {
     "data": {
      "image/png": "[encoded data removed]",
      "text/plain": [
       "<Figure size 640x480 with 1 Axes>"
      ]
     },
     "metadata": {},
     "output_type": "display_data"
    }
   ],
   "source": [
    "labels = np.concatenate(\n",
    "    [\n",
    "        np.full(len(lower_dim_embeddings) - len(benchmark_questions), \"generated\"),\n",
    "        np.full(len(benchmark_questions), \"benchmark\"),\n",
    "    ]\n",
    ")\n",
    "data = pd.DataFrame(\n",
    "    {\"x\": lower_dim_embeddings[:, 0], \"y\": lower_dim_embeddings[:, 1], \"label\": labels}\n",
    ")\n",
    "sns.scatterplot(data=data, x=\"x\", y=\"y\", hue=\"label\")"
   ]
  },
  {
   "cell_type": "markdown",
   "metadata": {
    "application/vnd.databricks.v1+cell": {
     "cellMetadata": {},
     "inputWidgets": {},
     "nuid": "44cc8950-679d-4d65-ad43-0c18cd46c8bc",
     "showTitle": false,
     "title": ""
    }
   },
   "source": [
    "Observe that within the orange points on the scatter plot, there is one point that is further than the others. That is the unique benchmark question about RAG. This plot gives a sense of the diversity of the questions generated."
   ]
  },
  {
   "cell_type": "markdown",
   "metadata": {
    "application/vnd.databricks.v1+cell": {
     "cellMetadata": {},
     "inputWidgets": {},
     "nuid": "927a179b-1cf0-49fe-a195-34182d7f4fd1",
     "showTitle": false,
     "title": ""
    }
   },
   "source": [
    "### Evaluate Document Relevance\n",
    "\n",
    "Another important axis to consider is how relevant the questions are to the document we provided. We want to understand whether the questions generated by the LLM is actually referring to our provided text, or whether it is hallucinating irrelevant questions. We will evaluate relevance by first manually checking certain questions against their document chunk. Then, we define a measure of relevance to analyze it quantitatively."
   ]
  },
  {
   "cell_type": "markdown",
   "metadata": {
    "application/vnd.databricks.v1+cell": {
     "cellMetadata": {},
     "inputWidgets": {},
     "nuid": "3a2c0588-8695-4703-a4fd-d7f53e463ce8",
     "showTitle": false,
     "title": ""
    }
   },
   "source": [
    "#### Manual Checking of Document Relevance\n",
    "\n",
    "Manual qualitative check of whether the questions are relevant to the document."
   ]
  },
  {
   "cell_type": "code",
   "execution_count": null,
   "metadata": {
    "application/vnd.databricks.v1+cell": {
     "cellMetadata": {},
     "inputWidgets": {},
     "nuid": "927a179b-1cf0-49fe-a195-34182d7f4fd1",
     "showTitle": false,
     "title": ""
    }
   },
   "outputs": [
    {
     "data": {
      "text/html": [
       "<div>\n",
       "<style scoped>\n",
       "    .dataframe tbody tr th:only-of-type {\n",
       "        vertical-align: middle;\n",
       "    }\n",
       "\n",
       "    .dataframe tbody tr th {\n",
       "        vertical-align: top;\n",
       "    }\n",
       "\n",
       "    .dataframe thead th {\n",
       "        text-align: right;\n",
       "    }\n",
       "</style>\n",
       "<table border=\"1\" class=\"dataframe\">\n",
       "  <thead>\n",
       "    <tr style=\"text-align: right;\">\n",
       "      <th></th>\n",
       "      <th>question</th>\n",
       "      <th>answer</th>\n",
       "      <th>chunk</th>\n",
       "      <th>chunk_id</th>\n",
       "      <th>source</th>\n",
       "    </tr>\n",
       "  </thead>\n",
       "  <tbody>\n",
       "    <tr>\n",
       "      <th>27</th>\n",
       "      <td>What is an MLflow Project?</td>\n",
       "      <td>An MLflow Project is a format for packaging da...</td>\n",
       "      <td>Documentation MLflow Projects MLflow Projects ...</td>\n",
       "      <td>0</td>\n",
       "      <td>projects.html</td>\n",
       "    </tr>\n",
       "    <tr>\n",
       "      <th>54</th>\n",
       "      <td>What information does autologging capture when...</td>\n",
       "      <td>Autologging captures the following information...</td>\n",
       "      <td>when launching short-lived MLflow runs that re...</td>\n",
       "      <td>21</td>\n",
       "      <td>tracking.html</td>\n",
       "    </tr>\n",
       "    <tr>\n",
       "      <th>38</th>\n",
       "      <td>What is the syntax for searching runs using th...</td>\n",
       "      <td>The syntax for searching runs using the MLflow...</td>\n",
       "      <td>Documentation Search Runs Search Runs The MLfl...</td>\n",
       "      <td>0</td>\n",
       "      <td>search-runs.html</td>\n",
       "    </tr>\n",
       "  </tbody>\n",
       "</table>\n",
       "</div>"
      ],
      "text/plain": [
       "                                             question  \\\n",
       "27                         What is an MLflow Project?   \n",
       "54  What information does autologging capture when...   \n",
       "38  What is the syntax for searching runs using th...   \n",
       "\n",
       "                                               answer  \\\n",
       "27  An MLflow Project is a format for packaging da...   \n",
       "54  Autologging captures the following information...   \n",
       "38  The syntax for searching runs using the MLflow...   \n",
       "\n",
       "                                                chunk  chunk_id  \\\n",
       "27  Documentation MLflow Projects MLflow Projects ...         0   \n",
       "54  when launching short-lived MLflow runs that re...        21   \n",
       "38  Documentation Search Runs Search Runs The MLfl...         0   \n",
       "\n",
       "              source  \n",
       "27     projects.html  \n",
       "54     tracking.html  \n",
       "38  search-runs.html  "
      ]
     },
     "metadata": {},
     "output_type": "display_data"
    }
   ],
   "source": [
    "all_result_df.sample(3)"
   ]
  },
  {
   "cell_type": "markdown",
   "metadata": {},
   "source": [
    "#### Embeddings Cosine Similarity\n",
    "\n",
    "The embedding of the chunk and query is placed in the same latent space, and the retriever model would extract similar chunk embeddings to a query embedding. Hence, relevance for the retriever is defined by the distance of embeddings in this latent space.\n",
    "\n",
    "Cosine similarity is a measure of vector similarity, and can be used to determine the distance of embeddings between the chunk and the query. It is a distance metric that approaches 1 when the question and chunk are similar, and becomes 0 when they are different.\n",
    "\n",
    "We can use the cosine similarity score directly to measure the relevancy."
   ]
  },
  {
   "cell_type": "code",
   "execution_count": null,
   "metadata": {},
   "outputs": [],
   "source": [
    "embedded_queries = all_result_df.copy()\n",
    "embedded_queries[\"chunk_emb\"] = all_result_df[\"chunk\"].apply(\n",
    "    lambda x: np.squeeze(cached_langchain_openai_embeddings(chunk=x, cache=embeddings_cache))\n",
    ")\n",
    "embedded_queries[\"question_emb\"] = all_result_df[\"question\"].apply(\n",
    "    lambda x: np.squeeze(cached_langchain_openai_embeddings(chunk=x, cache=embeddings_cache))\n",
    ")"
   ]
  },
  {
   "cell_type": "code",
   "execution_count": null,
   "metadata": {
    "application/vnd.databricks.v1+cell": {
     "cellMetadata": {
      "byteLimit": 2048000,
      "rowLimit": 10000
     },
     "inputWidgets": {},
     "nuid": "51196872-7bde-46a6-9169-49126dd374b3",
     "showTitle": false,
     "title": ""
    }
   },
   "outputs": [],
   "source": [
    "def cossim(x, y):\n",
    "    return np.dot(x, y) / (np.linalg.norm(x) * np.linalg.norm(y))\n",
    "\n",
    "\n",
    "embedded_queries[\"cossim\"] = embedded_queries.apply(\n",
    "    lambda row: cossim(row[\"question_emb\"], row[\"chunk_emb\"]), axis=1\n",
    ")"
   ]
  },
  {
   "cell_type": "markdown",
   "metadata": {
    "application/vnd.databricks.v1+cell": {
     "cellMetadata": {},
     "inputWidgets": {},
     "nuid": "ff7ea2dd-252f-45f4-b50b-951ecdb45f03",
     "showTitle": false,
     "title": ""
    }
   },
   "source": [
    "After we score each question by its relative relevancy, we can evaluate the generated questions as a whole."
   ]
  },
  {
   "cell_type": "code",
   "execution_count": null,
   "metadata": {
    "application/vnd.databricks.v1+cell": {
     "cellMetadata": {
      "byteLimit": 2048000,
      "rowLimit": 10000
     },
     "inputWidgets": {},
     "nuid": "972da253-3fa2-490f-9712-ecfcc8630463",
     "showTitle": false,
     "title": ""
    }
   },
   "outputs": [
    {
     "data": {
      "text/plain": [
       "(array([ 1.,  8., 15., 20., 12.]),\n",
       " array([0.72730601, 0.76292693, 0.79854785, 0.83416876, 0.86978968,\n",
       "        0.9054106 ]),\n",
       " <BarContainer object of 5 artists>)"
      ]
     },
     "execution_count": 59,
     "metadata": {},
     "output_type": "execute_result"
    },
    {
     "data": {
      "image/png": "[encoded data removed]",
      "text/plain": [
       "<Figure size 640x480 with 1 Axes>"
      ]
     },
     "metadata": {},
     "output_type": "display_data"
    }
   ],
   "source": [
    "scores = embedded_queries[\"cossim\"].to_list()\n",
    "plt.hist(scores, bins=5)"
   ]
  },
  {
   "cell_type": "markdown",
   "metadata": {
    "application/vnd.databricks.v1+cell": {
     "cellMetadata": {},
     "inputWidgets": {},
     "nuid": "ff7ea2dd-252f-45f4-b50b-951ecdb45f03",
     "showTitle": false,
     "title": ""
    }
   },
   "source": [
    "There are a couple lower scores. Let's take a look at them."
   ]
  },
  {
   "cell_type": "code",
   "execution_count": null,
   "metadata": {
    "application/vnd.databricks.v1+cell": {
     "cellMetadata": {
      "byteLimit": 2048000,
      "rowLimit": 10000
     },
     "inputWidgets": {},
     "nuid": "410503c4-49a8-44d0-88ea-2f2075534a36",
     "showTitle": false,
     "title": ""
    }
   },
   "outputs": [
    {
     "name": "stdout",
     "output_type": "stream",
     "text": [
      "Question: 45\n",
      "What is the purpose of the 'experimentIds' variable in the given paragraph?\n",
      "Chunk:\n",
      "API. List<Long> experimentIds = Arrays.asList(\"1\", \"2\", \"4\", \"8\"); List<RunInfo> searchResult = client.searchRuns(experimentIds, \"metrics.accuracy_score < 99.90\"); Previous Next © MLflow Project, a Series of LF Projects, LLC. All rights reserved.\n",
      "cossim:\n",
      "0.7273060141018568\n"
     ]
    }
   ],
   "source": [
    "mask = embedded_queries[\"cossim\"] < 0.75\n",
    "lower_cossim = embedded_queries[mask]\n",
    "for i, row in lower_cossim.iterrows():\n",
    "    print(f\"Question: {i}\")\n",
    "    print(row[\"question\"])\n",
    "    print(\"Chunk:\")\n",
    "    print(row[\"chunk\"])\n",
    "    print(\"cossim:\")\n",
    "    print(row[\"cossim\"])"
   ]
  },
  {
   "cell_type": "markdown",
   "metadata": {
    "application/vnd.databricks.v1+cell": {
     "cellMetadata": {},
     "inputWidgets": {},
     "nuid": "c91cb46d-e3c0-4478-9a67-14d380fcd40a",
     "showTitle": false,
     "title": ""
    }
   },
   "source": [
    "Manual inspection of these less relevant questions reveals that some chunks are less informative or mainly consists of code, hence the generated question might be less useful. You can choose to filter these as desired."
   ]
  }
 ],
 "metadata": {
  "application/vnd.databricks.v1+notebook": {
   "dashboards": [],
   "language": "python",
   "notebookMetadata": {
    "pythonIndentUnit": 4
   },
   "notebookName": "question-generation-retrieval-evaluation",
   "widgets": {}
  },
  "kernelspec": {
   "display_name": "Python 3 (ipykernel)",
   "language": "python",
   "name": "python3"
  },
  "language_info": {
   "codemirror_mode": {
    "name": "ipython",
    "version": 3
   },
   "file_extension": ".py",
   "mimetype": "text/x-python",
   "name": "python",
   "nbconvert_exporter": "python",
   "pygments_lexer": "ipython3",
   "version": "3.8.17"
  }
 },
 "nbformat": 4,
 "nbformat_minor": 4
}
