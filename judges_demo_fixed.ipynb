{
 "cells": [
  {
   "cell_type": "markdown",
   "metadata": {},
   "source": [
    "# MLflow Judges Feature Demo\n",
    "\n",
    "This notebook demonstrates the complete MLflow Judges workflow including:\n",
    "1. Setting up an MLflow tracking server\n",
    "2. Creating a simple chat bot with tracing\n",
    "3. Providing human feedback on traces\n",
    "4. Creating and registering judges\n",
    "5. Running evaluations\n",
    "6. Aligning judges based on feedback\n",
    "7. Re-evaluating with aligned judges"
   ]
  },
  {
   "cell_type": "markdown",
   "metadata": {},
   "source": [
    "## Prerequisites\n",
    "\n",
    "Before running this notebook, start the MLflow tracking server in a terminal:\n",
    "\n",
    "```bash\n",
    "# Terminal 1: Start MLflow tracking server\n",
    "rm -f demo_mlflow.db  # Start fresh\n",
    "uv run mlflow server \\\n",
    "  --backend-store-uri sqlite:///demo_mlflow.db \\\n",
    "  --default-artifact-root mlruns \\\n",
    "  --host 127.0.0.1 \\\n",
    "  --port 5000\n",
    "\n",
    "# Terminal 2 (optional): Start React dev server for latest UI\n",
    "cd mlflow/server/js\n",
    "yarn start  # Will run on http://localhost:3000\n",
    "```\n",
    "\n",
    "The notebook will connect to the tracking server on port 5000."
   ]
  },
  {
   "cell_type": "markdown",
   "metadata": {},
   "source": [
    "## Setup and Configuration"
   ]
  },
  {
   "cell_type": "code",
   "execution_count": 1,
   "metadata": {},
   "outputs": [
    {
     "name": "stderr",
     "output_type": "stream",
     "text": [
      "/Users/benjamin.wilson/repos/mlflow-fork/mlflow/mlflow/models/utils.py:51: UserWarning: A NumPy version >=1.23.5 and <2.3.0 is required for this version of SciPy (detected version 2.3.3)\n",
      "  from scipy.sparse import csc_matrix, csr_matrix\n"
     ]
    }
   ],
   "source": [
    "import os\n",
    "import time\n",
    "\n",
    "import mlflow\n",
    "from mlflow import MlflowClient\n",
    "from mlflow.genai.judges import make_judge\n",
    "import anthropic"
   ]
  },
  {
   "cell_type": "code",
   "execution_count": 2,
   "metadata": {},
   "outputs": [
    {
     "name": "stdout",
     "output_type": "stream",
     "text": [
      "✅ Connected to MLflow tracking server at http://127.0.0.1:5000\n",
      "Found 5 existing experiments\n"
     ]
    }
   ],
   "source": [
    "# Connect to existing MLflow tracking server\n",
    "TRACKING_URI = \"http://127.0.0.1:5000\"\n",
    "mlflow.set_tracking_uri(TRACKING_URI)\n",
    "client = MlflowClient(tracking_uri=TRACKING_URI)\n",
    "\n",
    "# Verify connection\n",
    "try:\n",
    "    experiments = client.search_experiments()\n",
    "    print(f\"✅ Connected to MLflow tracking server at {TRACKING_URI}\")\n",
    "    print(f\"Found {len(experiments)} existing experiments\")\n",
    "except Exception as e:\n",
    "    print(f\"❌ Could not connect to MLflow server at {TRACKING_URI}\")\n",
    "    print(f\"Error: {e}\")\n",
    "    print(\"\\nMake sure the server is running with:\")\n",
    "    print(\"  uv run mlflow server --backend-store-uri sqlite:///demo_mlflow.db --port 5000\")"
   ]
  },
  {
   "cell_type": "markdown",
   "metadata": {},
   "source": [
    "## Create Experiment"
   ]
  },
  {
   "cell_type": "code",
   "execution_count": 3,
   "metadata": {},
   "outputs": [
    {
     "name": "stdout",
     "output_type": "stream",
     "text": [
      "Created new experiment: judges-demo-5 (ID: 6)\n",
      "\n",
      "Active experiment: judges-demo-5 (ID: 6)\n"
     ]
    }
   ],
   "source": [
    "# Create or get experiment for the demo\n",
    "experiment_name = \"judges-demo-5\"\n",
    "\n",
    "# Ensure we're using the right tracking URI\n",
    "mlflow.set_tracking_uri(TRACKING_URI)\n",
    "\n",
    "# Try to get existing experiment first\n",
    "existing_experiment = mlflow.get_experiment_by_name(experiment_name)\n",
    "if existing_experiment:\n",
    "    experiment = existing_experiment.experiment_id\n",
    "    print(f\"Using existing experiment: {experiment_name} (ID: {experiment})\")\n",
    "else:\n",
    "    experiment = mlflow.create_experiment(\n",
    "        experiment_name,\n",
    "        tags={\"demo\": \"judges\", \"purpose\": \"demonstration\"}\n",
    "    )\n",
    "    print(f\"Created new experiment: {experiment_name} (ID: {experiment})\")\n",
    "\n",
    "# Set the experiment as active\n",
    "mlflow.set_experiment(experiment_name)\n",
    "print(f\"\\nActive experiment: {experiment_name} (ID: {experiment})\")"
   ]
  },
  {
   "cell_type": "markdown",
   "metadata": {},
   "source": [
    "## Simple Chat Bot Implementation with Anthropic"
   ]
  },
  {
   "cell_type": "code",
   "execution_count": 4,
   "metadata": {},
   "outputs": [
    {
     "name": "stdout",
     "output_type": "stream",
     "text": [
      "Anthropic client initialized and MLflow autologging enabled\n"
     ]
    }
   ],
   "source": [
    "# Initialize Anthropic client\n",
    "anthropic_client = anthropic.Anthropic(\n",
    "    api_key=os.environ.get(\"ANTHROPIC_API_KEY\")\n",
    ")\n",
    "\n",
    "# Enable MLflow autologging for Anthropic\n",
    "mlflow.anthropic.autolog(\n",
    "    log_traces=True,\n",
    "    disable=False\n",
    ")\n",
    "\n",
    "print(\"Anthropic client initialized and MLflow autologging enabled\")"
   ]
  },
  {
   "cell_type": "code",
   "execution_count": 5,
   "metadata": {},
   "outputs": [
    {
     "name": "stdout",
     "output_type": "stream",
     "text": [
      "Chat function defined (tracing handled by autolog)\n"
     ]
    }
   ],
   "source": [
    "# Simple chat function - autolog will handle tracing automatically\n",
    "def chat_with_assistant(user_message: str, system_prompt: str = None) -> str:\n",
    "    \"\"\"Simple chat function that uses Anthropic's Claude\"\"\"\n",
    "    \n",
    "    messages = [{\"role\": \"user\", \"content\": user_message}]\n",
    "    \n",
    "    # Create chat completion - MLflow autolog will trace this automatically\n",
    "    response = anthropic_client.messages.create(\n",
    "        model=\"claude-3-haiku-20240307\",\n",
    "        max_tokens=500,\n",
    "        temperature=0.7,\n",
    "        system=system_prompt or \"You are a helpful assistant.\",\n",
    "        messages=messages\n",
    "    )\n",
    "    \n",
    "    # Extract response text\n",
    "    response_text = response.content[0].text\n",
    "    \n",
    "    return response_text\n",
    "\n",
    "print(\"Chat function defined (tracing handled by autolog)\")"
   ]
  },
  {
   "cell_type": "markdown",
   "metadata": {},
   "source": [
    "## Generate Chat Interactions and Traces"
   ]
  },
  {
   "cell_type": "code",
   "execution_count": 6,
   "metadata": {},
   "outputs": [
    {
     "name": "stdout",
     "output_type": "stream",
     "text": [
      "Generating chat traces...\n",
      "\n",
      "Chat 1: What is machine learning?...\n",
      "Response: Machine learning is a field of artificial intelligence that enables computers and systems to learn a...\n",
      "\n",
      "Chat 2: How do I train a neural network?...\n",
      "Response: Training a neural network can be a complex process, but here are some practical steps you can take:\n",
      "...\n",
      "\n",
      "Chat 3: What are the benefits of using MLflow?...\n",
      "Response: MLflow is a popular open-source platform for managing the end-to-end machine learning lifecycle. Her...\n",
      "\n",
      "Chat 4: Can you explain gradient descent?...\n",
      "Response: Certainly! Gradient descent is a fundamental optimization algorithm used in machine learning and oth...\n",
      "\n",
      "Chat 5: What is the difference between supervised and unsu...\n",
      "Response: The main difference between supervised and unsupervised learning lies in the way the algorithms are ...\n",
      "\n",
      "Chat 6: How do I choose the right algorithm for my problem...\n",
      "Response: Choosing the right algorithm for your problem is a crucial step in the data science process. Here ar...\n",
      "\n",
      "Chat 7: What is overfitting and how can I prevent it?...\n",
      "Response: Overfitting is a common problem in machine learning where a model performs very well on the training...\n",
      "\n",
      "Chat 8: How do I evaluate model performance?...\n",
      "Response: Evaluating model performance is a crucial step in the machine learning process, as it helps determin...\n",
      "\n",
      "Chat 9: What is feature engineering?...\n",
      "Response: Feature engineering is the process of creating or selecting the most relevant features from raw data...\n",
      "\n",
      "Chat 10: How do I handle missing data in my dataset?...\n",
      "Response: Handling missing data is a crucial step in data cleaning and preparation. Here are some actionable s...\n",
      "\n",
      "🏃 View run mercurial-bear-722 at: http://127.0.0.1:5000/#/experiments/6/runs/d4faf981070940c3aef5b6dbacc20878\n",
      "🧪 View experiment at: http://127.0.0.1:5000/#/experiments/6\n",
      "\n",
      "Generated 10 chat traces\n"
     ]
    },
    {
     "data": {
      "text/html": [
       "\n",
       "<div>\n",
       "  <style scoped>\n",
       "  button {\n",
       "    border: none;\n",
       "    border-radius: 4px;\n",
       "    background-color: rgb(34, 114, 180);\n",
       "    font-family: -apple-system, \"system-ui\", \"Segoe UI\", Roboto, \"Helvetica Neue\", Arial;\n",
       "    font-size: 13px;\n",
       "    color: white;\n",
       "    margin-top: 8px;\n",
       "    margin-bottom: 8px;\n",
       "    padding: 8px 16px;\n",
       "    cursor: pointer;\n",
       "  }\n",
       "  button:hover {\n",
       "    background-color: rgb(66, 153, 224);\n",
       "  }\n",
       "  </style>\n",
       "  <button\n",
       "    onclick=\"\n",
       "        const display = this.nextElementSibling.style.display;\n",
       "        const isCollapsed = display === 'none';\n",
       "        this.nextElementSibling.style.display = isCollapsed ? null : 'none';\n",
       "\n",
       "        const verb = isCollapsed ? 'Collapse' : 'Expand';\n",
       "        this.innerText = `${verb} MLflow Trace`;\n",
       "    \"\n",
       "  >Collapse MLflow Trace</button>\n",
       "  <iframe\n",
       "    id=\"trace-renderer\"\n",
       "    style=\"width: 100%; height: 500px; border: none; resize: vertical;\"\n",
       "    src=\"http://127.0.0.1:5000/static-files/lib/notebook-trace-renderer/index.html?trace_id=tr-9c07d31ddb3c6f298e23e52e9dd9a1c7&amp;experiment_id=6&amp;trace_id=tr-08a85a07192aaef31765bfaf51f46be0&amp;experiment_id=6&amp;trace_id=tr-fda4882e30a9296a5195712b486d9b15&amp;experiment_id=6&amp;trace_id=tr-be002759342df899bfeceafd9ff35384&amp;experiment_id=6&amp;trace_id=tr-4af75fd704dec9956c43678297ad89a2&amp;experiment_id=6&amp;trace_id=tr-0b4dac4b8e533a3a51e5ca19d0f7d157&amp;experiment_id=6&amp;trace_id=tr-485740977e1e5fe2ac55c4aad5d65817&amp;experiment_id=6&amp;trace_id=tr-c484ba2dd6d07b61687a0ef266d589e1&amp;experiment_id=6&amp;trace_id=tr-ca442a03b7eee40424d0b17b19d98649&amp;experiment_id=6&amp;trace_id=tr-52fc3f9c26c0e6a43ca0fff5f1b1ec9d&amp;experiment_id=6&amp;version=3.3.3.dev0\"\n",
       "  />\n",
       "</div>\n"
      ],
      "text/plain": [
       "[Trace(trace_id=tr-9c07d31ddb3c6f298e23e52e9dd9a1c7), Trace(trace_id=tr-08a85a07192aaef31765bfaf51f46be0), Trace(trace_id=tr-fda4882e30a9296a5195712b486d9b15), Trace(trace_id=tr-be002759342df899bfeceafd9ff35384), Trace(trace_id=tr-4af75fd704dec9956c43678297ad89a2), Trace(trace_id=tr-0b4dac4b8e533a3a51e5ca19d0f7d157), Trace(trace_id=tr-485740977e1e5fe2ac55c4aad5d65817), Trace(trace_id=tr-c484ba2dd6d07b61687a0ef266d589e1), Trace(trace_id=tr-ca442a03b7eee40424d0b17b19d98649), Trace(trace_id=tr-52fc3f9c26c0e6a43ca0fff5f1b1ec9d)]"
      ]
     },
     "metadata": {},
     "output_type": "display_data"
    }
   ],
   "source": [
    "# Test conversations to generate traces\n",
    "test_conversations = [\n",
    "    {\n",
    "        \"user\": \"What is machine learning?\",\n",
    "        \"system\": \"You are an AI educator. Provide clear, concise explanations.\"\n",
    "    },\n",
    "    {\n",
    "        \"user\": \"How do I train a neural network?\",\n",
    "        \"system\": \"You are a technical mentor. Give practical advice.\"\n",
    "    },\n",
    "    {\n",
    "        \"user\": \"What are the benefits of using MLflow?\",\n",
    "        \"system\": \"You are an MLOps expert. Explain tools and best practices.\"\n",
    "    },\n",
    "    {\n",
    "        \"user\": \"Can you explain gradient descent?\",\n",
    "        \"system\": \"You are a math tutor. Explain concepts simply.\"\n",
    "    },\n",
    "    {\n",
    "        \"user\": \"What is the difference between supervised and unsupervised learning?\",\n",
    "        \"system\": \"You are an AI educator. Compare and contrast clearly.\"\n",
    "    },\n",
    "    {\n",
    "        \"user\": \"How do I choose the right algorithm for my problem?\",\n",
    "        \"system\": \"You are a data science consultant. Provide practical guidance.\"\n",
    "    },\n",
    "    {\n",
    "        \"user\": \"What is overfitting and how can I prevent it?\",\n",
    "        \"system\": \"You are a machine learning expert. Explain clearly with examples.\"\n",
    "    },\n",
    "    {\n",
    "        \"user\": \"How do I evaluate model performance?\",\n",
    "        \"system\": \"You are a model evaluation specialist. Give comprehensive advice.\"\n",
    "    },\n",
    "    {\n",
    "        \"user\": \"What is feature engineering?\",\n",
    "        \"system\": \"You are a data preprocessing expert. Explain with practical tips.\"\n",
    "    },\n",
    "    {\n",
    "        \"user\": \"How do I handle missing data in my dataset?\",\n",
    "        \"system\": \"You are a data cleaning specialist. Provide actionable solutions.\"\n",
    "    }\n",
    "]\n",
    "\n",
    "print(\"Generating chat traces...\\n\")\n",
    "responses = []\n",
    "\n",
    "# Ensure we're in the right experiment\n",
    "mlflow.set_experiment(experiment_name)\n",
    "\n",
    "with mlflow.start_run():\n",
    "    for i, conv in enumerate(test_conversations):\n",
    "        print(f\"Chat {i+1}: {conv['user'][:50]}...\")\n",
    "        response = chat_with_assistant(\n",
    "            user_message=conv['user'],\n",
    "            system_prompt=conv['system']\n",
    "        )\n",
    "        responses.append({\n",
    "            \"user\": conv['user'],\n",
    "            \"system\": conv['system'],\n",
    "            \"response\": response\n",
    "        })\n",
    "        print(f\"Response: {response[:100]}...\\n\")\n",
    "        time.sleep(1)  # Small delay between requests\n",
    "\n",
    "print(f\"\\nGenerated {len(responses)} chat traces\")"
   ]
  },
  {
   "cell_type": "markdown",
   "metadata": {},
   "source": [
    "## Fetch Traces and Add Human Feedback"
   ]
  },
  {
   "cell_type": "code",
   "execution_count": 7,
   "metadata": {},
   "outputs": [
    {
     "name": "stdout",
     "output_type": "stream",
     "text": [
      "Found 10 traces\n",
      "\n",
      "Trace IDs:\n",
      "  - tr-52fc3f9c26c0e6a43ca0fff5f1b1ec9d\n",
      "  - tr-ca442a03b7eee40424d0b17b19d98649\n",
      "  - tr-c484ba2dd6d07b61687a0ef266d589e1\n",
      "  - tr-485740977e1e5fe2ac55c4aad5d65817\n",
      "  - tr-0b4dac4b8e533a3a51e5ca19d0f7d157\n",
      "  - tr-4af75fd704dec9956c43678297ad89a2\n",
      "  - tr-be002759342df899bfeceafd9ff35384\n",
      "  - tr-fda4882e30a9296a5195712b486d9b15\n",
      "  - tr-08a85a07192aaef31765bfaf51f46be0\n",
      "  - tr-9c07d31ddb3c6f298e23e52e9dd9a1c7\n"
     ]
    }
   ],
   "source": [
    "# Fetch traces from the experiment\n",
    "traces = client.search_traces(\n",
    "    experiment_ids=[experiment],\n",
    "    max_results=10\n",
    ")\n",
    "\n",
    "print(f\"Found {len(traces)} traces\")\n",
    "print(\"\\nTrace IDs:\")\n",
    "for trace in traces:\n",
    "    print(f\"  - {trace.info.request_id}\")"
   ]
  },
  {
   "cell_type": "code",
   "execution_count": 8,
   "metadata": {},
   "outputs": [
    {
     "name": "stdout",
     "output_type": "stream",
     "text": [
      "Adding expectations to traces...\n",
      "\n",
      "Found 10 total traces\n",
      "Added expectation to trace 1: 3 key concepts defined\n",
      "Added expectation to trace 2: 4 key concepts defined\n",
      "Added expectation to trace 3: 4 key concepts defined\n",
      "Added expectation to trace 4: 4 key concepts defined\n",
      "Added expectation to trace 5: 3 key concepts defined\n",
      "Added expectation to trace 6: 4 key concepts defined\n",
      "Added expectation to trace 7: 3 key concepts defined\n",
      "Added expectation to trace 8: 4 key concepts defined\n",
      "Added expectation to trace 9: 4 key concepts defined\n",
      "Added expectation to trace 10: 4 key concepts defined\n",
      "\n",
      "Expectations added to 10 traces using mlflow.log_expectation()\n"
     ]
    }
   ],
   "source": [
    "# Add expectations (ground truth) to traces\n",
    "from mlflow.entities import AssessmentSource, AssessmentSourceType\n",
    "\n",
    "# Define expectations for each conversation\n",
    "expectations = [\n",
    "    {\n",
    "        \"expected_response\": \"Machine learning is a subset of artificial intelligence that enables computers to learn from data without explicit programming.\",\n",
    "        \"key_concepts\": [\"subset of AI\", \"learning from data\", \"pattern recognition\"],\n",
    "        \"quality_criteria\": {\"clarity\": \"high\", \"accuracy\": \"high\", \"completeness\": \"medium\"}\n",
    "    },\n",
    "    {\n",
    "        \"expected_response\": \"Training a neural network involves forward propagation, loss calculation, backpropagation, and weight updates through optimization.\",\n",
    "        \"key_concepts\": [\"forward propagation\", \"backpropagation\", \"optimization\", \"loss function\"],\n",
    "        \"quality_criteria\": {\"clarity\": \"high\", \"accuracy\": \"high\", \"technical_depth\": \"medium\"}\n",
    "    },\n",
    "    {\n",
    "        \"expected_response\": \"MLflow provides experiment tracking, model versioning, deployment capabilities, and centralized model registry.\",\n",
    "        \"key_concepts\": [\"experiment tracking\", \"model registry\", \"deployment\", \"versioning\"],\n",
    "        \"quality_criteria\": {\"clarity\": \"high\", \"accuracy\": \"high\", \"practical_focus\": \"high\"}\n",
    "    },\n",
    "    {\n",
    "        \"expected_response\": \"Gradient descent is an optimization algorithm that iteratively adjusts parameters to minimize a loss function.\",\n",
    "        \"key_concepts\": [\"optimization\", \"iterative process\", \"loss minimization\", \"parameter updates\"],\n",
    "        \"quality_criteria\": {\"clarity\": \"high\", \"simplicity\": \"high\", \"mathematical_accuracy\": \"high\"}\n",
    "    },\n",
    "    {\n",
    "        \"expected_response\": \"Supervised learning uses labeled data while unsupervised learning finds patterns in unlabeled data.\",\n",
    "        \"key_concepts\": [\"labeled vs unlabeled\", \"prediction vs pattern discovery\", \"training differences\"],\n",
    "        \"quality_criteria\": {\"clarity\": \"high\", \"comparison\": \"clear\", \"completeness\": \"high\"}\n",
    "    },\n",
    "    {\n",
    "        \"expected_response\": \"Algorithm choice depends on problem type, data size, interpretability needs, and performance requirements.\",\n",
    "        \"key_concepts\": [\"problem type\", \"data characteristics\", \"business requirements\", \"performance trade-offs\"],\n",
    "        \"quality_criteria\": {\"clarity\": \"high\", \"practicality\": \"high\", \"comprehensiveness\": \"medium\"}\n",
    "    },\n",
    "    {\n",
    "        \"expected_response\": \"Overfitting occurs when models memorize training data instead of learning patterns, prevented by validation and regularization.\",\n",
    "        \"key_concepts\": [\"memorization vs generalization\", \"validation techniques\", \"regularization methods\"],\n",
    "        \"quality_criteria\": {\"clarity\": \"high\", \"accuracy\": \"high\", \"practical_advice\": \"high\"}\n",
    "    },\n",
    "    {\n",
    "        \"expected_response\": \"Model evaluation uses metrics like accuracy, precision, recall, F1-score, and cross-validation techniques.\",\n",
    "        \"key_concepts\": [\"evaluation metrics\", \"cross-validation\", \"train/test splits\", \"metric selection\"],\n",
    "        \"quality_criteria\": {\"clarity\": \"high\", \"completeness\": \"high\", \"technical_accuracy\": \"high\"}\n",
    "    },\n",
    "    {\n",
    "        \"expected_response\": \"Feature engineering involves creating, selecting, and transforming variables to improve model performance.\",\n",
    "        \"key_concepts\": [\"feature creation\", \"feature selection\", \"transformations\", \"domain knowledge\"],\n",
    "        \"quality_criteria\": {\"clarity\": \"high\", \"practicality\": \"high\", \"comprehensiveness\": \"medium\"}\n",
    "    },\n",
    "    {\n",
    "        \"expected_response\": \"Handle missing data through deletion, imputation, or flagging strategies based on data patterns and business context.\",\n",
    "        \"key_concepts\": [\"missing data patterns\", \"imputation methods\", \"deletion strategies\", \"business impact\"],\n",
    "        \"quality_criteria\": {\"clarity\": \"high\", \"practicality\": \"high\", \"completeness\": \"high\"}\n",
    "    }\n",
    "]\n",
    "\n",
    "print(\"Adding expectations to traces...\\n\")\n",
    "\n",
    "# Fetch all traces to get the latest count\n",
    "all_traces = client.search_traces(\n",
    "    experiment_ids=[experiment],\n",
    "    max_results=20  # Get enough to cover all new traces\n",
    ")\n",
    "\n",
    "print(f\"Found {len(all_traces)} total traces\")\n",
    "\n",
    "for i, trace in enumerate(all_traces[:10]):  # Process up to 10 traces\n",
    "    if i < len(expectations):\n",
    "        expectation = expectations[i]\n",
    "        \n",
    "        # Log expectation for the trace - FIXED: use keyword arguments, not Assessment object\n",
    "        mlflow.log_expectation(\n",
    "            trace_id=trace.info.request_id,\n",
    "            name=\"expected_response\",\n",
    "            value={\n",
    "                \"ideal_answer\": expectation[\"expected_response\"],\n",
    "                \"key_concepts\": expectation[\"key_concepts\"],\n",
    "                \"quality_criteria\": expectation[\"quality_criteria\"]\n",
    "            },\n",
    "            source=AssessmentSource(\n",
    "                source_type=AssessmentSourceType.HUMAN,\n",
    "                source_id=\"domain_expert\"\n",
    "            ),\n",
    "            metadata={\n",
    "                \"question_index\": i,\n",
    "                \"difficulty\": \"medium\" if i in [1, 3, 6, 7] else \"easy\"\n",
    "            }\n",
    "        )\n",
    "        \n",
    "        print(f\"Added expectation to trace {i+1}: {len(expectation['key_concepts'])} key concepts defined\")\n",
    "\n",
    "print(f\"\\nExpectations added to {min(len(all_traces), len(expectations))} traces using mlflow.log_expectation()\")"
   ]
  },
  {
   "cell_type": "code",
   "execution_count": 9,
   "metadata": {},
   "outputs": [
    {
     "name": "stdout",
     "output_type": "stream",
     "text": [
      "Adding human feedback to traces...\n",
      "\n",
      "Found 10 total traces for feedback\n",
      "Added feedback to trace 1: Score=5, Excellent explanation, very clear\n",
      "Added feedback to trace 2: Score=4, Good technical detail, could be simpler\n",
      "Added feedback to trace 3: Score=5, Perfect MLOps explanation\n",
      "Added feedback to trace 4: Score=3, Needs more examples\n",
      "Added feedback to trace 5: Score=5, Great comparison, very useful\n",
      "Added feedback to trace 6: Score=4, Solid practical guidance\n",
      "Added feedback to trace 7: Score=3, Good concept but needs more examples\n",
      "Added feedback to trace 8: Score=5, Comprehensive evaluation guide\n",
      "Added feedback to trace 9: Score=4, Practical feature engineering tips\n",
      "Added feedback to trace 10: Score=4, Good strategies for missing data\n",
      "\n",
      "Human feedback added to 10 traces using mlflow.log_feedback()\n"
     ]
    }
   ],
   "source": [
    "# Add human feedback to traces using the proper feedback API\n",
    "from mlflow.entities import AssessmentSource, AssessmentSourceType\n",
    "\n",
    "feedback_data = [\n",
    "    {\"score\": 5, \"helpfulness\": 5, \"accuracy\": 5, \"clarity\": 5, \"comment\": \"Excellent explanation, very clear\"},\n",
    "    {\"score\": 4, \"helpfulness\": 4, \"accuracy\": 5, \"clarity\": 4, \"comment\": \"Good technical detail, could be simpler\"},\n",
    "    {\"score\": 5, \"helpfulness\": 5, \"accuracy\": 5, \"clarity\": 5, \"comment\": \"Perfect MLOps explanation\"},\n",
    "    {\"score\": 3, \"helpfulness\": 3, \"accuracy\": 4, \"clarity\": 3, \"comment\": \"Needs more examples\"},\n",
    "    {\"score\": 5, \"helpfulness\": 5, \"accuracy\": 5, \"clarity\": 4, \"comment\": \"Great comparison, very useful\"},\n",
    "    {\"score\": 4, \"helpfulness\": 4, \"accuracy\": 4, \"clarity\": 4, \"comment\": \"Solid practical guidance\"},\n",
    "    {\"score\": 3, \"helpfulness\": 3, \"accuracy\": 4, \"clarity\": 3, \"comment\": \"Good concept but needs more examples\"},\n",
    "    {\"score\": 5, \"helpfulness\": 5, \"accuracy\": 5, \"clarity\": 5, \"comment\": \"Comprehensive evaluation guide\"},\n",
    "    {\"score\": 4, \"helpfulness\": 4, \"accuracy\": 4, \"clarity\": 4, \"comment\": \"Practical feature engineering tips\"},\n",
    "    {\"score\": 4, \"helpfulness\": 4, \"accuracy\": 4, \"clarity\": 4, \"comment\": \"Good strategies for missing data\"}\n",
    "]\n",
    "\n",
    "print(\"Adding human feedback to traces...\\n\")\n",
    "\n",
    "# Fetch all traces for feedback\n",
    "all_traces = client.search_traces(\n",
    "    experiment_ids=[experiment],\n",
    "    max_results=20\n",
    ")\n",
    "\n",
    "print(f\"Found {len(all_traces)} total traces for feedback\")\n",
    "\n",
    "for i, trace in enumerate(all_traces[:10]):  # Process up to 10 traces\n",
    "    if i < len(feedback_data):\n",
    "        feedback = feedback_data[i]\n",
    "        \n",
    "        # Log human feedback with overall score and detailed breakdown\n",
    "        mlflow.log_feedback(\n",
    "            trace_id=trace.info.request_id,\n",
    "            name=\"human_evaluation\",\n",
    "            value=feedback[\"score\"],  # Single numeric score for UI display\n",
    "            source=AssessmentSource(\n",
    "                source_type=AssessmentSourceType.HUMAN,\n",
    "                source_id=\"demo_evaluator\"\n",
    "            ),\n",
    "            rationale=feedback[\"comment\"],  # Human's reasoning for the score\n",
    "            metadata={\n",
    "                \"evaluation_round\": 1,\n",
    "                \"helpfulness\": feedback[\"helpfulness\"],\n",
    "                \"accuracy\": feedback[\"accuracy\"],\n",
    "                \"clarity\": feedback[\"clarity\"]\n",
    "            }\n",
    "        )\n",
    "        \n",
    "        print(f\"Added feedback to trace {i+1}: Score={feedback['score']}, {feedback['comment']}\")\n",
    "\n",
    "print(f\"\\nHuman feedback added to {min(len(all_traces), len(feedback_data))} traces using mlflow.log_feedback()\")"
   ]
  },
  {
   "cell_type": "markdown",
   "metadata": {},
   "source": [
    "## Create Judges Using make_judge API"
   ]
  },
  {
   "cell_type": "code",
   "execution_count": 10,
   "metadata": {},
   "outputs": [
    {
     "name": "stdout",
     "output_type": "stream",
     "text": [
      "Creating Judge 1: Simple Helpfulness Judge...\n",
      "Judge 1 created successfully\n"
     ]
    }
   ],
   "source": [
    "# Create Judge 1: Simple helpfulness judge\n",
    "print(\"Creating Judge 1: Simple Helpfulness Judge...\")\n",
    "\n",
    "judge1 = make_judge(\n",
    "    name=\"helpfulness_judge\",\n",
    "    instructions=\"\"\"\n",
    "    Rate how helpful the response is for the question asked.\n",
    "    \n",
    "    Question: {{ inputs }}\n",
    "    Response: {{ outputs }}\n",
    "    \n",
    "    Score 1-5:\n",
    "    - 5: Very helpful, directly answers the question\n",
    "    - 4: Helpful, mostly answers the question  \n",
    "    - 3: Somewhat helpful, partially answers\n",
    "    - 2: Not very helpful, misses key points\n",
    "    - 1: Not helpful, doesn't answer the question\n",
    "    \"\"\",\n",
    "    model=\"openai:/gpt-4o-mini\"\n",
    ")\n",
    "\n",
    "print(\"Judge 1 created successfully\")"
   ]
  },
  {
   "cell_type": "code",
   "execution_count": 11,
   "metadata": {},
   "outputs": [
    {
     "name": "stdout",
     "output_type": "stream",
     "text": [
      "Creating Judge 2: Simple Accuracy Judge...\n",
      "Judge 2 created successfully\n"
     ]
    }
   ],
   "source": [
    "# Create Judge 2: Simple accuracy judge using expectations\n",
    "print(\"Creating Judge 2: Simple Accuracy Judge...\")\n",
    "\n",
    "judge2 = make_judge(\n",
    "    name=\"accuracy_judge\",\n",
    "    instructions=\"\"\"\n",
    "    Compare the response to the expected answer.\n",
    "    \n",
    "    Response: {{ outputs }}\n",
    "    Expected: {{ expectations }}\n",
    "    \n",
    "    Score 1-5 based on accuracy:\n",
    "    - 5: Matches expected answer closely\n",
    "    - 4: Mostly accurate\n",
    "    - 3: Partially accurate\n",
    "    - 2: Some inaccuracies  \n",
    "    - 1: Inaccurate\n",
    "    \"\"\",\n",
    "    model=\"openai:/gpt-4o-mini\"\n",
    ")\n",
    "\n",
    "print(\"Judge 2 created successfully\")"
   ]
  },
  {
   "cell_type": "markdown",
   "metadata": {},
   "source": [
    "## Run Evaluation with Both Judges"
   ]
  },
  {
   "cell_type": "code",
   "execution_count": 12,
   "metadata": {},
   "outputs": [
    {
     "name": "stdout",
     "output_type": "stream",
     "text": [
      "Step 1: Evaluating traces with Helpfulness Judge\n",
      "\n",
      "============================================================\n",
      "Found 10 traces to evaluate\n",
      "\n",
      "Trace 1/10: ✓ Score=5\n",
      "Trace 2/10: ✓ Score=5\n",
      "Trace 3/10: ✓ Score=5\n",
      "Trace 4/10: ✓ Score=5\n",
      "Trace 5/10: ✓ Score=5\n",
      "Trace 6/10: ✓ Score=5\n",
      "Trace 7/10: ✓ Score=5\n",
      "Trace 8/10: ✓ Score=5\n",
      "Trace 9/10: ✓ Score=5\n",
      "Trace 10/10: ✓ Score=5\n",
      "\n",
      "✅ Helpfulness evaluation complete!\n"
     ]
    }
   ],
   "source": [
    "# Evaluate traces with Judge 1 (Helpfulness)\n",
    "print(\"Step 1: Evaluating traces with Helpfulness Judge\\n\")\n",
    "print(\"=\" * 60)\n",
    "\n",
    "# Get traces for evaluation\n",
    "traces_list = client.search_traces(\n",
    "    experiment_ids=[experiment],\n",
    "    max_results=10  # Get all 10 traces\n",
    ")\n",
    "\n",
    "print(f\"Found {len(traces_list)} traces to evaluate\\n\")\n",
    "\n",
    "# Evaluate with Judge 1\n",
    "for i, trace in enumerate(traces_list):\n",
    "    print(f\"Trace {i+1}/{len(traces_list)}: \", end=\"\")\n",
    "    \n",
    "    try:\n",
    "        # Evaluate with helpfulness judge\n",
    "        result = judge1(trace=trace)\n",
    "        \n",
    "        # Log the assessment\n",
    "        mlflow.log_assessment(trace_id=trace.info.request_id, assessment=result)\n",
    "        print(f\"✓ Score={result.value}\")\n",
    "        \n",
    "    except Exception as e:\n",
    "        print(f\"✗ Error: {str(e)[:50]}\")\n",
    "    \n",
    "    time.sleep(0.5)  # Small delay to avoid rate limits\n",
    "\n",
    "print(\"\\n✅ Helpfulness evaluation complete!\")"
   ]
  },
  {
   "cell_type": "code",
   "execution_count": 13,
   "metadata": {},
   "outputs": [
    {
     "name": "stdout",
     "output_type": "stream",
     "text": [
      "\n",
      "Step 2: Evaluating traces with Accuracy Judge\n",
      "\n",
      "============================================================\n",
      "Trace 1/10: ✓ Score=1\n",
      "Trace 2/10: ✓ Score=1\n",
      "Trace 3/10: ✓ Score=1\n",
      "Trace 4/10: ✓ Score=1\n",
      "Trace 5/10: ✓ Score=1\n",
      "Trace 6/10: ✓ Score=1\n",
      "Trace 7/10: ✓ Score=1\n",
      "Trace 8/10: ✓ Score=1\n",
      "Trace 9/10: ✓ Score=1\n",
      "Trace 10/10: ✓ Score=1\n",
      "\n",
      "✅ Accuracy evaluation complete!\n"
     ]
    }
   ],
   "source": [
    "# Evaluate traces with Judge 2 (Accuracy)\n",
    "print(\"\\nStep 2: Evaluating traces with Accuracy Judge\\n\")\n",
    "print(\"=\" * 60)\n",
    "\n",
    "# Evaluate with Judge 2\n",
    "for i, trace in enumerate(traces_list):\n",
    "    print(f\"Trace {i+1}/{len(traces_list)}: \", end=\"\")\n",
    "    \n",
    "    try:\n",
    "        # Evaluate with accuracy judge (compares to expectations)\n",
    "        result = judge2(trace=trace)\n",
    "        \n",
    "        # Log the assessment\n",
    "        mlflow.log_assessment(trace_id=trace.info.request_id, assessment=result)\n",
    "        print(f\"✓ Score={result.value}\")\n",
    "        \n",
    "    except Exception as e:\n",
    "        print(f\"✗ Error: {str(e)[:50]}\")\n",
    "    \n",
    "    time.sleep(0.5)  # Small delay to avoid rate limits\n",
    "\n",
    "print(\"\\n✅ Accuracy evaluation complete!\")"
   ]
  },
  {
   "cell_type": "markdown",
   "metadata": {},
   "source": [
    "## Viewing Evaluation Results"
   ]
  },
  {
   "cell_type": "code",
   "execution_count": 14,
   "metadata": {},
   "outputs": [
    {
     "name": "stdout",
     "output_type": "stream",
     "text": [
      "Adding human feedback on judge assessments for alignment\n",
      "\n",
      "============================================================\n",
      "Adding human feedback on helpfulness judge assessments...\n",
      "Trace 1: Human scored helpfulness judge 4 - Judge scored too high, response was good but not excellent\n",
      "Trace 2: Human scored helpfulness judge 4 - Judge scored appropriately, good technical content\n",
      "Trace 3: Human scored helpfulness judge 5 - Judge scored correctly, excellent MLflow explanation\n",
      "Trace 4: Human scored helpfulness judge 3 - Judge scored too high, response lacked examples\n",
      "Trace 5: Human scored helpfulness judge 4 - Judge scored well, good comparison but not perfect\n",
      "Trace 6: Human scored helpfulness judge 4 - Judge scored correctly, practical advice given\n",
      "Trace 7: Human scored helpfulness judge 2 - Judge scored too high, explanation was too basic\n",
      "Trace 8: Human scored helpfulness judge 5 - Judge scored correctly, very comprehensive guide\n",
      "Trace 9: Human scored helpfulness judge 4 - Judge scored well, good practical tips\n",
      "Trace 10: Human scored helpfulness judge 3 - Judge scored too high, could use more specific examples\n",
      "\n",
      "✅ Human feedback on helpfulness judge assessments added!\n"
     ]
    }
   ],
   "source": [
    "# Add human feedback on judge assessments for alignment\n",
    "print(\"Adding human feedback on judge assessments for alignment\\n\")\n",
    "print(\"=\" * 60)\n",
    "\n",
    "# Simulate human reviewing the judge results and providing feedback\n",
    "human_feedback_on_helpfulness_judge = [\n",
    "    {\"helpfulness_judge\": 4, \"comment\": \"Judge scored too high, response was good but not excellent\"},\n",
    "    {\"helpfulness_judge\": 4, \"comment\": \"Judge scored appropriately, good technical content\"},\n",
    "    {\"helpfulness_judge\": 5, \"comment\": \"Judge scored correctly, excellent MLflow explanation\"}, \n",
    "    {\"helpfulness_judge\": 3, \"comment\": \"Judge scored too high, response lacked examples\"},\n",
    "    {\"helpfulness_judge\": 4, \"comment\": \"Judge scored well, good comparison but not perfect\"},\n",
    "    {\"helpfulness_judge\": 4, \"comment\": \"Judge scored correctly, practical advice given\"},\n",
    "    {\"helpfulness_judge\": 2, \"comment\": \"Judge scored too high, explanation was too basic\"},\n",
    "    {\"helpfulness_judge\": 5, \"comment\": \"Judge scored correctly, very comprehensive guide\"},\n",
    "    {\"helpfulness_judge\": 4, \"comment\": \"Judge scored well, good practical tips\"},\n",
    "    {\"helpfulness_judge\": 3, \"comment\": \"Judge scored too high, could use more specific examples\"}\n",
    "]\n",
    "\n",
    "print(\"Adding human feedback on helpfulness judge assessments...\")\n",
    "\n",
    "# Get fresh traces list for consistent ordering\n",
    "fresh_traces_list = client.search_traces(\n",
    "    experiment_ids=[experiment],\n",
    "    max_results=10\n",
    ")\n",
    "\n",
    "for i, trace in enumerate(fresh_traces_list[:10]):\n",
    "    if i < len(human_feedback_on_helpfulness_judge):\n",
    "        feedback = human_feedback_on_helpfulness_judge[i]\n",
    "        \n",
    "        # Log human feedback specifically on the judge's assessment\n",
    "        mlflow.log_feedback(\n",
    "            trace_id=trace.info.request_id,\n",
    "            name=\"helpfulness_judge\",  # Same name as the judge for alignment\n",
    "            value=feedback[\"helpfulness_judge\"],\n",
    "            source=AssessmentSource(\n",
    "                source_type=AssessmentSourceType.HUMAN,\n",
    "                source_id=\"human_evaluator\"\n",
    "            ),\n",
    "            rationale=feedback[\"comment\"],\n",
    "            metadata={\"alignment_training\": True, \"judge_review\": True}\n",
    "        )\n",
    "        \n",
    "        print(f\"Trace {i+1}: Human scored helpfulness judge {feedback['helpfulness_judge']} - {feedback['comment']}\")\n",
    "\n",
    "print(\"\\n✅ Human feedback on helpfulness judge assessments added!\")"
   ]
  },
  {
   "cell_type": "code",
   "execution_count": 15,
   "metadata": {},
   "outputs": [
    {
     "name": "stdout",
     "output_type": "stream",
     "text": [
      "\n",
      "Adding human feedback on accuracy judge assessments for alignment\n",
      "\n",
      "============================================================\n",
      "Adding human feedback on accuracy judge assessments...\n",
      "Trace 1: Human scored accuracy judge 4 - Judge scored too low, response covers key ML concepts accurately\n",
      "Trace 2: Human scored accuracy judge 3 - Judge scored too low, technical details are mostly correct\n",
      "Trace 3: Human scored accuracy judge 4 - Judge scored correctly, good MLflow coverage\n",
      "Trace 4: Human scored accuracy judge 3 - Judge scored too low, covers optimization concepts well\n",
      "Trace 5: Human scored accuracy judge 4 - Judge scored too low, comparison is technically accurate\n",
      "Trace 6: Human scored accuracy judge 3 - Judge scored too low, practical guidance aligns with expectations\n",
      "Trace 7: Human scored accuracy judge 3 - Judge scored too low, covers key overfitting concepts\n",
      "Trace 8: Human scored accuracy judge 4 - Judge scored too low, evaluation metrics are comprehensively covered\n",
      "Trace 9: Human scored accuracy judge 4 - Judge scored too low, feature engineering concepts are accurate\n",
      "Trace 10: Human scored accuracy judge 3 - Judge scored too low, missing data strategies are sound\n",
      "\n",
      "✅ Human feedback on accuracy judge assessments added!\n",
      "\n",
      "📋 Summary:\n",
      "- Helpfulness judge: Tends to score too high (needs to be more critical)\n",
      "- Accuracy judge: Tends to score too low (needs to be less strict about exact matches)\n",
      "- Both judges will benefit from alignment with human feedback\n"
     ]
    }
   ],
   "source": [
    "# Add human feedback on accuracy judge assessments\n",
    "print(\"\\nAdding human feedback on accuracy judge assessments for alignment\\n\")\n",
    "print(\"=\" * 60)\n",
    "\n",
    "# The accuracy judge is being too harsh - it's giving mostly 1s because it expects exact matches\n",
    "# Human feedback should indicate the judge is scoring too low when responses are actually accurate\n",
    "human_feedback_on_accuracy_judge = [\n",
    "    {\"accuracy_judge\": 4, \"comment\": \"Judge scored too low, response covers key ML concepts accurately\"},\n",
    "    {\"accuracy_judge\": 3, \"comment\": \"Judge scored too low, technical details are mostly correct\"},\n",
    "    {\"accuracy_judge\": 4, \"comment\": \"Judge scored correctly, good MLflow coverage\"},\n",
    "    {\"accuracy_judge\": 3, \"comment\": \"Judge scored too low, covers optimization concepts well\"},\n",
    "    {\"accuracy_judge\": 4, \"comment\": \"Judge scored too low, comparison is technically accurate\"},\n",
    "    {\"accuracy_judge\": 3, \"comment\": \"Judge scored too low, practical guidance aligns with expectations\"},\n",
    "    {\"accuracy_judge\": 3, \"comment\": \"Judge scored too low, covers key overfitting concepts\"},\n",
    "    {\"accuracy_judge\": 4, \"comment\": \"Judge scored too low, evaluation metrics are comprehensively covered\"},\n",
    "    {\"accuracy_judge\": 4, \"comment\": \"Judge scored too low, feature engineering concepts are accurate\"},\n",
    "    {\"accuracy_judge\": 3, \"comment\": \"Judge scored too low, missing data strategies are sound\"}\n",
    "]\n",
    "\n",
    "print(\"Adding human feedback on accuracy judge assessments...\")\n",
    "\n",
    "for i, trace in enumerate(fresh_traces_list[:10]):\n",
    "    if i < len(human_feedback_on_accuracy_judge):\n",
    "        feedback = human_feedback_on_accuracy_judge[i]\n",
    "        \n",
    "        # Log human feedback specifically on the accuracy judge's assessment\n",
    "        mlflow.log_feedback(\n",
    "            trace_id=trace.info.request_id,\n",
    "            name=\"accuracy_judge\",  # Same name as the accuracy judge for alignment\n",
    "            value=feedback[\"accuracy_judge\"],\n",
    "            source=AssessmentSource(\n",
    "                source_type=AssessmentSourceType.HUMAN,\n",
    "                source_id=\"human_evaluator\"\n",
    "            ),\n",
    "            rationale=feedback[\"comment\"],\n",
    "            metadata={\"alignment_training\": True, \"judge_review\": True, \"judge_type\": \"accuracy\"}\n",
    "        )\n",
    "        \n",
    "        print(f\"Trace {i+1}: Human scored accuracy judge {feedback['accuracy_judge']} - {feedback['comment']}\")\n",
    "\n",
    "print(\"\\n✅ Human feedback on accuracy judge assessments added!\")\n",
    "print(\"\\n📋 Summary:\")\n",
    "print(\"- Helpfulness judge: Tends to score too high (needs to be more critical)\")\n",
    "print(\"- Accuracy judge: Tends to score too low (needs to be less strict about exact matches)\")\n",
    "print(\"- Both judges will benefit from alignment with human feedback\")"
   ]
  },
  {
   "cell_type": "markdown",
   "metadata": {},
   "source": [
    "## Judge Alignment\n",
    "\n",
    "Now let's demonstrate how to align judges based on human feedback"
   ]
  },
  {
   "cell_type": "code",
   "execution_count": 16,
   "metadata": {},
   "outputs": [
    {
     "name": "stderr",
     "output_type": "stream",
     "text": [
      "2025/09/10 15:22:22 INFO dspy.teleprompt.simba: Starting batch 1 of 8.\n",
      "2025/09/10 15:22:22 INFO dspy.teleprompt.simba: Sampling program trajectories on 10 examples x 6 samples.\n"
     ]
    },
    {
     "name": "stdout",
     "output_type": "stream",
     "text": [
      "Aligning Accuracy Judge with human feedback using SIMBA optimizer\n",
      "\n",
      "============================================================\n",
      "\n",
      "📋 Context:\n",
      "- Helpfulness judge: Already gives reasonable scores (4-5 range)\n",
      "- Accuracy judge: Gives all 1s - needs alignment to fix overly strict scoring\n",
      "\n",
      "We'll only align the accuracy judge to save time (alignment takes ~10 minutes)\n",
      "\n",
      "Refreshing traces to get latest assessments...\n",
      "Found 10 traces ready for accuracy judge alignment\n",
      "\n",
      "📊 ALIGNING ACCURACY JUDGE\n",
      "========================================\n",
      "\n",
      "BEFORE ALIGNMENT:\n",
      "--------------------\n",
      "Original Instructions:\n",
      "\n",
      "    Compare the response to the expected answer.\n",
      "    \n",
      "    Response: {{ outputs }}\n",
      "    Expected: {{ expectations }}\n",
      "    \n",
      "    Score 1-5 based on accuracy:\n",
      "    - 5: Matches expected answer closely\n",
      "    - 4: Mostly accurate\n",
      "    - 3: Partially accurate\n",
      "    - 2: Some inaccuracies  \n",
      "    - 1: Inaccurate\n",
      "    \n",
      "\n",
      "⏳ Starting alignment (this will take ~10 minutes)...\n",
      "  0%|          | 0/60 [00:00<?, ?it/s]"
     ]
    },
    {
     "name": "stderr",
     "output_type": "stream",
     "text": [
      "2025/09/10 15:22:23 WARNING dspy.predict.predict: Not all input fields were provided to module. Present: ['outputs']. Missing: ['expectations'].\n",
      "2025/09/10 15:22:23 WARNING dspy.predict.predict: Not all input fields were provided to module. Present: ['outputs']. Missing: ['expectations'].\n",
      "2025/09/10 15:22:23 WARNING dspy.predict.predict: Not all input fields were provided to module. Present: ['outputs']. Missing: ['expectations'].\n",
      "2025/09/10 15:22:23 WARNING dspy.predict.predict: Not all input fields were provided to module. Present: ['outputs']. Missing: ['expectations'].\n",
      "2025/09/10 15:22:23 WARNING dspy.predict.predict: Not all input fields were provided to module. Present: ['outputs']. Missing: ['expectations'].\n",
      "2025/09/10 15:22:23 WARNING dspy.predict.predict: Not all input fields were provided to module. Present: ['outputs']. Missing: ['expectations'].\n",
      "2025/09/10 15:22:23 WARNING dspy.predict.predict: Not all input fields were provided to module. Present: ['outputs']. Missing: ['expectations'].\n",
      "2025/09/10 15:22:23 WARNING dspy.predict.predict: Not all input fields were provided to module. Present: ['outputs']. Missing: ['expectations'].\n"
     ]
    },
    {
     "name": "stdout",
     "output_type": "stream",
     "text": [
      "Processed 1 / 60 examples:   2%|▏         | 1/60 [00:02<02:37,  2.66s/it]"
     ]
    },
    {
     "name": "stderr",
     "output_type": "stream",
     "text": [
      "2025/09/10 15:22:25 WARNING dspy.predict.predict: Not all input fields were provided to module. Present: ['outputs']. Missing: ['expectations'].\n"
     ]
    },
    {
     "name": "stdout",
     "output_type": "stream",
     "text": [
      "Processed 2 / 60 examples:   3%|▎         | 2/60 [00:02<01:10,  1.21s/it]"
     ]
    },
    {
     "name": "stderr",
     "output_type": "stream",
     "text": [
      "2025/09/10 15:22:25 WARNING dspy.predict.predict: Not all input fields were provided to module. Present: ['outputs']. Missing: ['expectations'].\n"
     ]
    },
    {
     "name": "stdout",
     "output_type": "stream",
     "text": [
      "Processed 3 / 60 examples:   3%|▎         | 2/60 [00:02<01:10,  1.21s/it]"
     ]
    },
    {
     "name": "stderr",
     "output_type": "stream",
     "text": [
      "2025/09/10 15:22:25 WARNING dspy.predict.predict: Not all input fields were provided to module. Present: ['outputs']. Missing: ['expectations'].\n"
     ]
    },
    {
     "name": "stdout",
     "output_type": "stream",
     "text": [
      "Processed 4 / 60 examples:   5%|▌         | 3/60 [00:02<01:08,  1.21s/it]"
     ]
    },
    {
     "name": "stderr",
     "output_type": "stream",
     "text": [
      "2025/09/10 15:22:25 WARNING dspy.predict.predict: Not all input fields were provided to module. Present: ['outputs']. Missing: ['expectations'].\n"
     ]
    },
    {
     "name": "stdout",
     "output_type": "stream",
     "text": [
      "Processed 6 / 60 examples:   8%|▊         | 5/60 [00:02<01:06,  1.21s/it]"
     ]
    },
    {
     "name": "stderr",
     "output_type": "stream",
     "text": [
      "2025/09/10 15:22:25 WARNING dspy.predict.predict: Not all input fields were provided to module. Present: ['outputs']. Missing: ['expectations'].\n",
      "2025/09/10 15:22:25 WARNING dspy.predict.predict: Not all input fields were provided to module. Present: ['outputs']. Missing: ['expectations'].\n"
     ]
    },
    {
     "name": "stdout",
     "output_type": "stream",
     "text": [
      "Processed 8 / 60 examples:  13%|█▎        | 8/60 [00:02<00:11,  4.67it/s]"
     ]
    },
    {
     "name": "stderr",
     "output_type": "stream",
     "text": [
      "2025/09/10 15:22:25 WARNING dspy.predict.predict: Not all input fields were provided to module. Present: ['outputs']. Missing: ['expectations'].\n"
     ]
    },
    {
     "name": "stdout",
     "output_type": "stream",
     "text": [
      "Processed 9 / 60 examples:  13%|█▎        | 8/60 [00:02<00:11,  4.67it/s]"
     ]
    },
    {
     "name": "stderr",
     "output_type": "stream",
     "text": [
      "2025/09/10 15:22:25 WARNING dspy.predict.predict: Not all input fields were provided to module. Present: ['outputs']. Missing: ['expectations'].\n",
      "2025/09/10 15:22:25 WARNING dspy.predict.predict: Not all input fields were provided to module. Present: ['outputs']. Missing: ['expectations'].\n"
     ]
    },
    {
     "name": "stdout",
     "output_type": "stream",
     "text": [
      "Processed 10 / 60 examples:  15%|█▌        | 9/60 [00:02<00:10,  4.67it/s]"
     ]
    },
    {
     "name": "stderr",
     "output_type": "stream",
     "text": [
      "2025/09/10 15:22:25 WARNING dspy.predict.predict: Not all input fields were provided to module. Present: ['outputs']. Missing: ['expectations'].\n"
     ]
    },
    {
     "name": "stdout",
     "output_type": "stream",
     "text": [
      "Processed 11 / 60 examples:  17%|█▋        | 10/60 [00:02<00:10,  4.67it/s]"
     ]
    },
    {
     "name": "stderr",
     "output_type": "stream",
     "text": [
      "2025/09/10 15:22:25 WARNING dspy.predict.predict: Not all input fields were provided to module. Present: ['outputs']. Missing: ['expectations'].\n"
     ]
    },
    {
     "name": "stdout",
     "output_type": "stream",
     "text": [
      "Processed 12 / 60 examples:  18%|█▊        | 11/60 [00:02<00:10,  4.67it/s]"
     ]
    },
    {
     "name": "stderr",
     "output_type": "stream",
     "text": [
      "2025/09/10 15:22:25 WARNING dspy.predict.predict: Not all input fields were provided to module. Present: ['outputs']. Missing: ['expectations'].\n"
     ]
    },
    {
     "name": "stdout",
     "output_type": "stream",
     "text": [
      "Processed 13 / 60 examples:  20%|██        | 12/60 [00:03<00:10,  4.67it/s]"
     ]
    },
    {
     "name": "stderr",
     "output_type": "stream",
     "text": [
      "2025/09/10 15:22:25 WARNING dspy.predict.predict: Not all input fields were provided to module. Present: ['outputs']. Missing: ['expectations'].\n"
     ]
    },
    {
     "name": "stdout",
     "output_type": "stream",
     "text": [
      "Processed 14 / 60 examples:  22%|██▏       | 13/60 [00:03<00:06,  7.19it/s]"
     ]
    },
    {
     "name": "stderr",
     "output_type": "stream",
     "text": [
      "2025/09/10 15:22:25 WARNING dspy.predict.predict: Not all input fields were provided to module. Present: ['outputs']. Missing: ['expectations'].\n"
     ]
    },
    {
     "name": "stdout",
     "output_type": "stream",
     "text": [
      "Processed 15 / 60 examples:  23%|██▎       | 14/60 [00:03<00:06,  7.19it/s]"
     ]
    },
    {
     "name": "stderr",
     "output_type": "stream",
     "text": [
      "2025/09/10 15:22:25 WARNING dspy.predict.predict: Not all input fields were provided to module. Present: ['outputs']. Missing: ['expectations'].\n"
     ]
    },
    {
     "name": "stdout",
     "output_type": "stream",
     "text": [
      "Processed 16 / 60 examples:  25%|██▌       | 15/60 [00:03<00:06,  7.19it/s]"
     ]
    },
    {
     "name": "stderr",
     "output_type": "stream",
     "text": [
      "2025/09/10 15:22:25 WARNING dspy.predict.predict: Not all input fields were provided to module. Present: ['outputs']. Missing: ['expectations'].\n"
     ]
    },
    {
     "name": "stdout",
     "output_type": "stream",
     "text": [
      "Processed 17 / 60 examples:  27%|██▋       | 16/60 [00:03<00:06,  7.19it/s]"
     ]
    },
    {
     "name": "stderr",
     "output_type": "stream",
     "text": [
      "2025/09/10 15:22:25 WARNING dspy.predict.predict: Not all input fields were provided to module. Present: ['outputs']. Missing: ['expectations'].\n"
     ]
    },
    {
     "name": "stdout",
     "output_type": "stream",
     "text": [
      "Processed 18 / 60 examples:  28%|██▊       | 17/60 [00:03<00:05,  7.19it/s]"
     ]
    },
    {
     "name": "stderr",
     "output_type": "stream",
     "text": [
      "2025/09/10 15:22:25 WARNING dspy.predict.predict: Not all input fields were provided to module. Present: ['outputs']. Missing: ['expectations'].\n"
     ]
    },
    {
     "name": "stdout",
     "output_type": "stream",
     "text": [
      "Processed 19 / 60 examples:  30%|███       | 18/60 [00:03<00:05,  7.19it/s]"
     ]
    },
    {
     "name": "stderr",
     "output_type": "stream",
     "text": [
      "2025/09/10 15:22:25 WARNING dspy.predict.predict: Not all input fields were provided to module. Present: ['outputs']. Missing: ['expectations'].\n"
     ]
    },
    {
     "name": "stdout",
     "output_type": "stream",
     "text": [
      "Processed 20 / 60 examples:  32%|███▏      | 19/60 [00:03<00:05,  7.19it/s]"
     ]
    },
    {
     "name": "stderr",
     "output_type": "stream",
     "text": [
      "2025/09/10 15:22:25 WARNING dspy.predict.predict: Not all input fields were provided to module. Present: ['outputs']. Missing: ['expectations'].\n"
     ]
    },
    {
     "name": "stdout",
     "output_type": "stream",
     "text": [
      "Processed 21 / 60 examples:  33%|███▎      | 20/60 [00:03<00:05,  7.19it/s]"
     ]
    },
    {
     "name": "stderr",
     "output_type": "stream",
     "text": [
      "2025/09/10 15:22:25 WARNING dspy.predict.predict: Not all input fields were provided to module. Present: ['outputs']. Missing: ['expectations'].\n"
     ]
    },
    {
     "name": "stdout",
     "output_type": "stream",
     "text": [
      "Processed 22 / 60 examples:  37%|███▋      | 22/60 [00:04<00:05,  6.56it/s]"
     ]
    },
    {
     "name": "stderr",
     "output_type": "stream",
     "text": [
      "2025/09/10 15:22:27 WARNING dspy.predict.predict: Not all input fields were provided to module. Present: ['outputs']. Missing: ['expectations'].\n"
     ]
    },
    {
     "name": "stdout",
     "output_type": "stream",
     "text": [
      "Processed 23 / 60 examples:  37%|███▋      | 22/60 [00:04<00:05,  6.56it/s]"
     ]
    },
    {
     "name": "stderr",
     "output_type": "stream",
     "text": [
      "2025/09/10 15:22:27 WARNING dspy.predict.predict: Not all input fields were provided to module. Present: ['outputs']. Missing: ['expectations'].\n"
     ]
    },
    {
     "name": "stdout",
     "output_type": "stream",
     "text": [
      "Processed 24 / 60 examples:  38%|███▊      | 23/60 [00:04<00:05,  6.56it/s]"
     ]
    },
    {
     "name": "stderr",
     "output_type": "stream",
     "text": [
      "2025/09/10 15:22:27 WARNING dspy.predict.predict: Not all input fields were provided to module. Present: ['outputs']. Missing: ['expectations'].\n"
     ]
    },
    {
     "name": "stdout",
     "output_type": "stream",
     "text": [
      "Processed 25 / 60 examples:  40%|████      | 24/60 [00:04<00:05,  6.56it/s]"
     ]
    },
    {
     "name": "stderr",
     "output_type": "stream",
     "text": [
      "2025/09/10 15:22:27 WARNING dspy.predict.predict: Not all input fields were provided to module. Present: ['outputs']. Missing: ['expectations'].\n"
     ]
    },
    {
     "name": "stdout",
     "output_type": "stream",
     "text": [
      "Processed 26 / 60 examples:  42%|████▏     | 25/60 [00:04<00:05,  6.56it/s]"
     ]
    },
    {
     "name": "stderr",
     "output_type": "stream",
     "text": [
      "2025/09/10 15:22:27 WARNING dspy.predict.predict: Not all input fields were provided to module. Present: ['outputs']. Missing: ['expectations'].\n"
     ]
    },
    {
     "name": "stdout",
     "output_type": "stream",
     "text": [
      "Processed 27 / 60 examples:  43%|████▎     | 26/60 [00:04<00:05,  6.56it/s]"
     ]
    },
    {
     "name": "stderr",
     "output_type": "stream",
     "text": [
      "2025/09/10 15:22:27 WARNING dspy.predict.predict: Not all input fields were provided to module. Present: ['outputs']. Missing: ['expectations'].\n"
     ]
    },
    {
     "name": "stdout",
     "output_type": "stream",
     "text": [
      "Processed 28 / 60 examples:  45%|████▌     | 27/60 [00:04<00:05,  6.56it/s]"
     ]
    },
    {
     "name": "stderr",
     "output_type": "stream",
     "text": [
      "2025/09/10 15:22:27 WARNING dspy.predict.predict: Not all input fields were provided to module. Present: ['outputs']. Missing: ['expectations'].\n"
     ]
    },
    {
     "name": "stdout",
     "output_type": "stream",
     "text": [
      "Processed 29 / 60 examples:  47%|████▋     | 28/60 [00:04<00:04,  6.56it/s]"
     ]
    },
    {
     "name": "stderr",
     "output_type": "stream",
     "text": [
      "2025/09/10 15:22:27 WARNING dspy.predict.predict: Not all input fields were provided to module. Present: ['outputs']. Missing: ['expectations'].\n"
     ]
    },
    {
     "name": "stdout",
     "output_type": "stream",
     "text": [
      "Processed 30 / 60 examples:  48%|████▊     | 29/60 [00:04<00:04,  6.56it/s]"
     ]
    },
    {
     "name": "stderr",
     "output_type": "stream",
     "text": [
      "2025/09/10 15:22:27 WARNING dspy.predict.predict: Not all input fields were provided to module. Present: ['outputs']. Missing: ['expectations'].\n",
      "2025/09/10 15:22:27 WARNING dspy.predict.predict: Not all input fields were provided to module. Present: ['outputs']. Missing: ['expectations'].\n"
     ]
    },
    {
     "name": "stdout",
     "output_type": "stream",
     "text": [
      "Processed 32 / 60 examples:  52%|█████▏    | 31/60 [00:04<00:04,  6.56it/s]"
     ]
    },
    {
     "name": "stderr",
     "output_type": "stream",
     "text": [
      "2025/09/10 15:22:27 WARNING dspy.predict.predict: Not all input fields were provided to module. Present: ['outputs']. Missing: ['expectations'].\n"
     ]
    },
    {
     "name": "stdout",
     "output_type": "stream",
     "text": [
      "Processed 33 / 60 examples:  53%|█████▎    | 32/60 [00:04<00:04,  6.56it/s]"
     ]
    },
    {
     "name": "stderr",
     "output_type": "stream",
     "text": [
      "2025/09/10 15:22:27 WARNING dspy.predict.predict: Not all input fields were provided to module. Present: ['outputs']. Missing: ['expectations'].\n"
     ]
    },
    {
     "name": "stdout",
     "output_type": "stream",
     "text": [
      "Processed 34 / 60 examples:  55%|█████▌    | 33/60 [00:04<00:04,  6.56it/s]"
     ]
    },
    {
     "name": "stderr",
     "output_type": "stream",
     "text": [
      "2025/09/10 15:22:27 WARNING dspy.predict.predict: Not all input fields were provided to module. Present: ['outputs']. Missing: ['expectations'].\n"
     ]
    },
    {
     "name": "stdout",
     "output_type": "stream",
     "text": [
      "Processed 35 / 60 examples:  57%|█████▋    | 34/60 [00:04<00:03,  6.56it/s]"
     ]
    },
    {
     "name": "stderr",
     "output_type": "stream",
     "text": [
      "2025/09/10 15:22:27 WARNING dspy.predict.predict: Not all input fields were provided to module. Present: ['outputs']. Missing: ['expectations'].\n"
     ]
    },
    {
     "name": "stdout",
     "output_type": "stream",
     "text": [
      "Processed 36 / 60 examples:  58%|█████▊    | 35/60 [00:04<00:03,  6.56it/s]"
     ]
    },
    {
     "name": "stderr",
     "output_type": "stream",
     "text": [
      "2025/09/10 15:22:27 WARNING dspy.predict.predict: Not all input fields were provided to module. Present: ['outputs']. Missing: ['expectations'].\n"
     ]
    },
    {
     "name": "stdout",
     "output_type": "stream",
     "text": [
      "Processed 37 / 60 examples:  60%|██████    | 36/60 [00:04<00:03,  6.56it/s]"
     ]
    },
    {
     "name": "stderr",
     "output_type": "stream",
     "text": [
      "2025/09/10 15:22:27 WARNING dspy.predict.predict: Not all input fields were provided to module. Present: ['outputs']. Missing: ['expectations'].\n"
     ]
    },
    {
     "name": "stdout",
     "output_type": "stream",
     "text": [
      "Processed 38 / 60 examples:  62%|██████▏   | 37/60 [00:04<00:03,  6.56it/s]"
     ]
    },
    {
     "name": "stderr",
     "output_type": "stream",
     "text": [
      "2025/09/10 15:22:27 WARNING dspy.predict.predict: Not all input fields were provided to module. Present: ['outputs']. Missing: ['expectations'].\n"
     ]
    },
    {
     "name": "stdout",
     "output_type": "stream",
     "text": [
      "Processed 39 / 60 examples:  63%|██████▎   | 38/60 [00:04<00:03,  6.56it/s]"
     ]
    },
    {
     "name": "stderr",
     "output_type": "stream",
     "text": [
      "2025/09/10 15:22:27 WARNING dspy.predict.predict: Not all input fields were provided to module. Present: ['outputs']. Missing: ['expectations'].\n"
     ]
    },
    {
     "name": "stdout",
     "output_type": "stream",
     "text": [
      "Processed 40 / 60 examples:  65%|██████▌   | 39/60 [00:04<00:03,  6.56it/s]"
     ]
    },
    {
     "name": "stderr",
     "output_type": "stream",
     "text": [
      "2025/09/10 15:22:27 WARNING dspy.predict.predict: Not all input fields were provided to module. Present: ['outputs']. Missing: ['expectations'].\n"
     ]
    },
    {
     "name": "stdout",
     "output_type": "stream",
     "text": [
      "Processed 41 / 60 examples:  67%|██████▋   | 40/60 [00:04<00:03,  6.56it/s]"
     ]
    },
    {
     "name": "stderr",
     "output_type": "stream",
     "text": [
      "2025/09/10 15:22:27 WARNING dspy.predict.predict: Not all input fields were provided to module. Present: ['outputs']. Missing: ['expectations'].\n"
     ]
    },
    {
     "name": "stdout",
     "output_type": "stream",
     "text": [
      "Processed 42 / 60 examples:  70%|███████   | 42/60 [00:05<00:01, 15.16it/s]"
     ]
    },
    {
     "name": "stderr",
     "output_type": "stream",
     "text": [
      "2025/09/10 15:22:27 WARNING dspy.predict.predict: Not all input fields were provided to module. Present: ['outputs']. Missing: ['expectations'].\n"
     ]
    },
    {
     "name": "stdout",
     "output_type": "stream",
     "text": [
      "Processed 43 / 60 examples:  70%|███████   | 42/60 [00:05<00:01, 15.16it/s]"
     ]
    },
    {
     "name": "stderr",
     "output_type": "stream",
     "text": [
      "2025/09/10 15:22:27 WARNING dspy.predict.predict: Not all input fields were provided to module. Present: ['outputs']. Missing: ['expectations'].\n"
     ]
    },
    {
     "name": "stdout",
     "output_type": "stream",
     "text": [
      "Processed 44 / 60 examples:  72%|███████▏  | 43/60 [00:05<00:01, 15.16it/s]"
     ]
    },
    {
     "name": "stderr",
     "output_type": "stream",
     "text": [
      "2025/09/10 15:22:27 WARNING dspy.predict.predict: Not all input fields were provided to module. Present: ['outputs']. Missing: ['expectations'].\n"
     ]
    },
    {
     "name": "stdout",
     "output_type": "stream",
     "text": [
      "Processed 45 / 60 examples:  73%|███████▎  | 44/60 [00:05<00:01, 15.16it/s]"
     ]
    },
    {
     "name": "stderr",
     "output_type": "stream",
     "text": [
      "2025/09/10 15:22:27 WARNING dspy.predict.predict: Not all input fields were provided to module. Present: ['outputs']. Missing: ['expectations'].\n"
     ]
    },
    {
     "name": "stdout",
     "output_type": "stream",
     "text": [
      "Processed 46 / 60 examples:  75%|███████▌  | 45/60 [00:05<00:00, 15.16it/s]"
     ]
    },
    {
     "name": "stderr",
     "output_type": "stream",
     "text": [
      "2025/09/10 15:22:27 WARNING dspy.predict.predict: Not all input fields were provided to module. Present: ['outputs']. Missing: ['expectations'].\n"
     ]
    },
    {
     "name": "stdout",
     "output_type": "stream",
     "text": [
      "Processed 47 / 60 examples:  77%|███████▋  | 46/60 [00:05<00:00, 15.16it/s]"
     ]
    },
    {
     "name": "stderr",
     "output_type": "stream",
     "text": [
      "2025/09/10 15:22:27 WARNING dspy.predict.predict: Not all input fields were provided to module. Present: ['outputs']. Missing: ['expectations'].\n"
     ]
    },
    {
     "name": "stdout",
     "output_type": "stream",
     "text": [
      "Processed 48 / 60 examples:  78%|███████▊  | 47/60 [00:05<00:00, 15.16it/s]"
     ]
    },
    {
     "name": "stderr",
     "output_type": "stream",
     "text": [
      "2025/09/10 15:22:27 WARNING dspy.predict.predict: Not all input fields were provided to module. Present: ['outputs']. Missing: ['expectations'].\n"
     ]
    },
    {
     "name": "stdout",
     "output_type": "stream",
     "text": [
      "Processed 49 / 60 examples:  80%|████████  | 48/60 [00:05<00:00, 15.16it/s]"
     ]
    },
    {
     "name": "stderr",
     "output_type": "stream",
     "text": [
      "2025/09/10 15:22:27 WARNING dspy.predict.predict: Not all input fields were provided to module. Present: ['outputs']. Missing: ['expectations'].\n"
     ]
    },
    {
     "name": "stdout",
     "output_type": "stream",
     "text": [
      "Processed 50 / 60 examples:  82%|████████▏ | 49/60 [00:05<00:00, 15.16it/s]"
     ]
    },
    {
     "name": "stderr",
     "output_type": "stream",
     "text": [
      "2025/09/10 15:22:27 WARNING dspy.predict.predict: Not all input fields were provided to module. Present: ['outputs']. Missing: ['expectations'].\n"
     ]
    },
    {
     "name": "stdout",
     "output_type": "stream",
     "text": [
      "Processed 51 / 60 examples:  83%|████████▎ | 50/60 [00:05<00:00, 15.16it/s]"
     ]
    },
    {
     "name": "stderr",
     "output_type": "stream",
     "text": [
      "2025/09/10 15:22:27 WARNING dspy.predict.predict: Not all input fields were provided to module. Present: ['outputs']. Missing: ['expectations'].\n"
     ]
    },
    {
     "name": "stdout",
     "output_type": "stream",
     "text": [
      "Processed 52 / 60 examples:  85%|████████▌ | 51/60 [00:05<00:00, 15.16it/s]"
     ]
    },
    {
     "name": "stderr",
     "output_type": "stream",
     "text": [
      "2025/09/10 15:22:27 WARNING dspy.predict.predict: Not all input fields were provided to module. Present: ['outputs']. Missing: ['expectations'].\n"
     ]
    },
    {
     "name": "stdout",
     "output_type": "stream",
     "text": [
      "Processed 60 / 60 examples: 100%|██████████| 60/60 [00:08<00:00,  7.49it/s]"
     ]
    },
    {
     "name": "stderr",
     "output_type": "stream",
     "text": [
      "2025/09/10 15:22:30 INFO dspy.teleprompt.simba: Batch 1: Baseline mini-batch score: 0.0\n",
      "\n",
      "2025/09/10 15:22:30 INFO dspy.teleprompt.simba: Batch 1: Processing bucket #1, with max score 0.0, max-to-min gap 0.0, and max-to-avg gap 0.0.\n",
      "2025/09/10 15:22:30 INFO dspy.teleprompt.simba: Batch 1: Invoking strategy: append_a_rule\n"
     ]
    },
    {
     "name": "stdout",
     "output_type": "stream",
     "text": [
      "\n"
     ]
    },
    {
     "name": "stderr",
     "output_type": "stream",
     "text": [
      "2025/09/10 15:22:33 INFO dspy.teleprompt.simba_utils: Advice for self: If the module receives a detailed output describing the benefits of a technology like MLflow, then it should carefully assess the completeness and accuracy of the information, ensuring the rationale highlights all key points and nuances. It should calibrate the score to reflect the comprehensiveness and correctness of the response, possibly considering a higher score if the response fully meets expectations. The module should also explicitly mention any minor gaps or strengths in the rationale to justify the score clearly.\n",
      "2025/09/10 15:22:33 INFO dspy.teleprompt.simba: \n",
      "\n",
      "2025/09/10 15:22:33 INFO dspy.teleprompt.simba: Batch 1: Processing bucket #2, with max score 0.0, max-to-min gap 0.0, and max-to-avg gap 0.0.\n",
      "2025/09/10 15:22:33 INFO dspy.teleprompt.simba: Batch 1: Invoking strategy: append_a_demo_\n",
      "2025/09/10 15:22:33 INFO dspy.teleprompt.simba_utils: Added 1 demos (one each) across all predictors.\n",
      "2025/09/10 15:22:33 INFO dspy.teleprompt.simba: \n",
      "\n",
      "2025/09/10 15:22:33 INFO dspy.teleprompt.simba: Batch 1: Processing bucket #3, with max score 0.0, max-to-min gap 0.0, and max-to-avg gap 0.0.\n",
      "2025/09/10 15:22:33 INFO dspy.teleprompt.simba: Batch 1: Invoking strategy: append_a_rule\n",
      "2025/09/10 15:22:39 INFO dspy.teleprompt.simba_utils: Advice for self: If the module receives detailed output text that covers multiple key aspects of the expected answer, it should carefully identify and highlight these key points in its rationale to justify a high accuracy score. It should ensure the rationale is thorough and clearly explains why the output matches the expectations closely, emphasizing completeness and relevance. Avoid underestimating the quality of comprehensive responses by providing a rationale that reflects the depth and accuracy of the output.\n",
      "2025/09/10 15:22:39 INFO dspy.teleprompt.simba: \n",
      "\n",
      "2025/09/10 15:22:39 INFO dspy.teleprompt.simba: Batch 1: Processing bucket #4, with max score 0.0, max-to-min gap 0.0, and max-to-avg gap 0.0.\n",
      "2025/09/10 15:22:39 INFO dspy.teleprompt.simba: Batch 1: Invoking strategy: append_a_rule\n",
      "2025/09/10 15:22:43 INFO dspy.teleprompt.simba_utils: Advice for self: If the module receives an output and expected answer that are mostly aligned but may have subtle inaccuracies or missing details, then it should carefully analyze the content for completeness and accuracy beyond surface-level coverage. It should assign scores that reflect partial correctness (e.g., 4 instead of 5) when some expected concepts are missing or underemphasized, and provide rationale that clearly identifies these gaps. This will help ensure the evaluation is more precise and better aligned with the ground truth, avoiding overly generous scoring.\n",
      "2025/09/10 15:22:43 INFO dspy.teleprompt.simba: \n",
      "\n",
      "2025/09/10 15:22:43 INFO dspy.teleprompt.simba: Batch 1: Processing bucket #5, with max score 0.0, max-to-min gap 0.0, and max-to-avg gap 0.0.\n",
      "2025/09/10 15:22:43 INFO dspy.teleprompt.simba: Batch 1: Invoking strategy: append_a_rule\n",
      "2025/09/10 15:22:47 INFO dspy.teleprompt.simba_utils: Advice for self: If the module receives a detailed output that thoroughly explains the differences between supervised and unsupervised learning with clear examples and distinctions, then it should assign a high score (close to 5) and provide a rationale that highlights the completeness, accuracy, and clarity of the explanation. The rationale should emphasize the presence of key concepts such as labeled vs. unlabeled data, the role of a teacher in supervised learning, and the autonomous nature of unsupervised learning. Avoid undervaluing comprehensive and accurate responses.\n",
      "2025/09/10 15:22:47 INFO dspy.teleprompt.simba: \n",
      "\n",
      "2025/09/10 15:22:47 INFO dspy.teleprompt.simba: Batch 1: Processing bucket #6, with max score 0.0, max-to-min gap 0.0, and max-to-avg gap 0.0.\n",
      "2025/09/10 15:22:47 INFO dspy.teleprompt.simba: Batch 1: Invoking strategy: append_a_demo_\n",
      "2025/09/10 15:22:47 INFO dspy.teleprompt.simba_utils: Added 1 demos (one each) across all predictors.\n",
      "2025/09/10 15:22:47 INFO dspy.teleprompt.simba: \n",
      "\n",
      "2025/09/10 15:22:47 INFO dspy.teleprompt.simba: Batch 1: Processing bucket #7, with max score 0.0, max-to-min gap 0.0, and max-to-avg gap 0.0.\n",
      "2025/09/10 15:22:47 INFO dspy.teleprompt.simba: Batch 1: Invoking strategy: append_a_rule\n",
      "2025/09/10 15:22:50 INFO dspy.teleprompt.simba_utils: Advice for self: If the module receives an output that is detailed, comprehensive, and covers key aspects of the topic, then it should carefully calibrate its scoring to align with the oracle's standards, possibly by incorporating more nuanced criteria or cross-checking for subtle inaccuracies or missing elements. It should avoid giving a perfect score solely based on coverage and clarity without verifying the factual correctness and completeness relative to the expectations.\n",
      "2025/09/10 15:22:50 INFO dspy.teleprompt.simba: \n",
      "\n",
      "2025/09/10 15:22:50 INFO dspy.teleprompt.simba: Batch 1: Evaluating 7 programs on 10 examples.\n",
      "2025/09/10 15:22:50 WARNING dspy.predict.predict: Not all input fields were provided to module. Present: ['outputs']. Missing: ['expectations'].\n"
     ]
    },
    {
     "name": "stdout",
     "output_type": "stream",
     "text": [
      "  0%|          | 0/70 [00:00<?, ?it/s]"
     ]
    },
    {
     "name": "stderr",
     "output_type": "stream",
     "text": [
      "2025/09/10 15:22:50 WARNING dspy.predict.predict: Not all input fields were provided to module. Present: ['outputs']. Missing: ['expectations'].\n",
      "2025/09/10 15:22:50 WARNING dspy.predict.predict: Not all input fields were provided to module. Present: ['outputs']. Missing: ['expectations'].\n",
      "2025/09/10 15:22:50 WARNING dspy.predict.predict: Not all input fields were provided to module. Present: ['outputs']. Missing: ['expectations'].\n",
      "2025/09/10 15:22:50 WARNING dspy.predict.predict: Not all input fields were provided to module. Present: ['outputs']. Missing: ['expectations'].\n",
      "2025/09/10 15:22:50 WARNING dspy.predict.predict: Not all input fields were provided to module. Present: ['outputs']. Missing: ['expectations'].\n",
      "2025/09/10 15:22:50 WARNING dspy.predict.predict: Not all input fields were provided to module. Present: ['outputs']. Missing: ['expectations'].\n",
      "2025/09/10 15:22:50 WARNING dspy.predict.predict: Not all input fields were provided to module. Present: ['outputs']. Missing: ['expectations'].\n"
     ]
    },
    {
     "name": "stdout",
     "output_type": "stream",
     "text": [
      "Processed 1 / 70 examples:   1%|▏         | 1/70 [00:03<03:37,  3.15s/it]"
     ]
    },
    {
     "name": "stderr",
     "output_type": "stream",
     "text": [
      "2025/09/10 15:22:54 WARNING dspy.predict.predict: Not all input fields were provided to module. Present: ['outputs']. Missing: ['expectations'].\n",
      "2025/09/10 15:22:54 WARNING dspy.predict.predict: Not all input fields were provided to module. Present: ['outputs']. Missing: ['expectations'].\n"
     ]
    },
    {
     "name": "stdout",
     "output_type": "stream",
     "text": [
      "Processed 3 / 70 examples:   4%|▍         | 3/70 [00:03<01:00,  1.11it/s]"
     ]
    },
    {
     "name": "stderr",
     "output_type": "stream",
     "text": [
      "2025/09/10 15:22:54 WARNING dspy.predict.predict: Not all input fields were provided to module. Present: ['outputs']. Missing: ['expectations'].\n"
     ]
    },
    {
     "name": "stdout",
     "output_type": "stream",
     "text": [
      "Processed 4 / 70 examples:   4%|▍         | 3/70 [00:03<01:00,  1.11it/s]"
     ]
    },
    {
     "name": "stderr",
     "output_type": "stream",
     "text": [
      "2025/09/10 15:22:54 WARNING dspy.predict.predict: Not all input fields were provided to module. Present: ['outputs']. Missing: ['expectations'].\n"
     ]
    },
    {
     "name": "stdout",
     "output_type": "stream",
     "text": [
      "Processed 5 / 70 examples:   7%|▋         | 5/70 [00:03<00:30,  2.10it/s]"
     ]
    },
    {
     "name": "stderr",
     "output_type": "stream",
     "text": [
      "2025/09/10 15:22:54 WARNING dspy.predict.predict: Not all input fields were provided to module. Present: ['outputs']. Missing: ['expectations'].\n"
     ]
    },
    {
     "name": "stdout",
     "output_type": "stream",
     "text": [
      "Processed 6 / 70 examples:   9%|▊         | 6/70 [00:03<00:24,  2.57it/s]"
     ]
    },
    {
     "name": "stderr",
     "output_type": "stream",
     "text": [
      "2025/09/10 15:22:54 WARNING dspy.predict.predict: Not all input fields were provided to module. Present: ['outputs']. Missing: ['expectations'].\n"
     ]
    },
    {
     "name": "stdout",
     "output_type": "stream",
     "text": [
      "Processed 7 / 70 examples:  10%|█         | 7/70 [00:04<00:25,  2.51it/s]"
     ]
    },
    {
     "name": "stderr",
     "output_type": "stream",
     "text": [
      "2025/09/10 15:22:55 WARNING dspy.predict.predict: Not all input fields were provided to module. Present: ['outputs']. Missing: ['expectations'].\n"
     ]
    },
    {
     "name": "stdout",
     "output_type": "stream",
     "text": [
      "Processed 8 / 70 examples:  11%|█▏        | 8/70 [00:04<00:21,  2.94it/s]"
     ]
    },
    {
     "name": "stderr",
     "output_type": "stream",
     "text": [
      "2025/09/10 15:22:55 WARNING dspy.predict.predict: Not all input fields were provided to module. Present: ['outputs']. Missing: ['expectations'].\n"
     ]
    },
    {
     "name": "stdout",
     "output_type": "stream",
     "text": [
      "Processed 9 / 70 examples:  13%|█▎        | 9/70 [00:05<00:37,  1.63it/s]"
     ]
    },
    {
     "name": "stderr",
     "output_type": "stream",
     "text": [
      "2025/09/10 15:22:56 WARNING dspy.predict.predict: Not all input fields were provided to module. Present: ['outputs']. Missing: ['expectations'].\n"
     ]
    },
    {
     "name": "stdout",
     "output_type": "stream",
     "text": [
      "Processed 10 / 70 examples:  13%|█▎        | 9/70 [00:05<00:37,  1.63it/s]"
     ]
    },
    {
     "name": "stderr",
     "output_type": "stream",
     "text": [
      "2025/09/10 15:22:56 WARNING dspy.predict.predict: Not all input fields were provided to module. Present: ['outputs']. Missing: ['expectations'].\n"
     ]
    },
    {
     "name": "stdout",
     "output_type": "stream",
     "text": [
      "Processed 11 / 70 examples:  14%|█▍        | 10/70 [00:05<00:36,  1.63it/s]"
     ]
    },
    {
     "name": "stderr",
     "output_type": "stream",
     "text": [
      "2025/09/10 15:22:56 WARNING dspy.predict.predict: Not all input fields were provided to module. Present: ['outputs']. Missing: ['expectations'].\n"
     ]
    },
    {
     "name": "stdout",
     "output_type": "stream",
     "text": [
      "Processed 12 / 70 examples:  17%|█▋        | 12/70 [00:05<00:17,  3.27it/s]"
     ]
    },
    {
     "name": "stderr",
     "output_type": "stream",
     "text": [
      "2025/09/10 15:22:56 WARNING dspy.predict.predict: Not all input fields were provided to module. Present: ['outputs']. Missing: ['expectations'].\n"
     ]
    },
    {
     "name": "stdout",
     "output_type": "stream",
     "text": [
      "Processed 13 / 70 examples:  19%|█▊        | 13/70 [00:05<00:15,  3.72it/s]"
     ]
    },
    {
     "name": "stderr",
     "output_type": "stream",
     "text": [
      "2025/09/10 15:22:56 WARNING dspy.predict.predict: Not all input fields were provided to module. Present: ['outputs']. Missing: ['expectations'].\n"
     ]
    },
    {
     "name": "stdout",
     "output_type": "stream",
     "text": [
      "Processed 14 / 70 examples:  19%|█▊        | 13/70 [00:05<00:15,  3.72it/s]"
     ]
    },
    {
     "name": "stderr",
     "output_type": "stream",
     "text": [
      "2025/09/10 15:22:56 WARNING dspy.predict.predict: Not all input fields were provided to module. Present: ['outputs']. Missing: ['expectations'].\n"
     ]
    },
    {
     "name": "stdout",
     "output_type": "stream",
     "text": [
      "Processed 15 / 70 examples:  21%|██▏       | 15/70 [00:06<00:12,  4.26it/s]"
     ]
    },
    {
     "name": "stderr",
     "output_type": "stream",
     "text": [
      "2025/09/10 15:22:57 WARNING dspy.predict.predict: Not all input fields were provided to module. Present: ['outputs']. Missing: ['expectations'].\n"
     ]
    },
    {
     "name": "stdout",
     "output_type": "stream",
     "text": [
      "Processed 16 / 70 examples:  23%|██▎       | 16/70 [00:06<00:13,  4.01it/s]"
     ]
    },
    {
     "name": "stderr",
     "output_type": "stream",
     "text": [
      "2025/09/10 15:22:57 WARNING dspy.predict.predict: Not all input fields were provided to module. Present: ['outputs']. Missing: ['expectations'].\n"
     ]
    },
    {
     "name": "stdout",
     "output_type": "stream",
     "text": [
      "Processed 19 / 70 examples:  26%|██▌       | 18/70 [00:07<00:23,  2.26it/s]"
     ]
    },
    {
     "name": "stderr",
     "output_type": "stream",
     "text": [
      "2025/09/10 15:22:58 WARNING dspy.predict.predict: Not all input fields were provided to module. Present: ['outputs']. Missing: ['expectations'].\n",
      "2025/09/10 15:22:58 WARNING dspy.predict.predict: Not all input fields were provided to module. Present: ['outputs']. Missing: ['expectations'].\n",
      "2025/09/10 15:22:58 WARNING dspy.predict.predict: Not all input fields were provided to module. Present: ['outputs']. Missing: ['expectations'].\n"
     ]
    },
    {
     "name": "stdout",
     "output_type": "stream",
     "text": [
      "Processed 20 / 70 examples:  29%|██▊       | 20/70 [00:07<00:12,  4.15it/s]"
     ]
    },
    {
     "name": "stderr",
     "output_type": "stream",
     "text": [
      "2025/09/10 15:22:58 WARNING dspy.predict.predict: Not all input fields were provided to module. Present: ['outputs']. Missing: ['expectations'].\n"
     ]
    },
    {
     "name": "stdout",
     "output_type": "stream",
     "text": [
      "Processed 21 / 70 examples:  29%|██▊       | 20/70 [00:07<00:12,  4.15it/s]"
     ]
    },
    {
     "name": "stderr",
     "output_type": "stream",
     "text": [
      "2025/09/10 15:22:58 WARNING dspy.predict.predict: Not all input fields were provided to module. Present: ['outputs']. Missing: ['expectations'].\n"
     ]
    },
    {
     "name": "stdout",
     "output_type": "stream",
     "text": [
      "Processed 22 / 70 examples:  31%|███▏      | 22/70 [00:08<00:11,  4.03it/s]"
     ]
    },
    {
     "name": "stderr",
     "output_type": "stream",
     "text": [
      "2025/09/10 15:22:59 WARNING dspy.predict.predict: Not all input fields were provided to module. Present: ['outputs']. Missing: ['expectations'].\n"
     ]
    },
    {
     "name": "stdout",
     "output_type": "stream",
     "text": [
      "Processed 23 / 70 examples:  31%|███▏      | 22/70 [00:08<00:11,  4.03it/s]"
     ]
    },
    {
     "name": "stderr",
     "output_type": "stream",
     "text": [
      "2025/09/10 15:22:59 WARNING dspy.predict.predict: Not all input fields were provided to module. Present: ['outputs']. Missing: ['expectations'].\n"
     ]
    },
    {
     "name": "stdout",
     "output_type": "stream",
     "text": [
      "Processed 24 / 70 examples:  34%|███▍      | 24/70 [00:09<00:14,  3.16it/s]"
     ]
    },
    {
     "name": "stderr",
     "output_type": "stream",
     "text": [
      "2025/09/10 15:23:00 WARNING dspy.predict.predict: Not all input fields were provided to module. Present: ['outputs']. Missing: ['expectations'].\n"
     ]
    },
    {
     "name": "stdout",
     "output_type": "stream",
     "text": [
      "Processed 25 / 70 examples:  36%|███▌      | 25/70 [00:10<00:18,  2.41it/s]"
     ]
    },
    {
     "name": "stderr",
     "output_type": "stream",
     "text": [
      "2025/09/10 15:23:01 WARNING dspy.predict.predict: Not all input fields were provided to module. Present: ['outputs']. Missing: ['expectations'].\n"
     ]
    },
    {
     "name": "stdout",
     "output_type": "stream",
     "text": [
      "Processed 26 / 70 examples:  36%|███▌      | 25/70 [00:10<00:18,  2.41it/s]"
     ]
    },
    {
     "name": "stderr",
     "output_type": "stream",
     "text": [
      "2025/09/10 15:23:01 WARNING dspy.predict.predict: Not all input fields were provided to module. Present: ['outputs']. Missing: ['expectations'].\n"
     ]
    },
    {
     "name": "stdout",
     "output_type": "stream",
     "text": [
      "Processed 27 / 70 examples:  37%|███▋      | 26/70 [00:10<00:18,  2.41it/s]"
     ]
    },
    {
     "name": "stderr",
     "output_type": "stream",
     "text": [
      "2025/09/10 15:23:01 WARNING dspy.predict.predict: Not all input fields were provided to module. Present: ['outputs']. Missing: ['expectations'].\n"
     ]
    },
    {
     "name": "stdout",
     "output_type": "stream",
     "text": [
      "Processed 28 / 70 examples:  39%|███▊      | 27/70 [00:10<00:17,  2.41it/s]"
     ]
    },
    {
     "name": "stderr",
     "output_type": "stream",
     "text": [
      "2025/09/10 15:23:01 WARNING dspy.predict.predict: Not all input fields were provided to module. Present: ['outputs']. Missing: ['expectations'].\n"
     ]
    },
    {
     "name": "stdout",
     "output_type": "stream",
     "text": [
      "Processed 29 / 70 examples:  40%|████      | 28/70 [00:10<00:14,  2.88it/s]"
     ]
    },
    {
     "name": "stderr",
     "output_type": "stream",
     "text": [
      "2025/09/10 15:23:01 WARNING dspy.predict.predict: Not all input fields were provided to module. Present: ['outputs']. Missing: ['expectations'].\n"
     ]
    },
    {
     "name": "stdout",
     "output_type": "stream",
     "text": [
      "Processed 30 / 70 examples:  43%|████▎     | 30/70 [00:11<00:10,  3.67it/s]"
     ]
    },
    {
     "name": "stderr",
     "output_type": "stream",
     "text": [
      "2025/09/10 15:23:02 WARNING dspy.predict.predict: Not all input fields were provided to module. Present: ['outputs']. Missing: ['expectations'].\n"
     ]
    },
    {
     "name": "stdout",
     "output_type": "stream",
     "text": [
      "Processed 31 / 70 examples:  43%|████▎     | 30/70 [00:11<00:10,  3.67it/s]"
     ]
    },
    {
     "name": "stderr",
     "output_type": "stream",
     "text": [
      "2025/09/10 15:23:02 WARNING dspy.predict.predict: Not all input fields were provided to module. Present: ['outputs']. Missing: ['expectations'].\n"
     ]
    },
    {
     "name": "stdout",
     "output_type": "stream",
     "text": [
      "Processed 32 / 70 examples:  46%|████▌     | 32/70 [00:11<00:12,  3.11it/s]"
     ]
    },
    {
     "name": "stderr",
     "output_type": "stream",
     "text": [
      "2025/09/10 15:23:02 WARNING dspy.predict.predict: Not all input fields were provided to module. Present: ['outputs']. Missing: ['expectations'].\n"
     ]
    },
    {
     "name": "stdout",
     "output_type": "stream",
     "text": [
      "Processed 33 / 70 examples:  46%|████▌     | 32/70 [00:11<00:12,  3.11it/s]"
     ]
    },
    {
     "name": "stderr",
     "output_type": "stream",
     "text": [
      "2025/09/10 15:23:02 WARNING dspy.predict.predict: Not all input fields were provided to module. Present: ['outputs']. Missing: ['expectations'].\n"
     ]
    },
    {
     "name": "stdout",
     "output_type": "stream",
     "text": [
      "Processed 34 / 70 examples:  49%|████▊     | 34/70 [00:12<00:09,  3.72it/s]"
     ]
    },
    {
     "name": "stderr",
     "output_type": "stream",
     "text": [
      "2025/09/10 15:23:03 WARNING dspy.predict.predict: Not all input fields were provided to module. Present: ['outputs']. Missing: ['expectations'].\n"
     ]
    },
    {
     "name": "stdout",
     "output_type": "stream",
     "text": [
      "Processed 35 / 70 examples:  50%|█████     | 35/70 [00:12<00:11,  2.93it/s]"
     ]
    },
    {
     "name": "stderr",
     "output_type": "stream",
     "text": [
      "2025/09/10 15:23:03 WARNING dspy.predict.predict: Not all input fields were provided to module. Present: ['outputs']. Missing: ['expectations'].\n"
     ]
    },
    {
     "name": "stdout",
     "output_type": "stream",
     "text": [
      "Processed 36 / 70 examples:  51%|█████▏    | 36/70 [00:13<00:10,  3.20it/s]"
     ]
    },
    {
     "name": "stderr",
     "output_type": "stream",
     "text": [
      "2025/09/10 15:23:04 WARNING dspy.predict.predict: Not all input fields were provided to module. Present: ['outputs']. Missing: ['expectations'].\n"
     ]
    },
    {
     "name": "stdout",
     "output_type": "stream",
     "text": [
      "Processed 37 / 70 examples:  53%|█████▎    | 37/70 [00:13<00:09,  3.63it/s]"
     ]
    },
    {
     "name": "stderr",
     "output_type": "stream",
     "text": [
      "2025/09/10 15:23:04 WARNING dspy.predict.predict: Not all input fields were provided to module. Present: ['outputs']. Missing: ['expectations'].\n"
     ]
    },
    {
     "name": "stdout",
     "output_type": "stream",
     "text": [
      "Processed 38 / 70 examples:  53%|█████▎    | 37/70 [00:13<00:09,  3.63it/s]"
     ]
    },
    {
     "name": "stderr",
     "output_type": "stream",
     "text": [
      "2025/09/10 15:23:04 WARNING dspy.predict.predict: Not all input fields were provided to module. Present: ['outputs']. Missing: ['expectations'].\n"
     ]
    },
    {
     "name": "stdout",
     "output_type": "stream",
     "text": [
      "Processed 39 / 70 examples:  54%|█████▍    | 38/70 [00:13<00:08,  3.63it/s]"
     ]
    },
    {
     "name": "stderr",
     "output_type": "stream",
     "text": [
      "2025/09/10 15:23:04 WARNING dspy.predict.predict: Not all input fields were provided to module. Present: ['outputs']. Missing: ['expectations'].\n"
     ]
    },
    {
     "name": "stdout",
     "output_type": "stream",
     "text": [
      "Processed 40 / 70 examples:  57%|█████▋    | 40/70 [00:13<00:07,  4.03it/s]"
     ]
    },
    {
     "name": "stderr",
     "output_type": "stream",
     "text": [
      "2025/09/10 15:23:04 WARNING dspy.predict.predict: Not all input fields were provided to module. Present: ['outputs']. Missing: ['expectations'].\n"
     ]
    },
    {
     "name": "stdout",
     "output_type": "stream",
     "text": [
      "Processed 41 / 70 examples:  59%|█████▊    | 41/70 [00:14<00:06,  4.29it/s]"
     ]
    },
    {
     "name": "stderr",
     "output_type": "stream",
     "text": [
      "2025/09/10 15:23:05 WARNING dspy.predict.predict: Not all input fields were provided to module. Present: ['outputs']. Missing: ['expectations'].\n"
     ]
    },
    {
     "name": "stdout",
     "output_type": "stream",
     "text": [
      "Processed 42 / 70 examples:  60%|██████    | 42/70 [00:14<00:06,  4.13it/s]"
     ]
    },
    {
     "name": "stderr",
     "output_type": "stream",
     "text": [
      "2025/09/10 15:23:05 WARNING dspy.predict.predict: Not all input fields were provided to module. Present: ['outputs']. Missing: ['expectations'].\n"
     ]
    },
    {
     "name": "stdout",
     "output_type": "stream",
     "text": [
      "Processed 43 / 70 examples:  61%|██████▏   | 43/70 [00:14<00:08,  3.05it/s]"
     ]
    },
    {
     "name": "stderr",
     "output_type": "stream",
     "text": [
      "2025/09/10 15:23:05 WARNING dspy.predict.predict: Not all input fields were provided to module. Present: ['outputs']. Missing: ['expectations'].\n"
     ]
    },
    {
     "name": "stdout",
     "output_type": "stream",
     "text": [
      "Processed 44 / 70 examples:  63%|██████▎   | 44/70 [00:15<00:08,  2.90it/s]"
     ]
    },
    {
     "name": "stderr",
     "output_type": "stream",
     "text": [
      "2025/09/10 15:23:06 WARNING dspy.predict.predict: Not all input fields were provided to module. Present: ['outputs']. Missing: ['expectations'].\n"
     ]
    },
    {
     "name": "stdout",
     "output_type": "stream",
     "text": [
      "Processed 45 / 70 examples:  64%|██████▍   | 45/70 [00:15<00:07,  3.14it/s]"
     ]
    },
    {
     "name": "stderr",
     "output_type": "stream",
     "text": [
      "2025/09/10 15:23:06 WARNING dspy.predict.predict: Not all input fields were provided to module. Present: ['outputs']. Missing: ['expectations'].\n"
     ]
    },
    {
     "name": "stdout",
     "output_type": "stream",
     "text": [
      "Processed 46 / 70 examples:  66%|██████▌   | 46/70 [00:15<00:06,  3.67it/s]"
     ]
    },
    {
     "name": "stderr",
     "output_type": "stream",
     "text": [
      "2025/09/10 15:23:06 WARNING dspy.predict.predict: Not all input fields were provided to module. Present: ['outputs']. Missing: ['expectations'].\n"
     ]
    },
    {
     "name": "stdout",
     "output_type": "stream",
     "text": [
      "Processed 47 / 70 examples:  67%|██████▋   | 47/70 [00:16<00:06,  3.48it/s]"
     ]
    },
    {
     "name": "stderr",
     "output_type": "stream",
     "text": [
      "2025/09/10 15:23:07 WARNING dspy.predict.predict: Not all input fields were provided to module. Present: ['outputs']. Missing: ['expectations'].\n"
     ]
    },
    {
     "name": "stdout",
     "output_type": "stream",
     "text": [
      "Processed 48 / 70 examples:  67%|██████▋   | 47/70 [00:16<00:06,  3.48it/s]"
     ]
    },
    {
     "name": "stderr",
     "output_type": "stream",
     "text": [
      "2025/09/10 15:23:07 WARNING dspy.predict.predict: Not all input fields were provided to module. Present: ['outputs']. Missing: ['expectations'].\n"
     ]
    },
    {
     "name": "stdout",
     "output_type": "stream",
     "text": [
      "Processed 49 / 70 examples:  70%|███████   | 49/70 [00:16<00:04,  4.81it/s]"
     ]
    },
    {
     "name": "stderr",
     "output_type": "stream",
     "text": [
      "2025/09/10 15:23:07 WARNING dspy.predict.predict: Not all input fields were provided to module. Present: ['outputs']. Missing: ['expectations'].\n"
     ]
    },
    {
     "name": "stdout",
     "output_type": "stream",
     "text": [
      "Processed 50 / 70 examples:  70%|███████   | 49/70 [00:16<00:04,  4.81it/s]"
     ]
    },
    {
     "name": "stderr",
     "output_type": "stream",
     "text": [
      "2025/09/10 15:23:07 WARNING dspy.predict.predict: Not all input fields were provided to module. Present: ['outputs']. Missing: ['expectations'].\n"
     ]
    },
    {
     "name": "stdout",
     "output_type": "stream",
     "text": [
      "Processed 51 / 70 examples:  73%|███████▎  | 51/70 [00:16<00:04,  3.99it/s]"
     ]
    },
    {
     "name": "stderr",
     "output_type": "stream",
     "text": [
      "2025/09/10 15:23:07 WARNING dspy.predict.predict: Not all input fields were provided to module. Present: ['outputs']. Missing: ['expectations'].\n"
     ]
    },
    {
     "name": "stdout",
     "output_type": "stream",
     "text": [
      "Processed 52 / 70 examples:  74%|███████▍  | 52/70 [00:17<00:06,  2.77it/s]"
     ]
    },
    {
     "name": "stderr",
     "output_type": "stream",
     "text": [
      "2025/09/10 15:23:08 WARNING dspy.predict.predict: Not all input fields were provided to module. Present: ['outputs']. Missing: ['expectations'].\n"
     ]
    },
    {
     "name": "stdout",
     "output_type": "stream",
     "text": [
      "Processed 54 / 70 examples:  76%|███████▌  | 53/70 [00:17<00:06,  2.77it/s]"
     ]
    },
    {
     "name": "stderr",
     "output_type": "stream",
     "text": [
      "2025/09/10 15:23:08 WARNING dspy.predict.predict: Not all input fields were provided to module. Present: ['outputs']. Missing: ['expectations'].\n",
      "2025/09/10 15:23:08 WARNING dspy.predict.predict: Not all input fields were provided to module. Present: ['outputs']. Missing: ['expectations'].\n"
     ]
    },
    {
     "name": "stdout",
     "output_type": "stream",
     "text": [
      "Processed 55 / 70 examples:  79%|███████▊  | 55/70 [00:17<00:03,  4.68it/s]"
     ]
    },
    {
     "name": "stderr",
     "output_type": "stream",
     "text": [
      "2025/09/10 15:23:08 WARNING dspy.predict.predict: Not all input fields were provided to module. Present: ['outputs']. Missing: ['expectations'].\n"
     ]
    },
    {
     "name": "stdout",
     "output_type": "stream",
     "text": [
      "Processed 56 / 70 examples:  80%|████████  | 56/70 [00:18<00:03,  4.35it/s]"
     ]
    },
    {
     "name": "stderr",
     "output_type": "stream",
     "text": [
      "2025/09/10 15:23:09 WARNING dspy.predict.predict: Not all input fields were provided to module. Present: ['outputs']. Missing: ['expectations'].\n"
     ]
    },
    {
     "name": "stdout",
     "output_type": "stream",
     "text": [
      "Processed 57 / 70 examples:  81%|████████▏ | 57/70 [00:18<00:02,  4.94it/s]"
     ]
    },
    {
     "name": "stderr",
     "output_type": "stream",
     "text": [
      "2025/09/10 15:23:09 WARNING dspy.predict.predict: Not all input fields were provided to module. Present: ['outputs']. Missing: ['expectations'].\n"
     ]
    },
    {
     "name": "stdout",
     "output_type": "stream",
     "text": [
      "Processed 58 / 70 examples:  83%|████████▎ | 58/70 [00:19<00:04,  2.84it/s]"
     ]
    },
    {
     "name": "stderr",
     "output_type": "stream",
     "text": [
      "2025/09/10 15:23:10 WARNING dspy.predict.predict: Not all input fields were provided to module. Present: ['outputs']. Missing: ['expectations'].\n",
      "2025/09/10 15:23:10 WARNING dspy.predict.predict: Not all input fields were provided to module. Present: ['outputs']. Missing: ['expectations'].\n"
     ]
    },
    {
     "name": "stdout",
     "output_type": "stream",
     "text": [
      "Processed 60 / 70 examples:  86%|████████▌ | 60/70 [00:19<00:03,  3.04it/s]"
     ]
    },
    {
     "name": "stderr",
     "output_type": "stream",
     "text": [
      "2025/09/10 15:23:10 WARNING dspy.predict.predict: Not all input fields were provided to module. Present: ['outputs']. Missing: ['expectations'].\n"
     ]
    },
    {
     "name": "stdout",
     "output_type": "stream",
     "text": [
      "Processed 61 / 70 examples:  87%|████████▋ | 61/70 [00:20<00:03,  2.68it/s]"
     ]
    },
    {
     "name": "stderr",
     "output_type": "stream",
     "text": [
      "2025/09/10 15:23:11 WARNING dspy.predict.predict: Not all input fields were provided to module. Present: ['outputs']. Missing: ['expectations'].\n"
     ]
    },
    {
     "name": "stdout",
     "output_type": "stream",
     "text": [
      "Processed 62 / 70 examples:  87%|████████▋ | 61/70 [00:20<00:03,  2.68it/s]"
     ]
    },
    {
     "name": "stderr",
     "output_type": "stream",
     "text": [
      "2025/09/10 15:23:11 WARNING dspy.predict.predict: Not all input fields were provided to module. Present: ['outputs']. Missing: ['expectations'].\n"
     ]
    },
    {
     "name": "stdout",
     "output_type": "stream",
     "text": [
      "Processed 70 / 70 examples: 100%|██████████| 70/70 [00:23<00:00,  2.96it/s]"
     ]
    },
    {
     "name": "stderr",
     "output_type": "stream",
     "text": [
      "2025/09/10 15:23:14 INFO dspy.teleprompt.simba: Scores after 1 batches: [0.0, 0.0, 0.0, 0.0, 0.0, 0.0, 0.0], Best: 0.0\n",
      "\n",
      "2025/09/10 15:23:14 INFO dspy.teleprompt.simba: Starting batch 2 of 8.\n",
      "2025/09/10 15:23:14 INFO dspy.teleprompt.simba: Sampling program trajectories on 10 examples x 6 samples.\n",
      "2025/09/10 15:23:14 WARNING dspy.predict.predict: Not all input fields were provided to module. Present: ['outputs']. Missing: ['expectations'].\n"
     ]
    },
    {
     "name": "stdout",
     "output_type": "stream",
     "text": [
      "\n"
     ]
    },
    {
     "name": "stderr",
     "output_type": "stream",
     "text": [
      "2025/09/10 15:23:14 WARNING dspy.predict.predict: Not all input fields were provided to module. Present: ['outputs']. Missing: ['expectations'].\n",
      "2025/09/10 15:23:14 WARNING dspy.predict.predict: Not all input fields were provided to module. Present: ['outputs']. Missing: ['expectations'].\n",
      "2025/09/10 15:23:14 WARNING dspy.predict.predict: Not all input fields were provided to module. Present: ['outputs']. Missing: ['expectations'].\n"
     ]
    },
    {
     "name": "stdout",
     "output_type": "stream",
     "text": [
      "Processed 1 / 60 examples:   0%|          | 0/60 [00:00<?, ?it/s]"
     ]
    },
    {
     "name": "stderr",
     "output_type": "stream",
     "text": [
      "2025/09/10 15:23:14 WARNING dspy.predict.predict: Not all input fields were provided to module. Present: ['outputs']. Missing: ['expectations'].\n"
     ]
    },
    {
     "name": "stdout",
     "output_type": "stream",
     "text": [
      "Processed 2 / 60 examples:   2%|▏         | 1/60 [00:00<00:00, 546.06it/s]"
     ]
    },
    {
     "name": "stderr",
     "output_type": "stream",
     "text": [
      "2025/09/10 15:23:14 WARNING dspy.predict.predict: Not all input fields were provided to module. Present: ['outputs']. Missing: ['expectations'].\n"
     ]
    },
    {
     "name": "stdout",
     "output_type": "stream",
     "text": [
      "Processed 3 / 60 examples:   3%|▎         | 2/60 [00:00<00:00, 497.99it/s]"
     ]
    },
    {
     "name": "stderr",
     "output_type": "stream",
     "text": [
      "2025/09/10 15:23:14 WARNING dspy.predict.predict: Not all input fields were provided to module. Present: ['outputs']. Missing: ['expectations'].\n",
      "2025/09/10 15:23:14 WARNING dspy.predict.predict: Not all input fields were provided to module. Present: ['outputs']. Missing: ['expectations'].\n"
     ]
    },
    {
     "name": "stdout",
     "output_type": "stream",
     "text": [
      "Processed 4 / 60 examples:   5%|▌         | 3/60 [00:00<00:00, 312.14it/s]"
     ]
    },
    {
     "name": "stderr",
     "output_type": "stream",
     "text": [
      "2025/09/10 15:23:14 WARNING dspy.predict.predict: Not all input fields were provided to module. Present: ['outputs']. Missing: ['expectations'].\n"
     ]
    },
    {
     "name": "stdout",
     "output_type": "stream",
     "text": [
      "Processed 6 / 60 examples:   8%|▊         | 5/60 [00:00<00:00, 378.33it/s]"
     ]
    },
    {
     "name": "stderr",
     "output_type": "stream",
     "text": [
      "2025/09/10 15:23:14 WARNING dspy.predict.predict: Not all input fields were provided to module. Present: ['outputs']. Missing: ['expectations'].\n"
     ]
    },
    {
     "name": "stdout",
     "output_type": "stream",
     "text": [
      "Processed 8 / 60 examples:  12%|█▏        | 7/60 [00:00<00:00, 404.65it/s]"
     ]
    },
    {
     "name": "stderr",
     "output_type": "stream",
     "text": [
      "2025/09/10 15:23:14 WARNING dspy.predict.predict: Not all input fields were provided to module. Present: ['outputs']. Missing: ['expectations'].\n"
     ]
    },
    {
     "name": "stdout",
     "output_type": "stream",
     "text": [
      "Processed 9 / 60 examples:  13%|█▎        | 8/60 [00:00<00:00, 414.52it/s]"
     ]
    },
    {
     "name": "stderr",
     "output_type": "stream",
     "text": [
      "2025/09/10 15:23:14 WARNING dspy.predict.predict: Not all input fields were provided to module. Present: ['outputs']. Missing: ['expectations'].\n"
     ]
    },
    {
     "name": "stdout",
     "output_type": "stream",
     "text": [
      "Processed 10 / 60 examples:  15%|█▌        | 9/60 [00:00<00:00, 262.47it/s]"
     ]
    },
    {
     "name": "stderr",
     "output_type": "stream",
     "text": [
      "2025/09/10 15:23:14 WARNING dspy.predict.predict: Not all input fields were provided to module. Present: ['outputs']. Missing: ['expectations'].\n"
     ]
    },
    {
     "name": "stdout",
     "output_type": "stream",
     "text": [
      "Processed 12 / 60 examples:  18%|█▊        | 11/60 [00:00<00:00, 274.15it/s]"
     ]
    },
    {
     "name": "stderr",
     "output_type": "stream",
     "text": [
      "2025/09/10 15:23:14 WARNING dspy.predict.predict: Not all input fields were provided to module. Present: ['outputs']. Missing: ['expectations'].\n"
     ]
    },
    {
     "name": "stdout",
     "output_type": "stream",
     "text": [
      "Processed 13 / 60 examples:  20%|██        | 12/60 [00:00<00:00, 286.12it/s]"
     ]
    },
    {
     "name": "stderr",
     "output_type": "stream",
     "text": [
      "2025/09/10 15:23:14 WARNING dspy.predict.predict: Not all input fields were provided to module. Present: ['outputs']. Missing: ['expectations'].\n"
     ]
    },
    {
     "name": "stdout",
     "output_type": "stream",
     "text": [
      "Processed 14 / 60 examples:  22%|██▏       | 13/60 [00:00<00:00, 292.10it/s]"
     ]
    },
    {
     "name": "stderr",
     "output_type": "stream",
     "text": [
      "2025/09/10 15:23:14 WARNING dspy.predict.predict: Not all input fields were provided to module. Present: ['outputs']. Missing: ['expectations'].\n",
      "2025/09/10 15:23:14 WARNING dspy.predict.predict: Not all input fields were provided to module. Present: ['outputs']. Missing: ['expectations'].\n"
     ]
    },
    {
     "name": "stdout",
     "output_type": "stream",
     "text": [
      "Processed 16 / 60 examples:  25%|██▌       | 15/60 [00:00<00:00, 161.49it/s]"
     ]
    },
    {
     "name": "stderr",
     "output_type": "stream",
     "text": [
      "2025/09/10 15:23:14 WARNING dspy.predict.predict: Not all input fields were provided to module. Present: ['outputs']. Missing: ['expectations'].\n"
     ]
    },
    {
     "name": "stdout",
     "output_type": "stream",
     "text": [
      "Processed 17 / 60 examples:  27%|██▋       | 16/60 [00:00<00:00, 169.86it/s]"
     ]
    },
    {
     "name": "stderr",
     "output_type": "stream",
     "text": [
      "2025/09/10 15:23:14 WARNING dspy.predict.predict: Not all input fields were provided to module. Present: ['outputs']. Missing: ['expectations'].\n"
     ]
    },
    {
     "name": "stdout",
     "output_type": "stream",
     "text": [
      "Processed 18 / 60 examples:  30%|███       | 18/60 [00:00<00:00, 168.13it/s]"
     ]
    },
    {
     "name": "stderr",
     "output_type": "stream",
     "text": [
      "2025/09/10 15:23:14 WARNING dspy.predict.predict: Not all input fields were provided to module. Present: ['outputs']. Missing: ['expectations'].\n"
     ]
    },
    {
     "name": "stdout",
     "output_type": "stream",
     "text": [
      "Processed 19 / 60 examples:  30%|███       | 18/60 [00:00<00:00, 168.13it/s]"
     ]
    },
    {
     "name": "stderr",
     "output_type": "stream",
     "text": [
      "2025/09/10 15:23:14 WARNING dspy.predict.predict: Not all input fields were provided to module. Present: ['outputs']. Missing: ['expectations'].\n",
      "2025/09/10 15:23:14 WARNING dspy.predict.predict: Not all input fields were provided to module. Present: ['outputs']. Missing: ['expectations'].\n"
     ]
    },
    {
     "name": "stdout",
     "output_type": "stream",
     "text": [
      "Processed 21 / 60 examples:  33%|███▎      | 20/60 [00:00<00:00, 168.13it/s]"
     ]
    },
    {
     "name": "stderr",
     "output_type": "stream",
     "text": [
      "2025/09/10 15:23:14 WARNING dspy.predict.predict: Not all input fields were provided to module. Present: ['outputs']. Missing: ['expectations'].\n"
     ]
    },
    {
     "name": "stdout",
     "output_type": "stream",
     "text": [
      "Processed 22 / 60 examples:  35%|███▌      | 21/60 [00:00<00:00, 168.13it/s]"
     ]
    },
    {
     "name": "stderr",
     "output_type": "stream",
     "text": [
      "2025/09/10 15:23:14 WARNING dspy.predict.predict: Not all input fields were provided to module. Present: ['outputs']. Missing: ['expectations'].\n"
     ]
    },
    {
     "name": "stdout",
     "output_type": "stream",
     "text": [
      "Processed 23 / 60 examples:  37%|███▋      | 22/60 [00:00<00:00, 168.13it/s]"
     ]
    },
    {
     "name": "stderr",
     "output_type": "stream",
     "text": [
      "2025/09/10 15:23:14 WARNING dspy.predict.predict: Not all input fields were provided to module. Present: ['outputs']. Missing: ['expectations'].\n"
     ]
    },
    {
     "name": "stdout",
     "output_type": "stream",
     "text": [
      "Processed 24 / 60 examples:  38%|███▊      | 23/60 [00:00<00:00, 168.13it/s]"
     ]
    },
    {
     "name": "stderr",
     "output_type": "stream",
     "text": [
      "2025/09/10 15:23:14 WARNING dspy.predict.predict: Not all input fields were provided to module. Present: ['outputs']. Missing: ['expectations'].\n"
     ]
    },
    {
     "name": "stdout",
     "output_type": "stream",
     "text": [
      "Processed 26 / 60 examples:  42%|████▏     | 25/60 [00:00<00:00, 168.13it/s]"
     ]
    },
    {
     "name": "stderr",
     "output_type": "stream",
     "text": [
      "2025/09/10 15:23:14 WARNING dspy.predict.predict: Not all input fields were provided to module. Present: ['outputs']. Missing: ['expectations'].\n"
     ]
    },
    {
     "name": "stdout",
     "output_type": "stream",
     "text": [
      "Processed 27 / 60 examples:  43%|████▎     | 26/60 [00:00<00:00, 168.13it/s]"
     ]
    },
    {
     "name": "stderr",
     "output_type": "stream",
     "text": [
      "2025/09/10 15:23:14 WARNING dspy.predict.predict: Not all input fields were provided to module. Present: ['outputs']. Missing: ['expectations'].\n",
      "2025/09/10 15:23:14 WARNING dspy.predict.predict: Not all input fields were provided to module. Present: ['outputs']. Missing: ['expectations'].\n"
     ]
    },
    {
     "name": "stdout",
     "output_type": "stream",
     "text": [
      "Processed 28 / 60 examples:  45%|████▌     | 27/60 [00:00<00:00, 168.13it/s]"
     ]
    },
    {
     "name": "stderr",
     "output_type": "stream",
     "text": [
      "2025/09/10 15:23:14 WARNING dspy.predict.predict: Not all input fields were provided to module. Present: ['outputs']. Missing: ['expectations'].\n"
     ]
    },
    {
     "name": "stdout",
     "output_type": "stream",
     "text": [
      "Processed 29 / 60 examples:  47%|████▋     | 28/60 [00:00<00:00, 168.13it/s]"
     ]
    },
    {
     "name": "stderr",
     "output_type": "stream",
     "text": [
      "2025/09/10 15:23:14 WARNING dspy.predict.predict: Not all input fields were provided to module. Present: ['outputs']. Missing: ['expectations'].\n"
     ]
    },
    {
     "name": "stdout",
     "output_type": "stream",
     "text": [
      "Processed 31 / 60 examples:  50%|█████     | 30/60 [00:00<00:00, 168.13it/s]"
     ]
    },
    {
     "name": "stderr",
     "output_type": "stream",
     "text": [
      "2025/09/10 15:23:14 WARNING dspy.predict.predict: Not all input fields were provided to module. Present: ['outputs']. Missing: ['expectations'].\n",
      "2025/09/10 15:23:14 WARNING dspy.predict.predict: Not all input fields were provided to module. Present: ['outputs']. Missing: ['expectations'].\n"
     ]
    },
    {
     "name": "stdout",
     "output_type": "stream",
     "text": [
      "Processed 32 / 60 examples:  52%|█████▏    | 31/60 [00:00<00:00, 168.13it/s]"
     ]
    },
    {
     "name": "stderr",
     "output_type": "stream",
     "text": [
      "2025/09/10 15:23:14 WARNING dspy.predict.predict: Not all input fields were provided to module. Present: ['outputs']. Missing: ['expectations'].\n",
      "2025/09/10 15:23:14 WARNING dspy.predict.predict: Not all input fields were provided to module. Present: ['outputs']. Missing: ['expectations'].\n"
     ]
    },
    {
     "name": "stdout",
     "output_type": "stream",
     "text": [
      "Processed 33 / 60 examples:  53%|█████▎    | 32/60 [00:00<00:00, 168.13it/s]"
     ]
    },
    {
     "name": "stderr",
     "output_type": "stream",
     "text": [
      "2025/09/10 15:23:14 WARNING dspy.predict.predict: Not all input fields were provided to module. Present: ['outputs']. Missing: ['expectations'].\n"
     ]
    },
    {
     "name": "stdout",
     "output_type": "stream",
     "text": [
      "Processed 34 / 60 examples:  55%|█████▌    | 33/60 [00:00<00:00, 168.13it/s]"
     ]
    },
    {
     "name": "stderr",
     "output_type": "stream",
     "text": [
      "2025/09/10 15:23:14 WARNING dspy.predict.predict: Not all input fields were provided to module. Present: ['outputs']. Missing: ['expectations'].\n"
     ]
    },
    {
     "name": "stdout",
     "output_type": "stream",
     "text": [
      "Processed 35 / 60 examples:  57%|█████▋    | 34/60 [00:00<00:00, 168.13it/s]"
     ]
    },
    {
     "name": "stderr",
     "output_type": "stream",
     "text": [
      "2025/09/10 15:23:14 WARNING dspy.predict.predict: Not all input fields were provided to module. Present: ['outputs']. Missing: ['expectations'].\n"
     ]
    },
    {
     "name": "stdout",
     "output_type": "stream",
     "text": [
      "Processed 36 / 60 examples:  58%|█████▊    | 35/60 [00:00<00:00, 168.13it/s]"
     ]
    },
    {
     "name": "stderr",
     "output_type": "stream",
     "text": [
      "2025/09/10 15:23:14 WARNING dspy.predict.predict: Not all input fields were provided to module. Present: ['outputs']. Missing: ['expectations'].\n",
      "2025/09/10 15:23:14 WARNING dspy.predict.predict: Not all input fields were provided to module. Present: ['outputs']. Missing: ['expectations'].\n"
     ]
    },
    {
     "name": "stdout",
     "output_type": "stream",
     "text": [
      "Processed 37 / 60 examples:  60%|██████    | 36/60 [00:00<00:00, 168.13it/s]"
     ]
    },
    {
     "name": "stderr",
     "output_type": "stream",
     "text": [
      "2025/09/10 15:23:14 WARNING dspy.predict.predict: Not all input fields were provided to module. Present: ['outputs']. Missing: ['expectations'].\n"
     ]
    },
    {
     "name": "stdout",
     "output_type": "stream",
     "text": [
      "Processed 39 / 60 examples:  63%|██████▎   | 38/60 [00:00<00:00, 168.13it/s]"
     ]
    },
    {
     "name": "stderr",
     "output_type": "stream",
     "text": [
      "2025/09/10 15:23:14 WARNING dspy.predict.predict: Not all input fields were provided to module. Present: ['outputs']. Missing: ['expectations'].\n"
     ]
    },
    {
     "name": "stdout",
     "output_type": "stream",
     "text": [
      "Processed 40 / 60 examples:  65%|██████▌   | 39/60 [00:00<00:00, 168.13it/s]"
     ]
    },
    {
     "name": "stderr",
     "output_type": "stream",
     "text": [
      "2025/09/10 15:23:14 WARNING dspy.predict.predict: Not all input fields were provided to module. Present: ['outputs']. Missing: ['expectations'].\n"
     ]
    },
    {
     "name": "stdout",
     "output_type": "stream",
     "text": [
      "Processed 41 / 60 examples:  67%|██████▋   | 40/60 [00:00<00:00, 168.13it/s]"
     ]
    },
    {
     "name": "stderr",
     "output_type": "stream",
     "text": [
      "2025/09/10 15:23:14 WARNING dspy.predict.predict: Not all input fields were provided to module. Present: ['outputs']. Missing: ['expectations'].\n"
     ]
    },
    {
     "name": "stdout",
     "output_type": "stream",
     "text": [
      "Processed 43 / 60 examples:  70%|███████   | 42/60 [00:00<00:00, 168.13it/s]"
     ]
    },
    {
     "name": "stderr",
     "output_type": "stream",
     "text": [
      "2025/09/10 15:23:14 WARNING dspy.predict.predict: Not all input fields were provided to module. Present: ['outputs']. Missing: ['expectations'].\n"
     ]
    },
    {
     "name": "stdout",
     "output_type": "stream",
     "text": [
      "Processed 44 / 60 examples:  72%|███████▏  | 43/60 [00:00<00:00, 168.13it/s]"
     ]
    },
    {
     "name": "stderr",
     "output_type": "stream",
     "text": [
      "2025/09/10 15:23:14 WARNING dspy.predict.predict: Not all input fields were provided to module. Present: ['outputs']. Missing: ['expectations'].\n"
     ]
    },
    {
     "name": "stdout",
     "output_type": "stream",
     "text": [
      "Processed 46 / 60 examples:  75%|███████▌  | 45/60 [00:00<00:00, 168.13it/s]"
     ]
    },
    {
     "name": "stderr",
     "output_type": "stream",
     "text": [
      "2025/09/10 15:23:14 WARNING dspy.predict.predict: Not all input fields were provided to module. Present: ['outputs']. Missing: ['expectations'].\n",
      "2025/09/10 15:23:14 WARNING dspy.predict.predict: Not all input fields were provided to module. Present: ['outputs']. Missing: ['expectations'].\n"
     ]
    },
    {
     "name": "stdout",
     "output_type": "stream",
     "text": [
      "Processed 48 / 60 examples:  78%|███████▊  | 47/60 [00:00<00:00, 168.13it/s]"
     ]
    },
    {
     "name": "stderr",
     "output_type": "stream",
     "text": [
      "2025/09/10 15:23:14 WARNING dspy.predict.predict: Not all input fields were provided to module. Present: ['outputs']. Missing: ['expectations'].\n",
      "2025/09/10 15:23:14 WARNING dspy.predict.predict: Not all input fields were provided to module. Present: ['outputs']. Missing: ['expectations'].\n"
     ]
    },
    {
     "name": "stdout",
     "output_type": "stream",
     "text": [
      "Processed 49 / 60 examples:  80%|████████  | 48/60 [00:00<00:00, 168.13it/s]"
     ]
    },
    {
     "name": "stderr",
     "output_type": "stream",
     "text": [
      "2025/09/10 15:23:14 WARNING dspy.predict.predict: Not all input fields were provided to module. Present: ['outputs']. Missing: ['expectations'].\n"
     ]
    },
    {
     "name": "stdout",
     "output_type": "stream",
     "text": [
      "Processed 50 / 60 examples:  82%|████████▏ | 49/60 [00:00<00:00, 168.13it/s]"
     ]
    },
    {
     "name": "stderr",
     "output_type": "stream",
     "text": [
      "2025/09/10 15:23:14 WARNING dspy.predict.predict: Not all input fields were provided to module. Present: ['outputs']. Missing: ['expectations'].\n"
     ]
    },
    {
     "name": "stdout",
     "output_type": "stream",
     "text": [
      "Processed 51 / 60 examples:  83%|████████▎ | 50/60 [00:00<00:00, 168.13it/s]"
     ]
    },
    {
     "name": "stderr",
     "output_type": "stream",
     "text": [
      "2025/09/10 15:23:14 WARNING dspy.predict.predict: Not all input fields were provided to module. Present: ['outputs']. Missing: ['expectations'].\n",
      "2025/09/10 15:23:14 WARNING dspy.predict.predict: Not all input fields were provided to module. Present: ['outputs']. Missing: ['expectations'].\n"
     ]
    },
    {
     "name": "stdout",
     "output_type": "stream",
     "text": [
      "Processed 52 / 60 examples:  85%|████████▌ | 51/60 [00:00<00:00, 168.13it/s]"
     ]
    },
    {
     "name": "stderr",
     "output_type": "stream",
     "text": [
      "2025/09/10 15:23:14 WARNING dspy.predict.predict: Not all input fields were provided to module. Present: ['outputs']. Missing: ['expectations'].\n",
      "2025/09/10 15:23:14 WARNING dspy.predict.predict: Not all input fields were provided to module. Present: ['outputs']. Missing: ['expectations'].\n"
     ]
    },
    {
     "name": "stdout",
     "output_type": "stream",
     "text": [
      "Processed 53 / 60 examples:  87%|████████▋ | 52/60 [00:00<00:00, 263.40it/s]"
     ]
    },
    {
     "name": "stderr",
     "output_type": "stream",
     "text": [
      "2025/09/10 15:23:14 WARNING dspy.predict.predict: Not all input fields were provided to module. Present: ['outputs']. Missing: ['expectations'].\n"
     ]
    },
    {
     "name": "stdout",
     "output_type": "stream",
     "text": [
      "Processed 55 / 60 examples:  90%|█████████ | 54/60 [00:00<00:00, 263.40it/s]"
     ]
    },
    {
     "name": "stderr",
     "output_type": "stream",
     "text": [
      "2025/09/10 15:23:14 WARNING dspy.predict.predict: Not all input fields were provided to module. Present: ['outputs']. Missing: ['expectations'].\n"
     ]
    },
    {
     "name": "stdout",
     "output_type": "stream",
     "text": [
      "Processed 56 / 60 examples:  92%|█████████▏| 55/60 [00:00<00:00, 263.40it/s]"
     ]
    },
    {
     "name": "stderr",
     "output_type": "stream",
     "text": [
      "2025/09/10 15:23:14 WARNING dspy.predict.predict: Not all input fields were provided to module. Present: ['outputs']. Missing: ['expectations'].\n"
     ]
    },
    {
     "name": "stdout",
     "output_type": "stream",
     "text": [
      "Processed 57 / 60 examples:  93%|█████████▎| 56/60 [00:00<00:00, 263.40it/s]"
     ]
    },
    {
     "name": "stderr",
     "output_type": "stream",
     "text": [
      "2025/09/10 15:23:14 WARNING dspy.predict.predict: Not all input fields were provided to module. Present: ['outputs']. Missing: ['expectations'].\n"
     ]
    },
    {
     "name": "stdout",
     "output_type": "stream",
     "text": [
      "Processed 60 / 60 examples: 100%|██████████| 60/60 [00:00<00:00, 263.99it/s]"
     ]
    },
    {
     "name": "stderr",
     "output_type": "stream",
     "text": [
      "2025/09/10 15:23:14 INFO dspy.teleprompt.simba: Batch 2: Baseline mini-batch score: 0.0\n",
      "\n",
      "2025/09/10 15:23:14 INFO dspy.teleprompt.simba: Batch 2: Processing bucket #1, with max score 0.0, max-to-min gap 0.0, and max-to-avg gap 0.0.\n"
     ]
    },
    {
     "name": "stdout",
     "output_type": "stream",
     "text": [
      "\n"
     ]
    },
    {
     "name": "stderr",
     "output_type": "stream",
     "text": [
      "2025/09/10 15:23:14 INFO dspy.teleprompt.simba: Batch 2: Invoking strategy: append_a_rule\n",
      "2025/09/10 15:23:18 INFO dspy.teleprompt.simba_utils: Advice for self: If the module receives an output and expected answer that appear comprehensive and detailed, it should carefully check for subtle inaccuracies, missing key points, or overgeneralizations rather than assuming completeness. It should adopt a more calibrated scoring approach that can assign partial credit (e.g., a score of 3) when the response is mostly correct but not fully aligned with expectations. The rationale should explicitly mention any detected gaps or minor errors to justify a lower score, improving alignment with the oracle's judgment.\n",
      "2025/09/10 15:23:18 INFO dspy.teleprompt.simba: \n",
      "\n",
      "2025/09/10 15:23:18 INFO dspy.teleprompt.simba: Batch 2: Processing bucket #2, with max score 0.0, max-to-min gap 0.0, and max-to-avg gap 0.0.\n",
      "2025/09/10 15:23:18 INFO dspy.teleprompt.simba: Batch 2: Invoking strategy: append_a_rule\n",
      "2025/09/10 15:23:22 INFO dspy.teleprompt.simba_utils: Advice for self: If the module receives an output that is comprehensive and mostly accurate but lacks specific examples or distinctions (such as between supervised and unsupervised learning), then it should consider incorporating criteria that reward inclusion of such specific details or examples to better differentiate between a 'mostly accurate' and a 'fully accurate' response. This means refining the evaluation to detect and value explicit mentions of key concepts or distinctions relevant to the question, thereby enabling a more precise and justified scoring closer to the ideal.\n",
      "2025/09/10 15:23:22 INFO dspy.teleprompt.simba: \n",
      "\n",
      "2025/09/10 15:23:22 INFO dspy.teleprompt.simba: Batch 2: Processing bucket #3, with max score 0.0, max-to-min gap 0.0, and max-to-avg gap 0.0.\n",
      "2025/09/10 15:23:22 INFO dspy.teleprompt.simba: Batch 2: Invoking strategy: append_a_demo_\n",
      "2025/09/10 15:23:22 INFO dspy.teleprompt.simba_utils: Added 1 demos (one each) across all predictors.\n",
      "2025/09/10 15:23:22 INFO dspy.teleprompt.simba: \n",
      "\n",
      "2025/09/10 15:23:22 INFO dspy.teleprompt.simba: Batch 2: Processing bucket #4, with max score 0.0, max-to-min gap 0.0, and max-to-avg gap 0.0.\n",
      "2025/09/10 15:23:22 INFO dspy.teleprompt.simba: Batch 2: Invoking strategy: append_a_demo_\n",
      "2025/09/10 15:23:22 INFO dspy.teleprompt.simba_utils: Added 1 demos (one each) across all predictors.\n",
      "2025/09/10 15:23:22 INFO dspy.teleprompt.simba: \n",
      "\n",
      "2025/09/10 15:23:22 INFO dspy.teleprompt.simba: Batch 2: Processing bucket #5, with max score 0.0, max-to-min gap 0.0, and max-to-avg gap 0.0.\n",
      "2025/09/10 15:23:22 INFO dspy.teleprompt.simba: Batch 2: Invoking strategy: append_a_demo_\n",
      "2025/09/10 15:23:22 INFO dspy.teleprompt.simba_utils: Added 1 demos (one each) across all predictors.\n",
      "2025/09/10 15:23:22 INFO dspy.teleprompt.simba: \n",
      "\n",
      "2025/09/10 15:23:22 INFO dspy.teleprompt.simba: Batch 2: Processing bucket #6, with max score 0.0, max-to-min gap 0.0, and max-to-avg gap 0.0.\n",
      "2025/09/10 15:23:22 INFO dspy.teleprompt.simba: Batch 2: Invoking strategy: append_a_demo_\n",
      "2025/09/10 15:23:22 INFO dspy.teleprompt.simba_utils: Added 1 demos (one each) across all predictors.\n",
      "2025/09/10 15:23:22 INFO dspy.teleprompt.simba: \n",
      "\n",
      "2025/09/10 15:23:22 INFO dspy.teleprompt.simba: Batch 2: Processing bucket #7, with max score 0.0, max-to-min gap 0.0, and max-to-avg gap 0.0.\n",
      "2025/09/10 15:23:22 INFO dspy.teleprompt.simba: Batch 2: Invoking strategy: append_a_demo_\n",
      "2025/09/10 15:23:22 INFO dspy.teleprompt.simba_utils: Added 1 demos (one each) across all predictors.\n",
      "2025/09/10 15:23:22 INFO dspy.teleprompt.simba: \n",
      "\n",
      "2025/09/10 15:23:22 INFO dspy.teleprompt.simba: Batch 2: Evaluating 7 programs on 10 examples.\n"
     ]
    },
    {
     "name": "stdout",
     "output_type": "stream",
     "text": [
      "  0%|          | 0/70 [00:00<?, ?it/s]"
     ]
    },
    {
     "name": "stderr",
     "output_type": "stream",
     "text": [
      "2025/09/10 15:23:22 WARNING dspy.predict.predict: Not all input fields were provided to module. Present: ['outputs']. Missing: ['expectations'].\n",
      "2025/09/10 15:23:22 WARNING dspy.predict.predict: Not all input fields were provided to module. Present: ['outputs']. Missing: ['expectations'].\n",
      "2025/09/10 15:23:22 WARNING dspy.predict.predict: Not all input fields were provided to module. Present: ['outputs']. Missing: ['expectations'].\n",
      "2025/09/10 15:23:22 WARNING dspy.predict.predict: Not all input fields were provided to module. Present: ['outputs']. Missing: ['expectations'].\n",
      "2025/09/10 15:23:22 WARNING dspy.predict.predict: Not all input fields were provided to module. Present: ['outputs']. Missing: ['expectations'].\n",
      "2025/09/10 15:23:22 WARNING dspy.predict.predict: Not all input fields were provided to module. Present: ['outputs']. Missing: ['expectations'].\n",
      "2025/09/10 15:23:22 WARNING dspy.predict.predict: Not all input fields were provided to module. Present: ['outputs']. Missing: ['expectations'].\n",
      "2025/09/10 15:23:22 WARNING dspy.predict.predict: Not all input fields were provided to module. Present: ['outputs']. Missing: ['expectations'].\n"
     ]
    },
    {
     "name": "stdout",
     "output_type": "stream",
     "text": [
      "Processed 1 / 70 examples:   1%|▏         | 1/70 [00:01<01:57,  1.70s/it]"
     ]
    },
    {
     "name": "stderr",
     "output_type": "stream",
     "text": [
      "2025/09/10 15:23:24 WARNING dspy.predict.predict: Not all input fields were provided to module. Present: ['outputs']. Missing: ['expectations'].\n"
     ]
    },
    {
     "name": "stdout",
     "output_type": "stream",
     "text": [
      "Processed 2 / 70 examples:   3%|▎         | 2/70 [00:01<00:55,  1.23it/s]"
     ]
    },
    {
     "name": "stderr",
     "output_type": "stream",
     "text": [
      "2025/09/10 15:23:24 WARNING dspy.predict.predict: Not all input fields were provided to module. Present: ['outputs']. Missing: ['expectations'].\n"
     ]
    },
    {
     "name": "stdout",
     "output_type": "stream",
     "text": [
      "Processed 3 / 70 examples:   4%|▍         | 3/70 [00:01<00:32,  2.04it/s]"
     ]
    },
    {
     "name": "stderr",
     "output_type": "stream",
     "text": [
      "2025/09/10 15:23:24 WARNING dspy.predict.predict: Not all input fields were provided to module. Present: ['outputs']. Missing: ['expectations'].\n"
     ]
    },
    {
     "name": "stdout",
     "output_type": "stream",
     "text": [
      "Processed 4 / 70 examples:   4%|▍         | 3/70 [00:02<00:32,  2.04it/s]"
     ]
    },
    {
     "name": "stderr",
     "output_type": "stream",
     "text": [
      "2025/09/10 15:23:24 WARNING dspy.predict.predict: Not all input fields were provided to module. Present: ['outputs']. Missing: ['expectations'].\n"
     ]
    },
    {
     "name": "stdout",
     "output_type": "stream",
     "text": [
      "Processed 5 / 70 examples:   6%|▌         | 4/70 [00:02<00:32,  2.04it/s]"
     ]
    },
    {
     "name": "stderr",
     "output_type": "stream",
     "text": [
      "2025/09/10 15:23:24 WARNING dspy.predict.predict: Not all input fields were provided to module. Present: ['outputs']. Missing: ['expectations'].\n"
     ]
    },
    {
     "name": "stdout",
     "output_type": "stream",
     "text": [
      "Processed 6 / 70 examples:   7%|▋         | 5/70 [00:02<00:31,  2.04it/s]"
     ]
    },
    {
     "name": "stderr",
     "output_type": "stream",
     "text": [
      "2025/09/10 15:23:24 WARNING dspy.predict.predict: Not all input fields were provided to module. Present: ['outputs']. Missing: ['expectations'].\n"
     ]
    },
    {
     "name": "stdout",
     "output_type": "stream",
     "text": [
      "Processed 7 / 70 examples:   9%|▊         | 6/70 [00:02<00:12,  5.23it/s]"
     ]
    },
    {
     "name": "stderr",
     "output_type": "stream",
     "text": [
      "2025/09/10 15:23:25 WARNING dspy.predict.predict: Not all input fields were provided to module. Present: ['outputs']. Missing: ['expectations'].\n"
     ]
    },
    {
     "name": "stdout",
     "output_type": "stream",
     "text": [
      "Processed 8 / 70 examples:  11%|█▏        | 8/70 [00:03<00:21,  2.90it/s]"
     ]
    },
    {
     "name": "stderr",
     "output_type": "stream",
     "text": [
      "2025/09/10 15:23:25 WARNING dspy.predict.predict: Not all input fields were provided to module. Present: ['outputs']. Missing: ['expectations'].\n"
     ]
    },
    {
     "name": "stdout",
     "output_type": "stream",
     "text": [
      "Processed 9 / 70 examples:  13%|█▎        | 9/70 [00:03<00:25,  2.39it/s]"
     ]
    },
    {
     "name": "stderr",
     "output_type": "stream",
     "text": [
      "2025/09/10 15:23:26 WARNING dspy.predict.predict: Not all input fields were provided to module. Present: ['outputs']. Missing: ['expectations'].\n"
     ]
    },
    {
     "name": "stdout",
     "output_type": "stream",
     "text": [
      "Processed 10 / 70 examples:  13%|█▎        | 9/70 [00:04<00:25,  2.39it/s]"
     ]
    },
    {
     "name": "stderr",
     "output_type": "stream",
     "text": [
      "2025/09/10 15:23:26 WARNING dspy.predict.predict: Not all input fields were provided to module. Present: ['outputs']. Missing: ['expectations'].\n"
     ]
    },
    {
     "name": "stdout",
     "output_type": "stream",
     "text": [
      "Processed 11 / 70 examples:  16%|█▌        | 11/70 [00:04<00:17,  3.37it/s]"
     ]
    },
    {
     "name": "stderr",
     "output_type": "stream",
     "text": [
      "2025/09/10 15:23:26 WARNING dspy.predict.predict: Not all input fields were provided to module. Present: ['outputs']. Missing: ['expectations'].\n"
     ]
    },
    {
     "name": "stdout",
     "output_type": "stream",
     "text": [
      "Processed 12 / 70 examples:  16%|█▌        | 11/70 [00:04<00:17,  3.37it/s]"
     ]
    },
    {
     "name": "stderr",
     "output_type": "stream",
     "text": [
      "2025/09/10 15:23:26 WARNING dspy.predict.predict: Not all input fields were provided to module. Present: ['outputs']. Missing: ['expectations'].\n"
     ]
    },
    {
     "name": "stdout",
     "output_type": "stream",
     "text": [
      "Processed 13 / 70 examples:  17%|█▋        | 12/70 [00:04<00:17,  3.37it/s]"
     ]
    },
    {
     "name": "stderr",
     "output_type": "stream",
     "text": [
      "2025/09/10 15:23:26 WARNING dspy.predict.predict: Not all input fields were provided to module. Present: ['outputs']. Missing: ['expectations'].\n"
     ]
    },
    {
     "name": "stdout",
     "output_type": "stream",
     "text": [
      "Processed 14 / 70 examples:  19%|█▊        | 13/70 [00:04<00:16,  3.37it/s]"
     ]
    },
    {
     "name": "stderr",
     "output_type": "stream",
     "text": [
      "2025/09/10 15:23:26 WARNING dspy.predict.predict: Not all input fields were provided to module. Present: ['outputs']. Missing: ['expectations'].\n"
     ]
    },
    {
     "name": "stdout",
     "output_type": "stream",
     "text": [
      "Processed 15 / 70 examples:  21%|██▏       | 15/70 [00:04<00:09,  5.80it/s]"
     ]
    },
    {
     "name": "stderr",
     "output_type": "stream",
     "text": [
      "2025/09/10 15:23:27 WARNING dspy.predict.predict: Not all input fields were provided to module. Present: ['outputs']. Missing: ['expectations'].\n"
     ]
    },
    {
     "name": "stdout",
     "output_type": "stream",
     "text": [
      "Processed 16 / 70 examples:  21%|██▏       | 15/70 [00:06<00:09,  5.80it/s]"
     ]
    },
    {
     "name": "stderr",
     "output_type": "stream",
     "text": [
      "2025/09/10 15:23:28 WARNING dspy.predict.predict: Not all input fields were provided to module. Present: ['outputs']. Missing: ['expectations'].\n"
     ]
    },
    {
     "name": "stdout",
     "output_type": "stream",
     "text": [
      "Processed 17 / 70 examples:  24%|██▍       | 17/70 [00:06<00:24,  2.20it/s]"
     ]
    },
    {
     "name": "stderr",
     "output_type": "stream",
     "text": [
      "2025/09/10 15:23:29 WARNING dspy.predict.predict: Not all input fields were provided to module. Present: ['outputs']. Missing: ['expectations'].\n"
     ]
    },
    {
     "name": "stdout",
     "output_type": "stream",
     "text": [
      "Processed 18 / 70 examples:  24%|██▍       | 17/70 [00:06<00:24,  2.20it/s]"
     ]
    },
    {
     "name": "stderr",
     "output_type": "stream",
     "text": [
      "2025/09/10 15:23:29 WARNING dspy.predict.predict: Not all input fields were provided to module. Present: ['outputs']. Missing: ['expectations'].\n"
     ]
    },
    {
     "name": "stdout",
     "output_type": "stream",
     "text": [
      "Processed 19 / 70 examples:  27%|██▋       | 19/70 [00:06<00:17,  2.91it/s]"
     ]
    },
    {
     "name": "stderr",
     "output_type": "stream",
     "text": [
      "2025/09/10 15:23:29 WARNING dspy.predict.predict: Not all input fields were provided to module. Present: ['outputs']. Missing: ['expectations'].\n"
     ]
    },
    {
     "name": "stdout",
     "output_type": "stream",
     "text": [
      "Processed 20 / 70 examples:  27%|██▋       | 19/70 [00:06<00:17,  2.91it/s]"
     ]
    },
    {
     "name": "stderr",
     "output_type": "stream",
     "text": [
      "2025/09/10 15:23:29 WARNING dspy.predict.predict: Not all input fields were provided to module. Present: ['outputs']. Missing: ['expectations'].\n"
     ]
    },
    {
     "name": "stdout",
     "output_type": "stream",
     "text": [
      "Processed 21 / 70 examples:  29%|██▊       | 20/70 [00:06<00:17,  2.91it/s]"
     ]
    },
    {
     "name": "stderr",
     "output_type": "stream",
     "text": [
      "2025/09/10 15:23:29 WARNING dspy.predict.predict: Not all input fields were provided to module. Present: ['outputs']. Missing: ['expectations'].\n"
     ]
    },
    {
     "name": "stdout",
     "output_type": "stream",
     "text": [
      "Processed 22 / 70 examples:  31%|███▏      | 22/70 [00:07<00:11,  4.16it/s]"
     ]
    },
    {
     "name": "stderr",
     "output_type": "stream",
     "text": [
      "2025/09/10 15:23:29 WARNING dspy.predict.predict: Not all input fields were provided to module. Present: ['outputs']. Missing: ['expectations'].\n"
     ]
    },
    {
     "name": "stdout",
     "output_type": "stream",
     "text": [
      "Processed 23 / 70 examples:  31%|███▏      | 22/70 [00:07<00:11,  4.16it/s]"
     ]
    },
    {
     "name": "stderr",
     "output_type": "stream",
     "text": [
      "2025/09/10 15:23:29 WARNING dspy.predict.predict: Not all input fields were provided to module. Present: ['outputs']. Missing: ['expectations'].\n"
     ]
    },
    {
     "name": "stdout",
     "output_type": "stream",
     "text": [
      "Processed 24 / 70 examples:  34%|███▍      | 24/70 [00:08<00:15,  3.00it/s]"
     ]
    },
    {
     "name": "stderr",
     "output_type": "stream",
     "text": [
      "2025/09/10 15:23:31 WARNING dspy.predict.predict: Not all input fields were provided to module. Present: ['outputs']. Missing: ['expectations'].\n"
     ]
    },
    {
     "name": "stdout",
     "output_type": "stream",
     "text": [
      "Processed 25 / 70 examples:  36%|███▌      | 25/70 [00:08<00:14,  3.05it/s]"
     ]
    },
    {
     "name": "stderr",
     "output_type": "stream",
     "text": [
      "2025/09/10 15:23:31 WARNING dspy.predict.predict: Not all input fields were provided to module. Present: ['outputs']. Missing: ['expectations'].\n"
     ]
    },
    {
     "name": "stdout",
     "output_type": "stream",
     "text": [
      "Processed 26 / 70 examples:  36%|███▌      | 25/70 [00:08<00:14,  3.05it/s]"
     ]
    },
    {
     "name": "stderr",
     "output_type": "stream",
     "text": [
      "2025/09/10 15:23:31 WARNING dspy.predict.predict: Not all input fields were provided to module. Present: ['outputs']. Missing: ['expectations'].\n"
     ]
    },
    {
     "name": "stdout",
     "output_type": "stream",
     "text": [
      "Processed 27 / 70 examples:  39%|███▊      | 27/70 [00:09<00:12,  3.47it/s]"
     ]
    },
    {
     "name": "stderr",
     "output_type": "stream",
     "text": [
      "2025/09/10 15:23:31 WARNING dspy.predict.predict: Not all input fields were provided to module. Present: ['outputs']. Missing: ['expectations'].\n"
     ]
    },
    {
     "name": "stdout",
     "output_type": "stream",
     "text": [
      "Processed 28 / 70 examples:  39%|███▊      | 27/70 [00:09<00:12,  3.47it/s]"
     ]
    },
    {
     "name": "stderr",
     "output_type": "stream",
     "text": [
      "2025/09/10 15:23:31 WARNING dspy.predict.predict: Not all input fields were provided to module. Present: ['outputs']. Missing: ['expectations'].\n"
     ]
    },
    {
     "name": "stdout",
     "output_type": "stream",
     "text": [
      "Processed 29 / 70 examples:  41%|████▏     | 29/70 [00:09<00:08,  4.60it/s]"
     ]
    },
    {
     "name": "stderr",
     "output_type": "stream",
     "text": [
      "2025/09/10 15:23:31 WARNING dspy.predict.predict: Not all input fields were provided to module. Present: ['outputs']. Missing: ['expectations'].\n"
     ]
    },
    {
     "name": "stdout",
     "output_type": "stream",
     "text": [
      "Processed 30 / 70 examples:  43%|████▎     | 30/70 [00:09<00:09,  4.20it/s]"
     ]
    },
    {
     "name": "stderr",
     "output_type": "stream",
     "text": [
      "2025/09/10 15:23:32 WARNING dspy.predict.predict: Not all input fields were provided to module. Present: ['outputs']. Missing: ['expectations'].\n"
     ]
    },
    {
     "name": "stdout",
     "output_type": "stream",
     "text": [
      "Processed 31 / 70 examples:  44%|████▍     | 31/70 [00:10<00:12,  3.01it/s]"
     ]
    },
    {
     "name": "stderr",
     "output_type": "stream",
     "text": [
      "2025/09/10 15:23:32 WARNING dspy.predict.predict: Not all input fields were provided to module. Present: ['outputs']. Missing: ['expectations'].\n"
     ]
    },
    {
     "name": "stdout",
     "output_type": "stream",
     "text": [
      "Processed 32 / 70 examples:  46%|████▌     | 32/70 [00:10<00:11,  3.20it/s]"
     ]
    },
    {
     "name": "stderr",
     "output_type": "stream",
     "text": [
      "2025/09/10 15:23:33 WARNING dspy.predict.predict: Not all input fields were provided to module. Present: ['outputs']. Missing: ['expectations'].\n"
     ]
    },
    {
     "name": "stdout",
     "output_type": "stream",
     "text": [
      "Processed 33 / 70 examples:  46%|████▌     | 32/70 [00:10<00:11,  3.20it/s]"
     ]
    },
    {
     "name": "stderr",
     "output_type": "stream",
     "text": [
      "2025/09/10 15:23:33 WARNING dspy.predict.predict: Not all input fields were provided to module. Present: ['outputs']. Missing: ['expectations'].\n"
     ]
    },
    {
     "name": "stdout",
     "output_type": "stream",
     "text": [
      "Processed 34 / 70 examples:  47%|████▋     | 33/70 [00:10<00:11,  3.20it/s]"
     ]
    },
    {
     "name": "stderr",
     "output_type": "stream",
     "text": [
      "2025/09/10 15:23:33 WARNING dspy.predict.predict: Not all input fields were provided to module. Present: ['outputs']. Missing: ['expectations'].\n"
     ]
    },
    {
     "name": "stdout",
     "output_type": "stream",
     "text": [
      "Processed 35 / 70 examples:  50%|█████     | 35/70 [00:11<00:11,  3.11it/s]"
     ]
    },
    {
     "name": "stderr",
     "output_type": "stream",
     "text": [
      "2025/09/10 15:23:34 WARNING dspy.predict.predict: Not all input fields were provided to module. Present: ['outputs']. Missing: ['expectations'].\n"
     ]
    },
    {
     "name": "stdout",
     "output_type": "stream",
     "text": [
      "Processed 36 / 70 examples:  50%|█████     | 35/70 [00:11<00:11,  3.11it/s]"
     ]
    },
    {
     "name": "stderr",
     "output_type": "stream",
     "text": [
      "2025/09/10 15:23:34 WARNING dspy.predict.predict: Not all input fields were provided to module. Present: ['outputs']. Missing: ['expectations'].\n"
     ]
    },
    {
     "name": "stdout",
     "output_type": "stream",
     "text": [
      "Processed 37 / 70 examples:  53%|█████▎    | 37/70 [00:11<00:10,  3.18it/s]"
     ]
    },
    {
     "name": "stderr",
     "output_type": "stream",
     "text": [
      "2025/09/10 15:23:34 WARNING dspy.predict.predict: Not all input fields were provided to module. Present: ['outputs']. Missing: ['expectations'].\n"
     ]
    },
    {
     "name": "stdout",
     "output_type": "stream",
     "text": [
      "Processed 38 / 70 examples:  54%|█████▍    | 38/70 [00:13<00:17,  1.88it/s]"
     ]
    },
    {
     "name": "stderr",
     "output_type": "stream",
     "text": [
      "2025/09/10 15:23:35 WARNING dspy.predict.predict: Not all input fields were provided to module. Present: ['outputs']. Missing: ['expectations'].\n"
     ]
    },
    {
     "name": "stdout",
     "output_type": "stream",
     "text": [
      "Processed 39 / 70 examples:  56%|█████▌    | 39/70 [00:13<00:12,  2.41it/s]"
     ]
    },
    {
     "name": "stderr",
     "output_type": "stream",
     "text": [
      "2025/09/10 15:23:35 WARNING dspy.predict.predict: Not all input fields were provided to module. Present: ['outputs']. Missing: ['expectations'].\n"
     ]
    },
    {
     "name": "stdout",
     "output_type": "stream",
     "text": [
      "Processed 40 / 70 examples:  57%|█████▋    | 40/70 [00:13<00:15,  1.95it/s]"
     ]
    },
    {
     "name": "stderr",
     "output_type": "stream",
     "text": [
      "2025/09/10 15:23:36 WARNING dspy.predict.predict: Not all input fields were provided to module. Present: ['outputs']. Missing: ['expectations'].\n"
     ]
    },
    {
     "name": "stdout",
     "output_type": "stream",
     "text": [
      "Processed 41 / 70 examples:  57%|█████▋    | 40/70 [00:15<00:15,  1.95it/s]"
     ]
    },
    {
     "name": "stderr",
     "output_type": "stream",
     "text": [
      "2025/09/10 15:23:38 WARNING dspy.predict.predict: Not all input fields were provided to module. Present: ['outputs']. Missing: ['expectations'].\n"
     ]
    },
    {
     "name": "stdout",
     "output_type": "stream",
     "text": [
      "Processed 42 / 70 examples:  60%|██████    | 42/70 [00:15<00:17,  1.61it/s]"
     ]
    },
    {
     "name": "stderr",
     "output_type": "stream",
     "text": [
      "2025/09/10 15:23:38 WARNING dspy.predict.predict: Not all input fields were provided to module. Present: ['outputs']. Missing: ['expectations'].\n"
     ]
    },
    {
     "name": "stdout",
     "output_type": "stream",
     "text": [
      "Processed 43 / 70 examples:  61%|██████▏   | 43/70 [00:15<00:13,  2.04it/s]"
     ]
    },
    {
     "name": "stderr",
     "output_type": "stream",
     "text": [
      "2025/09/10 15:23:38 WARNING dspy.predict.predict: Not all input fields were provided to module. Present: ['outputs']. Missing: ['expectations'].\n"
     ]
    },
    {
     "name": "stdout",
     "output_type": "stream",
     "text": [
      "Processed 44 / 70 examples:  61%|██████▏   | 43/70 [00:15<00:13,  2.04it/s]"
     ]
    },
    {
     "name": "stderr",
     "output_type": "stream",
     "text": [
      "2025/09/10 15:23:38 WARNING dspy.predict.predict: Not all input fields were provided to module. Present: ['outputs']. Missing: ['expectations'].\n"
     ]
    },
    {
     "name": "stdout",
     "output_type": "stream",
     "text": [
      "Processed 45 / 70 examples:  64%|██████▍   | 45/70 [00:16<00:08,  3.07it/s]"
     ]
    },
    {
     "name": "stderr",
     "output_type": "stream",
     "text": [
      "2025/09/10 15:23:38 WARNING dspy.predict.predict: Not all input fields were provided to module. Present: ['outputs']. Missing: ['expectations'].\n"
     ]
    },
    {
     "name": "stdout",
     "output_type": "stream",
     "text": [
      "Processed 46 / 70 examples:  66%|██████▌   | 46/70 [00:16<00:09,  2.51it/s]"
     ]
    },
    {
     "name": "stderr",
     "output_type": "stream",
     "text": [
      "2025/09/10 15:23:39 WARNING dspy.predict.predict: Not all input fields were provided to module. Present: ['outputs']. Missing: ['expectations'].\n"
     ]
    },
    {
     "name": "stdout",
     "output_type": "stream",
     "text": [
      "Processed 47 / 70 examples:  67%|██████▋   | 47/70 [00:17<00:12,  1.92it/s]"
     ]
    },
    {
     "name": "stderr",
     "output_type": "stream",
     "text": [
      "2025/09/10 15:23:40 WARNING dspy.predict.predict: Not all input fields were provided to module. Present: ['outputs']. Missing: ['expectations'].\n"
     ]
    },
    {
     "name": "stdout",
     "output_type": "stream",
     "text": [
      "Processed 48 / 70 examples:  67%|██████▋   | 47/70 [00:17<00:12,  1.92it/s]"
     ]
    },
    {
     "name": "stderr",
     "output_type": "stream",
     "text": [
      "2025/09/10 15:23:40 WARNING dspy.predict.predict: Not all input fields were provided to module. Present: ['outputs']. Missing: ['expectations'].\n"
     ]
    },
    {
     "name": "stdout",
     "output_type": "stream",
     "text": [
      "Processed 49 / 70 examples:  69%|██████▊   | 48/70 [00:18<00:11,  1.92it/s]"
     ]
    },
    {
     "name": "stderr",
     "output_type": "stream",
     "text": [
      "2025/09/10 15:23:40 WARNING dspy.predict.predict: Not all input fields were provided to module. Present: ['outputs']. Missing: ['expectations'].\n"
     ]
    },
    {
     "name": "stdout",
     "output_type": "stream",
     "text": [
      "Processed 50 / 70 examples:  70%|███████   | 49/70 [00:18<00:08,  2.38it/s]"
     ]
    },
    {
     "name": "stderr",
     "output_type": "stream",
     "text": [
      "2025/09/10 15:23:40 WARNING dspy.predict.predict: Not all input fields were provided to module. Present: ['outputs']. Missing: ['expectations'].\n"
     ]
    },
    {
     "name": "stdout",
     "output_type": "stream",
     "text": [
      "Processed 51 / 70 examples:  73%|███████▎  | 51/70 [00:18<00:06,  2.93it/s]"
     ]
    },
    {
     "name": "stderr",
     "output_type": "stream",
     "text": [
      "2025/09/10 15:23:41 WARNING dspy.predict.predict: Not all input fields were provided to module. Present: ['outputs']. Missing: ['expectations'].\n"
     ]
    },
    {
     "name": "stdout",
     "output_type": "stream",
     "text": [
      "Processed 52 / 70 examples:  73%|███████▎  | 51/70 [00:18<00:06,  2.93it/s]"
     ]
    },
    {
     "name": "stderr",
     "output_type": "stream",
     "text": [
      "2025/09/10 15:23:41 WARNING dspy.predict.predict: Not all input fields were provided to module. Present: ['outputs']. Missing: ['expectations'].\n"
     ]
    },
    {
     "name": "stdout",
     "output_type": "stream",
     "text": [
      "Processed 53 / 70 examples:  76%|███████▌  | 53/70 [00:18<00:04,  4.14it/s]"
     ]
    },
    {
     "name": "stderr",
     "output_type": "stream",
     "text": [
      "2025/09/10 15:23:41 WARNING dspy.predict.predict: Not all input fields were provided to module. Present: ['outputs']. Missing: ['expectations'].\n"
     ]
    },
    {
     "name": "stdout",
     "output_type": "stream",
     "text": [
      "Processed 54 / 70 examples:  76%|███████▌  | 53/70 [00:18<00:04,  4.14it/s]"
     ]
    },
    {
     "name": "stderr",
     "output_type": "stream",
     "text": [
      "2025/09/10 15:23:41 WARNING dspy.predict.predict: Not all input fields were provided to module. Present: ['outputs']. Missing: ['expectations'].\n"
     ]
    },
    {
     "name": "stdout",
     "output_type": "stream",
     "text": [
      "Processed 55 / 70 examples:  79%|███████▊  | 55/70 [00:19<00:05,  2.67it/s]"
     ]
    },
    {
     "name": "stderr",
     "output_type": "stream",
     "text": [
      "2025/09/10 15:23:42 WARNING dspy.predict.predict: Not all input fields were provided to module. Present: ['outputs']. Missing: ['expectations'].\n"
     ]
    },
    {
     "name": "stdout",
     "output_type": "stream",
     "text": [
      "Processed 56 / 70 examples:  80%|████████  | 56/70 [00:20<00:04,  3.06it/s]"
     ]
    },
    {
     "name": "stderr",
     "output_type": "stream",
     "text": [
      "2025/09/10 15:23:42 WARNING dspy.predict.predict: Not all input fields were provided to module. Present: ['outputs']. Missing: ['expectations'].\n"
     ]
    },
    {
     "name": "stdout",
     "output_type": "stream",
     "text": [
      "Processed 57 / 70 examples:  81%|████████▏ | 57/70 [00:20<00:03,  3.56it/s]"
     ]
    },
    {
     "name": "stderr",
     "output_type": "stream",
     "text": [
      "2025/09/10 15:23:42 WARNING dspy.predict.predict: Not all input fields were provided to module. Present: ['outputs']. Missing: ['expectations'].\n"
     ]
    },
    {
     "name": "stdout",
     "output_type": "stream",
     "text": [
      "Processed 58 / 70 examples:  81%|████████▏ | 57/70 [00:20<00:03,  3.56it/s]"
     ]
    },
    {
     "name": "stderr",
     "output_type": "stream",
     "text": [
      "2025/09/10 15:23:42 WARNING dspy.predict.predict: Not all input fields were provided to module. Present: ['outputs']. Missing: ['expectations'].\n"
     ]
    },
    {
     "name": "stdout",
     "output_type": "stream",
     "text": [
      "Processed 59 / 70 examples:  84%|████████▍ | 59/70 [00:20<00:02,  4.12it/s]"
     ]
    },
    {
     "name": "stderr",
     "output_type": "stream",
     "text": [
      "2025/09/10 15:23:43 WARNING dspy.predict.predict: Not all input fields were provided to module. Present: ['outputs']. Missing: ['expectations'].\n"
     ]
    },
    {
     "name": "stdout",
     "output_type": "stream",
     "text": [
      "Processed 60 / 70 examples:  86%|████████▌ | 60/70 [00:20<00:02,  4.42it/s]"
     ]
    },
    {
     "name": "stderr",
     "output_type": "stream",
     "text": [
      "2025/09/10 15:23:43 WARNING dspy.predict.predict: Not all input fields were provided to module. Present: ['outputs']. Missing: ['expectations'].\n"
     ]
    },
    {
     "name": "stdout",
     "output_type": "stream",
     "text": [
      "Processed 61 / 70 examples:  87%|████████▋ | 61/70 [00:20<00:01,  4.93it/s]"
     ]
    },
    {
     "name": "stderr",
     "output_type": "stream",
     "text": [
      "2025/09/10 15:23:43 WARNING dspy.predict.predict: Not all input fields were provided to module. Present: ['outputs']. Missing: ['expectations'].\n"
     ]
    },
    {
     "name": "stdout",
     "output_type": "stream",
     "text": [
      "Processed 62 / 70 examples:  87%|████████▋ | 61/70 [00:20<00:01,  4.93it/s]"
     ]
    },
    {
     "name": "stderr",
     "output_type": "stream",
     "text": [
      "2025/09/10 15:23:43 WARNING dspy.predict.predict: Not all input fields were provided to module. Present: ['outputs']. Missing: ['expectations'].\n"
     ]
    },
    {
     "name": "stdout",
     "output_type": "stream",
     "text": [
      "Processed 70 / 70 examples: 100%|██████████| 70/70 [00:23<00:00,  2.99it/s]"
     ]
    },
    {
     "name": "stderr",
     "output_type": "stream",
     "text": [
      "2025/09/10 15:23:46 INFO dspy.teleprompt.simba: Scores after 2 batches: [0.0, 0.0, 0.0, 0.0, 0.0, 0.0, 0.0], Best: 0.0\n",
      "\n",
      "2025/09/10 15:23:46 INFO dspy.teleprompt.simba: Starting batch 3 of 8.\n"
     ]
    },
    {
     "name": "stdout",
     "output_type": "stream",
     "text": [
      "\n"
     ]
    },
    {
     "name": "stderr",
     "output_type": "stream",
     "text": [
      "2025/09/10 15:23:46 INFO dspy.teleprompt.simba: Sampling program trajectories on 10 examples x 6 samples.\n",
      "2025/09/10 15:23:46 WARNING dspy.predict.predict: Not all input fields were provided to module. Present: ['outputs']. Missing: ['expectations'].\n",
      "2025/09/10 15:23:46 WARNING dspy.predict.predict: Not all input fields were provided to module. Present: ['outputs']. Missing: ['expectations'].\n",
      "2025/09/10 15:23:46 WARNING dspy.predict.predict: Not all input fields were provided to module. Present: ['outputs']. Missing: ['expectations'].\n"
     ]
    },
    {
     "name": "stdout",
     "output_type": "stream",
     "text": [
      "  0%|          | 0/60 [00:00<?, ?it/s]"
     ]
    },
    {
     "name": "stderr",
     "output_type": "stream",
     "text": [
      "2025/09/10 15:23:46 WARNING dspy.predict.predict: Not all input fields were provided to module. Present: ['outputs']. Missing: ['expectations'].\n"
     ]
    },
    {
     "name": "stdout",
     "output_type": "stream",
     "text": [
      "Processed 1 / 60 examples:   0%|          | 0/60 [00:00<?, ?it/s]"
     ]
    },
    {
     "name": "stderr",
     "output_type": "stream",
     "text": [
      "2025/09/10 15:23:46 WARNING dspy.predict.predict: Not all input fields were provided to module. Present: ['outputs']. Missing: ['expectations'].\n"
     ]
    },
    {
     "name": "stdout",
     "output_type": "stream",
     "text": [
      "Processed 2 / 60 examples:   2%|▏         | 1/60 [00:00<00:00, 164.50it/s]"
     ]
    },
    {
     "name": "stderr",
     "output_type": "stream",
     "text": [
      "2025/09/10 15:23:46 WARNING dspy.predict.predict: Not all input fields were provided to module. Present: ['outputs']. Missing: ['expectations'].\n"
     ]
    },
    {
     "name": "stdout",
     "output_type": "stream",
     "text": [
      "Processed 3 / 60 examples:   3%|▎         | 2/60 [00:00<00:00, 245.40it/s]"
     ]
    },
    {
     "name": "stderr",
     "output_type": "stream",
     "text": [
      "2025/09/10 15:23:46 WARNING dspy.predict.predict: Not all input fields were provided to module. Present: ['outputs']. Missing: ['expectations'].\n"
     ]
    },
    {
     "name": "stdout",
     "output_type": "stream",
     "text": [
      "Processed 5 / 60 examples:   7%|▋         | 4/60 [00:00<00:00, 338.24it/s]"
     ]
    },
    {
     "name": "stderr",
     "output_type": "stream",
     "text": [
      "2025/09/10 15:23:46 WARNING dspy.predict.predict: Not all input fields were provided to module. Present: ['outputs']. Missing: ['expectations'].\n"
     ]
    },
    {
     "name": "stdout",
     "output_type": "stream",
     "text": [
      "Processed 7 / 60 examples:  10%|█         | 6/60 [00:00<00:00, 348.31it/s]"
     ]
    },
    {
     "name": "stderr",
     "output_type": "stream",
     "text": [
      "2025/09/10 15:23:46 WARNING dspy.predict.predict: Not all input fields were provided to module. Present: ['outputs']. Missing: ['expectations'].\n",
      "2025/09/10 15:23:46 WARNING dspy.predict.predict: Not all input fields were provided to module. Present: ['outputs']. Missing: ['expectations'].\n"
     ]
    },
    {
     "name": "stdout",
     "output_type": "stream",
     "text": [
      "Processed 9 / 60 examples:  13%|█▎        | 8/60 [00:00<00:00, 345.45it/s]"
     ]
    },
    {
     "name": "stderr",
     "output_type": "stream",
     "text": [
      "2025/09/10 15:23:46 WARNING dspy.predict.predict: Not all input fields were provided to module. Present: ['outputs']. Missing: ['expectations'].\n"
     ]
    },
    {
     "name": "stdout",
     "output_type": "stream",
     "text": [
      "Processed 10 / 60 examples:  15%|█▌        | 9/60 [00:00<00:00, 325.77it/s]"
     ]
    },
    {
     "name": "stderr",
     "output_type": "stream",
     "text": [
      "2025/09/10 15:23:46 WARNING dspy.predict.predict: Not all input fields were provided to module. Present: ['outputs']. Missing: ['expectations'].\n"
     ]
    },
    {
     "name": "stdout",
     "output_type": "stream",
     "text": [
      "Processed 11 / 60 examples:  17%|█▋        | 10/60 [00:00<00:00, 327.05it/s]"
     ]
    },
    {
     "name": "stderr",
     "output_type": "stream",
     "text": [
      "2025/09/10 15:23:46 WARNING dspy.predict.predict: Not all input fields were provided to module. Present: ['outputs']. Missing: ['expectations'].\n"
     ]
    },
    {
     "name": "stdout",
     "output_type": "stream",
     "text": [
      "Processed 12 / 60 examples:  18%|█▊        | 11/60 [00:00<00:00, 347.53it/s]"
     ]
    },
    {
     "name": "stderr",
     "output_type": "stream",
     "text": [
      "2025/09/10 15:23:46 WARNING dspy.predict.predict: Not all input fields were provided to module. Present: ['outputs']. Missing: ['expectations'].\n"
     ]
    },
    {
     "name": "stdout",
     "output_type": "stream",
     "text": [
      "Processed 13 / 60 examples:  20%|██        | 12/60 [00:00<00:00, 333.68it/s]"
     ]
    },
    {
     "name": "stderr",
     "output_type": "stream",
     "text": [
      "2025/09/10 15:23:46 WARNING dspy.predict.predict: Not all input fields were provided to module. Present: ['outputs']. Missing: ['expectations'].\n"
     ]
    },
    {
     "name": "stdout",
     "output_type": "stream",
     "text": [
      "Processed 14 / 60 examples:  22%|██▏       | 13/60 [00:00<00:00, 329.17it/s]"
     ]
    },
    {
     "name": "stderr",
     "output_type": "stream",
     "text": [
      "2025/09/10 15:23:46 WARNING dspy.predict.predict: Not all input fields were provided to module. Present: ['outputs']. Missing: ['expectations'].\n"
     ]
    },
    {
     "name": "stdout",
     "output_type": "stream",
     "text": [
      "Processed 15 / 60 examples:  23%|██▎       | 14/60 [00:00<00:00, 309.74it/s]"
     ]
    },
    {
     "name": "stderr",
     "output_type": "stream",
     "text": [
      "2025/09/10 15:23:46 WARNING dspy.predict.predict: Not all input fields were provided to module. Present: ['outputs']. Missing: ['expectations'].\n"
     ]
    },
    {
     "name": "stdout",
     "output_type": "stream",
     "text": [
      "Processed 16 / 60 examples:  25%|██▌       | 15/60 [00:00<00:00, 320.74it/s]"
     ]
    },
    {
     "name": "stderr",
     "output_type": "stream",
     "text": [
      "2025/09/10 15:23:46 WARNING dspy.predict.predict: Not all input fields were provided to module. Present: ['outputs']. Missing: ['expectations'].\n"
     ]
    },
    {
     "name": "stdout",
     "output_type": "stream",
     "text": [
      "Processed 17 / 60 examples:  27%|██▋       | 16/60 [00:00<00:00, 329.42it/s]"
     ]
    },
    {
     "name": "stderr",
     "output_type": "stream",
     "text": [
      "2025/09/10 15:23:46 WARNING dspy.predict.predict: Not all input fields were provided to module. Present: ['outputs']. Missing: ['expectations'].\n"
     ]
    },
    {
     "name": "stdout",
     "output_type": "stream",
     "text": [
      "Processed 18 / 60 examples:  28%|██▊       | 17/60 [00:00<00:00, 324.47it/s]"
     ]
    },
    {
     "name": "stderr",
     "output_type": "stream",
     "text": [
      "2025/09/10 15:23:46 WARNING dspy.predict.predict: Not all input fields were provided to module. Present: ['outputs']. Missing: ['expectations'].\n"
     ]
    },
    {
     "name": "stdout",
     "output_type": "stream",
     "text": [
      "Processed 19 / 60 examples:  30%|███       | 18/60 [00:00<00:00, 322.51it/s]"
     ]
    },
    {
     "name": "stderr",
     "output_type": "stream",
     "text": [
      "2025/09/10 15:23:46 WARNING dspy.predict.predict: Not all input fields were provided to module. Present: ['outputs']. Missing: ['expectations'].\n"
     ]
    },
    {
     "name": "stdout",
     "output_type": "stream",
     "text": [
      "Processed 20 / 60 examples:  32%|███▏      | 19/60 [00:00<00:00, 308.75it/s]"
     ]
    },
    {
     "name": "stderr",
     "output_type": "stream",
     "text": [
      "2025/09/10 15:23:46 WARNING dspy.predict.predict: Not all input fields were provided to module. Present: ['outputs']. Missing: ['expectations'].\n"
     ]
    },
    {
     "name": "stdout",
     "output_type": "stream",
     "text": [
      "Processed 21 / 60 examples:  33%|███▎      | 20/60 [00:00<00:00, 306.77it/s]"
     ]
    },
    {
     "name": "stderr",
     "output_type": "stream",
     "text": [
      "2025/09/10 15:23:46 WARNING dspy.predict.predict: Not all input fields were provided to module. Present: ['outputs']. Missing: ['expectations'].\n"
     ]
    },
    {
     "name": "stdout",
     "output_type": "stream",
     "text": [
      "Processed 22 / 60 examples:  35%|███▌      | 21/60 [00:00<00:00, 295.65it/s]"
     ]
    },
    {
     "name": "stderr",
     "output_type": "stream",
     "text": [
      "2025/09/10 15:23:46 WARNING dspy.predict.predict: Not all input fields were provided to module. Present: ['outputs']. Missing: ['expectations'].\n",
      "2025/09/10 15:23:46 WARNING dspy.predict.predict: Not all input fields were provided to module. Present: ['outputs']. Missing: ['expectations'].\n"
     ]
    },
    {
     "name": "stdout",
     "output_type": "stream",
     "text": [
      "Processed 23 / 60 examples:  37%|███▋      | 22/60 [00:00<00:00, 287.45it/s]"
     ]
    },
    {
     "name": "stderr",
     "output_type": "stream",
     "text": [
      "2025/09/10 15:23:46 WARNING dspy.predict.predict: Not all input fields were provided to module. Present: ['outputs']. Missing: ['expectations'].\n"
     ]
    },
    {
     "name": "stdout",
     "output_type": "stream",
     "text": [
      "Processed 25 / 60 examples:  40%|████      | 24/60 [00:00<00:00, 294.29it/s]"
     ]
    },
    {
     "name": "stderr",
     "output_type": "stream",
     "text": [
      "2025/09/10 15:23:46 WARNING dspy.predict.predict: Not all input fields were provided to module. Present: ['outputs']. Missing: ['expectations'].\n",
      "2025/09/10 15:23:46 WARNING dspy.predict.predict: Not all input fields were provided to module. Present: ['outputs']. Missing: ['expectations'].\n"
     ]
    },
    {
     "name": "stdout",
     "output_type": "stream",
     "text": [
      "Processed 26 / 60 examples:  42%|████▏     | 25/60 [00:00<00:00, 297.04it/s]"
     ]
    },
    {
     "name": "stderr",
     "output_type": "stream",
     "text": [
      "2025/09/10 15:23:46 WARNING dspy.predict.predict: Not all input fields were provided to module. Present: ['outputs']. Missing: ['expectations'].\n"
     ]
    },
    {
     "name": "stdout",
     "output_type": "stream",
     "text": [
      "Processed 27 / 60 examples:  43%|████▎     | 26/60 [00:00<00:00, 282.34it/s]"
     ]
    },
    {
     "name": "stderr",
     "output_type": "stream",
     "text": [
      "2025/09/10 15:23:46 WARNING dspy.predict.predict: Not all input fields were provided to module. Present: ['outputs']. Missing: ['expectations'].\n",
      "2025/09/10 15:23:46 WARNING dspy.predict.predict: Not all input fields were provided to module. Present: ['outputs']. Missing: ['expectations'].\n"
     ]
    },
    {
     "name": "stdout",
     "output_type": "stream",
     "text": [
      "Processed 28 / 60 examples:  45%|████▌     | 27/60 [00:00<00:00, 276.25it/s]"
     ]
    },
    {
     "name": "stderr",
     "output_type": "stream",
     "text": [
      "2025/09/10 15:23:46 WARNING dspy.predict.predict: Not all input fields were provided to module. Present: ['outputs']. Missing: ['expectations'].\n"
     ]
    },
    {
     "name": "stdout",
     "output_type": "stream",
     "text": [
      "Processed 28 / 60 examples:  47%|████▋     | 28/60 [00:00<00:00, 275.74it/s]"
     ]
    },
    {
     "name": "stderr",
     "output_type": "stream",
     "text": [
      "2025/09/10 15:23:46 WARNING dspy.predict.predict: Not all input fields were provided to module. Present: ['outputs']. Missing: ['expectations'].\n"
     ]
    },
    {
     "name": "stdout",
     "output_type": "stream",
     "text": [
      "Processed 29 / 60 examples:  47%|████▋     | 28/60 [00:00<00:00, 275.74it/s]"
     ]
    },
    {
     "name": "stderr",
     "output_type": "stream",
     "text": [
      "2025/09/10 15:23:46 WARNING dspy.predict.predict: Not all input fields were provided to module. Present: ['outputs']. Missing: ['expectations'].\n"
     ]
    },
    {
     "name": "stdout",
     "output_type": "stream",
     "text": [
      "Processed 30 / 60 examples:  48%|████▊     | 29/60 [00:00<00:00, 275.74it/s]"
     ]
    },
    {
     "name": "stderr",
     "output_type": "stream",
     "text": [
      "2025/09/10 15:23:46 WARNING dspy.predict.predict: Not all input fields were provided to module. Present: ['outputs']. Missing: ['expectations'].\n"
     ]
    },
    {
     "name": "stdout",
     "output_type": "stream",
     "text": [
      "Processed 31 / 60 examples:  50%|█████     | 30/60 [00:00<00:00, 275.74it/s]"
     ]
    },
    {
     "name": "stderr",
     "output_type": "stream",
     "text": [
      "2025/09/10 15:23:46 WARNING dspy.predict.predict: Not all input fields were provided to module. Present: ['outputs']. Missing: ['expectations'].\n"
     ]
    },
    {
     "name": "stdout",
     "output_type": "stream",
     "text": [
      "Processed 33 / 60 examples:  53%|█████▎    | 32/60 [00:00<00:00, 275.74it/s]"
     ]
    },
    {
     "name": "stderr",
     "output_type": "stream",
     "text": [
      "2025/09/10 15:23:46 WARNING dspy.predict.predict: Not all input fields were provided to module. Present: ['outputs']. Missing: ['expectations'].\n"
     ]
    },
    {
     "name": "stdout",
     "output_type": "stream",
     "text": [
      "Processed 34 / 60 examples:  55%|█████▌    | 33/60 [00:00<00:00, 275.74it/s]"
     ]
    },
    {
     "name": "stderr",
     "output_type": "stream",
     "text": [
      "2025/09/10 15:23:46 WARNING dspy.predict.predict: Not all input fields were provided to module. Present: ['outputs']. Missing: ['expectations'].\n"
     ]
    },
    {
     "name": "stdout",
     "output_type": "stream",
     "text": [
      "Processed 35 / 60 examples:  57%|█████▋    | 34/60 [00:00<00:00, 275.74it/s]"
     ]
    },
    {
     "name": "stderr",
     "output_type": "stream",
     "text": [
      "2025/09/10 15:23:46 WARNING dspy.predict.predict: Not all input fields were provided to module. Present: ['outputs']. Missing: ['expectations'].\n"
     ]
    },
    {
     "name": "stdout",
     "output_type": "stream",
     "text": [
      "Processed 36 / 60 examples:  58%|█████▊    | 35/60 [00:00<00:00, 275.74it/s]"
     ]
    },
    {
     "name": "stderr",
     "output_type": "stream",
     "text": [
      "2025/09/10 15:23:46 WARNING dspy.predict.predict: Not all input fields were provided to module. Present: ['outputs']. Missing: ['expectations'].\n"
     ]
    },
    {
     "name": "stdout",
     "output_type": "stream",
     "text": [
      "Processed 37 / 60 examples:  60%|██████    | 36/60 [00:00<00:00, 275.74it/s]"
     ]
    },
    {
     "name": "stderr",
     "output_type": "stream",
     "text": [
      "2025/09/10 15:23:46 WARNING dspy.predict.predict: Not all input fields were provided to module. Present: ['outputs']. Missing: ['expectations'].\n",
      "2025/09/10 15:23:46 WARNING dspy.predict.predict: Not all input fields were provided to module. Present: ['outputs']. Missing: ['expectations'].\n"
     ]
    },
    {
     "name": "stdout",
     "output_type": "stream",
     "text": [
      "Processed 38 / 60 examples:  62%|██████▏   | 37/60 [00:00<00:00, 275.74it/s]"
     ]
    },
    {
     "name": "stderr",
     "output_type": "stream",
     "text": [
      "2025/09/10 15:23:46 WARNING dspy.predict.predict: Not all input fields were provided to module. Present: ['outputs']. Missing: ['expectations'].\n"
     ]
    },
    {
     "name": "stdout",
     "output_type": "stream",
     "text": [
      "Processed 41 / 60 examples:  67%|██████▋   | 40/60 [00:00<00:00, 275.74it/s]"
     ]
    },
    {
     "name": "stderr",
     "output_type": "stream",
     "text": [
      "2025/09/10 15:23:46 WARNING dspy.predict.predict: Not all input fields were provided to module. Present: ['outputs']. Missing: ['expectations'].\n"
     ]
    },
    {
     "name": "stdout",
     "output_type": "stream",
     "text": [
      "Processed 42 / 60 examples:  68%|██████▊   | 41/60 [00:00<00:00, 275.74it/s]"
     ]
    },
    {
     "name": "stderr",
     "output_type": "stream",
     "text": [
      "2025/09/10 15:23:46 WARNING dspy.predict.predict: Not all input fields were provided to module. Present: ['outputs']. Missing: ['expectations'].\n"
     ]
    },
    {
     "name": "stdout",
     "output_type": "stream",
     "text": [
      "Processed 44 / 60 examples:  72%|███████▏  | 43/60 [00:00<00:00, 275.74it/s]"
     ]
    },
    {
     "name": "stderr",
     "output_type": "stream",
     "text": [
      "2025/09/10 15:23:46 WARNING dspy.predict.predict: Not all input fields were provided to module. Present: ['outputs']. Missing: ['expectations'].\n",
      "2025/09/10 15:23:46 WARNING dspy.predict.predict: Not all input fields were provided to module. Present: ['outputs']. Missing: ['expectations'].\n"
     ]
    },
    {
     "name": "stdout",
     "output_type": "stream",
     "text": [
      "Processed 46 / 60 examples:  75%|███████▌  | 45/60 [00:00<00:00, 275.74it/s]"
     ]
    },
    {
     "name": "stderr",
     "output_type": "stream",
     "text": [
      "2025/09/10 15:23:46 WARNING dspy.predict.predict: Not all input fields were provided to module. Present: ['outputs']. Missing: ['expectations'].\n"
     ]
    },
    {
     "name": "stdout",
     "output_type": "stream",
     "text": [
      "Processed 47 / 60 examples:  77%|███████▋  | 46/60 [00:00<00:00, 275.74it/s]"
     ]
    },
    {
     "name": "stderr",
     "output_type": "stream",
     "text": [
      "2025/09/10 15:23:46 WARNING dspy.predict.predict: Not all input fields were provided to module. Present: ['outputs']. Missing: ['expectations'].\n"
     ]
    },
    {
     "name": "stdout",
     "output_type": "stream",
     "text": [
      "Processed 48 / 60 examples:  78%|███████▊  | 47/60 [00:00<00:00, 275.74it/s]"
     ]
    },
    {
     "name": "stderr",
     "output_type": "stream",
     "text": [
      "2025/09/10 15:23:46 WARNING dspy.predict.predict: Not all input fields were provided to module. Present: ['outputs']. Missing: ['expectations'].\n"
     ]
    },
    {
     "name": "stdout",
     "output_type": "stream",
     "text": [
      "Processed 49 / 60 examples:  80%|████████  | 48/60 [00:00<00:00, 275.74it/s]"
     ]
    },
    {
     "name": "stderr",
     "output_type": "stream",
     "text": [
      "2025/09/10 15:23:46 WARNING dspy.predict.predict: Not all input fields were provided to module. Present: ['outputs']. Missing: ['expectations'].\n"
     ]
    },
    {
     "name": "stdout",
     "output_type": "stream",
     "text": [
      "Processed 50 / 60 examples:  82%|████████▏ | 49/60 [00:00<00:00, 275.74it/s]"
     ]
    },
    {
     "name": "stderr",
     "output_type": "stream",
     "text": [
      "2025/09/10 15:23:46 WARNING dspy.predict.predict: Not all input fields were provided to module. Present: ['outputs']. Missing: ['expectations'].\n"
     ]
    },
    {
     "name": "stdout",
     "output_type": "stream",
     "text": [
      "Processed 52 / 60 examples:  85%|████████▌ | 51/60 [00:00<00:00, 275.74it/s]"
     ]
    },
    {
     "name": "stderr",
     "output_type": "stream",
     "text": [
      "2025/09/10 15:23:46 WARNING dspy.predict.predict: Not all input fields were provided to module. Present: ['outputs']. Missing: ['expectations'].\n"
     ]
    },
    {
     "name": "stdout",
     "output_type": "stream",
     "text": [
      "Processed 53 / 60 examples:  87%|████████▋ | 52/60 [00:00<00:00, 275.74it/s]"
     ]
    },
    {
     "name": "stderr",
     "output_type": "stream",
     "text": [
      "2025/09/10 15:23:46 WARNING dspy.predict.predict: Not all input fields were provided to module. Present: ['outputs']. Missing: ['expectations'].\n",
      "2025/09/10 15:23:46 WARNING dspy.predict.predict: Not all input fields were provided to module. Present: ['outputs']. Missing: ['expectations'].\n"
     ]
    },
    {
     "name": "stdout",
     "output_type": "stream",
     "text": [
      "Processed 55 / 60 examples:  90%|█████████ | 54/60 [00:00<00:00, 275.74it/s]"
     ]
    },
    {
     "name": "stderr",
     "output_type": "stream",
     "text": [
      "2025/09/10 15:23:46 WARNING dspy.predict.predict: Not all input fields were provided to module. Present: ['outputs']. Missing: ['expectations'].\n"
     ]
    },
    {
     "name": "stdout",
     "output_type": "stream",
     "text": [
      "Processed 56 / 60 examples:  92%|█████████▏| 55/60 [00:00<00:00, 275.74it/s]"
     ]
    },
    {
     "name": "stderr",
     "output_type": "stream",
     "text": [
      "2025/09/10 15:23:46 WARNING dspy.predict.predict: Not all input fields were provided to module. Present: ['outputs']. Missing: ['expectations'].\n"
     ]
    },
    {
     "name": "stdout",
     "output_type": "stream",
     "text": [
      "Processed 56 / 60 examples:  93%|█████████▎| 56/60 [00:00<00:00, 232.26it/s]"
     ]
    },
    {
     "name": "stderr",
     "output_type": "stream",
     "text": [
      "2025/09/10 15:23:46 WARNING dspy.predict.predict: Not all input fields were provided to module. Present: ['outputs']. Missing: ['expectations'].\n"
     ]
    },
    {
     "name": "stdout",
     "output_type": "stream",
     "text": [
      "Processed 57 / 60 examples:  93%|█████████▎| 56/60 [00:00<00:00, 232.26it/s]"
     ]
    },
    {
     "name": "stderr",
     "output_type": "stream",
     "text": [
      "2025/09/10 15:23:46 WARNING dspy.predict.predict: Not all input fields were provided to module. Present: ['outputs']. Missing: ['expectations'].\n"
     ]
    },
    {
     "name": "stdout",
     "output_type": "stream",
     "text": [
      "Processed 59 / 60 examples:  97%|█████████▋| 58/60 [00:00<00:00, 232.26it/s]"
     ]
    },
    {
     "name": "stderr",
     "output_type": "stream",
     "text": [
      "2025/09/10 15:23:46 WARNING dspy.predict.predict: Not all input fields were provided to module. Present: ['outputs']. Missing: ['expectations'].\n"
     ]
    },
    {
     "name": "stdout",
     "output_type": "stream",
     "text": [
      "Processed 60 / 60 examples: 100%|██████████| 60/60 [00:00<00:00, 249.62it/s]"
     ]
    },
    {
     "name": "stderr",
     "output_type": "stream",
     "text": [
      "2025/09/10 15:23:46 INFO dspy.teleprompt.simba: Batch 3: Baseline mini-batch score: 0.0\n",
      "\n"
     ]
    },
    {
     "name": "stdout",
     "output_type": "stream",
     "text": [
      "\n"
     ]
    },
    {
     "name": "stderr",
     "output_type": "stream",
     "text": [
      "2025/09/10 15:23:46 INFO dspy.teleprompt.simba: Batch 3: Processing bucket #1, with max score 0.0, max-to-min gap 0.0, and max-to-avg gap 0.0.\n",
      "2025/09/10 15:23:46 INFO dspy.teleprompt.simba: Batch 3: Invoking strategy: append_a_demo_\n",
      "2025/09/10 15:23:46 INFO dspy.teleprompt.simba_utils: Added 1 demos (one each) across all predictors.\n",
      "2025/09/10 15:23:46 INFO dspy.teleprompt.simba: \n",
      "\n",
      "2025/09/10 15:23:46 INFO dspy.teleprompt.simba: Batch 3: Processing bucket #2, with max score 0.0, max-to-min gap 0.0, and max-to-avg gap 0.0.\n",
      "2025/09/10 15:23:46 INFO dspy.teleprompt.simba: Batch 3: Invoking strategy: append_a_demo_\n",
      "2025/09/10 15:23:46 INFO dspy.teleprompt.simba_utils: Added 1 demos (one each) across all predictors.\n",
      "2025/09/10 15:23:46 INFO dspy.teleprompt.simba: \n",
      "\n",
      "2025/09/10 15:23:46 INFO dspy.teleprompt.simba: Batch 3: Processing bucket #3, with max score 0.0, max-to-min gap 0.0, and max-to-avg gap 0.0.\n",
      "2025/09/10 15:23:46 INFO dspy.teleprompt.simba: Batch 3: Invoking strategy: append_a_demo_\n",
      "2025/09/10 15:23:46 INFO dspy.teleprompt.simba_utils: Added 1 demos (one each) across all predictors.\n",
      "2025/09/10 15:23:46 INFO dspy.teleprompt.simba: \n",
      "\n",
      "2025/09/10 15:23:46 INFO dspy.teleprompt.simba: Batch 3: Processing bucket #4, with max score 0.0, max-to-min gap 0.0, and max-to-avg gap 0.0.\n",
      "2025/09/10 15:23:46 INFO dspy.teleprompt.simba: Batch 3: Invoking strategy: append_a_demo_, having dropped 1 demos per predictor\n",
      "2025/09/10 15:23:46 INFO dspy.teleprompt.simba_utils: Added 1 demos (one each) across all predictors.\n",
      "2025/09/10 15:23:46 INFO dspy.teleprompt.simba: \n",
      "\n",
      "2025/09/10 15:23:46 INFO dspy.teleprompt.simba: Batch 3: Processing bucket #5, with max score 0.0, max-to-min gap 0.0, and max-to-avg gap 0.0.\n",
      "2025/09/10 15:23:46 INFO dspy.teleprompt.simba: Batch 3: Invoking strategy: append_a_rule\n",
      "2025/09/10 15:23:50 INFO dspy.teleprompt.simba_utils: Advice for self: If the module receives detailed output text that covers multiple key aspects of the expected answer, it should confidently assign a high accuracy score (4 or 5) and provide a thorough rationale that highlights the completeness, relevance, and clarity of the response. It should avoid underestimating comprehensive answers by ensuring the rationale explicitly identifies and explains the key points covered, demonstrating why the output closely matches the expectations.\n",
      "2025/09/10 15:23:50 INFO dspy.teleprompt.simba: \n",
      "\n",
      "2025/09/10 15:23:50 INFO dspy.teleprompt.simba: Batch 3: Processing bucket #6, with max score 0.0, max-to-min gap 0.0, and max-to-avg gap 0.0.\n",
      "2025/09/10 15:23:50 INFO dspy.teleprompt.simba: Batch 3: Invoking strategy: append_a_rule\n",
      "2025/09/10 15:23:54 INFO dspy.teleprompt.simba_utils: Advice for self: If the module receives a detailed output text that covers multiple key aspects of the expected answer, it should continue to carefully identify and highlight these key points in its rationale to justify a high accuracy score. It should ensure the rationale is thorough and clearly explains why the output matches the expectations closely, emphasizing completeness and relevance. Avoid underestimating the quality of comprehensive responses by providing a rationale that reflects the depth and accuracy of the output.\n",
      "2025/09/10 15:23:54 INFO dspy.teleprompt.simba: \n",
      "\n",
      "2025/09/10 15:23:54 INFO dspy.teleprompt.simba: Batch 3: Processing bucket #7, with max score 0.0, max-to-min gap 0.0, and max-to-avg gap 0.0.\n",
      "2025/09/10 15:23:54 INFO dspy.teleprompt.simba: Batch 3: Invoking strategy: append_a_demo_\n",
      "2025/09/10 15:23:54 INFO dspy.teleprompt.simba_utils: Added 1 demos (one each) across all predictors.\n",
      "2025/09/10 15:23:54 INFO dspy.teleprompt.simba: \n",
      "\n",
      "2025/09/10 15:23:54 INFO dspy.teleprompt.simba: Batch 3: Evaluating 7 programs on 10 examples.\n",
      "2025/09/10 15:23:54 WARNING dspy.predict.predict: Not all input fields were provided to module. Present: ['outputs']. Missing: ['expectations'].\n",
      "2025/09/10 15:23:54 WARNING dspy.predict.predict: Not all input fields were provided to module. Present: ['outputs']. Missing: ['expectations'].\n",
      "2025/09/10 15:23:54 WARNING dspy.predict.predict: Not all input fields were provided to module. Present: ['outputs']. Missing: ['expectations'].\n"
     ]
    },
    {
     "name": "stdout",
     "output_type": "stream",
     "text": [
      "  0%|          | 0/70 [00:00<?, ?it/s]"
     ]
    },
    {
     "name": "stderr",
     "output_type": "stream",
     "text": [
      "2025/09/10 15:23:54 WARNING dspy.predict.predict: Not all input fields were provided to module. Present: ['outputs']. Missing: ['expectations'].\n",
      "2025/09/10 15:23:54 WARNING dspy.predict.predict: Not all input fields were provided to module. Present: ['outputs']. Missing: ['expectations'].\n",
      "2025/09/10 15:23:54 WARNING dspy.predict.predict: Not all input fields were provided to module. Present: ['outputs']. Missing: ['expectations'].\n",
      "2025/09/10 15:23:54 WARNING dspy.predict.predict: Not all input fields were provided to module. Present: ['outputs']. Missing: ['expectations'].\n",
      "2025/09/10 15:23:54 WARNING dspy.predict.predict: Not all input fields were provided to module. Present: ['outputs']. Missing: ['expectations'].\n"
     ]
    },
    {
     "name": "stdout",
     "output_type": "stream",
     "text": [
      "Processed 1 / 70 examples:   1%|▏         | 1/70 [00:01<02:12,  1.92s/it]"
     ]
    },
    {
     "name": "stderr",
     "output_type": "stream",
     "text": [
      "2025/09/10 15:23:56 WARNING dspy.predict.predict: Not all input fields were provided to module. Present: ['outputs']. Missing: ['expectations'].\n"
     ]
    },
    {
     "name": "stdout",
     "output_type": "stream",
     "text": [
      "Processed 2 / 70 examples:   3%|▎         | 2/70 [00:02<00:57,  1.18it/s]"
     ]
    },
    {
     "name": "stderr",
     "output_type": "stream",
     "text": [
      "2025/09/10 15:23:56 WARNING dspy.predict.predict: Not all input fields were provided to module. Present: ['outputs']. Missing: ['expectations'].\n"
     ]
    },
    {
     "name": "stdout",
     "output_type": "stream",
     "text": [
      "Processed 3 / 70 examples:   4%|▍         | 3/70 [00:02<00:35,  1.87it/s]"
     ]
    },
    {
     "name": "stderr",
     "output_type": "stream",
     "text": [
      "2025/09/10 15:23:56 WARNING dspy.predict.predict: Not all input fields were provided to module. Present: ['outputs']. Missing: ['expectations'].\n"
     ]
    },
    {
     "name": "stdout",
     "output_type": "stream",
     "text": [
      "Processed 4 / 70 examples:   4%|▍         | 3/70 [00:02<00:35,  1.87it/s]"
     ]
    },
    {
     "name": "stderr",
     "output_type": "stream",
     "text": [
      "2025/09/10 15:23:56 WARNING dspy.predict.predict: Not all input fields were provided to module. Present: ['outputs']. Missing: ['expectations'].\n"
     ]
    },
    {
     "name": "stdout",
     "output_type": "stream",
     "text": [
      "Processed 5 / 70 examples:   7%|▋         | 5/70 [00:02<00:22,  2.89it/s]"
     ]
    },
    {
     "name": "stderr",
     "output_type": "stream",
     "text": [
      "2025/09/10 15:23:56 WARNING dspy.predict.predict: Not all input fields were provided to module. Present: ['outputs']. Missing: ['expectations'].\n",
      "2025/09/10 15:23:57 WARNING dspy.predict.predict: Not all input fields were provided to module. Present: ['outputs']. Missing: ['expectations'].\n"
     ]
    },
    {
     "name": "stdout",
     "output_type": "stream",
     "text": [
      "Processed 7 / 70 examples:  10%|█         | 7/70 [00:03<00:26,  2.34it/s]"
     ]
    },
    {
     "name": "stderr",
     "output_type": "stream",
     "text": [
      "2025/09/10 15:23:57 WARNING dspy.predict.predict: Not all input fields were provided to module. Present: ['outputs']. Missing: ['expectations'].\n"
     ]
    },
    {
     "name": "stdout",
     "output_type": "stream",
     "text": [
      "Processed 8 / 70 examples:  11%|█▏        | 8/70 [00:03<00:20,  2.98it/s]"
     ]
    },
    {
     "name": "stderr",
     "output_type": "stream",
     "text": [
      "2025/09/10 15:23:58 WARNING dspy.predict.predict: Not all input fields were provided to module. Present: ['outputs']. Missing: ['expectations'].\n"
     ]
    },
    {
     "name": "stdout",
     "output_type": "stream",
     "text": [
      "Processed 9 / 70 examples:  13%|█▎        | 9/70 [00:04<00:24,  2.51it/s]"
     ]
    },
    {
     "name": "stderr",
     "output_type": "stream",
     "text": [
      "2025/09/10 15:23:58 WARNING dspy.predict.predict: Not all input fields were provided to module. Present: ['outputs']. Missing: ['expectations'].\n"
     ]
    },
    {
     "name": "stdout",
     "output_type": "stream",
     "text": [
      "Processed 10 / 70 examples:  14%|█▍        | 10/70 [00:04<00:19,  3.04it/s]"
     ]
    },
    {
     "name": "stderr",
     "output_type": "stream",
     "text": [
      "2025/09/10 15:23:58 WARNING dspy.predict.predict: Not all input fields were provided to module. Present: ['outputs']. Missing: ['expectations'].\n"
     ]
    },
    {
     "name": "stdout",
     "output_type": "stream",
     "text": [
      "Processed 11 / 70 examples:  16%|█▌        | 11/70 [00:04<00:18,  3.13it/s]"
     ]
    },
    {
     "name": "stderr",
     "output_type": "stream",
     "text": [
      "2025/09/10 15:23:59 WARNING dspy.predict.predict: Not all input fields were provided to module. Present: ['outputs']. Missing: ['expectations'].\n"
     ]
    },
    {
     "name": "stdout",
     "output_type": "stream",
     "text": [
      "Processed 12 / 70 examples:  16%|█▌        | 11/70 [00:04<00:18,  3.13it/s]"
     ]
    },
    {
     "name": "stderr",
     "output_type": "stream",
     "text": [
      "2025/09/10 15:23:59 WARNING dspy.predict.predict: Not all input fields were provided to module. Present: ['outputs']. Missing: ['expectations'].\n"
     ]
    },
    {
     "name": "stdout",
     "output_type": "stream",
     "text": [
      "Processed 13 / 70 examples:  19%|█▊        | 13/70 [00:04<00:13,  4.08it/s]"
     ]
    },
    {
     "name": "stderr",
     "output_type": "stream",
     "text": [
      "2025/09/10 15:23:59 WARNING dspy.predict.predict: Not all input fields were provided to module. Present: ['outputs']. Missing: ['expectations'].\n"
     ]
    },
    {
     "name": "stdout",
     "output_type": "stream",
     "text": [
      "Processed 15 / 70 examples:  20%|██        | 14/70 [00:05<00:20,  2.76it/s]"
     ]
    },
    {
     "name": "stderr",
     "output_type": "stream",
     "text": [
      "2025/09/10 15:24:00 WARNING dspy.predict.predict: Not all input fields were provided to module. Present: ['outputs']. Missing: ['expectations'].\n",
      "2025/09/10 15:24:00 WARNING dspy.predict.predict: Not all input fields were provided to module. Present: ['outputs']. Missing: ['expectations'].\n"
     ]
    },
    {
     "name": "stdout",
     "output_type": "stream",
     "text": [
      "Processed 16 / 70 examples:  21%|██▏       | 15/70 [00:05<00:19,  2.76it/s]"
     ]
    },
    {
     "name": "stderr",
     "output_type": "stream",
     "text": [
      "2025/09/10 15:24:00 WARNING dspy.predict.predict: Not all input fields were provided to module. Present: ['outputs']. Missing: ['expectations'].\n"
     ]
    },
    {
     "name": "stdout",
     "output_type": "stream",
     "text": [
      "Processed 17 / 70 examples:  24%|██▍       | 17/70 [00:06<00:16,  3.26it/s]"
     ]
    },
    {
     "name": "stderr",
     "output_type": "stream",
     "text": [
      "2025/09/10 15:24:00 WARNING dspy.predict.predict: Not all input fields were provided to module. Present: ['outputs']. Missing: ['expectations'].\n"
     ]
    },
    {
     "name": "stdout",
     "output_type": "stream",
     "text": [
      "Processed 18 / 70 examples:  24%|██▍       | 17/70 [00:06<00:16,  3.26it/s]"
     ]
    },
    {
     "name": "stderr",
     "output_type": "stream",
     "text": [
      "2025/09/10 15:24:01 WARNING dspy.predict.predict: Not all input fields were provided to module. Present: ['outputs']. Missing: ['expectations'].\n"
     ]
    },
    {
     "name": "stdout",
     "output_type": "stream",
     "text": [
      "Processed 19 / 70 examples:  27%|██▋       | 19/70 [00:06<00:14,  3.63it/s]"
     ]
    },
    {
     "name": "stderr",
     "output_type": "stream",
     "text": [
      "2025/09/10 15:24:01 WARNING dspy.predict.predict: Not all input fields were provided to module. Present: ['outputs']. Missing: ['expectations'].\n"
     ]
    },
    {
     "name": "stdout",
     "output_type": "stream",
     "text": [
      "Processed 20 / 70 examples:  29%|██▊       | 20/70 [00:07<00:15,  3.31it/s]"
     ]
    },
    {
     "name": "stderr",
     "output_type": "stream",
     "text": [
      "2025/09/10 15:24:01 WARNING dspy.predict.predict: Not all input fields were provided to module. Present: ['outputs']. Missing: ['expectations'].\n"
     ]
    },
    {
     "name": "stdout",
     "output_type": "stream",
     "text": [
      "Processed 21 / 70 examples:  30%|███       | 21/70 [00:07<00:14,  3.34it/s]"
     ]
    },
    {
     "name": "stderr",
     "output_type": "stream",
     "text": [
      "2025/09/10 15:24:01 WARNING dspy.predict.predict: Not all input fields were provided to module. Present: ['outputs']. Missing: ['expectations'].\n"
     ]
    },
    {
     "name": "stdout",
     "output_type": "stream",
     "text": [
      "Processed 22 / 70 examples:  31%|███▏      | 22/70 [00:08<00:23,  2.05it/s]"
     ]
    },
    {
     "name": "stderr",
     "output_type": "stream",
     "text": [
      "2025/09/10 15:24:02 WARNING dspy.predict.predict: Not all input fields were provided to module. Present: ['outputs']. Missing: ['expectations'].\n"
     ]
    },
    {
     "name": "stdout",
     "output_type": "stream",
     "text": [
      "Processed 23 / 70 examples:  31%|███▏      | 22/70 [00:08<00:23,  2.05it/s]"
     ]
    },
    {
     "name": "stderr",
     "output_type": "stream",
     "text": [
      "2025/09/10 15:24:03 WARNING dspy.predict.predict: Not all input fields were provided to module. Present: ['outputs']. Missing: ['expectations'].\n"
     ]
    },
    {
     "name": "stdout",
     "output_type": "stream",
     "text": [
      "Processed 24 / 70 examples:  34%|███▍      | 24/70 [00:08<00:13,  3.33it/s]"
     ]
    },
    {
     "name": "stderr",
     "output_type": "stream",
     "text": [
      "2025/09/10 15:24:03 WARNING dspy.predict.predict: Not all input fields were provided to module. Present: ['outputs']. Missing: ['expectations'].\n"
     ]
    },
    {
     "name": "stdout",
     "output_type": "stream",
     "text": [
      "Processed 25 / 70 examples:  36%|███▌      | 25/70 [00:08<00:11,  3.87it/s]"
     ]
    },
    {
     "name": "stderr",
     "output_type": "stream",
     "text": [
      "2025/09/10 15:24:03 WARNING dspy.predict.predict: Not all input fields were provided to module. Present: ['outputs']. Missing: ['expectations'].\n"
     ]
    },
    {
     "name": "stdout",
     "output_type": "stream",
     "text": [
      "Processed 26 / 70 examples:  37%|███▋      | 26/70 [00:08<00:10,  4.35it/s]"
     ]
    },
    {
     "name": "stderr",
     "output_type": "stream",
     "text": [
      "2025/09/10 15:24:03 WARNING dspy.predict.predict: Not all input fields were provided to module. Present: ['outputs']. Missing: ['expectations'].\n"
     ]
    },
    {
     "name": "stdout",
     "output_type": "stream",
     "text": [
      "Processed 27 / 70 examples:  39%|███▊      | 27/70 [00:09<00:11,  3.67it/s]"
     ]
    },
    {
     "name": "stderr",
     "output_type": "stream",
     "text": [
      "2025/09/10 15:24:03 WARNING dspy.predict.predict: Not all input fields were provided to module. Present: ['outputs']. Missing: ['expectations'].\n"
     ]
    },
    {
     "name": "stdout",
     "output_type": "stream",
     "text": [
      "Processed 28 / 70 examples:  40%|████      | 28/70 [00:10<00:16,  2.61it/s]"
     ]
    },
    {
     "name": "stderr",
     "output_type": "stream",
     "text": [
      "2025/09/10 15:24:04 WARNING dspy.predict.predict: Not all input fields were provided to module. Present: ['outputs']. Missing: ['expectations'].\n"
     ]
    },
    {
     "name": "stdout",
     "output_type": "stream",
     "text": [
      "Processed 29 / 70 examples:  41%|████▏     | 29/70 [00:10<00:14,  2.91it/s]"
     ]
    },
    {
     "name": "stderr",
     "output_type": "stream",
     "text": [
      "2025/09/10 15:24:04 WARNING dspy.predict.predict: Not all input fields were provided to module. Present: ['outputs']. Missing: ['expectations'].\n"
     ]
    },
    {
     "name": "stdout",
     "output_type": "stream",
     "text": [
      "Processed 30 / 70 examples:  43%|████▎     | 30/70 [00:11<00:26,  1.52it/s]"
     ]
    },
    {
     "name": "stderr",
     "output_type": "stream",
     "text": [
      "2025/09/10 15:24:06 WARNING dspy.predict.predict: Not all input fields were provided to module. Present: ['outputs']. Missing: ['expectations'].\n"
     ]
    },
    {
     "name": "stdout",
     "output_type": "stream",
     "text": [
      "Processed 31 / 70 examples:  44%|████▍     | 31/70 [00:12<00:29,  1.32it/s]"
     ]
    },
    {
     "name": "stderr",
     "output_type": "stream",
     "text": [
      "2025/09/10 15:24:07 WARNING dspy.predict.predict: Not all input fields were provided to module. Present: ['outputs']. Missing: ['expectations'].\n"
     ]
    },
    {
     "name": "stdout",
     "output_type": "stream",
     "text": [
      "Processed 32 / 70 examples:  46%|████▌     | 32/70 [00:13<00:28,  1.35it/s]"
     ]
    },
    {
     "name": "stderr",
     "output_type": "stream",
     "text": [
      "2025/09/10 15:24:07 WARNING dspy.predict.predict: Not all input fields were provided to module. Present: ['outputs']. Missing: ['expectations'].\n"
     ]
    },
    {
     "name": "stdout",
     "output_type": "stream",
     "text": [
      "Processed 33 / 70 examples:  46%|████▌     | 32/70 [00:13<00:28,  1.35it/s]"
     ]
    },
    {
     "name": "stderr",
     "output_type": "stream",
     "text": [
      "2025/09/10 15:24:07 WARNING dspy.predict.predict: Not all input fields were provided to module. Present: ['outputs']. Missing: ['expectations'].\n"
     ]
    },
    {
     "name": "stdout",
     "output_type": "stream",
     "text": [
      "Processed 34 / 70 examples:  49%|████▊     | 34/70 [00:13<00:18,  1.91it/s]"
     ]
    },
    {
     "name": "stderr",
     "output_type": "stream",
     "text": [
      "2025/09/10 15:24:08 WARNING dspy.predict.predict: Not all input fields were provided to module. Present: ['outputs']. Missing: ['expectations'].\n"
     ]
    },
    {
     "name": "stdout",
     "output_type": "stream",
     "text": [
      "Processed 35 / 70 examples:  50%|█████     | 35/70 [00:15<00:22,  1.53it/s]"
     ]
    },
    {
     "name": "stderr",
     "output_type": "stream",
     "text": [
      "2025/09/10 15:24:09 WARNING dspy.predict.predict: Not all input fields were provided to module. Present: ['outputs']. Missing: ['expectations'].\n"
     ]
    },
    {
     "name": "stdout",
     "output_type": "stream",
     "text": [
      "Processed 36 / 70 examples:  50%|█████     | 35/70 [00:15<00:22,  1.53it/s]"
     ]
    },
    {
     "name": "stderr",
     "output_type": "stream",
     "text": [
      "2025/09/10 15:24:09 WARNING dspy.predict.predict: Not all input fields were provided to module. Present: ['outputs']. Missing: ['expectations'].\n"
     ]
    },
    {
     "name": "stdout",
     "output_type": "stream",
     "text": [
      "Processed 37 / 70 examples:  53%|█████▎    | 37/70 [00:15<00:17,  1.90it/s]"
     ]
    },
    {
     "name": "stderr",
     "output_type": "stream",
     "text": [
      "2025/09/10 15:24:10 WARNING dspy.predict.predict: Not all input fields were provided to module. Present: ['outputs']. Missing: ['expectations'].\n"
     ]
    },
    {
     "name": "stdout",
     "output_type": "stream",
     "text": [
      "Processed 38 / 70 examples:  53%|█████▎    | 37/70 [00:15<00:17,  1.90it/s]"
     ]
    },
    {
     "name": "stderr",
     "output_type": "stream",
     "text": [
      "2025/09/10 15:24:10 WARNING dspy.predict.predict: Not all input fields were provided to module. Present: ['outputs']. Missing: ['expectations'].\n"
     ]
    },
    {
     "name": "stdout",
     "output_type": "stream",
     "text": [
      "Processed 39 / 70 examples:  56%|█████▌    | 39/70 [00:16<00:15,  2.02it/s]"
     ]
    },
    {
     "name": "stderr",
     "output_type": "stream",
     "text": [
      "2025/09/10 15:24:10 WARNING dspy.predict.predict: Not all input fields were provided to module. Present: ['outputs']. Missing: ['expectations'].\n"
     ]
    },
    {
     "name": "stdout",
     "output_type": "stream",
     "text": [
      "Processed 40 / 70 examples:  57%|█████▋    | 40/70 [00:17<00:17,  1.71it/s]"
     ]
    },
    {
     "name": "stderr",
     "output_type": "stream",
     "text": [
      "2025/09/10 15:24:11 WARNING dspy.predict.predict: Not all input fields were provided to module. Present: ['outputs']. Missing: ['expectations'].\n"
     ]
    },
    {
     "name": "stdout",
     "output_type": "stream",
     "text": [
      "Processed 41 / 70 examples:  59%|█████▊    | 41/70 [00:17<00:16,  1.80it/s]"
     ]
    },
    {
     "name": "stderr",
     "output_type": "stream",
     "text": [
      "2025/09/10 15:24:12 WARNING dspy.predict.predict: Not all input fields were provided to module. Present: ['outputs']. Missing: ['expectations'].\n"
     ]
    },
    {
     "name": "stdout",
     "output_type": "stream",
     "text": [
      "Processed 42 / 70 examples:  60%|██████    | 42/70 [00:18<00:12,  2.17it/s]"
     ]
    },
    {
     "name": "stderr",
     "output_type": "stream",
     "text": [
      "2025/09/10 15:24:12 WARNING dspy.predict.predict: Not all input fields were provided to module. Present: ['outputs']. Missing: ['expectations'].\n"
     ]
    },
    {
     "name": "stdout",
     "output_type": "stream",
     "text": [
      "Processed 43 / 70 examples:  60%|██████    | 42/70 [00:18<00:12,  2.17it/s]"
     ]
    },
    {
     "name": "stderr",
     "output_type": "stream",
     "text": [
      "2025/09/10 15:24:12 WARNING dspy.predict.predict: Not all input fields were provided to module. Present: ['outputs']. Missing: ['expectations'].\n"
     ]
    },
    {
     "name": "stdout",
     "output_type": "stream",
     "text": [
      "Processed 44 / 70 examples:  61%|██████▏   | 43/70 [00:18<00:12,  2.17it/s]"
     ]
    },
    {
     "name": "stderr",
     "output_type": "stream",
     "text": [
      "2025/09/10 15:24:12 WARNING dspy.predict.predict: Not all input fields were provided to module. Present: ['outputs']. Missing: ['expectations'].\n"
     ]
    },
    {
     "name": "stdout",
     "output_type": "stream",
     "text": [
      "Processed 45 / 70 examples:  64%|██████▍   | 45/70 [00:18<00:06,  4.02it/s]"
     ]
    },
    {
     "name": "stderr",
     "output_type": "stream",
     "text": [
      "2025/09/10 15:24:12 WARNING dspy.predict.predict: Not all input fields were provided to module. Present: ['outputs']. Missing: ['expectations'].\n"
     ]
    },
    {
     "name": "stdout",
     "output_type": "stream",
     "text": [
      "Processed 46 / 70 examples:  66%|██████▌   | 46/70 [00:20<00:14,  1.71it/s]"
     ]
    },
    {
     "name": "stderr",
     "output_type": "stream",
     "text": [
      "2025/09/10 15:24:14 WARNING dspy.predict.predict: Not all input fields were provided to module. Present: ['outputs']. Missing: ['expectations'].\n"
     ]
    },
    {
     "name": "stdout",
     "output_type": "stream",
     "text": [
      "Processed 47 / 70 examples:  67%|██████▋   | 47/70 [00:20<00:12,  1.90it/s]"
     ]
    },
    {
     "name": "stderr",
     "output_type": "stream",
     "text": [
      "2025/09/10 15:24:14 WARNING dspy.predict.predict: Not all input fields were provided to module. Present: ['outputs']. Missing: ['expectations'].\n"
     ]
    },
    {
     "name": "stdout",
     "output_type": "stream",
     "text": [
      "Processed 48 / 70 examples:  69%|██████▊   | 48/70 [00:20<00:09,  2.29it/s]"
     ]
    },
    {
     "name": "stderr",
     "output_type": "stream",
     "text": [
      "2025/09/10 15:24:15 WARNING dspy.predict.predict: Not all input fields were provided to module. Present: ['outputs']. Missing: ['expectations'].\n"
     ]
    },
    {
     "name": "stdout",
     "output_type": "stream",
     "text": [
      "Processed 49 / 70 examples:  70%|███████   | 49/70 [00:20<00:07,  2.67it/s]"
     ]
    },
    {
     "name": "stderr",
     "output_type": "stream",
     "text": [
      "2025/09/10 15:24:15 WARNING dspy.predict.predict: Not all input fields were provided to module. Present: ['outputs']. Missing: ['expectations'].\n"
     ]
    },
    {
     "name": "stdout",
     "output_type": "stream",
     "text": [
      "Processed 50 / 70 examples:  70%|███████   | 49/70 [00:20<00:07,  2.67it/s]"
     ]
    },
    {
     "name": "stderr",
     "output_type": "stream",
     "text": [
      "2025/09/10 15:24:15 WARNING dspy.predict.predict: Not all input fields were provided to module. Present: ['outputs']. Missing: ['expectations'].\n"
     ]
    },
    {
     "name": "stdout",
     "output_type": "stream",
     "text": [
      "Processed 51 / 70 examples:  73%|███████▎  | 51/70 [00:21<00:06,  3.16it/s]"
     ]
    },
    {
     "name": "stderr",
     "output_type": "stream",
     "text": [
      "2025/09/10 15:24:15 WARNING dspy.predict.predict: Not all input fields were provided to module. Present: ['outputs']. Missing: ['expectations'].\n"
     ]
    },
    {
     "name": "stdout",
     "output_type": "stream",
     "text": [
      "Processed 52 / 70 examples:  74%|███████▍  | 52/70 [00:21<00:05,  3.09it/s]"
     ]
    },
    {
     "name": "stderr",
     "output_type": "stream",
     "text": [
      "2025/09/10 15:24:16 WARNING dspy.predict.predict: Not all input fields were provided to module. Present: ['outputs']. Missing: ['expectations'].\n"
     ]
    },
    {
     "name": "stdout",
     "output_type": "stream",
     "text": [
      "Processed 53 / 70 examples:  76%|███████▌  | 53/70 [00:22<00:07,  2.43it/s]"
     ]
    },
    {
     "name": "stderr",
     "output_type": "stream",
     "text": [
      "2025/09/10 15:24:16 WARNING dspy.predict.predict: Not all input fields were provided to module. Present: ['outputs']. Missing: ['expectations'].\n"
     ]
    },
    {
     "name": "stdout",
     "output_type": "stream",
     "text": [
      "Processed 54 / 70 examples:  77%|███████▋  | 54/70 [00:23<00:07,  2.12it/s]"
     ]
    },
    {
     "name": "stderr",
     "output_type": "stream",
     "text": [
      "2025/09/10 15:24:17 WARNING dspy.predict.predict: Not all input fields were provided to module. Present: ['outputs']. Missing: ['expectations'].\n"
     ]
    },
    {
     "name": "stdout",
     "output_type": "stream",
     "text": [
      "Processed 55 / 70 examples:  79%|███████▊  | 55/70 [00:23<00:07,  2.09it/s]"
     ]
    },
    {
     "name": "stderr",
     "output_type": "stream",
     "text": [
      "2025/09/10 15:24:17 WARNING dspy.predict.predict: Not all input fields were provided to module. Present: ['outputs']. Missing: ['expectations'].\n"
     ]
    },
    {
     "name": "stdout",
     "output_type": "stream",
     "text": [
      "Processed 56 / 70 examples:  80%|████████  | 56/70 [00:23<00:06,  2.31it/s]"
     ]
    },
    {
     "name": "stderr",
     "output_type": "stream",
     "text": [
      "2025/09/10 15:24:18 WARNING dspy.predict.predict: Not all input fields were provided to module. Present: ['outputs']. Missing: ['expectations'].\n"
     ]
    },
    {
     "name": "stdout",
     "output_type": "stream",
     "text": [
      "Processed 57 / 70 examples:  80%|████████  | 56/70 [00:23<00:06,  2.31it/s]"
     ]
    },
    {
     "name": "stderr",
     "output_type": "stream",
     "text": [
      "2025/09/10 15:24:18 WARNING dspy.predict.predict: Not all input fields were provided to module. Present: ['outputs']. Missing: ['expectations'].\n"
     ]
    },
    {
     "name": "stdout",
     "output_type": "stream",
     "text": [
      "Processed 58 / 70 examples:  83%|████████▎ | 58/70 [00:24<00:03,  3.01it/s]"
     ]
    },
    {
     "name": "stderr",
     "output_type": "stream",
     "text": [
      "2025/09/10 15:24:18 WARNING dspy.predict.predict: Not all input fields were provided to module. Present: ['outputs']. Missing: ['expectations'].\n"
     ]
    },
    {
     "name": "stdout",
     "output_type": "stream",
     "text": [
      "Processed 59 / 70 examples:  84%|████████▍ | 59/70 [00:24<00:04,  2.69it/s]"
     ]
    },
    {
     "name": "stderr",
     "output_type": "stream",
     "text": [
      "2025/09/10 15:24:19 WARNING dspy.predict.predict: Not all input fields were provided to module. Present: ['outputs']. Missing: ['expectations'].\n"
     ]
    },
    {
     "name": "stdout",
     "output_type": "stream",
     "text": [
      "Processed 60 / 70 examples:  86%|████████▌ | 60/70 [00:25<00:04,  2.18it/s]"
     ]
    },
    {
     "name": "stderr",
     "output_type": "stream",
     "text": [
      "2025/09/10 15:24:19 WARNING dspy.predict.predict: Not all input fields were provided to module. Present: ['outputs']. Missing: ['expectations'].\n"
     ]
    },
    {
     "name": "stdout",
     "output_type": "stream",
     "text": [
      "Processed 61 / 70 examples:  87%|████████▋ | 61/70 [00:26<00:04,  1.94it/s]"
     ]
    },
    {
     "name": "stderr",
     "output_type": "stream",
     "text": [
      "2025/09/10 15:24:20 WARNING dspy.predict.predict: Not all input fields were provided to module. Present: ['outputs']. Missing: ['expectations'].\n"
     ]
    },
    {
     "name": "stdout",
     "output_type": "stream",
     "text": [
      "Processed 62 / 70 examples:  87%|████████▋ | 61/70 [00:26<00:04,  1.94it/s]"
     ]
    },
    {
     "name": "stderr",
     "output_type": "stream",
     "text": [
      "2025/09/10 15:24:20 WARNING dspy.predict.predict: Not all input fields were provided to module. Present: ['outputs']. Missing: ['expectations'].\n"
     ]
    },
    {
     "name": "stdout",
     "output_type": "stream",
     "text": [
      "Processed 70 / 70 examples: 100%|██████████| 70/70 [00:29<00:00,  2.40it/s]"
     ]
    },
    {
     "name": "stderr",
     "output_type": "stream",
     "text": [
      "2025/09/10 15:24:23 INFO dspy.teleprompt.simba: Scores after 3 batches: [0.0, 0.0, 0.0, 0.0, 0.0, 0.0, 0.0], Best: 0.0\n",
      "\n",
      "2025/09/10 15:24:23 INFO dspy.teleprompt.simba: Starting batch 4 of 8.\n",
      "2025/09/10 15:24:23 INFO dspy.teleprompt.simba: Sampling program trajectories on 10 examples x 6 samples.\n"
     ]
    },
    {
     "name": "stdout",
     "output_type": "stream",
     "text": [
      "\n"
     ]
    },
    {
     "name": "stderr",
     "output_type": "stream",
     "text": [
      "2025/09/10 15:24:23 WARNING dspy.predict.predict: Not all input fields were provided to module. Present: ['outputs']. Missing: ['expectations'].\n"
     ]
    },
    {
     "name": "stdout",
     "output_type": "stream",
     "text": [
      "Processed 1 / 60 examples:   0%|          | 0/60 [00:00<?, ?it/s]"
     ]
    },
    {
     "name": "stderr",
     "output_type": "stream",
     "text": [
      "2025/09/10 15:24:23 WARNING dspy.predict.predict: Not all input fields were provided to module. Present: ['outputs']. Missing: ['expectations'].\n"
     ]
    },
    {
     "name": "stdout",
     "output_type": "stream",
     "text": [
      "Processed 2 / 60 examples:   2%|▏         | 1/60 [00:00<00:00, 415.81it/s]"
     ]
    },
    {
     "name": "stderr",
     "output_type": "stream",
     "text": [
      "2025/09/10 15:24:23 WARNING dspy.predict.predict: Not all input fields were provided to module. Present: ['outputs']. Missing: ['expectations'].\n"
     ]
    },
    {
     "name": "stdout",
     "output_type": "stream",
     "text": [
      "Processed 3 / 60 examples:   3%|▎         | 2/60 [00:00<00:00, 403.22it/s]"
     ]
    },
    {
     "name": "stderr",
     "output_type": "stream",
     "text": [
      "2025/09/10 15:24:23 WARNING dspy.predict.predict: Not all input fields were provided to module. Present: ['outputs']. Missing: ['expectations'].\n"
     ]
    },
    {
     "name": "stdout",
     "output_type": "stream",
     "text": [
      "Processed 4 / 60 examples:   5%|▌         | 3/60 [00:00<00:00, 459.33it/s]"
     ]
    },
    {
     "name": "stderr",
     "output_type": "stream",
     "text": [
      "2025/09/10 15:24:23 WARNING dspy.predict.predict: Not all input fields were provided to module. Present: ['outputs']. Missing: ['expectations'].\n",
      "2025/09/10 15:24:23 WARNING dspy.predict.predict: Not all input fields were provided to module. Present: ['outputs']. Missing: ['expectations'].\n"
     ]
    },
    {
     "name": "stdout",
     "output_type": "stream",
     "text": [
      "Processed 5 / 60 examples:   7%|▋         | 4/60 [00:00<00:00, 274.24it/s]"
     ]
    },
    {
     "name": "stderr",
     "output_type": "stream",
     "text": [
      "2025/09/10 15:24:23 WARNING dspy.predict.predict: Not all input fields were provided to module. Present: ['outputs']. Missing: ['expectations'].\n"
     ]
    },
    {
     "name": "stdout",
     "output_type": "stream",
     "text": [
      "Processed 6 / 60 examples:   8%|▊         | 5/60 [00:00<00:00, 105.63it/s]"
     ]
    },
    {
     "name": "stderr",
     "output_type": "stream",
     "text": [
      "2025/09/10 15:24:23 WARNING dspy.predict.predict: Not all input fields were provided to module. Present: ['outputs']. Missing: ['expectations'].\n"
     ]
    },
    {
     "name": "stdout",
     "output_type": "stream",
     "text": [
      "Processed 7 / 60 examples:  10%|█         | 6/60 [00:00<00:00, 122.64it/s]"
     ]
    },
    {
     "name": "stderr",
     "output_type": "stream",
     "text": [
      "2025/09/10 15:24:23 WARNING dspy.predict.predict: Not all input fields were provided to module. Present: ['outputs']. Missing: ['expectations'].\n"
     ]
    },
    {
     "name": "stdout",
     "output_type": "stream",
     "text": [
      "Processed 8 / 60 examples:  12%|█▏        | 7/60 [00:00<00:00, 118.79it/s]"
     ]
    },
    {
     "name": "stderr",
     "output_type": "stream",
     "text": [
      "2025/09/10 15:24:23 WARNING dspy.predict.predict: Not all input fields were provided to module. Present: ['outputs']. Missing: ['expectations'].\n"
     ]
    },
    {
     "name": "stdout",
     "output_type": "stream",
     "text": [
      "Processed 9 / 60 examples:  13%|█▎        | 8/60 [00:00<00:00, 132.84it/s]"
     ]
    },
    {
     "name": "stderr",
     "output_type": "stream",
     "text": [
      "2025/09/10 15:24:23 WARNING dspy.predict.predict: Not all input fields were provided to module. Present: ['outputs']. Missing: ['expectations'].\n",
      "2025/09/10 15:24:23 WARNING dspy.predict.predict: Not all input fields were provided to module. Present: ['outputs']. Missing: ['expectations'].\n"
     ]
    },
    {
     "name": "stdout",
     "output_type": "stream",
     "text": [
      "Processed 10 / 60 examples:  15%|█▌        | 9/60 [00:00<00:00, 142.08it/s]"
     ]
    },
    {
     "name": "stderr",
     "output_type": "stream",
     "text": [
      "2025/09/10 15:24:23 WARNING dspy.predict.predict: Not all input fields were provided to module. Present: ['outputs']. Missing: ['expectations'].\n"
     ]
    },
    {
     "name": "stdout",
     "output_type": "stream",
     "text": [
      "Processed 11 / 60 examples:  17%|█▋        | 10/60 [00:00<00:00, 152.74it/s]"
     ]
    },
    {
     "name": "stderr",
     "output_type": "stream",
     "text": [
      "2025/09/10 15:24:23 WARNING dspy.predict.predict: Not all input fields were provided to module. Present: ['outputs']. Missing: ['expectations'].\n"
     ]
    },
    {
     "name": "stdout",
     "output_type": "stream",
     "text": [
      "Processed 13 / 60 examples:  20%|██        | 12/60 [00:00<00:00, 168.89it/s]"
     ]
    },
    {
     "name": "stderr",
     "output_type": "stream",
     "text": [
      "2025/09/10 15:24:23 WARNING dspy.predict.predict: Not all input fields were provided to module. Present: ['outputs']. Missing: ['expectations'].\n"
     ]
    },
    {
     "name": "stdout",
     "output_type": "stream",
     "text": [
      "Processed 14 / 60 examples:  22%|██▏       | 13/60 [00:00<00:00, 179.01it/s]"
     ]
    },
    {
     "name": "stderr",
     "output_type": "stream",
     "text": [
      "2025/09/10 15:24:23 WARNING dspy.predict.predict: Not all input fields were provided to module. Present: ['outputs']. Missing: ['expectations'].\n"
     ]
    },
    {
     "name": "stdout",
     "output_type": "stream",
     "text": [
      "Processed 15 / 60 examples:  23%|██▎       | 14/60 [00:00<00:00, 187.21it/s]"
     ]
    },
    {
     "name": "stderr",
     "output_type": "stream",
     "text": [
      "2025/09/10 15:24:23 WARNING dspy.predict.predict: Not all input fields were provided to module. Present: ['outputs']. Missing: ['expectations'].\n"
     ]
    },
    {
     "name": "stdout",
     "output_type": "stream",
     "text": [
      "Processed 17 / 60 examples:  27%|██▋       | 16/60 [00:00<00:00, 206.20it/s]"
     ]
    },
    {
     "name": "stderr",
     "output_type": "stream",
     "text": [
      "2025/09/10 15:24:23 WARNING dspy.predict.predict: Not all input fields were provided to module. Present: ['outputs']. Missing: ['expectations'].\n"
     ]
    },
    {
     "name": "stdout",
     "output_type": "stream",
     "text": [
      "Processed 18 / 60 examples:  28%|██▊       | 17/60 [00:00<00:00, 214.02it/s]"
     ]
    },
    {
     "name": "stderr",
     "output_type": "stream",
     "text": [
      "2025/09/10 15:24:23 WARNING dspy.predict.predict: Not all input fields were provided to module. Present: ['outputs']. Missing: ['expectations'].\n",
      "2025/09/10 15:24:23 WARNING dspy.predict.predict: Not all input fields were provided to module. Present: ['outputs']. Missing: ['expectations'].\n"
     ]
    },
    {
     "name": "stdout",
     "output_type": "stream",
     "text": [
      "Processed 20 / 60 examples:  32%|███▏      | 19/60 [00:00<00:00, 229.51it/s]"
     ]
    },
    {
     "name": "stderr",
     "output_type": "stream",
     "text": [
      "2025/09/10 15:24:23 WARNING dspy.predict.predict: Not all input fields were provided to module. Present: ['outputs']. Missing: ['expectations'].\n"
     ]
    },
    {
     "name": "stdout",
     "output_type": "stream",
     "text": [
      "Processed 21 / 60 examples:  33%|███▎      | 20/60 [00:00<00:00, 235.22it/s]"
     ]
    },
    {
     "name": "stderr",
     "output_type": "stream",
     "text": [
      "2025/09/10 15:24:23 WARNING dspy.predict.predict: Not all input fields were provided to module. Present: ['outputs']. Missing: ['expectations'].\n"
     ]
    },
    {
     "name": "stdout",
     "output_type": "stream",
     "text": [
      "Processed 22 / 60 examples:  35%|███▌      | 21/60 [00:00<00:00, 235.54it/s]"
     ]
    },
    {
     "name": "stderr",
     "output_type": "stream",
     "text": [
      "2025/09/10 15:24:23 WARNING dspy.predict.predict: Not all input fields were provided to module. Present: ['outputs']. Missing: ['expectations'].\n"
     ]
    },
    {
     "name": "stdout",
     "output_type": "stream",
     "text": [
      "Processed 23 / 60 examples:  37%|███▋      | 22/60 [00:00<00:00, 242.80it/s]"
     ]
    },
    {
     "name": "stderr",
     "output_type": "stream",
     "text": [
      "2025/09/10 15:24:23 WARNING dspy.predict.predict: Not all input fields were provided to module. Present: ['outputs']. Missing: ['expectations'].\n"
     ]
    },
    {
     "name": "stdout",
     "output_type": "stream",
     "text": [
      "Processed 24 / 60 examples:  38%|███▊      | 23/60 [00:00<00:00, 247.04it/s]"
     ]
    },
    {
     "name": "stderr",
     "output_type": "stream",
     "text": [
      "2025/09/10 15:24:23 WARNING dspy.predict.predict: Not all input fields were provided to module. Present: ['outputs']. Missing: ['expectations'].\n"
     ]
    },
    {
     "name": "stdout",
     "output_type": "stream",
     "text": [
      "Processed 25 / 60 examples:  40%|████      | 24/60 [00:00<00:00, 249.42it/s]"
     ]
    },
    {
     "name": "stderr",
     "output_type": "stream",
     "text": [
      "2025/09/10 15:24:23 WARNING dspy.predict.predict: Not all input fields were provided to module. Present: ['outputs']. Missing: ['expectations'].\n"
     ]
    },
    {
     "name": "stdout",
     "output_type": "stream",
     "text": [
      "Processed 26 / 60 examples:  42%|████▏     | 25/60 [00:00<00:00, 256.49it/s]"
     ]
    },
    {
     "name": "stderr",
     "output_type": "stream",
     "text": [
      "2025/09/10 15:24:23 WARNING dspy.predict.predict: Not all input fields were provided to module. Present: ['outputs']. Missing: ['expectations'].\n",
      "2025/09/10 15:24:23 WARNING dspy.predict.predict: Not all input fields were provided to module. Present: ['outputs']. Missing: ['expectations'].\n"
     ]
    },
    {
     "name": "stdout",
     "output_type": "stream",
     "text": [
      "Processed 28 / 60 examples:  45%|████▌     | 27/60 [00:00<00:00, 268.14it/s]"
     ]
    },
    {
     "name": "stderr",
     "output_type": "stream",
     "text": [
      "2025/09/10 15:24:23 WARNING dspy.predict.predict: Not all input fields were provided to module. Present: ['outputs']. Missing: ['expectations'].\n"
     ]
    },
    {
     "name": "stdout",
     "output_type": "stream",
     "text": [
      "Processed 28 / 60 examples:  47%|████▋     | 28/60 [00:00<00:00, 274.02it/s]"
     ]
    },
    {
     "name": "stderr",
     "output_type": "stream",
     "text": [
      "2025/09/10 15:24:23 WARNING dspy.predict.predict: Not all input fields were provided to module. Present: ['outputs']. Missing: ['expectations'].\n"
     ]
    },
    {
     "name": "stdout",
     "output_type": "stream",
     "text": [
      "Processed 29 / 60 examples:  47%|████▋     | 28/60 [00:00<00:00, 274.02it/s]"
     ]
    },
    {
     "name": "stderr",
     "output_type": "stream",
     "text": [
      "2025/09/10 15:24:23 WARNING dspy.predict.predict: Not all input fields were provided to module. Present: ['outputs']. Missing: ['expectations'].\n"
     ]
    },
    {
     "name": "stdout",
     "output_type": "stream",
     "text": [
      "Processed 31 / 60 examples:  50%|█████     | 30/60 [00:00<00:00, 274.02it/s]"
     ]
    },
    {
     "name": "stderr",
     "output_type": "stream",
     "text": [
      "2025/09/10 15:24:23 WARNING dspy.predict.predict: Not all input fields were provided to module. Present: ['outputs']. Missing: ['expectations'].\n",
      "2025/09/10 15:24:23 WARNING dspy.predict.predict: Not all input fields were provided to module. Present: ['outputs']. Missing: ['expectations'].\n"
     ]
    },
    {
     "name": "stdout",
     "output_type": "stream",
     "text": [
      "Processed 33 / 60 examples:  53%|█████▎    | 32/60 [00:00<00:00, 274.02it/s]"
     ]
    },
    {
     "name": "stderr",
     "output_type": "stream",
     "text": [
      "2025/09/10 15:24:23 WARNING dspy.predict.predict: Not all input fields were provided to module. Present: ['outputs']. Missing: ['expectations'].\n"
     ]
    },
    {
     "name": "stdout",
     "output_type": "stream",
     "text": [
      "Processed 34 / 60 examples:  55%|█████▌    | 33/60 [00:00<00:00, 274.02it/s]"
     ]
    },
    {
     "name": "stderr",
     "output_type": "stream",
     "text": [
      "2025/09/10 15:24:23 WARNING dspy.predict.predict: Not all input fields were provided to module. Present: ['outputs']. Missing: ['expectations'].\n",
      "2025/09/10 15:24:23 WARNING dspy.predict.predict: Not all input fields were provided to module. Present: ['outputs']. Missing: ['expectations'].\n"
     ]
    },
    {
     "name": "stdout",
     "output_type": "stream",
     "text": [
      "Processed 35 / 60 examples:  57%|█████▋    | 34/60 [00:00<00:00, 274.02it/s]"
     ]
    },
    {
     "name": "stderr",
     "output_type": "stream",
     "text": [
      "2025/09/10 15:24:23 WARNING dspy.predict.predict: Not all input fields were provided to module. Present: ['outputs']. Missing: ['expectations'].\n"
     ]
    },
    {
     "name": "stdout",
     "output_type": "stream",
     "text": [
      "Processed 36 / 60 examples:  58%|█████▊    | 35/60 [00:00<00:00, 274.02it/s]"
     ]
    },
    {
     "name": "stderr",
     "output_type": "stream",
     "text": [
      "2025/09/10 15:24:23 WARNING dspy.predict.predict: Not all input fields were provided to module. Present: ['outputs']. Missing: ['expectations'].\n"
     ]
    },
    {
     "name": "stdout",
     "output_type": "stream",
     "text": [
      "Processed 38 / 60 examples:  62%|██████▏   | 37/60 [00:00<00:00, 274.02it/s]"
     ]
    },
    {
     "name": "stderr",
     "output_type": "stream",
     "text": [
      "2025/09/10 15:24:23 WARNING dspy.predict.predict: Not all input fields were provided to module. Present: ['outputs']. Missing: ['expectations'].\n"
     ]
    },
    {
     "name": "stdout",
     "output_type": "stream",
     "text": [
      "Processed 39 / 60 examples:  63%|██████▎   | 38/60 [00:00<00:00, 274.02it/s]"
     ]
    },
    {
     "name": "stderr",
     "output_type": "stream",
     "text": [
      "2025/09/10 15:24:23 WARNING dspy.predict.predict: Not all input fields were provided to module. Present: ['outputs']. Missing: ['expectations'].\n"
     ]
    },
    {
     "name": "stdout",
     "output_type": "stream",
     "text": [
      "Processed 40 / 60 examples:  65%|██████▌   | 39/60 [00:00<00:00, 274.02it/s]"
     ]
    },
    {
     "name": "stderr",
     "output_type": "stream",
     "text": [
      "2025/09/10 15:24:23 WARNING dspy.predict.predict: Not all input fields were provided to module. Present: ['outputs']. Missing: ['expectations'].\n"
     ]
    },
    {
     "name": "stdout",
     "output_type": "stream",
     "text": [
      "Processed 41 / 60 examples:  67%|██████▋   | 40/60 [00:00<00:00, 274.02it/s]"
     ]
    },
    {
     "name": "stderr",
     "output_type": "stream",
     "text": [
      "2025/09/10 15:24:23 WARNING dspy.predict.predict: Not all input fields were provided to module. Present: ['outputs']. Missing: ['expectations'].\n"
     ]
    },
    {
     "name": "stdout",
     "output_type": "stream",
     "text": [
      "Processed 42 / 60 examples:  68%|██████▊   | 41/60 [00:00<00:00, 274.02it/s]"
     ]
    },
    {
     "name": "stderr",
     "output_type": "stream",
     "text": [
      "2025/09/10 15:24:23 WARNING dspy.predict.predict: Not all input fields were provided to module. Present: ['outputs']. Missing: ['expectations'].\n",
      "2025/09/10 15:24:23 WARNING dspy.predict.predict: Not all input fields were provided to module. Present: ['outputs']. Missing: ['expectations'].\n"
     ]
    },
    {
     "name": "stdout",
     "output_type": "stream",
     "text": [
      "Processed 44 / 60 examples:  72%|███████▏  | 43/60 [00:00<00:00, 274.02it/s]"
     ]
    },
    {
     "name": "stderr",
     "output_type": "stream",
     "text": [
      "2025/09/10 15:24:23 WARNING dspy.predict.predict: Not all input fields were provided to module. Present: ['outputs']. Missing: ['expectations'].\n",
      "2025/09/10 15:24:23 WARNING dspy.predict.predict: Not all input fields were provided to module. Present: ['outputs']. Missing: ['expectations'].\n"
     ]
    },
    {
     "name": "stdout",
     "output_type": "stream",
     "text": [
      "Processed 46 / 60 examples:  75%|███████▌  | 45/60 [00:00<00:00, 274.02it/s]"
     ]
    },
    {
     "name": "stderr",
     "output_type": "stream",
     "text": [
      "2025/09/10 15:24:23 WARNING dspy.predict.predict: Not all input fields were provided to module. Present: ['outputs']. Missing: ['expectations'].\n"
     ]
    },
    {
     "name": "stdout",
     "output_type": "stream",
     "text": [
      "Processed 47 / 60 examples:  77%|███████▋  | 46/60 [00:00<00:00, 274.02it/s]"
     ]
    },
    {
     "name": "stderr",
     "output_type": "stream",
     "text": [
      "2025/09/10 15:24:23 WARNING dspy.predict.predict: Not all input fields were provided to module. Present: ['outputs']. Missing: ['expectations'].\n",
      "2025/09/10 15:24:23 WARNING dspy.predict.predict: Not all input fields were provided to module. Present: ['outputs']. Missing: ['expectations'].\n"
     ]
    },
    {
     "name": "stdout",
     "output_type": "stream",
     "text": [
      "Processed 49 / 60 examples:  80%|████████  | 48/60 [00:00<00:00, 274.02it/s]"
     ]
    },
    {
     "name": "stderr",
     "output_type": "stream",
     "text": [
      "2025/09/10 15:24:23 WARNING dspy.predict.predict: Not all input fields were provided to module. Present: ['outputs']. Missing: ['expectations'].\n"
     ]
    },
    {
     "name": "stdout",
     "output_type": "stream",
     "text": [
      "Processed 50 / 60 examples:  82%|████████▏ | 49/60 [00:00<00:00, 274.02it/s]"
     ]
    },
    {
     "name": "stderr",
     "output_type": "stream",
     "text": [
      "2025/09/10 15:24:23 WARNING dspy.predict.predict: Not all input fields were provided to module. Present: ['outputs']. Missing: ['expectations'].\n"
     ]
    },
    {
     "name": "stdout",
     "output_type": "stream",
     "text": [
      "Processed 51 / 60 examples:  83%|████████▎ | 50/60 [00:00<00:00, 274.02it/s]"
     ]
    },
    {
     "name": "stderr",
     "output_type": "stream",
     "text": [
      "2025/09/10 15:24:23 WARNING dspy.predict.predict: Not all input fields were provided to module. Present: ['outputs']. Missing: ['expectations'].\n",
      "2025/09/10 15:24:23 WARNING dspy.predict.predict: Not all input fields were provided to module. Present: ['outputs']. Missing: ['expectations'].\n"
     ]
    },
    {
     "name": "stdout",
     "output_type": "stream",
     "text": [
      "Processed 53 / 60 examples:  87%|████████▋ | 52/60 [00:00<00:00, 274.02it/s]"
     ]
    },
    {
     "name": "stderr",
     "output_type": "stream",
     "text": [
      "2025/09/10 15:24:23 WARNING dspy.predict.predict: Not all input fields were provided to module. Present: ['outputs']. Missing: ['expectations'].\n"
     ]
    },
    {
     "name": "stdout",
     "output_type": "stream",
     "text": [
      "Processed 54 / 60 examples:  88%|████████▊ | 53/60 [00:00<00:00, 274.02it/s]"
     ]
    },
    {
     "name": "stderr",
     "output_type": "stream",
     "text": [
      "2025/09/10 15:24:23 WARNING dspy.predict.predict: Not all input fields were provided to module. Present: ['outputs']. Missing: ['expectations'].\n"
     ]
    },
    {
     "name": "stdout",
     "output_type": "stream",
     "text": [
      "Processed 55 / 60 examples:  90%|█████████ | 54/60 [00:00<00:00, 274.02it/s]"
     ]
    },
    {
     "name": "stderr",
     "output_type": "stream",
     "text": [
      "2025/09/10 15:24:23 WARNING dspy.predict.predict: Not all input fields were provided to module. Present: ['outputs']. Missing: ['expectations'].\n"
     ]
    },
    {
     "name": "stdout",
     "output_type": "stream",
     "text": [
      "Processed 56 / 60 examples:  92%|█████████▏| 55/60 [00:00<00:00, 274.02it/s]"
     ]
    },
    {
     "name": "stderr",
     "output_type": "stream",
     "text": [
      "2025/09/10 15:24:23 WARNING dspy.predict.predict: Not all input fields were provided to module. Present: ['outputs']. Missing: ['expectations'].\n",
      "2025/09/10 15:24:23 WARNING dspy.predict.predict: Not all input fields were provided to module. Present: ['outputs']. Missing: ['expectations'].\n",
      "2025/09/10 15:24:23 WARNING dspy.predict.predict: Not all input fields were provided to module. Present: ['outputs']. Missing: ['expectations'].\n"
     ]
    },
    {
     "name": "stdout",
     "output_type": "stream",
     "text": [
      "Processed 58 / 60 examples:  95%|█████████▌| 57/60 [00:00<00:00, 274.02it/s]"
     ]
    },
    {
     "name": "stderr",
     "output_type": "stream",
     "text": [
      "2025/09/10 15:24:23 WARNING dspy.predict.predict: Not all input fields were provided to module. Present: ['outputs']. Missing: ['expectations'].\n"
     ]
    },
    {
     "name": "stdout",
     "output_type": "stream",
     "text": [
      "Processed 60 / 60 examples: 100%|██████████| 60/60 [00:00<00:00, 298.22it/s]"
     ]
    },
    {
     "name": "stderr",
     "output_type": "stream",
     "text": [
      "2025/09/10 15:24:23 INFO dspy.teleprompt.simba: Batch 4: Baseline mini-batch score: 0.0\n",
      "\n"
     ]
    },
    {
     "name": "stdout",
     "output_type": "stream",
     "text": [
      "\n"
     ]
    },
    {
     "name": "stderr",
     "output_type": "stream",
     "text": [
      "2025/09/10 15:24:23 INFO dspy.teleprompt.simba: Batch 4: Processing bucket #1, with max score 0.0, max-to-min gap 0.0, and max-to-avg gap 0.0.\n",
      "2025/09/10 15:24:23 INFO dspy.teleprompt.simba: Batch 4: Invoking strategy: append_a_rule\n",
      "2025/09/10 15:24:27 INFO dspy.teleprompt.simba_utils: Advice for self: If the module receives an output and expected answer that are mostly aligned but may have subtle inaccuracies or missing details, then it should carefully analyze the content for completeness and accuracy beyond surface-level coverage. It should assign scores that reflect partial correctness (e.g., 4 instead of 5) when some expected concepts are missing or underemphasized. The rationale should clearly identify these gaps and explain why the score is not perfect, ensuring the evaluation is more precise and better aligned with the ground truth, avoiding overly generous scoring.\n",
      "2025/09/10 15:24:27 INFO dspy.teleprompt.simba: \n",
      "\n",
      "2025/09/10 15:24:28 INFO dspy.teleprompt.simba: Batch 4: Processing bucket #2, with max score 0.0, max-to-min gap 0.0, and max-to-avg gap 0.0.\n",
      "2025/09/10 15:24:28 INFO dspy.teleprompt.simba: Batch 4: Invoking strategy: append_a_rule\n",
      "2025/09/10 15:24:32 INFO dspy.teleprompt.simba_utils: Advice for self: If the module receives an output and expected answer that are mostly aligned but may have subtle inaccuracies or missing details, then it should carefully analyze the content for completeness and accuracy beyond surface-level coverage. It should assign scores that reflect partial correctness (e.g., 3 or 4 instead of 5) when some expected concepts are missing or underemphasized, and provide rationale that clearly identifies these gaps. This will help ensure the evaluation is more precise and better aligned with the ground truth, avoiding overly generous scoring.\n",
      "2025/09/10 15:24:32 INFO dspy.teleprompt.simba: \n",
      "\n",
      "2025/09/10 15:24:32 INFO dspy.teleprompt.simba: Batch 4: Processing bucket #3, with max score 0.0, max-to-min gap 0.0, and max-to-avg gap 0.0.\n",
      "2025/09/10 15:24:32 INFO dspy.teleprompt.simba: Batch 4: Invoking strategy: append_a_demo_\n",
      "2025/09/10 15:24:32 INFO dspy.teleprompt.simba_utils: Added 1 demos (one each) across all predictors.\n",
      "2025/09/10 15:24:32 INFO dspy.teleprompt.simba: \n",
      "\n",
      "2025/09/10 15:24:32 INFO dspy.teleprompt.simba: Batch 4: Processing bucket #4, with max score 0.0, max-to-min gap 0.0, and max-to-avg gap 0.0.\n",
      "2025/09/10 15:24:32 INFO dspy.teleprompt.simba: Batch 4: Invoking strategy: append_a_demo_\n",
      "2025/09/10 15:24:32 INFO dspy.teleprompt.simba_utils: Added 1 demos (one each) across all predictors.\n",
      "2025/09/10 15:24:32 INFO dspy.teleprompt.simba: \n",
      "\n",
      "2025/09/10 15:24:32 INFO dspy.teleprompt.simba: Batch 4: Processing bucket #5, with max score 0.0, max-to-min gap 0.0, and max-to-avg gap 0.0.\n",
      "2025/09/10 15:24:32 INFO dspy.teleprompt.simba: Batch 4: Invoking strategy: append_a_demo_\n",
      "2025/09/10 15:24:32 INFO dspy.teleprompt.simba_utils: Added 1 demos (one each) across all predictors.\n",
      "2025/09/10 15:24:32 INFO dspy.teleprompt.simba: \n",
      "\n",
      "2025/09/10 15:24:32 INFO dspy.teleprompt.simba: Batch 4: Processing bucket #6, with max score 0.0, max-to-min gap 0.0, and max-to-avg gap 0.0.\n",
      "2025/09/10 15:24:32 INFO dspy.teleprompt.simba: Batch 4: Invoking strategy: append_a_demo_\n",
      "2025/09/10 15:24:32 INFO dspy.teleprompt.simba_utils: Added 1 demos (one each) across all predictors.\n",
      "2025/09/10 15:24:32 INFO dspy.teleprompt.simba: \n",
      "\n",
      "2025/09/10 15:24:32 INFO dspy.teleprompt.simba: Batch 4: Processing bucket #7, with max score 0.0, max-to-min gap 0.0, and max-to-avg gap 0.0.\n",
      "2025/09/10 15:24:32 INFO dspy.teleprompt.simba: Batch 4: Invoking strategy: append_a_rule\n",
      "2025/09/10 15:24:37 INFO dspy.teleprompt.simba_utils: Advice for self: If the module receives a detailed output describing the benefits or guidelines of a technology or process (such as choosing the right algorithm), then it should carefully assess the completeness and accuracy of the information, ensuring the rationale highlights all key points and nuances. The module should calibrate the score to reflect the comprehensiveness and correctness of the response, possibly considering a higher score if the response fully meets expectations. It should explicitly mention any minor gaps or strengths in the rationale to justify the score clearly, avoiding undervaluing responses that are mostly accurate and well-structured.\n",
      "2025/09/10 15:24:37 INFO dspy.teleprompt.simba: \n",
      "\n",
      "2025/09/10 15:24:37 INFO dspy.teleprompt.simba: Batch 4: Evaluating 7 programs on 10 examples.\n",
      "2025/09/10 15:24:37 WARNING dspy.predict.predict: Not all input fields were provided to module. Present: ['outputs']. Missing: ['expectations'].\n",
      "2025/09/10 15:24:37 WARNING dspy.predict.predict: Not all input fields were provided to module. Present: ['outputs']. Missing: ['expectations'].\n",
      "2025/09/10 15:24:37 WARNING dspy.predict.predict: Not all input fields were provided to module. Present: ['outputs']. Missing: ['expectations'].\n",
      "2025/09/10 15:24:37 WARNING dspy.predict.predict: Not all input fields were provided to module. Present: ['outputs']. Missing: ['expectations'].\n",
      "2025/09/10 15:24:37 WARNING dspy.predict.predict: Not all input fields were provided to module. Present: ['outputs']. Missing: ['expectations'].\n",
      "2025/09/10 15:24:37 WARNING dspy.predict.predict: Not all input fields were provided to module. Present: ['outputs']. Missing: ['expectations'].\n",
      "2025/09/10 15:24:37 WARNING dspy.predict.predict: Not all input fields were provided to module. Present: ['outputs']. Missing: ['expectations'].\n",
      "2025/09/10 15:24:37 WARNING dspy.predict.predict: Not all input fields were provided to module. Present: ['outputs']. Missing: ['expectations'].\n"
     ]
    },
    {
     "name": "stdout",
     "output_type": "stream",
     "text": [
      "Processed 1 / 70 examples:   1%|▏         | 1/70 [00:01<02:15,  1.96s/it]"
     ]
    },
    {
     "name": "stderr",
     "output_type": "stream",
     "text": [
      "2025/09/10 15:24:39 WARNING dspy.predict.predict: Not all input fields were provided to module. Present: ['outputs']. Missing: ['expectations'].\n"
     ]
    },
    {
     "name": "stdout",
     "output_type": "stream",
     "text": [
      "Processed 2 / 70 examples:   1%|▏         | 1/70 [00:01<02:15,  1.96s/it]"
     ]
    },
    {
     "name": "stderr",
     "output_type": "stream",
     "text": [
      "2025/09/10 15:24:39 WARNING dspy.predict.predict: Not all input fields were provided to module. Present: ['outputs']. Missing: ['expectations'].\n"
     ]
    },
    {
     "name": "stdout",
     "output_type": "stream",
     "text": [
      "Processed 3 / 70 examples:   4%|▍         | 3/70 [00:02<00:44,  1.52it/s]"
     ]
    },
    {
     "name": "stderr",
     "output_type": "stream",
     "text": [
      "2025/09/10 15:24:40 WARNING dspy.predict.predict: Not all input fields were provided to module. Present: ['outputs']. Missing: ['expectations'].\n"
     ]
    },
    {
     "name": "stdout",
     "output_type": "stream",
     "text": [
      "Processed 4 / 70 examples:   6%|▌         | 4/70 [00:02<00:33,  2.00it/s]"
     ]
    },
    {
     "name": "stderr",
     "output_type": "stream",
     "text": [
      "2025/09/10 15:24:40 WARNING dspy.predict.predict: Not all input fields were provided to module. Present: ['outputs']. Missing: ['expectations'].\n"
     ]
    },
    {
     "name": "stdout",
     "output_type": "stream",
     "text": [
      "Processed 5 / 70 examples:   6%|▌         | 4/70 [00:02<00:33,  2.00it/s]"
     ]
    },
    {
     "name": "stderr",
     "output_type": "stream",
     "text": [
      "2025/09/10 15:24:40 WARNING dspy.predict.predict: Not all input fields were provided to module. Present: ['outputs']. Missing: ['expectations'].\n"
     ]
    },
    {
     "name": "stdout",
     "output_type": "stream",
     "text": [
      "Processed 6 / 70 examples:   7%|▋         | 5/70 [00:02<00:32,  2.00it/s]"
     ]
    },
    {
     "name": "stderr",
     "output_type": "stream",
     "text": [
      "2025/09/10 15:24:40 WARNING dspy.predict.predict: Not all input fields were provided to module. Present: ['outputs']. Missing: ['expectations'].\n"
     ]
    },
    {
     "name": "stdout",
     "output_type": "stream",
     "text": [
      "Processed 7 / 70 examples:   9%|▊         | 6/70 [00:03<00:32,  2.00it/s]"
     ]
    },
    {
     "name": "stderr",
     "output_type": "stream",
     "text": [
      "2025/09/10 15:24:41 WARNING dspy.predict.predict: Not all input fields were provided to module. Present: ['outputs']. Missing: ['expectations'].\n"
     ]
    },
    {
     "name": "stdout",
     "output_type": "stream",
     "text": [
      "Processed 7 / 70 examples:  10%|█         | 7/70 [00:03<00:24,  2.62it/s]"
     ]
    },
    {
     "name": "stderr",
     "output_type": "stream",
     "text": [
      "2025/09/10 15:24:41 WARNING dspy.predict.predict: Not all input fields were provided to module. Present: ['outputs']. Missing: ['expectations'].\n"
     ]
    },
    {
     "name": "stdout",
     "output_type": "stream",
     "text": [
      "Processed 9 / 70 examples:  13%|█▎        | 9/70 [00:03<00:17,  3.45it/s]"
     ]
    },
    {
     "name": "stderr",
     "output_type": "stream",
     "text": [
      "2025/09/10 15:24:41 WARNING dspy.predict.predict: Not all input fields were provided to module. Present: ['outputs']. Missing: ['expectations'].\n"
     ]
    },
    {
     "name": "stdout",
     "output_type": "stream",
     "text": [
      "Processed 10 / 70 examples:  14%|█▍        | 10/70 [00:04<00:17,  3.37it/s]"
     ]
    },
    {
     "name": "stderr",
     "output_type": "stream",
     "text": [
      "2025/09/10 15:24:41 WARNING dspy.predict.predict: Not all input fields were provided to module. Present: ['outputs']. Missing: ['expectations'].\n"
     ]
    },
    {
     "name": "stdout",
     "output_type": "stream",
     "text": [
      "Processed 11 / 70 examples:  16%|█▌        | 11/70 [00:04<00:18,  3.23it/s]"
     ]
    },
    {
     "name": "stderr",
     "output_type": "stream",
     "text": [
      "2025/09/10 15:24:42 WARNING dspy.predict.predict: Not all input fields were provided to module. Present: ['outputs']. Missing: ['expectations'].\n"
     ]
    },
    {
     "name": "stdout",
     "output_type": "stream",
     "text": [
      "Processed 12 / 70 examples:  16%|█▌        | 11/70 [00:04<00:18,  3.23it/s]"
     ]
    },
    {
     "name": "stderr",
     "output_type": "stream",
     "text": [
      "2025/09/10 15:24:42 WARNING dspy.predict.predict: Not all input fields were provided to module. Present: ['outputs']. Missing: ['expectations'].\n"
     ]
    },
    {
     "name": "stdout",
     "output_type": "stream",
     "text": [
      "Processed 13 / 70 examples:  19%|█▊        | 13/70 [00:04<00:14,  3.90it/s]"
     ]
    },
    {
     "name": "stderr",
     "output_type": "stream",
     "text": [
      "2025/09/10 15:24:42 WARNING dspy.predict.predict: Not all input fields were provided to module. Present: ['outputs']. Missing: ['expectations'].\n"
     ]
    },
    {
     "name": "stdout",
     "output_type": "stream",
     "text": [
      "Processed 14 / 70 examples:  20%|██        | 14/70 [00:05<00:17,  3.29it/s]"
     ]
    },
    {
     "name": "stderr",
     "output_type": "stream",
     "text": [
      "2025/09/10 15:24:43 WARNING dspy.predict.predict: Not all input fields were provided to module. Present: ['outputs']. Missing: ['expectations'].\n",
      "2025/09/10 15:24:43 WARNING dspy.predict.predict: Not all input fields were provided to module. Present: ['outputs']. Missing: ['expectations'].\n"
     ]
    },
    {
     "name": "stdout",
     "output_type": "stream",
     "text": [
      "Processed 16 / 70 examples:  23%|██▎       | 16/70 [00:06<00:21,  2.48it/s]"
     ]
    },
    {
     "name": "stderr",
     "output_type": "stream",
     "text": [
      "2025/09/10 15:24:44 WARNING dspy.predict.predict: Not all input fields were provided to module. Present: ['outputs']. Missing: ['expectations'].\n"
     ]
    },
    {
     "name": "stdout",
     "output_type": "stream",
     "text": [
      "Processed 17 / 70 examples:  23%|██▎       | 16/70 [00:06<00:21,  2.48it/s]"
     ]
    },
    {
     "name": "stderr",
     "output_type": "stream",
     "text": [
      "2025/09/10 15:24:44 WARNING dspy.predict.predict: Not all input fields were provided to module. Present: ['outputs']. Missing: ['expectations'].\n"
     ]
    },
    {
     "name": "stdout",
     "output_type": "stream",
     "text": [
      "Processed 18 / 70 examples:  24%|██▍       | 17/70 [00:06<00:21,  2.48it/s]"
     ]
    },
    {
     "name": "stderr",
     "output_type": "stream",
     "text": [
      "2025/09/10 15:24:44 WARNING dspy.predict.predict: Not all input fields were provided to module. Present: ['outputs']. Missing: ['expectations'].\n"
     ]
    },
    {
     "name": "stdout",
     "output_type": "stream",
     "text": [
      "Processed 19 / 70 examples:  27%|██▋       | 19/70 [00:06<00:11,  4.31it/s]"
     ]
    },
    {
     "name": "stderr",
     "output_type": "stream",
     "text": [
      "2025/09/10 15:24:44 WARNING dspy.predict.predict: Not all input fields were provided to module. Present: ['outputs']. Missing: ['expectations'].\n"
     ]
    },
    {
     "name": "stdout",
     "output_type": "stream",
     "text": [
      "Processed 20 / 70 examples:  27%|██▋       | 19/70 [00:06<00:11,  4.31it/s]"
     ]
    },
    {
     "name": "stderr",
     "output_type": "stream",
     "text": [
      "2025/09/10 15:24:44 WARNING dspy.predict.predict: Not all input fields were provided to module. Present: ['outputs']. Missing: ['expectations'].\n"
     ]
    },
    {
     "name": "stdout",
     "output_type": "stream",
     "text": [
      "Processed 21 / 70 examples:  30%|███       | 21/70 [00:08<00:25,  1.94it/s]"
     ]
    },
    {
     "name": "stderr",
     "output_type": "stream",
     "text": [
      "2025/09/10 15:24:46 WARNING dspy.predict.predict: Not all input fields were provided to module. Present: ['outputs']. Missing: ['expectations'].\n"
     ]
    },
    {
     "name": "stdout",
     "output_type": "stream",
     "text": [
      "Processed 22 / 70 examples:  31%|███▏      | 22/70 [00:09<00:23,  2.03it/s]"
     ]
    },
    {
     "name": "stderr",
     "output_type": "stream",
     "text": [
      "2025/09/10 15:24:46 WARNING dspy.predict.predict: Not all input fields were provided to module. Present: ['outputs']. Missing: ['expectations'].\n"
     ]
    },
    {
     "name": "stdout",
     "output_type": "stream",
     "text": [
      "Processed 23 / 70 examples:  33%|███▎      | 23/70 [00:09<00:19,  2.36it/s]"
     ]
    },
    {
     "name": "stderr",
     "output_type": "stream",
     "text": [
      "2025/09/10 15:24:47 WARNING dspy.predict.predict: Not all input fields were provided to module. Present: ['outputs']. Missing: ['expectations'].\n"
     ]
    },
    {
     "name": "stdout",
     "output_type": "stream",
     "text": [
      "Processed 24 / 70 examples:  33%|███▎      | 23/70 [00:09<00:19,  2.36it/s]"
     ]
    },
    {
     "name": "stderr",
     "output_type": "stream",
     "text": [
      "2025/09/10 15:24:47 WARNING dspy.predict.predict: Not all input fields were provided to module. Present: ['outputs']. Missing: ['expectations'].\n"
     ]
    },
    {
     "name": "stdout",
     "output_type": "stream",
     "text": [
      "Processed 25 / 70 examples:  36%|███▌      | 25/70 [00:09<00:14,  3.17it/s]"
     ]
    },
    {
     "name": "stderr",
     "output_type": "stream",
     "text": [
      "2025/09/10 15:24:47 WARNING dspy.predict.predict: Not all input fields were provided to module. Present: ['outputs']. Missing: ['expectations'].\n"
     ]
    },
    {
     "name": "stdout",
     "output_type": "stream",
     "text": [
      "Processed 26 / 70 examples:  37%|███▋      | 26/70 [00:09<00:13,  3.24it/s]"
     ]
    },
    {
     "name": "stderr",
     "output_type": "stream",
     "text": [
      "2025/09/10 15:24:47 WARNING dspy.predict.predict: Not all input fields were provided to module. Present: ['outputs']. Missing: ['expectations'].\n"
     ]
    },
    {
     "name": "stdout",
     "output_type": "stream",
     "text": [
      "Processed 27 / 70 examples:  39%|███▊      | 27/70 [00:10<00:15,  2.78it/s]"
     ]
    },
    {
     "name": "stderr",
     "output_type": "stream",
     "text": [
      "2025/09/10 15:24:48 WARNING dspy.predict.predict: Not all input fields were provided to module. Present: ['outputs']. Missing: ['expectations'].\n"
     ]
    },
    {
     "name": "stdout",
     "output_type": "stream",
     "text": [
      "Processed 28 / 70 examples:  40%|████      | 28/70 [00:10<00:15,  2.73it/s]"
     ]
    },
    {
     "name": "stderr",
     "output_type": "stream",
     "text": [
      "2025/09/10 15:24:48 WARNING dspy.predict.predict: Not all input fields were provided to module. Present: ['outputs']. Missing: ['expectations'].\n"
     ]
    },
    {
     "name": "stdout",
     "output_type": "stream",
     "text": [
      "Processed 29 / 70 examples:  41%|████▏     | 29/70 [00:11<00:17,  2.37it/s]"
     ]
    },
    {
     "name": "stderr",
     "output_type": "stream",
     "text": [
      "2025/09/10 15:24:49 WARNING dspy.predict.predict: Not all input fields were provided to module. Present: ['outputs']. Missing: ['expectations'].\n"
     ]
    },
    {
     "name": "stdout",
     "output_type": "stream",
     "text": [
      "Processed 30 / 70 examples:  43%|████▎     | 30/70 [00:12<00:21,  1.84it/s]"
     ]
    },
    {
     "name": "stderr",
     "output_type": "stream",
     "text": [
      "2025/09/10 15:24:49 WARNING dspy.predict.predict: Not all input fields were provided to module. Present: ['outputs']. Missing: ['expectations'].\n"
     ]
    },
    {
     "name": "stdout",
     "output_type": "stream",
     "text": [
      "Processed 31 / 70 examples:  44%|████▍     | 31/70 [00:12<00:18,  2.11it/s]"
     ]
    },
    {
     "name": "stderr",
     "output_type": "stream",
     "text": [
      "2025/09/10 15:24:50 WARNING dspy.predict.predict: Not all input fields were provided to module. Present: ['outputs']. Missing: ['expectations'].\n"
     ]
    },
    {
     "name": "stdout",
     "output_type": "stream",
     "text": [
      "Processed 32 / 70 examples:  46%|████▌     | 32/70 [00:12<00:16,  2.25it/s]"
     ]
    },
    {
     "name": "stderr",
     "output_type": "stream",
     "text": [
      "2025/09/10 15:24:50 WARNING dspy.predict.predict: Not all input fields were provided to module. Present: ['outputs']. Missing: ['expectations'].\n"
     ]
    },
    {
     "name": "stdout",
     "output_type": "stream",
     "text": [
      "Processed 33 / 70 examples:  46%|████▌     | 32/70 [00:12<00:16,  2.25it/s]"
     ]
    },
    {
     "name": "stderr",
     "output_type": "stream",
     "text": [
      "2025/09/10 15:24:50 WARNING dspy.predict.predict: Not all input fields were provided to module. Present: ['outputs']. Missing: ['expectations'].\n"
     ]
    },
    {
     "name": "stdout",
     "output_type": "stream",
     "text": [
      "Processed 34 / 70 examples:  49%|████▊     | 34/70 [00:13<00:12,  2.97it/s]"
     ]
    },
    {
     "name": "stderr",
     "output_type": "stream",
     "text": [
      "2025/09/10 15:24:51 WARNING dspy.predict.predict: Not all input fields were provided to module. Present: ['outputs']. Missing: ['expectations'].\n"
     ]
    },
    {
     "name": "stdout",
     "output_type": "stream",
     "text": [
      "Processed 35 / 70 examples:  50%|█████     | 35/70 [00:13<00:09,  3.54it/s]"
     ]
    },
    {
     "name": "stderr",
     "output_type": "stream",
     "text": [
      "2025/09/10 15:24:51 WARNING dspy.predict.predict: Not all input fields were provided to module. Present: ['outputs']. Missing: ['expectations'].\n"
     ]
    },
    {
     "name": "stdout",
     "output_type": "stream",
     "text": [
      "Processed 36 / 70 examples:  51%|█████▏    | 36/70 [00:13<00:10,  3.24it/s]"
     ]
    },
    {
     "name": "stderr",
     "output_type": "stream",
     "text": [
      "2025/09/10 15:24:51 WARNING dspy.predict.predict: Not all input fields were provided to module. Present: ['outputs']. Missing: ['expectations'].\n"
     ]
    },
    {
     "name": "stdout",
     "output_type": "stream",
     "text": [
      "Processed 37 / 70 examples:  53%|█████▎    | 37/70 [00:14<00:10,  3.19it/s]"
     ]
    },
    {
     "name": "stderr",
     "output_type": "stream",
     "text": [
      "2025/09/10 15:24:51 WARNING dspy.predict.predict: Not all input fields were provided to module. Present: ['outputs']. Missing: ['expectations'].\n"
     ]
    },
    {
     "name": "stdout",
     "output_type": "stream",
     "text": [
      "Processed 38 / 70 examples:  54%|█████▍    | 38/70 [00:14<00:08,  3.88it/s]"
     ]
    },
    {
     "name": "stderr",
     "output_type": "stream",
     "text": [
      "2025/09/10 15:24:51 WARNING dspy.predict.predict: Not all input fields were provided to module. Present: ['outputs']. Missing: ['expectations'].\n"
     ]
    },
    {
     "name": "stdout",
     "output_type": "stream",
     "text": [
      "Processed 39 / 70 examples:  56%|█████▌    | 39/70 [00:14<00:10,  2.92it/s]"
     ]
    },
    {
     "name": "stderr",
     "output_type": "stream",
     "text": [
      "2025/09/10 15:24:52 WARNING dspy.predict.predict: Not all input fields were provided to module. Present: ['outputs']. Missing: ['expectations'].\n"
     ]
    },
    {
     "name": "stdout",
     "output_type": "stream",
     "text": [
      "Processed 40 / 70 examples:  56%|█████▌    | 39/70 [00:15<00:10,  2.92it/s]"
     ]
    },
    {
     "name": "stderr",
     "output_type": "stream",
     "text": [
      "2025/09/10 15:24:53 WARNING dspy.predict.predict: Not all input fields were provided to module. Present: ['outputs']. Missing: ['expectations'].\n"
     ]
    },
    {
     "name": "stdout",
     "output_type": "stream",
     "text": [
      "Processed 41 / 70 examples:  59%|█████▊    | 41/70 [00:15<00:10,  2.79it/s]"
     ]
    },
    {
     "name": "stderr",
     "output_type": "stream",
     "text": [
      "2025/09/10 15:24:53 WARNING dspy.predict.predict: Not all input fields were provided to module. Present: ['outputs']. Missing: ['expectations'].\n"
     ]
    },
    {
     "name": "stdout",
     "output_type": "stream",
     "text": [
      "Processed 42 / 70 examples:  60%|██████    | 42/70 [00:16<00:12,  2.31it/s]"
     ]
    },
    {
     "name": "stderr",
     "output_type": "stream",
     "text": [
      "2025/09/10 15:24:53 WARNING dspy.predict.predict: Not all input fields were provided to module. Present: ['outputs']. Missing: ['expectations'].\n"
     ]
    },
    {
     "name": "stdout",
     "output_type": "stream",
     "text": [
      "Processed 43 / 70 examples:  60%|██████    | 42/70 [00:16<00:12,  2.31it/s]"
     ]
    },
    {
     "name": "stderr",
     "output_type": "stream",
     "text": [
      "2025/09/10 15:24:54 WARNING dspy.predict.predict: Not all input fields were provided to module. Present: ['outputs']. Missing: ['expectations'].\n"
     ]
    },
    {
     "name": "stdout",
     "output_type": "stream",
     "text": [
      "Processed 44 / 70 examples:  63%|██████▎   | 44/70 [00:16<00:08,  2.94it/s]"
     ]
    },
    {
     "name": "stderr",
     "output_type": "stream",
     "text": [
      "2025/09/10 15:24:54 WARNING dspy.predict.predict: Not all input fields were provided to module. Present: ['outputs']. Missing: ['expectations'].\n"
     ]
    },
    {
     "name": "stdout",
     "output_type": "stream",
     "text": [
      "Processed 45 / 70 examples:  64%|██████▍   | 45/70 [00:17<00:10,  2.37it/s]"
     ]
    },
    {
     "name": "stderr",
     "output_type": "stream",
     "text": [
      "2025/09/10 15:24:55 WARNING dspy.predict.predict: Not all input fields were provided to module. Present: ['outputs']. Missing: ['expectations'].\n"
     ]
    },
    {
     "name": "stdout",
     "output_type": "stream",
     "text": [
      "Processed 46 / 70 examples:  64%|██████▍   | 45/70 [00:17<00:10,  2.37it/s]"
     ]
    },
    {
     "name": "stderr",
     "output_type": "stream",
     "text": [
      "2025/09/10 15:24:55 WARNING dspy.predict.predict: Not all input fields were provided to module. Present: ['outputs']. Missing: ['expectations'].\n"
     ]
    },
    {
     "name": "stdout",
     "output_type": "stream",
     "text": [
      "Processed 47 / 70 examples:  66%|██████▌   | 46/70 [00:17<00:10,  2.37it/s]"
     ]
    },
    {
     "name": "stderr",
     "output_type": "stream",
     "text": [
      "2025/09/10 15:24:55 WARNING dspy.predict.predict: Not all input fields were provided to module. Present: ['outputs']. Missing: ['expectations'].\n"
     ]
    },
    {
     "name": "stdout",
     "output_type": "stream",
     "text": [
      "Processed 48 / 70 examples:  69%|██████▊   | 48/70 [00:18<00:07,  3.03it/s]"
     ]
    },
    {
     "name": "stderr",
     "output_type": "stream",
     "text": [
      "2025/09/10 15:24:55 WARNING dspy.predict.predict: Not all input fields were provided to module. Present: ['outputs']. Missing: ['expectations'].\n"
     ]
    },
    {
     "name": "stdout",
     "output_type": "stream",
     "text": [
      "Processed 49 / 70 examples:  69%|██████▊   | 48/70 [00:18<00:07,  3.03it/s]"
     ]
    },
    {
     "name": "stderr",
     "output_type": "stream",
     "text": [
      "2025/09/10 15:24:55 WARNING dspy.predict.predict: Not all input fields were provided to module. Present: ['outputs']. Missing: ['expectations'].\n"
     ]
    },
    {
     "name": "stdout",
     "output_type": "stream",
     "text": [
      "Processed 50 / 70 examples:  71%|███████▏  | 50/70 [00:18<00:07,  2.65it/s]"
     ]
    },
    {
     "name": "stderr",
     "output_type": "stream",
     "text": [
      "2025/09/10 15:24:56 WARNING dspy.predict.predict: Not all input fields were provided to module. Present: ['outputs']. Missing: ['expectations'].\n"
     ]
    },
    {
     "name": "stdout",
     "output_type": "stream",
     "text": [
      "Processed 51 / 70 examples:  73%|███████▎  | 51/70 [00:19<00:06,  3.10it/s]"
     ]
    },
    {
     "name": "stderr",
     "output_type": "stream",
     "text": [
      "2025/09/10 15:24:56 WARNING dspy.predict.predict: Not all input fields were provided to module. Present: ['outputs']. Missing: ['expectations'].\n"
     ]
    },
    {
     "name": "stdout",
     "output_type": "stream",
     "text": [
      "Processed 52 / 70 examples:  74%|███████▍  | 52/70 [00:19<00:06,  2.75it/s]"
     ]
    },
    {
     "name": "stderr",
     "output_type": "stream",
     "text": [
      "2025/09/10 15:24:57 WARNING dspy.predict.predict: Not all input fields were provided to module. Present: ['outputs']. Missing: ['expectations'].\n"
     ]
    },
    {
     "name": "stdout",
     "output_type": "stream",
     "text": [
      "Processed 53 / 70 examples:  76%|███████▌  | 53/70 [00:20<00:06,  2.53it/s]"
     ]
    },
    {
     "name": "stderr",
     "output_type": "stream",
     "text": [
      "2025/09/10 15:24:57 WARNING dspy.predict.predict: Not all input fields were provided to module. Present: ['outputs']. Missing: ['expectations'].\n"
     ]
    },
    {
     "name": "stdout",
     "output_type": "stream",
     "text": [
      "Processed 55 / 70 examples:  77%|███████▋  | 54/70 [00:20<00:06,  2.53it/s]"
     ]
    },
    {
     "name": "stderr",
     "output_type": "stream",
     "text": [
      "2025/09/10 15:24:57 WARNING dspy.predict.predict: Not all input fields were provided to module. Present: ['outputs']. Missing: ['expectations'].\n"
     ]
    },
    {
     "name": "stdout",
     "output_type": "stream",
     "text": [
      "Processed 55 / 70 examples:  79%|███████▊  | 55/70 [00:20<00:03,  3.91it/s]"
     ]
    },
    {
     "name": "stderr",
     "output_type": "stream",
     "text": [
      "2025/09/10 15:24:57 WARNING dspy.predict.predict: Not all input fields were provided to module. Present: ['outputs']. Missing: ['expectations'].\n",
      "2025/09/10 15:24:58 WARNING dspy.predict.predict: Not all input fields were provided to module. Present: ['outputs']. Missing: ['expectations'].\n"
     ]
    },
    {
     "name": "stdout",
     "output_type": "stream",
     "text": [
      "Processed 58 / 70 examples:  81%|████████▏ | 57/70 [00:21<00:05,  2.35it/s]"
     ]
    },
    {
     "name": "stderr",
     "output_type": "stream",
     "text": [
      "2025/09/10 15:24:59 WARNING dspy.predict.predict: Not all input fields were provided to module. Present: ['outputs']. Missing: ['expectations'].\n",
      "2025/09/10 15:24:59 WARNING dspy.predict.predict: Not all input fields were provided to module. Present: ['outputs']. Missing: ['expectations'].\n"
     ]
    },
    {
     "name": "stdout",
     "output_type": "stream",
     "text": [
      "Processed 59 / 70 examples:  83%|████████▎ | 58/70 [00:21<00:05,  2.35it/s]"
     ]
    },
    {
     "name": "stderr",
     "output_type": "stream",
     "text": [
      "2025/09/10 15:24:59 WARNING dspy.predict.predict: Not all input fields were provided to module. Present: ['outputs']. Missing: ['expectations'].\n"
     ]
    },
    {
     "name": "stdout",
     "output_type": "stream",
     "text": [
      "Processed 60 / 70 examples:  84%|████████▍ | 59/70 [00:21<00:04,  2.35it/s]"
     ]
    },
    {
     "name": "stderr",
     "output_type": "stream",
     "text": [
      "2025/09/10 15:24:59 WARNING dspy.predict.predict: Not all input fields were provided to module. Present: ['outputs']. Missing: ['expectations'].\n"
     ]
    },
    {
     "name": "stdout",
     "output_type": "stream",
     "text": [
      "Processed 61 / 70 examples:  87%|████████▋ | 61/70 [00:21<00:02,  3.91it/s]"
     ]
    },
    {
     "name": "stderr",
     "output_type": "stream",
     "text": [
      "2025/09/10 15:24:59 WARNING dspy.predict.predict: Not all input fields were provided to module. Present: ['outputs']. Missing: ['expectations'].\n"
     ]
    },
    {
     "name": "stdout",
     "output_type": "stream",
     "text": [
      "Processed 62 / 70 examples:  89%|████████▊ | 62/70 [00:22<00:02,  3.63it/s]"
     ]
    },
    {
     "name": "stderr",
     "output_type": "stream",
     "text": [
      "2025/09/10 15:25:00 WARNING dspy.predict.predict: Not all input fields were provided to module. Present: ['outputs']. Missing: ['expectations'].\n"
     ]
    },
    {
     "name": "stdout",
     "output_type": "stream",
     "text": [
      "Processed 70 / 70 examples: 100%|██████████| 70/70 [00:25<00:00,  2.78it/s]"
     ]
    },
    {
     "name": "stderr",
     "output_type": "stream",
     "text": [
      "2025/09/10 15:25:03 INFO dspy.teleprompt.simba: Scores after 4 batches: [0.0, 0.0, 0.0, 0.0, 0.0, 0.0, 0.0], Best: 0.0\n",
      "\n",
      "2025/09/10 15:25:03 INFO dspy.teleprompt.simba: Starting batch 5 of 8.\n",
      "2025/09/10 15:25:03 INFO dspy.teleprompt.simba: Sampling program trajectories on 10 examples x 6 samples.\n",
      "2025/09/10 15:25:03 WARNING dspy.predict.predict: Not all input fields were provided to module. Present: ['outputs']. Missing: ['expectations'].\n",
      "2025/09/10 15:25:03 WARNING dspy.predict.predict: Not all input fields were provided to module. Present: ['outputs']. Missing: ['expectations'].\n"
     ]
    },
    {
     "name": "stdout",
     "output_type": "stream",
     "text": [
      "\n",
      "  0%|          | 0/60 [00:00<?, ?it/s]"
     ]
    },
    {
     "name": "stderr",
     "output_type": "stream",
     "text": [
      "2025/09/10 15:25:03 WARNING dspy.predict.predict: Not all input fields were provided to module. Present: ['outputs']. Missing: ['expectations'].\n"
     ]
    },
    {
     "name": "stdout",
     "output_type": "stream",
     "text": [
      "Processed 1 / 60 examples:   0%|          | 0/60 [00:00<?, ?it/s]"
     ]
    },
    {
     "name": "stderr",
     "output_type": "stream",
     "text": [
      "2025/09/10 15:25:03 WARNING dspy.predict.predict: Not all input fields were provided to module. Present: ['outputs']. Missing: ['expectations'].\n",
      "2025/09/10 15:25:03 WARNING dspy.predict.predict: Not all input fields were provided to module. Present: ['outputs']. Missing: ['expectations'].\n"
     ]
    },
    {
     "name": "stdout",
     "output_type": "stream",
     "text": [
      "Processed 2 / 60 examples:   2%|▏         | 1/60 [00:00<00:00, 286.12it/s]"
     ]
    },
    {
     "name": "stderr",
     "output_type": "stream",
     "text": [
      "2025/09/10 15:25:03 WARNING dspy.predict.predict: Not all input fields were provided to module. Present: ['outputs']. Missing: ['expectations'].\n"
     ]
    },
    {
     "name": "stdout",
     "output_type": "stream",
     "text": [
      "Processed 3 / 60 examples:   3%|▎         | 2/60 [00:00<00:00, 302.79it/s]"
     ]
    },
    {
     "name": "stderr",
     "output_type": "stream",
     "text": [
      "2025/09/10 15:25:03 WARNING dspy.predict.predict: Not all input fields were provided to module. Present: ['outputs']. Missing: ['expectations'].\n"
     ]
    },
    {
     "name": "stdout",
     "output_type": "stream",
     "text": [
      "Processed 4 / 60 examples:   5%|▌         | 3/60 [00:00<00:00, 389.20it/s]"
     ]
    },
    {
     "name": "stderr",
     "output_type": "stream",
     "text": [
      "2025/09/10 15:25:03 WARNING dspy.predict.predict: Not all input fields were provided to module. Present: ['outputs']. Missing: ['expectations'].\n"
     ]
    },
    {
     "name": "stdout",
     "output_type": "stream",
     "text": [
      "Processed 7 / 60 examples:  10%|█         | 6/60 [00:00<00:00, 468.20it/s]"
     ]
    },
    {
     "name": "stderr",
     "output_type": "stream",
     "text": [
      "2025/09/10 15:25:03 WARNING dspy.predict.predict: Not all input fields were provided to module. Present: ['outputs']. Missing: ['expectations'].\n"
     ]
    },
    {
     "name": "stdout",
     "output_type": "stream",
     "text": [
      "Processed 8 / 60 examples:  12%|█▏        | 7/60 [00:00<00:00, 507.86it/s]"
     ]
    },
    {
     "name": "stderr",
     "output_type": "stream",
     "text": [
      "2025/09/10 15:25:03 WARNING dspy.predict.predict: Not all input fields were provided to module. Present: ['outputs']. Missing: ['expectations'].\n"
     ]
    },
    {
     "name": "stdout",
     "output_type": "stream",
     "text": [
      "Processed 9 / 60 examples:  13%|█▎        | 8/60 [00:00<00:00, 490.74it/s]"
     ]
    },
    {
     "name": "stderr",
     "output_type": "stream",
     "text": [
      "2025/09/10 15:25:03 WARNING dspy.predict.predict: Not all input fields were provided to module. Present: ['outputs']. Missing: ['expectations'].\n"
     ]
    },
    {
     "name": "stdout",
     "output_type": "stream",
     "text": [
      "Processed 10 / 60 examples:  15%|█▌        | 9/60 [00:00<00:00, 532.63it/s]"
     ]
    },
    {
     "name": "stderr",
     "output_type": "stream",
     "text": [
      "2025/09/10 15:25:03 WARNING dspy.predict.predict: Not all input fields were provided to module. Present: ['outputs']. Missing: ['expectations'].\n"
     ]
    },
    {
     "name": "stdout",
     "output_type": "stream",
     "text": [
      "Processed 11 / 60 examples:  17%|█▋        | 10/60 [00:00<00:00, 502.29it/s]"
     ]
    },
    {
     "name": "stderr",
     "output_type": "stream",
     "text": [
      "2025/09/10 15:25:03 WARNING dspy.predict.predict: Not all input fields were provided to module. Present: ['outputs']. Missing: ['expectations'].\n",
      "2025/09/10 15:25:03 WARNING dspy.predict.predict: Not all input fields were provided to module. Present: ['outputs']. Missing: ['expectations'].\n"
     ]
    },
    {
     "name": "stdout",
     "output_type": "stream",
     "text": [
      "Processed 12 / 60 examples:  18%|█▊        | 11/60 [00:00<00:00, 443.42it/s]"
     ]
    },
    {
     "name": "stderr",
     "output_type": "stream",
     "text": [
      "2025/09/10 15:25:03 WARNING dspy.predict.predict: Not all input fields were provided to module. Present: ['outputs']. Missing: ['expectations'].\n"
     ]
    },
    {
     "name": "stdout",
     "output_type": "stream",
     "text": [
      "Processed 13 / 60 examples:  20%|██        | 12/60 [00:00<00:00, 432.53it/s]"
     ]
    },
    {
     "name": "stderr",
     "output_type": "stream",
     "text": [
      "2025/09/10 15:25:03 WARNING dspy.predict.predict: Not all input fields were provided to module. Present: ['outputs']. Missing: ['expectations'].\n"
     ]
    },
    {
     "name": "stdout",
     "output_type": "stream",
     "text": [
      "Processed 15 / 60 examples:  23%|██▎       | 14/60 [00:00<00:00, 475.72it/s]"
     ]
    },
    {
     "name": "stderr",
     "output_type": "stream",
     "text": [
      "2025/09/10 15:25:03 WARNING dspy.predict.predict: Not all input fields were provided to module. Present: ['outputs']. Missing: ['expectations'].\n"
     ]
    },
    {
     "name": "stdout",
     "output_type": "stream",
     "text": [
      "Processed 16 / 60 examples:  25%|██▌       | 15/60 [00:00<00:00, 462.05it/s]"
     ]
    },
    {
     "name": "stderr",
     "output_type": "stream",
     "text": [
      "2025/09/10 15:25:03 WARNING dspy.predict.predict: Not all input fields were provided to module. Present: ['outputs']. Missing: ['expectations'].\n"
     ]
    },
    {
     "name": "stdout",
     "output_type": "stream",
     "text": [
      "Processed 17 / 60 examples:  27%|██▋       | 16/60 [00:00<00:00, 472.88it/s]"
     ]
    },
    {
     "name": "stderr",
     "output_type": "stream",
     "text": [
      "2025/09/10 15:25:03 WARNING dspy.predict.predict: Not all input fields were provided to module. Present: ['outputs']. Missing: ['expectations'].\n"
     ]
    },
    {
     "name": "stdout",
     "output_type": "stream",
     "text": [
      "Processed 18 / 60 examples:  28%|██▊       | 17/60 [00:00<00:00, 441.19it/s]"
     ]
    },
    {
     "name": "stderr",
     "output_type": "stream",
     "text": [
      "2025/09/10 15:25:03 WARNING dspy.predict.predict: Not all input fields were provided to module. Present: ['outputs']. Missing: ['expectations'].\n"
     ]
    },
    {
     "name": "stdout",
     "output_type": "stream",
     "text": [
      "Processed 19 / 60 examples:  30%|███       | 18/60 [00:00<00:00, 436.32it/s]"
     ]
    },
    {
     "name": "stderr",
     "output_type": "stream",
     "text": [
      "2025/09/10 15:25:03 WARNING dspy.predict.predict: Not all input fields were provided to module. Present: ['outputs']. Missing: ['expectations'].\n"
     ]
    },
    {
     "name": "stdout",
     "output_type": "stream",
     "text": [
      "Processed 20 / 60 examples:  32%|███▏      | 19/60 [00:00<00:00, 432.64it/s]"
     ]
    },
    {
     "name": "stderr",
     "output_type": "stream",
     "text": [
      "2025/09/10 15:25:03 WARNING dspy.predict.predict: Not all input fields were provided to module. Present: ['outputs']. Missing: ['expectations'].\n"
     ]
    },
    {
     "name": "stdout",
     "output_type": "stream",
     "text": [
      "Processed 21 / 60 examples:  33%|███▎      | 20/60 [00:00<00:00, 427.79it/s]"
     ]
    },
    {
     "name": "stderr",
     "output_type": "stream",
     "text": [
      "2025/09/10 15:25:03 WARNING dspy.predict.predict: Not all input fields were provided to module. Present: ['outputs']. Missing: ['expectations'].\n"
     ]
    },
    {
     "name": "stdout",
     "output_type": "stream",
     "text": [
      "Processed 22 / 60 examples:  37%|███▋      | 22/60 [00:00<00:00, 165.62it/s]"
     ]
    },
    {
     "name": "stderr",
     "output_type": "stream",
     "text": [
      "2025/09/10 15:25:03 WARNING dspy.predict.predict: Not all input fields were provided to module. Present: ['outputs']. Missing: ['expectations'].\n"
     ]
    },
    {
     "name": "stdout",
     "output_type": "stream",
     "text": [
      "Processed 23 / 60 examples:  37%|███▋      | 22/60 [00:00<00:00, 165.62it/s]"
     ]
    },
    {
     "name": "stderr",
     "output_type": "stream",
     "text": [
      "2025/09/10 15:25:03 WARNING dspy.predict.predict: Not all input fields were provided to module. Present: ['outputs']. Missing: ['expectations'].\n"
     ]
    },
    {
     "name": "stdout",
     "output_type": "stream",
     "text": [
      "Processed 24 / 60 examples:  38%|███▊      | 23/60 [00:00<00:00, 165.62it/s]"
     ]
    },
    {
     "name": "stderr",
     "output_type": "stream",
     "text": [
      "2025/09/10 15:25:03 WARNING dspy.predict.predict: Not all input fields were provided to module. Present: ['outputs']. Missing: ['expectations'].\n"
     ]
    },
    {
     "name": "stdout",
     "output_type": "stream",
     "text": [
      "Processed 25 / 60 examples:  40%|████      | 24/60 [00:00<00:00, 165.62it/s]"
     ]
    },
    {
     "name": "stderr",
     "output_type": "stream",
     "text": [
      "2025/09/10 15:25:03 WARNING dspy.predict.predict: Not all input fields were provided to module. Present: ['outputs']. Missing: ['expectations'].\n"
     ]
    },
    {
     "name": "stdout",
     "output_type": "stream",
     "text": [
      "Processed 26 / 60 examples:  42%|████▏     | 25/60 [00:00<00:00, 165.62it/s]"
     ]
    },
    {
     "name": "stderr",
     "output_type": "stream",
     "text": [
      "2025/09/10 15:25:03 WARNING dspy.predict.predict: Not all input fields were provided to module. Present: ['outputs']. Missing: ['expectations'].\n",
      "2025/09/10 15:25:03 WARNING dspy.predict.predict: Not all input fields were provided to module. Present: ['outputs']. Missing: ['expectations'].\n"
     ]
    },
    {
     "name": "stdout",
     "output_type": "stream",
     "text": [
      "Processed 28 / 60 examples:  45%|████▌     | 27/60 [00:00<00:00, 165.62it/s]"
     ]
    },
    {
     "name": "stderr",
     "output_type": "stream",
     "text": [
      "2025/09/10 15:25:03 WARNING dspy.predict.predict: Not all input fields were provided to module. Present: ['outputs']. Missing: ['expectations'].\n"
     ]
    },
    {
     "name": "stdout",
     "output_type": "stream",
     "text": [
      "Processed 29 / 60 examples:  47%|████▋     | 28/60 [00:00<00:00, 165.62it/s]"
     ]
    },
    {
     "name": "stderr",
     "output_type": "stream",
     "text": [
      "2025/09/10 15:25:03 WARNING dspy.predict.predict: Not all input fields were provided to module. Present: ['outputs']. Missing: ['expectations'].\n"
     ]
    },
    {
     "name": "stdout",
     "output_type": "stream",
     "text": [
      "Processed 30 / 60 examples:  48%|████▊     | 29/60 [00:00<00:00, 165.62it/s]"
     ]
    },
    {
     "name": "stderr",
     "output_type": "stream",
     "text": [
      "2025/09/10 15:25:03 WARNING dspy.predict.predict: Not all input fields were provided to module. Present: ['outputs']. Missing: ['expectations'].\n"
     ]
    },
    {
     "name": "stdout",
     "output_type": "stream",
     "text": [
      "Processed 31 / 60 examples:  50%|█████     | 30/60 [00:00<00:00, 165.62it/s]"
     ]
    },
    {
     "name": "stderr",
     "output_type": "stream",
     "text": [
      "2025/09/10 15:25:03 WARNING dspy.predict.predict: Not all input fields were provided to module. Present: ['outputs']. Missing: ['expectations'].\n"
     ]
    },
    {
     "name": "stdout",
     "output_type": "stream",
     "text": [
      "Processed 33 / 60 examples:  53%|█████▎    | 32/60 [00:00<00:00, 165.62it/s]"
     ]
    },
    {
     "name": "stderr",
     "output_type": "stream",
     "text": [
      "2025/09/10 15:25:03 WARNING dspy.predict.predict: Not all input fields were provided to module. Present: ['outputs']. Missing: ['expectations'].\n"
     ]
    },
    {
     "name": "stdout",
     "output_type": "stream",
     "text": [
      "Processed 34 / 60 examples:  55%|█████▌    | 33/60 [00:00<00:00, 165.62it/s]"
     ]
    },
    {
     "name": "stderr",
     "output_type": "stream",
     "text": [
      "2025/09/10 15:25:03 WARNING dspy.predict.predict: Not all input fields were provided to module. Present: ['outputs']. Missing: ['expectations'].\n"
     ]
    },
    {
     "name": "stdout",
     "output_type": "stream",
     "text": [
      "Processed 35 / 60 examples:  57%|█████▋    | 34/60 [00:00<00:00, 165.62it/s]"
     ]
    },
    {
     "name": "stderr",
     "output_type": "stream",
     "text": [
      "2025/09/10 15:25:03 WARNING dspy.predict.predict: Not all input fields were provided to module. Present: ['outputs']. Missing: ['expectations'].\n"
     ]
    },
    {
     "name": "stdout",
     "output_type": "stream",
     "text": [
      "Processed 36 / 60 examples:  58%|█████▊    | 35/60 [00:00<00:00, 165.62it/s]"
     ]
    },
    {
     "name": "stderr",
     "output_type": "stream",
     "text": [
      "2025/09/10 15:25:03 WARNING dspy.predict.predict: Not all input fields were provided to module. Present: ['outputs']. Missing: ['expectations'].\n",
      "2025/09/10 15:25:03 WARNING dspy.predict.predict: Not all input fields were provided to module. Present: ['outputs']. Missing: ['expectations'].\n"
     ]
    },
    {
     "name": "stdout",
     "output_type": "stream",
     "text": [
      "Processed 38 / 60 examples:  62%|██████▏   | 37/60 [00:00<00:00, 165.62it/s]"
     ]
    },
    {
     "name": "stderr",
     "output_type": "stream",
     "text": [
      "2025/09/10 15:25:03 WARNING dspy.predict.predict: Not all input fields were provided to module. Present: ['outputs']. Missing: ['expectations'].\n"
     ]
    },
    {
     "name": "stdout",
     "output_type": "stream",
     "text": [
      "Processed 39 / 60 examples:  63%|██████▎   | 38/60 [00:00<00:00, 165.62it/s]"
     ]
    },
    {
     "name": "stderr",
     "output_type": "stream",
     "text": [
      "2025/09/10 15:25:03 WARNING dspy.predict.predict: Not all input fields were provided to module. Present: ['outputs']. Missing: ['expectations'].\n"
     ]
    },
    {
     "name": "stdout",
     "output_type": "stream",
     "text": [
      "Processed 40 / 60 examples:  65%|██████▌   | 39/60 [00:00<00:00, 165.62it/s]"
     ]
    },
    {
     "name": "stderr",
     "output_type": "stream",
     "text": [
      "2025/09/10 15:25:03 WARNING dspy.predict.predict: Not all input fields were provided to module. Present: ['outputs']. Missing: ['expectations'].\n",
      "2025/09/10 15:25:03 WARNING dspy.predict.predict: Not all input fields were provided to module. Present: ['outputs']. Missing: ['expectations'].\n"
     ]
    },
    {
     "name": "stdout",
     "output_type": "stream",
     "text": [
      "Processed 42 / 60 examples:  68%|██████▊   | 41/60 [00:00<00:00, 165.62it/s]"
     ]
    },
    {
     "name": "stderr",
     "output_type": "stream",
     "text": [
      "2025/09/10 15:25:03 WARNING dspy.predict.predict: Not all input fields were provided to module. Present: ['outputs']. Missing: ['expectations'].\n",
      "2025/09/10 15:25:03 WARNING dspy.predict.predict: Not all input fields were provided to module. Present: ['outputs']. Missing: ['expectations'].\n"
     ]
    },
    {
     "name": "stdout",
     "output_type": "stream",
     "text": [
      "Processed 43 / 60 examples:  70%|███████   | 42/60 [00:00<00:00, 165.62it/s]"
     ]
    },
    {
     "name": "stderr",
     "output_type": "stream",
     "text": [
      "2025/09/10 15:25:03 WARNING dspy.predict.predict: Not all input fields were provided to module. Present: ['outputs']. Missing: ['expectations'].\n"
     ]
    },
    {
     "name": "stdout",
     "output_type": "stream",
     "text": [
      "Processed 44 / 60 examples:  72%|███████▏  | 43/60 [00:00<00:00, 165.62it/s]"
     ]
    },
    {
     "name": "stderr",
     "output_type": "stream",
     "text": [
      "2025/09/10 15:25:03 WARNING dspy.predict.predict: Not all input fields were provided to module. Present: ['outputs']. Missing: ['expectations'].\n"
     ]
    },
    {
     "name": "stdout",
     "output_type": "stream",
     "text": [
      "Processed 45 / 60 examples:  73%|███████▎  | 44/60 [00:00<00:00, 165.62it/s]"
     ]
    },
    {
     "name": "stderr",
     "output_type": "stream",
     "text": [
      "2025/09/10 15:25:03 WARNING dspy.predict.predict: Not all input fields were provided to module. Present: ['outputs']. Missing: ['expectations'].\n"
     ]
    },
    {
     "name": "stdout",
     "output_type": "stream",
     "text": [
      "Processed 46 / 60 examples:  75%|███████▌  | 45/60 [00:00<00:00, 165.62it/s]"
     ]
    },
    {
     "name": "stderr",
     "output_type": "stream",
     "text": [
      "2025/09/10 15:25:03 WARNING dspy.predict.predict: Not all input fields were provided to module. Present: ['outputs']. Missing: ['expectations'].\n"
     ]
    },
    {
     "name": "stdout",
     "output_type": "stream",
     "text": [
      "Processed 47 / 60 examples:  77%|███████▋  | 46/60 [00:00<00:00, 165.62it/s]"
     ]
    },
    {
     "name": "stderr",
     "output_type": "stream",
     "text": [
      "2025/09/10 15:25:03 WARNING dspy.predict.predict: Not all input fields were provided to module. Present: ['outputs']. Missing: ['expectations'].\n"
     ]
    },
    {
     "name": "stdout",
     "output_type": "stream",
     "text": [
      "Processed 48 / 60 examples:  78%|███████▊  | 47/60 [00:00<00:00, 165.62it/s]"
     ]
    },
    {
     "name": "stderr",
     "output_type": "stream",
     "text": [
      "2025/09/10 15:25:03 WARNING dspy.predict.predict: Not all input fields were provided to module. Present: ['outputs']. Missing: ['expectations'].\n"
     ]
    },
    {
     "name": "stdout",
     "output_type": "stream",
     "text": [
      "Processed 50 / 60 examples:  82%|████████▏ | 49/60 [00:00<00:00, 165.62it/s]"
     ]
    },
    {
     "name": "stderr",
     "output_type": "stream",
     "text": [
      "2025/09/10 15:25:03 WARNING dspy.predict.predict: Not all input fields were provided to module. Present: ['outputs']. Missing: ['expectations'].\n"
     ]
    },
    {
     "name": "stdout",
     "output_type": "stream",
     "text": [
      "Processed 51 / 60 examples:  83%|████████▎ | 50/60 [00:00<00:00, 165.62it/s]"
     ]
    },
    {
     "name": "stderr",
     "output_type": "stream",
     "text": [
      "2025/09/10 15:25:03 WARNING dspy.predict.predict: Not all input fields were provided to module. Present: ['outputs']. Missing: ['expectations'].\n",
      "2025/09/10 15:25:03 WARNING dspy.predict.predict: Not all input fields were provided to module. Present: ['outputs']. Missing: ['expectations'].\n"
     ]
    },
    {
     "name": "stdout",
     "output_type": "stream",
     "text": [
      "Processed 53 / 60 examples:  87%|████████▋ | 52/60 [00:00<00:00, 165.62it/s]"
     ]
    },
    {
     "name": "stderr",
     "output_type": "stream",
     "text": [
      "2025/09/10 15:25:03 WARNING dspy.predict.predict: Not all input fields were provided to module. Present: ['outputs']. Missing: ['expectations'].\n"
     ]
    },
    {
     "name": "stdout",
     "output_type": "stream",
     "text": [
      "Processed 54 / 60 examples:  88%|████████▊ | 53/60 [00:00<00:00, 165.62it/s]"
     ]
    },
    {
     "name": "stderr",
     "output_type": "stream",
     "text": [
      "2025/09/10 15:25:03 WARNING dspy.predict.predict: Not all input fields were provided to module. Present: ['outputs']. Missing: ['expectations'].\n"
     ]
    },
    {
     "name": "stdout",
     "output_type": "stream",
     "text": [
      "Processed 55 / 60 examples:  90%|█████████ | 54/60 [00:00<00:00, 165.62it/s]"
     ]
    },
    {
     "name": "stderr",
     "output_type": "stream",
     "text": [
      "2025/09/10 15:25:03 WARNING dspy.predict.predict: Not all input fields were provided to module. Present: ['outputs']. Missing: ['expectations'].\n",
      "2025/09/10 15:25:03 WARNING dspy.predict.predict: Not all input fields were provided to module. Present: ['outputs']. Missing: ['expectations'].\n"
     ]
    },
    {
     "name": "stdout",
     "output_type": "stream",
     "text": [
      "Processed 56 / 60 examples:  92%|█████████▏| 55/60 [00:00<00:00, 236.18it/s]"
     ]
    },
    {
     "name": "stderr",
     "output_type": "stream",
     "text": [
      "2025/09/10 15:25:03 WARNING dspy.predict.predict: Not all input fields were provided to module. Present: ['outputs']. Missing: ['expectations'].\n"
     ]
    },
    {
     "name": "stdout",
     "output_type": "stream",
     "text": [
      "Processed 58 / 60 examples:  95%|█████████▌| 57/60 [00:00<00:00, 236.18it/s]"
     ]
    },
    {
     "name": "stderr",
     "output_type": "stream",
     "text": [
      "2025/09/10 15:25:03 WARNING dspy.predict.predict: Not all input fields were provided to module. Present: ['outputs']. Missing: ['expectations'].\n"
     ]
    },
    {
     "name": "stdout",
     "output_type": "stream",
     "text": [
      "Processed 59 / 60 examples:  97%|█████████▋| 58/60 [00:00<00:00, 236.18it/s]"
     ]
    },
    {
     "name": "stderr",
     "output_type": "stream",
     "text": [
      "2025/09/10 15:25:03 WARNING dspy.predict.predict: Not all input fields were provided to module. Present: ['outputs']. Missing: ['expectations'].\n"
     ]
    },
    {
     "name": "stdout",
     "output_type": "stream",
     "text": [
      "Processed 60 / 60 examples: 100%|██████████| 60/60 [00:00<00:00, 232.61it/s]"
     ]
    },
    {
     "name": "stderr",
     "output_type": "stream",
     "text": [
      "2025/09/10 15:25:03 INFO dspy.teleprompt.simba: Batch 5: Baseline mini-batch score: 0.0\n",
      "\n",
      "2025/09/10 15:25:03 INFO dspy.teleprompt.simba: Batch 5: Processing bucket #1, with max score 0.0, max-to-min gap 0.0, and max-to-avg gap 0.0.\n",
      "2025/09/10 15:25:03 INFO dspy.teleprompt.simba: Batch 5: Invoking strategy: append_a_rule\n",
      "2025/09/10 15:25:03 INFO dspy.teleprompt.simba_utils: Advice for self: If the module receives an output and expected answer that are mostly aligned but may have subtle inaccuracies or missing details, then it should carefully analyze the content for completeness and accuracy beyond surface-level coverage. It should assign scores that reflect partial correctness (e.g., 4 instead of 5) when some expected concepts are missing or underemphasized, and provide rationale that clearly identifies these gaps. This will help ensure the evaluation is more precise and better aligned with the ground truth, avoiding overly generous scoring.\n",
      "2025/09/10 15:25:03 INFO dspy.teleprompt.simba: \n",
      "\n",
      "2025/09/10 15:25:03 INFO dspy.teleprompt.simba: Batch 5: Processing bucket #2, with max score 0.0, max-to-min gap 0.0, and max-to-avg gap 0.0.\n",
      "2025/09/10 15:25:03 INFO dspy.teleprompt.simba: Batch 5: Invoking strategy: append_a_demo_, having dropped 1 demos per predictor\n",
      "2025/09/10 15:25:03 INFO dspy.teleprompt.simba_utils: Added 1 demos (one each) across all predictors.\n",
      "2025/09/10 15:25:03 INFO dspy.teleprompt.simba: \n",
      "\n",
      "2025/09/10 15:25:03 INFO dspy.teleprompt.simba: Batch 5: Processing bucket #3, with max score 0.0, max-to-min gap 0.0, and max-to-avg gap 0.0.\n",
      "2025/09/10 15:25:03 INFO dspy.teleprompt.simba: Batch 5: Invoking strategy: append_a_demo_\n",
      "2025/09/10 15:25:03 INFO dspy.teleprompt.simba_utils: Added 1 demos (one each) across all predictors.\n",
      "2025/09/10 15:25:03 INFO dspy.teleprompt.simba: \n",
      "\n",
      "2025/09/10 15:25:03 INFO dspy.teleprompt.simba: Batch 5: Processing bucket #4, with max score 0.0, max-to-min gap 0.0, and max-to-avg gap 0.0.\n",
      "2025/09/10 15:25:03 INFO dspy.teleprompt.simba: Batch 5: Invoking strategy: append_a_rule\n"
     ]
    },
    {
     "name": "stdout",
     "output_type": "stream",
     "text": [
      "\n"
     ]
    },
    {
     "name": "stderr",
     "output_type": "stream",
     "text": [
      "2025/09/10 15:25:07 INFO dspy.teleprompt.simba_utils: Advice for self: If the module receives a detailed and comprehensive output that covers multiple key aspects of the expected answer, it should carefully calibrate its score to align with the oracle's standards, ensuring it neither underestimates nor overestimates the quality. It should provide a rationale that not only highlights completeness and relevance but also critically assesses the depth and accuracy against the expected criteria, possibly incorporating more nuanced evaluation factors to avoid overly generous scoring.\n",
      "2025/09/10 15:25:07 INFO dspy.teleprompt.simba: \n",
      "\n",
      "2025/09/10 15:25:07 INFO dspy.teleprompt.simba: Batch 5: Processing bucket #5, with max score 0.0, max-to-min gap 0.0, and max-to-avg gap 0.0.\n",
      "2025/09/10 15:25:07 INFO dspy.teleprompt.simba: Batch 5: Invoking strategy: append_a_rule\n",
      "2025/09/10 15:25:12 INFO dspy.teleprompt.simba_utils: Advice for self: If the module receives detailed output text that covers multiple key aspects of the expected answer, it should continue to provide a thorough and clear rationale that highlights these key points and explains why the output matches the expectations closely. It should emphasize completeness, relevance, and accuracy in its explanation to justify a high score. Avoid underestimating comprehensive responses by giving them lower scores without strong justification.\n",
      "2025/09/10 15:25:12 INFO dspy.teleprompt.simba: \n",
      "\n",
      "2025/09/10 15:25:12 INFO dspy.teleprompt.simba: Batch 5: Processing bucket #6, with max score 0.0, max-to-min gap 0.0, and max-to-avg gap 0.0.\n",
      "2025/09/10 15:25:12 INFO dspy.teleprompt.simba: Batch 5: Invoking strategy: append_a_demo_\n",
      "2025/09/10 15:25:12 INFO dspy.teleprompt.simba_utils: Added 1 demos (one each) across all predictors.\n",
      "2025/09/10 15:25:12 INFO dspy.teleprompt.simba: \n",
      "\n",
      "2025/09/10 15:25:12 INFO dspy.teleprompt.simba: Batch 5: Processing bucket #7, with max score 0.0, max-to-min gap 0.0, and max-to-avg gap 0.0.\n",
      "2025/09/10 15:25:12 INFO dspy.teleprompt.simba: Batch 5: Invoking strategy: append_a_demo_\n",
      "2025/09/10 15:25:12 INFO dspy.teleprompt.simba_utils: Added 1 demos (one each) across all predictors.\n",
      "2025/09/10 15:25:12 INFO dspy.teleprompt.simba: \n",
      "\n",
      "2025/09/10 15:25:12 INFO dspy.teleprompt.simba: Batch 5: Evaluating 7 programs on 10 examples.\n",
      "2025/09/10 15:25:12 WARNING dspy.predict.predict: Not all input fields were provided to module. Present: ['outputs']. Missing: ['expectations'].\n",
      "2025/09/10 15:25:12 WARNING dspy.predict.predict: Not all input fields were provided to module. Present: ['outputs']. Missing: ['expectations'].\n"
     ]
    },
    {
     "name": "stdout",
     "output_type": "stream",
     "text": [
      "  0%|          | 0/70 [00:00<?, ?it/s]"
     ]
    },
    {
     "name": "stderr",
     "output_type": "stream",
     "text": [
      "2025/09/10 15:25:12 WARNING dspy.predict.predict: Not all input fields were provided to module. Present: ['outputs']. Missing: ['expectations'].\n",
      "2025/09/10 15:25:12 WARNING dspy.predict.predict: Not all input fields were provided to module. Present: ['outputs']. Missing: ['expectations'].\n",
      "2025/09/10 15:25:12 WARNING dspy.predict.predict: Not all input fields were provided to module. Present: ['outputs']. Missing: ['expectations'].\n",
      "2025/09/10 15:25:12 WARNING dspy.predict.predict: Not all input fields were provided to module. Present: ['outputs']. Missing: ['expectations'].\n",
      "2025/09/10 15:25:12 WARNING dspy.predict.predict: Not all input fields were provided to module. Present: ['outputs']. Missing: ['expectations'].\n",
      "2025/09/10 15:25:12 WARNING dspy.predict.predict: Not all input fields were provided to module. Present: ['outputs']. Missing: ['expectations'].\n"
     ]
    },
    {
     "name": "stdout",
     "output_type": "stream",
     "text": [
      "Processed 1 / 70 examples:   1%|▏         | 1/70 [00:01<02:14,  1.94s/it]"
     ]
    },
    {
     "name": "stderr",
     "output_type": "stream",
     "text": [
      "2025/09/10 15:25:14 WARNING dspy.predict.predict: Not all input fields were provided to module. Present: ['outputs']. Missing: ['expectations'].\n"
     ]
    },
    {
     "name": "stdout",
     "output_type": "stream",
     "text": [
      "Processed 2 / 70 examples:   3%|▎         | 2/70 [00:02<00:59,  1.15it/s]"
     ]
    },
    {
     "name": "stderr",
     "output_type": "stream",
     "text": [
      "2025/09/10 15:25:14 WARNING dspy.predict.predict: Not all input fields were provided to module. Present: ['outputs']. Missing: ['expectations'].\n"
     ]
    },
    {
     "name": "stdout",
     "output_type": "stream",
     "text": [
      "Processed 3 / 70 examples:   3%|▎         | 2/70 [00:02<00:59,  1.15it/s]"
     ]
    },
    {
     "name": "stderr",
     "output_type": "stream",
     "text": [
      "2025/09/10 15:25:14 WARNING dspy.predict.predict: Not all input fields were provided to module. Present: ['outputs']. Missing: ['expectations'].\n"
     ]
    },
    {
     "name": "stdout",
     "output_type": "stream",
     "text": [
      "Processed 4 / 70 examples:   4%|▍         | 3/70 [00:02<00:58,  1.15it/s]"
     ]
    },
    {
     "name": "stderr",
     "output_type": "stream",
     "text": [
      "2025/09/10 15:25:14 WARNING dspy.predict.predict: Not all input fields were provided to module. Present: ['outputs']. Missing: ['expectations'].\n"
     ]
    },
    {
     "name": "stdout",
     "output_type": "stream",
     "text": [
      "Processed 5 / 70 examples:   7%|▋         | 5/70 [00:02<00:17,  3.68it/s]"
     ]
    },
    {
     "name": "stderr",
     "output_type": "stream",
     "text": [
      "2025/09/10 15:25:14 WARNING dspy.predict.predict: Not all input fields were provided to module. Present: ['outputs']. Missing: ['expectations'].\n"
     ]
    },
    {
     "name": "stdout",
     "output_type": "stream",
     "text": [
      "Processed 6 / 70 examples:   7%|▋         | 5/70 [00:02<00:17,  3.68it/s]"
     ]
    },
    {
     "name": "stderr",
     "output_type": "stream",
     "text": [
      "2025/09/10 15:25:14 WARNING dspy.predict.predict: Not all input fields were provided to module. Present: ['outputs']. Missing: ['expectations'].\n"
     ]
    },
    {
     "name": "stdout",
     "output_type": "stream",
     "text": [
      "Processed 7 / 70 examples:  10%|█         | 7/70 [00:02<00:12,  5.02it/s]"
     ]
    },
    {
     "name": "stderr",
     "output_type": "stream",
     "text": [
      "2025/09/10 15:25:15 WARNING dspy.predict.predict: Not all input fields were provided to module. Present: ['outputs']. Missing: ['expectations'].\n"
     ]
    },
    {
     "name": "stdout",
     "output_type": "stream",
     "text": [
      "Processed 8 / 70 examples:  10%|█         | 7/70 [00:02<00:12,  5.02it/s]"
     ]
    },
    {
     "name": "stderr",
     "output_type": "stream",
     "text": [
      "2025/09/10 15:25:15 WARNING dspy.predict.predict: Not all input fields were provided to module. Present: ['outputs']. Missing: ['expectations'].\n"
     ]
    },
    {
     "name": "stdout",
     "output_type": "stream",
     "text": [
      "Processed 9 / 70 examples:  11%|█▏        | 8/70 [00:03<00:12,  5.02it/s]"
     ]
    },
    {
     "name": "stderr",
     "output_type": "stream",
     "text": [
      "2025/09/10 15:25:16 WARNING dspy.predict.predict: Not all input fields were provided to module. Present: ['outputs']. Missing: ['expectations'].\n"
     ]
    },
    {
     "name": "stdout",
     "output_type": "stream",
     "text": [
      "Processed 10 / 70 examples:  13%|█▎        | 9/70 [00:04<00:26,  2.34it/s]"
     ]
    },
    {
     "name": "stderr",
     "output_type": "stream",
     "text": [
      "2025/09/10 15:25:16 WARNING dspy.predict.predict: Not all input fields were provided to module. Present: ['outputs']. Missing: ['expectations'].\n"
     ]
    },
    {
     "name": "stdout",
     "output_type": "stream",
     "text": [
      "Processed 11 / 70 examples:  16%|█▌        | 11/70 [00:04<00:17,  3.33it/s]"
     ]
    },
    {
     "name": "stderr",
     "output_type": "stream",
     "text": [
      "2025/09/10 15:25:16 WARNING dspy.predict.predict: Not all input fields were provided to module. Present: ['outputs']. Missing: ['expectations'].\n"
     ]
    },
    {
     "name": "stdout",
     "output_type": "stream",
     "text": [
      "Processed 12 / 70 examples:  16%|█▌        | 11/70 [00:04<00:17,  3.33it/s]"
     ]
    },
    {
     "name": "stderr",
     "output_type": "stream",
     "text": [
      "2025/09/10 15:25:16 WARNING dspy.predict.predict: Not all input fields were provided to module. Present: ['outputs']. Missing: ['expectations'].\n"
     ]
    },
    {
     "name": "stdout",
     "output_type": "stream",
     "text": [
      "Processed 13 / 70 examples:  17%|█▋        | 12/70 [00:04<00:17,  3.33it/s]"
     ]
    },
    {
     "name": "stderr",
     "output_type": "stream",
     "text": [
      "2025/09/10 15:25:17 WARNING dspy.predict.predict: Not all input fields were provided to module. Present: ['outputs']. Missing: ['expectations'].\n"
     ]
    },
    {
     "name": "stdout",
     "output_type": "stream",
     "text": [
      "Processed 14 / 70 examples:  19%|█▊        | 13/70 [00:04<00:13,  4.25it/s]"
     ]
    },
    {
     "name": "stderr",
     "output_type": "stream",
     "text": [
      "2025/09/10 15:25:17 WARNING dspy.predict.predict: Not all input fields were provided to module. Present: ['outputs']. Missing: ['expectations'].\n"
     ]
    },
    {
     "name": "stdout",
     "output_type": "stream",
     "text": [
      "Processed 15 / 70 examples:  21%|██▏       | 15/70 [00:04<00:11,  4.75it/s]"
     ]
    },
    {
     "name": "stderr",
     "output_type": "stream",
     "text": [
      "2025/09/10 15:25:17 WARNING dspy.predict.predict: Not all input fields were provided to module. Present: ['outputs']. Missing: ['expectations'].\n"
     ]
    },
    {
     "name": "stdout",
     "output_type": "stream",
     "text": [
      "Processed 16 / 70 examples:  23%|██▎       | 16/70 [00:05<00:15,  3.54it/s]"
     ]
    },
    {
     "name": "stderr",
     "output_type": "stream",
     "text": [
      "2025/09/10 15:25:17 WARNING dspy.predict.predict: Not all input fields were provided to module. Present: ['outputs']. Missing: ['expectations'].\n"
     ]
    },
    {
     "name": "stdout",
     "output_type": "stream",
     "text": [
      "Processed 17 / 70 examples:  24%|██▍       | 17/70 [00:06<00:20,  2.53it/s]"
     ]
    },
    {
     "name": "stderr",
     "output_type": "stream",
     "text": [
      "2025/09/10 15:25:18 WARNING dspy.predict.predict: Not all input fields were provided to module. Present: ['outputs']. Missing: ['expectations'].\n",
      "2025/09/10 15:25:18 WARNING dspy.predict.predict: Not all input fields were provided to module. Present: ['outputs']. Missing: ['expectations'].\n"
     ]
    },
    {
     "name": "stdout",
     "output_type": "stream",
     "text": [
      "Processed 19 / 70 examples:  27%|██▋       | 19/70 [00:06<00:17,  2.90it/s]"
     ]
    },
    {
     "name": "stderr",
     "output_type": "stream",
     "text": [
      "2025/09/10 15:25:19 WARNING dspy.predict.predict: Not all input fields were provided to module. Present: ['outputs']. Missing: ['expectations'].\n"
     ]
    },
    {
     "name": "stdout",
     "output_type": "stream",
     "text": [
      "Processed 20 / 70 examples:  27%|██▋       | 19/70 [00:06<00:17,  2.90it/s]"
     ]
    },
    {
     "name": "stderr",
     "output_type": "stream",
     "text": [
      "2025/09/10 15:25:19 WARNING dspy.predict.predict: Not all input fields were provided to module. Present: ['outputs']. Missing: ['expectations'].\n"
     ]
    },
    {
     "name": "stdout",
     "output_type": "stream",
     "text": [
      "Processed 21 / 70 examples:  30%|███       | 21/70 [00:06<00:12,  3.91it/s]"
     ]
    },
    {
     "name": "stderr",
     "output_type": "stream",
     "text": [
      "2025/09/10 15:25:19 WARNING dspy.predict.predict: Not all input fields were provided to module. Present: ['outputs']. Missing: ['expectations'].\n"
     ]
    },
    {
     "name": "stdout",
     "output_type": "stream",
     "text": [
      "Processed 22 / 70 examples:  31%|███▏      | 22/70 [00:06<00:10,  4.46it/s]"
     ]
    },
    {
     "name": "stderr",
     "output_type": "stream",
     "text": [
      "2025/09/10 15:25:19 WARNING dspy.predict.predict: Not all input fields were provided to module. Present: ['outputs']. Missing: ['expectations'].\n"
     ]
    },
    {
     "name": "stdout",
     "output_type": "stream",
     "text": [
      "Processed 23 / 70 examples:  33%|███▎      | 23/70 [00:07<00:09,  4.88it/s]"
     ]
    },
    {
     "name": "stderr",
     "output_type": "stream",
     "text": [
      "2025/09/10 15:25:19 WARNING dspy.predict.predict: Not all input fields were provided to module. Present: ['outputs']. Missing: ['expectations'].\n"
     ]
    },
    {
     "name": "stdout",
     "output_type": "stream",
     "text": [
      "Processed 24 / 70 examples:  34%|███▍      | 24/70 [00:07<00:09,  4.88it/s]"
     ]
    },
    {
     "name": "stderr",
     "output_type": "stream",
     "text": [
      "2025/09/10 15:25:20 WARNING dspy.predict.predict: Not all input fields were provided to module. Present: ['outputs']. Missing: ['expectations'].\n"
     ]
    },
    {
     "name": "stdout",
     "output_type": "stream",
     "text": [
      "Processed 25 / 70 examples:  36%|███▌      | 25/70 [00:08<00:20,  2.17it/s]"
     ]
    },
    {
     "name": "stderr",
     "output_type": "stream",
     "text": [
      "2025/09/10 15:25:21 WARNING dspy.predict.predict: Not all input fields were provided to module. Present: ['outputs']. Missing: ['expectations'].\n"
     ]
    },
    {
     "name": "stdout",
     "output_type": "stream",
     "text": [
      "Processed 26 / 70 examples:  37%|███▋      | 26/70 [00:08<00:16,  2.64it/s]"
     ]
    },
    {
     "name": "stderr",
     "output_type": "stream",
     "text": [
      "2025/09/10 15:25:21 WARNING dspy.predict.predict: Not all input fields were provided to module. Present: ['outputs']. Missing: ['expectations'].\n"
     ]
    },
    {
     "name": "stdout",
     "output_type": "stream",
     "text": [
      "Processed 27 / 70 examples:  37%|███▋      | 26/70 [00:08<00:16,  2.64it/s]"
     ]
    },
    {
     "name": "stderr",
     "output_type": "stream",
     "text": [
      "2025/09/10 15:25:21 WARNING dspy.predict.predict: Not all input fields were provided to module. Present: ['outputs']. Missing: ['expectations'].\n"
     ]
    },
    {
     "name": "stdout",
     "output_type": "stream",
     "text": [
      "Processed 28 / 70 examples:  40%|████      | 28/70 [00:08<00:11,  3.58it/s]"
     ]
    },
    {
     "name": "stderr",
     "output_type": "stream",
     "text": [
      "2025/09/10 15:25:21 WARNING dspy.predict.predict: Not all input fields were provided to module. Present: ['outputs']. Missing: ['expectations'].\n"
     ]
    },
    {
     "name": "stdout",
     "output_type": "stream",
     "text": [
      "Processed 30 / 70 examples:  41%|████▏     | 29/70 [00:09<00:10,  3.75it/s]"
     ]
    },
    {
     "name": "stderr",
     "output_type": "stream",
     "text": [
      "2025/09/10 15:25:21 WARNING dspy.predict.predict: Not all input fields were provided to module. Present: ['outputs']. Missing: ['expectations'].\n",
      "2025/09/10 15:25:21 WARNING dspy.predict.predict: Not all input fields were provided to module. Present: ['outputs']. Missing: ['expectations'].\n"
     ]
    },
    {
     "name": "stdout",
     "output_type": "stream",
     "text": [
      "Processed 31 / 70 examples:  44%|████▍     | 31/70 [00:09<00:07,  5.23it/s]"
     ]
    },
    {
     "name": "stderr",
     "output_type": "stream",
     "text": [
      "2025/09/10 15:25:22 WARNING dspy.predict.predict: Not all input fields were provided to module. Present: ['outputs']. Missing: ['expectations'].\n"
     ]
    },
    {
     "name": "stdout",
     "output_type": "stream",
     "text": [
      "Processed 32 / 70 examples:  46%|████▌     | 32/70 [00:09<00:08,  4.47it/s]"
     ]
    },
    {
     "name": "stderr",
     "output_type": "stream",
     "text": [
      "2025/09/10 15:25:22 WARNING dspy.predict.predict: Not all input fields were provided to module. Present: ['outputs']. Missing: ['expectations'].\n"
     ]
    },
    {
     "name": "stdout",
     "output_type": "stream",
     "text": [
      "Processed 33 / 70 examples:  47%|████▋     | 33/70 [00:11<00:18,  1.98it/s]"
     ]
    },
    {
     "name": "stderr",
     "output_type": "stream",
     "text": [
      "2025/09/10 15:25:23 WARNING dspy.predict.predict: Not all input fields were provided to module. Present: ['outputs']. Missing: ['expectations'].\n"
     ]
    },
    {
     "name": "stdout",
     "output_type": "stream",
     "text": [
      "Processed 34 / 70 examples:  47%|████▋     | 33/70 [00:11<00:18,  1.98it/s]"
     ]
    },
    {
     "name": "stderr",
     "output_type": "stream",
     "text": [
      "2025/09/10 15:25:23 WARNING dspy.predict.predict: Not all input fields were provided to module. Present: ['outputs']. Missing: ['expectations'].\n"
     ]
    },
    {
     "name": "stdout",
     "output_type": "stream",
     "text": [
      "Processed 35 / 70 examples:  50%|█████     | 35/70 [00:11<00:11,  3.09it/s]"
     ]
    },
    {
     "name": "stderr",
     "output_type": "stream",
     "text": [
      "2025/09/10 15:25:23 WARNING dspy.predict.predict: Not all input fields were provided to module. Present: ['outputs']. Missing: ['expectations'].\n"
     ]
    },
    {
     "name": "stdout",
     "output_type": "stream",
     "text": [
      "Processed 36 / 70 examples:  51%|█████▏    | 36/70 [00:12<00:17,  1.91it/s]"
     ]
    },
    {
     "name": "stderr",
     "output_type": "stream",
     "text": [
      "2025/09/10 15:25:25 WARNING dspy.predict.predict: Not all input fields were provided to module. Present: ['outputs']. Missing: ['expectations'].\n"
     ]
    },
    {
     "name": "stdout",
     "output_type": "stream",
     "text": [
      "Processed 37 / 70 examples:  53%|█████▎    | 37/70 [00:12<00:15,  2.09it/s]"
     ]
    },
    {
     "name": "stderr",
     "output_type": "stream",
     "text": [
      "2025/09/10 15:25:25 WARNING dspy.predict.predict: Not all input fields were provided to module. Present: ['outputs']. Missing: ['expectations'].\n"
     ]
    },
    {
     "name": "stdout",
     "output_type": "stream",
     "text": [
      "Processed 38 / 70 examples:  54%|█████▍    | 38/70 [00:13<00:18,  1.71it/s]"
     ]
    },
    {
     "name": "stderr",
     "output_type": "stream",
     "text": [
      "2025/09/10 15:25:26 WARNING dspy.predict.predict: Not all input fields were provided to module. Present: ['outputs']. Missing: ['expectations'].\n"
     ]
    },
    {
     "name": "stdout",
     "output_type": "stream",
     "text": [
      "Processed 39 / 70 examples:  54%|█████▍    | 38/70 [00:13<00:18,  1.71it/s]"
     ]
    },
    {
     "name": "stderr",
     "output_type": "stream",
     "text": [
      "2025/09/10 15:25:26 WARNING dspy.predict.predict: Not all input fields were provided to module. Present: ['outputs']. Missing: ['expectations'].\n"
     ]
    },
    {
     "name": "stdout",
     "output_type": "stream",
     "text": [
      "Processed 40 / 70 examples:  57%|█████▋    | 40/70 [00:13<00:11,  2.58it/s]"
     ]
    },
    {
     "name": "stderr",
     "output_type": "stream",
     "text": [
      "2025/09/10 15:25:26 WARNING dspy.predict.predict: Not all input fields were provided to module. Present: ['outputs']. Missing: ['expectations'].\n"
     ]
    },
    {
     "name": "stdout",
     "output_type": "stream",
     "text": [
      "Processed 41 / 70 examples:  57%|█████▋    | 40/70 [00:14<00:11,  2.58it/s]"
     ]
    },
    {
     "name": "stderr",
     "output_type": "stream",
     "text": [
      "2025/09/10 15:25:26 WARNING dspy.predict.predict: Not all input fields were provided to module. Present: ['outputs']. Missing: ['expectations'].\n"
     ]
    },
    {
     "name": "stdout",
     "output_type": "stream",
     "text": [
      "Processed 42 / 70 examples:  60%|██████    | 42/70 [00:14<00:12,  2.16it/s]"
     ]
    },
    {
     "name": "stderr",
     "output_type": "stream",
     "text": [
      "2025/09/10 15:25:27 WARNING dspy.predict.predict: Not all input fields were provided to module. Present: ['outputs']. Missing: ['expectations'].\n"
     ]
    },
    {
     "name": "stdout",
     "output_type": "stream",
     "text": [
      "Processed 43 / 70 examples:  61%|██████▏   | 43/70 [00:15<00:11,  2.36it/s]"
     ]
    },
    {
     "name": "stderr",
     "output_type": "stream",
     "text": [
      "2025/09/10 15:25:27 WARNING dspy.predict.predict: Not all input fields were provided to module. Present: ['outputs']. Missing: ['expectations'].\n"
     ]
    },
    {
     "name": "stdout",
     "output_type": "stream",
     "text": [
      "Processed 44 / 70 examples:  63%|██████▎   | 44/70 [00:15<00:08,  2.96it/s]"
     ]
    },
    {
     "name": "stderr",
     "output_type": "stream",
     "text": [
      "2025/09/10 15:25:27 WARNING dspy.predict.predict: Not all input fields were provided to module. Present: ['outputs']. Missing: ['expectations'].\n"
     ]
    },
    {
     "name": "stdout",
     "output_type": "stream",
     "text": [
      "Processed 45 / 70 examples:  64%|██████▍   | 45/70 [00:15<00:07,  3.22it/s]"
     ]
    },
    {
     "name": "stderr",
     "output_type": "stream",
     "text": [
      "2025/09/10 15:25:28 WARNING dspy.predict.predict: Not all input fields were provided to module. Present: ['outputs']. Missing: ['expectations'].\n"
     ]
    },
    {
     "name": "stdout",
     "output_type": "stream",
     "text": [
      "Processed 46 / 70 examples:  66%|██████▌   | 46/70 [00:16<00:14,  1.67it/s]"
     ]
    },
    {
     "name": "stderr",
     "output_type": "stream",
     "text": [
      "2025/09/10 15:25:29 WARNING dspy.predict.predict: Not all input fields were provided to module. Present: ['outputs']. Missing: ['expectations'].\n"
     ]
    },
    {
     "name": "stdout",
     "output_type": "stream",
     "text": [
      "Processed 47 / 70 examples:  66%|██████▌   | 46/70 [00:16<00:14,  1.67it/s]"
     ]
    },
    {
     "name": "stderr",
     "output_type": "stream",
     "text": [
      "2025/09/10 15:25:29 WARNING dspy.predict.predict: Not all input fields were provided to module. Present: ['outputs']. Missing: ['expectations'].\n"
     ]
    },
    {
     "name": "stdout",
     "output_type": "stream",
     "text": [
      "Processed 48 / 70 examples:  69%|██████▊   | 48/70 [00:17<00:08,  2.68it/s]"
     ]
    },
    {
     "name": "stderr",
     "output_type": "stream",
     "text": [
      "2025/09/10 15:25:29 WARNING dspy.predict.predict: Not all input fields were provided to module. Present: ['outputs']. Missing: ['expectations'].\n"
     ]
    },
    {
     "name": "stdout",
     "output_type": "stream",
     "text": [
      "Processed 49 / 70 examples:  70%|███████   | 49/70 [00:17<00:08,  2.38it/s]"
     ]
    },
    {
     "name": "stderr",
     "output_type": "stream",
     "text": [
      "2025/09/10 15:25:30 WARNING dspy.predict.predict: Not all input fields were provided to module. Present: ['outputs']. Missing: ['expectations'].\n"
     ]
    },
    {
     "name": "stdout",
     "output_type": "stream",
     "text": [
      "Processed 50 / 70 examples:  70%|███████   | 49/70 [00:17<00:08,  2.38it/s]"
     ]
    },
    {
     "name": "stderr",
     "output_type": "stream",
     "text": [
      "2025/09/10 15:25:30 WARNING dspy.predict.predict: Not all input fields were provided to module. Present: ['outputs']. Missing: ['expectations'].\n"
     ]
    },
    {
     "name": "stdout",
     "output_type": "stream",
     "text": [
      "Processed 51 / 70 examples:  73%|███████▎  | 51/70 [00:17<00:05,  3.33it/s]"
     ]
    },
    {
     "name": "stderr",
     "output_type": "stream",
     "text": [
      "2025/09/10 15:25:30 WARNING dspy.predict.predict: Not all input fields were provided to module. Present: ['outputs']. Missing: ['expectations'].\n"
     ]
    },
    {
     "name": "stdout",
     "output_type": "stream",
     "text": [
      "Processed 52 / 70 examples:  73%|███████▎  | 51/70 [00:17<00:05,  3.33it/s]"
     ]
    },
    {
     "name": "stderr",
     "output_type": "stream",
     "text": [
      "2025/09/10 15:25:30 WARNING dspy.predict.predict: Not all input fields were provided to module. Present: ['outputs']. Missing: ['expectations'].\n"
     ]
    },
    {
     "name": "stdout",
     "output_type": "stream",
     "text": [
      "Processed 53 / 70 examples:  74%|███████▍  | 52/70 [00:18<00:05,  3.33it/s]"
     ]
    },
    {
     "name": "stderr",
     "output_type": "stream",
     "text": [
      "2025/09/10 15:25:31 WARNING dspy.predict.predict: Not all input fields were provided to module. Present: ['outputs']. Missing: ['expectations'].\n"
     ]
    },
    {
     "name": "stdout",
     "output_type": "stream",
     "text": [
      "Processed 54 / 70 examples:  77%|███████▋  | 54/70 [00:18<00:04,  3.32it/s]"
     ]
    },
    {
     "name": "stderr",
     "output_type": "stream",
     "text": [
      "2025/09/10 15:25:31 WARNING dspy.predict.predict: Not all input fields were provided to module. Present: ['outputs']. Missing: ['expectations'].\n"
     ]
    },
    {
     "name": "stdout",
     "output_type": "stream",
     "text": [
      "Processed 55 / 70 examples:  77%|███████▋  | 54/70 [00:19<00:04,  3.32it/s]"
     ]
    },
    {
     "name": "stderr",
     "output_type": "stream",
     "text": [
      "2025/09/10 15:25:32 WARNING dspy.predict.predict: Not all input fields were provided to module. Present: ['outputs']. Missing: ['expectations'].\n"
     ]
    },
    {
     "name": "stdout",
     "output_type": "stream",
     "text": [
      "Processed 56 / 70 examples:  79%|███████▊  | 55/70 [00:19<00:05,  2.88it/s]"
     ]
    },
    {
     "name": "stderr",
     "output_type": "stream",
     "text": [
      "2025/09/10 15:25:32 WARNING dspy.predict.predict: Not all input fields were provided to module. Present: ['outputs']. Missing: ['expectations'].\n"
     ]
    },
    {
     "name": "stdout",
     "output_type": "stream",
     "text": [
      "Processed 57 / 70 examples:  81%|████████▏ | 57/70 [00:19<00:04,  3.06it/s]"
     ]
    },
    {
     "name": "stderr",
     "output_type": "stream",
     "text": [
      "2025/09/10 15:25:32 WARNING dspy.predict.predict: Not all input fields were provided to module. Present: ['outputs']. Missing: ['expectations'].\n"
     ]
    },
    {
     "name": "stdout",
     "output_type": "stream",
     "text": [
      "Processed 58 / 70 examples:  83%|████████▎ | 58/70 [00:20<00:03,  3.29it/s]"
     ]
    },
    {
     "name": "stderr",
     "output_type": "stream",
     "text": [
      "2025/09/10 15:25:32 WARNING dspy.predict.predict: Not all input fields were provided to module. Present: ['outputs']. Missing: ['expectations'].\n"
     ]
    },
    {
     "name": "stdout",
     "output_type": "stream",
     "text": [
      "Processed 59 / 70 examples:  83%|████████▎ | 58/70 [00:20<00:03,  3.29it/s]"
     ]
    },
    {
     "name": "stderr",
     "output_type": "stream",
     "text": [
      "2025/09/10 15:25:32 WARNING dspy.predict.predict: Not all input fields were provided to module. Present: ['outputs']. Missing: ['expectations'].\n"
     ]
    },
    {
     "name": "stdout",
     "output_type": "stream",
     "text": [
      "Processed 60 / 70 examples:  86%|████████▌ | 60/70 [00:20<00:02,  4.04it/s]"
     ]
    },
    {
     "name": "stderr",
     "output_type": "stream",
     "text": [
      "2025/09/10 15:25:33 WARNING dspy.predict.predict: Not all input fields were provided to module. Present: ['outputs']. Missing: ['expectations'].\n"
     ]
    },
    {
     "name": "stdout",
     "output_type": "stream",
     "text": [
      "Processed 61 / 70 examples:  86%|████████▌ | 60/70 [00:20<00:02,  4.04it/s]"
     ]
    },
    {
     "name": "stderr",
     "output_type": "stream",
     "text": [
      "2025/09/10 15:25:33 WARNING dspy.predict.predict: Not all input fields were provided to module. Present: ['outputs']. Missing: ['expectations'].\n"
     ]
    },
    {
     "name": "stdout",
     "output_type": "stream",
     "text": [
      "Processed 62 / 70 examples:  89%|████████▊ | 62/70 [00:20<00:01,  4.29it/s]"
     ]
    },
    {
     "name": "stderr",
     "output_type": "stream",
     "text": [
      "2025/09/10 15:25:33 WARNING dspy.predict.predict: Not all input fields were provided to module. Present: ['outputs']. Missing: ['expectations'].\n"
     ]
    },
    {
     "name": "stdout",
     "output_type": "stream",
     "text": [
      "Processed 70 / 70 examples: 100%|██████████| 70/70 [00:23<00:00,  3.02it/s]"
     ]
    },
    {
     "name": "stderr",
     "output_type": "stream",
     "text": [
      "2025/09/10 15:25:35 INFO dspy.teleprompt.simba: Scores after 5 batches: [0.0, 0.0, 0.0, 0.0, 0.0, 0.0, 0.0], Best: 0.0\n",
      "\n",
      "2025/09/10 15:25:35 INFO dspy.teleprompt.simba: Starting batch 6 of 8.\n",
      "2025/09/10 15:25:35 INFO dspy.teleprompt.simba: Sampling program trajectories on 10 examples x 6 samples.\n"
     ]
    },
    {
     "name": "stdout",
     "output_type": "stream",
     "text": [
      "\n"
     ]
    },
    {
     "name": "stderr",
     "output_type": "stream",
     "text": [
      "2025/09/10 15:25:35 WARNING dspy.predict.predict: Not all input fields were provided to module. Present: ['outputs']. Missing: ['expectations'].\n"
     ]
    },
    {
     "name": "stdout",
     "output_type": "stream",
     "text": [
      "Processed 1 / 60 examples:   0%|          | 0/60 [00:00<?, ?it/s]"
     ]
    },
    {
     "name": "stderr",
     "output_type": "stream",
     "text": [
      "2025/09/10 15:25:35 WARNING dspy.predict.predict: Not all input fields were provided to module. Present: ['outputs']. Missing: ['expectations'].\n"
     ]
    },
    {
     "name": "stdout",
     "output_type": "stream",
     "text": [
      "Processed 2 / 60 examples:   2%|▏         | 1/60 [00:00<00:00, 365.52it/s]"
     ]
    },
    {
     "name": "stderr",
     "output_type": "stream",
     "text": [
      "2025/09/10 15:25:35 WARNING dspy.predict.predict: Not all input fields were provided to module. Present: ['outputs']. Missing: ['expectations'].\n"
     ]
    },
    {
     "name": "stdout",
     "output_type": "stream",
     "text": [
      "Processed 3 / 60 examples:   3%|▎         | 2/60 [00:00<00:00, 403.98it/s]"
     ]
    },
    {
     "name": "stderr",
     "output_type": "stream",
     "text": [
      "2025/09/10 15:25:35 WARNING dspy.predict.predict: Not all input fields were provided to module. Present: ['outputs']. Missing: ['expectations'].\n"
     ]
    },
    {
     "name": "stdout",
     "output_type": "stream",
     "text": [
      "Processed 4 / 60 examples:   5%|▌         | 3/60 [00:00<00:00, 382.85it/s]"
     ]
    },
    {
     "name": "stderr",
     "output_type": "stream",
     "text": [
      "2025/09/10 15:25:35 WARNING dspy.predict.predict: Not all input fields were provided to module. Present: ['outputs']. Missing: ['expectations'].\n",
      "2025/09/10 15:25:35 WARNING dspy.predict.predict: Not all input fields were provided to module. Present: ['outputs']. Missing: ['expectations'].\n"
     ]
    },
    {
     "name": "stdout",
     "output_type": "stream",
     "text": [
      "Processed 5 / 60 examples:   7%|▋         | 4/60 [00:00<00:00, 374.93it/s]"
     ]
    },
    {
     "name": "stderr",
     "output_type": "stream",
     "text": [
      "2025/09/10 15:25:35 WARNING dspy.predict.predict: Not all input fields were provided to module. Present: ['outputs']. Missing: ['expectations'].\n"
     ]
    },
    {
     "name": "stdout",
     "output_type": "stream",
     "text": [
      "Processed 6 / 60 examples:   8%|▊         | 5/60 [00:00<00:00, 415.59it/s]"
     ]
    },
    {
     "name": "stderr",
     "output_type": "stream",
     "text": [
      "2025/09/10 15:25:35 WARNING dspy.predict.predict: Not all input fields were provided to module. Present: ['outputs']. Missing: ['expectations'].\n"
     ]
    },
    {
     "name": "stdout",
     "output_type": "stream",
     "text": [
      "Processed 8 / 60 examples:  12%|█▏        | 7/60 [00:00<00:00, 466.76it/s]"
     ]
    },
    {
     "name": "stderr",
     "output_type": "stream",
     "text": [
      "2025/09/10 15:25:35 WARNING dspy.predict.predict: Not all input fields were provided to module. Present: ['outputs']. Missing: ['expectations'].\n"
     ]
    },
    {
     "name": "stdout",
     "output_type": "stream",
     "text": [
      "Processed 9 / 60 examples:  13%|█▎        | 8/60 [00:00<00:00, 470.42it/s]"
     ]
    },
    {
     "name": "stderr",
     "output_type": "stream",
     "text": [
      "2025/09/10 15:25:35 WARNING dspy.predict.predict: Not all input fields were provided to module. Present: ['outputs']. Missing: ['expectations'].\n",
      "2025/09/10 15:25:35 WARNING dspy.predict.predict: Not all input fields were provided to module. Present: ['outputs']. Missing: ['expectations'].\n",
      "2025/09/10 15:25:35 WARNING dspy.predict.predict: Not all input fields were provided to module. Present: ['outputs']. Missing: ['expectations'].\n"
     ]
    },
    {
     "name": "stdout",
     "output_type": "stream",
     "text": [
      "Processed 11 / 60 examples:  17%|█▋        | 10/60 [00:00<00:00, 462.95it/s]"
     ]
    },
    {
     "name": "stderr",
     "output_type": "stream",
     "text": [
      "2025/09/10 15:25:35 WARNING dspy.predict.predict: Not all input fields were provided to module. Present: ['outputs']. Missing: ['expectations'].\n"
     ]
    },
    {
     "name": "stdout",
     "output_type": "stream",
     "text": [
      "Processed 12 / 60 examples:  18%|█▊        | 11/60 [00:00<00:00, 453.76it/s]"
     ]
    },
    {
     "name": "stderr",
     "output_type": "stream",
     "text": [
      "2025/09/10 15:25:35 WARNING dspy.predict.predict: Not all input fields were provided to module. Present: ['outputs']. Missing: ['expectations'].\n"
     ]
    },
    {
     "name": "stdout",
     "output_type": "stream",
     "text": [
      "Processed 13 / 60 examples:  20%|██        | 12/60 [00:00<00:00, 373.74it/s]"
     ]
    },
    {
     "name": "stderr",
     "output_type": "stream",
     "text": [
      "2025/09/10 15:25:35 WARNING dspy.predict.predict: Not all input fields were provided to module. Present: ['outputs']. Missing: ['expectations'].\n"
     ]
    },
    {
     "name": "stdout",
     "output_type": "stream",
     "text": [
      "Processed 15 / 60 examples:  23%|██▎       | 14/60 [00:00<00:00, 407.82it/s]"
     ]
    },
    {
     "name": "stderr",
     "output_type": "stream",
     "text": [
      "2025/09/10 15:25:35 WARNING dspy.predict.predict: Not all input fields were provided to module. Present: ['outputs']. Missing: ['expectations'].\n"
     ]
    },
    {
     "name": "stdout",
     "output_type": "stream",
     "text": [
      "Processed 16 / 60 examples:  25%|██▌       | 15/60 [00:00<00:00, 411.62it/s]"
     ]
    },
    {
     "name": "stderr",
     "output_type": "stream",
     "text": [
      "2025/09/10 15:25:35 WARNING dspy.predict.predict: Not all input fields were provided to module. Present: ['outputs']. Missing: ['expectations'].\n"
     ]
    },
    {
     "name": "stdout",
     "output_type": "stream",
     "text": [
      "Processed 17 / 60 examples:  27%|██▋       | 16/60 [00:00<00:00, 411.79it/s]"
     ]
    },
    {
     "name": "stderr",
     "output_type": "stream",
     "text": [
      "2025/09/10 15:25:35 WARNING dspy.predict.predict: Not all input fields were provided to module. Present: ['outputs']. Missing: ['expectations'].\n",
      "2025/09/10 15:25:35 WARNING dspy.predict.predict: Not all input fields were provided to module. Present: ['outputs']. Missing: ['expectations'].\n"
     ]
    },
    {
     "name": "stdout",
     "output_type": "stream",
     "text": [
      "Processed 18 / 60 examples:  28%|██▊       | 17/60 [00:00<00:00, 411.30it/s]"
     ]
    },
    {
     "name": "stderr",
     "output_type": "stream",
     "text": [
      "2025/09/10 15:25:35 WARNING dspy.predict.predict: Not all input fields were provided to module. Present: ['outputs']. Missing: ['expectations'].\n"
     ]
    },
    {
     "name": "stdout",
     "output_type": "stream",
     "text": [
      "Processed 19 / 60 examples:  30%|███       | 18/60 [00:00<00:00, 417.90it/s]"
     ]
    },
    {
     "name": "stderr",
     "output_type": "stream",
     "text": [
      "2025/09/10 15:25:35 WARNING dspy.predict.predict: Not all input fields were provided to module. Present: ['outputs']. Missing: ['expectations'].\n"
     ]
    },
    {
     "name": "stdout",
     "output_type": "stream",
     "text": [
      "Processed 20 / 60 examples:  32%|███▏      | 19/60 [00:00<00:00, 424.17it/s]"
     ]
    },
    {
     "name": "stderr",
     "output_type": "stream",
     "text": [
      "2025/09/10 15:25:35 WARNING dspy.predict.predict: Not all input fields were provided to module. Present: ['outputs']. Missing: ['expectations'].\n"
     ]
    },
    {
     "name": "stdout",
     "output_type": "stream",
     "text": [
      "Processed 21 / 60 examples:  33%|███▎      | 20/60 [00:00<00:00, 419.37it/s]"
     ]
    },
    {
     "name": "stderr",
     "output_type": "stream",
     "text": [
      "2025/09/10 15:25:35 WARNING dspy.predict.predict: Not all input fields were provided to module. Present: ['outputs']. Missing: ['expectations'].\n"
     ]
    },
    {
     "name": "stdout",
     "output_type": "stream",
     "text": [
      "Processed 22 / 60 examples:  35%|███▌      | 21/60 [00:00<00:00, 428.92it/s]"
     ]
    },
    {
     "name": "stderr",
     "output_type": "stream",
     "text": [
      "2025/09/10 15:25:35 WARNING dspy.predict.predict: Not all input fields were provided to module. Present: ['outputs']. Missing: ['expectations'].\n",
      "2025/09/10 15:25:35 WARNING dspy.predict.predict: Not all input fields were provided to module. Present: ['outputs']. Missing: ['expectations'].\n",
      "2025/09/10 15:25:35 WARNING dspy.predict.predict: Not all input fields were provided to module. Present: ['outputs']. Missing: ['expectations'].\n"
     ]
    },
    {
     "name": "stdout",
     "output_type": "stream",
     "text": [
      "Processed 24 / 60 examples:  38%|███▊      | 23/60 [00:00<00:00, 418.70it/s]"
     ]
    },
    {
     "name": "stderr",
     "output_type": "stream",
     "text": [
      "2025/09/10 15:25:35 WARNING dspy.predict.predict: Not all input fields were provided to module. Present: ['outputs']. Missing: ['expectations'].\n"
     ]
    },
    {
     "name": "stdout",
     "output_type": "stream",
     "text": [
      "Processed 26 / 60 examples:  42%|████▏     | 25/60 [00:00<00:00, 254.63it/s]"
     ]
    },
    {
     "name": "stderr",
     "output_type": "stream",
     "text": [
      "2025/09/10 15:25:35 WARNING dspy.predict.predict: Not all input fields were provided to module. Present: ['outputs']. Missing: ['expectations'].\n"
     ]
    },
    {
     "name": "stdout",
     "output_type": "stream",
     "text": [
      "Processed 27 / 60 examples:  43%|████▎     | 26/60 [00:00<00:00, 261.77it/s]"
     ]
    },
    {
     "name": "stderr",
     "output_type": "stream",
     "text": [
      "2025/09/10 15:25:35 WARNING dspy.predict.predict: Not all input fields were provided to module. Present: ['outputs']. Missing: ['expectations'].\n"
     ]
    },
    {
     "name": "stdout",
     "output_type": "stream",
     "text": [
      "Processed 28 / 60 examples:  45%|████▌     | 27/60 [00:00<00:00, 268.40it/s]"
     ]
    },
    {
     "name": "stderr",
     "output_type": "stream",
     "text": [
      "2025/09/10 15:25:35 WARNING dspy.predict.predict: Not all input fields were provided to module. Present: ['outputs']. Missing: ['expectations'].\n"
     ]
    },
    {
     "name": "stdout",
     "output_type": "stream",
     "text": [
      "Processed 29 / 60 examples:  47%|████▋     | 28/60 [00:00<00:00, 268.40it/s]"
     ]
    },
    {
     "name": "stderr",
     "output_type": "stream",
     "text": [
      "2025/09/10 15:25:35 WARNING dspy.predict.predict: Not all input fields were provided to module. Present: ['outputs']. Missing: ['expectations'].\n"
     ]
    },
    {
     "name": "stdout",
     "output_type": "stream",
     "text": [
      "Processed 30 / 60 examples:  48%|████▊     | 29/60 [00:00<00:00, 268.40it/s]"
     ]
    },
    {
     "name": "stderr",
     "output_type": "stream",
     "text": [
      "2025/09/10 15:25:35 WARNING dspy.predict.predict: Not all input fields were provided to module. Present: ['outputs']. Missing: ['expectations'].\n"
     ]
    },
    {
     "name": "stdout",
     "output_type": "stream",
     "text": [
      "Processed 31 / 60 examples:  50%|█████     | 30/60 [00:00<00:00, 268.40it/s]"
     ]
    },
    {
     "name": "stderr",
     "output_type": "stream",
     "text": [
      "2025/09/10 15:25:35 WARNING dspy.predict.predict: Not all input fields were provided to module. Present: ['outputs']. Missing: ['expectations'].\n"
     ]
    },
    {
     "name": "stdout",
     "output_type": "stream",
     "text": [
      "Processed 33 / 60 examples:  53%|█████▎    | 32/60 [00:00<00:00, 268.40it/s]"
     ]
    },
    {
     "name": "stderr",
     "output_type": "stream",
     "text": [
      "2025/09/10 15:25:35 WARNING dspy.predict.predict: Not all input fields were provided to module. Present: ['outputs']. Missing: ['expectations'].\n"
     ]
    },
    {
     "name": "stdout",
     "output_type": "stream",
     "text": [
      "Processed 34 / 60 examples:  55%|█████▌    | 33/60 [00:00<00:00, 268.40it/s]"
     ]
    },
    {
     "name": "stderr",
     "output_type": "stream",
     "text": [
      "2025/09/10 15:25:36 WARNING dspy.predict.predict: Not all input fields were provided to module. Present: ['outputs']. Missing: ['expectations'].\n"
     ]
    },
    {
     "name": "stdout",
     "output_type": "stream",
     "text": [
      "Processed 35 / 60 examples:  57%|█████▋    | 34/60 [00:00<00:00, 268.40it/s]"
     ]
    },
    {
     "name": "stderr",
     "output_type": "stream",
     "text": [
      "2025/09/10 15:25:36 WARNING dspy.predict.predict: Not all input fields were provided to module. Present: ['outputs']. Missing: ['expectations'].\n",
      "2025/09/10 15:25:36 WARNING dspy.predict.predict: Not all input fields were provided to module. Present: ['outputs']. Missing: ['expectations'].\n"
     ]
    },
    {
     "name": "stdout",
     "output_type": "stream",
     "text": [
      "Processed 36 / 60 examples:  58%|█████▊    | 35/60 [00:00<00:00, 268.40it/s]"
     ]
    },
    {
     "name": "stderr",
     "output_type": "stream",
     "text": [
      "2025/09/10 15:25:36 WARNING dspy.predict.predict: Not all input fields were provided to module. Present: ['outputs']. Missing: ['expectations'].\n"
     ]
    },
    {
     "name": "stdout",
     "output_type": "stream",
     "text": [
      "Processed 38 / 60 examples:  62%|██████▏   | 37/60 [00:00<00:00, 268.40it/s]"
     ]
    },
    {
     "name": "stderr",
     "output_type": "stream",
     "text": [
      "2025/09/10 15:25:36 WARNING dspy.predict.predict: Not all input fields were provided to module. Present: ['outputs']. Missing: ['expectations'].\n"
     ]
    },
    {
     "name": "stdout",
     "output_type": "stream",
     "text": [
      "Processed 39 / 60 examples:  63%|██████▎   | 38/60 [00:00<00:00, 268.40it/s]"
     ]
    },
    {
     "name": "stderr",
     "output_type": "stream",
     "text": [
      "2025/09/10 15:25:36 WARNING dspy.predict.predict: Not all input fields were provided to module. Present: ['outputs']. Missing: ['expectations'].\n"
     ]
    },
    {
     "name": "stdout",
     "output_type": "stream",
     "text": [
      "Processed 40 / 60 examples:  65%|██████▌   | 39/60 [00:00<00:00, 268.40it/s]"
     ]
    },
    {
     "name": "stderr",
     "output_type": "stream",
     "text": [
      "2025/09/10 15:25:36 WARNING dspy.predict.predict: Not all input fields were provided to module. Present: ['outputs']. Missing: ['expectations'].\n"
     ]
    },
    {
     "name": "stdout",
     "output_type": "stream",
     "text": [
      "Processed 41 / 60 examples:  67%|██████▋   | 40/60 [00:00<00:00, 268.40it/s]"
     ]
    },
    {
     "name": "stderr",
     "output_type": "stream",
     "text": [
      "2025/09/10 15:25:36 WARNING dspy.predict.predict: Not all input fields were provided to module. Present: ['outputs']. Missing: ['expectations'].\n"
     ]
    },
    {
     "name": "stdout",
     "output_type": "stream",
     "text": [
      "Processed 42 / 60 examples:  68%|██████▊   | 41/60 [00:00<00:00, 268.40it/s]"
     ]
    },
    {
     "name": "stderr",
     "output_type": "stream",
     "text": [
      "2025/09/10 15:25:36 WARNING dspy.predict.predict: Not all input fields were provided to module. Present: ['outputs']. Missing: ['expectations'].\n"
     ]
    },
    {
     "name": "stdout",
     "output_type": "stream",
     "text": [
      "Processed 43 / 60 examples:  70%|███████   | 42/60 [00:00<00:00, 268.40it/s]"
     ]
    },
    {
     "name": "stderr",
     "output_type": "stream",
     "text": [
      "2025/09/10 15:25:36 WARNING dspy.predict.predict: Not all input fields were provided to module. Present: ['outputs']. Missing: ['expectations'].\n",
      "2025/09/10 15:25:36 WARNING dspy.predict.predict: Not all input fields were provided to module. Present: ['outputs']. Missing: ['expectations'].\n"
     ]
    },
    {
     "name": "stdout",
     "output_type": "stream",
     "text": [
      "Processed 45 / 60 examples:  73%|███████▎  | 44/60 [00:00<00:00, 268.40it/s]"
     ]
    },
    {
     "name": "stderr",
     "output_type": "stream",
     "text": [
      "2025/09/10 15:25:36 WARNING dspy.predict.predict: Not all input fields were provided to module. Present: ['outputs']. Missing: ['expectations'].\n"
     ]
    },
    {
     "name": "stdout",
     "output_type": "stream",
     "text": [
      "Processed 46 / 60 examples:  75%|███████▌  | 45/60 [00:00<00:00, 268.40it/s]"
     ]
    },
    {
     "name": "stderr",
     "output_type": "stream",
     "text": [
      "2025/09/10 15:25:36 WARNING dspy.predict.predict: Not all input fields were provided to module. Present: ['outputs']. Missing: ['expectations'].\n",
      "2025/09/10 15:25:36 WARNING dspy.predict.predict: Not all input fields were provided to module. Present: ['outputs']. Missing: ['expectations'].\n"
     ]
    },
    {
     "name": "stdout",
     "output_type": "stream",
     "text": [
      "Processed 47 / 60 examples:  77%|███████▋  | 46/60 [00:00<00:00, 268.40it/s]"
     ]
    },
    {
     "name": "stderr",
     "output_type": "stream",
     "text": [
      "2025/09/10 15:25:36 WARNING dspy.predict.predict: Not all input fields were provided to module. Present: ['outputs']. Missing: ['expectations'].\n"
     ]
    },
    {
     "name": "stdout",
     "output_type": "stream",
     "text": [
      "Processed 49 / 60 examples:  80%|████████  | 48/60 [00:00<00:00, 268.40it/s]"
     ]
    },
    {
     "name": "stderr",
     "output_type": "stream",
     "text": [
      "2025/09/10 15:25:36 WARNING dspy.predict.predict: Not all input fields were provided to module. Present: ['outputs']. Missing: ['expectations'].\n"
     ]
    },
    {
     "name": "stdout",
     "output_type": "stream",
     "text": [
      "Processed 50 / 60 examples:  82%|████████▏ | 49/60 [00:00<00:00, 268.40it/s]"
     ]
    },
    {
     "name": "stderr",
     "output_type": "stream",
     "text": [
      "2025/09/10 15:25:36 WARNING dspy.predict.predict: Not all input fields were provided to module. Present: ['outputs']. Missing: ['expectations'].\n"
     ]
    },
    {
     "name": "stdout",
     "output_type": "stream",
     "text": [
      "Processed 51 / 60 examples:  83%|████████▎ | 50/60 [00:00<00:00, 268.40it/s]"
     ]
    },
    {
     "name": "stderr",
     "output_type": "stream",
     "text": [
      "2025/09/10 15:25:36 WARNING dspy.predict.predict: Not all input fields were provided to module. Present: ['outputs']. Missing: ['expectations'].\n",
      "2025/09/10 15:25:36 WARNING dspy.predict.predict: Not all input fields were provided to module. Present: ['outputs']. Missing: ['expectations'].\n"
     ]
    },
    {
     "name": "stdout",
     "output_type": "stream",
     "text": [
      "Processed 52 / 60 examples:  85%|████████▌ | 51/60 [00:00<00:00, 268.40it/s]"
     ]
    },
    {
     "name": "stderr",
     "output_type": "stream",
     "text": [
      "2025/09/10 15:25:36 WARNING dspy.predict.predict: Not all input fields were provided to module. Present: ['outputs']. Missing: ['expectations'].\n"
     ]
    },
    {
     "name": "stdout",
     "output_type": "stream",
     "text": [
      "Processed 53 / 60 examples:  87%|████████▋ | 52/60 [00:00<00:00, 268.40it/s]"
     ]
    },
    {
     "name": "stderr",
     "output_type": "stream",
     "text": [
      "2025/09/10 15:25:36 WARNING dspy.predict.predict: Not all input fields were provided to module. Present: ['outputs']. Missing: ['expectations'].\n"
     ]
    },
    {
     "name": "stdout",
     "output_type": "stream",
     "text": [
      "Processed 54 / 60 examples:  88%|████████▊ | 53/60 [00:00<00:00, 268.40it/s]"
     ]
    },
    {
     "name": "stderr",
     "output_type": "stream",
     "text": [
      "2025/09/10 15:25:36 WARNING dspy.predict.predict: Not all input fields were provided to module. Present: ['outputs']. Missing: ['expectations'].\n"
     ]
    },
    {
     "name": "stdout",
     "output_type": "stream",
     "text": [
      "Processed 55 / 60 examples:  90%|█████████ | 54/60 [00:00<00:00, 268.40it/s]"
     ]
    },
    {
     "name": "stderr",
     "output_type": "stream",
     "text": [
      "2025/09/10 15:25:36 WARNING dspy.predict.predict: Not all input fields were provided to module. Present: ['outputs']. Missing: ['expectations'].\n"
     ]
    },
    {
     "name": "stdout",
     "output_type": "stream",
     "text": [
      "Processed 56 / 60 examples:  92%|█████████▏| 55/60 [00:00<00:00, 268.40it/s]"
     ]
    },
    {
     "name": "stderr",
     "output_type": "stream",
     "text": [
      "2025/09/10 15:25:36 WARNING dspy.predict.predict: Not all input fields were provided to module. Present: ['outputs']. Missing: ['expectations'].\n"
     ]
    },
    {
     "name": "stdout",
     "output_type": "stream",
     "text": [
      "Processed 57 / 60 examples:  93%|█████████▎| 56/60 [00:00<00:00, 268.40it/s]"
     ]
    },
    {
     "name": "stderr",
     "output_type": "stream",
     "text": [
      "2025/09/10 15:25:36 WARNING dspy.predict.predict: Not all input fields were provided to module. Present: ['outputs']. Missing: ['expectations'].\n"
     ]
    },
    {
     "name": "stdout",
     "output_type": "stream",
     "text": [
      "Processed 58 / 60 examples:  95%|█████████▌| 57/60 [00:00<00:00, 268.40it/s]"
     ]
    },
    {
     "name": "stderr",
     "output_type": "stream",
     "text": [
      "2025/09/10 15:25:36 WARNING dspy.predict.predict: Not all input fields were provided to module. Present: ['outputs']. Missing: ['expectations'].\n"
     ]
    },
    {
     "name": "stdout",
     "output_type": "stream",
     "text": [
      "Processed 60 / 60 examples: 100%|██████████| 60/60 [00:00<00:00, 377.32it/s]"
     ]
    },
    {
     "name": "stderr",
     "output_type": "stream",
     "text": [
      "2025/09/10 15:25:36 INFO dspy.teleprompt.simba: Batch 6: Baseline mini-batch score: 0.0\n",
      "\n",
      "2025/09/10 15:25:36 INFO dspy.teleprompt.simba: Batch 6: Processing bucket #1, with max score 0.0, max-to-min gap 0.0, and max-to-avg gap 0.0.\n",
      "2025/09/10 15:25:36 INFO dspy.teleprompt.simba: Batch 6: Invoking strategy: append_a_rule, having dropped 1 demos per predictor\n"
     ]
    },
    {
     "name": "stdout",
     "output_type": "stream",
     "text": [
      "\n"
     ]
    },
    {
     "name": "stderr",
     "output_type": "stream",
     "text": [
      "2025/09/10 15:25:40 INFO dspy.teleprompt.simba_utils: Advice for self: If the module receives an output and expectations for evaluation, then it should ensure that its scoring and rationale not only reflect the content quality but also align closely with the external judge's scoring criteria. Specifically, it should calibrate its evaluation to avoid overestimating the quality when the external judge rates the output lower. This can be done by incorporating more critical analysis of subtle inaccuracies or omissions that the external judge might consider important, and by validating its rationale against known scoring standards to improve consistency and reliability.\n",
      "2025/09/10 15:25:40 INFO dspy.teleprompt.simba: \n",
      "\n",
      "2025/09/10 15:25:40 INFO dspy.teleprompt.simba: Batch 6: Processing bucket #2, with max score 0.0, max-to-min gap 0.0, and max-to-avg gap 0.0.\n",
      "2025/09/10 15:25:40 INFO dspy.teleprompt.simba: Batch 6: Invoking strategy: append_a_rule\n",
      "2025/09/10 15:25:43 INFO dspy.teleprompt.simba_utils: Advice for self: If the module receives an output and expected answer that are mostly aligned but may have subtle inaccuracies or missing details, then it should carefully analyze the content for completeness and accuracy beyond surface-level coverage. It should assign scores that reflect partial correctness (e.g., 4 instead of 5) when some expected concepts are missing or underemphasized, and provide rationale that clearly identifies these gaps. This will help ensure the evaluation is more precise and better aligned with the ground truth, avoiding overly generous scoring.\n",
      "2025/09/10 15:25:43 INFO dspy.teleprompt.simba: \n",
      "\n",
      "2025/09/10 15:25:43 INFO dspy.teleprompt.simba: Batch 6: Processing bucket #3, with max score 0.0, max-to-min gap 0.0, and max-to-avg gap 0.0.\n",
      "2025/09/10 15:25:43 INFO dspy.teleprompt.simba: Batch 6: Invoking strategy: append_a_demo_\n",
      "2025/09/10 15:25:43 INFO dspy.teleprompt.simba_utils: Added 1 demos (one each) across all predictors.\n",
      "2025/09/10 15:25:43 INFO dspy.teleprompt.simba: \n",
      "\n",
      "2025/09/10 15:25:43 INFO dspy.teleprompt.simba: Batch 6: Processing bucket #4, with max score 0.0, max-to-min gap 0.0, and max-to-avg gap 0.0.\n",
      "2025/09/10 15:25:43 INFO dspy.teleprompt.simba: Batch 6: Invoking strategy: append_a_rule\n",
      "2025/09/10 15:25:48 INFO dspy.teleprompt.simba_utils: Advice for self: If the outputs contain a detailed explanation of a concept, then the module should carefully check not only for clarity and correctness but also for coverage of all key expected subtopics or nuances (e.g., overfitting in gradient descent explanations). It should assign lower scores if important expected elements are missing, even if the explanation is otherwise accurate and well-written. The rationale should explicitly mention any missing critical points to justify the score.\n",
      "2025/09/10 15:25:48 INFO dspy.teleprompt.simba: \n",
      "\n",
      "2025/09/10 15:25:48 INFO dspy.teleprompt.simba: Batch 6: Processing bucket #5, with max score 0.0, max-to-min gap 0.0, and max-to-avg gap 0.0.\n",
      "2025/09/10 15:25:48 INFO dspy.teleprompt.simba: Batch 6: Invoking strategy: append_a_demo_\n",
      "2025/09/10 15:25:48 INFO dspy.teleprompt.simba_utils: Added 1 demos (one each) across all predictors.\n",
      "2025/09/10 15:25:48 INFO dspy.teleprompt.simba: \n",
      "\n",
      "2025/09/10 15:25:48 INFO dspy.teleprompt.simba: Batch 6: Processing bucket #6, with max score 0.0, max-to-min gap 0.0, and max-to-avg gap 0.0.\n",
      "2025/09/10 15:25:48 INFO dspy.teleprompt.simba: Batch 6: Invoking strategy: append_a_demo_, having dropped 1 demos per predictor\n",
      "2025/09/10 15:25:48 INFO dspy.teleprompt.simba_utils: Added 1 demos (one each) across all predictors.\n",
      "2025/09/10 15:25:48 INFO dspy.teleprompt.simba: \n",
      "\n",
      "2025/09/10 15:25:48 INFO dspy.teleprompt.simba: Batch 6: Processing bucket #7, with max score 0.0, max-to-min gap 0.0, and max-to-avg gap 0.0.\n",
      "2025/09/10 15:25:48 INFO dspy.teleprompt.simba: Batch 6: Invoking strategy: append_a_demo_\n",
      "2025/09/10 15:25:48 INFO dspy.teleprompt.simba_utils: Added 1 demos (one each) across all predictors.\n",
      "2025/09/10 15:25:48 INFO dspy.teleprompt.simba: \n",
      "\n",
      "2025/09/10 15:25:48 INFO dspy.teleprompt.simba: Batch 6: Evaluating 7 programs on 10 examples.\n",
      "2025/09/10 15:25:48 WARNING dspy.predict.predict: Not all input fields were provided to module. Present: ['outputs']. Missing: ['expectations'].\n"
     ]
    },
    {
     "name": "stdout",
     "output_type": "stream",
     "text": [
      "  0%|          | 0/70 [00:00<?, ?it/s]"
     ]
    },
    {
     "name": "stderr",
     "output_type": "stream",
     "text": [
      "2025/09/10 15:25:48 WARNING dspy.predict.predict: Not all input fields were provided to module. Present: ['outputs']. Missing: ['expectations'].\n",
      "2025/09/10 15:25:48 WARNING dspy.predict.predict: Not all input fields were provided to module. Present: ['outputs']. Missing: ['expectations'].\n",
      "2025/09/10 15:25:48 WARNING dspy.predict.predict: Not all input fields were provided to module. Present: ['outputs']. Missing: ['expectations'].\n",
      "2025/09/10 15:25:48 WARNING dspy.predict.predict: Not all input fields were provided to module. Present: ['outputs']. Missing: ['expectations'].\n",
      "2025/09/10 15:25:48 WARNING dspy.predict.predict: Not all input fields were provided to module. Present: ['outputs']. Missing: ['expectations'].\n",
      "2025/09/10 15:25:48 WARNING dspy.predict.predict: Not all input fields were provided to module. Present: ['outputs']. Missing: ['expectations'].\n",
      "2025/09/10 15:25:48 WARNING dspy.predict.predict: Not all input fields were provided to module. Present: ['outputs']. Missing: ['expectations'].\n"
     ]
    },
    {
     "name": "stdout",
     "output_type": "stream",
     "text": [
      "Processed 1 / 70 examples:   1%|▏         | 1/70 [00:01<02:00,  1.74s/it]"
     ]
    },
    {
     "name": "stderr",
     "output_type": "stream",
     "text": [
      "2025/09/10 15:25:50 WARNING dspy.predict.predict: Not all input fields were provided to module. Present: ['outputs']. Missing: ['expectations'].\n"
     ]
    },
    {
     "name": "stdout",
     "output_type": "stream",
     "text": [
      "Processed 2 / 70 examples:   1%|▏         | 1/70 [00:02<02:00,  1.74s/it]"
     ]
    },
    {
     "name": "stderr",
     "output_type": "stream",
     "text": [
      "2025/09/10 15:25:50 WARNING dspy.predict.predict: Not all input fields were provided to module. Present: ['outputs']. Missing: ['expectations'].\n"
     ]
    },
    {
     "name": "stdout",
     "output_type": "stream",
     "text": [
      "Processed 3 / 70 examples:   4%|▍         | 3/70 [00:02<00:42,  1.59it/s]"
     ]
    },
    {
     "name": "stderr",
     "output_type": "stream",
     "text": [
      "2025/09/10 15:25:50 WARNING dspy.predict.predict: Not all input fields were provided to module. Present: ['outputs']. Missing: ['expectations'].\n"
     ]
    },
    {
     "name": "stdout",
     "output_type": "stream",
     "text": [
      "Processed 4 / 70 examples:   4%|▍         | 3/70 [00:02<00:42,  1.59it/s]"
     ]
    },
    {
     "name": "stderr",
     "output_type": "stream",
     "text": [
      "2025/09/10 15:25:50 WARNING dspy.predict.predict: Not all input fields were provided to module. Present: ['outputs']. Missing: ['expectations'].\n"
     ]
    },
    {
     "name": "stdout",
     "output_type": "stream",
     "text": [
      "Processed 5 / 70 examples:   6%|▌         | 4/70 [00:02<00:41,  1.59it/s]"
     ]
    },
    {
     "name": "stderr",
     "output_type": "stream",
     "text": [
      "2025/09/10 15:25:50 WARNING dspy.predict.predict: Not all input fields were provided to module. Present: ['outputs']. Missing: ['expectations'].\n"
     ]
    },
    {
     "name": "stdout",
     "output_type": "stream",
     "text": [
      "Processed 6 / 70 examples:   9%|▊         | 6/70 [00:02<00:22,  2.89it/s]"
     ]
    },
    {
     "name": "stderr",
     "output_type": "stream",
     "text": [
      "2025/09/10 15:25:51 WARNING dspy.predict.predict: Not all input fields were provided to module. Present: ['outputs']. Missing: ['expectations'].\n"
     ]
    },
    {
     "name": "stdout",
     "output_type": "stream",
     "text": [
      "Processed 7 / 70 examples:  10%|█         | 7/70 [00:03<00:18,  3.44it/s]"
     ]
    },
    {
     "name": "stderr",
     "output_type": "stream",
     "text": [
      "2025/09/10 15:25:51 WARNING dspy.predict.predict: Not all input fields were provided to module. Present: ['outputs']. Missing: ['expectations'].\n"
     ]
    },
    {
     "name": "stdout",
     "output_type": "stream",
     "text": [
      "Processed 8 / 70 examples:  11%|█▏        | 8/70 [00:03<00:26,  2.32it/s]"
     ]
    },
    {
     "name": "stderr",
     "output_type": "stream",
     "text": [
      "2025/09/10 15:25:52 WARNING dspy.predict.predict: Not all input fields were provided to module. Present: ['outputs']. Missing: ['expectations'].\n"
     ]
    },
    {
     "name": "stdout",
     "output_type": "stream",
     "text": [
      "Processed 9 / 70 examples:  13%|█▎        | 9/70 [00:04<00:21,  2.89it/s]"
     ]
    },
    {
     "name": "stderr",
     "output_type": "stream",
     "text": [
      "2025/09/10 15:25:52 WARNING dspy.predict.predict: Not all input fields were provided to module. Present: ['outputs']. Missing: ['expectations'].\n"
     ]
    },
    {
     "name": "stdout",
     "output_type": "stream",
     "text": [
      "Processed 10 / 70 examples:  14%|█▍        | 10/70 [00:04<00:25,  2.33it/s]"
     ]
    },
    {
     "name": "stderr",
     "output_type": "stream",
     "text": [
      "2025/09/10 15:25:52 WARNING dspy.predict.predict: Not all input fields were provided to module. Present: ['outputs']. Missing: ['expectations'].\n"
     ]
    },
    {
     "name": "stdout",
     "output_type": "stream",
     "text": [
      "Processed 11 / 70 examples:  16%|█▌        | 11/70 [00:04<00:20,  2.84it/s]"
     ]
    },
    {
     "name": "stderr",
     "output_type": "stream",
     "text": [
      "2025/09/10 15:25:53 WARNING dspy.predict.predict: Not all input fields were provided to module. Present: ['outputs']. Missing: ['expectations'].\n"
     ]
    },
    {
     "name": "stdout",
     "output_type": "stream",
     "text": [
      "Processed 12 / 70 examples:  17%|█▋        | 12/70 [00:05<00:18,  3.21it/s]"
     ]
    },
    {
     "name": "stderr",
     "output_type": "stream",
     "text": [
      "2025/09/10 15:25:53 WARNING dspy.predict.predict: Not all input fields were provided to module. Present: ['outputs']. Missing: ['expectations'].\n"
     ]
    },
    {
     "name": "stdout",
     "output_type": "stream",
     "text": [
      "Processed 13 / 70 examples:  17%|█▋        | 12/70 [00:05<00:18,  3.21it/s]"
     ]
    },
    {
     "name": "stderr",
     "output_type": "stream",
     "text": [
      "2025/09/10 15:25:53 WARNING dspy.predict.predict: Not all input fields were provided to module. Present: ['outputs']. Missing: ['expectations'].\n"
     ]
    },
    {
     "name": "stdout",
     "output_type": "stream",
     "text": [
      "Processed 14 / 70 examples:  19%|█▊        | 13/70 [00:05<00:15,  3.77it/s]"
     ]
    },
    {
     "name": "stderr",
     "output_type": "stream",
     "text": [
      "2025/09/10 15:25:53 WARNING dspy.predict.predict: Not all input fields were provided to module. Present: ['outputs']. Missing: ['expectations'].\n"
     ]
    },
    {
     "name": "stdout",
     "output_type": "stream",
     "text": [
      "Processed 15 / 70 examples:  21%|██▏       | 15/70 [00:06<00:18,  3.01it/s]"
     ]
    },
    {
     "name": "stderr",
     "output_type": "stream",
     "text": [
      "2025/09/10 15:25:54 WARNING dspy.predict.predict: Not all input fields were provided to module. Present: ['outputs']. Missing: ['expectations'].\n"
     ]
    },
    {
     "name": "stdout",
     "output_type": "stream",
     "text": [
      "Processed 16 / 70 examples:  21%|██▏       | 15/70 [00:06<00:18,  3.01it/s]"
     ]
    },
    {
     "name": "stderr",
     "output_type": "stream",
     "text": [
      "2025/09/10 15:25:54 WARNING dspy.predict.predict: Not all input fields were provided to module. Present: ['outputs']. Missing: ['expectations'].\n"
     ]
    },
    {
     "name": "stdout",
     "output_type": "stream",
     "text": [
      "Processed 17 / 70 examples:  24%|██▍       | 17/70 [00:06<00:13,  3.82it/s]"
     ]
    },
    {
     "name": "stderr",
     "output_type": "stream",
     "text": [
      "2025/09/10 15:25:54 WARNING dspy.predict.predict: Not all input fields were provided to module. Present: ['outputs']. Missing: ['expectations'].\n"
     ]
    },
    {
     "name": "stdout",
     "output_type": "stream",
     "text": [
      "Processed 18 / 70 examples:  26%|██▌       | 18/70 [00:07<00:18,  2.81it/s]"
     ]
    },
    {
     "name": "stderr",
     "output_type": "stream",
     "text": [
      "2025/09/10 15:25:55 WARNING dspy.predict.predict: Not all input fields were provided to module. Present: ['outputs']. Missing: ['expectations'].\n"
     ]
    },
    {
     "name": "stdout",
     "output_type": "stream",
     "text": [
      "Processed 19 / 70 examples:  27%|██▋       | 19/70 [00:07<00:15,  3.36it/s]"
     ]
    },
    {
     "name": "stderr",
     "output_type": "stream",
     "text": [
      "2025/09/10 15:25:55 WARNING dspy.predict.predict: Not all input fields were provided to module. Present: ['outputs']. Missing: ['expectations'].\n"
     ]
    },
    {
     "name": "stdout",
     "output_type": "stream",
     "text": [
      "Processed 20 / 70 examples:  27%|██▋       | 19/70 [00:07<00:15,  3.36it/s]"
     ]
    },
    {
     "name": "stderr",
     "output_type": "stream",
     "text": [
      "2025/09/10 15:25:55 WARNING dspy.predict.predict: Not all input fields were provided to module. Present: ['outputs']. Missing: ['expectations'].\n"
     ]
    },
    {
     "name": "stdout",
     "output_type": "stream",
     "text": [
      "Processed 21 / 70 examples:  30%|███       | 21/70 [00:07<00:11,  4.09it/s]"
     ]
    },
    {
     "name": "stderr",
     "output_type": "stream",
     "text": [
      "2025/09/10 15:25:55 WARNING dspy.predict.predict: Not all input fields were provided to module. Present: ['outputs']. Missing: ['expectations'].\n"
     ]
    },
    {
     "name": "stdout",
     "output_type": "stream",
     "text": [
      "Processed 22 / 70 examples:  31%|███▏      | 22/70 [00:07<00:13,  3.45it/s]"
     ]
    },
    {
     "name": "stderr",
     "output_type": "stream",
     "text": [
      "2025/09/10 15:25:56 WARNING dspy.predict.predict: Not all input fields were provided to module. Present: ['outputs']. Missing: ['expectations'].\n"
     ]
    },
    {
     "name": "stdout",
     "output_type": "stream",
     "text": [
      "Processed 23 / 70 examples:  33%|███▎      | 23/70 [00:09<00:24,  1.89it/s]"
     ]
    },
    {
     "name": "stderr",
     "output_type": "stream",
     "text": [
      "2025/09/10 15:25:57 WARNING dspy.predict.predict: Not all input fields were provided to module. Present: ['outputs']. Missing: ['expectations'].\n"
     ]
    },
    {
     "name": "stdout",
     "output_type": "stream",
     "text": [
      "Processed 24 / 70 examples:  34%|███▍      | 24/70 [00:09<00:26,  1.75it/s]"
     ]
    },
    {
     "name": "stderr",
     "output_type": "stream",
     "text": [
      "2025/09/10 15:25:58 WARNING dspy.predict.predict: Not all input fields were provided to module. Present: ['outputs']. Missing: ['expectations'].\n"
     ]
    },
    {
     "name": "stdout",
     "output_type": "stream",
     "text": [
      "Processed 25 / 70 examples:  36%|███▌      | 25/70 [00:10<00:20,  2.20it/s]"
     ]
    },
    {
     "name": "stderr",
     "output_type": "stream",
     "text": [
      "2025/09/10 15:25:58 WARNING dspy.predict.predict: Not all input fields were provided to module. Present: ['outputs']. Missing: ['expectations'].\n"
     ]
    },
    {
     "name": "stdout",
     "output_type": "stream",
     "text": [
      "Processed 26 / 70 examples:  37%|███▋      | 26/70 [00:10<00:24,  1.81it/s]"
     ]
    },
    {
     "name": "stderr",
     "output_type": "stream",
     "text": [
      "2025/09/10 15:25:59 WARNING dspy.predict.predict: Not all input fields were provided to module. Present: ['outputs']. Missing: ['expectations'].\n"
     ]
    },
    {
     "name": "stdout",
     "output_type": "stream",
     "text": [
      "Processed 27 / 70 examples:  39%|███▊      | 27/70 [00:11<00:22,  1.95it/s]"
     ]
    },
    {
     "name": "stderr",
     "output_type": "stream",
     "text": [
      "2025/09/10 15:25:59 WARNING dspy.predict.predict: Not all input fields were provided to module. Present: ['outputs']. Missing: ['expectations'].\n"
     ]
    },
    {
     "name": "stdout",
     "output_type": "stream",
     "text": [
      "Processed 28 / 70 examples:  40%|████      | 28/70 [00:11<00:16,  2.54it/s]"
     ]
    },
    {
     "name": "stderr",
     "output_type": "stream",
     "text": [
      "2025/09/10 15:25:59 WARNING dspy.predict.predict: Not all input fields were provided to module. Present: ['outputs']. Missing: ['expectations'].\n"
     ]
    },
    {
     "name": "stdout",
     "output_type": "stream",
     "text": [
      "Processed 29 / 70 examples:  41%|████▏     | 29/70 [00:11<00:14,  2.90it/s]"
     ]
    },
    {
     "name": "stderr",
     "output_type": "stream",
     "text": [
      "2025/09/10 15:25:59 WARNING dspy.predict.predict: Not all input fields were provided to module. Present: ['outputs']. Missing: ['expectations'].\n"
     ]
    },
    {
     "name": "stdout",
     "output_type": "stream",
     "text": [
      "Processed 30 / 70 examples:  43%|████▎     | 30/70 [00:11<00:11,  3.50it/s]"
     ]
    },
    {
     "name": "stderr",
     "output_type": "stream",
     "text": [
      "2025/09/10 15:26:00 WARNING dspy.predict.predict: Not all input fields were provided to module. Present: ['outputs']. Missing: ['expectations'].\n"
     ]
    },
    {
     "name": "stdout",
     "output_type": "stream",
     "text": [
      "Processed 31 / 70 examples:  44%|████▍     | 31/70 [00:11<00:11,  3.52it/s]"
     ]
    },
    {
     "name": "stderr",
     "output_type": "stream",
     "text": [
      "2025/09/10 15:26:00 WARNING dspy.predict.predict: Not all input fields were provided to module. Present: ['outputs']. Missing: ['expectations'].\n"
     ]
    },
    {
     "name": "stdout",
     "output_type": "stream",
     "text": [
      "Processed 32 / 70 examples:  46%|████▌     | 32/70 [00:12<00:18,  2.08it/s]"
     ]
    },
    {
     "name": "stderr",
     "output_type": "stream",
     "text": [
      "2025/09/10 15:26:01 WARNING dspy.predict.predict: Not all input fields were provided to module. Present: ['outputs']. Missing: ['expectations'].\n"
     ]
    },
    {
     "name": "stdout",
     "output_type": "stream",
     "text": [
      "Processed 33 / 70 examples:  46%|████▌     | 32/70 [00:13<00:18,  2.08it/s]"
     ]
    },
    {
     "name": "stderr",
     "output_type": "stream",
     "text": [
      "2025/09/10 15:26:01 WARNING dspy.predict.predict: Not all input fields were provided to module. Present: ['outputs']. Missing: ['expectations'].\n"
     ]
    },
    {
     "name": "stdout",
     "output_type": "stream",
     "text": [
      "Processed 34 / 70 examples:  49%|████▊     | 34/70 [00:14<00:25,  1.42it/s]"
     ]
    },
    {
     "name": "stderr",
     "output_type": "stream",
     "text": [
      "2025/09/10 15:26:02 WARNING dspy.predict.predict: Not all input fields were provided to module. Present: ['outputs']. Missing: ['expectations'].\n"
     ]
    },
    {
     "name": "stdout",
     "output_type": "stream",
     "text": [
      "Processed 35 / 70 examples:  50%|█████     | 35/70 [00:15<00:31,  1.12it/s]"
     ]
    },
    {
     "name": "stderr",
     "output_type": "stream",
     "text": [
      "2025/09/10 15:26:04 WARNING dspy.predict.predict: Not all input fields were provided to module. Present: ['outputs']. Missing: ['expectations'].\n"
     ]
    },
    {
     "name": "stdout",
     "output_type": "stream",
     "text": [
      "Processed 36 / 70 examples:  51%|█████▏    | 36/70 [00:16<00:25,  1.35it/s]"
     ]
    },
    {
     "name": "stderr",
     "output_type": "stream",
     "text": [
      "2025/09/10 15:26:04 WARNING dspy.predict.predict: Not all input fields were provided to module. Present: ['outputs']. Missing: ['expectations'].\n"
     ]
    },
    {
     "name": "stdout",
     "output_type": "stream",
     "text": [
      "Processed 37 / 70 examples:  53%|█████▎    | 37/70 [00:16<00:19,  1.69it/s]"
     ]
    },
    {
     "name": "stderr",
     "output_type": "stream",
     "text": [
      "2025/09/10 15:26:04 WARNING dspy.predict.predict: Not all input fields were provided to module. Present: ['outputs']. Missing: ['expectations'].\n"
     ]
    },
    {
     "name": "stdout",
     "output_type": "stream",
     "text": [
      "Processed 38 / 70 examples:  54%|█████▍    | 38/70 [00:16<00:14,  2.17it/s]"
     ]
    },
    {
     "name": "stderr",
     "output_type": "stream",
     "text": [
      "2025/09/10 15:26:05 WARNING dspy.predict.predict: Not all input fields were provided to module. Present: ['outputs']. Missing: ['expectations'].\n"
     ]
    },
    {
     "name": "stdout",
     "output_type": "stream",
     "text": [
      "Processed 39 / 70 examples:  54%|█████▍    | 38/70 [00:16<00:14,  2.17it/s]"
     ]
    },
    {
     "name": "stderr",
     "output_type": "stream",
     "text": [
      "2025/09/10 15:26:05 WARNING dspy.predict.predict: Not all input fields were provided to module. Present: ['outputs']. Missing: ['expectations'].\n"
     ]
    },
    {
     "name": "stdout",
     "output_type": "stream",
     "text": [
      "Processed 40 / 70 examples:  57%|█████▋    | 40/70 [00:17<00:09,  3.22it/s]"
     ]
    },
    {
     "name": "stderr",
     "output_type": "stream",
     "text": [
      "2025/09/10 15:26:05 WARNING dspy.predict.predict: Not all input fields were provided to module. Present: ['outputs']. Missing: ['expectations'].\n"
     ]
    },
    {
     "name": "stdout",
     "output_type": "stream",
     "text": [
      "Processed 41 / 70 examples:  59%|█████▊    | 41/70 [00:17<00:10,  2.70it/s]"
     ]
    },
    {
     "name": "stderr",
     "output_type": "stream",
     "text": [
      "2025/09/10 15:26:05 WARNING dspy.predict.predict: Not all input fields were provided to module. Present: ['outputs']. Missing: ['expectations'].\n"
     ]
    },
    {
     "name": "stdout",
     "output_type": "stream",
     "text": [
      "Processed 42 / 70 examples:  60%|██████    | 42/70 [00:17<00:09,  2.82it/s]"
     ]
    },
    {
     "name": "stderr",
     "output_type": "stream",
     "text": [
      "2025/09/10 15:26:06 WARNING dspy.predict.predict: Not all input fields were provided to module. Present: ['outputs']. Missing: ['expectations'].\n",
      "2025/09/10 15:26:06 WARNING dspy.predict.predict: Not all input fields were provided to module. Present: ['outputs']. Missing: ['expectations'].\n"
     ]
    },
    {
     "name": "stdout",
     "output_type": "stream",
     "text": [
      "Processed 44 / 70 examples:  61%|██████▏   | 43/70 [00:17<00:09,  2.82it/s]"
     ]
    },
    {
     "name": "stderr",
     "output_type": "stream",
     "text": [
      "2025/09/10 15:26:06 WARNING dspy.predict.predict: Not all input fields were provided to module. Present: ['outputs']. Missing: ['expectations'].\n"
     ]
    },
    {
     "name": "stdout",
     "output_type": "stream",
     "text": [
      "Processed 45 / 70 examples:  63%|██████▎   | 44/70 [00:17<00:09,  2.82it/s]"
     ]
    },
    {
     "name": "stderr",
     "output_type": "stream",
     "text": [
      "2025/09/10 15:26:06 WARNING dspy.predict.predict: Not all input fields were provided to module. Present: ['outputs']. Missing: ['expectations'].\n"
     ]
    },
    {
     "name": "stdout",
     "output_type": "stream",
     "text": [
      "Processed 46 / 70 examples:  64%|██████▍   | 45/70 [00:17<00:08,  2.82it/s]"
     ]
    },
    {
     "name": "stderr",
     "output_type": "stream",
     "text": [
      "2025/09/10 15:26:06 WARNING dspy.predict.predict: Not all input fields were provided to module. Present: ['outputs']. Missing: ['expectations'].\n"
     ]
    },
    {
     "name": "stdout",
     "output_type": "stream",
     "text": [
      "Processed 47 / 70 examples:  66%|██████▌   | 46/70 [00:17<00:08,  2.82it/s]"
     ]
    },
    {
     "name": "stderr",
     "output_type": "stream",
     "text": [
      "2025/09/10 15:26:06 WARNING dspy.predict.predict: Not all input fields were provided to module. Present: ['outputs']. Missing: ['expectations'].\n"
     ]
    },
    {
     "name": "stdout",
     "output_type": "stream",
     "text": [
      "Processed 48 / 70 examples:  67%|██████▋   | 47/70 [00:17<00:08,  2.82it/s]"
     ]
    },
    {
     "name": "stderr",
     "output_type": "stream",
     "text": [
      "2025/09/10 15:26:06 WARNING dspy.predict.predict: Not all input fields were provided to module. Present: ['outputs']. Missing: ['expectations'].\n"
     ]
    },
    {
     "name": "stdout",
     "output_type": "stream",
     "text": [
      "Processed 49 / 70 examples:  69%|██████▊   | 48/70 [00:17<00:07,  2.82it/s]"
     ]
    },
    {
     "name": "stderr",
     "output_type": "stream",
     "text": [
      "2025/09/10 15:26:06 WARNING dspy.predict.predict: Not all input fields were provided to module. Present: ['outputs']. Missing: ['expectations'].\n"
     ]
    },
    {
     "name": "stdout",
     "output_type": "stream",
     "text": [
      "Processed 50 / 70 examples:  70%|███████   | 49/70 [00:17<00:07,  2.82it/s]"
     ]
    },
    {
     "name": "stderr",
     "output_type": "stream",
     "text": [
      "2025/09/10 15:26:06 WARNING dspy.predict.predict: Not all input fields were provided to module. Present: ['outputs']. Missing: ['expectations'].\n"
     ]
    },
    {
     "name": "stdout",
     "output_type": "stream",
     "text": [
      "Processed 51 / 70 examples:  71%|███████▏  | 50/70 [00:17<00:07,  2.82it/s]"
     ]
    },
    {
     "name": "stderr",
     "output_type": "stream",
     "text": [
      "2025/09/10 15:26:06 WARNING dspy.predict.predict: Not all input fields were provided to module. Present: ['outputs']. Missing: ['expectations'].\n"
     ]
    },
    {
     "name": "stdout",
     "output_type": "stream",
     "text": [
      "Processed 52 / 70 examples:  74%|███████▍  | 52/70 [00:17<00:01, 12.07it/s]"
     ]
    },
    {
     "name": "stderr",
     "output_type": "stream",
     "text": [
      "2025/09/10 15:26:06 WARNING dspy.predict.predict: Not all input fields were provided to module. Present: ['outputs']. Missing: ['expectations'].\n",
      "2025/09/10 15:26:06 WARNING dspy.predict.predict: Not all input fields were provided to module. Present: ['outputs']. Missing: ['expectations'].\n"
     ]
    },
    {
     "name": "stdout",
     "output_type": "stream",
     "text": [
      "Processed 54 / 70 examples:  76%|███████▌  | 53/70 [00:18<00:01, 12.07it/s]"
     ]
    },
    {
     "name": "stderr",
     "output_type": "stream",
     "text": [
      "2025/09/10 15:26:06 WARNING dspy.predict.predict: Not all input fields were provided to module. Present: ['outputs']. Missing: ['expectations'].\n"
     ]
    },
    {
     "name": "stdout",
     "output_type": "stream",
     "text": [
      "Processed 55 / 70 examples:  77%|███████▋  | 54/70 [00:18<00:01, 12.07it/s]"
     ]
    },
    {
     "name": "stderr",
     "output_type": "stream",
     "text": [
      "2025/09/10 15:26:07 WARNING dspy.predict.predict: Not all input fields were provided to module. Present: ['outputs']. Missing: ['expectations'].\n"
     ]
    },
    {
     "name": "stdout",
     "output_type": "stream",
     "text": [
      "Processed 56 / 70 examples:  80%|████████  | 56/70 [00:19<00:01,  7.16it/s]"
     ]
    },
    {
     "name": "stderr",
     "output_type": "stream",
     "text": [
      "2025/09/10 15:26:07 WARNING dspy.predict.predict: Not all input fields were provided to module. Present: ['outputs']. Missing: ['expectations'].\n"
     ]
    },
    {
     "name": "stdout",
     "output_type": "stream",
     "text": [
      "Processed 57 / 70 examples:  80%|████████  | 56/70 [00:19<00:01,  7.16it/s]"
     ]
    },
    {
     "name": "stderr",
     "output_type": "stream",
     "text": [
      "2025/09/10 15:26:07 WARNING dspy.predict.predict: Not all input fields were provided to module. Present: ['outputs']. Missing: ['expectations'].\n"
     ]
    },
    {
     "name": "stdout",
     "output_type": "stream",
     "text": [
      "Processed 58 / 70 examples:  81%|████████▏ | 57/70 [00:19<00:01,  7.16it/s]"
     ]
    },
    {
     "name": "stderr",
     "output_type": "stream",
     "text": [
      "2025/09/10 15:26:07 WARNING dspy.predict.predict: Not all input fields were provided to module. Present: ['outputs']. Missing: ['expectations'].\n"
     ]
    },
    {
     "name": "stdout",
     "output_type": "stream",
     "text": [
      "Processed 59 / 70 examples:  84%|████████▍ | 59/70 [00:20<00:02,  4.98it/s]"
     ]
    },
    {
     "name": "stderr",
     "output_type": "stream",
     "text": [
      "2025/09/10 15:26:08 WARNING dspy.predict.predict: Not all input fields were provided to module. Present: ['outputs']. Missing: ['expectations'].\n"
     ]
    },
    {
     "name": "stdout",
     "output_type": "stream",
     "text": [
      "Processed 60 / 70 examples:  84%|████████▍ | 59/70 [00:20<00:02,  4.98it/s]"
     ]
    },
    {
     "name": "stderr",
     "output_type": "stream",
     "text": [
      "2025/09/10 15:26:08 WARNING dspy.predict.predict: Not all input fields were provided to module. Present: ['outputs']. Missing: ['expectations'].\n"
     ]
    },
    {
     "name": "stdout",
     "output_type": "stream",
     "text": [
      "Processed 61 / 70 examples:  87%|████████▋ | 61/70 [00:20<00:02,  4.39it/s]"
     ]
    },
    {
     "name": "stderr",
     "output_type": "stream",
     "text": [
      "2025/09/10 15:26:09 WARNING dspy.predict.predict: Not all input fields were provided to module. Present: ['outputs']. Missing: ['expectations'].\n"
     ]
    },
    {
     "name": "stdout",
     "output_type": "stream",
     "text": [
      "Processed 62 / 70 examples:  87%|████████▋ | 61/70 [00:21<00:02,  4.39it/s]"
     ]
    },
    {
     "name": "stderr",
     "output_type": "stream",
     "text": [
      "2025/09/10 15:26:09 WARNING dspy.predict.predict: Not all input fields were provided to module. Present: ['outputs']. Missing: ['expectations'].\n"
     ]
    },
    {
     "name": "stdout",
     "output_type": "stream",
     "text": [
      "Processed 70 / 70 examples: 100%|██████████| 70/70 [00:23<00:00,  2.98it/s]"
     ]
    },
    {
     "name": "stderr",
     "output_type": "stream",
     "text": [
      "2025/09/10 15:26:11 INFO dspy.teleprompt.simba: Scores after 6 batches: [0.0, 0.0, 0.0, 0.0, 0.0, 0.0, 0.0], Best: 0.0\n",
      "\n",
      "2025/09/10 15:26:11 INFO dspy.teleprompt.simba: Starting batch 7 of 8.\n",
      "2025/09/10 15:26:11 INFO dspy.teleprompt.simba: Sampling program trajectories on 10 examples x 6 samples.\n",
      "2025/09/10 15:26:11 WARNING dspy.predict.predict: Not all input fields were provided to module. Present: ['outputs']. Missing: ['expectations'].\n"
     ]
    },
    {
     "name": "stdout",
     "output_type": "stream",
     "text": [
      "\n",
      "  0%|          | 0/60 [00:00<?, ?it/s]"
     ]
    },
    {
     "name": "stderr",
     "output_type": "stream",
     "text": [
      "2025/09/10 15:26:11 WARNING dspy.predict.predict: Not all input fields were provided to module. Present: ['outputs']. Missing: ['expectations'].\n",
      "2025/09/10 15:26:11 WARNING dspy.predict.predict: Not all input fields were provided to module. Present: ['outputs']. Missing: ['expectations'].\n"
     ]
    },
    {
     "name": "stdout",
     "output_type": "stream",
     "text": [
      "Processed 2 / 60 examples:   2%|▏         | 1/60 [00:00<00:00, 635.69it/s]"
     ]
    },
    {
     "name": "stderr",
     "output_type": "stream",
     "text": [
      "2025/09/10 15:26:11 WARNING dspy.predict.predict: Not all input fields were provided to module. Present: ['outputs']. Missing: ['expectations'].\n",
      "2025/09/10 15:26:11 WARNING dspy.predict.predict: Not all input fields were provided to module. Present: ['outputs']. Missing: ['expectations'].\n"
     ]
    },
    {
     "name": "stdout",
     "output_type": "stream",
     "text": [
      "Processed 4 / 60 examples:   5%|▌         | 3/60 [00:00<00:00, 428.02it/s]"
     ]
    },
    {
     "name": "stderr",
     "output_type": "stream",
     "text": [
      "2025/09/10 15:26:11 WARNING dspy.predict.predict: Not all input fields were provided to module. Present: ['outputs']. Missing: ['expectations'].\n"
     ]
    },
    {
     "name": "stdout",
     "output_type": "stream",
     "text": [
      "Processed 5 / 60 examples:   7%|▋         | 4/60 [00:00<00:00, 450.20it/s]"
     ]
    },
    {
     "name": "stderr",
     "output_type": "stream",
     "text": [
      "2025/09/10 15:26:11 WARNING dspy.predict.predict: Not all input fields were provided to module. Present: ['outputs']. Missing: ['expectations'].\n"
     ]
    },
    {
     "name": "stdout",
     "output_type": "stream",
     "text": [
      "Processed 6 / 60 examples:   8%|▊         | 5/60 [00:00<00:00, 376.85it/s]"
     ]
    },
    {
     "name": "stderr",
     "output_type": "stream",
     "text": [
      "2025/09/10 15:26:11 WARNING dspy.predict.predict: Not all input fields were provided to module. Present: ['outputs']. Missing: ['expectations'].\n"
     ]
    },
    {
     "name": "stdout",
     "output_type": "stream",
     "text": [
      "Processed 7 / 60 examples:  10%|█         | 6/60 [00:00<00:00, 390.19it/s]"
     ]
    },
    {
     "name": "stderr",
     "output_type": "stream",
     "text": [
      "2025/09/10 15:26:11 WARNING dspy.predict.predict: Not all input fields were provided to module. Present: ['outputs']. Missing: ['expectations'].\n"
     ]
    },
    {
     "name": "stdout",
     "output_type": "stream",
     "text": [
      "Processed 9 / 60 examples:  13%|█▎        | 8/60 [00:00<00:00, 424.70it/s]"
     ]
    },
    {
     "name": "stderr",
     "output_type": "stream",
     "text": [
      "2025/09/10 15:26:11 WARNING dspy.predict.predict: Not all input fields were provided to module. Present: ['outputs']. Missing: ['expectations'].\n",
      "2025/09/10 15:26:11 WARNING dspy.predict.predict: Not all input fields were provided to module. Present: ['outputs']. Missing: ['expectations'].\n"
     ]
    },
    {
     "name": "stdout",
     "output_type": "stream",
     "text": [
      "Processed 11 / 60 examples:  17%|█▋        | 10/60 [00:00<00:00, 439.91it/s]"
     ]
    },
    {
     "name": "stderr",
     "output_type": "stream",
     "text": [
      "2025/09/10 15:26:11 WARNING dspy.predict.predict: Not all input fields were provided to module. Present: ['outputs']. Missing: ['expectations'].\n"
     ]
    },
    {
     "name": "stdout",
     "output_type": "stream",
     "text": [
      "Processed 12 / 60 examples:  18%|█▊        | 11/60 [00:00<00:00, 457.43it/s]"
     ]
    },
    {
     "name": "stderr",
     "output_type": "stream",
     "text": [
      "2025/09/10 15:26:11 WARNING dspy.predict.predict: Not all input fields were provided to module. Present: ['outputs']. Missing: ['expectations'].\n"
     ]
    },
    {
     "name": "stdout",
     "output_type": "stream",
     "text": [
      "Processed 13 / 60 examples:  20%|██        | 12/60 [00:00<00:00, 431.11it/s]"
     ]
    },
    {
     "name": "stderr",
     "output_type": "stream",
     "text": [
      "2025/09/10 15:26:11 WARNING dspy.predict.predict: Not all input fields were provided to module. Present: ['outputs']. Missing: ['expectations'].\n",
      "2025/09/10 15:26:11 WARNING dspy.predict.predict: Not all input fields were provided to module. Present: ['outputs']. Missing: ['expectations'].\n"
     ]
    },
    {
     "name": "stdout",
     "output_type": "stream",
     "text": [
      "Processed 14 / 60 examples:  22%|██▏       | 13/60 [00:00<00:00, 429.03it/s]"
     ]
    },
    {
     "name": "stderr",
     "output_type": "stream",
     "text": [
      "2025/09/10 15:26:11 WARNING dspy.predict.predict: Not all input fields were provided to module. Present: ['outputs']. Missing: ['expectations'].\n"
     ]
    },
    {
     "name": "stdout",
     "output_type": "stream",
     "text": [
      "Processed 15 / 60 examples:  25%|██▌       | 15/60 [00:00<00:00, 148.01it/s]"
     ]
    },
    {
     "name": "stderr",
     "output_type": "stream",
     "text": [
      "2025/09/10 15:26:11 WARNING dspy.predict.predict: Not all input fields were provided to module. Present: ['outputs']. Missing: ['expectations'].\n"
     ]
    },
    {
     "name": "stdout",
     "output_type": "stream",
     "text": [
      "Processed 16 / 60 examples:  25%|██▌       | 15/60 [00:00<00:00, 148.01it/s]"
     ]
    },
    {
     "name": "stderr",
     "output_type": "stream",
     "text": [
      "2025/09/10 15:26:11 WARNING dspy.predict.predict: Not all input fields were provided to module. Present: ['outputs']. Missing: ['expectations'].\n"
     ]
    },
    {
     "name": "stdout",
     "output_type": "stream",
     "text": [
      "Processed 17 / 60 examples:  27%|██▋       | 16/60 [00:00<00:00, 148.01it/s]"
     ]
    },
    {
     "name": "stderr",
     "output_type": "stream",
     "text": [
      "2025/09/10 15:26:11 WARNING dspy.predict.predict: Not all input fields were provided to module. Present: ['outputs']. Missing: ['expectations'].\n"
     ]
    },
    {
     "name": "stdout",
     "output_type": "stream",
     "text": [
      "Processed 18 / 60 examples:  28%|██▊       | 17/60 [00:00<00:00, 148.01it/s]"
     ]
    },
    {
     "name": "stderr",
     "output_type": "stream",
     "text": [
      "2025/09/10 15:26:12 WARNING dspy.predict.predict: Not all input fields were provided to module. Present: ['outputs']. Missing: ['expectations'].\n"
     ]
    },
    {
     "name": "stdout",
     "output_type": "stream",
     "text": [
      "Processed 20 / 60 examples:  32%|███▏      | 19/60 [00:00<00:00, 148.01it/s]"
     ]
    },
    {
     "name": "stderr",
     "output_type": "stream",
     "text": [
      "2025/09/10 15:26:12 WARNING dspy.predict.predict: Not all input fields were provided to module. Present: ['outputs']. Missing: ['expectations'].\n",
      "2025/09/10 15:26:12 WARNING dspy.predict.predict: Not all input fields were provided to module. Present: ['outputs']. Missing: ['expectations'].\n"
     ]
    },
    {
     "name": "stdout",
     "output_type": "stream",
     "text": [
      "Processed 22 / 60 examples:  35%|███▌      | 21/60 [00:00<00:00, 148.01it/s]"
     ]
    },
    {
     "name": "stderr",
     "output_type": "stream",
     "text": [
      "2025/09/10 15:26:12 WARNING dspy.predict.predict: Not all input fields were provided to module. Present: ['outputs']. Missing: ['expectations'].\n",
      "2025/09/10 15:26:12 WARNING dspy.predict.predict: Not all input fields were provided to module. Present: ['outputs']. Missing: ['expectations'].\n"
     ]
    },
    {
     "name": "stdout",
     "output_type": "stream",
     "text": [
      "Processed 23 / 60 examples:  37%|███▋      | 22/60 [00:00<00:00, 148.01it/s]"
     ]
    },
    {
     "name": "stderr",
     "output_type": "stream",
     "text": [
      "2025/09/10 15:26:12 WARNING dspy.predict.predict: Not all input fields were provided to module. Present: ['outputs']. Missing: ['expectations'].\n"
     ]
    },
    {
     "name": "stdout",
     "output_type": "stream",
     "text": [
      "Processed 24 / 60 examples:  38%|███▊      | 23/60 [00:00<00:00, 148.01it/s]"
     ]
    },
    {
     "name": "stderr",
     "output_type": "stream",
     "text": [
      "2025/09/10 15:26:12 WARNING dspy.predict.predict: Not all input fields were provided to module. Present: ['outputs']. Missing: ['expectations'].\n"
     ]
    },
    {
     "name": "stdout",
     "output_type": "stream",
     "text": [
      "Processed 25 / 60 examples:  40%|████      | 24/60 [00:00<00:00, 148.01it/s]"
     ]
    },
    {
     "name": "stderr",
     "output_type": "stream",
     "text": [
      "2025/09/10 15:26:12 WARNING dspy.predict.predict: Not all input fields were provided to module. Present: ['outputs']. Missing: ['expectations'].\n"
     ]
    },
    {
     "name": "stdout",
     "output_type": "stream",
     "text": [
      "Processed 26 / 60 examples:  42%|████▏     | 25/60 [00:00<00:00, 148.01it/s]"
     ]
    },
    {
     "name": "stderr",
     "output_type": "stream",
     "text": [
      "2025/09/10 15:26:12 WARNING dspy.predict.predict: Not all input fields were provided to module. Present: ['outputs']. Missing: ['expectations'].\n"
     ]
    },
    {
     "name": "stdout",
     "output_type": "stream",
     "text": [
      "Processed 27 / 60 examples:  43%|████▎     | 26/60 [00:00<00:00, 148.01it/s]"
     ]
    },
    {
     "name": "stderr",
     "output_type": "stream",
     "text": [
      "2025/09/10 15:26:12 WARNING dspy.predict.predict: Not all input fields were provided to module. Present: ['outputs']. Missing: ['expectations'].\n"
     ]
    },
    {
     "name": "stdout",
     "output_type": "stream",
     "text": [
      "Processed 28 / 60 examples:  45%|████▌     | 27/60 [00:00<00:00, 148.01it/s]"
     ]
    },
    {
     "name": "stderr",
     "output_type": "stream",
     "text": [
      "2025/09/10 15:26:12 WARNING dspy.predict.predict: Not all input fields were provided to module. Present: ['outputs']. Missing: ['expectations'].\n"
     ]
    },
    {
     "name": "stdout",
     "output_type": "stream",
     "text": [
      "Processed 29 / 60 examples:  47%|████▋     | 28/60 [00:00<00:00, 148.01it/s]"
     ]
    },
    {
     "name": "stderr",
     "output_type": "stream",
     "text": [
      "2025/09/10 15:26:12 WARNING dspy.predict.predict: Not all input fields were provided to module. Present: ['outputs']. Missing: ['expectations'].\n"
     ]
    },
    {
     "name": "stdout",
     "output_type": "stream",
     "text": [
      "Processed 30 / 60 examples:  48%|████▊     | 29/60 [00:00<00:00, 148.01it/s]"
     ]
    },
    {
     "name": "stderr",
     "output_type": "stream",
     "text": [
      "2025/09/10 15:26:12 WARNING dspy.predict.predict: Not all input fields were provided to module. Present: ['outputs']. Missing: ['expectations'].\n"
     ]
    },
    {
     "name": "stdout",
     "output_type": "stream",
     "text": [
      "Processed 31 / 60 examples:  50%|█████     | 30/60 [00:00<00:00, 148.01it/s]"
     ]
    },
    {
     "name": "stderr",
     "output_type": "stream",
     "text": [
      "2025/09/10 15:26:12 WARNING dspy.predict.predict: Not all input fields were provided to module. Present: ['outputs']. Missing: ['expectations'].\n"
     ]
    },
    {
     "name": "stdout",
     "output_type": "stream",
     "text": [
      "Processed 32 / 60 examples:  52%|█████▏    | 31/60 [00:00<00:00, 148.01it/s]"
     ]
    },
    {
     "name": "stderr",
     "output_type": "stream",
     "text": [
      "2025/09/10 15:26:12 WARNING dspy.predict.predict: Not all input fields were provided to module. Present: ['outputs']. Missing: ['expectations'].\n"
     ]
    },
    {
     "name": "stdout",
     "output_type": "stream",
     "text": [
      "Processed 33 / 60 examples:  53%|█████▎    | 32/60 [00:00<00:00, 148.01it/s]"
     ]
    },
    {
     "name": "stderr",
     "output_type": "stream",
     "text": [
      "2025/09/10 15:26:12 WARNING dspy.predict.predict: Not all input fields were provided to module. Present: ['outputs']. Missing: ['expectations'].\n",
      "2025/09/10 15:26:12 WARNING dspy.predict.predict: Not all input fields were provided to module. Present: ['outputs']. Missing: ['expectations'].\n"
     ]
    },
    {
     "name": "stdout",
     "output_type": "stream",
     "text": [
      "Processed 34 / 60 examples:  55%|█████▌    | 33/60 [00:00<00:00, 144.44it/s]"
     ]
    },
    {
     "name": "stderr",
     "output_type": "stream",
     "text": [
      "2025/09/10 15:26:12 WARNING dspy.predict.predict: Not all input fields were provided to module. Present: ['outputs']. Missing: ['expectations'].\n"
     ]
    },
    {
     "name": "stdout",
     "output_type": "stream",
     "text": [
      "Processed 35 / 60 examples:  57%|█████▋    | 34/60 [00:00<00:00, 144.44it/s]"
     ]
    },
    {
     "name": "stderr",
     "output_type": "stream",
     "text": [
      "2025/09/10 15:26:12 WARNING dspy.predict.predict: Not all input fields were provided to module. Present: ['outputs']. Missing: ['expectations'].\n"
     ]
    },
    {
     "name": "stdout",
     "output_type": "stream",
     "text": [
      "Processed 36 / 60 examples:  58%|█████▊    | 35/60 [00:00<00:00, 144.44it/s]"
     ]
    },
    {
     "name": "stderr",
     "output_type": "stream",
     "text": [
      "2025/09/10 15:26:12 WARNING dspy.predict.predict: Not all input fields were provided to module. Present: ['outputs']. Missing: ['expectations'].\n",
      "2025/09/10 15:26:12 WARNING dspy.predict.predict: Not all input fields were provided to module. Present: ['outputs']. Missing: ['expectations'].\n"
     ]
    },
    {
     "name": "stdout",
     "output_type": "stream",
     "text": [
      "Processed 37 / 60 examples:  60%|██████    | 36/60 [00:00<00:00, 144.44it/s]"
     ]
    },
    {
     "name": "stderr",
     "output_type": "stream",
     "text": [
      "2025/09/10 15:26:12 WARNING dspy.predict.predict: Not all input fields were provided to module. Present: ['outputs']. Missing: ['expectations'].\n"
     ]
    },
    {
     "name": "stdout",
     "output_type": "stream",
     "text": [
      "Processed 38 / 60 examples:  62%|██████▏   | 37/60 [00:00<00:00, 144.44it/s]"
     ]
    },
    {
     "name": "stderr",
     "output_type": "stream",
     "text": [
      "2025/09/10 15:26:12 WARNING dspy.predict.predict: Not all input fields were provided to module. Present: ['outputs']. Missing: ['expectations'].\n"
     ]
    },
    {
     "name": "stdout",
     "output_type": "stream",
     "text": [
      "Processed 41 / 60 examples:  67%|██████▋   | 40/60 [00:00<00:00, 144.44it/s]"
     ]
    },
    {
     "name": "stderr",
     "output_type": "stream",
     "text": [
      "2025/09/10 15:26:12 WARNING dspy.predict.predict: Not all input fields were provided to module. Present: ['outputs']. Missing: ['expectations'].\n"
     ]
    },
    {
     "name": "stdout",
     "output_type": "stream",
     "text": [
      "Processed 42 / 60 examples:  68%|██████▊   | 41/60 [00:00<00:00, 144.44it/s]"
     ]
    },
    {
     "name": "stderr",
     "output_type": "stream",
     "text": [
      "2025/09/10 15:26:12 WARNING dspy.predict.predict: Not all input fields were provided to module. Present: ['outputs']. Missing: ['expectations'].\n",
      "2025/09/10 15:26:12 WARNING dspy.predict.predict: Not all input fields were provided to module. Present: ['outputs']. Missing: ['expectations'].\n"
     ]
    },
    {
     "name": "stdout",
     "output_type": "stream",
     "text": [
      "Processed 44 / 60 examples:  72%|███████▏  | 43/60 [00:00<00:00, 144.44it/s]"
     ]
    },
    {
     "name": "stderr",
     "output_type": "stream",
     "text": [
      "2025/09/10 15:26:12 WARNING dspy.predict.predict: Not all input fields were provided to module. Present: ['outputs']. Missing: ['expectations'].\n"
     ]
    },
    {
     "name": "stdout",
     "output_type": "stream",
     "text": [
      "Processed 46 / 60 examples:  75%|███████▌  | 45/60 [00:00<00:00, 144.44it/s]"
     ]
    },
    {
     "name": "stderr",
     "output_type": "stream",
     "text": [
      "2025/09/10 15:26:12 WARNING dspy.predict.predict: Not all input fields were provided to module. Present: ['outputs']. Missing: ['expectations'].\n"
     ]
    },
    {
     "name": "stdout",
     "output_type": "stream",
     "text": [
      "Processed 47 / 60 examples:  77%|███████▋  | 46/60 [00:00<00:00, 144.44it/s]"
     ]
    },
    {
     "name": "stderr",
     "output_type": "stream",
     "text": [
      "2025/09/10 15:26:12 WARNING dspy.predict.predict: Not all input fields were provided to module. Present: ['outputs']. Missing: ['expectations'].\n",
      "2025/09/10 15:26:12 WARNING dspy.predict.predict: Not all input fields were provided to module. Present: ['outputs']. Missing: ['expectations'].\n"
     ]
    },
    {
     "name": "stdout",
     "output_type": "stream",
     "text": [
      "Processed 48 / 60 examples:  78%|███████▊  | 47/60 [00:00<00:00, 144.44it/s]"
     ]
    },
    {
     "name": "stderr",
     "output_type": "stream",
     "text": [
      "2025/09/10 15:26:12 WARNING dspy.predict.predict: Not all input fields were provided to module. Present: ['outputs']. Missing: ['expectations'].\n"
     ]
    },
    {
     "name": "stdout",
     "output_type": "stream",
     "text": [
      "Processed 49 / 60 examples:  80%|████████  | 48/60 [00:00<00:00, 144.44it/s]"
     ]
    },
    {
     "name": "stderr",
     "output_type": "stream",
     "text": [
      "2025/09/10 15:26:12 WARNING dspy.predict.predict: Not all input fields were provided to module. Present: ['outputs']. Missing: ['expectations'].\n"
     ]
    },
    {
     "name": "stdout",
     "output_type": "stream",
     "text": [
      "Processed 50 / 60 examples:  82%|████████▏ | 49/60 [00:00<00:00, 144.44it/s]"
     ]
    },
    {
     "name": "stderr",
     "output_type": "stream",
     "text": [
      "2025/09/10 15:26:12 WARNING dspy.predict.predict: Not all input fields were provided to module. Present: ['outputs']. Missing: ['expectations'].\n"
     ]
    },
    {
     "name": "stdout",
     "output_type": "stream",
     "text": [
      "Processed 52 / 60 examples:  85%|████████▌ | 51/60 [00:00<00:00, 144.44it/s]"
     ]
    },
    {
     "name": "stderr",
     "output_type": "stream",
     "text": [
      "2025/09/10 15:26:12 WARNING dspy.predict.predict: Not all input fields were provided to module. Present: ['outputs']. Missing: ['expectations'].\n",
      "2025/09/10 15:26:12 WARNING dspy.predict.predict: Not all input fields were provided to module. Present: ['outputs']. Missing: ['expectations'].\n"
     ]
    },
    {
     "name": "stdout",
     "output_type": "stream",
     "text": [
      "Processed 53 / 60 examples:  87%|████████▋ | 52/60 [00:00<00:00, 144.44it/s]"
     ]
    },
    {
     "name": "stderr",
     "output_type": "stream",
     "text": [
      "2025/09/10 15:26:12 WARNING dspy.predict.predict: Not all input fields were provided to module. Present: ['outputs']. Missing: ['expectations'].\n"
     ]
    },
    {
     "name": "stdout",
     "output_type": "stream",
     "text": [
      "Processed 54 / 60 examples:  88%|████████▊ | 53/60 [00:00<00:00, 144.44it/s]"
     ]
    },
    {
     "name": "stderr",
     "output_type": "stream",
     "text": [
      "2025/09/10 15:26:12 WARNING dspy.predict.predict: Not all input fields were provided to module. Present: ['outputs']. Missing: ['expectations'].\n"
     ]
    },
    {
     "name": "stdout",
     "output_type": "stream",
     "text": [
      "Processed 56 / 60 examples:  92%|█████████▏| 55/60 [00:00<00:00, 144.44it/s]"
     ]
    },
    {
     "name": "stderr",
     "output_type": "stream",
     "text": [
      "2025/09/10 15:26:12 WARNING dspy.predict.predict: Not all input fields were provided to module. Present: ['outputs']. Missing: ['expectations'].\n",
      "2025/09/10 15:26:12 WARNING dspy.predict.predict: Not all input fields were provided to module. Present: ['outputs']. Missing: ['expectations'].\n"
     ]
    },
    {
     "name": "stdout",
     "output_type": "stream",
     "text": [
      "Processed 58 / 60 examples:  95%|█████████▌| 57/60 [00:00<00:00, 144.44it/s]"
     ]
    },
    {
     "name": "stderr",
     "output_type": "stream",
     "text": [
      "2025/09/10 15:26:12 WARNING dspy.predict.predict: Not all input fields were provided to module. Present: ['outputs']. Missing: ['expectations'].\n"
     ]
    },
    {
     "name": "stdout",
     "output_type": "stream",
     "text": [
      "Processed 59 / 60 examples:  97%|█████████▋| 58/60 [00:00<00:00, 144.44it/s]"
     ]
    },
    {
     "name": "stderr",
     "output_type": "stream",
     "text": [
      "2025/09/10 15:26:12 WARNING dspy.predict.predict: Not all input fields were provided to module. Present: ['outputs']. Missing: ['expectations'].\n"
     ]
    },
    {
     "name": "stdout",
     "output_type": "stream",
     "text": [
      "Processed 60 / 60 examples: 100%|██████████| 60/60 [00:00<00:00, 214.03it/s]"
     ]
    },
    {
     "name": "stderr",
     "output_type": "stream",
     "text": [
      "2025/09/10 15:26:12 INFO dspy.teleprompt.simba: Batch 7: Baseline mini-batch score: 0.0\n",
      "\n",
      "2025/09/10 15:26:12 INFO dspy.teleprompt.simba: Batch 7: Processing bucket #1, with max score 0.0, max-to-min gap 0.0, and max-to-avg gap 0.0.\n",
      "2025/09/10 15:26:12 INFO dspy.teleprompt.simba: Batch 7: Invoking strategy: append_a_rule\n"
     ]
    },
    {
     "name": "stdout",
     "output_type": "stream",
     "text": [
      "\n"
     ]
    },
    {
     "name": "stderr",
     "output_type": "stream",
     "text": [
      "2025/09/10 15:26:16 INFO dspy.teleprompt.simba_utils: Advice for self: If the module receives an output that appears comprehensive and detailed but may contain subtle inaccuracies or incomplete coverage of the expected concepts, then it should carefully verify the factual correctness and completeness against the expectations. It should avoid giving the highest score unless the output fully matches the expected answer in both content and depth. The rationale should explicitly mention any minor gaps or strengths to justify the score, ensuring the evaluation is balanced and aligned with the true quality of the response.\n",
      "2025/09/10 15:26:16 INFO dspy.teleprompt.simba: \n",
      "\n",
      "2025/09/10 15:26:16 INFO dspy.teleprompt.simba: Batch 7: Processing bucket #2, with max score 0.0, max-to-min gap 0.0, and max-to-avg gap 0.0.\n",
      "2025/09/10 15:26:16 INFO dspy.teleprompt.simba: Batch 7: Invoking strategy: append_a_rule\n",
      "2025/09/10 15:26:21 INFO dspy.teleprompt.simba_utils: Advice for self: If the module receives detailed output text that covers multiple key aspects of the expected answer, it should continue to carefully identify and highlight these key points in its rationale to justify a high accuracy score. It should ensure the rationale is thorough and clearly explains why the output matches the expectations closely, emphasizing completeness and relevance. Avoid underestimating the quality of comprehensive responses by providing a rationale that reflects the depth and accuracy of the output.\n",
      "2025/09/10 15:26:21 INFO dspy.teleprompt.simba: \n",
      "\n",
      "2025/09/10 15:26:21 INFO dspy.teleprompt.simba: Batch 7: Processing bucket #3, with max score 0.0, max-to-min gap 0.0, and max-to-avg gap 0.0.\n",
      "2025/09/10 15:26:21 INFO dspy.teleprompt.simba: Batch 7: Invoking strategy: append_a_rule\n",
      "2025/09/10 15:26:25 INFO dspy.teleprompt.simba_utils: Advice for self: If the module receives an output and expected answer that are mostly aligned but the output is truncated or incomplete at the end, then it should carefully assess whether the missing portion significantly impacts the overall completeness and accuracy. It should avoid overly penalizing minor cutoffs if the core content is accurate and comprehensive, and instead provide a nuanced rationale that highlights both strengths and any missing details. This balanced approach will help assign scores that better reflect the true quality of the response, avoiding under-scoring responses that are technically sound but slightly incomplete.\n",
      "2025/09/10 15:26:25 INFO dspy.teleprompt.simba: \n",
      "\n",
      "2025/09/10 15:26:25 INFO dspy.teleprompt.simba: Batch 7: Processing bucket #4, with max score 0.0, max-to-min gap 0.0, and max-to-avg gap 0.0.\n",
      "2025/09/10 15:26:25 INFO dspy.teleprompt.simba: Batch 7: Invoking strategy: append_a_rule\n",
      "2025/09/10 15:26:28 INFO dspy.teleprompt.simba_utils: Advice for self: If the module receives a detailed output describing the benefits or steps of a technology like training a neural network, then it should carefully assess the completeness and accuracy of the information. It should provide a clear, structured rationale that highlights all key points and nuances, explicitly mentioning any minor gaps or strengths. The score should reflect the comprehensiveness and correctness of the response, favoring higher scores when the response fully meets expectations.\n",
      "2025/09/10 15:26:28 INFO dspy.teleprompt.simba: \n",
      "\n",
      "2025/09/10 15:26:28 INFO dspy.teleprompt.simba: Batch 7: Processing bucket #5, with max score 0.0, max-to-min gap 0.0, and max-to-avg gap 0.0.\n",
      "2025/09/10 15:26:28 INFO dspy.teleprompt.simba: Batch 7: Invoking strategy: append_a_rule\n",
      "2025/09/10 15:26:31 INFO dspy.teleprompt.simba_utils: Advice for self: If the module receives detailed output text that comprehensively covers multiple key aspects of the expected answer, it should continue to provide a thorough and clear rationale that highlights these key points to justify a high accuracy score. It should ensure the rationale emphasizes completeness, relevance, and clarity, reflecting the depth and accuracy of the output to avoid underestimating the quality of comprehensive responses.\n",
      "2025/09/10 15:26:31 INFO dspy.teleprompt.simba: \n",
      "\n",
      "2025/09/10 15:26:31 INFO dspy.teleprompt.simba: Batch 7: Processing bucket #6, with max score 0.0, max-to-min gap 0.0, and max-to-avg gap 0.0.\n",
      "2025/09/10 15:26:31 INFO dspy.teleprompt.simba: Batch 7: Invoking strategy: append_a_rule, having dropped 1 demos per predictor\n",
      "2025/09/10 15:26:35 INFO dspy.teleprompt.simba_utils: Advice for self: If the module receives an output that is mostly accurate and informative but ends abruptly or is incomplete, then it should assign a score reflecting partial completeness (e.g., 4 instead of 5) and provide a rationale that explicitly mentions the incompleteness or abrupt ending as the reason for not giving a perfect score. This ensures the evaluation is fair and highlights areas for improvement in the output generation.\n",
      "2025/09/10 15:26:35 INFO dspy.teleprompt.simba: \n",
      "\n",
      "2025/09/10 15:26:35 INFO dspy.teleprompt.simba: Batch 7: Processing bucket #7, with max score 0.0, max-to-min gap 0.0, and max-to-avg gap 0.0.\n",
      "2025/09/10 15:26:35 INFO dspy.teleprompt.simba: Batch 7: Invoking strategy: append_a_demo_\n",
      "2025/09/10 15:26:35 INFO dspy.teleprompt.simba_utils: Added 1 demos (one each) across all predictors.\n",
      "2025/09/10 15:26:35 INFO dspy.teleprompt.simba: \n",
      "\n",
      "2025/09/10 15:26:35 INFO dspy.teleprompt.simba: Batch 7: Evaluating 7 programs on 10 examples.\n",
      "2025/09/10 15:26:35 WARNING dspy.predict.predict: Not all input fields were provided to module. Present: ['outputs']. Missing: ['expectations'].\n",
      "2025/09/10 15:26:35 WARNING dspy.predict.predict: Not all input fields were provided to module. Present: ['outputs']. Missing: ['expectations'].\n"
     ]
    },
    {
     "name": "stdout",
     "output_type": "stream",
     "text": [
      "  0%|          | 0/70 [00:00<?, ?it/s]"
     ]
    },
    {
     "name": "stderr",
     "output_type": "stream",
     "text": [
      "2025/09/10 15:26:35 WARNING dspy.predict.predict: Not all input fields were provided to module. Present: ['outputs']. Missing: ['expectations'].\n",
      "2025/09/10 15:26:35 WARNING dspy.predict.predict: Not all input fields were provided to module. Present: ['outputs']. Missing: ['expectations'].\n",
      "2025/09/10 15:26:35 WARNING dspy.predict.predict: Not all input fields were provided to module. Present: ['outputs']. Missing: ['expectations'].\n",
      "2025/09/10 15:26:35 WARNING dspy.predict.predict: Not all input fields were provided to module. Present: ['outputs']. Missing: ['expectations'].\n",
      "2025/09/10 15:26:35 WARNING dspy.predict.predict: Not all input fields were provided to module. Present: ['outputs']. Missing: ['expectations'].\n",
      "2025/09/10 15:26:35 WARNING dspy.predict.predict: Not all input fields were provided to module. Present: ['outputs']. Missing: ['expectations'].\n"
     ]
    },
    {
     "name": "stdout",
     "output_type": "stream",
     "text": [
      "Processed 1 / 70 examples:   1%|▏         | 1/70 [00:01<01:46,  1.54s/it]"
     ]
    },
    {
     "name": "stderr",
     "output_type": "stream",
     "text": [
      "2025/09/10 15:26:36 WARNING dspy.predict.predict: Not all input fields were provided to module. Present: ['outputs']. Missing: ['expectations'].\n"
     ]
    },
    {
     "name": "stdout",
     "output_type": "stream",
     "text": [
      "Processed 2 / 70 examples:   3%|▎         | 2/70 [00:01<00:55,  1.22it/s]"
     ]
    },
    {
     "name": "stderr",
     "output_type": "stream",
     "text": [
      "2025/09/10 15:26:37 WARNING dspy.predict.predict: Not all input fields were provided to module. Present: ['outputs']. Missing: ['expectations'].\n"
     ]
    },
    {
     "name": "stdout",
     "output_type": "stream",
     "text": [
      "Processed 3 / 70 examples:   3%|▎         | 2/70 [00:01<00:55,  1.22it/s]"
     ]
    },
    {
     "name": "stderr",
     "output_type": "stream",
     "text": [
      "2025/09/10 15:26:37 WARNING dspy.predict.predict: Not all input fields were provided to module. Present: ['outputs']. Missing: ['expectations'].\n"
     ]
    },
    {
     "name": "stdout",
     "output_type": "stream",
     "text": [
      "Processed 4 / 70 examples:   6%|▌         | 4/70 [00:02<00:26,  2.51it/s]"
     ]
    },
    {
     "name": "stderr",
     "output_type": "stream",
     "text": [
      "2025/09/10 15:26:37 WARNING dspy.predict.predict: Not all input fields were provided to module. Present: ['outputs']. Missing: ['expectations'].\n"
     ]
    },
    {
     "name": "stdout",
     "output_type": "stream",
     "text": [
      "Processed 5 / 70 examples:   7%|▋         | 5/70 [00:02<00:19,  3.25it/s]"
     ]
    },
    {
     "name": "stderr",
     "output_type": "stream",
     "text": [
      "2025/09/10 15:26:37 WARNING dspy.predict.predict: Not all input fields were provided to module. Present: ['outputs']. Missing: ['expectations'].\n"
     ]
    },
    {
     "name": "stdout",
     "output_type": "stream",
     "text": [
      "Processed 6 / 70 examples:   9%|▊         | 6/70 [00:02<00:16,  3.78it/s]"
     ]
    },
    {
     "name": "stderr",
     "output_type": "stream",
     "text": [
      "2025/09/10 15:26:37 WARNING dspy.predict.predict: Not all input fields were provided to module. Present: ['outputs']. Missing: ['expectations'].\n"
     ]
    },
    {
     "name": "stdout",
     "output_type": "stream",
     "text": [
      "Processed 7 / 70 examples:   9%|▊         | 6/70 [00:02<00:16,  3.78it/s]"
     ]
    },
    {
     "name": "stderr",
     "output_type": "stream",
     "text": [
      "2025/09/10 15:26:37 WARNING dspy.predict.predict: Not all input fields were provided to module. Present: ['outputs']. Missing: ['expectations'].\n"
     ]
    },
    {
     "name": "stdout",
     "output_type": "stream",
     "text": [
      "Processed 8 / 70 examples:  11%|█▏        | 8/70 [00:03<00:19,  3.18it/s]"
     ]
    },
    {
     "name": "stderr",
     "output_type": "stream",
     "text": [
      "2025/09/10 15:26:38 WARNING dspy.predict.predict: Not all input fields were provided to module. Present: ['outputs']. Missing: ['expectations'].\n"
     ]
    },
    {
     "name": "stdout",
     "output_type": "stream",
     "text": [
      "Processed 9 / 70 examples:  13%|█▎        | 9/70 [00:03<00:22,  2.70it/s]"
     ]
    },
    {
     "name": "stderr",
     "output_type": "stream",
     "text": [
      "2025/09/10 15:26:38 WARNING dspy.predict.predict: Not all input fields were provided to module. Present: ['outputs']. Missing: ['expectations'].\n"
     ]
    },
    {
     "name": "stdout",
     "output_type": "stream",
     "text": [
      "Processed 10 / 70 examples:  13%|█▎        | 9/70 [00:03<00:22,  2.70it/s]"
     ]
    },
    {
     "name": "stderr",
     "output_type": "stream",
     "text": [
      "2025/09/10 15:26:38 WARNING dspy.predict.predict: Not all input fields were provided to module. Present: ['outputs']. Missing: ['expectations'].\n"
     ]
    },
    {
     "name": "stdout",
     "output_type": "stream",
     "text": [
      "Processed 11 / 70 examples:  16%|█▌        | 11/70 [00:04<00:19,  2.99it/s]"
     ]
    },
    {
     "name": "stderr",
     "output_type": "stream",
     "text": [
      "2025/09/10 15:26:39 WARNING dspy.predict.predict: Not all input fields were provided to module. Present: ['outputs']. Missing: ['expectations'].\n"
     ]
    },
    {
     "name": "stdout",
     "output_type": "stream",
     "text": [
      "Processed 12 / 70 examples:  17%|█▋        | 12/70 [00:04<00:16,  3.44it/s]"
     ]
    },
    {
     "name": "stderr",
     "output_type": "stream",
     "text": [
      "2025/09/10 15:26:39 WARNING dspy.predict.predict: Not all input fields were provided to module. Present: ['outputs']. Missing: ['expectations'].\n"
     ]
    },
    {
     "name": "stdout",
     "output_type": "stream",
     "text": [
      "Processed 14 / 70 examples:  19%|█▊        | 13/70 [00:04<00:17,  3.28it/s]"
     ]
    },
    {
     "name": "stderr",
     "output_type": "stream",
     "text": [
      "2025/09/10 15:26:40 WARNING dspy.predict.predict: Not all input fields were provided to module. Present: ['outputs']. Missing: ['expectations'].\n",
      "2025/09/10 15:26:40 WARNING dspy.predict.predict: Not all input fields were provided to module. Present: ['outputs']. Missing: ['expectations'].\n"
     ]
    },
    {
     "name": "stdout",
     "output_type": "stream",
     "text": [
      "Processed 15 / 70 examples:  20%|██        | 14/70 [00:04<00:17,  3.28it/s]"
     ]
    },
    {
     "name": "stderr",
     "output_type": "stream",
     "text": [
      "2025/09/10 15:26:40 WARNING dspy.predict.predict: Not all input fields were provided to module. Present: ['outputs']. Missing: ['expectations'].\n"
     ]
    },
    {
     "name": "stdout",
     "output_type": "stream",
     "text": [
      "Processed 16 / 70 examples:  23%|██▎       | 16/70 [00:05<00:16,  3.26it/s]"
     ]
    },
    {
     "name": "stderr",
     "output_type": "stream",
     "text": [
      "2025/09/10 15:26:40 WARNING dspy.predict.predict: Not all input fields were provided to module. Present: ['outputs']. Missing: ['expectations'].\n"
     ]
    },
    {
     "name": "stdout",
     "output_type": "stream",
     "text": [
      "Processed 17 / 70 examples:  24%|██▍       | 17/70 [00:06<00:18,  2.84it/s]"
     ]
    },
    {
     "name": "stderr",
     "output_type": "stream",
     "text": [
      "2025/09/10 15:26:41 WARNING dspy.predict.predict: Not all input fields were provided to module. Present: ['outputs']. Missing: ['expectations'].\n"
     ]
    },
    {
     "name": "stdout",
     "output_type": "stream",
     "text": [
      "Processed 18 / 70 examples:  26%|██▌       | 18/70 [00:06<00:16,  3.07it/s]"
     ]
    },
    {
     "name": "stderr",
     "output_type": "stream",
     "text": [
      "2025/09/10 15:26:41 WARNING dspy.predict.predict: Not all input fields were provided to module. Present: ['outputs']. Missing: ['expectations'].\n"
     ]
    },
    {
     "name": "stdout",
     "output_type": "stream",
     "text": [
      "Processed 19 / 70 examples:  27%|██▋       | 19/70 [00:07<00:19,  2.65it/s]"
     ]
    },
    {
     "name": "stderr",
     "output_type": "stream",
     "text": [
      "2025/09/10 15:26:42 WARNING dspy.predict.predict: Not all input fields were provided to module. Present: ['outputs']. Missing: ['expectations'].\n"
     ]
    },
    {
     "name": "stdout",
     "output_type": "stream",
     "text": [
      "Processed 20 / 70 examples:  29%|██▊       | 20/70 [00:07<00:16,  3.07it/s]"
     ]
    },
    {
     "name": "stderr",
     "output_type": "stream",
     "text": [
      "2025/09/10 15:26:42 WARNING dspy.predict.predict: Not all input fields were provided to module. Present: ['outputs']. Missing: ['expectations'].\n"
     ]
    },
    {
     "name": "stdout",
     "output_type": "stream",
     "text": [
      "Processed 21 / 70 examples:  30%|███       | 21/70 [00:07<00:13,  3.60it/s]"
     ]
    },
    {
     "name": "stderr",
     "output_type": "stream",
     "text": [
      "2025/09/10 15:26:42 WARNING dspy.predict.predict: Not all input fields were provided to module. Present: ['outputs']. Missing: ['expectations'].\n"
     ]
    },
    {
     "name": "stdout",
     "output_type": "stream",
     "text": [
      "Processed 22 / 70 examples:  31%|███▏      | 22/70 [00:07<00:11,  4.19it/s]"
     ]
    },
    {
     "name": "stderr",
     "output_type": "stream",
     "text": [
      "2025/09/10 15:26:42 WARNING dspy.predict.predict: Not all input fields were provided to module. Present: ['outputs']. Missing: ['expectations'].\n"
     ]
    },
    {
     "name": "stdout",
     "output_type": "stream",
     "text": [
      "Processed 23 / 70 examples:  33%|███▎      | 23/70 [00:07<00:09,  4.76it/s]"
     ]
    },
    {
     "name": "stderr",
     "output_type": "stream",
     "text": [
      "2025/09/10 15:26:42 WARNING dspy.predict.predict: Not all input fields were provided to module. Present: ['outputs']. Missing: ['expectations'].\n"
     ]
    },
    {
     "name": "stdout",
     "output_type": "stream",
     "text": [
      "Processed 24 / 70 examples:  34%|███▍      | 24/70 [00:07<00:12,  3.77it/s]"
     ]
    },
    {
     "name": "stderr",
     "output_type": "stream",
     "text": [
      "2025/09/10 15:26:43 WARNING dspy.predict.predict: Not all input fields were provided to module. Present: ['outputs']. Missing: ['expectations'].\n"
     ]
    },
    {
     "name": "stdout",
     "output_type": "stream",
     "text": [
      "Processed 25 / 70 examples:  36%|███▌      | 25/70 [00:08<00:17,  2.62it/s]"
     ]
    },
    {
     "name": "stderr",
     "output_type": "stream",
     "text": [
      "2025/09/10 15:26:43 WARNING dspy.predict.predict: Not all input fields were provided to module. Present: ['outputs']. Missing: ['expectations'].\n"
     ]
    },
    {
     "name": "stdout",
     "output_type": "stream",
     "text": [
      "Processed 26 / 70 examples:  36%|███▌      | 25/70 [00:08<00:17,  2.62it/s]"
     ]
    },
    {
     "name": "stderr",
     "output_type": "stream",
     "text": [
      "2025/09/10 15:26:43 WARNING dspy.predict.predict: Not all input fields were provided to module. Present: ['outputs']. Missing: ['expectations'].\n"
     ]
    },
    {
     "name": "stdout",
     "output_type": "stream",
     "text": [
      "Processed 27 / 70 examples:  39%|███▊      | 27/70 [00:08<00:11,  3.82it/s]"
     ]
    },
    {
     "name": "stderr",
     "output_type": "stream",
     "text": [
      "2025/09/10 15:26:44 WARNING dspy.predict.predict: Not all input fields were provided to module. Present: ['outputs']. Missing: ['expectations'].\n"
     ]
    },
    {
     "name": "stdout",
     "output_type": "stream",
     "text": [
      "Processed 28 / 70 examples:  40%|████      | 28/70 [00:09<00:11,  3.60it/s]"
     ]
    },
    {
     "name": "stderr",
     "output_type": "stream",
     "text": [
      "2025/09/10 15:26:44 WARNING dspy.predict.predict: Not all input fields were provided to module. Present: ['outputs']. Missing: ['expectations'].\n"
     ]
    },
    {
     "name": "stdout",
     "output_type": "stream",
     "text": [
      "Processed 29 / 70 examples:  40%|████      | 28/70 [00:09<00:11,  3.60it/s]"
     ]
    },
    {
     "name": "stderr",
     "output_type": "stream",
     "text": [
      "2025/09/10 15:26:44 WARNING dspy.predict.predict: Not all input fields were provided to module. Present: ['outputs']. Missing: ['expectations'].\n"
     ]
    },
    {
     "name": "stdout",
     "output_type": "stream",
     "text": [
      "Processed 30 / 70 examples:  43%|████▎     | 30/70 [00:09<00:08,  4.54it/s]"
     ]
    },
    {
     "name": "stderr",
     "output_type": "stream",
     "text": [
      "2025/09/10 15:26:44 WARNING dspy.predict.predict: Not all input fields were provided to module. Present: ['outputs']. Missing: ['expectations'].\n"
     ]
    },
    {
     "name": "stdout",
     "output_type": "stream",
     "text": [
      "Processed 31 / 70 examples:  43%|████▎     | 30/70 [00:09<00:08,  4.54it/s]"
     ]
    },
    {
     "name": "stderr",
     "output_type": "stream",
     "text": [
      "2025/09/10 15:26:44 WARNING dspy.predict.predict: Not all input fields were provided to module. Present: ['outputs']. Missing: ['expectations'].\n"
     ]
    },
    {
     "name": "stdout",
     "output_type": "stream",
     "text": [
      "Processed 32 / 70 examples:  46%|████▌     | 32/70 [00:10<00:11,  3.23it/s]"
     ]
    },
    {
     "name": "stderr",
     "output_type": "stream",
     "text": [
      "2025/09/10 15:26:45 WARNING dspy.predict.predict: Not all input fields were provided to module. Present: ['outputs']. Missing: ['expectations'].\n"
     ]
    },
    {
     "name": "stdout",
     "output_type": "stream",
     "text": [
      "Processed 33 / 70 examples:  47%|████▋     | 33/70 [00:10<00:12,  2.91it/s]"
     ]
    },
    {
     "name": "stderr",
     "output_type": "stream",
     "text": [
      "2025/09/10 15:26:46 WARNING dspy.predict.predict: Not all input fields were provided to module. Present: ['outputs']. Missing: ['expectations'].\n"
     ]
    },
    {
     "name": "stdout",
     "output_type": "stream",
     "text": [
      "Processed 34 / 70 examples:  49%|████▊     | 34/70 [00:11<00:12,  2.99it/s]"
     ]
    },
    {
     "name": "stderr",
     "output_type": "stream",
     "text": [
      "2025/09/10 15:26:46 WARNING dspy.predict.predict: Not all input fields were provided to module. Present: ['outputs']. Missing: ['expectations'].\n"
     ]
    },
    {
     "name": "stdout",
     "output_type": "stream",
     "text": [
      "Processed 35 / 70 examples:  49%|████▊     | 34/70 [00:11<00:12,  2.99it/s]"
     ]
    },
    {
     "name": "stderr",
     "output_type": "stream",
     "text": [
      "2025/09/10 15:26:46 WARNING dspy.predict.predict: Not all input fields were provided to module. Present: ['outputs']. Missing: ['expectations'].\n"
     ]
    },
    {
     "name": "stdout",
     "output_type": "stream",
     "text": [
      "Processed 36 / 70 examples:  51%|█████▏    | 36/70 [00:11<00:09,  3.45it/s]"
     ]
    },
    {
     "name": "stderr",
     "output_type": "stream",
     "text": [
      "2025/09/10 15:26:46 WARNING dspy.predict.predict: Not all input fields were provided to module. Present: ['outputs']. Missing: ['expectations'].\n"
     ]
    },
    {
     "name": "stdout",
     "output_type": "stream",
     "text": [
      "Processed 37 / 70 examples:  51%|█████▏    | 36/70 [00:11<00:09,  3.45it/s]"
     ]
    },
    {
     "name": "stderr",
     "output_type": "stream",
     "text": [
      "2025/09/10 15:26:46 WARNING dspy.predict.predict: Not all input fields were provided to module. Present: ['outputs']. Missing: ['expectations'].\n"
     ]
    },
    {
     "name": "stdout",
     "output_type": "stream",
     "text": [
      "Processed 38 / 70 examples:  54%|█████▍    | 38/70 [00:11<00:06,  4.78it/s]"
     ]
    },
    {
     "name": "stderr",
     "output_type": "stream",
     "text": [
      "2025/09/10 15:26:47 WARNING dspy.predict.predict: Not all input fields were provided to module. Present: ['outputs']. Missing: ['expectations'].\n"
     ]
    },
    {
     "name": "stdout",
     "output_type": "stream",
     "text": [
      "Processed 39 / 70 examples:  56%|█████▌    | 39/70 [00:12<00:11,  2.69it/s]"
     ]
    },
    {
     "name": "stderr",
     "output_type": "stream",
     "text": [
      "2025/09/10 15:26:48 WARNING dspy.predict.predict: Not all input fields were provided to module. Present: ['outputs']. Missing: ['expectations'].\n"
     ]
    },
    {
     "name": "stdout",
     "output_type": "stream",
     "text": [
      "Processed 40 / 70 examples:  57%|█████▋    | 40/70 [00:13<00:14,  2.03it/s]"
     ]
    },
    {
     "name": "stderr",
     "output_type": "stream",
     "text": [
      "2025/09/10 15:26:48 WARNING dspy.predict.predict: Not all input fields were provided to module. Present: ['outputs']. Missing: ['expectations'].\n"
     ]
    },
    {
     "name": "stdout",
     "output_type": "stream",
     "text": [
      "Processed 43 / 70 examples:  60%|██████    | 42/70 [00:13<00:11,  2.50it/s]"
     ]
    },
    {
     "name": "stderr",
     "output_type": "stream",
     "text": [
      "2025/09/10 15:26:49 WARNING dspy.predict.predict: Not all input fields were provided to module. Present: ['outputs']. Missing: ['expectations'].\n",
      "2025/09/10 15:26:49 WARNING dspy.predict.predict: Not all input fields were provided to module. Present: ['outputs']. Missing: ['expectations'].\n",
      "2025/09/10 15:26:49 WARNING dspy.predict.predict: Not all input fields were provided to module. Present: ['outputs']. Missing: ['expectations'].\n"
     ]
    },
    {
     "name": "stdout",
     "output_type": "stream",
     "text": [
      "Processed 44 / 70 examples:  63%|██████▎   | 44/70 [00:14<00:07,  3.52it/s]"
     ]
    },
    {
     "name": "stderr",
     "output_type": "stream",
     "text": [
      "2025/09/10 15:26:49 WARNING dspy.predict.predict: Not all input fields were provided to module. Present: ['outputs']. Missing: ['expectations'].\n"
     ]
    },
    {
     "name": "stdout",
     "output_type": "stream",
     "text": [
      "Processed 45 / 70 examples:  64%|██████▍   | 45/70 [00:14<00:07,  3.47it/s]"
     ]
    },
    {
     "name": "stderr",
     "output_type": "stream",
     "text": [
      "2025/09/10 15:26:49 WARNING dspy.predict.predict: Not all input fields were provided to module. Present: ['outputs']. Missing: ['expectations'].\n"
     ]
    },
    {
     "name": "stdout",
     "output_type": "stream",
     "text": [
      "Processed 46 / 70 examples:  66%|██████▌   | 46/70 [00:14<00:06,  3.96it/s]"
     ]
    },
    {
     "name": "stderr",
     "output_type": "stream",
     "text": [
      "2025/09/10 15:26:49 WARNING dspy.predict.predict: Not all input fields were provided to module. Present: ['outputs']. Missing: ['expectations'].\n"
     ]
    },
    {
     "name": "stdout",
     "output_type": "stream",
     "text": [
      "Processed 47 / 70 examples:  67%|██████▋   | 47/70 [00:15<00:09,  2.30it/s]"
     ]
    },
    {
     "name": "stderr",
     "output_type": "stream",
     "text": [
      "2025/09/10 15:26:50 WARNING dspy.predict.predict: Not all input fields were provided to module. Present: ['outputs']. Missing: ['expectations'].\n"
     ]
    },
    {
     "name": "stdout",
     "output_type": "stream",
     "text": [
      "Processed 48 / 70 examples:  69%|██████▊   | 48/70 [00:16<00:09,  2.22it/s]"
     ]
    },
    {
     "name": "stderr",
     "output_type": "stream",
     "text": [
      "2025/09/10 15:26:51 WARNING dspy.predict.predict: Not all input fields were provided to module. Present: ['outputs']. Missing: ['expectations'].\n"
     ]
    },
    {
     "name": "stdout",
     "output_type": "stream",
     "text": [
      "Processed 49 / 70 examples:  70%|███████   | 49/70 [00:16<00:07,  2.64it/s]"
     ]
    },
    {
     "name": "stderr",
     "output_type": "stream",
     "text": [
      "2025/09/10 15:26:51 WARNING dspy.predict.predict: Not all input fields were provided to module. Present: ['outputs']. Missing: ['expectations'].\n"
     ]
    },
    {
     "name": "stdout",
     "output_type": "stream",
     "text": [
      "Processed 50 / 70 examples:  70%|███████   | 49/70 [00:16<00:07,  2.64it/s]"
     ]
    },
    {
     "name": "stderr",
     "output_type": "stream",
     "text": [
      "2025/09/10 15:26:51 WARNING dspy.predict.predict: Not all input fields were provided to module. Present: ['outputs']. Missing: ['expectations'].\n"
     ]
    },
    {
     "name": "stdout",
     "output_type": "stream",
     "text": [
      "Processed 51 / 70 examples:  73%|███████▎  | 51/70 [00:16<00:04,  3.87it/s]"
     ]
    },
    {
     "name": "stderr",
     "output_type": "stream",
     "text": [
      "2025/09/10 15:26:51 WARNING dspy.predict.predict: Not all input fields were provided to module. Present: ['outputs']. Missing: ['expectations'].\n"
     ]
    },
    {
     "name": "stdout",
     "output_type": "stream",
     "text": [
      "Processed 52 / 70 examples:  73%|███████▎  | 51/70 [00:16<00:04,  3.87it/s]"
     ]
    },
    {
     "name": "stderr",
     "output_type": "stream",
     "text": [
      "2025/09/10 15:26:51 WARNING dspy.predict.predict: Not all input fields were provided to module. Present: ['outputs']. Missing: ['expectations'].\n"
     ]
    },
    {
     "name": "stdout",
     "output_type": "stream",
     "text": [
      "Processed 53 / 70 examples:  76%|███████▌  | 53/70 [00:17<00:04,  3.42it/s]"
     ]
    },
    {
     "name": "stderr",
     "output_type": "stream",
     "text": [
      "2025/09/10 15:26:52 WARNING dspy.predict.predict: Not all input fields were provided to module. Present: ['outputs']. Missing: ['expectations'].\n"
     ]
    },
    {
     "name": "stdout",
     "output_type": "stream",
     "text": [
      "Processed 54 / 70 examples:  76%|███████▌  | 53/70 [00:17<00:04,  3.42it/s]"
     ]
    },
    {
     "name": "stderr",
     "output_type": "stream",
     "text": [
      "2025/09/10 15:26:52 WARNING dspy.predict.predict: Not all input fields were provided to module. Present: ['outputs']. Missing: ['expectations'].\n"
     ]
    },
    {
     "name": "stdout",
     "output_type": "stream",
     "text": [
      "Processed 55 / 70 examples:  79%|███████▊  | 55/70 [00:17<00:03,  4.65it/s]"
     ]
    },
    {
     "name": "stderr",
     "output_type": "stream",
     "text": [
      "2025/09/10 15:26:52 WARNING dspy.predict.predict: Not all input fields were provided to module. Present: ['outputs']. Missing: ['expectations'].\n"
     ]
    },
    {
     "name": "stdout",
     "output_type": "stream",
     "text": [
      "Processed 56 / 70 examples:  79%|███████▊  | 55/70 [00:18<00:03,  4.65it/s]"
     ]
    },
    {
     "name": "stderr",
     "output_type": "stream",
     "text": [
      "2025/09/10 15:26:53 WARNING dspy.predict.predict: Not all input fields were provided to module. Present: ['outputs']. Missing: ['expectations'].\n"
     ]
    },
    {
     "name": "stdout",
     "output_type": "stream",
     "text": [
      "Processed 57 / 70 examples:  80%|████████  | 56/70 [00:18<00:04,  3.47it/s]"
     ]
    },
    {
     "name": "stderr",
     "output_type": "stream",
     "text": [
      "2025/09/10 15:26:53 WARNING dspy.predict.predict: Not all input fields were provided to module. Present: ['outputs']. Missing: ['expectations'].\n"
     ]
    },
    {
     "name": "stdout",
     "output_type": "stream",
     "text": [
      "Processed 58 / 70 examples:  83%|████████▎ | 58/70 [00:18<00:02,  4.86it/s]"
     ]
    },
    {
     "name": "stderr",
     "output_type": "stream",
     "text": [
      "2025/09/10 15:26:53 WARNING dspy.predict.predict: Not all input fields were provided to module. Present: ['outputs']. Missing: ['expectations'].\n"
     ]
    },
    {
     "name": "stdout",
     "output_type": "stream",
     "text": [
      "Processed 59 / 70 examples:  84%|████████▍ | 59/70 [00:18<00:02,  4.99it/s]"
     ]
    },
    {
     "name": "stderr",
     "output_type": "stream",
     "text": [
      "2025/09/10 15:26:53 WARNING dspy.predict.predict: Not all input fields were provided to module. Present: ['outputs']. Missing: ['expectations'].\n"
     ]
    },
    {
     "name": "stdout",
     "output_type": "stream",
     "text": [
      "Processed 60 / 70 examples:  86%|████████▌ | 60/70 [00:18<00:01,  5.41it/s]"
     ]
    },
    {
     "name": "stderr",
     "output_type": "stream",
     "text": [
      "2025/09/10 15:26:53 WARNING dspy.predict.predict: Not all input fields were provided to module. Present: ['outputs']. Missing: ['expectations'].\n"
     ]
    },
    {
     "name": "stdout",
     "output_type": "stream",
     "text": [
      "Processed 61 / 70 examples:  87%|████████▋ | 61/70 [00:19<00:02,  3.15it/s]"
     ]
    },
    {
     "name": "stderr",
     "output_type": "stream",
     "text": [
      "2025/09/10 15:26:54 WARNING dspy.predict.predict: Not all input fields were provided to module. Present: ['outputs']. Missing: ['expectations'].\n"
     ]
    },
    {
     "name": "stdout",
     "output_type": "stream",
     "text": [
      "Processed 62 / 70 examples:  89%|████████▊ | 62/70 [00:19<00:02,  3.38it/s]"
     ]
    },
    {
     "name": "stderr",
     "output_type": "stream",
     "text": [
      "2025/09/10 15:26:54 WARNING dspy.predict.predict: Not all input fields were provided to module. Present: ['outputs']. Missing: ['expectations'].\n"
     ]
    },
    {
     "name": "stdout",
     "output_type": "stream",
     "text": [
      "Processed 70 / 70 examples: 100%|██████████| 70/70 [00:21<00:00,  3.22it/s]"
     ]
    },
    {
     "name": "stderr",
     "output_type": "stream",
     "text": [
      "2025/09/10 15:26:56 INFO dspy.teleprompt.simba: Scores after 7 batches: [0.0, 0.0, 0.0, 0.0, 0.0, 0.0, 0.0], Best: 0.0\n",
      "\n",
      "2025/09/10 15:26:56 INFO dspy.teleprompt.simba: Starting batch 8 of 8.\n"
     ]
    },
    {
     "name": "stdout",
     "output_type": "stream",
     "text": [
      "\n"
     ]
    },
    {
     "name": "stderr",
     "output_type": "stream",
     "text": [
      "2025/09/10 15:26:57 INFO dspy.teleprompt.simba: Sampling program trajectories on 10 examples x 6 samples.\n"
     ]
    },
    {
     "name": "stdout",
     "output_type": "stream",
     "text": [
      "  0%|          | 0/60 [00:00<?, ?it/s]"
     ]
    },
    {
     "name": "stderr",
     "output_type": "stream",
     "text": [
      "2025/09/10 15:26:57 WARNING dspy.predict.predict: Not all input fields were provided to module. Present: ['outputs']. Missing: ['expectations'].\n",
      "2025/09/10 15:26:57 WARNING dspy.predict.predict: Not all input fields were provided to module. Present: ['outputs']. Missing: ['expectations'].\n"
     ]
    },
    {
     "name": "stdout",
     "output_type": "stream",
     "text": [
      "Processed 1 / 60 examples:   0%|          | 0/60 [00:00<?, ?it/s]"
     ]
    },
    {
     "name": "stderr",
     "output_type": "stream",
     "text": [
      "2025/09/10 15:26:57 WARNING dspy.predict.predict: Not all input fields were provided to module. Present: ['outputs']. Missing: ['expectations'].\n"
     ]
    },
    {
     "name": "stdout",
     "output_type": "stream",
     "text": [
      "Processed 2 / 60 examples:   2%|▏         | 1/60 [00:00<00:00, 250.06it/s]"
     ]
    },
    {
     "name": "stderr",
     "output_type": "stream",
     "text": [
      "2025/09/10 15:26:57 WARNING dspy.predict.predict: Not all input fields were provided to module. Present: ['outputs']. Missing: ['expectations'].\n",
      "2025/09/10 15:26:57 WARNING dspy.predict.predict: Not all input fields were provided to module. Present: ['outputs']. Missing: ['expectations'].\n"
     ]
    },
    {
     "name": "stdout",
     "output_type": "stream",
     "text": [
      "Processed 4 / 60 examples:   5%|▌         | 3/60 [00:00<00:00, 356.84it/s]"
     ]
    },
    {
     "name": "stderr",
     "output_type": "stream",
     "text": [
      "2025/09/10 15:26:57 WARNING dspy.predict.predict: Not all input fields were provided to module. Present: ['outputs']. Missing: ['expectations'].\n"
     ]
    },
    {
     "name": "stdout",
     "output_type": "stream",
     "text": [
      "Processed 5 / 60 examples:   7%|▋         | 4/60 [00:00<00:00, 429.00it/s]"
     ]
    },
    {
     "name": "stderr",
     "output_type": "stream",
     "text": [
      "2025/09/10 15:26:57 WARNING dspy.predict.predict: Not all input fields were provided to module. Present: ['outputs']. Missing: ['expectations'].\n"
     ]
    },
    {
     "name": "stdout",
     "output_type": "stream",
     "text": [
      "Processed 6 / 60 examples:   8%|▊         | 5/60 [00:00<00:00, 447.82it/s]"
     ]
    },
    {
     "name": "stderr",
     "output_type": "stream",
     "text": [
      "2025/09/10 15:26:57 WARNING dspy.predict.predict: Not all input fields were provided to module. Present: ['outputs']. Missing: ['expectations'].\n"
     ]
    },
    {
     "name": "stdout",
     "output_type": "stream",
     "text": [
      "Processed 7 / 60 examples:  10%|█         | 6/60 [00:00<00:00, 455.20it/s]"
     ]
    },
    {
     "name": "stderr",
     "output_type": "stream",
     "text": [
      "2025/09/10 15:26:57 WARNING dspy.predict.predict: Not all input fields were provided to module. Present: ['outputs']. Missing: ['expectations'].\n"
     ]
    },
    {
     "name": "stdout",
     "output_type": "stream",
     "text": [
      "Processed 9 / 60 examples:  13%|█▎        | 8/60 [00:00<00:00, 480.97it/s]"
     ]
    },
    {
     "name": "stderr",
     "output_type": "stream",
     "text": [
      "2025/09/10 15:26:57 WARNING dspy.predict.predict: Not all input fields were provided to module. Present: ['outputs']. Missing: ['expectations'].\n",
      "2025/09/10 15:26:57 WARNING dspy.predict.predict: Not all input fields were provided to module. Present: ['outputs']. Missing: ['expectations'].\n"
     ]
    },
    {
     "name": "stdout",
     "output_type": "stream",
     "text": [
      "Processed 10 / 60 examples:  15%|█▌        | 9/60 [00:00<00:00, 481.05it/s]"
     ]
    },
    {
     "name": "stderr",
     "output_type": "stream",
     "text": [
      "2025/09/10 15:26:57 WARNING dspy.predict.predict: Not all input fields were provided to module. Present: ['outputs']. Missing: ['expectations'].\n"
     ]
    },
    {
     "name": "stdout",
     "output_type": "stream",
     "text": [
      "Processed 12 / 60 examples:  18%|█▊        | 11/60 [00:00<00:00, 497.31it/s]"
     ]
    },
    {
     "name": "stderr",
     "output_type": "stream",
     "text": [
      "2025/09/10 15:26:57 WARNING dspy.predict.predict: Not all input fields were provided to module. Present: ['outputs']. Missing: ['expectations'].\n"
     ]
    },
    {
     "name": "stdout",
     "output_type": "stream",
     "text": [
      "Processed 13 / 60 examples:  20%|██        | 12/60 [00:00<00:00, 508.02it/s]"
     ]
    },
    {
     "name": "stderr",
     "output_type": "stream",
     "text": [
      "2025/09/10 15:26:57 WARNING dspy.predict.predict: Not all input fields were provided to module. Present: ['outputs']. Missing: ['expectations'].\n",
      "2025/09/10 15:26:57 WARNING dspy.predict.predict: Not all input fields were provided to module. Present: ['outputs']. Missing: ['expectations'].\n"
     ]
    },
    {
     "name": "stdout",
     "output_type": "stream",
     "text": [
      "Processed 15 / 60 examples:  23%|██▎       | 14/60 [00:00<00:00, 516.49it/s]"
     ]
    },
    {
     "name": "stderr",
     "output_type": "stream",
     "text": [
      "2025/09/10 15:26:57 WARNING dspy.predict.predict: Not all input fields were provided to module. Present: ['outputs']. Missing: ['expectations'].\n",
      "2025/09/10 15:26:57 WARNING dspy.predict.predict: Not all input fields were provided to module. Present: ['outputs']. Missing: ['expectations'].\n"
     ]
    },
    {
     "name": "stdout",
     "output_type": "stream",
     "text": [
      "Processed 16 / 60 examples:  25%|██▌       | 15/60 [00:00<00:00, 500.83it/s]"
     ]
    },
    {
     "name": "stderr",
     "output_type": "stream",
     "text": [
      "2025/09/10 15:26:57 WARNING dspy.predict.predict: Not all input fields were provided to module. Present: ['outputs']. Missing: ['expectations'].\n"
     ]
    },
    {
     "name": "stdout",
     "output_type": "stream",
     "text": [
      "Processed 17 / 60 examples:  27%|██▋       | 16/60 [00:00<00:00, 479.46it/s]"
     ]
    },
    {
     "name": "stderr",
     "output_type": "stream",
     "text": [
      "2025/09/10 15:26:57 WARNING dspy.predict.predict: Not all input fields were provided to module. Present: ['outputs']. Missing: ['expectations'].\n"
     ]
    },
    {
     "name": "stdout",
     "output_type": "stream",
     "text": [
      "Processed 18 / 60 examples:  28%|██▊       | 17/60 [00:00<00:00, 471.02it/s]"
     ]
    },
    {
     "name": "stderr",
     "output_type": "stream",
     "text": [
      "2025/09/10 15:26:57 WARNING dspy.predict.predict: Not all input fields were provided to module. Present: ['outputs']. Missing: ['expectations'].\n"
     ]
    },
    {
     "name": "stdout",
     "output_type": "stream",
     "text": [
      "Processed 19 / 60 examples:  30%|███       | 18/60 [00:00<00:00, 448.01it/s]"
     ]
    },
    {
     "name": "stderr",
     "output_type": "stream",
     "text": [
      "2025/09/10 15:26:57 WARNING dspy.predict.predict: Not all input fields were provided to module. Present: ['outputs']. Missing: ['expectations'].\n"
     ]
    },
    {
     "name": "stdout",
     "output_type": "stream",
     "text": [
      "Processed 20 / 60 examples:  32%|███▏      | 19/60 [00:00<00:00, 455.89it/s]"
     ]
    },
    {
     "name": "stderr",
     "output_type": "stream",
     "text": [
      "2025/09/10 15:26:57 WARNING dspy.predict.predict: Not all input fields were provided to module. Present: ['outputs']. Missing: ['expectations'].\n"
     ]
    },
    {
     "name": "stdout",
     "output_type": "stream",
     "text": [
      "Processed 21 / 60 examples:  33%|███▎      | 20/60 [00:00<00:00, 458.21it/s]"
     ]
    },
    {
     "name": "stderr",
     "output_type": "stream",
     "text": [
      "2025/09/10 15:26:57 WARNING dspy.predict.predict: Not all input fields were provided to module. Present: ['outputs']. Missing: ['expectations'].\n"
     ]
    },
    {
     "name": "stdout",
     "output_type": "stream",
     "text": [
      "Processed 22 / 60 examples:  35%|███▌      | 21/60 [00:00<00:00, 456.98it/s]"
     ]
    },
    {
     "name": "stderr",
     "output_type": "stream",
     "text": [
      "2025/09/10 15:26:57 WARNING dspy.predict.predict: Not all input fields were provided to module. Present: ['outputs']. Missing: ['expectations'].\n"
     ]
    },
    {
     "name": "stdout",
     "output_type": "stream",
     "text": [
      "Processed 24 / 60 examples:  38%|███▊      | 23/60 [00:00<00:00, 454.42it/s]"
     ]
    },
    {
     "name": "stderr",
     "output_type": "stream",
     "text": [
      "2025/09/10 15:26:57 WARNING dspy.predict.predict: Not all input fields were provided to module. Present: ['outputs']. Missing: ['expectations'].\n"
     ]
    },
    {
     "name": "stdout",
     "output_type": "stream",
     "text": [
      "Processed 25 / 60 examples:  40%|████      | 24/60 [00:00<00:00, 255.20it/s]"
     ]
    },
    {
     "name": "stderr",
     "output_type": "stream",
     "text": [
      "2025/09/10 15:26:57 WARNING dspy.predict.predict: Not all input fields were provided to module. Present: ['outputs']. Missing: ['expectations'].\n"
     ]
    },
    {
     "name": "stdout",
     "output_type": "stream",
     "text": [
      "Processed 26 / 60 examples:  42%|████▏     | 25/60 [00:00<00:00, 260.39it/s]"
     ]
    },
    {
     "name": "stderr",
     "output_type": "stream",
     "text": [
      "2025/09/10 15:26:57 WARNING dspy.predict.predict: Not all input fields were provided to module. Present: ['outputs']. Missing: ['expectations'].\n"
     ]
    },
    {
     "name": "stdout",
     "output_type": "stream",
     "text": [
      "Processed 26 / 60 examples:  43%|████▎     | 26/60 [00:00<00:00, 235.68it/s]"
     ]
    },
    {
     "name": "stderr",
     "output_type": "stream",
     "text": [
      "2025/09/10 15:26:57 WARNING dspy.predict.predict: Not all input fields were provided to module. Present: ['outputs']. Missing: ['expectations'].\n"
     ]
    },
    {
     "name": "stdout",
     "output_type": "stream",
     "text": [
      "Processed 27 / 60 examples:  43%|████▎     | 26/60 [00:00<00:00, 235.68it/s]"
     ]
    },
    {
     "name": "stderr",
     "output_type": "stream",
     "text": [
      "2025/09/10 15:26:57 WARNING dspy.predict.predict: Not all input fields were provided to module. Present: ['outputs']. Missing: ['expectations'].\n"
     ]
    },
    {
     "name": "stdout",
     "output_type": "stream",
     "text": [
      "Processed 29 / 60 examples:  47%|████▋     | 28/60 [00:00<00:00, 235.68it/s]"
     ]
    },
    {
     "name": "stderr",
     "output_type": "stream",
     "text": [
      "2025/09/10 15:26:57 WARNING dspy.predict.predict: Not all input fields were provided to module. Present: ['outputs']. Missing: ['expectations'].\n",
      "2025/09/10 15:26:57 WARNING dspy.predict.predict: Not all input fields were provided to module. Present: ['outputs']. Missing: ['expectations'].\n"
     ]
    },
    {
     "name": "stdout",
     "output_type": "stream",
     "text": [
      "Processed 30 / 60 examples:  48%|████▊     | 29/60 [00:00<00:00, 235.68it/s]"
     ]
    },
    {
     "name": "stderr",
     "output_type": "stream",
     "text": [
      "2025/09/10 15:26:57 WARNING dspy.predict.predict: Not all input fields were provided to module. Present: ['outputs']. Missing: ['expectations'].\n"
     ]
    },
    {
     "name": "stdout",
     "output_type": "stream",
     "text": [
      "Processed 31 / 60 examples:  50%|█████     | 30/60 [00:00<00:00, 235.68it/s]"
     ]
    },
    {
     "name": "stderr",
     "output_type": "stream",
     "text": [
      "2025/09/10 15:26:57 WARNING dspy.predict.predict: Not all input fields were provided to module. Present: ['outputs']. Missing: ['expectations'].\n"
     ]
    },
    {
     "name": "stdout",
     "output_type": "stream",
     "text": [
      "Processed 32 / 60 examples:  52%|█████▏    | 31/60 [00:00<00:00, 235.68it/s]"
     ]
    },
    {
     "name": "stderr",
     "output_type": "stream",
     "text": [
      "2025/09/10 15:26:57 WARNING dspy.predict.predict: Not all input fields were provided to module. Present: ['outputs']. Missing: ['expectations'].\n"
     ]
    },
    {
     "name": "stdout",
     "output_type": "stream",
     "text": [
      "Processed 33 / 60 examples:  53%|█████▎    | 32/60 [00:00<00:00, 235.68it/s]"
     ]
    },
    {
     "name": "stderr",
     "output_type": "stream",
     "text": [
      "2025/09/10 15:26:57 WARNING dspy.predict.predict: Not all input fields were provided to module. Present: ['outputs']. Missing: ['expectations'].\n"
     ]
    },
    {
     "name": "stdout",
     "output_type": "stream",
     "text": [
      "Processed 34 / 60 examples:  55%|█████▌    | 33/60 [00:00<00:00, 235.68it/s]"
     ]
    },
    {
     "name": "stderr",
     "output_type": "stream",
     "text": [
      "2025/09/10 15:26:57 WARNING dspy.predict.predict: Not all input fields were provided to module. Present: ['outputs']. Missing: ['expectations'].\n"
     ]
    },
    {
     "name": "stdout",
     "output_type": "stream",
     "text": [
      "Processed 35 / 60 examples:  57%|█████▋    | 34/60 [00:00<00:00, 235.68it/s]"
     ]
    },
    {
     "name": "stderr",
     "output_type": "stream",
     "text": [
      "2025/09/10 15:26:57 WARNING dspy.predict.predict: Not all input fields were provided to module. Present: ['outputs']. Missing: ['expectations'].\n"
     ]
    },
    {
     "name": "stdout",
     "output_type": "stream",
     "text": [
      "Processed 37 / 60 examples:  60%|██████    | 36/60 [00:00<00:00, 235.68it/s]"
     ]
    },
    {
     "name": "stderr",
     "output_type": "stream",
     "text": [
      "2025/09/10 15:26:57 WARNING dspy.predict.predict: Not all input fields were provided to module. Present: ['outputs']. Missing: ['expectations'].\n",
      "2025/09/10 15:26:57 WARNING dspy.predict.predict: Not all input fields were provided to module. Present: ['outputs']. Missing: ['expectations'].\n"
     ]
    },
    {
     "name": "stdout",
     "output_type": "stream",
     "text": [
      "Processed 38 / 60 examples:  62%|██████▏   | 37/60 [00:00<00:00, 235.68it/s]"
     ]
    },
    {
     "name": "stderr",
     "output_type": "stream",
     "text": [
      "2025/09/10 15:26:57 WARNING dspy.predict.predict: Not all input fields were provided to module. Present: ['outputs']. Missing: ['expectations'].\n"
     ]
    },
    {
     "name": "stdout",
     "output_type": "stream",
     "text": [
      "Processed 40 / 60 examples:  65%|██████▌   | 39/60 [00:00<00:00, 235.68it/s]"
     ]
    },
    {
     "name": "stderr",
     "output_type": "stream",
     "text": [
      "2025/09/10 15:26:57 WARNING dspy.predict.predict: Not all input fields were provided to module. Present: ['outputs']. Missing: ['expectations'].\n"
     ]
    },
    {
     "name": "stdout",
     "output_type": "stream",
     "text": [
      "Processed 41 / 60 examples:  67%|██████▋   | 40/60 [00:00<00:00, 235.68it/s]"
     ]
    },
    {
     "name": "stderr",
     "output_type": "stream",
     "text": [
      "2025/09/10 15:26:57 WARNING dspy.predict.predict: Not all input fields were provided to module. Present: ['outputs']. Missing: ['expectations'].\n",
      "2025/09/10 15:26:57 WARNING dspy.predict.predict: Not all input fields were provided to module. Present: ['outputs']. Missing: ['expectations'].\n"
     ]
    },
    {
     "name": "stdout",
     "output_type": "stream",
     "text": [
      "Processed 43 / 60 examples:  70%|███████   | 42/60 [00:00<00:00, 235.68it/s]"
     ]
    },
    {
     "name": "stderr",
     "output_type": "stream",
     "text": [
      "2025/09/10 15:26:57 WARNING dspy.predict.predict: Not all input fields were provided to module. Present: ['outputs']. Missing: ['expectations'].\n"
     ]
    },
    {
     "name": "stdout",
     "output_type": "stream",
     "text": [
      "Processed 44 / 60 examples:  72%|███████▏  | 43/60 [00:00<00:00, 235.68it/s]"
     ]
    },
    {
     "name": "stderr",
     "output_type": "stream",
     "text": [
      "2025/09/10 15:26:57 WARNING dspy.predict.predict: Not all input fields were provided to module. Present: ['outputs']. Missing: ['expectations'].\n"
     ]
    },
    {
     "name": "stdout",
     "output_type": "stream",
     "text": [
      "Processed 45 / 60 examples:  73%|███████▎  | 44/60 [00:00<00:00, 235.68it/s]"
     ]
    },
    {
     "name": "stderr",
     "output_type": "stream",
     "text": [
      "2025/09/10 15:26:57 WARNING dspy.predict.predict: Not all input fields were provided to module. Present: ['outputs']. Missing: ['expectations'].\n",
      "2025/09/10 15:26:57 WARNING dspy.predict.predict: Not all input fields were provided to module. Present: ['outputs']. Missing: ['expectations'].\n"
     ]
    },
    {
     "name": "stdout",
     "output_type": "stream",
     "text": [
      "Processed 47 / 60 examples:  77%|███████▋  | 46/60 [00:00<00:00, 235.68it/s]"
     ]
    },
    {
     "name": "stderr",
     "output_type": "stream",
     "text": [
      "2025/09/10 15:26:57 WARNING dspy.predict.predict: Not all input fields were provided to module. Present: ['outputs']. Missing: ['expectations'].\n"
     ]
    },
    {
     "name": "stdout",
     "output_type": "stream",
     "text": [
      "Processed 48 / 60 examples:  78%|███████▊  | 47/60 [00:00<00:00, 235.68it/s]"
     ]
    },
    {
     "name": "stderr",
     "output_type": "stream",
     "text": [
      "2025/09/10 15:26:57 WARNING dspy.predict.predict: Not all input fields were provided to module. Present: ['outputs']. Missing: ['expectations'].\n"
     ]
    },
    {
     "name": "stdout",
     "output_type": "stream",
     "text": [
      "Processed 49 / 60 examples:  80%|████████  | 48/60 [00:00<00:00, 235.68it/s]"
     ]
    },
    {
     "name": "stderr",
     "output_type": "stream",
     "text": [
      "2025/09/10 15:26:57 WARNING dspy.predict.predict: Not all input fields were provided to module. Present: ['outputs']. Missing: ['expectations'].\n"
     ]
    },
    {
     "name": "stdout",
     "output_type": "stream",
     "text": [
      "Processed 50 / 60 examples:  82%|████████▏ | 49/60 [00:00<00:00, 235.68it/s]"
     ]
    },
    {
     "name": "stderr",
     "output_type": "stream",
     "text": [
      "2025/09/10 15:26:57 WARNING dspy.predict.predict: Not all input fields were provided to module. Present: ['outputs']. Missing: ['expectations'].\n"
     ]
    },
    {
     "name": "stdout",
     "output_type": "stream",
     "text": [
      "Processed 51 / 60 examples:  83%|████████▎ | 50/60 [00:00<00:00, 235.68it/s]"
     ]
    },
    {
     "name": "stderr",
     "output_type": "stream",
     "text": [
      "2025/09/10 15:26:57 WARNING dspy.predict.predict: Not all input fields were provided to module. Present: ['outputs']. Missing: ['expectations'].\n"
     ]
    },
    {
     "name": "stdout",
     "output_type": "stream",
     "text": [
      "Processed 52 / 60 examples:  85%|████████▌ | 51/60 [00:00<00:00, 235.68it/s]"
     ]
    },
    {
     "name": "stderr",
     "output_type": "stream",
     "text": [
      "2025/09/10 15:26:57 WARNING dspy.predict.predict: Not all input fields were provided to module. Present: ['outputs']. Missing: ['expectations'].\n"
     ]
    },
    {
     "name": "stdout",
     "output_type": "stream",
     "text": [
      "Processed 53 / 60 examples:  87%|████████▋ | 52/60 [00:00<00:00, 235.68it/s]"
     ]
    },
    {
     "name": "stderr",
     "output_type": "stream",
     "text": [
      "2025/09/10 15:26:57 WARNING dspy.predict.predict: Not all input fields were provided to module. Present: ['outputs']. Missing: ['expectations'].\n"
     ]
    },
    {
     "name": "stdout",
     "output_type": "stream",
     "text": [
      "Processed 54 / 60 examples:  88%|████████▊ | 53/60 [00:00<00:00, 235.68it/s]"
     ]
    },
    {
     "name": "stderr",
     "output_type": "stream",
     "text": [
      "2025/09/10 15:26:57 WARNING dspy.predict.predict: Not all input fields were provided to module. Present: ['outputs']. Missing: ['expectations'].\n"
     ]
    },
    {
     "name": "stdout",
     "output_type": "stream",
     "text": [
      "Processed 55 / 60 examples:  90%|█████████ | 54/60 [00:00<00:00, 235.68it/s]"
     ]
    },
    {
     "name": "stderr",
     "output_type": "stream",
     "text": [
      "2025/09/10 15:26:57 WARNING dspy.predict.predict: Not all input fields were provided to module. Present: ['outputs']. Missing: ['expectations'].\n"
     ]
    },
    {
     "name": "stdout",
     "output_type": "stream",
     "text": [
      "Processed 56 / 60 examples:  92%|█████████▏| 55/60 [00:00<00:00, 235.68it/s]"
     ]
    },
    {
     "name": "stderr",
     "output_type": "stream",
     "text": [
      "2025/09/10 15:26:57 WARNING dspy.predict.predict: Not all input fields were provided to module. Present: ['outputs']. Missing: ['expectations'].\n"
     ]
    },
    {
     "name": "stdout",
     "output_type": "stream",
     "text": [
      "Processed 57 / 60 examples:  93%|█████████▎| 56/60 [00:00<00:00, 235.68it/s]"
     ]
    },
    {
     "name": "stderr",
     "output_type": "stream",
     "text": [
      "2025/09/10 15:26:57 WARNING dspy.predict.predict: Not all input fields were provided to module. Present: ['outputs']. Missing: ['expectations'].\n"
     ]
    },
    {
     "name": "stdout",
     "output_type": "stream",
     "text": [
      "Processed 58 / 60 examples:  95%|█████████▌| 57/60 [00:00<00:00, 235.68it/s]"
     ]
    },
    {
     "name": "stderr",
     "output_type": "stream",
     "text": [
      "2025/09/10 15:26:57 WARNING dspy.predict.predict: Not all input fields were provided to module. Present: ['outputs']. Missing: ['expectations'].\n"
     ]
    },
    {
     "name": "stdout",
     "output_type": "stream",
     "text": [
      "Processed 59 / 60 examples:  97%|█████████▋| 58/60 [00:00<00:00, 235.68it/s]"
     ]
    },
    {
     "name": "stderr",
     "output_type": "stream",
     "text": [
      "2025/09/10 15:26:57 WARNING dspy.predict.predict: Not all input fields were provided to module. Present: ['outputs']. Missing: ['expectations'].\n"
     ]
    },
    {
     "name": "stdout",
     "output_type": "stream",
     "text": [
      "Processed 60 / 60 examples: 100%|██████████| 60/60 [00:00<00:00, 372.69it/s]"
     ]
    },
    {
     "name": "stderr",
     "output_type": "stream",
     "text": [
      "2025/09/10 15:26:57 INFO dspy.teleprompt.simba: Batch 8: Baseline mini-batch score: 0.0\n",
      "\n",
      "2025/09/10 15:26:57 INFO dspy.teleprompt.simba: Batch 8: Processing bucket #1, with max score 0.0, max-to-min gap 0.0, and max-to-avg gap 0.0.\n",
      "2025/09/10 15:26:57 INFO dspy.teleprompt.simba: Batch 8: Invoking strategy: append_a_demo_\n",
      "2025/09/10 15:26:57 INFO dspy.teleprompt.simba_utils: Added 1 demos (one each) across all predictors.\n",
      "2025/09/10 15:26:57 INFO dspy.teleprompt.simba: \n",
      "\n",
      "2025/09/10 15:26:57 INFO dspy.teleprompt.simba: Batch 8: Processing bucket #2, with max score 0.0, max-to-min gap 0.0, and max-to-avg gap 0.0.\n",
      "2025/09/10 15:26:57 INFO dspy.teleprompt.simba: Batch 8: Invoking strategy: append_a_rule\n"
     ]
    },
    {
     "name": "stdout",
     "output_type": "stream",
     "text": [
      "\n"
     ]
    },
    {
     "name": "stderr",
     "output_type": "stream",
     "text": [
      "2025/09/10 15:27:01 INFO dspy.teleprompt.simba_utils: Advice for self: If the module receives a detailed output describing the benefits of a technology like MLflow or a comprehensive explanation of a concept such as overfitting, then it should carefully assess the completeness and accuracy of the information. It should calibrate the score to reflect not only the presence of key points but also the depth and nuance of the explanation. The rationale should explicitly mention any minor gaps, strengths, or areas for improvement to justify the score clearly, avoiding overly generous or overly harsh ratings. This will help ensure the evaluation is balanced and aligned with the true quality of the response.\n",
      "2025/09/10 15:27:01 INFO dspy.teleprompt.simba: \n",
      "\n",
      "2025/09/10 15:27:01 INFO dspy.teleprompt.simba: Batch 8: Processing bucket #3, with max score 0.0, max-to-min gap 0.0, and max-to-avg gap 0.0.\n",
      "2025/09/10 15:27:01 INFO dspy.teleprompt.simba: Batch 8: Invoking strategy: append_a_demo_\n",
      "2025/09/10 15:27:01 INFO dspy.teleprompt.simba_utils: Added 1 demos (one each) across all predictors.\n",
      "2025/09/10 15:27:01 INFO dspy.teleprompt.simba: \n",
      "\n",
      "2025/09/10 15:27:01 INFO dspy.teleprompt.simba: Batch 8: Processing bucket #4, with max score 0.0, max-to-min gap 0.0, and max-to-avg gap 0.0.\n",
      "2025/09/10 15:27:01 INFO dspy.teleprompt.simba: Batch 8: Invoking strategy: append_a_demo_\n",
      "2025/09/10 15:27:01 INFO dspy.teleprompt.simba_utils: Added 1 demos (one each) across all predictors.\n",
      "2025/09/10 15:27:01 INFO dspy.teleprompt.simba: \n",
      "\n",
      "2025/09/10 15:27:01 INFO dspy.teleprompt.simba: Batch 8: Processing bucket #5, with max score 0.0, max-to-min gap 0.0, and max-to-avg gap 0.0.\n",
      "2025/09/10 15:27:01 INFO dspy.teleprompt.simba: Batch 8: Invoking strategy: append_a_demo_\n",
      "2025/09/10 15:27:01 INFO dspy.teleprompt.simba_utils: Added 1 demos (one each) across all predictors.\n",
      "2025/09/10 15:27:01 INFO dspy.teleprompt.simba: \n",
      "\n",
      "2025/09/10 15:27:01 INFO dspy.teleprompt.simba: Batch 8: Processing bucket #6, with max score 0.0, max-to-min gap 0.0, and max-to-avg gap 0.0.\n",
      "2025/09/10 15:27:01 INFO dspy.teleprompt.simba: Batch 8: Invoking strategy: append_a_rule\n",
      "2025/09/10 15:27:05 INFO dspy.teleprompt.simba_utils: Advice for self: If the module receives outputs and expectations that are detailed and comprehensive, it should continue to provide thorough, well-structured evaluations that clearly articulate the alignment between the response and the expected answer. It should maintain focus on accuracy, completeness, and clarity in its rationale, ensuring that all key points are addressed and justified with specific references to the content. Avoid undervaluing high-quality responses by ensuring the evaluation criteria are consistently applied.\n",
      "2025/09/10 15:27:05 INFO dspy.teleprompt.simba: \n",
      "\n",
      "2025/09/10 15:27:05 INFO dspy.teleprompt.simba: Batch 8: Processing bucket #7, with max score 0.0, max-to-min gap 0.0, and max-to-avg gap 0.0.\n",
      "2025/09/10 15:27:05 INFO dspy.teleprompt.simba: Batch 8: Invoking strategy: append_a_demo_\n",
      "2025/09/10 15:27:05 INFO dspy.teleprompt.simba_utils: Added 1 demos (one each) across all predictors.\n",
      "2025/09/10 15:27:05 INFO dspy.teleprompt.simba: \n",
      "\n",
      "2025/09/10 15:27:05 INFO dspy.teleprompt.simba: Batch 8: Evaluating 7 programs on 10 examples.\n",
      "2025/09/10 15:27:05 WARNING dspy.predict.predict: Not all input fields were provided to module. Present: ['outputs']. Missing: ['expectations'].\n"
     ]
    },
    {
     "name": "stdout",
     "output_type": "stream",
     "text": [
      "  0%|          | 0/70 [00:00<?, ?it/s]"
     ]
    },
    {
     "name": "stderr",
     "output_type": "stream",
     "text": [
      "2025/09/10 15:27:05 WARNING dspy.predict.predict: Not all input fields were provided to module. Present: ['outputs']. Missing: ['expectations'].\n",
      "2025/09/10 15:27:05 WARNING dspy.predict.predict: Not all input fields were provided to module. Present: ['outputs']. Missing: ['expectations'].\n",
      "2025/09/10 15:27:05 WARNING dspy.predict.predict: Not all input fields were provided to module. Present: ['outputs']. Missing: ['expectations'].\n",
      "2025/09/10 15:27:05 WARNING dspy.predict.predict: Not all input fields were provided to module. Present: ['outputs']. Missing: ['expectations'].\n",
      "2025/09/10 15:27:05 WARNING dspy.predict.predict: Not all input fields were provided to module. Present: ['outputs']. Missing: ['expectations'].\n",
      "2025/09/10 15:27:05 WARNING dspy.predict.predict: Not all input fields were provided to module. Present: ['outputs']. Missing: ['expectations'].\n",
      "2025/09/10 15:27:05 WARNING dspy.predict.predict: Not all input fields were provided to module. Present: ['outputs']. Missing: ['expectations'].\n"
     ]
    },
    {
     "name": "stdout",
     "output_type": "stream",
     "text": [
      "Processed 1 / 70 examples:   0%|          | 0/70 [00:01<?, ?it/s]"
     ]
    },
    {
     "name": "stderr",
     "output_type": "stream",
     "text": [
      "2025/09/10 15:27:07 WARNING dspy.predict.predict: Not all input fields were provided to module. Present: ['outputs']. Missing: ['expectations'].\n"
     ]
    },
    {
     "name": "stdout",
     "output_type": "stream",
     "text": [
      "Processed 2 / 70 examples:   3%|▎         | 2/70 [00:02<01:03,  1.08it/s]"
     ]
    },
    {
     "name": "stderr",
     "output_type": "stream",
     "text": [
      "2025/09/10 15:27:07 WARNING dspy.predict.predict: Not all input fields were provided to module. Present: ['outputs']. Missing: ['expectations'].\n"
     ]
    },
    {
     "name": "stdout",
     "output_type": "stream",
     "text": [
      "Processed 3 / 70 examples:   3%|▎         | 2/70 [00:02<01:03,  1.08it/s]"
     ]
    },
    {
     "name": "stderr",
     "output_type": "stream",
     "text": [
      "2025/09/10 15:27:07 WARNING dspy.predict.predict: Not all input fields were provided to module. Present: ['outputs']. Missing: ['expectations'].\n"
     ]
    },
    {
     "name": "stdout",
     "output_type": "stream",
     "text": [
      "Processed 4 / 70 examples:   6%|▌         | 4/70 [00:02<00:27,  2.36it/s]"
     ]
    },
    {
     "name": "stderr",
     "output_type": "stream",
     "text": [
      "2025/09/10 15:27:07 WARNING dspy.predict.predict: Not all input fields were provided to module. Present: ['outputs']. Missing: ['expectations'].\n"
     ]
    },
    {
     "name": "stdout",
     "output_type": "stream",
     "text": [
      "Processed 5 / 70 examples:   6%|▌         | 4/70 [00:02<00:27,  2.36it/s]"
     ]
    },
    {
     "name": "stderr",
     "output_type": "stream",
     "text": [
      "2025/09/10 15:27:07 WARNING dspy.predict.predict: Not all input fields were provided to module. Present: ['outputs']. Missing: ['expectations'].\n"
     ]
    },
    {
     "name": "stdout",
     "output_type": "stream",
     "text": [
      "Processed 6 / 70 examples:   9%|▊         | 6/70 [00:02<00:24,  2.65it/s]"
     ]
    },
    {
     "name": "stderr",
     "output_type": "stream",
     "text": [
      "2025/09/10 15:27:08 WARNING dspy.predict.predict: Not all input fields were provided to module. Present: ['outputs']. Missing: ['expectations'].\n"
     ]
    },
    {
     "name": "stdout",
     "output_type": "stream",
     "text": [
      "Processed 7 / 70 examples:   9%|▊         | 6/70 [00:03<00:24,  2.65it/s]"
     ]
    },
    {
     "name": "stderr",
     "output_type": "stream",
     "text": [
      "2025/09/10 15:27:08 WARNING dspy.predict.predict: Not all input fields were provided to module. Present: ['outputs']. Missing: ['expectations'].\n"
     ]
    },
    {
     "name": "stdout",
     "output_type": "stream",
     "text": [
      "Processed 8 / 70 examples:  11%|█▏        | 8/70 [00:03<00:15,  3.91it/s]"
     ]
    },
    {
     "name": "stderr",
     "output_type": "stream",
     "text": [
      "2025/09/10 15:27:08 WARNING dspy.predict.predict: Not all input fields were provided to module. Present: ['outputs']. Missing: ['expectations'].\n"
     ]
    },
    {
     "name": "stdout",
     "output_type": "stream",
     "text": [
      "Processed 9 / 70 examples:  13%|█▎        | 9/70 [00:04<00:27,  2.26it/s]"
     ]
    },
    {
     "name": "stderr",
     "output_type": "stream",
     "text": [
      "2025/09/10 15:27:09 WARNING dspy.predict.predict: Not all input fields were provided to module. Present: ['outputs']. Missing: ['expectations'].\n"
     ]
    },
    {
     "name": "stdout",
     "output_type": "stream",
     "text": [
      "Processed 10 / 70 examples:  14%|█▍        | 10/70 [00:05<00:31,  1.88it/s]"
     ]
    },
    {
     "name": "stderr",
     "output_type": "stream",
     "text": [
      "2025/09/10 15:27:10 WARNING dspy.predict.predict: Not all input fields were provided to module. Present: ['outputs']. Missing: ['expectations'].\n"
     ]
    },
    {
     "name": "stdout",
     "output_type": "stream",
     "text": [
      "Processed 11 / 70 examples:  16%|█▌        | 11/70 [00:05<00:35,  1.66it/s]"
     ]
    },
    {
     "name": "stderr",
     "output_type": "stream",
     "text": [
      "2025/09/10 15:27:11 WARNING dspy.predict.predict: Not all input fields were provided to module. Present: ['outputs']. Missing: ['expectations'].\n"
     ]
    },
    {
     "name": "stdout",
     "output_type": "stream",
     "text": [
      "Processed 12 / 70 examples:  17%|█▋        | 12/70 [00:06<00:34,  1.67it/s]"
     ]
    },
    {
     "name": "stderr",
     "output_type": "stream",
     "text": [
      "2025/09/10 15:27:11 WARNING dspy.predict.predict: Not all input fields were provided to module. Present: ['outputs']. Missing: ['expectations'].\n"
     ]
    },
    {
     "name": "stdout",
     "output_type": "stream",
     "text": [
      "Processed 13 / 70 examples:  19%|█▊        | 13/70 [00:07<00:34,  1.67it/s]"
     ]
    },
    {
     "name": "stderr",
     "output_type": "stream",
     "text": [
      "2025/09/10 15:27:12 WARNING dspy.predict.predict: Not all input fields were provided to module. Present: ['outputs']. Missing: ['expectations'].\n"
     ]
    },
    {
     "name": "stdout",
     "output_type": "stream",
     "text": [
      "Processed 14 / 70 examples:  20%|██        | 14/70 [00:07<00:27,  2.03it/s]"
     ]
    },
    {
     "name": "stderr",
     "output_type": "stream",
     "text": [
      "2025/09/10 15:27:12 WARNING dspy.predict.predict: Not all input fields were provided to module. Present: ['outputs']. Missing: ['expectations'].\n"
     ]
    },
    {
     "name": "stdout",
     "output_type": "stream",
     "text": [
      "Processed 15 / 70 examples:  20%|██        | 14/70 [00:07<00:27,  2.03it/s]"
     ]
    },
    {
     "name": "stderr",
     "output_type": "stream",
     "text": [
      "2025/09/10 15:27:12 WARNING dspy.predict.predict: Not all input fields were provided to module. Present: ['outputs']. Missing: ['expectations'].\n"
     ]
    },
    {
     "name": "stdout",
     "output_type": "stream",
     "text": [
      "Processed 16 / 70 examples:  23%|██▎       | 16/70 [00:07<00:22,  2.40it/s]"
     ]
    },
    {
     "name": "stderr",
     "output_type": "stream",
     "text": [
      "2025/09/10 15:27:13 WARNING dspy.predict.predict: Not all input fields were provided to module. Present: ['outputs']. Missing: ['expectations'].\n"
     ]
    },
    {
     "name": "stdout",
     "output_type": "stream",
     "text": [
      "Processed 17 / 70 examples:  24%|██▍       | 17/70 [00:08<00:22,  2.36it/s]"
     ]
    },
    {
     "name": "stderr",
     "output_type": "stream",
     "text": [
      "2025/09/10 15:27:13 WARNING dspy.predict.predict: Not all input fields were provided to module. Present: ['outputs']. Missing: ['expectations'].\n"
     ]
    },
    {
     "name": "stdout",
     "output_type": "stream",
     "text": [
      "Processed 18 / 70 examples:  24%|██▍       | 17/70 [00:08<00:22,  2.36it/s]"
     ]
    },
    {
     "name": "stderr",
     "output_type": "stream",
     "text": [
      "2025/09/10 15:27:13 WARNING dspy.predict.predict: Not all input fields were provided to module. Present: ['outputs']. Missing: ['expectations'].\n"
     ]
    },
    {
     "name": "stdout",
     "output_type": "stream",
     "text": [
      "Processed 19 / 70 examples:  26%|██▌       | 18/70 [00:08<00:22,  2.36it/s]"
     ]
    },
    {
     "name": "stderr",
     "output_type": "stream",
     "text": [
      "2025/09/10 15:27:13 WARNING dspy.predict.predict: Not all input fields were provided to module. Present: ['outputs']. Missing: ['expectations'].\n"
     ]
    },
    {
     "name": "stdout",
     "output_type": "stream",
     "text": [
      "Processed 20 / 70 examples:  29%|██▊       | 20/70 [00:09<00:16,  3.04it/s]"
     ]
    },
    {
     "name": "stderr",
     "output_type": "stream",
     "text": [
      "2025/09/10 15:27:14 WARNING dspy.predict.predict: Not all input fields were provided to module. Present: ['outputs']. Missing: ['expectations'].\n"
     ]
    },
    {
     "name": "stdout",
     "output_type": "stream",
     "text": [
      "Processed 21 / 70 examples:  29%|██▊       | 20/70 [00:09<00:16,  3.04it/s]"
     ]
    },
    {
     "name": "stderr",
     "output_type": "stream",
     "text": [
      "2025/09/10 15:27:14 WARNING dspy.predict.predict: Not all input fields were provided to module. Present: ['outputs']. Missing: ['expectations'].\n"
     ]
    },
    {
     "name": "stdout",
     "output_type": "stream",
     "text": [
      "Processed 22 / 70 examples:  31%|███▏      | 22/70 [00:09<00:13,  3.55it/s]"
     ]
    },
    {
     "name": "stderr",
     "output_type": "stream",
     "text": [
      "2025/09/10 15:27:14 WARNING dspy.predict.predict: Not all input fields were provided to module. Present: ['outputs']. Missing: ['expectations'].\n"
     ]
    },
    {
     "name": "stdout",
     "output_type": "stream",
     "text": [
      "Processed 23 / 70 examples:  33%|███▎      | 23/70 [00:09<00:11,  3.99it/s]"
     ]
    },
    {
     "name": "stderr",
     "output_type": "stream",
     "text": [
      "2025/09/10 15:27:15 WARNING dspy.predict.predict: Not all input fields were provided to module. Present: ['outputs']. Missing: ['expectations'].\n"
     ]
    },
    {
     "name": "stdout",
     "output_type": "stream",
     "text": [
      "Processed 24 / 70 examples:  33%|███▎      | 23/70 [00:09<00:11,  3.99it/s]"
     ]
    },
    {
     "name": "stderr",
     "output_type": "stream",
     "text": [
      "2025/09/10 15:27:15 WARNING dspy.predict.predict: Not all input fields were provided to module. Present: ['outputs']. Missing: ['expectations'].\n"
     ]
    },
    {
     "name": "stdout",
     "output_type": "stream",
     "text": [
      "Processed 25 / 70 examples:  34%|███▍      | 24/70 [00:09<00:11,  3.99it/s]"
     ]
    },
    {
     "name": "stderr",
     "output_type": "stream",
     "text": [
      "2025/09/10 15:27:15 WARNING dspy.predict.predict: Not all input fields were provided to module. Present: ['outputs']. Missing: ['expectations'].\n"
     ]
    },
    {
     "name": "stdout",
     "output_type": "stream",
     "text": [
      "Processed 26 / 70 examples:  36%|███▌      | 25/70 [00:09<00:11,  3.99it/s]"
     ]
    },
    {
     "name": "stderr",
     "output_type": "stream",
     "text": [
      "2025/09/10 15:27:15 WARNING dspy.predict.predict: Not all input fields were provided to module. Present: ['outputs']. Missing: ['expectations'].\n"
     ]
    },
    {
     "name": "stdout",
     "output_type": "stream",
     "text": [
      "Processed 27 / 70 examples:  37%|███▋      | 26/70 [00:09<00:11,  3.99it/s]"
     ]
    },
    {
     "name": "stderr",
     "output_type": "stream",
     "text": [
      "2025/09/10 15:27:15 WARNING dspy.predict.predict: Not all input fields were provided to module. Present: ['outputs']. Missing: ['expectations'].\n"
     ]
    },
    {
     "name": "stdout",
     "output_type": "stream",
     "text": [
      "Processed 28 / 70 examples:  39%|███▊      | 27/70 [00:09<00:10,  3.99it/s]"
     ]
    },
    {
     "name": "stderr",
     "output_type": "stream",
     "text": [
      "2025/09/10 15:27:15 WARNING dspy.predict.predict: Not all input fields were provided to module. Present: ['outputs']. Missing: ['expectations'].\n"
     ]
    },
    {
     "name": "stdout",
     "output_type": "stream",
     "text": [
      "Processed 29 / 70 examples:  40%|████      | 28/70 [00:09<00:10,  3.99it/s]"
     ]
    },
    {
     "name": "stderr",
     "output_type": "stream",
     "text": [
      "2025/09/10 15:27:15 WARNING dspy.predict.predict: Not all input fields were provided to module. Present: ['outputs']. Missing: ['expectations'].\n"
     ]
    },
    {
     "name": "stdout",
     "output_type": "stream",
     "text": [
      "Processed 30 / 70 examples:  41%|████▏     | 29/70 [00:09<00:10,  3.99it/s]"
     ]
    },
    {
     "name": "stderr",
     "output_type": "stream",
     "text": [
      "2025/09/10 15:27:15 WARNING dspy.predict.predict: Not all input fields were provided to module. Present: ['outputs']. Missing: ['expectations'].\n"
     ]
    },
    {
     "name": "stdout",
     "output_type": "stream",
     "text": [
      "Processed 31 / 70 examples:  43%|████▎     | 30/70 [00:09<00:10,  3.99it/s]"
     ]
    },
    {
     "name": "stderr",
     "output_type": "stream",
     "text": [
      "2025/09/10 15:27:15 WARNING dspy.predict.predict: Not all input fields were provided to module. Present: ['outputs']. Missing: ['expectations'].\n"
     ]
    },
    {
     "name": "stdout",
     "output_type": "stream",
     "text": [
      "Processed 32 / 70 examples:  44%|████▍     | 31/70 [00:09<00:09,  3.99it/s]"
     ]
    },
    {
     "name": "stderr",
     "output_type": "stream",
     "text": [
      "2025/09/10 15:27:15 WARNING dspy.predict.predict: Not all input fields were provided to module. Present: ['outputs']. Missing: ['expectations'].\n"
     ]
    },
    {
     "name": "stdout",
     "output_type": "stream",
     "text": [
      "Processed 33 / 70 examples:  46%|████▌     | 32/70 [00:09<00:09,  3.99it/s]"
     ]
    },
    {
     "name": "stderr",
     "output_type": "stream",
     "text": [
      "2025/09/10 15:27:15 WARNING dspy.predict.predict: Not all input fields were provided to module. Present: ['outputs']. Missing: ['expectations'].\n"
     ]
    },
    {
     "name": "stdout",
     "output_type": "stream",
     "text": [
      "Processed 34 / 70 examples:  49%|████▊     | 34/70 [00:10<00:03, 11.56it/s]"
     ]
    },
    {
     "name": "stderr",
     "output_type": "stream",
     "text": [
      "2025/09/10 15:27:15 WARNING dspy.predict.predict: Not all input fields were provided to module. Present: ['outputs']. Missing: ['expectations'].\n"
     ]
    },
    {
     "name": "stdout",
     "output_type": "stream",
     "text": [
      "Processed 35 / 70 examples:  49%|████▊     | 34/70 [00:10<00:03, 11.56it/s]"
     ]
    },
    {
     "name": "stderr",
     "output_type": "stream",
     "text": [
      "2025/09/10 15:27:15 WARNING dspy.predict.predict: Not all input fields were provided to module. Present: ['outputs']. Missing: ['expectations'].\n"
     ]
    },
    {
     "name": "stdout",
     "output_type": "stream",
     "text": [
      "Processed 36 / 70 examples:  51%|█████▏    | 36/70 [00:10<00:04,  7.95it/s]"
     ]
    },
    {
     "name": "stderr",
     "output_type": "stream",
     "text": [
      "2025/09/10 15:27:16 WARNING dspy.predict.predict: Not all input fields were provided to module. Present: ['outputs']. Missing: ['expectations'].\n"
     ]
    },
    {
     "name": "stdout",
     "output_type": "stream",
     "text": [
      "Processed 37 / 70 examples:  53%|█████▎    | 37/70 [00:11<00:04,  7.02it/s]"
     ]
    },
    {
     "name": "stderr",
     "output_type": "stream",
     "text": [
      "2025/09/10 15:27:16 WARNING dspy.predict.predict: Not all input fields were provided to module. Present: ['outputs']. Missing: ['expectations'].\n"
     ]
    },
    {
     "name": "stdout",
     "output_type": "stream",
     "text": [
      "Processed 38 / 70 examples:  54%|█████▍    | 38/70 [00:11<00:04,  6.96it/s]"
     ]
    },
    {
     "name": "stderr",
     "output_type": "stream",
     "text": [
      "2025/09/10 15:27:16 WARNING dspy.predict.predict: Not all input fields were provided to module. Present: ['outputs']. Missing: ['expectations'].\n"
     ]
    },
    {
     "name": "stdout",
     "output_type": "stream",
     "text": [
      "Processed 39 / 70 examples:  56%|█████▌    | 39/70 [00:11<00:04,  6.29it/s]"
     ]
    },
    {
     "name": "stderr",
     "output_type": "stream",
     "text": [
      "2025/09/10 15:27:16 WARNING dspy.predict.predict: Not all input fields were provided to module. Present: ['outputs']. Missing: ['expectations'].\n"
     ]
    },
    {
     "name": "stdout",
     "output_type": "stream",
     "text": [
      "Processed 40 / 70 examples:  57%|█████▋    | 40/70 [00:11<00:05,  5.21it/s]"
     ]
    },
    {
     "name": "stderr",
     "output_type": "stream",
     "text": [
      "2025/09/10 15:27:17 WARNING dspy.predict.predict: Not all input fields were provided to module. Present: ['outputs']. Missing: ['expectations'].\n"
     ]
    },
    {
     "name": "stdout",
     "output_type": "stream",
     "text": [
      "Processed 41 / 70 examples:  59%|█████▊    | 41/70 [00:11<00:05,  5.65it/s]"
     ]
    },
    {
     "name": "stderr",
     "output_type": "stream",
     "text": [
      "2025/09/10 15:27:17 WARNING dspy.predict.predict: Not all input fields were provided to module. Present: ['outputs']. Missing: ['expectations'].\n"
     ]
    },
    {
     "name": "stdout",
     "output_type": "stream",
     "text": [
      "Processed 42 / 70 examples:  60%|██████    | 42/70 [00:12<00:06,  4.20it/s]"
     ]
    },
    {
     "name": "stderr",
     "output_type": "stream",
     "text": [
      "2025/09/10 15:27:17 WARNING dspy.predict.predict: Not all input fields were provided to module. Present: ['outputs']. Missing: ['expectations'].\n"
     ]
    },
    {
     "name": "stdout",
     "output_type": "stream",
     "text": [
      "Processed 43 / 70 examples:  61%|██████▏   | 43/70 [00:13<00:11,  2.38it/s]"
     ]
    },
    {
     "name": "stderr",
     "output_type": "stream",
     "text": [
      "2025/09/10 15:27:18 WARNING dspy.predict.predict: Not all input fields were provided to module. Present: ['outputs']. Missing: ['expectations'].\n"
     ]
    },
    {
     "name": "stdout",
     "output_type": "stream",
     "text": [
      "Processed 44 / 70 examples:  63%|██████▎   | 44/70 [00:13<00:08,  2.96it/s]"
     ]
    },
    {
     "name": "stderr",
     "output_type": "stream",
     "text": [
      "2025/09/10 15:27:18 WARNING dspy.predict.predict: Not all input fields were provided to module. Present: ['outputs']. Missing: ['expectations'].\n"
     ]
    },
    {
     "name": "stdout",
     "output_type": "stream",
     "text": [
      "Processed 45 / 70 examples:  64%|██████▍   | 45/70 [00:13<00:07,  3.18it/s]"
     ]
    },
    {
     "name": "stderr",
     "output_type": "stream",
     "text": [
      "2025/09/10 15:27:19 WARNING dspy.predict.predict: Not all input fields were provided to module. Present: ['outputs']. Missing: ['expectations'].\n"
     ]
    },
    {
     "name": "stdout",
     "output_type": "stream",
     "text": [
      "Processed 46 / 70 examples:  66%|██████▌   | 46/70 [00:13<00:07,  3.05it/s]"
     ]
    },
    {
     "name": "stderr",
     "output_type": "stream",
     "text": [
      "2025/09/10 15:27:19 WARNING dspy.predict.predict: Not all input fields were provided to module. Present: ['outputs']. Missing: ['expectations'].\n"
     ]
    },
    {
     "name": "stdout",
     "output_type": "stream",
     "text": [
      "Processed 47 / 70 examples:  66%|██████▌   | 46/70 [00:14<00:07,  3.05it/s]"
     ]
    },
    {
     "name": "stderr",
     "output_type": "stream",
     "text": [
      "2025/09/10 15:27:19 WARNING dspy.predict.predict: Not all input fields were provided to module. Present: ['outputs']. Missing: ['expectations'].\n"
     ]
    },
    {
     "name": "stdout",
     "output_type": "stream",
     "text": [
      "Processed 48 / 70 examples:  69%|██████▊   | 48/70 [00:14<00:04,  4.47it/s]"
     ]
    },
    {
     "name": "stderr",
     "output_type": "stream",
     "text": [
      "2025/09/10 15:27:19 WARNING dspy.predict.predict: Not all input fields were provided to module. Present: ['outputs']. Missing: ['expectations'].\n"
     ]
    },
    {
     "name": "stdout",
     "output_type": "stream",
     "text": [
      "Processed 49 / 70 examples:  69%|██████▊   | 48/70 [00:14<00:04,  4.47it/s]"
     ]
    },
    {
     "name": "stderr",
     "output_type": "stream",
     "text": [
      "2025/09/10 15:27:19 WARNING dspy.predict.predict: Not all input fields were provided to module. Present: ['outputs']. Missing: ['expectations'].\n"
     ]
    },
    {
     "name": "stdout",
     "output_type": "stream",
     "text": [
      "Processed 50 / 70 examples:  71%|███████▏  | 50/70 [00:14<00:04,  4.35it/s]"
     ]
    },
    {
     "name": "stderr",
     "output_type": "stream",
     "text": [
      "2025/09/10 15:27:20 WARNING dspy.predict.predict: Not all input fields were provided to module. Present: ['outputs']. Missing: ['expectations'].\n"
     ]
    },
    {
     "name": "stdout",
     "output_type": "stream",
     "text": [
      "Processed 51 / 70 examples:  73%|███████▎  | 51/70 [00:15<00:06,  2.72it/s]"
     ]
    },
    {
     "name": "stderr",
     "output_type": "stream",
     "text": [
      "2025/09/10 15:27:20 WARNING dspy.predict.predict: Not all input fields were provided to module. Present: ['outputs']. Missing: ['expectations'].\n"
     ]
    },
    {
     "name": "stdout",
     "output_type": "stream",
     "text": [
      "Processed 52 / 70 examples:  73%|███████▎  | 51/70 [00:15<00:06,  2.72it/s]"
     ]
    },
    {
     "name": "stderr",
     "output_type": "stream",
     "text": [
      "2025/09/10 15:27:20 WARNING dspy.predict.predict: Not all input fields were provided to module. Present: ['outputs']. Missing: ['expectations'].\n"
     ]
    },
    {
     "name": "stdout",
     "output_type": "stream",
     "text": [
      "Processed 53 / 70 examples:  76%|███████▌  | 53/70 [00:16<00:06,  2.46it/s]"
     ]
    },
    {
     "name": "stderr",
     "output_type": "stream",
     "text": [
      "2025/09/10 15:27:21 WARNING dspy.predict.predict: Not all input fields were provided to module. Present: ['outputs']. Missing: ['expectations'].\n"
     ]
    },
    {
     "name": "stdout",
     "output_type": "stream",
     "text": [
      "Processed 54 / 70 examples:  77%|███████▋  | 54/70 [00:16<00:06,  2.55it/s]"
     ]
    },
    {
     "name": "stderr",
     "output_type": "stream",
     "text": [
      "2025/09/10 15:27:22 WARNING dspy.predict.predict: Not all input fields were provided to module. Present: ['outputs']. Missing: ['expectations'].\n"
     ]
    },
    {
     "name": "stdout",
     "output_type": "stream",
     "text": [
      "Processed 55 / 70 examples:  77%|███████▋  | 54/70 [00:16<00:06,  2.55it/s]"
     ]
    },
    {
     "name": "stderr",
     "output_type": "stream",
     "text": [
      "2025/09/10 15:27:22 WARNING dspy.predict.predict: Not all input fields were provided to module. Present: ['outputs']. Missing: ['expectations'].\n"
     ]
    },
    {
     "name": "stdout",
     "output_type": "stream",
     "text": [
      "Processed 56 / 70 examples:  80%|████████  | 56/70 [00:17<00:05,  2.55it/s]"
     ]
    },
    {
     "name": "stderr",
     "output_type": "stream",
     "text": [
      "2025/09/10 15:27:22 WARNING dspy.predict.predict: Not all input fields were provided to module. Present: ['outputs']. Missing: ['expectations'].\n"
     ]
    },
    {
     "name": "stdout",
     "output_type": "stream",
     "text": [
      "Processed 57 / 70 examples:  81%|████████▏ | 57/70 [00:17<00:04,  2.74it/s]"
     ]
    },
    {
     "name": "stderr",
     "output_type": "stream",
     "text": [
      "2025/09/10 15:27:23 WARNING dspy.predict.predict: Not all input fields were provided to module. Present: ['outputs']. Missing: ['expectations'].\n"
     ]
    },
    {
     "name": "stdout",
     "output_type": "stream",
     "text": [
      "Processed 58 / 70 examples:  83%|████████▎ | 58/70 [00:17<00:03,  3.22it/s]"
     ]
    },
    {
     "name": "stderr",
     "output_type": "stream",
     "text": [
      "2025/09/10 15:27:23 WARNING dspy.predict.predict: Not all input fields were provided to module. Present: ['outputs']. Missing: ['expectations'].\n"
     ]
    },
    {
     "name": "stdout",
     "output_type": "stream",
     "text": [
      "Processed 59 / 70 examples:  84%|████████▍ | 59/70 [00:18<00:03,  3.44it/s]"
     ]
    },
    {
     "name": "stderr",
     "output_type": "stream",
     "text": [
      "2025/09/10 15:27:23 WARNING dspy.predict.predict: Not all input fields were provided to module. Present: ['outputs']. Missing: ['expectations'].\n"
     ]
    },
    {
     "name": "stdout",
     "output_type": "stream",
     "text": [
      "Processed 60 / 70 examples:  86%|████████▌ | 60/70 [00:19<00:04,  2.02it/s]"
     ]
    },
    {
     "name": "stderr",
     "output_type": "stream",
     "text": [
      "2025/09/10 15:27:24 WARNING dspy.predict.predict: Not all input fields were provided to module. Present: ['outputs']. Missing: ['expectations'].\n"
     ]
    },
    {
     "name": "stdout",
     "output_type": "stream",
     "text": [
      "Processed 61 / 70 examples:  87%|████████▋ | 61/70 [00:19<00:03,  2.47it/s]"
     ]
    },
    {
     "name": "stderr",
     "output_type": "stream",
     "text": [
      "2025/09/10 15:27:24 WARNING dspy.predict.predict: Not all input fields were provided to module. Present: ['outputs']. Missing: ['expectations'].\n"
     ]
    },
    {
     "name": "stdout",
     "output_type": "stream",
     "text": [
      "Processed 62 / 70 examples:  89%|████████▊ | 62/70 [00:19<00:03,  2.56it/s]"
     ]
    },
    {
     "name": "stderr",
     "output_type": "stream",
     "text": [
      "2025/09/10 15:27:25 WARNING dspy.predict.predict: Not all input fields were provided to module. Present: ['outputs']. Missing: ['expectations'].\n"
     ]
    },
    {
     "name": "stdout",
     "output_type": "stream",
     "text": [
      "Processed 70 / 70 examples: 100%|██████████| 70/70 [00:23<00:00,  3.00it/s]"
     ]
    },
    {
     "name": "stderr",
     "output_type": "stream",
     "text": [
      "2025/09/10 15:27:28 INFO dspy.teleprompt.simba: Scores after 8 batches: [0.0, 0.0, 0.0, 0.0, 0.0, 0.0, 0.0], Best: 0.0\n",
      "\n",
      "2025/09/10 15:27:28 INFO dspy.teleprompt.simba: VALIDATION: Evaluating 7 programs on the full trainset.\n",
      "2025/09/10 15:27:28 WARNING dspy.predict.predict: Not all input fields were provided to module. Present: ['outputs']. Missing: ['expectations'].\n"
     ]
    },
    {
     "name": "stdout",
     "output_type": "stream",
     "text": [
      "\n",
      "  0%|          | 0/70 [00:00<?, ?it/s]"
     ]
    },
    {
     "name": "stderr",
     "output_type": "stream",
     "text": [
      "2025/09/10 15:27:28 WARNING dspy.predict.predict: Not all input fields were provided to module. Present: ['outputs']. Missing: ['expectations'].\n"
     ]
    },
    {
     "name": "stdout",
     "output_type": "stream",
     "text": [
      "Processed 1 / 70 examples:   0%|          | 0/70 [00:00<?, ?it/s]"
     ]
    },
    {
     "name": "stderr",
     "output_type": "stream",
     "text": [
      "2025/09/10 15:27:28 WARNING dspy.predict.predict: Not all input fields were provided to module. Present: ['outputs']. Missing: ['expectations'].\n"
     ]
    },
    {
     "name": "stdout",
     "output_type": "stream",
     "text": [
      "Processed 3 / 70 examples:   3%|▎         | 2/70 [00:00<00:00, 590.17it/s]"
     ]
    },
    {
     "name": "stderr",
     "output_type": "stream",
     "text": [
      "2025/09/10 15:27:28 WARNING dspy.predict.predict: Not all input fields were provided to module. Present: ['outputs']. Missing: ['expectations'].\n",
      "2025/09/10 15:27:28 WARNING dspy.predict.predict: Not all input fields were provided to module. Present: ['outputs']. Missing: ['expectations'].\n"
     ]
    },
    {
     "name": "stdout",
     "output_type": "stream",
     "text": [
      "Processed 5 / 70 examples:   6%|▌         | 4/70 [00:00<00:00, 534.75it/s]"
     ]
    },
    {
     "name": "stderr",
     "output_type": "stream",
     "text": [
      "2025/09/10 15:27:28 WARNING dspy.predict.predict: Not all input fields were provided to module. Present: ['outputs']. Missing: ['expectations'].\n",
      "2025/09/10 15:27:28 WARNING dspy.predict.predict: Not all input fields were provided to module. Present: ['outputs']. Missing: ['expectations'].\n"
     ]
    },
    {
     "name": "stdout",
     "output_type": "stream",
     "text": [
      "Processed 6 / 70 examples:   7%|▋         | 5/70 [00:00<00:00, 504.03it/s]"
     ]
    },
    {
     "name": "stderr",
     "output_type": "stream",
     "text": [
      "2025/09/10 15:27:28 WARNING dspy.predict.predict: Not all input fields were provided to module. Present: ['outputs']. Missing: ['expectations'].\n"
     ]
    },
    {
     "name": "stdout",
     "output_type": "stream",
     "text": [
      "Processed 8 / 70 examples:  10%|█         | 7/70 [00:00<00:00, 548.76it/s]"
     ]
    },
    {
     "name": "stderr",
     "output_type": "stream",
     "text": [
      "2025/09/10 15:27:28 WARNING dspy.predict.predict: Not all input fields were provided to module. Present: ['outputs']. Missing: ['expectations'].\n"
     ]
    },
    {
     "name": "stdout",
     "output_type": "stream",
     "text": [
      "Processed 9 / 70 examples:  11%|█▏        | 8/70 [00:00<00:00, 539.67it/s]"
     ]
    },
    {
     "name": "stderr",
     "output_type": "stream",
     "text": [
      "2025/09/10 15:27:28 WARNING dspy.predict.predict: Not all input fields were provided to module. Present: ['outputs']. Missing: ['expectations'].\n"
     ]
    },
    {
     "name": "stdout",
     "output_type": "stream",
     "text": [
      "Processed 10 / 70 examples:  13%|█▎        | 9/70 [00:00<00:00, 501.53it/s]"
     ]
    },
    {
     "name": "stderr",
     "output_type": "stream",
     "text": [
      "2025/09/10 15:27:28 WARNING dspy.predict.predict: Not all input fields were provided to module. Present: ['outputs']. Missing: ['expectations'].\n"
     ]
    },
    {
     "name": "stdout",
     "output_type": "stream",
     "text": [
      "Processed 11 / 70 examples:  14%|█▍        | 10/70 [00:00<00:00, 515.70it/s]"
     ]
    },
    {
     "name": "stderr",
     "output_type": "stream",
     "text": [
      "2025/09/10 15:27:28 WARNING dspy.predict.predict: Not all input fields were provided to module. Present: ['outputs']. Missing: ['expectations'].\n"
     ]
    },
    {
     "name": "stdout",
     "output_type": "stream",
     "text": [
      "Processed 12 / 70 examples:  16%|█▌        | 11/70 [00:00<00:00, 522.61it/s]"
     ]
    },
    {
     "name": "stderr",
     "output_type": "stream",
     "text": [
      "2025/09/10 15:27:28 WARNING dspy.predict.predict: Not all input fields were provided to module. Present: ['outputs']. Missing: ['expectations'].\n"
     ]
    },
    {
     "name": "stdout",
     "output_type": "stream",
     "text": [
      "Processed 13 / 70 examples:  17%|█▋        | 12/70 [00:00<00:00, 527.61it/s]"
     ]
    },
    {
     "name": "stderr",
     "output_type": "stream",
     "text": [
      "2025/09/10 15:27:28 WARNING dspy.predict.predict: Not all input fields were provided to module. Present: ['outputs']. Missing: ['expectations'].\n",
      "2025/09/10 15:27:28 WARNING dspy.predict.predict: Not all input fields were provided to module. Present: ['outputs']. Missing: ['expectations'].\n"
     ]
    },
    {
     "name": "stdout",
     "output_type": "stream",
     "text": [
      "Processed 15 / 70 examples:  20%|██        | 14/70 [00:00<00:00, 537.24it/s]"
     ]
    },
    {
     "name": "stderr",
     "output_type": "stream",
     "text": [
      "2025/09/10 15:27:28 WARNING dspy.predict.predict: Not all input fields were provided to module. Present: ['outputs']. Missing: ['expectations'].\n"
     ]
    },
    {
     "name": "stdout",
     "output_type": "stream",
     "text": [
      "Processed 16 / 70 examples:  21%|██▏       | 15/70 [00:00<00:00, 542.16it/s]"
     ]
    },
    {
     "name": "stderr",
     "output_type": "stream",
     "text": [
      "2025/09/10 15:27:28 WARNING dspy.predict.predict: Not all input fields were provided to module. Present: ['outputs']. Missing: ['expectations'].\n"
     ]
    },
    {
     "name": "stdout",
     "output_type": "stream",
     "text": [
      "Processed 17 / 70 examples:  23%|██▎       | 16/70 [00:00<00:00, 534.54it/s]"
     ]
    },
    {
     "name": "stderr",
     "output_type": "stream",
     "text": [
      "2025/09/10 15:27:28 WARNING dspy.predict.predict: Not all input fields were provided to module. Present: ['outputs']. Missing: ['expectations'].\n",
      "2025/09/10 15:27:28 WARNING dspy.predict.predict: Not all input fields were provided to module. Present: ['outputs']. Missing: ['expectations'].\n"
     ]
    },
    {
     "name": "stdout",
     "output_type": "stream",
     "text": [
      "Processed 18 / 70 examples:  24%|██▍       | 17/70 [00:00<00:00, 462.73it/s]"
     ]
    },
    {
     "name": "stderr",
     "output_type": "stream",
     "text": [
      "2025/09/10 15:27:28 WARNING dspy.predict.predict: Not all input fields were provided to module. Present: ['outputs']. Missing: ['expectations'].\n"
     ]
    },
    {
     "name": "stdout",
     "output_type": "stream",
     "text": [
      "Processed 20 / 70 examples:  27%|██▋       | 19/70 [00:00<00:00, 481.85it/s]"
     ]
    },
    {
     "name": "stderr",
     "output_type": "stream",
     "text": [
      "2025/09/10 15:27:28 WARNING dspy.predict.predict: Not all input fields were provided to module. Present: ['outputs']. Missing: ['expectations'].\n",
      "2025/09/10 15:27:28 WARNING dspy.predict.predict: Not all input fields were provided to module. Present: ['outputs']. Missing: ['expectations'].\n"
     ]
    },
    {
     "name": "stdout",
     "output_type": "stream",
     "text": [
      "Processed 22 / 70 examples:  30%|███       | 21/70 [00:00<00:00, 492.07it/s]"
     ]
    },
    {
     "name": "stderr",
     "output_type": "stream",
     "text": [
      "2025/09/10 15:27:28 WARNING dspy.predict.predict: Not all input fields were provided to module. Present: ['outputs']. Missing: ['expectations'].\n",
      "2025/09/10 15:27:28 WARNING dspy.predict.predict: Not all input fields were provided to module. Present: ['outputs']. Missing: ['expectations'].\n"
     ]
    },
    {
     "name": "stdout",
     "output_type": "stream",
     "text": [
      "Processed 23 / 70 examples:  31%|███▏      | 22/70 [00:00<00:00, 477.30it/s]"
     ]
    },
    {
     "name": "stderr",
     "output_type": "stream",
     "text": [
      "2025/09/10 15:27:28 WARNING dspy.predict.predict: Not all input fields were provided to module. Present: ['outputs']. Missing: ['expectations'].\n"
     ]
    },
    {
     "name": "stdout",
     "output_type": "stream",
     "text": [
      "Processed 24 / 70 examples:  33%|███▎      | 23/70 [00:00<00:00, 470.33it/s]"
     ]
    },
    {
     "name": "stderr",
     "output_type": "stream",
     "text": [
      "2025/09/10 15:27:28 WARNING dspy.predict.predict: Not all input fields were provided to module. Present: ['outputs']. Missing: ['expectations'].\n"
     ]
    },
    {
     "name": "stdout",
     "output_type": "stream",
     "text": [
      "Processed 25 / 70 examples:  34%|███▍      | 24/70 [00:00<00:00, 487.89it/s]"
     ]
    },
    {
     "name": "stderr",
     "output_type": "stream",
     "text": [
      "2025/09/10 15:27:28 WARNING dspy.predict.predict: Not all input fields were provided to module. Present: ['outputs']. Missing: ['expectations'].\n"
     ]
    },
    {
     "name": "stdout",
     "output_type": "stream",
     "text": [
      "Processed 25 / 70 examples:  36%|███▌      | 25/70 [00:00<00:00, 187.36it/s]"
     ]
    },
    {
     "name": "stderr",
     "output_type": "stream",
     "text": [
      "2025/09/10 15:27:28 WARNING dspy.predict.predict: Not all input fields were provided to module. Present: ['outputs']. Missing: ['expectations'].\n"
     ]
    },
    {
     "name": "stdout",
     "output_type": "stream",
     "text": [
      "Processed 26 / 70 examples:  36%|███▌      | 25/70 [00:00<00:00, 187.36it/s]"
     ]
    },
    {
     "name": "stderr",
     "output_type": "stream",
     "text": [
      "2025/09/10 15:27:28 WARNING dspy.predict.predict: Not all input fields were provided to module. Present: ['outputs']. Missing: ['expectations'].\n"
     ]
    },
    {
     "name": "stdout",
     "output_type": "stream",
     "text": [
      "Processed 27 / 70 examples:  37%|███▋      | 26/70 [00:00<00:00, 187.36it/s]"
     ]
    },
    {
     "name": "stderr",
     "output_type": "stream",
     "text": [
      "2025/09/10 15:27:28 WARNING dspy.predict.predict: Not all input fields were provided to module. Present: ['outputs']. Missing: ['expectations'].\n"
     ]
    },
    {
     "name": "stdout",
     "output_type": "stream",
     "text": [
      "Processed 28 / 70 examples:  39%|███▊      | 27/70 [00:00<00:00, 187.36it/s]"
     ]
    },
    {
     "name": "stderr",
     "output_type": "stream",
     "text": [
      "2025/09/10 15:27:28 WARNING dspy.predict.predict: Not all input fields were provided to module. Present: ['outputs']. Missing: ['expectations'].\n"
     ]
    },
    {
     "name": "stdout",
     "output_type": "stream",
     "text": [
      "Processed 29 / 70 examples:  40%|████      | 28/70 [00:00<00:00, 187.36it/s]"
     ]
    },
    {
     "name": "stderr",
     "output_type": "stream",
     "text": [
      "2025/09/10 15:27:28 WARNING dspy.predict.predict: Not all input fields were provided to module. Present: ['outputs']. Missing: ['expectations'].\n"
     ]
    },
    {
     "name": "stdout",
     "output_type": "stream",
     "text": [
      "Processed 30 / 70 examples:  41%|████▏     | 29/70 [00:00<00:00, 187.36it/s]"
     ]
    },
    {
     "name": "stderr",
     "output_type": "stream",
     "text": [
      "2025/09/10 15:27:28 WARNING dspy.predict.predict: Not all input fields were provided to module. Present: ['outputs']. Missing: ['expectations'].\n"
     ]
    },
    {
     "name": "stdout",
     "output_type": "stream",
     "text": [
      "Processed 32 / 70 examples:  44%|████▍     | 31/70 [00:00<00:00, 187.36it/s]"
     ]
    },
    {
     "name": "stderr",
     "output_type": "stream",
     "text": [
      "2025/09/10 15:27:28 WARNING dspy.predict.predict: Not all input fields were provided to module. Present: ['outputs']. Missing: ['expectations'].\n",
      "2025/09/10 15:27:28 WARNING dspy.predict.predict: Not all input fields were provided to module. Present: ['outputs']. Missing: ['expectations'].\n"
     ]
    },
    {
     "name": "stdout",
     "output_type": "stream",
     "text": [
      "Processed 34 / 70 examples:  47%|████▋     | 33/70 [00:00<00:00, 187.36it/s]"
     ]
    },
    {
     "name": "stderr",
     "output_type": "stream",
     "text": [
      "2025/09/10 15:27:28 WARNING dspy.predict.predict: Not all input fields were provided to module. Present: ['outputs']. Missing: ['expectations'].\n"
     ]
    },
    {
     "name": "stdout",
     "output_type": "stream",
     "text": [
      "Processed 35 / 70 examples:  49%|████▊     | 34/70 [00:00<00:00, 187.36it/s]"
     ]
    },
    {
     "name": "stderr",
     "output_type": "stream",
     "text": [
      "2025/09/10 15:27:28 WARNING dspy.predict.predict: Not all input fields were provided to module. Present: ['outputs']. Missing: ['expectations'].\n"
     ]
    },
    {
     "name": "stdout",
     "output_type": "stream",
     "text": [
      "Processed 36 / 70 examples:  50%|█████     | 35/70 [00:00<00:00, 187.36it/s]"
     ]
    },
    {
     "name": "stderr",
     "output_type": "stream",
     "text": [
      "2025/09/10 15:27:28 WARNING dspy.predict.predict: Not all input fields were provided to module. Present: ['outputs']. Missing: ['expectations'].\n"
     ]
    },
    {
     "name": "stdout",
     "output_type": "stream",
     "text": [
      "Processed 37 / 70 examples:  51%|█████▏    | 36/70 [00:00<00:00, 187.36it/s]"
     ]
    },
    {
     "name": "stderr",
     "output_type": "stream",
     "text": [
      "2025/09/10 15:27:28 WARNING dspy.predict.predict: Not all input fields were provided to module. Present: ['outputs']. Missing: ['expectations'].\n"
     ]
    },
    {
     "name": "stdout",
     "output_type": "stream",
     "text": [
      "Processed 39 / 70 examples:  54%|█████▍    | 38/70 [00:00<00:00, 187.36it/s]"
     ]
    },
    {
     "name": "stderr",
     "output_type": "stream",
     "text": [
      "2025/09/10 15:27:28 WARNING dspy.predict.predict: Not all input fields were provided to module. Present: ['outputs']. Missing: ['expectations'].\n"
     ]
    },
    {
     "name": "stdout",
     "output_type": "stream",
     "text": [
      "Processed 40 / 70 examples:  56%|█████▌    | 39/70 [00:00<00:00, 187.36it/s]"
     ]
    },
    {
     "name": "stderr",
     "output_type": "stream",
     "text": [
      "2025/09/10 15:27:28 WARNING dspy.predict.predict: Not all input fields were provided to module. Present: ['outputs']. Missing: ['expectations'].\n"
     ]
    },
    {
     "name": "stdout",
     "output_type": "stream",
     "text": [
      "Processed 41 / 70 examples:  57%|█████▋    | 40/70 [00:00<00:00, 187.36it/s]"
     ]
    },
    {
     "name": "stderr",
     "output_type": "stream",
     "text": [
      "2025/09/10 15:27:28 WARNING dspy.predict.predict: Not all input fields were provided to module. Present: ['outputs']. Missing: ['expectations'].\n",
      "2025/09/10 15:27:28 WARNING dspy.predict.predict: Not all input fields were provided to module. Present: ['outputs']. Missing: ['expectations'].\n"
     ]
    },
    {
     "name": "stdout",
     "output_type": "stream",
     "text": [
      "Processed 42 / 70 examples:  59%|█████▊    | 41/70 [00:00<00:00, 187.36it/s]"
     ]
    },
    {
     "name": "stderr",
     "output_type": "stream",
     "text": [
      "2025/09/10 15:27:28 WARNING dspy.predict.predict: Not all input fields were provided to module. Present: ['outputs']. Missing: ['expectations'].\n"
     ]
    },
    {
     "name": "stdout",
     "output_type": "stream",
     "text": [
      "Processed 43 / 70 examples:  60%|██████    | 42/70 [00:00<00:00, 187.36it/s]"
     ]
    },
    {
     "name": "stderr",
     "output_type": "stream",
     "text": [
      "2025/09/10 15:27:28 WARNING dspy.predict.predict: Not all input fields were provided to module. Present: ['outputs']. Missing: ['expectations'].\n"
     ]
    },
    {
     "name": "stdout",
     "output_type": "stream",
     "text": [
      "Processed 45 / 70 examples:  63%|██████▎   | 44/70 [00:00<00:00, 187.36it/s]"
     ]
    },
    {
     "name": "stderr",
     "output_type": "stream",
     "text": [
      "2025/09/10 15:27:28 WARNING dspy.predict.predict: Not all input fields were provided to module. Present: ['outputs']. Missing: ['expectations'].\n"
     ]
    },
    {
     "name": "stdout",
     "output_type": "stream",
     "text": [
      "Processed 46 / 70 examples:  64%|██████▍   | 45/70 [00:00<00:00, 187.36it/s]"
     ]
    },
    {
     "name": "stderr",
     "output_type": "stream",
     "text": [
      "2025/09/10 15:27:28 WARNING dspy.predict.predict: Not all input fields were provided to module. Present: ['outputs']. Missing: ['expectations'].\n",
      "2025/09/10 15:27:28 WARNING dspy.predict.predict: Not all input fields were provided to module. Present: ['outputs']. Missing: ['expectations'].\n"
     ]
    },
    {
     "name": "stdout",
     "output_type": "stream",
     "text": [
      "Processed 47 / 70 examples:  66%|██████▌   | 46/70 [00:00<00:00, 187.36it/s]"
     ]
    },
    {
     "name": "stderr",
     "output_type": "stream",
     "text": [
      "2025/09/10 15:27:28 WARNING dspy.predict.predict: Not all input fields were provided to module. Present: ['outputs']. Missing: ['expectations'].\n"
     ]
    },
    {
     "name": "stdout",
     "output_type": "stream",
     "text": [
      "Processed 48 / 70 examples:  67%|██████▋   | 47/70 [00:00<00:00, 187.36it/s]"
     ]
    },
    {
     "name": "stderr",
     "output_type": "stream",
     "text": [
      "2025/09/10 15:27:28 WARNING dspy.predict.predict: Not all input fields were provided to module. Present: ['outputs']. Missing: ['expectations'].\n"
     ]
    },
    {
     "name": "stdout",
     "output_type": "stream",
     "text": [
      "Processed 49 / 70 examples:  69%|██████▊   | 48/70 [00:00<00:00, 187.36it/s]"
     ]
    },
    {
     "name": "stderr",
     "output_type": "stream",
     "text": [
      "2025/09/10 15:27:28 WARNING dspy.predict.predict: Not all input fields were provided to module. Present: ['outputs']. Missing: ['expectations'].\n"
     ]
    },
    {
     "name": "stdout",
     "output_type": "stream",
     "text": [
      "Processed 50 / 70 examples:  70%|███████   | 49/70 [00:00<00:00, 187.36it/s]"
     ]
    },
    {
     "name": "stderr",
     "output_type": "stream",
     "text": [
      "2025/09/10 15:27:28 WARNING dspy.predict.predict: Not all input fields were provided to module. Present: ['outputs']. Missing: ['expectations'].\n"
     ]
    },
    {
     "name": "stdout",
     "output_type": "stream",
     "text": [
      "Processed 51 / 70 examples:  71%|███████▏  | 50/70 [00:00<00:00, 187.36it/s]"
     ]
    },
    {
     "name": "stderr",
     "output_type": "stream",
     "text": [
      "2025/09/10 15:27:28 WARNING dspy.predict.predict: Not all input fields were provided to module. Present: ['outputs']. Missing: ['expectations'].\n"
     ]
    },
    {
     "name": "stdout",
     "output_type": "stream",
     "text": [
      "Processed 52 / 70 examples:  73%|███████▎  | 51/70 [00:00<00:00, 187.36it/s]"
     ]
    },
    {
     "name": "stderr",
     "output_type": "stream",
     "text": [
      "2025/09/10 15:27:28 WARNING dspy.predict.predict: Not all input fields were provided to module. Present: ['outputs']. Missing: ['expectations'].\n"
     ]
    },
    {
     "name": "stdout",
     "output_type": "stream",
     "text": [
      "Processed 53 / 70 examples:  74%|███████▍  | 52/70 [00:00<00:00, 187.36it/s]"
     ]
    },
    {
     "name": "stderr",
     "output_type": "stream",
     "text": [
      "2025/09/10 15:27:28 WARNING dspy.predict.predict: Not all input fields were provided to module. Present: ['outputs']. Missing: ['expectations'].\n"
     ]
    },
    {
     "name": "stdout",
     "output_type": "stream",
     "text": [
      "Processed 54 / 70 examples:  76%|███████▌  | 53/70 [00:00<00:00, 187.36it/s]"
     ]
    },
    {
     "name": "stderr",
     "output_type": "stream",
     "text": [
      "2025/09/10 15:27:28 WARNING dspy.predict.predict: Not all input fields were provided to module. Present: ['outputs']. Missing: ['expectations'].\n"
     ]
    },
    {
     "name": "stdout",
     "output_type": "stream",
     "text": [
      "Processed 55 / 70 examples:  77%|███████▋  | 54/70 [00:00<00:00, 187.36it/s]"
     ]
    },
    {
     "name": "stderr",
     "output_type": "stream",
     "text": [
      "2025/09/10 15:27:28 WARNING dspy.predict.predict: Not all input fields were provided to module. Present: ['outputs']. Missing: ['expectations'].\n",
      "2025/09/10 15:27:28 WARNING dspy.predict.predict: Not all input fields were provided to module. Present: ['outputs']. Missing: ['expectations'].\n"
     ]
    },
    {
     "name": "stdout",
     "output_type": "stream",
     "text": [
      "Processed 56 / 70 examples:  79%|███████▊  | 55/70 [00:00<00:00, 187.36it/s]"
     ]
    },
    {
     "name": "stderr",
     "output_type": "stream",
     "text": [
      "2025/09/10 15:27:28 WARNING dspy.predict.predict: Not all input fields were provided to module. Present: ['outputs']. Missing: ['expectations'].\n"
     ]
    },
    {
     "name": "stdout",
     "output_type": "stream",
     "text": [
      "Processed 57 / 70 examples:  80%|████████  | 56/70 [00:00<00:00, 187.36it/s]"
     ]
    },
    {
     "name": "stderr",
     "output_type": "stream",
     "text": [
      "2025/09/10 15:27:28 WARNING dspy.predict.predict: Not all input fields were provided to module. Present: ['outputs']. Missing: ['expectations'].\n"
     ]
    },
    {
     "name": "stdout",
     "output_type": "stream",
     "text": [
      "Processed 59 / 70 examples:  83%|████████▎ | 58/70 [00:00<00:00, 187.36it/s]"
     ]
    },
    {
     "name": "stderr",
     "output_type": "stream",
     "text": [
      "2025/09/10 15:27:28 WARNING dspy.predict.predict: Not all input fields were provided to module. Present: ['outputs']. Missing: ['expectations'].\n"
     ]
    },
    {
     "name": "stdout",
     "output_type": "stream",
     "text": [
      "Processed 60 / 70 examples:  84%|████████▍ | 59/70 [00:00<00:00, 187.36it/s]"
     ]
    },
    {
     "name": "stderr",
     "output_type": "stream",
     "text": [
      "2025/09/10 15:27:28 WARNING dspy.predict.predict: Not all input fields were provided to module. Present: ['outputs']. Missing: ['expectations'].\n"
     ]
    },
    {
     "name": "stdout",
     "output_type": "stream",
     "text": [
      "Processed 61 / 70 examples:  86%|████████▌ | 60/70 [00:00<00:00, 187.36it/s]"
     ]
    },
    {
     "name": "stderr",
     "output_type": "stream",
     "text": [
      "2025/09/10 15:27:28 WARNING dspy.predict.predict: Not all input fields were provided to module. Present: ['outputs']. Missing: ['expectations'].\n"
     ]
    },
    {
     "name": "stdout",
     "output_type": "stream",
     "text": [
      "Processed 62 / 70 examples:  87%|████████▋ | 61/70 [00:00<00:00, 187.36it/s]"
     ]
    },
    {
     "name": "stderr",
     "output_type": "stream",
     "text": [
      "2025/09/10 15:27:28 WARNING dspy.predict.predict: Not all input fields were provided to module. Present: ['outputs']. Missing: ['expectations'].\n"
     ]
    },
    {
     "name": "stdout",
     "output_type": "stream",
     "text": [
      "Processed 63 / 70 examples:  89%|████████▊ | 62/70 [00:00<00:00, 187.36it/s]"
     ]
    },
    {
     "name": "stderr",
     "output_type": "stream",
     "text": [
      "2025/09/10 15:27:28 WARNING dspy.predict.predict: Not all input fields were provided to module. Present: ['outputs']. Missing: ['expectations'].\n"
     ]
    },
    {
     "name": "stdout",
     "output_type": "stream",
     "text": [
      "Processed 65 / 70 examples:  91%|█████████▏| 64/70 [00:00<00:00, 187.36it/s]"
     ]
    },
    {
     "name": "stderr",
     "output_type": "stream",
     "text": [
      "2025/09/10 15:27:28 WARNING dspy.predict.predict: Not all input fields were provided to module. Present: ['outputs']. Missing: ['expectations'].\n"
     ]
    },
    {
     "name": "stdout",
     "output_type": "stream",
     "text": [
      "Processed 66 / 70 examples:  93%|█████████▎| 65/70 [00:00<00:00, 187.36it/s]"
     ]
    },
    {
     "name": "stderr",
     "output_type": "stream",
     "text": [
      "2025/09/10 15:27:28 WARNING dspy.predict.predict: Not all input fields were provided to module. Present: ['outputs']. Missing: ['expectations'].\n"
     ]
    },
    {
     "name": "stdout",
     "output_type": "stream",
     "text": [
      "Processed 67 / 70 examples:  94%|█████████▍| 66/70 [00:00<00:00, 187.36it/s]"
     ]
    },
    {
     "name": "stderr",
     "output_type": "stream",
     "text": [
      "2025/09/10 15:27:28 WARNING dspy.predict.predict: Not all input fields were provided to module. Present: ['outputs']. Missing: ['expectations'].\n"
     ]
    },
    {
     "name": "stdout",
     "output_type": "stream",
     "text": [
      "Processed 68 / 70 examples:  96%|█████████▌| 67/70 [00:00<00:00, 187.36it/s]"
     ]
    },
    {
     "name": "stderr",
     "output_type": "stream",
     "text": [
      "2025/09/10 15:27:28 WARNING dspy.predict.predict: Not all input fields were provided to module. Present: ['outputs']. Missing: ['expectations'].\n"
     ]
    },
    {
     "name": "stdout",
     "output_type": "stream",
     "text": [
      "Processed 69 / 70 examples:  97%|█████████▋| 68/70 [00:00<00:00, 187.36it/s]"
     ]
    },
    {
     "name": "stderr",
     "output_type": "stream",
     "text": [
      "2025/09/10 15:27:28 WARNING dspy.predict.predict: Not all input fields were provided to module. Present: ['outputs']. Missing: ['expectations'].\n"
     ]
    },
    {
     "name": "stdout",
     "output_type": "stream",
     "text": [
      "Processed 70 / 70 examples: 100%|██████████| 70/70 [00:00<00:00, 301.54it/s]"
     ]
    },
    {
     "name": "stderr",
     "output_type": "stream",
     "text": [
      "2025/09/10 15:27:28 INFO dspy.teleprompt.simba: Final trainset scores: [0.0, 0.0, 0.0, 0.0, 0.0, 0.0, 0.0], Best: 0.0 (at index 0)\n",
      "\n",
      "\n",
      "\n"
     ]
    },
    {
     "name": "stdout",
     "output_type": "stream",
     "text": [
      "\n",
      "\n",
      "✅ Alignment complete!\n",
      "\n",
      "AFTER ALIGNMENT:\n",
      "--------------------\n",
      "Aligned Instructions:\n",
      "Compare the response to the expected answer.\n",
      "\n",
      "Response: {{ outputs }}\n",
      "Expected: {{ expectations }}\n",
      "\n",
      "Score 1-5 based on accuracy:\n",
      "- 5: Matches expected answer closely\n",
      "- 4: Mostly accurate\n",
      "- 3: Partially accurate\n",
      "- 2: Some inaccuracies  \n",
      "- 1: Inaccurate\n",
      "\n",
      "📈 Testing Aligned Judge:\n",
      "--------------------\n",
      "Original Score: 1 (too strict)\n",
      "Aligned Score: 1 (more reasonable)\n",
      "\n",
      "🎯 KEY INSIGHT:\n",
      "The SIMBA optimizer learned from human feedback that the judge was being\n",
      "too strict about exact matches. It rewrote the instructions to accept\n",
      "conceptually accurate responses, not just exact text matches.\n"
     ]
    }
   ],
   "source": [
    "# Align the accuracy judge using SIMBA optimizer\n",
    "from mlflow.genai.judges.optimizers import SIMBAAlignmentOptimizer\n",
    "\n",
    "print(\"Aligning Accuracy Judge with human feedback using SIMBA optimizer\\n\")\n",
    "print(\"=\" * 60)\n",
    "print(\"\\n📋 Context:\")\n",
    "print(\"- Helpfulness judge: Already gives reasonable scores (4-5 range)\")\n",
    "print(\"- Accuracy judge: Gives all 1s - needs alignment to fix overly strict scoring\")\n",
    "print(\"\\nWe'll only align the accuracy judge to save time (alignment takes ~10 minutes)\\n\")\n",
    "\n",
    "# Create an alignment optimizer\n",
    "optimizer = SIMBAAlignmentOptimizer()\n",
    "\n",
    "# Refresh traces to get updated assessments\n",
    "print(\"Refreshing traces to get latest assessments...\")\n",
    "fresh_traces = client.search_traces(\n",
    "    experiment_ids=[experiment],\n",
    "    max_results=10\n",
    ")\n",
    "\n",
    "# Check alignment readiness for accuracy judge\n",
    "alignment_ready_traces = []\n",
    "for trace in fresh_traces:\n",
    "    full_trace = mlflow.get_trace(trace.info.request_id)\n",
    "    if hasattr(full_trace.info, 'assessments') and full_trace.info.assessments:\n",
    "        has_judge_assessment = any(\n",
    "            assessment.name == \"accuracy_judge\" and str(assessment.source.source_type) == \"LLM_JUDGE\"\n",
    "            for assessment in full_trace.info.assessments\n",
    "        )\n",
    "        has_human_assessment = any(\n",
    "            assessment.name == \"accuracy_judge\" and str(assessment.source.source_type) == \"HUMAN\"\n",
    "            for assessment in full_trace.info.assessments\n",
    "        )\n",
    "        \n",
    "        if has_judge_assessment and has_human_assessment:\n",
    "            alignment_ready_traces.append(full_trace)\n",
    "\n",
    "print(f\"Found {len(alignment_ready_traces)} traces ready for accuracy judge alignment\")\n",
    "\n",
    "if len(alignment_ready_traces) >= 10:\n",
    "    print(f\"\\n📊 ALIGNING ACCURACY JUDGE\")\n",
    "    print(\"=\" * 40)\n",
    "    \n",
    "    print(\"\\nBEFORE ALIGNMENT:\")\n",
    "    print(\"-\" * 20)\n",
    "    print(\"Original Instructions:\")\n",
    "    print(judge2.instructions)\n",
    "    \n",
    "    print(\"\\n⏳ Starting alignment (this will take ~10 minutes)...\")\n",
    "    \n",
    "    # Align the accuracy judge\n",
    "    aligned_accuracy_judge = judge2.align(optimizer, alignment_ready_traces)\n",
    "    \n",
    "    print(\"\\n✅ Alignment complete!\")\n",
    "    \n",
    "    print(\"\\nAFTER ALIGNMENT:\")\n",
    "    print(\"-\" * 20)\n",
    "    print(\"Aligned Instructions:\")\n",
    "    print(aligned_accuracy_judge.instructions)\n",
    "    \n",
    "    # Test the aligned judge on one trace\n",
    "    print(\"\\n📈 Testing Aligned Judge:\")\n",
    "    print(\"-\" * 20)\n",
    "    test_trace = alignment_ready_traces[0]\n",
    "    \n",
    "    original_result = judge2(trace=test_trace)\n",
    "    aligned_result = aligned_accuracy_judge(trace=test_trace)\n",
    "    \n",
    "    print(f\"Original Score: {original_result.value} (too strict)\")\n",
    "    print(f\"Aligned Score: {aligned_result.value} (more reasonable)\")\n",
    "    \n",
    "    # Log the aligned assessment for comparison\n",
    "    mlflow.log_assessment(trace_id=test_trace.info.request_id, assessment=aligned_result)\n",
    "    \n",
    "    print(\"\\n🎯 KEY INSIGHT:\")\n",
    "    print(\"The SIMBA optimizer learned from human feedback that the judge was being\")\n",
    "    print(\"too strict about exact matches. It rewrote the instructions to accept\")\n",
    "    print(\"conceptually accurate responses, not just exact text matches.\")\n",
    "    \n",
    "else:\n",
    "    print(f\"\\n⚠️ Need at least 10 traces for alignment (have {len(alignment_ready_traces)})\")\n",
    "    print(\"Make sure both judge evaluation and human feedback steps completed.\")"
   ]
  },
  {
   "cell_type": "code",
   "execution_count": 21,
   "metadata": {},
   "outputs": [
    {
     "name": "stdout",
     "output_type": "stream",
     "text": [
      "\n",
      "    Compare the response to the expected answer.\n",
      "    \n",
      "    Response: {{ outputs }}\n",
      "    Expected: {{ expectations }}\n",
      "    \n",
      "    Score 1-5 based on accuracy:\n",
      "    - 5: Matches expected answer closely\n",
      "    - 4: Mostly accurate\n",
      "    - 3: Partially accurate\n",
      "    - 2: Some inaccuracies  \n",
      "    - 1: Inaccurate\n",
      "    \n"
     ]
    }
   ],
   "source": [
    "#original instructions:\n",
    "print(judge2.instructions)"
   ]
  },
  {
   "cell_type": "code",
   "execution_count": 22,
   "metadata": {},
   "outputs": [
    {
     "name": "stdout",
     "output_type": "stream",
     "text": [
      "Compare the response to the expected answer.\n",
      "\n",
      "Response: {{ outputs }}\n",
      "Expected: {{ expectations }}\n",
      "\n",
      "Score 1-5 based on accuracy:\n",
      "- 5: Matches expected answer closely\n",
      "- 4: Mostly accurate\n",
      "- 3: Partially accurate\n",
      "- 2: Some inaccuracies  \n",
      "- 1: Inaccurate\n"
     ]
    }
   ],
   "source": [
    "# return judge from align() call instructions:\n",
    "print(aligned_accuracy_judge.instructions)"
   ]
  },
  {
   "cell_type": "markdown",
   "metadata": {},
   "source": [
    "## Summary\n",
    "\n",
    "This notebook demonstrates the complete MLflow Judges workflow:\n",
    "\n",
    "### ✅ **What We Did:**\n",
    "1. Generated 10 ML chat traces with questions and responses\n",
    "2. Added human expectations (ground truth) for each trace\n",
    "3. Created two judges:\n",
    "   - **Helpfulness Judge**: Rates how helpful responses are (gave all 5s)\n",
    "   - **Accuracy Judge**: Compares to expectations (gave all 1s - too strict!)\n",
    "4. Added human feedback showing the accuracy judge was scoring too low\n",
    "5. Used SIMBA optimizer to align the accuracy judge with human feedback\n",
    "\n",
    "### 🎯 **Key Learning:**\n",
    "- **Problem**: Accuracy judge was too strict, expecting exact text matches\n",
    "- **Solution**: SIMBA learned from human feedback and rewrote the instructions\n",
    "- **Result**: Aligned judge now accepts conceptually accurate responses\n",
    "\n",
    "### 🔍 **View Results:**\n",
    "Check the MLflow UI at http://localhost:5000 to see all traces, assessments, and the before/after alignment comparison!"
   ]
  }
 ],
 "metadata": {
  "kernelspec": {
   "display_name": "mlflow-311",
   "language": "python",
   "name": "python3"
  },
  "language_info": {
   "codemirror_mode": {
    "name": "ipython",
    "version": 3
   },
   "file_extension": ".py",
   "mimetype": "text/x-python",
   "name": "python",
   "nbconvert_exporter": "python",
   "pygments_lexer": "ipython3",
   "version": "3.11.9"
  }
 },
 "nbformat": 4,
 "nbformat_minor": 4
}
