{
 "cells": [
  {
   "cell_type": "markdown",
   "metadata": {
    "application/vnd.databricks.v1+cell": {
     "cellMetadata": {
      "byteLimit": 2048000,
      "rowLimit": 10000
     },
     "inputWidgets": {},
     "nuid": "2877aa82-8820-4685-b646-fb475f4f9af6",
     "showTitle": false,
     "title": ""
    }
   },
   "source": [
    "# Deploy an MLflow `PyFunc` model with Model Serving\n",
    "\n",
    "In this notebook, learn how to deploy a custom MLflow PyFunc model to a serving endpoint. MLflow pyfunc offers greater flexibility and customization to your deployment. You can run any custom model, add preprocessing or post-processing logic, or execute any arbitrary Python code. While using the MLflow built-in flavor is recommended for optimal performance, you can use MLflow PyFunc models where more customization is required. "
   ]
  },
  {
   "cell_type": "markdown",
   "metadata": {
    "application/vnd.databricks.v1+cell": {
     "cellMetadata": {
      "byteLimit": 2048000,
      "rowLimit": 10000
     },
     "inputWidgets": {},
     "nuid": "7e55e4c6-b8c8-4edb-8745-42414175e906",
     "showTitle": false,
     "title": ""
    }
   },
   "source": [
    "## Install and import libraries "
   ]
  },
  {
   "cell_type": "code",
   "execution_count": 13,
   "metadata": {},
   "outputs": [
    {
     "name": "stderr",
     "output_type": "stream",
     "text": [
      "213.32s - pydevd: Sending message related to process being replaced timed-out after 5 seconds\n"
     ]
    }
   ],
   "source": [
    "%pip install --upgrade mlflow scikit-learn -q"
   ]
  },
  {
   "cell_type": "code",
   "execution_count": 2,
   "metadata": {
    "application/vnd.databricks.v1+cell": {
     "cellMetadata": {
      "byteLimit": 2048000,
      "rowLimit": 10000
     },
     "inputWidgets": {},
     "nuid": "ddca5a37-60a7-4a0a-81c6-684a3296f51b",
     "showTitle": false,
     "title": ""
    }
   },
   "outputs": [],
   "source": [
    "import json\n",
    "import warnings\n",
    "\n",
    "import numpy as np\n",
    "import pandas as pd\n",
    "import requests\n",
    "from sklearn.ensemble import RandomForestRegressor\n",
    "\n",
    "import mlflow\n",
    "from mlflow.models import infer_signature\n",
    "\n",
    "warnings.filterwarnings(\"ignore\")"
   ]
  },
  {
   "cell_type": "code",
   "execution_count": 3,
   "metadata": {
    "application/vnd.databricks.v1+cell": {
     "cellMetadata": {
      "byteLimit": 2048000,
      "rowLimit": 10000
     },
     "inputWidgets": {},
     "nuid": "d15dfcfe-b2f7-4e56-8b1c-e1a137235742",
     "showTitle": false,
     "title": ""
    }
   },
   "outputs": [],
   "source": [
    "DOW_MODEL_NAME_PREFIX = \"DOW_model_\"\n",
    "MME_MODEL_NAME = \"MME_DOW_model\""
   ]
  },
  {
   "cell_type": "markdown",
   "metadata": {
    "application/vnd.databricks.v1+cell": {
     "cellMetadata": {
      "byteLimit": 2048000,
      "rowLimit": 10000
     },
     "inputWidgets": {},
     "nuid": "2dfb4e47-62f4-428a-b956-19402e664bc8",
     "showTitle": false,
     "title": ""
    }
   },
   "source": [
    "## 1 - Create Some Sample Models"
   ]
  },
  {
   "cell_type": "markdown",
   "metadata": {
    "application/vnd.databricks.v1+cell": {
     "cellMetadata": {},
     "inputWidgets": {},
     "nuid": "3420ad3e-fe51-4974-af8f-f0d71fdbf4f4",
     "showTitle": false,
     "title": ""
    }
   },
   "source": [
    "#### 1.1 - Create Dummy Data"
   ]
  },
  {
   "cell_type": "code",
   "execution_count": 4,
   "metadata": {
    "application/vnd.databricks.v1+cell": {
     "cellMetadata": {
      "byteLimit": 2048000,
      "rowLimit": 10000
     },
     "inputWidgets": {},
     "nuid": "3753aa5a-9f27-4c98-9058-b7ec50fcaa8b",
     "showTitle": false,
     "title": ""
    }
   },
   "outputs": [
    {
     "name": "stdout",
     "output_type": "stream",
     "text": [
      "(15000, 5)\n"
     ]
    },
    {
     "data": {
      "text/html": [
       "<div>\n",
       "<style scoped>\n",
       "    .dataframe tbody tr th:only-of-type {\n",
       "        vertical-align: middle;\n",
       "    }\n",
       "\n",
       "    .dataframe tbody tr th {\n",
       "        vertical-align: top;\n",
       "    }\n",
       "\n",
       "    .dataframe thead th {\n",
       "        text-align: right;\n",
       "    }\n",
       "</style>\n",
       "<table border=\"1\" class=\"dataframe\">\n",
       "  <thead>\n",
       "    <tr style=\"text-align: right;\">\n",
       "      <th></th>\n",
       "      <th>x1</th>\n",
       "      <th>x2</th>\n",
       "      <th>x3</th>\n",
       "      <th>y</th>\n",
       "      <th>dow</th>\n",
       "    </tr>\n",
       "  </thead>\n",
       "  <tbody>\n",
       "    <tr>\n",
       "      <th>2024-01-26 18:30:42.810981</th>\n",
       "      <td>-1.137854</td>\n",
       "      <td>0.165915</td>\n",
       "      <td>0.711107</td>\n",
       "      <td>0.046467</td>\n",
       "      <td>4</td>\n",
       "    </tr>\n",
       "    <tr>\n",
       "      <th>2024-01-27 18:30:42.810981</th>\n",
       "      <td>0.475331</td>\n",
       "      <td>-0.749121</td>\n",
       "      <td>0.318395</td>\n",
       "      <td>0.520535</td>\n",
       "      <td>5</td>\n",
       "    </tr>\n",
       "    <tr>\n",
       "      <th>2024-01-28 18:30:42.810981</th>\n",
       "      <td>2.525948</td>\n",
       "      <td>1.019708</td>\n",
       "      <td>0.038251</td>\n",
       "      <td>-0.270675</td>\n",
       "      <td>6</td>\n",
       "    </tr>\n",
       "    <tr>\n",
       "      <th>2024-01-29 18:30:42.810981</th>\n",
       "      <td>1.113931</td>\n",
       "      <td>0.376434</td>\n",
       "      <td>-1.464181</td>\n",
       "      <td>-0.069208</td>\n",
       "      <td>0</td>\n",
       "    </tr>\n",
       "    <tr>\n",
       "      <th>2024-01-30 18:30:42.810981</th>\n",
       "      <td>-0.304569</td>\n",
       "      <td>1.389245</td>\n",
       "      <td>-1.152598</td>\n",
       "      <td>-1.137589</td>\n",
       "      <td>1</td>\n",
       "    </tr>\n",
       "  </tbody>\n",
       "</table>\n",
       "</div>"
      ],
      "text/plain": [
       "                                  x1        x2        x3         y  dow\n",
       "2024-01-26 18:30:42.810981 -1.137854  0.165915  0.711107  0.046467    4\n",
       "2024-01-27 18:30:42.810981  0.475331 -0.749121  0.318395  0.520535    5\n",
       "2024-01-28 18:30:42.810981  2.525948  1.019708  0.038251 -0.270675    6\n",
       "2024-01-29 18:30:42.810981  1.113931  0.376434 -1.464181 -0.069208    0\n",
       "2024-01-30 18:30:42.810981 -0.304569  1.389245 -1.152598 -1.137589    1"
      ]
     },
     "execution_count": 4,
     "metadata": {},
     "output_type": "execute_result"
    }
   ],
   "source": [
    "def create_weekly_dataset(n_dates, n_observations_per_date):\n",
    "    rng = pd.date_range(start=\"today\", periods=n_dates, freq=\"D\")\n",
    "    df = pd.DataFrame(\n",
    "        np.random.randn(n_dates * n_observations_per_date, 4),\n",
    "        columns=[\"x1\", \"x2\", \"x3\", \"y\"],\n",
    "        index=np.tile(rng, n_observations_per_date),\n",
    "    )\n",
    "    df[\"dow\"] = df.index.dayofweek\n",
    "    return df\n",
    "\n",
    "\n",
    "df = create_weekly_dataset(n_dates=30, n_observations_per_date=500)\n",
    "print(df.shape)\n",
    "df.head()"
   ]
  },
  {
   "cell_type": "markdown",
   "metadata": {
    "application/vnd.databricks.v1+cell": {
     "cellMetadata": {},
     "inputWidgets": {},
     "nuid": "7e7fe969-003b-4e15-bb5d-0a4b8f66b710",
     "showTitle": false,
     "title": ""
    }
   },
   "source": [
    "#### 1.2 - Train Models for Each Day of the Week"
   ]
  },
  {
   "cell_type": "code",
   "execution_count": 5,
   "metadata": {
    "application/vnd.databricks.v1+cell": {
     "cellMetadata": {
      "byteLimit": 2048000,
      "rowLimit": 10000
     },
     "inputWidgets": {},
     "nuid": "eef7c545-d93e-4d96-ac8e-9ad2e6a7f305",
     "showTitle": false,
     "title": ""
    }
   },
   "outputs": [
    {
     "name": "stderr",
     "output_type": "stream",
     "text": [
      "Successfully registered model 'DOW_model_4'.\n",
      "Created version '1' of model 'DOW_model_4'.\n",
      "Successfully registered model 'DOW_model_5'.\n",
      "Created version '1' of model 'DOW_model_5'.\n",
      "Successfully registered model 'DOW_model_6'.\n",
      "Created version '1' of model 'DOW_model_6'.\n",
      "Successfully registered model 'DOW_model_0'.\n",
      "Created version '1' of model 'DOW_model_0'.\n",
      "Successfully registered model 'DOW_model_1'.\n",
      "Created version '1' of model 'DOW_model_1'.\n",
      "Successfully registered model 'DOW_model_2'.\n",
      "Created version '1' of model 'DOW_model_2'.\n",
      "Successfully registered model 'DOW_model_3'.\n",
      "Created version '1' of model 'DOW_model_3'.\n"
     ]
    }
   ],
   "source": [
    "for dow in df[\"dow\"].unique():\n",
    "    # Create dataset corresponding to a single day of the week\n",
    "    X = df.loc[df[\"dow\"] == dow]\n",
    "    X.pop(\"dow\")  # Remove DOW as a predictor column\n",
    "    y = X.pop(\"y\")\n",
    "\n",
    "    # Fit our DOW model\n",
    "    model = RandomForestRegressor().fit(X, y)\n",
    "\n",
    "    # Infer signature of the model\n",
    "    signature = infer_signature(X, model.predict(X))\n",
    "\n",
    "    with mlflow.start_run():\n",
    "        model_path = f\"model_{dow}\"\n",
    "\n",
    "        # Log and register our DOW model with signature\n",
    "        mlflow.sklearn.log_model(\n",
    "            model,\n",
    "            model_path,\n",
    "            signature=signature,\n",
    "            registered_model_name=f\"{DOW_MODEL_NAME_PREFIX}{dow}\",\n",
    "        )\n",
    "        mlflow.set_tag(\"dow\", dow)"
   ]
  },
  {
   "cell_type": "markdown",
   "metadata": {
    "application/vnd.databricks.v1+cell": {
     "cellMetadata": {},
     "inputWidgets": {},
     "nuid": "54990a4b-471f-4dea-b188-bfeef668906f",
     "showTitle": false,
     "title": ""
    }
   },
   "source": [
    "#### 1.3 - Test inference on our DOW models"
   ]
  },
  {
   "cell_type": "code",
   "execution_count": 6,
   "metadata": {
    "application/vnd.databricks.v1+cell": {
     "cellMetadata": {
      "byteLimit": 2048000,
      "rowLimit": 10000
     },
     "inputWidgets": {},
     "nuid": "5028c3aa-236d-4676-adb4-d6ca9dbce977",
     "showTitle": false,
     "title": ""
    }
   },
   "outputs": [
    {
     "name": "stdout",
     "output_type": "stream",
     "text": [
      "[-0.8571552   0.61833952  0.61625155  0.28999143  0.49778144]\n"
     ]
    }
   ],
   "source": [
    "# Load Tuesday's model\n",
    "tuesday_dow = 1\n",
    "model_name = f\"{DOW_MODEL_NAME_PREFIX}{tuesday_dow}\"\n",
    "model_uri = f\"models:/{model_name}/latest\"\n",
    "model = mlflow.sklearn.load_model(model_uri)\n",
    "\n",
    "# Perform inference using our training data for Tuesday\n",
    "predictor_columns = [column for column in df.columns if column not in {\"y\", \"dow\"}]\n",
    "head_of_training_data = df.loc[df[\"dow\"] == tuesday_dow, predictor_columns].head()\n",
    "tuesday_fitted_values = model.predict(head_of_training_data)\n",
    "print(tuesday_fitted_values)"
   ]
  },
  {
   "cell_type": "markdown",
   "metadata": {
    "application/vnd.databricks.v1+cell": {
     "cellMetadata": {},
     "inputWidgets": {},
     "nuid": "9a6ce232-30ec-4ed6-9ab5-01019d55d8fe",
     "showTitle": false,
     "title": ""
    }
   },
   "source": [
    "## 2 - Create an MME Custom PyFunc Model"
   ]
  },
  {
   "cell_type": "markdown",
   "metadata": {
    "application/vnd.databricks.v1+cell": {
     "cellMetadata": {},
     "inputWidgets": {},
     "nuid": "f42d5214-01f4-4399-9096-6d82380cedd7",
     "showTitle": false,
     "title": ""
    }
   },
   "source": [
    "#### 2.1 - Create a Child Implementation of `mlflow.pyfunc.PythonModel`"
   ]
  },
  {
   "cell_type": "code",
   "execution_count": 7,
   "metadata": {
    "application/vnd.databricks.v1+cell": {
     "cellMetadata": {
      "byteLimit": 2048000,
      "rowLimit": 10000
     },
     "inputWidgets": {},
     "nuid": "3e8df098-35c5-4792-8c5d-85c61ec42a25",
     "showTitle": false,
     "title": ""
    }
   },
   "outputs": [],
   "source": [
    "class DOWModel(mlflow.pyfunc.PythonModel):\n",
    "    def __init__(self, model_uris):\n",
    "        self.model_uris = model_uris\n",
    "        self.models = {}\n",
    "\n",
    "    @staticmethod\n",
    "    def _model_uri_to_dow(model_uri: str) -> int:\n",
    "        return int(model_uri.split(\"/\")[-2].split(\"_\")[-1])\n",
    "\n",
    "    def load_context(self, context):\n",
    "        self.models = {\n",
    "            self._model_uri_to_dow(model_uri): mlflow.sklearn.load_model(model_uri)\n",
    "            for model_uri in self.model_uris\n",
    "        }\n",
    "\n",
    "    def predict(self, context, model_input, params):\n",
    "        # Parse the dow parameter\n",
    "        dow = params.get(\"dow\")\n",
    "        if dow is None:\n",
    "            raise ValueError(\"DOW param is not passed.\")\n",
    "\n",
    "        # Get the model associated with the dow parameter\n",
    "        model = self.models.get(dow)\n",
    "        if model is None:\n",
    "            raise ValueError(f\"Model {dow} version was not found: {self.models.keys()}.\")\n",
    "\n",
    "        # Perform inference\n",
    "        return model.predict(model_input)"
   ]
  },
  {
   "cell_type": "markdown",
   "metadata": {
    "application/vnd.databricks.v1+cell": {
     "cellMetadata": {},
     "inputWidgets": {},
     "nuid": "2bd010c9-3374-4036-ad18-e4977cf5efc7",
     "showTitle": false,
     "title": ""
    }
   },
   "source": [
    "#### 2.2 - Test our Implementation"
   ]
  },
  {
   "cell_type": "code",
   "execution_count": 8,
   "metadata": {
    "application/vnd.databricks.v1+cell": {
     "cellMetadata": {
      "byteLimit": 2048000,
      "rowLimit": 10000
     },
     "inputWidgets": {},
     "nuid": "14d1ad9d-c1ae-4b01-abe3-5f51cc99d3fe",
     "showTitle": false,
     "title": ""
    }
   },
   "outputs": [
    {
     "data": {
      "text/html": [
       "<div>\n",
       "<style scoped>\n",
       "    .dataframe tbody tr th:only-of-type {\n",
       "        vertical-align: middle;\n",
       "    }\n",
       "\n",
       "    .dataframe tbody tr th {\n",
       "        vertical-align: top;\n",
       "    }\n",
       "\n",
       "    .dataframe thead th {\n",
       "        text-align: right;\n",
       "    }\n",
       "</style>\n",
       "<table border=\"1\" class=\"dataframe\">\n",
       "  <thead>\n",
       "    <tr style=\"text-align: right;\">\n",
       "      <th></th>\n",
       "      <th>x1</th>\n",
       "      <th>x2</th>\n",
       "      <th>x3</th>\n",
       "    </tr>\n",
       "  </thead>\n",
       "  <tbody>\n",
       "    <tr>\n",
       "      <th>2024-01-30 18:30:42.810981</th>\n",
       "      <td>-0.304569</td>\n",
       "      <td>1.389245</td>\n",
       "      <td>-1.152598</td>\n",
       "    </tr>\n",
       "    <tr>\n",
       "      <th>2024-02-06 18:30:42.810981</th>\n",
       "      <td>0.521323</td>\n",
       "      <td>0.814452</td>\n",
       "      <td>0.115571</td>\n",
       "    </tr>\n",
       "    <tr>\n",
       "      <th>2024-02-13 18:30:42.810981</th>\n",
       "      <td>0.229761</td>\n",
       "      <td>-1.936210</td>\n",
       "      <td>0.139201</td>\n",
       "    </tr>\n",
       "    <tr>\n",
       "      <th>2024-02-20 18:30:42.810981</th>\n",
       "      <td>-0.865488</td>\n",
       "      <td>1.024857</td>\n",
       "      <td>-0.857649</td>\n",
       "    </tr>\n",
       "    <tr>\n",
       "      <th>2024-01-30 18:30:42.810981</th>\n",
       "      <td>-1.454631</td>\n",
       "      <td>0.462055</td>\n",
       "      <td>0.703858</td>\n",
       "    </tr>\n",
       "  </tbody>\n",
       "</table>\n",
       "</div>"
      ],
      "text/plain": [
       "                                  x1        x2        x3\n",
       "2024-01-30 18:30:42.810981 -0.304569  1.389245 -1.152598\n",
       "2024-02-06 18:30:42.810981  0.521323  0.814452  0.115571\n",
       "2024-02-13 18:30:42.810981  0.229761 -1.936210  0.139201\n",
       "2024-02-20 18:30:42.810981 -0.865488  1.024857 -0.857649\n",
       "2024-01-30 18:30:42.810981 -1.454631  0.462055  0.703858"
      ]
     },
     "execution_count": 8,
     "metadata": {},
     "output_type": "execute_result"
    }
   ],
   "source": [
    "head_of_training_data"
   ]
  },
  {
   "cell_type": "code",
   "execution_count": 9,
   "metadata": {
    "application/vnd.databricks.v1+cell": {
     "cellMetadata": {
      "byteLimit": 2048000,
      "rowLimit": 10000
     },
     "inputWidgets": {},
     "nuid": "1a859e64-7d2f-4fef-b7dc-629b51612172",
     "showTitle": false,
     "title": ""
    }
   },
   "outputs": [
    {
     "name": "stdout",
     "output_type": "stream",
     "text": [
      "Model URIs:\n",
      "['models:/DOW_model_4/latest', 'models:/DOW_model_5/latest', 'models:/DOW_model_6/latest', 'models:/DOW_model_0/latest', 'models:/DOW_model_1/latest', 'models:/DOW_model_2/latest', 'models:/DOW_model_3/latest']\n",
      "\n",
      "Tuesday fitted values:\n",
      "[-0.8571552   0.61833952  0.61625155  0.28999143  0.49778144]\n"
     ]
    }
   ],
   "source": [
    "# Instantiate our DOW MME\n",
    "model_uris = [f\"models:/{DOW_MODEL_NAME_PREFIX}{i}/latest\" for i in df[\"dow\"].unique()]\n",
    "dow_model = DOWModel(model_uris)\n",
    "dow_model.load_context(None)\n",
    "print(\"Model URIs:\")\n",
    "print(model_uris)\n",
    "\n",
    "# Perform inference using our training data for Tuesday\n",
    "params = {\"dow\": 1}\n",
    "mme_tuesday_fitted_values = dow_model.predict(None, head_of_training_data, params=params)\n",
    "assert all(tuesday_fitted_values == mme_tuesday_fitted_values)\n",
    "\n",
    "print(\"\\nTuesday fitted values:\")\n",
    "print(mme_tuesday_fitted_values)"
   ]
  },
  {
   "cell_type": "markdown",
   "metadata": {
    "application/vnd.databricks.v1+cell": {
     "cellMetadata": {},
     "inputWidgets": {},
     "nuid": "815fb2f7-f1fb-4707-bc79-096171b59af3",
     "showTitle": false,
     "title": ""
    }
   },
   "source": [
    "#### 2.3 - Register our Custom PyFunc Model"
   ]
  },
  {
   "cell_type": "code",
   "execution_count": 10,
   "metadata": {
    "application/vnd.databricks.v1+cell": {
     "cellMetadata": {
      "byteLimit": 2048000,
      "rowLimit": 10000
     },
     "inputWidgets": {},
     "nuid": "858fa086-975b-4f04-91f3-fa396217a92a",
     "showTitle": false,
     "title": ""
    }
   },
   "outputs": [
    {
     "name": "stdout",
     "output_type": "stream",
     "text": [
      "inputs: \n",
      "  ['x1': double (required), 'x2': double (required), 'x3': double (required)]\n",
      "outputs: \n",
      "  [Tensor('float64', (-1,))]\n",
      "params: \n",
      "  ['dow': long (default: 1)]\n",
      "\n"
     ]
    },
    {
     "name": "stderr",
     "output_type": "stream",
     "text": [
      "Successfully registered model 'MME_DOW_model'.\n",
      "Created version '1' of model 'MME_DOW_model'.\n"
     ]
    }
   ],
   "source": [
    "with mlflow.start_run():\n",
    "    # Instantiate the custom pyfunc model\n",
    "    model = DOWModel(model_uris)\n",
    "    model.load_context(None)\n",
    "    model_path = \"MME_model_path\"\n",
    "\n",
    "    signature = infer_signature(\n",
    "        model_input=head_of_training_data,\n",
    "        model_output=tuesday_fitted_values,\n",
    "        params=params,\n",
    "    )\n",
    "    print(signature)\n",
    "\n",
    "    # Log the model to the experiment\n",
    "    mlflow.pyfunc.log_model(\n",
    "        model_path,\n",
    "        python_model=model,\n",
    "        signature=signature,\n",
    "        pip_requirements=[\"scikit-learn=1.3.2\"],\n",
    "        registered_model_name=MME_MODEL_NAME,  # also register the model for easy access\n",
    "    )\n",
    "\n",
    "    # Set some relevant information about our model\n",
    "    # (Assuming model has a property 'models' that can be counted)\n",
    "    mlflow.log_param(\"num_models\", len(model.models))"
   ]
  },
  {
   "cell_type": "markdown",
   "metadata": {
    "application/vnd.databricks.v1+cell": {
     "cellMetadata": {},
     "inputWidgets": {},
     "nuid": "62500462-0849-4c1c-93e1-b98809658d5f",
     "showTitle": false,
     "title": ""
    }
   },
   "source": [
    "## 3 - Serve our Model\n",
    "To test our endpoint, let's serve our model on our local machine. \n",
    "1. Open a new shell window in the root containing `mlruns` directory e.g. the same directory you ran this notebook.\n",
    "2. Ensure mlflow is installed: `pip install --upgrade mlflow scikit-learn`\n",
    "3. Run the bash command printed below."
   ]
  },
  {
   "cell_type": "code",
   "execution_count": 11,
   "metadata": {
    "application/vnd.databricks.v1+cell": {
     "cellMetadata": {
      "byteLimit": 2048000,
      "rowLimit": 10000
     },
     "inputWidgets": {},
     "nuid": "cbd02c0c-7c86-446a-846d-62fcea65f4bd",
     "showTitle": false,
     "title": ""
    }
   },
   "outputs": [
    {
     "name": "stdout",
     "output_type": "stream",
     "text": [
      "Run the below command in a new window. You must be in the same repo as your mlruns directory and have mlflow installed...\n",
      "    mlflow models serve -m \"models:/MME_DOW_model/latest\" --env-manager local -p 1234\n"
     ]
    }
   ],
   "source": [
    "PORT = 1234\n",
    "print(\n",
    "    f\"\"\"Run the below command in a new window. You must be in the same repo as your mlruns directory and have mlflow installed...\n",
    "    mlflow models serve -m \"models:/{MME_MODEL_NAME}/latest\" --env-manager local -p {PORT}\"\"\"\n",
    ")"
   ]
  },
  {
   "cell_type": "markdown",
   "metadata": {
    "application/vnd.databricks.v1+cell": {
     "cellMetadata": {
      "byteLimit": 2048000,
      "rowLimit": 10000
     },
     "inputWidgets": {},
     "nuid": "e6fc2cf8-3217-4696-a04f-d1040c886ba8",
     "showTitle": false,
     "title": ""
    }
   },
   "source": [
    "## 4 - Query our Served Model"
   ]
  },
  {
   "cell_type": "code",
   "execution_count": 12,
   "metadata": {
    "application/vnd.databricks.v1+cell": {
     "cellMetadata": {
      "byteLimit": 2048000,
      "rowLimit": 10000
     },
     "inputWidgets": {},
     "nuid": "36cc8fdd-5c1f-46f0-b84b-a17663954c15",
     "showTitle": false,
     "title": ""
    }
   },
   "outputs": [
    {
     "name": "stdout",
     "output_type": "stream",
     "text": [
      "Inference on dow model 1 (Tuesday):\n",
      "{'predictions': [-0.8571551951905747, 0.618339524354309, 0.6162515496343108, 0.2899914313294642, 0.4977814353066934]}\n"
     ]
    }
   ],
   "source": [
    "def score_model(pdf, params):\n",
    "    headers = {\"Content-Type\": \"application/json\"}\n",
    "    url = f\"http://127.0.0.1:{PORT}/invocations\"\n",
    "    ds_dict = {\"dataframe_split\": pdf, \"params\": params}\n",
    "    data_json = json.dumps(ds_dict, allow_nan=True)\n",
    "\n",
    "    response = requests.request(method=\"POST\", headers=headers, url=url, data=data_json)\n",
    "    response.raise_for_status()\n",
    "\n",
    "    return response.json()\n",
    "\n",
    "\n",
    "print(\"Inference on dow model 1 (Tuesday):\")\n",
    "inference_df = head_of_training_data.reset_index(drop=True).to_dict(orient=\"split\")\n",
    "print(score_model(inference_df, params={\"dow\": 1}))"
   ]
  },
  {
   "cell_type": "code",
   "execution_count": null,
   "metadata": {},
   "outputs": [],
   "source": []
  }
 ],
 "metadata": {
  "application/vnd.databricks.v1+notebook": {
   "dashboards": [],
   "language": "python",
   "notebookMetadata": {
    "mostRecentlyExecutedCommandWithImplicitDF": {
     "commandId": -1,
     "dataframes": [
      "_sqldf"
     ]
    },
    "pythonIndentUnit": 2
   },
   "notebookName": "MME Tutorial",
   "widgets": {}
  },
  "kernelspec": {
   "display_name": "Python 3 (ipykernel)",
   "language": "python",
   "name": "python3"
  },
  "language_info": {
   "codemirror_mode": {
    "name": "ipython",
    "version": 3
   },
   "file_extension": ".py",
   "mimetype": "text/x-python",
   "name": "python",
   "nbconvert_exporter": "python",
   "pygments_lexer": "ipython3",
   "version": "3.8.0"
  }
 },
 "nbformat": 4,
 "nbformat_minor": 4
}
