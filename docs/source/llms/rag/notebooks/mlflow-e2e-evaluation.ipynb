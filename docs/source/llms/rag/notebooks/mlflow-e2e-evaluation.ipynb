{
 "cells": [
  {
   "cell_type": "markdown",
   "metadata": {},
   "source": [
    "## LLM RAG Evaluation with MLflow Example Notebook"
   ]
  },
  {
   "cell_type": "raw",
   "metadata": {},
   "source": [
    "<a href=\"https://raw.githubusercontent.com/mlflow/mlflow/master/docs/source/llms/rag/notebooks/mlflow-e2e-evaluation.ipynb\" class=\"notebook-download-btn\"><i class=\"fas fa-download\"></i>Download this Notebook</a>"
   ]
  },
  {
   "cell_type": "markdown",
   "metadata": {
    "application/vnd.databricks.v1+cell": {
     "cellMetadata": {},
     "inputWidgets": {},
     "nuid": "42084110-295b-493a-9b3e-5d8d29ff78b3",
     "showTitle": false,
     "title": ""
    }
   },
   "source": [
    "Welcome to this comprehensive tutorial on evaluating Retrieval-Augmented Generation (RAG) systems using MLflow. This tutorial is designed to guide you through the intricacies of assessing various RAG systems, focusing on how they can be effectively integrated and evaluated in a real-world context. Whether you are a data scientist, a machine learning engineer, or simply an enthusiast in the field of AI, this tutorial offers valuable insights and practical knowledge.\n",
    "\n",
    "### What You Will Learn:\n",
    "\n",
    "1. **Setting Up the Environment**:\n",
    "   - Learn how to set up your development environment with all the necessary tools and libraries, including MLflow, OpenAI, ChromaDB, LangChain, and more. This section ensures you have everything you need to start working with RAG systems.\n",
    "\n",
    "2. **Understanding RAG Systems**:\n",
    "   - Delve into the concept of Retrieval-Augmented Generation and its significance in modern AI applications. Understand how RAG systems leverage both retrieval and generation capabilities to provide accurate and contextually relevant responses.\n",
    "\n",
    "3. **Securely Managing API Keys with Databricks Secrets**:\n",
    "   - Explore the best practices for securely managing API keys using Databricks Secrets. This part is crucial for ensuring the security and integrity of your application.\n",
    "\n",
    "4. **Deploying and Testing RAG Systems with MLflow**:\n",
    "   - Learn how to create, deploy, and test RAG systems using MLflow. This includes setting up endpoints, deploying models, and querying them to see their responses in action.\n",
    "\n",
    "5. **Evaluating Performance with MLflow**: \n",
    "   - Dive into evaluating the RAG systems using MLflow's evaluation tools. Understand how to use metrics like relevance and latency to assess the performance of your RAG system.\n",
    "\n",
    "6. **Experimenting with Chunking Strategies**:\n",
    "   - Experiment with different text chunking strategies to optimize the performance of RAG systems. Understand how the size of text chunks affects retrieval accuracy and system responsiveness.\n",
    "\n",
    "7. **Creating and Using Evaluation Datasets**:\n",
    "   - Learn how to create and utilize evaluation datasets (Golden Datasets) to effectively assess the performance of your RAG system.\n",
    "\n",
    "8. **Combining Retrieval and Generation for Question Answering**:\n",
    "   - Gain insights into how retrieval and generation components work together in a RAG system to answer questions based on a given context or documentation.\n",
    "\n",
    "\n",
    "By the end of this tutorial, you will have a thorough understanding of how to evaluate and optimize RAG systems using MLflow. You will be equipped with the knowledge to deploy, test, and refine RAG systems, making them suitable for various practical applications. This tutorial is your stepping stone into the world of advanced AI model evaluation and deployment."
   ]
  },
  {
   "cell_type": "code",
   "execution_count": null,
   "metadata": {
    "application/vnd.databricks.v1+cell": {
     "cellMetadata": {
      "byteLimit": 2048000,
      "rowLimit": 10000
     },
     "inputWidgets": {},
     "nuid": "d87628a6-ef1d-4586-8080-13f538904076",
     "showTitle": false,
     "title": ""
    },
    "jupyter": {
     "outputs_hidden": true
    }
   },
   "outputs": [],
   "source": [
    "%pip install mlflow>=2.8.1\n",
    "%pip install openai\n",
    "%pip install chromadb==0.4.15\n",
    "%pip install langchain==0.0.348\n",
    "%pip install tiktoken\n",
    "%pip install 'mlflow[genai]'\n",
    "%pip install databricks-sdk --upgrade"
   ]
  },
  {
   "cell_type": "code",
   "execution_count": null,
   "metadata": {
    "application/vnd.databricks.v1+cell": {
     "cellMetadata": {
      "byteLimit": 2048000,
      "rowLimit": 10000
     },
     "inputWidgets": {},
     "nuid": "bbe9a743-feca-4de0-80f9-f64267578482",
     "showTitle": false,
     "title": ""
    }
   },
   "outputs": [],
   "source": [
    "dbutils.library.restartPython()  # noqa: F821"
   ]
  },
  {
   "cell_type": "code",
   "execution_count": null,
   "metadata": {
    "application/vnd.databricks.v1+cell": {
     "cellMetadata": {
      "byteLimit": 2048000,
      "rowLimit": 10000
     },
     "inputWidgets": {},
     "nuid": "695c9abf-466c-4b34-a901-852a62d9d10f",
     "showTitle": false,
     "title": ""
    }
   },
   "outputs": [],
   "source": [
    "import ast\n",
    "import os\n",
    "from typing import List\n",
    "\n",
    "import chromadb\n",
    "import pandas as pd\n",
    "from langchain.chains import RetrievalQA\n",
    "from langchain.document_loaders import WebBaseLoader\n",
    "from langchain.embeddings.databricks import DatabricksEmbeddings\n",
    "from langchain.embeddings.sentence_transformer import SentenceTransformerEmbeddings\n",
    "from langchain.llms import Databricks\n",
    "from langchain.text_splitter import CharacterTextSplitter\n",
    "from langchain.vectorstores import Chroma\n",
    "\n",
    "import mlflow\n",
    "import mlflow.deployments\n",
    "from mlflow.deployments import set_deployments_target\n",
    "from mlflow.metrics.genai.metric_definitions import relevance"
   ]
  },
  {
   "cell_type": "code",
   "execution_count": null,
   "metadata": {
    "application/vnd.databricks.v1+cell": {
     "cellMetadata": {
      "byteLimit": 2048000,
      "rowLimit": 10000
     },
     "inputWidgets": {},
     "nuid": "9f8dfd16-c064-4a7e-9e3e-226894275e95",
     "showTitle": false,
     "title": ""
    }
   },
   "outputs": [
    {
     "data": {
      "text/plain": [
       "'2.9.1'"
      ]
     },
     "execution_count": 2,
     "metadata": {},
     "output_type": "execute_result"
    }
   ],
   "source": [
    "# check mlflow version\n",
    "mlflow.__version__"
   ]
  },
  {
   "cell_type": "code",
   "execution_count": null,
   "metadata": {
    "application/vnd.databricks.v1+cell": {
     "cellMetadata": {
      "byteLimit": 2048000,
      "rowLimit": 10000
     },
     "inputWidgets": {},
     "nuid": "899aa208-48aa-404e-b823-f47e410d9490",
     "showTitle": false,
     "title": ""
    }
   },
   "outputs": [
    {
     "data": {
      "text/plain": [
       "'0.4.18'"
      ]
     },
     "execution_count": 3,
     "metadata": {},
     "output_type": "execute_result"
    }
   ],
   "source": [
    "# check chroma version\n",
    "chromadb.__version__"
   ]
  },
  {
   "cell_type": "markdown",
   "metadata": {
    "application/vnd.databricks.v1+cell": {
     "cellMetadata": {},
     "inputWidgets": {},
     "nuid": "64d5d5eb-8ee7-496a-be8e-fd658c4a4f44",
     "showTitle": false,
     "title": ""
    }
   },
   "source": [
    "### Set-up Databricks Workspace Secrets\n",
    "\n",
    "In order to use the secrets that are defined within this notebook, ensure that they are set via following the [guide to Databricks Secrets here](https://docs.databricks.com/en/security/secrets/secrets.html). It is highly recommended to utilize the [Databricks CLI](https://docs.databricks.com/en/dev-tools/cli/index.html) to set secrets within your workspace for a secure experience.\n",
    "\n",
    "In order to safely store and access your API KEY for Azure OpenAI, ensure that you are setting the following when registering your secret:\n",
    "\n",
    "- **KEY_NAME**: The name that you will be setting for your Azure OpenAI Key\n",
    "- **SCOPE_NAME**: The referenced scope that your secret will reside in, within Databricks Secrets\n",
    "- **OPENAI_API_KEY**: Your Azure OpenAI Key\n",
    "\n",
    "As an example, you would set these keys through a terminal as follows:\n",
    "\n",
    "```bash\n",
    "    databricks secrets put-secret \"<SCOPE_NAME>\" \"<KEY_NAME>\" --string-value \"<OPENAI_API_KEY>\"\n",
    "```"
   ]
  },
  {
   "cell_type": "code",
   "execution_count": null,
   "metadata": {},
   "outputs": [],
   "source": [
    "# Set your Scope and Key Names that you used when registering your API KEY from the Databricks CLI\n",
    "# Do not put your OpenAI API Key in the notebook!\n",
    "SCOPE_NAME = ...\n",
    "KEY_NAME = ..."
   ]
  },
  {
   "cell_type": "code",
   "execution_count": null,
   "metadata": {
    "application/vnd.databricks.v1+cell": {
     "cellMetadata": {
      "byteLimit": 2048000,
      "rowLimit": 10000
     },
     "inputWidgets": {},
     "nuid": "19cb7955-5f15-48e9-896c-fcf36cb60782",
     "showTitle": false,
     "title": ""
    }
   },
   "outputs": [],
   "source": [
    "os.environ[\"OPENAI_API_KEY\"] = dbutils.secrets.get(scope=SCOPE_NAME, key=KEY_NAME)  # noqa: F821\n",
    "os.environ[\"OPENAI_API_TYPE\"] = \"azure\"\n",
    "os.environ[\"OPENAI_API_VERSION\"] = \"2023-05-15\"\n",
    "# Ensure that you set the name of your OPEN_API_BASE value to the name of your OpenAI instance on Azure\n",
    "os.environ[\"OPENAI_API_BASE\"] = \"https://<NAME_OF_YOUR_INSTANCE>.openai.azure.com/\"  # replace this!\n",
    "os.environ[\"OPENAI_DEPLOYMENT_NAME\"] = \"gpt-35-turbo\"\n",
    "os.environ[\"OPENAI_ENGINE\"] = \"gpt-35-turbo\""
   ]
  },
  {
   "cell_type": "markdown",
   "metadata": {
    "application/vnd.databricks.v1+cell": {
     "cellMetadata": {},
     "inputWidgets": {},
     "nuid": "96a5c4f9-8bd7-4e07-8caa-a80133d53433",
     "showTitle": false,
     "title": ""
    }
   },
   "source": [
    "### Create and Test Endpoint on MLflow for OpenAI"
   ]
  },
  {
   "cell_type": "code",
   "execution_count": null,
   "metadata": {
    "application/vnd.databricks.v1+cell": {
     "cellMetadata": {
      "byteLimit": 2048000,
      "rowLimit": 10000
     },
     "inputWidgets": {},
     "nuid": "ff5ecf97-c82c-4812-8b5b-05734bc2fded",
     "showTitle": false,
     "title": ""
    }
   },
   "outputs": [],
   "source": [
    "client = mlflow.deployments.get_deploy_client(\"databricks\")\n",
    "\n",
    "endpoint_name = \"<your-endpoint-name>\"  # replace this!\n",
    "client.create_endpoint(\n",
    "    name=endpoint_name,\n",
    "    config={\n",
    "        \"served_entities\": [\n",
    "            {\n",
    "                \"name\": \"test-gpt\",  # Provide a unique identifying name for your deployments endpoint\n",
    "                \"external_model\": {\n",
    "                    \"name\": \"gpt-4o-mini\",\n",
    "                    \"provider\": \"openai\",\n",
    "                    \"task\": \"llm/v1/completions\",\n",
    "                    \"openai_config\": {\n",
    "                        \"openai_api_type\": \"azure\",\n",
    "                        # replace with your own secrets, for reference see https://docs.databricks.com/en/security/secrets/secrets.html\n",
    "                        \"openai_api_key\": \"{{secrets/scope/openai_api_key}}\",\n",
    "                        \"openai_api_base\": \"{{secrets/scope/openai_api_base}}\",\n",
    "                        \"openai_deployment_name\": \"gpt-35-turbo\",\n",
    "                        \"openai_api_version\": \"2023-05-15\",\n",
    "                    },\n",
    "                },\n",
    "            }\n",
    "        ],\n",
    "    },\n",
    ")"
   ]
  },
  {
   "cell_type": "code",
   "execution_count": null,
   "metadata": {
    "application/vnd.databricks.v1+cell": {
     "cellMetadata": {
      "byteLimit": 2048000,
      "rowLimit": 10000
     },
     "inputWidgets": {},
     "nuid": "0e99f3b3-69b3-4a0c-82bb-d39170038b6a",
     "showTitle": false,
     "title": ""
    }
   },
   "outputs": [],
   "source": [
    "print(\n",
    "    client.predict(\n",
    "        endpoint=endpoint_name,\n",
    "        inputs={\n",
    "            \"prompt\": \"How is Pi calculated? Be very concise.\",\n",
    "            \"max_tokens\": 100,\n",
    "        },\n",
    "    )\n",
    ")"
   ]
  },
  {
   "cell_type": "markdown",
   "metadata": {
    "application/vnd.databricks.v1+cell": {
     "cellMetadata": {},
     "inputWidgets": {},
     "nuid": "273d1345-95d7-435a-a7b6-a5f3dbb3f073",
     "showTitle": false,
     "title": ""
    }
   },
   "source": [
    "### Create RAG POC with LangChain and log with MLflow\n",
    "\n",
    "Use Langchain and Chroma to create a RAG system that answers questions based on the MLflow documentation."
   ]
  },
  {
   "cell_type": "code",
   "execution_count": null,
   "metadata": {
    "application/vnd.databricks.v1+cell": {
     "cellMetadata": {
      "byteLimit": 2048000,
      "rowLimit": 10000
     },
     "inputWidgets": {},
     "nuid": "c7f64bef-116d-48f0-98d7-a18f858a9b64",
     "showTitle": false,
     "title": ""
    }
   },
   "outputs": [],
   "source": [
    "loader = WebBaseLoader(\n",
    "    [\n",
    "        \"https://mlflow.org/docs/latest/index.html\",\n",
    "        \"https://mlflow.org/docs/latest/tracking/autolog.html\",\n",
    "        \"https://mlflow.org/docs/latest/getting-started/tracking-server-overview/index.html\",\n",
    "        \"https://mlflow.org/docs/latest/python_api/mlflow.deployments.html\",\n",
    "    ]\n",
    ")\n",
    "\n",
    "documents = loader.load()\n",
    "CHUNK_SIZE = 1000\n",
    "text_splitter = CharacterTextSplitter(chunk_size=CHUNK_SIZE, chunk_overlap=0)\n",
    "texts = text_splitter.split_documents(documents)\n",
    "\n",
    "llm = Databricks(\n",
    "    endpoint_name=\"<your-endpoint-name>\",  # replace this!\n",
    "    extra_params={\n",
    "        \"temperature\": 0.1,\n",
    "        \"top_p\": 0.1,\n",
    "        \"max_tokens\": 500,\n",
    "    },  # parameters used in AI Playground\n",
    ")\n",
    "\n",
    "\n",
    "# create the embedding function using Databricks Foundation Model APIs\n",
    "embedding_function = DatabricksEmbeddings(endpoint=\"databricks-bge-large-en\")\n",
    "docsearch = Chroma.from_documents(texts, embedding_function)\n",
    "\n",
    "qa = RetrievalQA.from_chain_type(\n",
    "    llm=llm,\n",
    "    chain_type=\"stuff\",\n",
    "    retriever=docsearch.as_retriever(fetch_k=3),\n",
    "    return_source_documents=True,\n",
    ")"
   ]
  },
  {
   "cell_type": "markdown",
   "metadata": {
    "application/vnd.databricks.v1+cell": {
     "cellMetadata": {},
     "inputWidgets": {},
     "nuid": "54d629aa-7920-44d9-b896-a987adc5bffb",
     "showTitle": false,
     "title": ""
    }
   },
   "source": [
    "### Evaluate the Vector Database and Retrieval using `mlflow.evaluate()`\n",
    "\n",
    "#### Create an eval dataset (Golden Dataset)\n",
    "\n",
    "We can [leveraging the power of an LLM to generate synthetic data for testing](https://mlflow.org/docs/latest/llms/rag/notebooks/question-generation-retrieval-evaluation.html), offering a creative and efficient alternative. To our readers and customers, we emphasize the importance of crafting a dataset that mirrors the expected inputs and outputs of your RAG application. It's a journey worth taking for the incredible insights you'll gain!"
   ]
  },
  {
   "cell_type": "code",
   "execution_count": null,
   "metadata": {
    "application/vnd.databricks.v1+cell": {
     "cellMetadata": {
      "byteLimit": 2048000,
      "rowLimit": 10000
     },
     "inputWidgets": {},
     "nuid": "e6d59ea8-3586-459e-88e4-c3b774e415a9",
     "showTitle": false,
     "title": ""
    },
    "jupyter": {
     "outputs_hidden": true
    }
   },
   "outputs": [],
   "source": [
    "EVALUATION_DATASET_PATH = \"https://raw.githubusercontent.com/mlflow/mlflow/master/examples/llms/RAG/static_evaluation_dataset.csv\"\n",
    "\n",
    "synthetic_eval_data = pd.read_csv(EVALUATION_DATASET_PATH)\n",
    "\n",
    "# Load the static evaluation dataset from disk and deserialize the source and retrieved doc ids\n",
    "synthetic_eval_data[\"source\"] = synthetic_eval_data[\"source\"].apply(ast.literal_eval)\n",
    "synthetic_eval_data[\"retrieved_doc_ids\"] = synthetic_eval_data[\"retrieved_doc_ids\"].apply(\n",
    "    ast.literal_eval\n",
    ")"
   ]
  },
  {
   "cell_type": "code",
   "execution_count": null,
   "metadata": {
    "application/vnd.databricks.v1+cell": {
     "cellMetadata": {
      "byteLimit": 2048000,
      "rowLimit": 10000
     },
     "inputWidgets": {},
     "nuid": "78650ad4-0ea3-41a4-9298-47b47b1e112f",
     "showTitle": false,
     "title": ""
    }
   },
   "outputs": [],
   "source": [
    "display(synthetic_eval_data)"
   ]
  },
  {
   "cell_type": "markdown",
   "metadata": {
    "application/vnd.databricks.v1+cell": {
     "cellMetadata": {},
     "inputWidgets": {},
     "nuid": "33374a05-1992-4361-9c7b-3b1e1f8169cc",
     "showTitle": false,
     "title": ""
    }
   },
   "source": [
    "### Evaluating the Embedding Model with MLflow\n",
    "\n",
    "In this part of the tutorial, we focus on evaluating the embedding model's performance in the context of a retrieval system. The process involves a series of steps to assess how effectively the model can retrieve relevant documents based on given questions.\n",
    "\n",
    "#### Creating Evaluation Data\n",
    "- We start by defining a set of questions and their corresponding source URLs. This `eval_data` DataFrame acts as our evaluation dataset, allowing us to test the model's ability to link questions to the correct source documents.\n",
    "\n",
    "#### The `evaluate_embedding` Function\n",
    "- The `evaluate_embedding` function is designed to assess the performance of a given embedding function.\n",
    "- **Chunking Strategy**: The function begins by splitting a list of documents into chunks using a `CharacterTextSplitter`. The size of these chunks is crucial, as it can influence the retrieval accuracy.\n",
    "- **Retriever Initialization**: We then use `Chroma.from_documents` to create a retriever with the specified embedding function. This retriever is responsible for finding documents relevant to a given query.\n",
    "- **Retrieval Process**: The function defines a `retriever_model_function` that applies the retriever to each question in the evaluation dataset. It retrieves document IDs that the model finds most relevant for each question.\n",
    "\n",
    "#### MLflow Evaluation\n",
    "- With `mlflow.start_run()`, we initiate an evaluation run. `mlflow.evaluate` is then called to evaluate our retriever model function against the evaluation dataset.\n",
    "- We use the default evaluator with specified targets to assess the model's performance.\n",
    "- The results of this evaluation, stored in `eval_results_of_retriever_df_bge`, are displayed, providing insights into the effectiveness of the embedding model in document retrieval.\n",
    "\n",
    "#### Further Evaluation with Metrics\n",
    "- Additionally, we perform a more detailed evaluation using various metrics like precision, recall, and NDCG at different 'k' values. These metrics offer a deeper understanding of the model's retrieval accuracy and ranking effectiveness.\n",
    "\n",
    "This evaluation step is integral to understanding the strengths and weaknesses of our embedding model in a real-world RAG system. By analyzing these results, we can make informed decisions about model adjustments or optimizations to improve overall system performance.\n"
   ]
  },
  {
   "cell_type": "code",
   "execution_count": null,
   "metadata": {
    "application/vnd.databricks.v1+cell": {
     "cellMetadata": {
      "byteLimit": 2048000,
      "rowLimit": 10000
     },
     "inputWidgets": {},
     "nuid": "30e2ac2a-40e7-4fb5-8850-95e51013a269",
     "showTitle": false,
     "title": ""
    }
   },
   "outputs": [],
   "source": [
    "eval_data = pd.DataFrame(\n",
    "    {\n",
    "        \"question\": [\n",
    "            \"What is MLflow?\",\n",
    "            \"What is Databricks?\",\n",
    "            \"How to serve a model on Databricks?\",\n",
    "            \"How to enable MLflow Autologging for my workspace by default?\",\n",
    "        ],\n",
    "        \"source\": [\n",
    "            [\"https://mlflow.org/docs/latest/index.html\"],\n",
    "            [\"https://mlflow.org/docs/latest/getting-started/tracking-server-overview/index.html\"],\n",
    "            [\"https://mlflow.org/docs/latest/python_api/mlflow.deployments.html\"],\n",
    "            [\"https://mlflow.org/docs/latest/tracking/autolog.html\"],\n",
    "        ],\n",
    "    }\n",
    ")"
   ]
  },
  {
   "cell_type": "code",
   "execution_count": null,
   "metadata": {
    "application/vnd.databricks.v1+cell": {
     "cellMetadata": {
      "byteLimit": 2048000,
      "rowLimit": 10000
     },
     "inputWidgets": {},
     "nuid": "de0be80f-2e00-4d3a-b05f-63c4c4359efe",
     "showTitle": false,
     "title": ""
    }
   },
   "outputs": [],
   "source": [
    "def evaluate_embedding(embedding_function):\n",
    "    CHUNK_SIZE = 1000\n",
    "    list_of_documents = loader.load()\n",
    "    text_splitter = CharacterTextSplitter(chunk_size=CHUNK_SIZE, chunk_overlap=0)\n",
    "    docs = text_splitter.split_documents(list_of_documents)\n",
    "    retriever = Chroma.from_documents(docs, embedding_function).as_retriever()\n",
    "\n",
    "    def retrieve_doc_ids(question: str) -> List[str]:\n",
    "        docs = retriever.get_relevant_documents(question)\n",
    "        return [doc.metadata[\"source\"] for doc in docs]\n",
    "\n",
    "    def retriever_model_function(question_df: pd.DataFrame) -> pd.Series:\n",
    "        return question_df[\"question\"].apply(retrieve_doc_ids)\n",
    "\n",
    "    with mlflow.start_run():\n",
    "        return mlflow.evaluate(\n",
    "            model=retriever_model_function,\n",
    "            data=eval_data,\n",
    "            model_type=\"retriever\",\n",
    "            targets=\"source\",\n",
    "            evaluators=\"default\",\n",
    "        )\n",
    "\n",
    "\n",
    "result1 = evaluate_embedding(DatabricksEmbeddings(endpoint=\"databricks-bge-large-en\"))\n",
    "# To validate the results of a different model, comment out the above line and uncomment the below line:\n",
    "# result2 = evaluate_embedding(SentenceTransformerEmbeddings(model_name=\"all-MiniLM-L6-v2\"))\n",
    "\n",
    "eval_results_of_retriever_df_bge = result1.tables[\"eval_results_table\"]\n",
    "# To validate the results of a different model, comment out the above line and uncomment the below line:\n",
    "# eval_results_of_retriever_df_MiniLM = result2.tables[\"eval_results_table\"]\n",
    "display(eval_results_of_retriever_df_bge)"
   ]
  },
  {
   "cell_type": "markdown",
   "metadata": {
    "application/vnd.databricks.v1+cell": {
     "cellMetadata": {},
     "inputWidgets": {},
     "nuid": "7fecbb62-44ec-4af4-aa5a-7aa79bfa0943",
     "showTitle": false,
     "title": ""
    }
   },
   "source": [
    "### Evaluate different Top K strategy with MLflow"
   ]
  },
  {
   "cell_type": "code",
   "execution_count": null,
   "metadata": {
    "application/vnd.databricks.v1+cell": {
     "cellMetadata": {
      "byteLimit": 2048000,
      "rowLimit": 10000
     },
     "inputWidgets": {},
     "nuid": "95a3acd8-170b-4e14-bc51-da977d2b1939",
     "showTitle": false,
     "title": ""
    }
   },
   "outputs": [],
   "source": [
    "with mlflow.start_run() as run:\n",
    "    evaluate_results = mlflow.evaluate(\n",
    "        data=eval_results_of_retriever_df_bge,\n",
    "        targets=\"source\",\n",
    "        predictions=\"outputs\",\n",
    "        evaluators=\"default\",\n",
    "        extra_metrics=[\n",
    "            mlflow.metrics.precision_at_k(1),\n",
    "            mlflow.metrics.precision_at_k(2),\n",
    "            mlflow.metrics.precision_at_k(3),\n",
    "            mlflow.metrics.recall_at_k(1),\n",
    "            mlflow.metrics.recall_at_k(2),\n",
    "            mlflow.metrics.recall_at_k(3),\n",
    "            mlflow.metrics.ndcg_at_k(1),\n",
    "            mlflow.metrics.ndcg_at_k(2),\n",
    "            mlflow.metrics.ndcg_at_k(3),\n",
    "        ],\n",
    "    )\n",
    "\n",
    "display(evaluate_results.tables[\"eval_results_table\"])"
   ]
  },
  {
   "cell_type": "markdown",
   "metadata": {
    "application/vnd.databricks.v1+cell": {
     "cellMetadata": {},
     "inputWidgets": {},
     "nuid": "74a52bda-1ea7-4f50-abac-e36d78e1b96b",
     "showTitle": false,
     "title": ""
    }
   },
   "source": [
    "### Evaluate the Chunking Strategy with MLflow\n",
    "\n",
    "In the realm of RAG systems, the strategy for dividing text into chunks plays a pivotal role in both retrieval effectiveness and the overall system performance. Let's delve into why and how we evaluate different chunking strategies:\n",
    "\n",
    "#### Importance of Chunking:\n",
    "- **Influences Retrieval Accuracy**: The way text is chunked can significantly affect the retrieval component of RAG systems. Smaller chunks may lead to more focused and relevant document retrieval, while larger chunks might capture broader context.\n",
    "- **Impacts System's Responsiveness**: The size of text chunks also influences the speed of document retrieval and processing. Smaller chunks can be processed more quickly but may require the system to evaluate more chunks overall.\n",
    "\n",
    "#### Evaluating Different Chunk Sizes:\n",
    "- **Purpose**: By evaluating different chunk sizes, we aim to find an optimal balance between retrieval accuracy and processing efficiency. This involves experimenting with various chunk sizes to see how they impact the system's performance.\n",
    "- **Method**: We create text chunks of different sizes (e.g., 1000 characters, 2000 characters) and then evaluate how each chunking strategy affects the RAG system. Key aspects to observe include the relevance of retrieved documents and the system's latency.\n",
    "\n",
    "In this example below, we're using the default evaluation suite to provide a comprehensive adjudication of the quality of the responses to retrieved document contents to determine what the impact to the quality of the returned references are, allowing us to explore and tune the chunk size in order to arrive at a configuration that best handles our suite of test questions.\n",
    "\n",
    "Note that the embedding model has changed in this next code block. Above, we were using ``DatabricksEmbeddings(endpoint=\"databricks-bge-large-en\")``, while now we're evaluating the performance of ``SentenceTransformerEmbeddings(model_name=\"all-MiniLM-L6-v2\")``"
   ]
  },
  {
   "cell_type": "code",
   "execution_count": null,
   "metadata": {
    "application/vnd.databricks.v1+cell": {
     "cellMetadata": {
      "byteLimit": 2048000,
      "rowLimit": 10000
     },
     "inputWidgets": {},
     "nuid": "d2c6bff7-d988-4f09-ac10-6c9ea14b9242",
     "showTitle": false,
     "title": ""
    }
   },
   "outputs": [],
   "source": [
    "def evaluate_chunk_size(chunk_size):\n",
    "    list_of_documents = loader.load()\n",
    "    text_splitter = CharacterTextSplitter(chunk_size=chunk_size, chunk_overlap=0)\n",
    "    docs = text_splitter.split_documents(list_of_documents)\n",
    "    embedding_function = SentenceTransformerEmbeddings(model_name=\"all-MiniLM-L6-v2\")\n",
    "    retriever = Chroma.from_documents(docs, embedding_function).as_retriever()\n",
    "\n",
    "    def retrieve_doc_ids(question: str) -> List[str]:\n",
    "        docs = retriever.get_relevant_documents(question)\n",
    "        return [doc.metadata[\"source\"] for doc in docs]\n",
    "\n",
    "    def retriever_model_function(question_df: pd.DataFrame) -> pd.Series:\n",
    "        return question_df[\"question\"].apply(retrieve_doc_ids)\n",
    "\n",
    "    with mlflow.start_run():\n",
    "        return mlflow.evaluate(\n",
    "            model=retriever_model_function,\n",
    "            data=eval_data,\n",
    "            model_type=\"retriever\",\n",
    "            targets=\"source\",\n",
    "            evaluators=\"default\",\n",
    "        )\n",
    "\n",
    "\n",
    "result1 = evaluate_chunk_size(1000)\n",
    "result2 = evaluate_chunk_size(2000)\n",
    "\n",
    "\n",
    "display(result1.tables[\"eval_results_table\"])\n",
    "display(result2.tables[\"eval_results_table\"])"
   ]
  },
  {
   "cell_type": "markdown",
   "metadata": {
    "application/vnd.databricks.v1+cell": {
     "cellMetadata": {},
     "inputWidgets": {},
     "nuid": "bd45cf0e-e139-4059-a2bd-6e4fc4d5d36e",
     "showTitle": false,
     "title": ""
    }
   },
   "source": [
    "### Evaluate the RAG system using `mlflow.evaluate()`\n",
    "\n",
    "In this section, we'll delve into evaluating the Retrieval-Augmented Generation (RAG) systems using `mlflow.evaluate()`. This evaluation is crucial for assessing the effectiveness and efficiency of RAG systems in question-answering contexts. We focus on two key metrics: `relevance_metric` and `latency`.\n",
    "\n",
    "#### Relevance Metric:\n",
    "- **What It Measures**: The `relevance_metric` quantifies how relevant the RAG system's answers are to the input questions. This metric is critical for understanding the accuracy and contextual appropriateness of the system's responses.\n",
    "- **Why It's Important**: In question-answering systems, relevance is paramount. The ability of a RAG system to provide accurate and contextually correct answers determines its utility and effectiveness in real-world applications, such as information retrieval and customer support.\n",
    "- **Tutorial Context**: Within our tutorial, we utilize the `relevance_metric` to evaluate the quality of answers provided by the RAG system. It serves as a quantitative measure of the system's content accuracy, reflecting its capability to generate useful and precise responses.\n",
    "\n",
    "#### Latency:\n",
    "- **What It Measures**: The `latency` metric captures the response time of the RAG system. It measures the duration taken by the system to generate an answer after receiving a query.\n",
    "- **Why It's Important**: Response time is a critical factor in user experience. In interactive systems, lower latency leads to a more efficient and satisfying user experience. High latency, conversely, can be detrimental to user satisfaction.\n",
    "- **Tutorial Context**: In this tutorial, we assess the system's efficiency in terms of response time through the `latency` metric. This evaluation is vital for understanding the system's performance in a production environment, where timely responses are as important as their accuracy.\n",
    "\n",
    "To start with evaluating, we'll create a simple function that runs each input through the RAG chain"
   ]
  },
  {
   "cell_type": "code",
   "execution_count": null,
   "metadata": {
    "application/vnd.databricks.v1+cell": {
     "cellMetadata": {
      "byteLimit": 2048000,
      "rowLimit": 10000
     },
     "inputWidgets": {},
     "nuid": "667ec809-2bb5-4170-9937-6804386b41ec",
     "showTitle": false,
     "title": ""
    }
   },
   "outputs": [],
   "source": [
    "def model(input_df):\n",
    "    return input_df[\"questions\"].map(qa).tolist()"
   ]
  },
  {
   "cell_type": "markdown",
   "metadata": {
    "application/vnd.databricks.v1+cell": {
     "cellMetadata": {},
     "inputWidgets": {},
     "nuid": "d1064306-b7f3-4b3e-825c-4353d808f21d",
     "showTitle": false,
     "title": ""
    }
   },
   "source": [
    "### Create an evaluation dataset (Golden Dataset)"
   ]
  },
  {
   "cell_type": "code",
   "execution_count": null,
   "metadata": {
    "application/vnd.databricks.v1+cell": {
     "cellMetadata": {
      "byteLimit": 2048000,
      "rowLimit": 10000
     },
     "inputWidgets": {},
     "nuid": "a5481491-e4a9-42ea-8a3f-f527faffd04d",
     "showTitle": false,
     "title": ""
    }
   },
   "outputs": [],
   "source": [
    "eval_df = pd.DataFrame(\n",
    "    {\n",
    "        \"questions\": [\n",
    "            \"What is MLflow?\",\n",
    "            \"What is Databricks?\",\n",
    "            \"How to serve a model on Databricks?\",\n",
    "            \"How to enable MLflow Autologging for my workspace by default?\",\n",
    "        ],\n",
    "    }\n",
    ")\n",
    "display(eval_df)"
   ]
  },
  {
   "cell_type": "markdown",
   "metadata": {
    "application/vnd.databricks.v1+cell": {
     "cellMetadata": {},
     "inputWidgets": {},
     "nuid": "77f56ede-0b2d-449f-868c-e3a561ef28d0",
     "showTitle": false,
     "title": ""
    }
   },
   "source": [
    "### Evaluate using LLM as a Judge and Basic Metrics\n",
    "\n",
    "In this concluding section of the tutorial, we perform a final evaluation of our RAG system using MLflow's powerful evaluation tools. This evaluation is crucial for assessing the performance and efficiency of the question-answering model.\n",
    "\n",
    "#### Key Steps in the Evaluation:\n",
    "\n",
    "1. **Setting the Deployment Target**:\n",
    "   - The deployment target is set to Databricks, enabling us to retrieve all endpoints in the Databricks Workspace. This is essential for accessing our deployed models.\n",
    "\n",
    "2. **Relevance Metric Setup**:\n",
    "   - We initialize the `relevance` metric using a model hosted on Databricks. This metric assesses how relevant the answers generated by our RAG system are in response to the input questions.\n",
    "\n",
    "3. **Running the Evaluation**:\n",
    "   - An MLflow run is initiated, and `mlflow.evaluate()` is called to evaluate our RAG model against the prepared evaluation dataset.\n",
    "   - The model is evaluated as a \"question-answering\" system using default evaluators.\n",
    "   - Additional metrics, including the `relevance_metric` and `latency`, are specified. These metrics provide insights into the relevance of the answers and the response time of the model.\n",
    "   - The `evaluator_config` maps the input questions and context, ensuring the correct evaluation of the RAG system.\n",
    "\n",
    "4. **Results and Metrics Display**:\n",
    "   - The results of the evaluation, including key metrics, are displayed in a table format, providing a clear and structured view of the model's performance based on relevance and latency.\n",
    "\n",
    "This comprehensive evaluation step is vital for understanding the effectiveness and efficiency of our RAG system. By assessing both the relevance of the answers and the latency of the responses, we gain a holistic view of the model's performance, guiding any further optimization or deployment decisions."
   ]
  },
  {
   "cell_type": "code",
   "execution_count": null,
   "metadata": {
    "application/vnd.databricks.v1+cell": {
     "cellMetadata": {
      "byteLimit": 2048000,
      "rowLimit": 10000
     },
     "inputWidgets": {},
     "nuid": "a290ca1c-11c9-4025-9025-70807479f1e2",
     "showTitle": false,
     "title": ""
    }
   },
   "outputs": [],
   "source": [
    "set_deployments_target(\"databricks\")  # To retrieve all endpoint in your Databricks Workspace\n",
    "\n",
    "relevance_metric = relevance(\n",
    "    model=\"endpoints:/databricks-llama-2-70b-chat\"\n",
    ")  # You can also use any model you have hosted on Databricks, models from the Marketplace or models in the Foundation model API\n",
    "\n",
    "with mlflow.start_run():\n",
    "    results = mlflow.evaluate(\n",
    "        model,\n",
    "        eval_df,\n",
    "        model_type=\"question-answering\",\n",
    "        evaluators=\"default\",\n",
    "        predictions=\"result\",\n",
    "        extra_metrics=[relevance_metric, mlflow.metrics.latency()],\n",
    "        evaluator_config={\n",
    "            \"col_mapping\": {\n",
    "                \"inputs\": \"questions\",\n",
    "                \"context\": \"source_documents\",\n",
    "            }\n",
    "        },\n",
    "    )\n",
    "    print(results.metrics)\n",
    "\n",
    "display(results.tables[\"eval_results_table\"])"
   ]
  }
 ],
 "metadata": {
  "application/vnd.databricks.v1+notebook": {
   "dashboards": [
    {
     "elements": [
      {
       "dashboardResultIndex": 0,
       "elementNUID": "f55e4f48-684d-4903-8bd0-06ca638dcea9",
       "elementType": "command",
       "guid": "f9125ba6-77fb-411f-9859-66be60ebd6a5",
       "options": null,
       "position": {
        "height": 12,
        "width": 22,
        "x": 0,
        "y": 0,
        "z": null
       },
       "resultIndex": null
      }
     ],
     "globalVars": {},
     "guid": "",
     "layoutOption": {
      "grid": true,
      "stack": true
     },
     "nuid": "5cc44542-d2d1-4b49-9760-7d912cbd5a44",
     "origId": 2038904942228793,
     "title": "Untitled",
     "version": "DashboardViewV1",
     "width": 1024
    }
   ],
   "language": "python",
   "notebookMetadata": {
    "pythonIndentUnit": 2
   },
   "notebookName": "MLflow for e2e Evaluation Blog",
   "widgets": {}
  },
  "kernelspec": {
   "display_name": "mlflow-dev-env",
   "language": "python",
   "name": "python3"
  },
  "language_info": {
   "codemirror_mode": {
    "name": "ipython",
    "version": 3
   },
   "file_extension": ".py",
   "mimetype": "text/x-python",
   "name": "python",
   "nbconvert_exporter": "python",
   "pygments_lexer": "ipython3",
   "version": "3.8.13"
  }
 },
 "nbformat": 4,
 "nbformat_minor": 0
}
