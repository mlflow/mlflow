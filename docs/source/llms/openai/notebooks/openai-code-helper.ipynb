{
 "cells": [
  {
   "cell_type": "markdown",
   "metadata": {},
   "source": [
    "## Building a Code Assistant with OpenAI & MLflow\n",
    "\n",
    "### Overview\n",
    "\n",
    "Welcome to this comprehensive tutorial, where you'll embark on a fascinating journey through the integration of OpenAI's powerful language models with MLflow, where we'll be building an actually useful tool that can, with the simple addition of a decorator to any function that we declare, get immediate feedback within an interactive environment on code under active development.\n"
   ]
  },
  {
   "cell_type": "raw",
   "metadata": {},
   "source": [
    "<a href=\"https://raw.githubusercontent.com/mlflow/mlflow/master/docs/source/llms/openai/notebooks/openai-code-helper.ipynb\" class=\"notebook-download-btn\"><i class=\"fas fa-download\"></i>Download this Notebook</a><br>"
   ]
  },
  {
   "cell_type": "markdown",
   "metadata": {},
   "source": [
    "### Learning Objectives\n",
    "\n",
    "By the end of this tutorial, you will:\n",
    "\n",
    "1. **Master OpenAI's GPT-4 for Code Assistance**: Understand how to leverage OpenAI's GPT-4 model for providing real-time coding assistance. Learn to harness its capabilities for generating code suggestions, explanations, and improving overall coding efficiency.\n",
    "2. **Utilize MLflow for Enhanced Model Tracking**: Delve into MLflow's powerful tracking systems to manage machine learning experiments. Learn how to adapt a `pyfunc model` from within MLflow to control how the output of an LLM is displayed from within an interactive coding environment.\n",
    "3. **Seamlessly Combine OpenAI and MLflow**: Discover the practical steps to integrate OpenAI's AI capabilities with MLflow's tracking and management systems. This integration exemplifies how combining these tools can streamline the development and deployment of intelligent applications.\n",
    "4. **Develop and Deploy a Custom Python Code Assistant**: Gain hands-on experience in creating a Python-based code assistant using OpenAI's model. Then, actually see it in action as it is used within a Jupyter Notebook environment to give helpful assistance during development.\n",
    "5. **Improve Code Quality with AI-driven Insights**: Apply AI-powered analysis to review and enhance your code. Learn how an AI assistant can provide real-time feedback on code quality, suggest improvements, and help maintain high coding standards.\n",
    "6. **Explore Advanced Python Features for Robust Development**: Understand advanced Python features like decorators and functional programming. These are crucial for building efficient, scalable, and maintainable software solutions, especially when integrating AI capabilities.\n",
    "\n",
    "\n",
    "### Key Concepts Covered\n",
    "\n",
    "1. **MLflow's Model Management**: Explore MLflow's features for tracking experiments, packaging code into reproducible runs, and managing and deploying models.\n",
    "2. **Custom Python Model**: Learn how to use MLflow's built-in customization for defining a generic Python function that will allow you to craft your own processing logic while interfacing with OpenAI to perform alternative handling to the LLM's output.\n",
    "3. **Python Decorators and Functional Programming**: Learn about advanced Python concepts like decorators and functional programming for efficient code evaluation and enhancement.\n",
    "\n",
    "### Why Use MLflow for this?\n",
    "\n",
    "MLflow emerges as a pivotal element in this tutorial, making our use case not only feasible but also highly efficient. It offers a secure and seamless interface with OpenAI's advanced language models. In this tutorial, we'll explore how MLflow greatly simplifies the process of storing specific instructional prompts for OpenAI, and enhances the user experience by adding readable formatting to the returned text.\n",
    "\n",
    "The flexibility and scalability of MLflow make it a robust choice for integrating with various tools, particularly in interactive coding environments like Jupyter Notebooks. We'll witness firsthand how MLflow facilitates rapid experimentation and iteration, allowing us to create a functional tool with minimal effort. This tool will not just assist in development but will also elevate the overall coding and model management experience. By leveraging MLflow's comprehensive features, we'll navigate through a seamless end-to-end workflow, from setting up intricate models to executing complex tasks efficiently."
   ]
  },
  {
   "cell_type": "markdown",
   "metadata": {},
   "source": [
    "### Important Cost Considerations for GPT-4 Usage\n",
    "\n",
    "#### High(er) Cost of GPT-4\n",
    "It's crucial to note that **using GPT-4, as opposed to GPT-4o-mini, can incur higher costs**. GPT-4's advanced capabilities and enhanced performance come with a price premium, making it a more expensive option compared to earlier models like GPT-3.5.\n",
    "\n",
    "#### Why Choose GPT-4 in This Tutorial\n",
    "- **Enhanced Capabilities**: We opt for GPT-4 in this tutorial primarily due to its superior capabilities, especially in areas such as code refactoring and detecting issues in code implementations.\n",
    "- **Demonstration Purposes**: The use of GPT-4 here serves as a demonstration to showcase the cutting-edge advancements in language model technology and its applications in complex tasks.\n",
    "\n",
    "#### Consider Alternatives for Cost-Effectiveness\n",
    "For projects where cost is a significant concern, or where the advanced features of GPT-4 are not essential, **consider using GPT-4o-mini or other more cost-effective alternatives**. These models still offer robust performance for a wide range of applications but at a lower cost.\n",
    "\n",
    "#### Budgeting for GPT-4\n",
    "If you choose to proceed with GPT-4, it is recommended to:\n",
    "- **Monitor Usage Closely**: Keep track of your API usage to manage costs effectively.\n",
    "- **Budget Accordingly**: Allocate sufficient resources to cover the higher costs associated with GPT-4.\n",
    "\n",
    "By being mindful of these cost considerations, you can make informed decisions about which OpenAI model best suits your project's needs and budget."
   ]
  },
  {
   "cell_type": "code",
   "execution_count": 1,
   "metadata": {},
   "outputs": [],
   "source": [
    "import warnings\n",
    "\n",
    "# Disable a few less-than-useful UserWarnings from setuptools and pydantic\n",
    "warnings.filterwarnings(\"ignore\", category=UserWarning)"
   ]
  },
  {
   "cell_type": "code",
   "execution_count": 2,
   "metadata": {},
   "outputs": [],
   "source": [
    "import functools\n",
    "import inspect\n",
    "import os\n",
    "import textwrap\n",
    "\n",
    "import openai\n",
    "\n",
    "import mlflow\n",
    "from mlflow.models.signature import ModelSignature\n",
    "from mlflow.pyfunc import PythonModel\n",
    "from mlflow.types.schema import ColSpec, ParamSchema, ParamSpec, Schema\n",
    "\n",
    "# Run a quick validation that we have an entry for the OPEN_API_KEY within environment variables\n",
    "assert \"OPENAI_API_KEY\" in os.environ, \"OPENAI_API_KEY environment variable must be set\""
   ]
  },
  {
   "cell_type": "markdown",
   "metadata": {},
   "source": [
    "### Initializing the MLflow Client\n",
    "\n",
    "Depending on where you are running this notebook, your configuration may vary for how you initialize the MLflow Client.\n",
    "If you are uncertain about how to configure and use an MLflow Tracking server or what options are available (The easiest is to use the free managed service within [Databricks Community Edition](https://community.cloud.databricks.com/)), you can see [the guide to running notebooks here](https://www.mlflow.org/docs/latest/getting-started/running-notebooks/index.html) for more information on setting the tracking server uri and configuring access to either managed or self-managed MLflow tracking servers."
   ]
  },
  {
   "cell_type": "markdown",
   "metadata": {},
   "source": [
    "### Setting the MLflow Experiment\n",
    "\n",
    "In this section of the tutorial, we use MLflow's `set_experiment` function to define an experiment named \"Code Helper\". This step is essential in MLflow's workflow for several reasons:\n",
    "\n",
    "1. **Unique Identification**: A unique and distinct experiment name like \"Code Helper\" is crucial for easy identification and segregation of the runs pertaining to this specific project, especially when working on multiple projects or experiments simultaneously.\n",
    "\n",
    "2. **Simplified Tracking**: Naming the experiment enables effortless tracking of all the runs and models associated with it, maintaining a clear history of model development, parameters, metrics, and results.\n",
    "\n",
    "3. **Ease of Access in MLflow UI**: A distinct experiment name ensures quick location and access to our experiment's runs and models within the MLflow UI, facilitating analysis, comparison of different runs, and sharing findings.\n",
    "\n",
    "4. **Facilitates Better Organization**: As projects grow in complexity, having a well-named experiment aids in better organization and management of the machine learning lifecycle, making it easier to navigate through different stages of the experiment.\n",
    "\n",
    "The use of a unique experiment name like \"Code Helper\" lays the foundation for efficient model management and tracking, a critical aspect of any machine learning workflow, especially in dynamic and collaborative environments."
   ]
  },
  {
   "cell_type": "code",
   "execution_count": 3,
   "metadata": {},
   "outputs": [
    {
     "data": {
      "text/plain": [
       "<Experiment: artifact_location='file:///Users/benjamin.wilson/repos/mlflow-fork/mlflow/docs/source/llms/openai/notebooks/mlruns/703316263508654123', creation_time=1701891935339, experiment_id='703316263508654123', last_update_time=1701891935339, lifecycle_stage='active', name='Code Helper', tags={}>"
      ]
     },
     "execution_count": 3,
     "metadata": {},
     "output_type": "execute_result"
    }
   ],
   "source": [
    "mlflow.set_experiment(\"Code Helper\")"
   ]
  },
  {
   "cell_type": "markdown",
   "metadata": {},
   "source": [
    "### Defining the Instruction Set for the AI Model\n",
    "\n",
    "In this part of the tutorial, we define a specific set of instructions to guide the behavior of our AI model. This is achieved through the `instruction` array, which outlines the roles and expected interactions between the system (AI model) and the user. Here's a breakdown of its components:\n",
    "\n",
    "1. **System Role**: The first element of the array defines the role of the AI model as a 'system'. It describes the model as a 'helpful expert Software Engineer' whose purpose is to assist in code analysis and provide educational support. The AI model is expected to:\n",
    "   - Offer clear explanations of the code's intent.\n",
    "   - Assess the code's correctness and readability.\n",
    "   - Suggest improvements while focusing on simplicity, maintainability, and adherence to best coding practices.\n",
    "\n",
    "2. **User Role**: The second element represents the 'user' role. This part is where the user (in this case, the person learning from the tutorial) interacts with the AI model by submitting code for review. The user is expected to:\n",
    "   - Provide code snippets for evaluation.\n",
    "   - Seek feedback and suggestions for code improvement from the AI model.\n",
    "\n",
    "This instruction set is crucial for creating an interactive learning experience. It guides the AI model in providing targeted, constructive feedback, making it an invaluable tool for understanding coding practices and enhancing coding skills.\n"
   ]
  },
  {
   "cell_type": "code",
   "execution_count": 4,
   "metadata": {},
   "outputs": [],
   "source": [
    "instruction = [\n",
    "    {\n",
    "        \"role\": \"system\",\n",
    "        \"content\": (\n",
    "            \"As an AI specializing in code review, your task is to analyze and critique the submitted code. For each code snippet, provide a detailed review that includes: \"\n",
    "            \"1. Identification of any errors or bugs. \"\n",
    "            \"2. Suggestions for optimizing code efficiency and structure. \"\n",
    "            \"3. Recommendations for enhancing code readability and maintainability. \"\n",
    "            \"4. Best practice advice relevant to the code’s language and functionality. \"\n",
    "            \"Your feedback should help the user improve their coding skills and understand best practices in software development.\"\n",
    "        ),\n",
    "    },\n",
    "    {\"role\": \"user\", \"content\": \"Review my code and suggest improvements: {code}\"},\n",
    "]"
   ]
  },
  {
   "cell_type": "markdown",
   "metadata": {},
   "source": [
    "### Defining and Utilizing the Model Signature in MLflow\n",
    "\n",
    "In this part of the tutorial, we define a `ModelSignature` for our OpenAI model, which is a crucial step in both saving the base model and later in our custom Python Model implementation. Here's an overview of the process:\n",
    "\n",
    "1. **Model Signature Definition**:\n",
    "   - We create a `ModelSignature` object that specifies the input, output, and parameters of our model.\n",
    "   - The `inputs` and `outputs` are defined as schemas with a single string column, indicating that our model will be processing string type data.\n",
    "   - The `params` schema includes two parameters: `max_tokens` and `temperature`, each with a default value and data type defined.\n",
    "\n",
    "> **Note** We're explicitly defining the model signature here for purposes of demonstration. The schema will be automatically inferred if you do not specify one and will be set based on the `task` that is defined when logging or saving the model. \n",
    "\n",
    "2. **Logging the Base OpenAI Model**:\n",
    "   - Using `mlflow.openai.log_model`, we log the base OpenAI model (`gpt-4`) along with the `instruction` set we defined earlier.\n",
    "   - The `signature` we defined is also passed in this step, ensuring that the model is saved with the correct specifications for inputs, outputs, and parameters.\n",
    "\n",
    "This dual-purpose signature is vital as it ensures consistency in how the model processes data both in its base form and when it's later wrapped in a custom Python Model. This approach streamlines the workflow and maintains uniformity across different stages of model implementation and deployment."
   ]
  },
  {
   "cell_type": "code",
   "execution_count": 5,
   "metadata": {},
   "outputs": [],
   "source": [
    "# Define the model signature that will be used for both the base model and the eventual custom pyfunc implementation later.\n",
    "signature = ModelSignature(\n",
    "    inputs=Schema([ColSpec(type=\"string\", name=None)]),\n",
    "    outputs=Schema([ColSpec(type=\"string\", name=None)]),\n",
    "    params=ParamSchema(\n",
    "        [\n",
    "            ParamSpec(name=\"max_tokens\", default=500, dtype=\"long\"),\n",
    "            ParamSpec(name=\"temperature\", default=0, dtype=\"float\"),\n",
    "        ]\n",
    "    ),\n",
    ")\n",
    "\n",
    "# Log the base OpenAI model with the included instruction set (prompt)\n",
    "with mlflow.start_run():\n",
    "    model_info = mlflow.openai.log_model(\n",
    "        model=\"gpt-4\",\n",
    "        task=openai.chat.completions,\n",
    "        artifact_path=\"base_model\",\n",
    "        messages=instruction,\n",
    "        signature=signature,\n",
    "    )"
   ]
  },
  {
   "cell_type": "markdown",
   "metadata": {},
   "source": [
    "### Our logged model in the MLflow UI\n",
    "\n",
    "After logging the model, you can open up the MLflow UI and see the components that have been logged. Notice that the configuration for our model, including the model type (gpt-4), the endpoint API type (task) is recorded (chat.completions), and the prompt have all been logged. \n",
    "\n",
    "![openai-ui](https://i.imgur.com/72EGEG8.png)"
   ]
  },
  {
   "cell_type": "markdown",
   "metadata": {},
   "source": [
    "### Enhancing User Experience with Custom Pyfunc Implementation\n",
    "\n",
    "In this section, we introduce a custom Python Model, `CodeHelper`, which significantly improves the user experience when interacting with the OpenAI model in an interactive development environment like Jupyter Notebook. The `CodeHelper` class is designed to format the output from the OpenAI model, making it more readable and visually appealing, similar to a chat interface. Here's how it works:\n",
    "\n",
    "1. **Initialization and Model Loading**:\n",
    "   - The `CodeHelper` class inherits from `PythonModel`.\n",
    "   - The `load_context` method is used to load the OpenAI model, which is saved as `self.model`. This model is loaded from the `context.artifacts`, ensuring that the appropriate model is used for predictions.\n",
    "\n",
    "2. **Response Formatting**:\n",
    "   - The `_format_response` method is crucial for enhancing the output format.\n",
    "   - It processes each item in the response, handling text and code blocks differently.\n",
    "   - Text lines outside of code blocks are wrapped to a width of 80 characters for better readability.\n",
    "   - Lines within code blocks (marked by `` ``` ``) are not wrapped, preserving the code structure.\n",
    "   - This formatting creates an output that resembles a chat interface, making the interaction more intuitive and user-friendly.\n",
    "\n",
    "3. **Making Predictions**:\n",
    "   - The `predict` method is where the model’s prediction occurs.\n",
    "   - It calls the loaded OpenAI model to get the raw response for the given input.\n",
    "   - The raw response is then passed to the `_format_response` method for formatting.\n",
    "   - The formatted response is returned, providing a clear and easy-to-read output.\n",
    "\n",
    "By implementing this custom `pyfunc`, we enhance the user's interaction with the AI code helper. It not only makes the output easier to understand but also presents it in a familiar format, akin to messaging, which is especially beneficial in interactive coding environments."
   ]
  },
  {
   "cell_type": "code",
   "execution_count": 6,
   "metadata": {},
   "outputs": [],
   "source": [
    "# Custom pyfunc implementation that applies text and code formatting to the output results from the OpenAI model\n",
    "class CodeHelper(PythonModel):\n",
    "    def __init__(self):\n",
    "        self.model = None\n",
    "\n",
    "    def load_context(self, context):\n",
    "        self.model = mlflow.pyfunc.load_model(context.artifacts[\"model_path\"])\n",
    "\n",
    "    @staticmethod\n",
    "    def _format_response(response):\n",
    "        formatted_output = \"\"\n",
    "        in_code_block = False\n",
    "\n",
    "        for item in response:\n",
    "            lines = item.split(\"\\n\")\n",
    "            for line in lines:\n",
    "                # Check for the start/end of a code block\n",
    "                if line.strip().startswith(\"```\"):\n",
    "                    in_code_block = not in_code_block\n",
    "                    formatted_output += line + \"\\n\"\n",
    "                    continue\n",
    "\n",
    "                if in_code_block:\n",
    "                    # Don't wrap lines inside code blocks\n",
    "                    formatted_output += line + \"\\n\"\n",
    "                else:\n",
    "                    # Wrap lines outside of code blocks\n",
    "                    wrapped_lines = textwrap.fill(line, width=80)\n",
    "                    formatted_output += wrapped_lines + \"\\n\"\n",
    "\n",
    "        return formatted_output\n",
    "\n",
    "    def predict(self, context, model_input, params):\n",
    "        # Call the loaded OpenAI model instance to get the raw response\n",
    "        raw_response = self.model.predict(model_input, params=params)\n",
    "\n",
    "        # Return the formatted response so that it is easier to read\n",
    "        return self._format_response(raw_response)"
   ]
  },
  {
   "cell_type": "markdown",
   "metadata": {},
   "source": [
    "### Saving the Custom Python Model with MLflow\n",
    "\n",
    "This part of the tutorial demonstrates how to save the custom Python model, `CodeHelper`, using MLflow. The process involves specifying the model's location and additional information to ensure it is properly stored and can be retrieved for future use. Here’s an overview:\n",
    "\n",
    "1. **Defining Artifacts**:\n",
    "   - An `artifacts` dictionary is created with a key `\"model_path\"` pointing to the location of the base OpenAI model. This step is important to link our custom model with the necessary base model files. We retrieve the location of the logged openai model from earlier by accessing the `model_uri` property from the return of the `log_model()` function.\n",
    "\n",
    "2. **Saving the Model**:\n",
    "   - The `mlflow.pyfunc.save_model` function is used to save the `CodeHelper` model.\n",
    "   - `path`: Specifies the location (`final_model_path`) where the model will be saved.\n",
    "   - `python_model`: An instance of the `CodeHelper` class is provided, indicating the model to be saved.\n",
    "   - `input_example`: An example input (`[\"x = 1\"]`) is given, which is useful for understanding the model's expected input format.\n",
    "   - `signature`: The previously defined `ModelSignature` is passed, ensuring consistency in how the model processes data.\n",
    "   - `artifacts`: The `artifacts` dictionary is included to associate the base OpenAI model with our custom model.\n",
    "\n",
    "This step is crucial for encapsulating the entire functionality of our `CodeHelper` model in a format that MLflow can manage and track. It allows for easy deployment and versioning of the model, facilitating its use in various applications and environments."
   ]
  },
  {
   "cell_type": "code",
   "execution_count": 7,
   "metadata": {},
   "outputs": [
    {
     "data": {
      "application/vnd.jupyter.widget-view+json": {
       "model_id": "86d0f13d76c246e78946dbab8281ae9f",
       "version_major": 2,
       "version_minor": 0
      },
      "text/plain": [
       "Downloading artifacts:   0%|          | 0/5 [00:00<?, ?it/s]"
      ]
     },
     "metadata": {},
     "output_type": "display_data"
    }
   ],
   "source": [
    "# Define the location of the base model that we'll be using within our custom pyfunc implementation\n",
    "artifacts = {\"model_path\": model_info.model_uri}\n",
    "\n",
    "with mlflow.start_run():\n",
    "    helper_model = mlflow.pyfunc.log_model(\n",
    "        artifact_path=\"code_helper\",\n",
    "        python_model=CodeHelper(),\n",
    "        input_example=[\"x = 1\"],\n",
    "        signature=signature,\n",
    "        artifacts=artifacts,\n",
    "    )"
   ]
  },
  {
   "cell_type": "markdown",
   "metadata": {},
   "source": [
    "### Load our saved Custom Python Model\n",
    "\n",
    "In this next section, we load the model that we just saved so that we can use it!"
   ]
  },
  {
   "cell_type": "code",
   "execution_count": 8,
   "metadata": {},
   "outputs": [],
   "source": [
    "loaded_helper = mlflow.pyfunc.load_model(helper_model.model_uri)"
   ]
  },
  {
   "cell_type": "markdown",
   "metadata": {},
   "source": [
    "### Comparing Two Approaches for Code Review with MLflow Models\n",
    "\n",
    "In this tutorial, we'll explore two different approaches to utilizing MLflow models for reviewing and providing feedback on code. These approaches offer varying levels of complexity and integration, catering to different use cases and preferences.\n",
    "\n",
    "#### Approach 1: The Simple `review` Function\n",
    "Our first approach is a straightforward `review` function. This method is less intrusive and does not modify the original function's behavior. It's ideal for scenarios where you want to manually trigger a review of the function's code and don't need to see the output result of the function to have context of the LLM's analysis.\n",
    "\n",
    "- **How it works**: The `review` function takes a function and an MLflow model as arguments. It then uses the model to evaluate the source code of the given function.\n",
    "- **Manual Invocation**: You need to explicitly call `review(my_func)` to review `my_func`. This approach is manual and does not automatically integrate with function calls.\n",
    "- **Simplicity**: This method is simpler and more direct, making it suitable for one-off evaluations or for use cases where automatic review is not required.\n",
    "\n",
    "#### Approach 2: The Advanced `code_inspector` Decorator\n",
    "The second approach is an advanced decorator, `code_inspector`, which integrates more deeply by automatically reviewing the function and allowing the function's evaluation to execute. This can be helpful for more complex functions where the output result, in conjunction with the evaluation from the code helper, can allow for a deeper understanding of any observed logical flaws.\n",
    "\n",
    "- **Automatic Evaluation**: When applied as a decorator, `code_inspector` evaluates the function's code automatically on each call.\n",
    "- **Error Handling**: Includes robust error handling within the evaluation process.\n",
    "- **Function Modification**: This method modifies the function's behavior, incorporating an automatic review process.\n",
    "\n",
    "#### Introduction to the `review` Function\n",
    "We'll start by examining the `review` function. This function will be defined in the next cell of our Jupyter notebook. Here's a quick overview of what the `review` function does:\n",
    "\n",
    "- **Inputs**: It takes a function and an MLflow model as inputs.\n",
    "- **Functionality**: Extracts the source code of the input function and uses the MLflow model to provide feedback on it.\n",
    "- **Error Handling**: Enhanced with error handling to manage exceptions gracefully.\n",
    "\n",
    "In the following Jupyter notebook cell, you'll see the implementation of the `review` function, demonstrating its simplicity and effectiveness in evaluating code.\n",
    "\n",
    "---\n",
    "\n",
    "After exploring the `review` function, we will delve into the more complex `code_inspector` decorator to understand its automatic evaluation process and error handling mechanisms.\n"
   ]
  },
  {
   "cell_type": "code",
   "execution_count": 9,
   "metadata": {},
   "outputs": [],
   "source": [
    "def review(func, model):\n",
    "    \"\"\"\n",
    "    Function to review the source code of a given function using a specified MLflow model.\n",
    "\n",
    "    Args:\n",
    "    func (function): The function to review.\n",
    "    model (MLflow pyfunc model): The MLflow pyfunc model used for evaluation.\n",
    "\n",
    "    Returns:\n",
    "    The model's prediction or an error message.\n",
    "    \"\"\"\n",
    "    try:\n",
    "        # Extracting the source code of the function\n",
    "        source_code = inspect.getsource(func)\n",
    "\n",
    "        # Using the model to predict/evaluate the source code\n",
    "        prediction = model.predict([source_code])\n",
    "        print(prediction)\n",
    "    except Exception as e:\n",
    "        # Handling any exceptions that occur and returning an error message\n",
    "        return f\"Error during model prediction or source code inspection: {e}\""
   ]
  },
  {
   "cell_type": "markdown",
   "metadata": {},
   "source": [
    "### Explanation and Review of `process_data` Function\n",
    "\n",
    "#### Function Overview\n",
    "The `process_data` function aims to process a list by identifying unique elements and counting duplicates. However, the implementation has several inefficiencies and readability issues.\n",
    "\n",
    "#### Suggested Revised Code\n",
    "The output from GPT-4's analysis provides clear and concise feedback, precisely as the prompt instructed it to. With the MLflow integration of this application, the simplicity of using the tool is evident, allowing us to get high-quality guidance during the development process with as little as a single, simple function call. \n"
   ]
  },
  {
   "cell_type": "code",
   "execution_count": 10,
   "metadata": {},
   "outputs": [
    {
     "name": "stdout",
     "output_type": "stream",
     "text": [
      "Your code seems to be trying to find the count of duplicate elements in a list\n",
      "and return a sorted list of unique elements in descending order along with the\n",
      "count of duplicates. Here are some suggestions to improve your code:\n",
      "\n",
      "1. **Errors or Bugs**: There are no syntax errors in your code, but the logic is\n",
      "flawed. The variable `s` is supposed to count the number of duplicate elements,\n",
      "but it only counts the number of times an element is equal to another element in\n",
      "the list, which is not the same thing. Also, the way you're trying to get unique\n",
      "elements is inefficient and can lead to incorrect results.\n",
      "\n",
      "2. **Optimizing Code Efficiency and Structure**: You can use Python's built-in\n",
      "`set` and `list` data structures to simplify your code and make it more\n",
      "efficient. A `set` in Python is an unordered collection of unique elements. You\n",
      "can convert your list to a set to remove duplicates, and then convert it back to\n",
      "a list. The length of the original list minus the length of the list with\n",
      "duplicates removed will give you the number of duplicate elements.\n",
      "\n",
      "3. **Enhancing Code Readability and Maintainability**: Use meaningful variable\n",
      "names to make your code easier to understand. Also, add comments to explain what\n",
      "each part of your code does.\n",
      "\n",
      "4. **Best Practice Advice**: It's a good practice to write a docstring at the\n",
      "beginning of your function to explain what it does.\n",
      "\n",
      "Here's a revised version of your code incorporating these suggestions:\n",
      "\n",
      "```python\n",
      "def process_data(lst):\n",
      "    \"\"\"\n",
      "    This function takes a list as input, removes duplicate elements, sorts the remaining elements in descending order,\n",
      "    and counts the number of duplicate elements in the original list.\n",
      "    It returns a tuple containing the sorted list of unique elements and the count of duplicate elements.\n",
      "    \"\"\"\n",
      "    # Convert the list to a set to remove duplicates, then convert it back to a list\n",
      "    unique_elements = list(set(lst))\n",
      "    \n",
      "    # Sort the list of unique elements in descending order\n",
      "    sorted_unique_elements = sorted(unique_elements, reverse=True)\n",
      "    \n",
      "    # Count the number of duplicate elements\n",
      "    duplicate_count = len(lst) - len(unique_elements)\n",
      "    \n",
      "    return sorted_unique_elements, duplicate_count\n",
      "```\n",
      "This version of the code is simpler, more efficient, and easier to understand.\n",
      "It also correctly counts the number of duplicate elements in the list.\n",
      "\n"
     ]
    }
   ],
   "source": [
    "def process_data(lst):\n",
    "    s = 0\n",
    "    q = []\n",
    "    for i in range(len(lst)):\n",
    "        a = lst[i]\n",
    "        for j in range(i + 1, len(lst)):\n",
    "            b = lst[j]\n",
    "            if a == b:\n",
    "                s += 1\n",
    "            else:\n",
    "                q.append(b)\n",
    "    rslt = [x for x in lst if x not in q]\n",
    "    k = []\n",
    "    for i in rslt:\n",
    "        if i not in k:\n",
    "            k.append(i)\n",
    "    final_data = sorted(k, reverse=True)\n",
    "    return final_data, s\n",
    "\n",
    "\n",
    "review(process_data, loaded_helper)"
   ]
  },
  {
   "cell_type": "markdown",
   "metadata": {},
   "source": [
    "### The `code_inspector` Decorator Function\n",
    "\n",
    "The `code_inspector` function is a Python decorator designed to augment functions with automatic code review capabilities using an MLflow pyfunc model. \n",
    "This decorator enhances the functionality of functions, allowing them to be automatically reviewed for code quality and correctness using an MLflow pyfunc model, thereby enriching the development and learning experience. As compared to the above implementation for the `review()` function, this approach will allow the function to be executed when called, enhancing the contextual information when paired with the automated code review."
   ]
  },
  {
   "cell_type": "code",
   "execution_count": 11,
   "metadata": {},
   "outputs": [],
   "source": [
    "import functools\n",
    "import inspect\n",
    "\n",
    "\n",
    "def code_inspector(model):\n",
    "    \"\"\"\n",
    "    Decorator for automatic code review using an MLflow pyfunc model.\n",
    "\n",
    "    Args:\n",
    "        model: The MLflow pyfunc model for code evaluation.\n",
    "    \"\"\"\n",
    "\n",
    "    def decorator_check_my_function(func):\n",
    "        # Decorator that wraps around the given function\n",
    "        @functools.wraps(func)\n",
    "        def wrapper(*args, **kwargs):\n",
    "            try:\n",
    "                # Extracting the source code of the decorated function\n",
    "                parsed_func = inspect.getsource(func)\n",
    "\n",
    "                # Using the MLflow model to evaluate the extracted source code\n",
    "                response = model.predict([parsed_func])\n",
    "\n",
    "                # Printing the response for code review feedback\n",
    "                print(response)\n",
    "\n",
    "            except Exception as e:\n",
    "                # Handling exceptions during model prediction or source code extraction\n",
    "                print(\"Error during model prediction or formatting:\", e)\n",
    "\n",
    "            # Executing and returning the original function's output\n",
    "            return func(*args, **kwargs)\n",
    "\n",
    "        return wrapper\n",
    "\n",
    "    return decorator_check_my_function"
   ]
  },
  {
   "cell_type": "markdown",
   "metadata": {},
   "source": [
    "### First Usage Trial: The `summing_function` with `code_inspector`\n",
    "\n",
    "We apply the `code_inspector` decorator to a function named `summing_function`. This function is designed to calculate the sum of sums for a given range. Here's an insight into its functionality and the enhancement brought by `code_inspector`:\n",
    "\n",
    "1. **Function Overview**:\n",
    "   - `summing_function` calculates the cumulative sum of numbers up to `n`. It does so by iterating over a range and summing the intermediate sums at each step.\n",
    "   - A dictionary, `intermediate_sums`, is used to store these sums, which are then aggregated to find the final sum.\n",
    "\n",
    "2. **Using `code_inspector`**:\n",
    "   - The function is decorated with `code_inspector(loaded_helper)`. This means that each time `summing_function` is called, the MLflow model loaded as `loaded_helper` analyzes its code.\n",
    "   - The decorator provides real-time feedback on the code, assessing aspects like quality, efficiency, and best practices.\n",
    "\n",
    "3. **Educational Benefit**:\n",
    "   - This setup is ideal for learning, allowing users to receive instant, actionable feedback on their code.\n",
    "   - It offers a practical way to understand the logic behind the function and learn coding optimizations and improvements.\n",
    "\n",
    "By integrating `code_inspector` with `summing_function`, the tutorial demonstrates an interactive approach to enhancing coding skills, with immediate feedback aiding in understanding and improvement.\n",
    "\n",
    "Before proceeding to see the response from GPT-4, can you identify all of the issues in this code (there are more than a few)?"
   ]
  },
  {
   "cell_type": "code",
   "execution_count": 12,
   "metadata": {},
   "outputs": [],
   "source": [
    "@code_inspector(loaded_helper)\n",
    "def summing_function(n):\n",
    "    sum_result = 0\n",
    "\n",
    "    intermediate_sums = {}\n",
    "\n",
    "    for i in range(1, n + 1):\n",
    "        intermediate_sums[str(i)] = sum(x for x in range(1, i + 1))\n",
    "        for key in intermediate_sums:\n",
    "            if key == str(i):\n",
    "                sum_result = intermediate_sums[key]  # noqa: F841\n",
    "\n",
    "    final_sum = sum([intermediate_sums[key] for key in intermediate_sums if int(key) == n])\n",
    "\n",
    "    return int(str(final_sum))"
   ]
  },
  {
   "cell_type": "markdown",
   "metadata": {},
   "source": [
    "### Execution and Analysis of `summing_function(1000)`\n",
    "\n",
    "When we execute `summing_function(1000)`, several key processes take place, utilizing our custom MLflow model through the `code_inspector` decorator. Here's what happens:\n",
    "\n",
    "1. **Decorator Activation**:\n",
    "   - On calling `summing_function(1000)`, the `code_inspector` decorator is the first to activate. This decorator is designed to use the `loaded_helper` model to analyze the decorated function.\n",
    "\n",
    "2. **Model Analyzes the Function Code**:\n",
    "   - `code_inspector` retrieves the source code of `summing_function` using the `inspect` module.\n",
    "   - This source code is then passed to the `loaded_helper` model, which performs an analysis based on its training and provided instructions. The model predicts feedback on code quality, efficiency, and best practices.\n",
    "\n",
    "3. **Feedback Presentation**:\n",
    "   - The feedback generated by the model is printed out. This feedback might include suggestions for code optimization, identification of potential errors, or general advice on coding practices.\n",
    "   - This step provides an educational insight into the code quality before the function executes its logic.\n",
    "\n",
    "4. **Function Execution**:\n",
    "   - After the feedback is displayed, the `summing_function` proceeds to execute with the input `1000`.\n",
    "   - The function calculates the cumulative sum of numbers up to 1000, but due to its inefficient implementation, this process may be slower and more resource-intensive than necessary.\n",
    "\n",
    "5. **Return of Result**:\n",
    "   - The function returns the final computed sum, which is the result of the summing logic implemented within it.\n",
    "\n",
    "This demonstration highlights how the `code_inspector` decorator, combined with our custom MLflow model, provides a unique, real-time code analysis and feedback mechanism, enhancing the learning and development experience in an interactive environment."
   ]
  },
  {
   "cell_type": "code",
   "execution_count": 13,
   "metadata": {},
   "outputs": [
    {
     "name": "stdout",
     "output_type": "stream",
     "text": [
      "Here's a detailed review of your code:\n",
      "\n",
      "1. Errors or bugs: There are no syntax errors in your code, but there is a\n",
      "logical error. The summing_function is supposed to calculate the sum of numbers\n",
      "from 1 to n, but it's doing more than that. It's calculating the sum of numbers\n",
      "from 1 to i for each i in the range 1 to n, storing these sums in a dictionary,\n",
      "and then summing these sums again. This is unnecessary and inefficient.\n",
      "\n",
      "2. Optimizing code efficiency and structure: The function can be simplified\n",
      "significantly. The sum of numbers from 1 to n can be calculated directly using\n",
      "the formula n*(n+1)/2. This eliminates the need for the loop and the dictionary,\n",
      "making the function much more efficient.\n",
      "\n",
      "3. Enhancing code readability and maintainability: The code can be made more\n",
      "readable by simplifying it and removing unnecessary parts. The use of the\n",
      "dictionary and the conversion of numbers to strings and back to numbers is\n",
      "confusing and unnecessary.\n",
      "\n",
      "4. Best practice advice: In Python, it's best to keep things simple and\n",
      "readable. Avoid unnecessary complexity and use built-in functions and operators\n",
      "where possible. Also, avoid unnecessary type conversions.\n",
      "\n",
      "Here's a simplified version of your function:\n",
      "\n",
      "```python\n",
      "def summing_function(n):\n",
      "    return n * (n + 1) // 2\n",
      "```\n",
      "\n",
      "This function does exactly the same thing as your original function, but it's\n",
      "much simpler, more efficient, and more readable.\n",
      "\n"
     ]
    },
    {
     "data": {
      "text/plain": [
       "500500"
      ]
     },
     "execution_count": 13,
     "metadata": {},
     "output_type": "execute_result"
    }
   ],
   "source": [
    "summing_function(1000)"
   ]
  },
  {
   "cell_type": "markdown",
   "metadata": {},
   "source": [
    "### Analysis of `one_liner` Function\n",
    "\n",
    "The `one_liner` function, decorated with `code_inspector`, demonstrates an interesting approach but has several issues:\n",
    "\n",
    "1. **Complexity**: The function uses nested lambda expressions to calculate the factorial of `n`. While compact, this approach is overly complex and hard to read, making the code less maintainable and understandable.\n",
    "\n",
    "2. **Readability**: Good coding practice emphasizes readability, which is compromised here due to the one-liner approach. Such code can be challenging to debug and understand, especially for those unfamiliar with the specific coding style.\n",
    "\n",
    "3. **Best Practices**: While demonstrating Python's capabilities for writing concise code, this example strays from common best practices, particularly in terms of clarity and simplicity.\n",
    "\n",
    "When reviewed by the `code_inspector` model, these issues are likely to be highlighted, emphasizing the importance of balancing clever coding with readability and maintainability."
   ]
  },
  {
   "cell_type": "code",
   "execution_count": 14,
   "metadata": {},
   "outputs": [],
   "source": [
    "@code_inspector(loaded_helper)\n",
    "def one_liner(n):\n",
    "    return (\n",
    "        (lambda f, n: f(f, n))(lambda f, n: n * f(f, n - 1) if n > 1 else 1, n)\n",
    "        if isinstance(n, int) and n >= 0\n",
    "        else \"Invalid input\"\n",
    "    )"
   ]
  },
  {
   "cell_type": "code",
   "execution_count": 15,
   "metadata": {},
   "outputs": [
    {
     "name": "stdout",
     "output_type": "stream",
     "text": [
      "The code you've provided is a one-liner function that calculates the factorial\n",
      "of a given number `n`. It uses a lambda function to recursively calculate the\n",
      "factorial. Here's a review of your code:\n",
      "\n",
      "1. Errors or bugs: There are no syntax errors or bugs in your code. It correctly\n",
      "checks if the input is a non-negative integer and calculates the factorial. If\n",
      "the input is not a non-negative integer, it returns \"Invalid input\".\n",
      "\n",
      "2. Optimizing code efficiency and structure: The code is already quite efficient\n",
      "as it uses recursion to calculate the factorial. However, the structure of the\n",
      "code is quite complex due to the use of a lambda function for recursion. This\n",
      "can make the code difficult to understand and maintain.\n",
      "\n",
      "3. Enhancing code readability and maintainability: The code could be made more\n",
      "readable by breaking it down into multiple lines and adding comments to explain\n",
      "what each part of the code does. The use of a lambda function for recursion\n",
      "makes the code more difficult to understand than necessary. A more\n",
      "straightforward recursive function could be used instead.\n",
      "\n",
      "4. Best practice advice: In Python, it's generally recommended to use clear and\n",
      "simple code over complex one-liners. This is because clear code is easier to\n",
      "read, understand, and maintain. While one-liners can be fun and clever, they can\n",
      "also be difficult to understand and debug.\n",
      "\n",
      "Here's a revised version of your code that's easier to understand:\n",
      "\n",
      "```python\n",
      "def factorial(n):\n",
      "    # Check if the input is a non-negative integer\n",
      "    if not isinstance(n, int) or n < 0:\n",
      "        return \"Invalid input\"\n",
      "    \n",
      "    # Base case: factorial of 0 is 1\n",
      "    if n == 0:\n",
      "        return 1\n",
      "    \n",
      "    # Recursive case: n! = n * (n-1)!\n",
      "    return n * factorial(n - 1)\n",
      "```\n",
      "\n",
      "This version of the code does the same thing as your original code, but it's\n",
      "much easier to understand because it uses a straightforward recursive function\n",
      "instead of a lambda function.\n",
      "\n"
     ]
    },
    {
     "data": {
      "text/plain": [
       "3628800"
      ]
     },
     "execution_count": 15,
     "metadata": {},
     "output_type": "execute_result"
    }
   ],
   "source": [
    "one_liner(10)"
   ]
  },
  {
   "cell_type": "markdown",
   "metadata": {},
   "source": [
    "### Reviewing `find_phone_numbers` Function\n",
    "\n",
    "The `find_phone_numbers` function, enhanced with the `code_inspector`, is designed to extract phone numbers from a given text but contains a few notable issues and expected behaviors:\n",
    "\n",
    "1. **Typographical Error**: The function incorrectly uses `re.complie` instead of `re.compile`, leading to a runtime exception.\n",
    "\n",
    "2. **Pattern Matching Inaccuracy**: The regular expression pattern `\"(\\d{3})-\\d{3}-\\d{4}\"`, while formatted for typical phone numbers, can result in errors if a phone number does not appear in the string.\n",
    "\n",
    "3. **Lack of Error Handling**: Directly accessing the first element in `phone_numbers` without checking if the list is empty can lead to an `IndexError`.\n",
    "\n",
    "4. **Import Statement Position**: The `import re` statement is inside the function, which is unconventional. Imports are typically placed at the top of a script for clarity.\n",
    "\n",
    "5. **Analysis and Exception Handling**:\n",
    "   - Due to how we crafted our custom MLflow model in `code_inspector`, the function's issues will be analyzed and feedback will be returned before the function's logic is executed.\n",
    "   - After this analysis, the execution of the function will likely result in an exception (due to the typographical error), demonstrating the importance of careful code review and testing.\n",
    "\n",
    "The `code_inspector` model's review will highlight these coding missteps, emphasizing the value of proper syntax, pattern accuracy, and error handling in Python programming."
   ]
  },
  {
   "cell_type": "code",
   "execution_count": 16,
   "metadata": {},
   "outputs": [],
   "source": [
    "@code_inspector(loaded_helper)\n",
    "def find_phone_numbers(text):\n",
    "    pattern = r\"(\\d{3})-\\d{3}-\\d{4}\"\n",
    "\n",
    "    import re\n",
    "\n",
    "    compiled_pattern = re.complie(pattern)\n",
    "\n",
    "    phone_numbers = compiled_pattern.findall(text)\n",
    "    first_number = phone_numbers[0]\n",
    "\n",
    "    print(f\"First found phone number: {first_number}\")\n",
    "    return phone_numbers"
   ]
  },
  {
   "cell_type": "code",
   "execution_count": 17,
   "metadata": {},
   "outputs": [
    {
     "name": "stdout",
     "output_type": "stream",
     "text": [
      "Here's a detailed review of your code:\n",
      "\n",
      "1. Errors or Bugs:\n",
      "   - There's a typo in the `re.compile` function. You've written `re.complie`\n",
      "instead of `re.compile`.\n",
      "\n",
      "2. Suggestions for Optimizing Code Efficiency and Structure:\n",
      "   - The import statement `import re` is inside the function. It's a good\n",
      "practice to keep all import statements at the top of the file. This makes it\n",
      "easier to see what modules are being used in the script.\n",
      "   - The function will throw an error if no phone numbers are found in the text\n",
      "because you're trying to access the first element of `phone_numbers` without\n",
      "checking if it exists. You should add a check to see if any phone numbers were\n",
      "found before trying to access the first one.\n",
      "\n",
      "3. Recommendations for Enhancing Code Readability and Maintainability:\n",
      "   - The function name `find_phone_numbers` is clear and descriptive, which is\n",
      "good. However, the variable `pattern` could be more descriptive. Consider\n",
      "renaming it to `phone_number_pattern` or something similar.\n",
      "   - You should add docstrings to your function to describe what it does, what\n",
      "its parameters are, and what it returns.\n",
      "\n",
      "4. Best Practice Advice:\n",
      "   - Use exception handling to catch potential errors and make your program more\n",
      "robust.\n",
      "   - Avoid using print statements in functions that are meant to return a value.\n",
      "If you want to debug, consider using logging instead.\n",
      "\n",
      "Here's how you could improve your code:\n",
      "\n",
      "```python\n",
      "import re\n",
      "\n",
      "def find_phone_numbers(text):\n",
      "    \"\"\"\n",
      "    This function finds all phone numbers in the given text.\n",
      "\n",
      "    Parameters:\n",
      "    text (str): The text to search for phone numbers.\n",
      "\n",
      "    Returns:\n",
      "    list: A list of all found phone numbers.\n",
      "    \"\"\"\n",
      "    phone_number_pattern = \"(\\d{3})-\\d{3}-\\d{4}\"\n",
      "    compiled_pattern = re.compile(phone_number_pattern)\n",
      "\n",
      "    phone_numbers = compiled_pattern.findall(text)\n",
      "\n",
      "    if phone_numbers:\n",
      "        print(f\"First found phone number: {phone_numbers[0]}\")\n",
      "\n",
      "    return phone_numbers\n",
      "```\n",
      "\n",
      "Remember, the print statement is not recommended in production code. It's there\n",
      "for the sake of this example.\n",
      "\n"
     ]
    },
    {
     "ename": "AttributeError",
     "evalue": "module 're' has no attribute 'complie'",
     "output_type": "error",
     "traceback": [
      "\u001b[0;31m---------------------------------------------------------------------------\u001b[0m",
      "\u001b[0;31mAttributeError\u001b[0m                            Traceback (most recent call last)",
      "\u001b[0;32m/var/folders/cd/n8n0rm2x53l_s0xv_j_xklb00000gp/T/ipykernel_38633/78508464.py\u001b[0m in \u001b[0;36m<cell line: 1>\u001b[0;34m()\u001b[0m\n\u001b[0;32m----> 1\u001b[0;31m \u001b[0mfind_phone_numbers\u001b[0m\u001b[0;34m(\u001b[0m\u001b[0;34m\"Give us a call at 888-867-5309\"\u001b[0m\u001b[0;34m)\u001b[0m\u001b[0;34m\u001b[0m\u001b[0;34m\u001b[0m\u001b[0m\n\u001b[0m",
      "\u001b[0;32m/var/folders/cd/n8n0rm2x53l_s0xv_j_xklb00000gp/T/ipykernel_38633/2021999358.py\u001b[0m in \u001b[0;36mwrapper\u001b[0;34m(*args, **kwargs)\u001b[0m\n\u001b[1;32m     18\u001b[0m             \u001b[0;32mexcept\u001b[0m \u001b[0mException\u001b[0m \u001b[0;32mas\u001b[0m \u001b[0me\u001b[0m\u001b[0;34m:\u001b[0m\u001b[0;34m\u001b[0m\u001b[0;34m\u001b[0m\u001b[0m\n\u001b[1;32m     19\u001b[0m                 \u001b[0mprint\u001b[0m\u001b[0;34m(\u001b[0m\u001b[0;34m\"Error during model prediction or formatting:\"\u001b[0m\u001b[0;34m,\u001b[0m \u001b[0me\u001b[0m\u001b[0;34m)\u001b[0m\u001b[0;34m\u001b[0m\u001b[0;34m\u001b[0m\u001b[0m\n\u001b[0;32m---> 20\u001b[0;31m             \u001b[0;32mreturn\u001b[0m \u001b[0mfunc\u001b[0m\u001b[0;34m(\u001b[0m\u001b[0;34m*\u001b[0m\u001b[0margs\u001b[0m\u001b[0;34m,\u001b[0m \u001b[0;34m**\u001b[0m\u001b[0mkwargs\u001b[0m\u001b[0;34m)\u001b[0m\u001b[0;34m\u001b[0m\u001b[0;34m\u001b[0m\u001b[0m\n\u001b[0m\u001b[1;32m     21\u001b[0m \u001b[0;34m\u001b[0m\u001b[0m\n\u001b[1;32m     22\u001b[0m         \u001b[0;32mreturn\u001b[0m \u001b[0mwrapper\u001b[0m\u001b[0;34m\u001b[0m\u001b[0;34m\u001b[0m\u001b[0m\n",
      "\u001b[0;32m/var/folders/cd/n8n0rm2x53l_s0xv_j_xklb00000gp/T/ipykernel_38633/773713950.py\u001b[0m in \u001b[0;36mfind_phone_numbers\u001b[0;34m(text)\u001b[0m\n\u001b[1;32m      5\u001b[0m     \u001b[0;32mimport\u001b[0m \u001b[0mre\u001b[0m\u001b[0;34m\u001b[0m\u001b[0;34m\u001b[0m\u001b[0m\n\u001b[1;32m      6\u001b[0m \u001b[0;34m\u001b[0m\u001b[0m\n\u001b[0;32m----> 7\u001b[0;31m     \u001b[0mcompiled_pattern\u001b[0m \u001b[0;34m=\u001b[0m \u001b[0mre\u001b[0m\u001b[0;34m.\u001b[0m\u001b[0mcomplie\u001b[0m\u001b[0;34m(\u001b[0m\u001b[0mpattern\u001b[0m\u001b[0;34m)\u001b[0m\u001b[0;34m\u001b[0m\u001b[0;34m\u001b[0m\u001b[0m\n\u001b[0m\u001b[1;32m      8\u001b[0m \u001b[0;34m\u001b[0m\u001b[0m\n\u001b[1;32m      9\u001b[0m     \u001b[0mphone_numbers\u001b[0m \u001b[0;34m=\u001b[0m \u001b[0mcompiled_pattern\u001b[0m\u001b[0;34m.\u001b[0m\u001b[0mfindall\u001b[0m\u001b[0;34m(\u001b[0m\u001b[0mtext\u001b[0m\u001b[0;34m)\u001b[0m\u001b[0;34m\u001b[0m\u001b[0;34m\u001b[0m\u001b[0m\n",
      "\u001b[0;31mAttributeError\u001b[0m: module 're' has no attribute 'complie'"
     ]
    }
   ],
   "source": [
    "find_phone_numbers(\"Give us a call at 888-867-5309\")"
   ]
  },
  {
   "cell_type": "markdown",
   "metadata": {},
   "source": [
    "### Conclusion: Harnessing the Power of MLflow in AI-Assisted Development\n",
    "\n",
    "As we conclude this tutorial, we have traversed through the integration of OpenAI's language models with the robust capabilities of MLflow, creating a powerful toolkit for AI-assisted software development. Here's a recap of our journey and the key takeaways:\n",
    "\n",
    "1. **Integrating OpenAI with MLflow**:\n",
    "   - We explored how to seamlessly integrate OpenAI's advanced language models within the MLflow framework. This integration highlighted the potential of combining AI intelligence with robust model management.\n",
    "\n",
    "2. **Implementing a Custom Python Model**:\n",
    "   - Our journey included creating a custom `CodeHelper` model, which showcased MLflow's flexibility in handling custom Python functions. This model significantly enhanced the user experience by formatting AI responses into a more readable format.\n",
    "\n",
    "3. **Real-Time Code Analysis and Feedback**:\n",
    "   - By employing the `code_inspector` decorator, we demonstrated MLflow's utility in providing real-time, insightful feedback on code quality and efficiency, fostering a learning environment that guides towards best coding practices.\n",
    "\n",
    "4. **Handling Complex Code Analysis**:\n",
    "   - The tutorial presented complex code examples, revealing how MLflow, combined with OpenAI, can handle intricate code analysis, offering suggestions and identifying potential issues.\n",
    "\n",
    "5. **Learning from Interactive Feedback**:\n",
    "   - The interactive feedback loop, enabled by our MLflow model, illustrated a practical approach to learning and improving coding skills, making this toolset particularly valuable for educational and development purposes.\n",
    "\n",
    "6. **Flexibility and Scalability of MLflow**:\n",
    "   - Throughout the tutorial, MLflow's flexibility and scalability were evident. Whether it's managing simple Python functions or integrating state-of-the-art AI models, MLflow proved to be an invaluable asset in streamlining the model management process.\n",
    "\n",
    "In summary, this tutorial not only provided insights into effective coding practices but also underscored the versatility of MLflow in enhancing AI-assisted software development. It stands as a testament to how machine learning tools and models can be innovatively applied to improve code quality, efficiency, and the overall development experience.\n",
    "\n",
    "### What's Next?\n",
    "\n",
    "To continue your learning journey, see the additional [advanced tutorials for MLflow's OpenAI flavor](https://www.mlflow.org/docs/latest/llms/openai/index.html#advanced-tutorials)."
   ]
  }
 ],
 "metadata": {
  "kernelspec": {
   "display_name": "Python 3",
   "language": "python",
   "name": "python3"
  },
  "language_info": {
   "codemirror_mode": {
    "name": "ipython",
    "version": 3
   },
   "file_extension": ".py",
   "mimetype": "text/x-python",
   "name": "python",
   "nbconvert_exporter": "python",
   "pygments_lexer": "ipython3",
   "version": "3.8.13"
  }
 },
 "nbformat": 4,
 "nbformat_minor": 2
}
