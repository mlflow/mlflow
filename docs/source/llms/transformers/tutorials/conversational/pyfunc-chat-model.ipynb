{
 "cells": [
  {
   "cell_type": "markdown",
   "metadata": {},
   "source": [
    "## Building and Serving an OpenAI-compatible Chatbot\n",
    "\n",
    "Welcome to our tutorial on using Transformers and MLflow to create an OpenAI-compatible chat model. In MLflow 2.11 and up, the [ChatModel](https://mlflow.org/docs/latest/python_api/mlflow.pyfunc.html#mlflow.pyfunc.ChatModel) class has been added, allowing for convenient creation of served models that conform to the OpenAI API spec. This enables you to seamlessly swap out your chat app's backing LLM, or to easily evaluate different models without having to edit your client-side code.\n",
    "\n",
    "If you haven't already seen it, you may find it helpful to go through our [introductory notebook on chat and Transformers](https://mlflow.org/docs/latest/llms/transformers/tutorials/conversational/conversational-model.html) before proceeding with this one, as this notebook is slightly higher-level and does not delve too deeply into the inner workings of Transformers or MLflow Tracking.\n",
    "\n",
    "### Learning objectives\n",
    "\n",
    "In this tutorial, you will:\n",
    "\n",
    "- Create an OpenAI-compatible chat model using TinyLLama-1.1B-Chat\n",
    "- Serve the model with MLflow Model Serving\n",
    "- Learn how to use MLflow's `pyfunc` API to add arbitrary customization to your model"
   ]
  },
  {
   "cell_type": "code",
   "execution_count": null,
   "metadata": {},
   "outputs": [],
   "source": [
    "%pip install mlflow>=2.11.0 -q -U\n",
    "# OpenAI-compatible chat model support is available for Transformers 4.34.0 and above\n",
    "%pip install transformers>=4.34.0 -q -U"
   ]
  },
  {
   "cell_type": "code",
   "execution_count": 1,
   "metadata": {},
   "outputs": [
    {
     "name": "stdout",
     "output_type": "stream",
     "text": [
      "env: TOKENIZERS_PARALLELISM=false\n"
     ]
    }
   ],
   "source": [
    "# Disable tokenizers warnings when constructing pipelines\n",
    "%env TOKENIZERS_PARALLELISM=false\n",
    "\n",
    "import warnings\n",
    "\n",
    "# Disable a few less-than-useful UserWarnings from setuptools and pydantic\n",
    "warnings.filterwarnings(\"ignore\", category=UserWarning)"
   ]
  },
  {
   "cell_type": "markdown",
   "metadata": {},
   "source": [
    "### Building a Chat Model\n",
    "\n",
    "MLflow's native Transformers integration allows you to specify the `task` param when saving or logging your pipelines. Originally, this param accepts any of the [Transformers pipeline task types](https://huggingface.co/tasks), but the `mlflow.transformers` flavor adds a few more MLflow-specific keys for `text-generation` pipeline types.\n",
    "\n",
    "For `text-generation` pipelines, instead of specifying `text-generation` as the task type, you can provide one of two string literals conforming to the [MLflow Deployments Server's endpoint_type specification](https://mlflow.org/docs/latest/llms/deployments/index.html#general-configuration-parameters) (\"llm/v1/embeddings\" can be specified as a task on models saved with `mlflow.sentence_transformers`):\n",
    "\n",
    "- \"llm/v1/chat\" for chat-style applications\n",
    "- \"llm/v1/completions\" for generic completions\n",
    "\n",
    "When one of these keys is specified, MLflow will automatically handle everything required to serve a chat or completions model. This includes:\n",
    "\n",
    "- Setting a chat/completions compatible signature on the model\n",
    "- Performing data pre- and post-processing to ensure the inputs and outputs conform to the [Chat/Completions API spec](https://mlflow.org/docs/latest/llms/deployments/index.html#chat), which is compatible with OpenAI's API spec.\n",
    "\n",
    "Note that these modifications only apply when the model is loaded with `mlflow.pyfunc.load_model()` (e.g. when serving the model with the `mlflow models serve` CLI tool). If you want to load just the base pipeline, you can always do so via `mlflow.transformers.load_model()`.\n",
    "\n",
    "In the next few cells, we'll learn how serve a chat model with a local Transformers pipeline and MLflow, using TinyLlama-1.1B-Chat as an example. \n",
    "\n",
    "To begin, let's go through the original flow of saving a text generation pipeline:"
   ]
  },
  {
   "cell_type": "code",
   "execution_count": 27,
   "metadata": {},
   "outputs": [
    {
     "name": "stderr",
     "output_type": "stream",
     "text": [
      "/var/folders/qd/9rwd0_gd0qs65g4sdqlm51hr0000gp/T/ipykernel_55429/4268198845.py:11: FutureWarning: The 'transformers' MLflow Models integration is known to be compatible with the following package version ranges: ``4.25.1`` -  ``4.37.1``. MLflow Models integrations with transformers may not succeed when used with package versions outside of this range.\n",
      "  mlflow.transformers.save_model(\n"
     ]
    }
   ],
   "source": [
    "from transformers import pipeline\n",
    "\n",
    "import mlflow\n",
    "\n",
    "generator = pipeline(\n",
    "    \"text-generation\",\n",
    "    model=\"TinyLlama/TinyLlama-1.1B-Chat-v1.0\",\n",
    ")\n",
    "\n",
    "# save the model using the vanilla `text-generation` task type\n",
    "mlflow.transformers.save_model(\n",
    "    path=\"tinyllama-text-generation\", transformers_model=generator, task=\"text-generation\"\n",
    ")"
   ]
  },
  {
   "cell_type": "markdown",
   "metadata": {},
   "source": [
    "Now, let's load the model and use it for inference. Our loaded model is a `text-generation` pipeline, and let's take a look at its signature to see its expected inputs and outputs."
   ]
  },
  {
   "cell_type": "code",
   "execution_count": 28,
   "metadata": {},
   "outputs": [
    {
     "data": {
      "application/vnd.jupyter.widget-view+json": {
       "model_id": "5b41063f67ce4e2cac11e68b7d838f55",
       "version_major": 2,
       "version_minor": 0
      },
      "text/plain": [
       "Loading checkpoint shards:   0%|          | 0/5 [00:00<?, ?it/s]"
      ]
     },
     "metadata": {},
     "output_type": "display_data"
    },
    {
     "name": "stderr",
     "output_type": "stream",
     "text": [
      "2024/02/26 21:06:51 WARNING mlflow.transformers: Could not specify device parameter for this pipeline type\n"
     ]
    },
    {
     "data": {
      "application/vnd.jupyter.widget-view+json": {
       "model_id": "d1e4fe7d982748e0b81204261de839ab",
       "version_major": 2,
       "version_minor": 0
      },
      "text/plain": [
       "Loading checkpoint shards:   0%|          | 0/5 [00:00<?, ?it/s]"
      ]
     },
     "metadata": {},
     "output_type": "display_data"
    },
    {
     "data": {
      "text/plain": [
       "inputs: \n",
       "  [string (required)]\n",
       "outputs: \n",
       "  [string (required)]\n",
       "params: \n",
       "  None"
      ]
     },
     "execution_count": 28,
     "metadata": {},
     "output_type": "execute_result"
    }
   ],
   "source": [
    "# load the model for inference\n",
    "model = mlflow.pyfunc.load_model(\"tinyllama-text-generation\")\n",
    "\n",
    "model.metadata.signature"
   ]
  },
  {
   "cell_type": "markdown",
   "metadata": {},
   "source": [
    "Unfortunately, it only accepts `string` as input, which isn't directly compatible with a chat interface. When interacting with OpenAI's API, for example, we expect to simply be able to input a list of messages. In order to do this with our current model, we'll have to write some additional boilerplate:"
   ]
  },
  {
   "cell_type": "code",
   "execution_count": 29,
   "metadata": {},
   "outputs": [
    {
     "data": {
      "text/plain": [
       "['<|user|>\\nWrite me a hello world program in python</s>\\n<|assistant|>\\nHere\\'s a simple hello world program in Python:\\n\\n```python\\nprint(\"Hello, world!\")\\n```\\n\\nThis program prints the string \"Hello, world!\" to the console. You can run this program by typing it into the Python interpreter or by running the command `python hello_world.py` in your terminal.']"
      ]
     },
     "execution_count": 29,
     "metadata": {},
     "output_type": "execute_result"
    }
   ],
   "source": [
    "# first, apply the tokenizer's chat template, since the\n",
    "# model is tuned to accept prompts in a chat format. this\n",
    "# also converts the list of messages to a string.\n",
    "messages = [{\"role\": \"user\", \"content\": \"Write me a hello world program in python\"}]\n",
    "prompt = generator.tokenizer.apply_chat_template(\n",
    "    messages, tokenize=False, add_generation_prompt=True\n",
    ")\n",
    "\n",
    "model.predict(prompt)"
   ]
  },
  {
   "cell_type": "markdown",
   "metadata": {},
   "source": [
    "Now we're getting somewhere, but formatting our messages prior to inference is cumbersome. \n",
    "\n",
    "Additionally, the output format isn't compatible with the OpenAI API spec either--it's just a list of strings. If we were looking to evaluate different model backends for our chat app, we'd have to rewrite some of our client-side code to both format the input, and to parse this new response.\n",
    "\n",
    "To simplify all this, let's just pass in `\"llm/v1/chat\"` as the task param when saving the model."
   ]
  },
  {
   "cell_type": "code",
   "execution_count": 30,
   "metadata": {},
   "outputs": [
    {
     "name": "stderr",
     "output_type": "stream",
     "text": [
      "/var/folders/qd/9rwd0_gd0qs65g4sdqlm51hr0000gp/T/ipykernel_55429/609241782.py:3: FutureWarning: The 'transformers' MLflow Models integration is known to be compatible with the following package version ranges: ``4.25.1`` -  ``4.37.1``. MLflow Models integrations with transformers may not succeed when used with package versions outside of this range.\n",
      "  mlflow.transformers.save_model(\n"
     ]
    }
   ],
   "source": [
    "# save the model using the `\"llm/v1/chat\"`\n",
    "# task type instead of `text-generation`\n",
    "mlflow.transformers.save_model(\n",
    "    path=\"tinyllama-chat\", transformers_model=generator, task=\"llm/v1/chat\"\n",
    ")"
   ]
  },
  {
   "cell_type": "markdown",
   "metadata": {},
   "source": [
    "Once again, let's load the model and inspect the signature:"
   ]
  },
  {
   "cell_type": "code",
   "execution_count": 31,
   "metadata": {},
   "outputs": [
    {
     "data": {
      "application/vnd.jupyter.widget-view+json": {
       "model_id": "e74df03331624bbdb7527cb813ae70bb",
       "version_major": 2,
       "version_minor": 0
      },
      "text/plain": [
       "Loading checkpoint shards:   0%|          | 0/5 [00:00<?, ?it/s]"
      ]
     },
     "metadata": {},
     "output_type": "display_data"
    },
    {
     "name": "stderr",
     "output_type": "stream",
     "text": [
      "2024/02/26 21:10:04 WARNING mlflow.transformers: Could not specify device parameter for this pipeline type\n"
     ]
    },
    {
     "data": {
      "application/vnd.jupyter.widget-view+json": {
       "model_id": "d147b02249f5430dbb8780d207ba3bc1",
       "version_major": 2,
       "version_minor": 0
      },
      "text/plain": [
       "Loading checkpoint shards:   0%|          | 0/5 [00:00<?, ?it/s]"
      ]
     },
     "metadata": {},
     "output_type": "display_data"
    },
    {
     "data": {
      "text/plain": [
       "inputs: \n",
       "  ['messages': Array({content: string (required), name: string (optional), role: string (required)}) (required), 'temperature': double (optional), 'max_tokens': long (optional), 'stop': Array(string) (optional), 'n': long (optional), 'stream': boolean (optional)]\n",
       "outputs: \n",
       "  ['id': string (required), 'object': string (required), 'created': long (required), 'model': string (required), 'choices': Array({finish_reason: string (required), index: long (required), message: {content: string (required), name: string (optional), role: string (required)} (required)}) (required), 'usage': {completion_tokens: long (required), prompt_tokens: long (required), total_tokens: long (required)} (required)]\n",
       "params: \n",
       "  None"
      ]
     },
     "execution_count": 31,
     "metadata": {},
     "output_type": "execute_result"
    }
   ],
   "source": [
    "model = mlflow.pyfunc.load_model(\"tinyllama-chat\")\n",
    "\n",
    "model.metadata.signature"
   ]
  },
  {
   "cell_type": "markdown",
   "metadata": {},
   "source": [
    "Now when performing inference, we can pass our messages in a dict as we'd expect to do when interacting with the OpenAI API. Furthermore, the response we receive back from the model also conforms to the spec."
   ]
  },
  {
   "cell_type": "code",
   "execution_count": 32,
   "metadata": {},
   "outputs": [
    {
     "data": {
      "text/plain": [
       "[{'id': '8435a57d-9895-485e-98d3-95b1cbe007c0',\n",
       "  'object': 'chat.completion',\n",
       "  'created': 1708949437,\n",
       "  'model': 'TinyLlama/TinyLlama-1.1B-Chat-v1.0',\n",
       "  'usage': {'prompt_tokens': 24, 'completion_tokens': 71, 'total_tokens': 95},\n",
       "  'choices': [{'index': 0,\n",
       "    'finish_reason': 'stop',\n",
       "    'message': {'role': 'assistant',\n",
       "     'content': 'Here\\'s a simple hello world program in Python:\\n\\n```python\\nprint(\"Hello, world!\")\\n```\\n\\nThis program prints the string \"Hello, world!\" to the console. You can run this program by typing it into the Python interpreter or by running the command `python hello_world.py` in your terminal.'}}]}]"
      ]
     },
     "execution_count": 32,
     "metadata": {},
     "output_type": "execute_result"
    }
   ],
   "source": [
    "messages = [{\"role\": \"user\", \"content\": \"Write me a hello world program in python\"}]\n",
    "\n",
    "model.predict({\"messages\": messages})"
   ]
  },
  {
   "cell_type": "markdown",
   "metadata": {},
   "source": [
    "### Serving the Chat Model\n",
    "\n",
    "To take this example further, let's use MLflow to serve our chat model, so we can interact with it like a web API. To do this, we can use the `mlflow models serve` CLI tool. \n",
    "\n",
    "In a terminal shell, run:\n",
    "```\n",
    "$ mlflow models serve -m tinyllama-chat\n",
    "```\n",
    "\n",
    "When the server has finished initializing, you should be able to interact with the model via HTTP requests. The input format is almost identical to the format described in the [MLflow Deployments Server docs](https://mlflow.org/docs/latest/llms/deployments/index.html#chat), with the exception that `temperature` defaults to `1.0` instead of `0.0`.\n",
    "\n",
    "Here's a quick example:"
   ]
  },
  {
   "cell_type": "code",
   "execution_count": 33,
   "metadata": {},
   "outputs": [
    {
     "name": "stderr",
     "output_type": "stream",
     "text": [
      "  % Total    % Received % Xferd  Average Speed   Time    Time     Time  Current\n",
      "                                 Dload  Upload   Total   Spent    Left  Speed\n",
      "100   706  100   617  100    89     25      3  0:00:29  0:00:23  0:00:06   160\n"
     ]
    },
    {
     "name": "stdout",
     "output_type": "stream",
     "text": [
      "[\n",
      "  {\n",
      "    \"id\": \"fc3d08c3-d37d-420d-a754-50f77eb32a92\",\n",
      "    \"object\": \"chat.completion\",\n",
      "    \"created\": 1708949465,\n",
      "    \"model\": \"TinyLlama/TinyLlama-1.1B-Chat-v1.0\",\n",
      "    \"usage\": {\n",
      "      \"prompt_tokens\": 24,\n",
      "      \"completion_tokens\": 71,\n",
      "      \"total_tokens\": 95\n",
      "    },\n",
      "    \"choices\": [\n",
      "      {\n",
      "        \"index\": 0,\n",
      "        \"finish_reason\": \"stop\",\n",
      "        \"message\": {\n",
      "          \"role\": \"assistant\",\n",
      "          \"content\": \"Here's a simple hello world program in Python:\\n\\n```python\\nprint(\\\"Hello, world!\\\")\\n```\\n\\nThis program prints the string \\\"Hello, world!\\\" to the console. You can run this program by typing it into the Python interpreter or by running the command `python hello_world.py` in your terminal.\"\n",
      "        }\n",
      "      }\n",
      "    ]\n",
      "  }\n",
      "]\n"
     ]
    }
   ],
   "source": [
    "%%sh\n",
    "curl http://127.0.0.1:5000/invocations \\\n",
    "    -H 'Content-Type: application/json' \\\n",
    "    -d '{ \"messages\": [{\"role\": \"user\", \"content\": \"Write me a hello world program in python\"}] }' \\\n",
    "    | jq"
   ]
  },
  {
   "cell_type": "markdown",
   "metadata": {},
   "source": [
    "It's that easy!\n",
    "\n",
    "You can also call the API with a few optional inference params to adjust the model's responses. These map to Transformers pipeline params, and are passed in directly at inference time.\n",
    "\n",
    "- `max_tokens` (maps to `max_new_tokens`): The maximum number of new tokens the model should generate.\n",
    "- `temperature` (maps to `temperature`): Controls the creativity of the model's response. Note that this is not guaranteed to be supported by all models, and in order for this param to have an effect, the pipeline must have been created with `do_sample=True`.\n",
    "- `stop` (maps to `stopping_criteria`): A list of tokens at which to stop generation.\n",
    "\n",
    "Note: `n` does not have an equivalent Transformers pipeline param, and is not supported in queries. However, you can implement a model that consumes the `n` param using Custom Pyfunc (details below)."
   ]
  },
  {
   "cell_type": "markdown",
   "metadata": {},
   "source": [
    "### Customizing the model\n",
    "\n",
    "As always, custom functionality can be achieved with MLflow's `pyfunc` API. In the cell below, we create a custom Chat-flavored `pyfunc` model by subclassing `mlflow.pyfunc.ChatModel`. \n",
    "\n",
    "In this example, we'll use our previously-saved TinyLlama pipeline as the backing model by loading it with `mlflow.transformers.load_model()`, and then build our own customizations on top of it. However, `ChatModel` is agnostic to how you generate the outputs. You could use another transformer, Langchain, native OpenAI integrations, or even no LLM at all! As long the result of `predict` is of type `mlflow.types.llm.ChatResponse`, you'll be able to take advantage of the automatic signature generation and input/output parsing.\n",
    "\n",
    "The possibilities for customization are endless here, but as a quick example, the code below simply edits the ID of the response, rather than having it be a random UUID. Of course, you could also insert any side-effects you wanted here, such as asynchronously logging some metadata for analytics."
   ]
  },
  {
   "cell_type": "code",
   "execution_count": 34,
   "metadata": {},
   "outputs": [],
   "source": [
    "import random\n",
    "\n",
    "import mlflow\n",
    "from mlflow.types.llm import ChatResponse\n",
    "\n",
    "\n",
    "class MyChatModel(mlflow.pyfunc.ChatModel):\n",
    "    def load_context(self, context):\n",
    "        # load our previously-saved Transformers pipeline from context.artifacts\n",
    "        self.pipeline = mlflow.transformers.load_model(context.artifacts[\"chat_model_path\"])\n",
    "\n",
    "    def predict(self, context, messages, params):\n",
    "        tokenizer = self.pipeline.tokenizer\n",
    "        prompt = tokenizer.apply_chat_template(messages, tokenize=False, add_generation_prompt=True)\n",
    "\n",
    "        # perform inference using the loaded pipeline\n",
    "        output = self.pipeline(prompt, return_full_text=False, generation_kwargs=params.to_dict())\n",
    "        text = output[0][\"generated_text\"]\n",
    "        id = f\"some_meaningful_id_{random.randint(0, 100)}\"\n",
    "\n",
    "        # construct token usage information\n",
    "        prompt_tokens = len(tokenizer.encode(prompt))\n",
    "        completion_tokens = len(tokenizer.encode(text))\n",
    "        usage = {\n",
    "            \"prompt_tokens\": prompt_tokens,\n",
    "            \"completion_tokens\": completion_tokens,\n",
    "            \"total_tokens\": prompt_tokens + completion_tokens,\n",
    "        }\n",
    "\n",
    "        # here, we can do any post-processing or side-effects required.\n",
    "        # for example, we could log the generated text to a database for\n",
    "        # analytics, or check the output for any banned words or phrases\n",
    "        # and return a different response if any are found.\n",
    "\n",
    "        # in this example, we just return the generated text as the response\n",
    "\n",
    "        response = {\n",
    "            \"id\": id,\n",
    "            \"model\": \"MyChatModel\",\n",
    "            \"choices\": [\n",
    "                {\n",
    "                    \"index\": 0,\n",
    "                    \"message\": {\"role\": \"assistant\", \"content\": text},\n",
    "                    \"finish_reason\": \"stop\",\n",
    "                }\n",
    "            ],\n",
    "            \"usage\": usage,\n",
    "        }\n",
    "\n",
    "        return ChatResponse(**response)"
   ]
  },
  {
   "cell_type": "markdown",
   "metadata": {},
   "source": [
    "Similar to what happens above, upon saving an instance of `MyChatModel`, MLflow will automatically recognize the `mlflow.pyfunc.ChatModel` subclass, and set chat signatures and handle input and output parsing automatically. Note that enforcement is performed on the output--MLflow will run inference on an example input, and assert that the output is of type `ChatResponse`.\n",
    "\n",
    "Full documentation for the `ChatResponse` type can be found in the [API reference](https://mlflow.org/docs/latest/python_api/mlflow.types.html#mlflow.types.llm.ChatResponse)."
   ]
  },
  {
   "cell_type": "code",
   "execution_count": 36,
   "metadata": {},
   "outputs": [
    {
     "name": "stderr",
     "output_type": "stream",
     "text": [
      "2024/02/26 21:12:47 INFO mlflow.pyfunc: Predicting on input example to validate output\n",
      "/var/folders/qd/9rwd0_gd0qs65g4sdqlm51hr0000gp/T/ipykernel_55429/2958668123.py:10: FutureWarning: The 'transformers' MLflow Models integration is known to be compatible with the following package version ranges: ``4.25.1`` -  ``4.37.1``. MLflow Models integrations with transformers may not succeed when used with package versions outside of this range.\n",
      "  self.pipeline = mlflow.transformers.load_model(context.artifacts[\"chat_model_path\"])\n"
     ]
    },
    {
     "data": {
      "application/vnd.jupyter.widget-view+json": {
       "model_id": "cd12a6afe29847bcb79bdb01fc4892bd",
       "version_major": 2,
       "version_minor": 0
      },
      "text/plain": [
       "Loading checkpoint shards:   0%|          | 0/5 [00:00<?, ?it/s]"
      ]
     },
     "metadata": {},
     "output_type": "display_data"
    },
    {
     "name": "stderr",
     "output_type": "stream",
     "text": [
      "2024/02/26 21:12:47 WARNING mlflow.transformers: Could not specify device parameter for this pipeline type\n"
     ]
    },
    {
     "data": {
      "application/vnd.jupyter.widget-view+json": {
       "model_id": "8986e18350c44293944a8dc63d5e8324",
       "version_major": 2,
       "version_minor": 0
      },
      "text/plain": [
       "Loading checkpoint shards:   0%|          | 0/5 [00:00<?, ?it/s]"
      ]
     },
     "metadata": {},
     "output_type": "display_data"
    },
    {
     "data": {
      "application/vnd.jupyter.widget-view+json": {
       "model_id": "ab96f52af76949b790de16a3567619f3",
       "version_major": 2,
       "version_minor": 0
      },
      "text/plain": [
       "Downloading artifacts:   0%|          | 0/19 [00:00<?, ?it/s]"
      ]
     },
     "metadata": {},
     "output_type": "display_data"
    },
    {
     "name": "stderr",
     "output_type": "stream",
     "text": [
      "2024/02/26 21:13:19 INFO mlflow.store.artifact.artifact_repo: The progress bar can be disabled by setting the environment variable MLFLOW_ENABLE_ARTIFACTS_PROGRESS_BAR to false\n"
     ]
    }
   ],
   "source": [
    "mlflow.pyfunc.save_model(\n",
    "    path=\"my-model\",\n",
    "    python_model=MyChatModel(),\n",
    "    # provide the path to the pipeline we saved earlier\n",
    "    artifacts={\"chat_model_path\": \"tinyllama-chat\"},\n",
    ")"
   ]
  },
  {
   "cell_type": "markdown",
   "metadata": {},
   "source": [
    "As before, we can now serve the model by running the following in a terminal shell:\n",
    "\n",
    "```\n",
    "$ mlflow models serve -m my-model\n",
    "```\n",
    "\n",
    "And we should now be able to query it via HTTP request:"
   ]
  },
  {
   "cell_type": "code",
   "execution_count": 37,
   "metadata": {},
   "outputs": [
    {
     "name": "stderr",
     "output_type": "stream",
     "text": [
      "  % Total    % Received % Xferd  Average Speed   Time    Time     Time  Current\n",
      "                                 Dload  Upload   Total   Spent    Left  Speed\n",
      "100   666  100   577  100    89     23      3  0:00:29  0:00:24  0:00:05   141\n"
     ]
    },
    {
     "name": "stdout",
     "output_type": "stream",
     "text": [
      "{\n",
      "  \"id\": \"some_meaningful_id_33\",\n",
      "  \"model\": \"MyChatModel\",\n",
      "  \"choices\": [\n",
      "    {\n",
      "      \"index\": 0,\n",
      "      \"message\": {\n",
      "        \"role\": \"assistant\",\n",
      "        \"content\": \"Here's a simple hello world program in Python:\\n\\n```python\\nprint(\\\"Hello, world!\\\")\\n```\\n\\nThis program prints the string \\\"Hello, world!\\\" to the console. You can run this program by typing it into the Python interpreter or by running the command `python hello_world.py` in your terminal.\"\n",
      "      },\n",
      "      \"finish_reason\": \"stop\"\n",
      "    }\n",
      "  ],\n",
      "  \"usage\": {\n",
      "    \"prompt_tokens\": 25,\n",
      "    \"completion_tokens\": 71,\n",
      "    \"total_tokens\": 96\n",
      "  },\n",
      "  \"object\": \"chat.completion\",\n",
      "  \"created\": 1708949708\n",
      "}\n"
     ]
    }
   ],
   "source": [
    "%%sh\n",
    "curl http://127.0.0.1:5000/invocations \\\n",
    "    -H 'Content-Type: application/json' \\\n",
    "    -d '{ \"messages\": [{\"role\": \"user\", \"content\": \"Write me a hello world program in python\"}] }' \\\n",
    "    | jq"
   ]
  },
  {
   "cell_type": "markdown",
   "metadata": {},
   "source": [
    "## Conclusion\n",
    "\n",
    "In this tutorial, you learned how to create an OpenAI-compatible chat model by specifying \"llm/v1/chat\" as the task when saving Transformers pipelines. You also learned how to leverage Custom Pyfunc to add customizations that fit your specific use-case.\n",
    "\n",
    "### What's next?\n",
    "\n",
    "- [In-depth Pyfunc Walkthrough](https://mlflow.org/docs/latest/traditional-ml/creating-custom-pyfunc/index.html). We briefly touched on custom `pyfunc` in this tutorial, but if you're looking for more detail on the anatomy of a `pyfunc` model, the linked page provides an in-depth overview of all the components.\n",
    "- [More on MLflow Deployments](https://mlflow.org/docs/latest/deployment/index.html). In this tutorial, we saw how to deploy a model using a local server, but MLflow provides many other ways to deploy your models to production. Check out this page to learn more about the different options.\n",
    "- [More on MLflow's Transformers Integration](https://mlflow.org/docs/latest/llms/transformers/index.html). This page provides a comprehensive overview on MLflow's Transformers integrations, along with lots of hands-on guides and notebooks. Learn how to fine-tune models, use prompt templates, and more!\n",
    "- [Other LLM Integrations](https://mlflow.org/docs/latest/llms/index.html). Aside from Transformers, MLflow has integrations with many other popular LLM libraries, such as Langchain and OpenAI."
   ]
  },
  {
   "cell_type": "markdown",
   "metadata": {},
   "source": []
  }
 ],
 "metadata": {
  "kernelspec": {
   "display_name": "mlflow-dev",
   "language": "python",
   "name": "python3"
  },
  "language_info": {
   "codemirror_mode": {
    "name": "ipython",
    "version": 3
   },
   "file_extension": ".py",
   "mimetype": "text/x-python",
   "name": "python",
   "nbconvert_exporter": "python",
   "pygments_lexer": "ipython3",
   "version": "3.9.13"
  }
 },
 "nbformat": 4,
 "nbformat_minor": 2
}
