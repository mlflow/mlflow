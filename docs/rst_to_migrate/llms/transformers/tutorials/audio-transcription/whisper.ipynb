{
 "cells": [
  {
   "cell_type": "markdown",
   "metadata": {},
   "source": [
    "## Introduction to MLflow and OpenAI's Whisper\n",
    "\n",
    "Discover the integration of [OpenAI's Whisper](https://huggingface.co/openai), an [ASR system](https://en.wikipedia.org/wiki/Speech_recognition), with MLflow in this tutorial.\n"
   ]
  },
  {
   "cell_type": "raw",
   "metadata": {},
   "source": [
    "<a href=\"https://raw.githubusercontent.com/mlflow/mlflow/master/docs/source/llms/transformers/tutorials/audio-transcription/whisper.ipynb\" class=\"notebook-download-btn\">Download this Notebook</a>"
   ]
  },
  {
   "cell_type": "markdown",
   "metadata": {},
   "source": [
    "### What You Will Learn in This Tutorial\n",
    "\n",
    "- Establish an audio transcription **pipeline** using the Whisper model.\n",
    "- **Log** and manage Whisper models with MLflow.\n",
    "- Infer and understand Whisper model **signatures**.\n",
    "- **Load** and interact with Whisper models stored in MLflow.\n",
    "- Utilize MLflow's **pyfunc** for Whisper model serving and transcription tasks.\n",
    "\n",
    "#### What is Whisper?\n",
    "Whisper, developed by OpenAI, is a versatile ASR model trained for high-accuracy speech-to-text conversion. It stands out due to its training on diverse accents and environments, available via the Transformers library for easy use.\n",
    "\n",
    "#### Why MLflow with Whisper?\n",
    "Integrating MLflow with Whisper enhances ASR model management:\n",
    "\n",
    "- **Experiment Tracking**: Facilitates tracking of model configurations and performance for optimal results.\n",
    "- **Model Management**: Centralizes different versions of Whisper models, enhancing organization and accessibility.\n",
    "- **Reproducibility**: Ensures consistency in transcriptions by tracking all components required for reproducing model behavior.\n",
    "- **Deployment**: Streamlines the deployment of Whisper models in various production settings, ensuring efficient application."
   ]
  },
  {
   "cell_type": "markdown",
   "metadata": {},
   "source": [
    "Interested in learning more about Whisper? To read more about the significant breakthroughs in transcription capabilities that Whisper brought to the field of ASR, you can [read the white paper](https://arxiv.org/abs/2212.04356) and see more about the active development and [read more about the progress](https://openai.com/research/whisper) at OpenAI's research website.\n",
    "\n",
    "Ready to enhance your speech-to-text capabilities? Let's explore automatic speech recognition using MLflow and Whisper!"
   ]
  },
  {
   "cell_type": "code",
   "execution_count": 1,
   "metadata": {},
   "outputs": [
    {
     "name": "stdout",
     "output_type": "stream",
     "text": [
      "env: TOKENIZERS_PARALLELISM=false\n"
     ]
    }
   ],
   "source": [
    "# Disable tokenizers warnings when constructing pipelines\n",
    "%env TOKENIZERS_PARALLELISM=false\n",
    "\n",
    "import warnings\n",
    "\n",
    "# Disable a few less-than-useful UserWarnings from setuptools and pydantic\n",
    "warnings.filterwarnings(\"ignore\", category=UserWarning)"
   ]
  },
  {
   "cell_type": "markdown",
   "metadata": {},
   "source": [
    "### Setting Up the Environment and Acquiring Audio Data\n",
    "\n",
    "Initial steps for transcription using [Whisper](https://github.com/openai/whisper): acquiring [audio](https://www.nasa.gov/audio-and-ringtones/) and setting up MLflow.\n",
    "    \n",
    "Before diving into the audio transcription process with OpenAI's Whisper, there are a few preparatory steps to ensure everything is in place for a smooth and effective transcription experience.\n",
    "\n",
    "#### Audio Acquisition\n",
    "The first step is to acquire an audio file to work with. For this tutorial, we use a publicly available audio file from NASA. This sample audio provides a practical example to demonstrate Whisper's transcription capabilities.\n",
    "\n",
    "#### Model and Pipeline Initialization\n",
    "We load the Whisper model, along with its tokenizer and feature extractor, from the Transformers library. These components are essential for processing the audio data and converting it into a format that the Whisper model can understand and transcribe.\n",
    "Next, we create a transcription pipeline using the Whisper model. This pipeline simplifies the process of feeding audio data into the model and obtaining the transcription.\n",
    "\n",
    "#### MLflow Environment Setup\n",
    "In addition to the model and audio data setup, we initialize our MLflow environment. MLflow is used to track and manage our experiments, offering an organized way to document the transcription process and results.\n",
    "\n",
    "The following code block covers these initial setup steps, providing the foundation for our audio transcription task with the Whisper model."
   ]
  },
  {
   "cell_type": "code",
   "execution_count": 2,
   "metadata": {},
   "outputs": [
    {
     "name": "stderr",
     "output_type": "stream",
     "text": [
      "Special tokens have been added in the vocabulary, make sure the associated word embeddings are fine-tuned or trained.\n"
     ]
    }
   ],
   "source": [
    "import requests\n",
    "import transformers\n",
    "\n",
    "import mlflow\n",
    "\n",
    "# Acquire an audio file that is in the public domain\n",
    "resp = requests.get(\n",
    "    \"https://www.nasa.gov/wp-content/uploads/2015/01/590325main_ringtone_kennedy_WeChoose.mp3\"\n",
    ")\n",
    "resp.raise_for_status()\n",
    "audio = resp.content\n",
    "\n",
    "# Set the task that our pipeline implementation will be using\n",
    "task = \"automatic-speech-recognition\"\n",
    "\n",
    "# Define the model instance\n",
    "architecture = \"openai/whisper-large-v3\"\n",
    "\n",
    "# Load the components and necessary configuration for Whisper ASR from the Hugging Face Hub\n",
    "model = transformers.WhisperForConditionalGeneration.from_pretrained(architecture)\n",
    "tokenizer = transformers.WhisperTokenizer.from_pretrained(architecture)\n",
    "feature_extractor = transformers.WhisperFeatureExtractor.from_pretrained(architecture)\n",
    "model.generation_config.alignment_heads = [[2, 2], [3, 0], [3, 2], [3, 3], [3, 4], [3, 5]]\n",
    "\n",
    "# Instantiate our pipeline for ASR using the Whisper model\n",
    "audio_transcription_pipeline = transformers.pipeline(\n",
    "    task=task, model=model, tokenizer=tokenizer, feature_extractor=feature_extractor\n",
    ")"
   ]
  },
  {
   "cell_type": "markdown",
   "metadata": {},
   "source": [
    "### Formatting the Transcription Output\n",
    "\n",
    "In this section, we introduce a utility function that is used solely for the purpose of enhancing the readability of the transcription output within this Jupyter notebook demo. It is important to note that this function is designed for demonstration purposes and should not be included in production code or used for any other purpose beyond this tutorial.\n",
    "\n",
    "The `format_transcription` function takes a long string of transcribed text and formats it by splitting it into sentences and inserting newline characters. This makes the output easier to read when printed in the notebook environment.\n"
   ]
  },
  {
   "cell_type": "code",
   "execution_count": 3,
   "metadata": {},
   "outputs": [],
   "source": [
    "def format_transcription(transcription):\n",
    "    \"\"\"\n",
    "    Function for formatting a long string by splitting into sentences and adding newlines.\n",
    "    \"\"\"\n",
    "    # Split the transcription into sentences, ensuring we don't split on abbreviations or initials\n",
    "    sentences = [\n",
    "        sentence.strip() + (\".\" if not sentence.endswith(\".\") else \"\")\n",
    "        for sentence in transcription.split(\". \")\n",
    "        if sentence\n",
    "    ]\n",
    "\n",
    "    # Join the sentences with a newline character\n",
    "    return \"\\n\".join(sentences)"
   ]
  },
  {
   "cell_type": "markdown",
   "metadata": {},
   "source": [
    "### Executing the Transcription Pipeline\n",
    "\n",
    "Perform audio transcription using the Whisper pipeline and review the output.\n",
    "\n",
    "After setting up the Whisper model and audio transcription pipeline, our next step is to process an audio file to extract its transcription. This part of the tutorial is crucial as it demonstrates the practical application of the Whisper model in converting spoken language into written text.\n",
    "\n",
    "#### Transcription Process\n",
    "The code block below feeds an audio file into the pipeline, which then produces the transcription. The `format_transcription` function, defined earlier, enhances readability by formatting the output with sentence splits and newline characters.\n",
    "\n",
    "#### Importance of Pre-Save Testing\n",
    "Testing the transcription pipeline before saving the model in MLflow is vital. This step verifies that the model works as expected, ensuring accuracy and reliability. Such validation avoids issues post-deployment and confirms that the model performs consistently with the training data it was exposed to. It also provides a benchmark to compare against the output after the model is loaded back from MLflow, ensuring consistency in performance.\n",
    "\n",
    "Execute the following code to transcribe the audio and assess the quality and accuracy of the transcription provided by the Whisper model."
   ]
  },
  {
   "cell_type": "code",
   "execution_count": 4,
   "metadata": {},
   "outputs": [
    {
     "name": "stdout",
     "output_type": "stream",
     "text": [
      "We choose to go to the moon in this decade and do the other things.\n",
      "Not because they are easy, but because they are hard.\n",
      "3, 2, 1, 0.\n",
      "All engines running.\n",
      "Liftoff.\n",
      "We have a liftoff.\n",
      "32 minutes past the hour.\n",
      "Liftoff on Apollo 11.\n"
     ]
    }
   ],
   "source": [
    "# Verify that our pipeline is capable of processing an audio file and transcribing it\n",
    "transcription = audio_transcription_pipeline(audio)\n",
    "\n",
    "print(format_transcription(transcription[\"text\"]))"
   ]
  },
  {
   "cell_type": "markdown",
   "metadata": {},
   "source": [
    "### Model Signature and Configuration\n",
    "\n",
    "Generate a model signature for Whisper to understand its input and output data requirements.\n",
    "\n",
    "The model signature is critical for defining the schema for the Whisper model's inputs and outputs, clarifying the data types and structures expected. This step ensures the model processes inputs correctly and outputs structured data.\n",
    "\n",
    "#### Handling Different Audio Formats\n",
    "While the default signature covers binary audio data, the `transformers` flavor accommodates multiple formats, including numpy arrays and URL-based inputs. This flexibility allows Whisper to transcribe from various sources, although URL-based transcription isn't demonstrated here.\n",
    "\n",
    "#### Model Configuration\n",
    "Setting the model configuration involves parameters like *chunk* and *stride* lengths for audio processing. These settings are adjustable to suit different transcription needs, enhancing Whisper's performance for specific scenarios.\n",
    "\n",
    "Run the next code block to infer the model's signature and configure key parameters, aligning Whisper's functionality with your project's requirements."
   ]
  },
  {
   "cell_type": "code",
   "execution_count": 5,
   "metadata": {},
   "outputs": [
    {
     "data": {
      "text/plain": [
       "inputs: \n",
       "  [binary]\n",
       "outputs: \n",
       "  [string]\n",
       "params: \n",
       "  ['chunk_length_s': long (default: 20), 'stride_length_s': long (default: [5, 3]) (shape: (-1,))]"
      ]
     },
     "execution_count": 5,
     "metadata": {},
     "output_type": "execute_result"
    }
   ],
   "source": [
    "# Specify parameters and their defaults that we would like to be exposed for manipulation during inference time\n",
    "model_config = {\n",
    "    \"chunk_length_s\": 20,\n",
    "    \"stride_length_s\": [5, 3],\n",
    "}\n",
    "\n",
    "# Define the model signature by using the input and output of our pipeline, as well as specifying our inference parameters that will allow for those parameters to\n",
    "# be overridden at inference time.\n",
    "signature = mlflow.models.infer_signature(\n",
    "    audio,\n",
    "    mlflow.transformers.generate_signature_output(audio_transcription_pipeline, audio),\n",
    "    params=model_config,\n",
    ")\n",
    "\n",
    "# Visualize the signature\n",
    "signature"
   ]
  },
  {
   "cell_type": "markdown",
   "metadata": {},
   "source": [
    "### Creating an experiment\n",
    "\n",
    "We create a new MLflow Experiment so that the run we're going to log our model to does not log to the default experiment and instead has its own contextually relevant entry."
   ]
  },
  {
   "cell_type": "code",
   "execution_count": 6,
   "metadata": {},
   "outputs": [
    {
     "data": {
      "text/plain": [
       "<Experiment: artifact_location='file:///Users/benjamin.wilson/repos/mlflow-fork/mlflow/docs/source/llms/transformers/tutorials/audio-transcription/mlruns/864092483920291025', creation_time=1701294423466, experiment_id='864092483920291025', last_update_time=1701294423466, lifecycle_stage='active', name='Whisper Transcription ASR', tags={}>"
      ]
     },
     "execution_count": 6,
     "metadata": {},
     "output_type": "execute_result"
    }
   ],
   "source": [
    "# If you are running this tutorial in local mode, leave the next line commented out.\n",
    "# Otherwise, uncomment the following line and set your tracking uri to your local or remote tracking server.\n",
    "\n",
    "# mlflow.set_tracking_uri(\"http://127.0.0.1:8080\")\n",
    "\n",
    "mlflow.set_experiment(\"Whisper Transcription ASR\")"
   ]
  },
  {
   "cell_type": "markdown",
   "metadata": {},
   "source": [
    "### Logging the Model with MLflow\n",
    "\n",
    "Learn how to log the Whisper model and its configurations with MLflow.\n",
    "\n",
    "Logging the Whisper model in MLflow is a critical step for capturing essential information for model reproduction, sharing, and deployment. This process involves:\n",
    "\n",
    "#### Key Components of Model Logging\n",
    "\n",
    "- **Model Information**: Includes the model, its signature, and an input example.\n",
    "- **Model Configuration**: Any specific parameters set for the model, like *chunk length* or *stride length*.\n",
    "\n",
    "#### Using MLflow's `log_model` Function\n",
    "This function is utilized within an MLflow run to log the model and its configurations. It ensures that all necessary components for model usage are recorded.\n",
    "\n",
    "Executing the code in the next cell will log the Whisper model in the current MLflow experiment. This includes storing the model in a specified artifact path and documenting the default configurations that will be applied during inference."
   ]
  },
  {
   "cell_type": "code",
   "execution_count": 7,
   "metadata": {},
   "outputs": [],
   "source": [
    "# Log the pipeline\n",
    "with mlflow.start_run():\n",
    "    model_info = mlflow.transformers.log_model(\n",
    "        transformers_model=audio_transcription_pipeline,\n",
    "        artifact_path=\"whisper_transcriber\",\n",
    "        signature=signature,\n",
    "        input_example=audio,\n",
    "        model_config=model_config,\n",
    "        # Since MLflow 2.11.0, you can save the model in 'reference-only' mode to reduce storage usage by not saving\n",
    "        # the base model weights but only the reference to the HuggingFace model hub. To enable this, uncomment the\n",
    "        # following line:\n",
    "        # save_pretrained=False,\n",
    "    )"
   ]
  },
  {
   "cell_type": "markdown",
   "metadata": {},
   "source": [
    "### Loading and Using the Model Pipeline\n",
    "\n",
    "Explore how to load and use the Whisper model pipeline from MLflow.\n",
    "\n",
    "After logging the Whisper model in MLflow, the next crucial step is to load and use it for inference. This process ensures that our logged model operates as intended and can be effectively used for tasks like audio transcription.\n",
    "\n",
    "#### Loading the Model\n",
    "The model is loaded in its native format using MLflow's `load_model` function. This step verifies that the model can be retrieved and used seamlessly after being logged in MLflow.\n",
    "\n",
    "#### Using the Loaded Model\n",
    "Once loaded, the model is ready for inference. We demonstrate this by passing an MP3 audio file to the model and obtaining its transcription. This test is a practical demonstration of the model's capabilities post-logging.\n",
    "\n",
    "This step is a form of validation before moving to more complex deployment scenarios. Ensuring that the model functions correctly in its native format helps in troubleshooting and streamlines the deployment process, especially for large and complex models like Whisper."
   ]
  },
  {
   "cell_type": "code",
   "execution_count": 8,
   "metadata": {},
   "outputs": [
    {
     "name": "stderr",
     "output_type": "stream",
     "text": [
      "2023/11/30 12:51:43 INFO mlflow.transformers: 'runs:/f7503a09d20f4fb481544968b5ed28dd/whisper_transcriber' resolved as 'file:///Users/benjamin.wilson/repos/mlflow-fork/mlflow/docs/source/llms/transformers/tutorials/audio-transcription/mlruns/864092483920291025/f7503a09d20f4fb481544968b5ed28dd/artifacts/whisper_transcriber'\n"
     ]
    },
    {
     "data": {
      "application/vnd.jupyter.widget-view+json": {
       "model_id": "7f77084954924ccd8701a795685edd79",
       "version_major": 2,
       "version_minor": 0
      },
      "text/plain": [
       "Loading checkpoint shards:   0%|          | 0/13 [00:00<?, ?it/s]"
      ]
     },
     "metadata": {},
     "output_type": "display_data"
    },
    {
     "name": "stderr",
     "output_type": "stream",
     "text": [
      "Special tokens have been added in the vocabulary, make sure the associated word embeddings are fine-tuned or trained.\n"
     ]
    },
    {
     "name": "stdout",
     "output_type": "stream",
     "text": [
      "\n",
      "Whisper native output transcription:\n",
      "We choose to go to the moon in this decade and do the other things.\n",
      "Not because they are easy, but because they are hard.\n",
      "3, 2, 1, 0.\n",
      "All engines running.\n",
      "Liftoff.\n",
      "We have a liftoff.\n",
      "32 minutes past the hour.\n",
      "Liftoff on Apollo 11.\n"
     ]
    }
   ],
   "source": [
    "# Load the pipeline in its native format\n",
    "loaded_transcriber = mlflow.transformers.load_model(model_uri=model_info.model_uri)\n",
    "\n",
    "# Perform transcription with the native pipeline implementation\n",
    "transcription = loaded_transcriber(audio)\n",
    "\n",
    "print(f\"\\nWhisper native output transcription:\\n{format_transcription(transcription['text'])}\")"
   ]
  },
  {
   "cell_type": "markdown",
   "metadata": {},
   "source": [
    "### Using the Pyfunc Flavor for Inference\n",
    "\n",
    "Learn how MLflow's `pyfunc` flavor facilitates flexible model deployment.\n",
    "\n",
    "MLflow's `pyfunc` flavor provides a generic interface for model inference, offering flexibility across various machine learning frameworks and deployment environments. This feature is beneficial for deploying models where the original framework may not be available, or a more adaptable interface is required.\n",
    "\n",
    "#### Loading and Predicting with Pyfunc\n",
    "The code below illustrates how to load the Whisper model as a `pyfunc` and use it for prediction. This method highlights MLflow's capability to adapt and deploy models in diverse scenarios.\n",
    "\n",
    "#### Output Format Considerations\n",
    "Note the difference in the output format when using `pyfunc` compared to the native format. The `pyfunc` output conforms to standard pyfunc output signatures, typically represented as a `List[str]` type, aligning with broader MLflow standards for model outputs."
   ]
  },
  {
   "cell_type": "code",
   "execution_count": 9,
   "metadata": {},
   "outputs": [
    {
     "data": {
      "application/vnd.jupyter.widget-view+json": {
       "model_id": "4ee8e92c15ca4084b87d643368229364",
       "version_major": 2,
       "version_minor": 0
      },
      "text/plain": [
       "Loading checkpoint shards:   0%|          | 0/13 [00:00<?, ?it/s]"
      ]
     },
     "metadata": {},
     "output_type": "display_data"
    },
    {
     "name": "stderr",
     "output_type": "stream",
     "text": [
      "Special tokens have been added in the vocabulary, make sure the associated word embeddings are fine-tuned or trained.\n",
      "2023/11/30 12:52:02 WARNING mlflow.transformers: params provided to the `predict` method will override the inference configuration saved with the model. If the params provided are not valid for the pipeline, MlflowException will be raised.\n"
     ]
    },
    {
     "name": "stdout",
     "output_type": "stream",
     "text": [
      "\n",
      "Pyfunc output transcription:\n",
      "We choose to go to the moon in this decade and do the other things.\n",
      "Not because they are easy, but because they are hard.\n",
      "3, 2, 1, 0.\n",
      "All engines running.\n",
      "Liftoff.\n",
      "We have a liftoff.\n",
      "32 minutes past the hour.\n",
      "Liftoff on Apollo 11.\n"
     ]
    }
   ],
   "source": [
    "# Load the saved transcription pipeline as a generic python function\n",
    "pyfunc_transcriber = mlflow.pyfunc.load_model(model_uri=model_info.model_uri)\n",
    "\n",
    "# Ensure that the pyfunc wrapper is capable of transcribing passed-in audio\n",
    "pyfunc_transcription = pyfunc_transcriber.predict([audio])\n",
    "\n",
    "# Note: the pyfunc return type if `return_timestamps` is set is a JSON encoded string.\n",
    "print(f\"\\nPyfunc output transcription:\\n{format_transcription(pyfunc_transcription[0])}\")"
   ]
  },
  {
   "cell_type": "markdown",
   "metadata": {},
   "source": [
    "### Tutorial Roundup\n",
    "\n",
    "Throughout this tutorial, we've explored how to:\n",
    "\n",
    "- Set up an audio transcription pipeline using the OpenAI Whisper model.\n",
    "- Format and prepare audio data for transcription.\n",
    "- Log, load, and use the model with MLflow, leveraging both the native and pyfunc flavors for inference.\n",
    "- Format the output for readability and practical use in a Jupyter Notebook environment.\n",
    "\n",
    "We've seen the benefits of using MLflow for managing the machine learning lifecycle, including experiment tracking, model versioning, reproducibility, and deployment. By integrating MLflow with the Transformers library, we've streamlined the process of working with state-of-the-art NLP models, making it easier to track, manage, and deploy cutting-edge NLP applications."
   ]
  }
 ],
 "metadata": {
  "kernelspec": {
   "display_name": "mlflow-dev-env",
   "language": "python",
   "name": "python3"
  },
  "language_info": {
   "codemirror_mode": {
    "name": "ipython",
    "version": 3
   },
   "file_extension": ".py",
   "mimetype": "text/x-python",
   "name": "python",
   "nbconvert_exporter": "python",
   "pygments_lexer": "ipython3",
   "version": "3.8.13"
  }
 },
 "nbformat": 4,
 "nbformat_minor": 2
}
