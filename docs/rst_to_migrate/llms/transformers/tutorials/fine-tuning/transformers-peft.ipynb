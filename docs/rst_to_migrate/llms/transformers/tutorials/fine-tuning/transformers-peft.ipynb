{
 "cells": [
  {
   "cell_type": "markdown",
   "metadata": {},
   "source": [
    "# Fine-Tuning Open-Source LLM using QLoRA with MLflow and PEFT"
   ]
  },
  {
   "cell_type": "raw",
   "metadata": {},
   "source": [
    "<p></p>\n",
    "<a href=\"https://raw.githubusercontent.com/mlflow/mlflow/master/docs/source/llms/transformers/tutorials/fine-tuning/transformers-peft.ipynb\" class=\"notebook-download-btn\">Download this Notebook</a><br>"
   ]
  },
  {
   "cell_type": "markdown",
   "metadata": {
    "application/vnd.databricks.v1+cell": {
     "cellMetadata": {},
     "inputWidgets": {},
     "nuid": "c9d96afb-a47e-4f15-a208-92ce50ae6c73",
     "showTitle": false,
     "title": ""
    }
   },
   "source": [
    "## Overview\n",
    "\n",
    "Many powerful open-source LLMs have emerged and are easily accessible. However, they are not designed to be deployed to your production environment out-of-the-box; instead, you have to **fine-tune** them for your specific tasks, such as a chatbot, content generation, etc. One challenge, though, is that training LLMs is usually very expensive. Even if your dataset for fine-tuning is small, the backpropagation step needs to compute gradients for billions of parameters. For example, fully fine-tuning the Llama7B model requires 112GB of VRAM, i.e. at least two 80GB A100 GPUs. Fortunately, there are many research efforts on how to reduce the cost of LLM fine-tuning.\n",
    "\n",
    "In this tutorial, we will demonstrate how to build a powerful **text-to-SQL** generator by fine-tuning the Mistral 7B model with **a single 24GB VRAM GPU**.\n",
    "\n",
    "### What You Will Learn\n",
    "1. Hands-on learning of the typical LLM fine-tuning process.\n",
    "2. Understand how to use **QLoRA** and **PEFT** to overcome the GPU memory limitation for fine-tuning.\n",
    "3. Manage the model training cycle using **MLflow** to log the model artifacts, hyperparameters, metrics, and prompts.\n",
    "4. How to save prompt template and inference parameters (e.g. max_token_length) in MLflow to simplify prediction interface.\n",
    "\n",
    "### Key Actors\n",
    "In this tutorial, you will learn about the techniques and methods behind efficient LLM fine-tuning by actually running the code. There are more detailed explanations for each cell below, but let's start with a brief preview of a few main important libraries/methods used in this tutorial.\n",
    "\n",
    "* [Mistral-7B-v0.1](https://huggingface.co/mistralai/Mistral-7B-v0.1) model is a pretrained text-generation model with 7 billion parameters, developed by [mistral.ai](https://mistral.ai/). The model employs various optimization techniques such as Group-Query Attention, Sliding-Window Attention, Byte-fallback BPE tokenizer, and outperforms the Llama 2 13B on benchmarks with fewer parameters.\n",
    "* [QLoRA](https://github.com/artidoro/qlora) is a novel method that allows us to fine-tune large foundational models with limited GPU resources. It reduces the number of trainable parameters by learning pairs of rank-decomposition matrices and also applies 4-bit quantization to the frozen pretrained model to further reduce the memory footprint.\n",
    "* [PEFT](https://huggingface.co/docs/peft/en/index) is a library developed by HuggingFace🤗, that enables developers to easily integrate various optimization methods with pretrained models available on the HuggingFace Hub. With PEFT, you can apply QLoRA to the pretrained model with a few lines of configurations and run fine-tuning just like the normal Transformers model training.\n",
    "* [MLflow](https://mlflow.org/) manages an exploding number of configurations, assets, and metrics during the LLM training on your behalf. MLflow is natively integrated with Transformers and PEFT, and plays a crucial role in organizing the fine-tuning cycle."
   ]
  },
  {
   "cell_type": "markdown",
   "metadata": {},
   "source": [
    "## 1. Environment Set up\n",
    "\n",
    "### Hardware Requirement\n",
    "Please ensure your GPU has at least 20GB of VRAM available. This notebook has been tested on a single NVIDIA A10G GPU with 24GB of VRAM."
   ]
  },
  {
   "cell_type": "code",
   "execution_count": null,
   "metadata": {
    "application/vnd.databricks.v1+cell": {
     "cellMetadata": {
      "byteLimit": 2048000,
      "rowLimit": 10000
     },
     "inputWidgets": {},
     "nuid": "665e4928-8ec8-40c9-bb26-65bc9f4dd3f1",
     "showTitle": false,
     "title": ""
    },
    "vscode": {
     "languageId": "shellscript"
    }
   },
   "outputs": [
    {
     "name": "stdout",
     "output_type": "stream",
     "text": [
      "Wed Feb 21 07:16:13 2024       \r\n",
      "+---------------------------------------------------------------------------------------+\r\n",
      "| NVIDIA-SMI 535.54.03              Driver Version: 535.54.03    CUDA Version: 12.2     |\r\n",
      "|-----------------------------------------+----------------------+----------------------+\r\n",
      "| GPU  Name                 Persistence-M | Bus-Id        Disp.A | Volatile Uncorr. ECC |\r\n",
      "| Fan  Temp   Perf          Pwr:Usage/Cap |         Memory-Usage | GPU-Util  Compute M. |\r\n",
      "|                                         |                      |               MIG M. |\r\n",
      "|=========================================+======================+======================|\r\n",
      "|   0  NVIDIA A10G                    Off | 00000000:00:1E.0 Off |                    0 |\r\n",
      "|  0%   15C    P8              16W / 300W |      4MiB / 23028MiB |      0%      Default |\r\n",
      "|                                         |                      |                  N/A |\r\n",
      "+-----------------------------------------+----------------------+----------------------+\r\n",
      "                                                                                         \r\n",
      "+---------------------------------------------------------------------------------------+\r\n",
      "| Processes:                                                                            |\r\n",
      "|  GPU   GI   CI        PID   Type   Process name                            GPU Memory |\r\n",
      "|        ID   ID                                                             Usage      |\r\n",
      "|=======================================================================================|\r\n",
      "|  No running processes found                                                           |\r\n",
      "+---------------------------------------------------------------------------------------+\r\n"
     ]
    }
   ],
   "source": [
    "%sh nvidia-smi"
   ]
  },
  {
   "cell_type": "markdown",
   "metadata": {
    "application/vnd.databricks.v1+cell": {
     "cellMetadata": {},
     "inputWidgets": {},
     "nuid": "0f59cf87-864b-4fba-a587-0edcb85c4b2b",
     "showTitle": false,
     "title": ""
    }
   },
   "source": [
    "### Install Python Libraries\n",
    "\n",
    "This tutorial utilizes the following Python libraries:\n",
    "\n",
    "* [mlflow](https://pypi.org/project/mlflow/) - for tracking parameters, metrics, and saving trained models. Version **2.11.0 or later** is required to log PEFT models with MLflow.\n",
    "* [transformers](https://pypi.org/project/transformers/) - for defining the model, tokenizer, and trainer.\n",
    "* [peft](https://pypi.org/project/peft/) - for creating a LoRA adapter on top of the Transformer model.\n",
    "* [bitsandbytes](https://pypi.org/project/bitsandbytes/) - for loading the base model with 4-bit quantization for QLoRA.\n",
    "* [accelerate](https://pypi.org/project/accelerate/) - a dependency required by bitsandbytes.\n",
    "* [datasets](https://pypi.org/project/datasets/) - for loading the training dataset from the HuggingFace hub.\n",
    "\n",
    "**Note**: Restarting the Python kernel may be necessary after installing these dependencies.\n",
    "\n",
    "The notebook has been tested with `mlflow==2.11.0`, `transformers==4.35.2`, `peft==0.8.2`, `bitsandbytes==0.42.0`, `accelerate==0.27.2`, and `datasets==2.17.1`."
   ]
  },
  {
   "cell_type": "code",
   "execution_count": null,
   "metadata": {
    "application/vnd.databricks.v1+cell": {
     "cellMetadata": {
      "byteLimit": 2048000,
      "rowLimit": 10000
     },
     "inputWidgets": {},
     "nuid": "fcdac661-657b-4bd8-8fa2-f399485c5f4f",
     "showTitle": false,
     "title": ""
    },
    "vscode": {
     "languageId": "shellscript"
    }
   },
   "outputs": [],
   "source": [
    "%pip install mlflow>=2.11.0\n",
    "%pip install transformers peft accelerate bitsandbytes datasets -q -U"
   ]
  },
  {
   "cell_type": "markdown",
   "metadata": {
    "application/vnd.databricks.v1+cell": {
     "cellMetadata": {},
     "inputWidgets": {},
     "nuid": "fbb9b043-b0bb-490c-9869-78274b50e2c1",
     "showTitle": false,
     "title": ""
    }
   },
   "source": [
    "## 2. Dataset Preparation\n",
    "\n",
    "### Load Dataset from HuggingFace Hub\n",
    "\n",
    "We will use the `b-mc2/sql-create-context` dataset from the [Hugging Face Hub](https://huggingface.co/datasets/b-mc2/sql-create-context) for this tutorial. This dataset comprises 78.6k pairs of natural language queries and their corresponding SQL statements, making it ideal for training a text-to-SQL model. The dataset includes three columns:\n",
    "\n",
    "* `question`: A natural language question posed regarding the data.\n",
    "* `context`: Additional information about the data, such as the schema for the table being queried.\n",
    "* `answer`: The SQL query that represents the expected output."
   ]
  },
  {
   "cell_type": "code",
   "execution_count": null,
   "metadata": {
    "application/vnd.databricks.v1+cell": {
     "cellMetadata": {
      "byteLimit": 2048000,
      "rowLimit": 10000
     },
     "inputWidgets": {},
     "nuid": "12f114a3-c9c3-4aaf-9eda-850e509caaff",
     "showTitle": true,
     "title": "Pandas DataFrame Display Helper"
    }
   },
   "outputs": [
    {
     "data": {
      "text/html": [
       "<style> .dataframe th, .dataframe tbody td { text-align: left; padding-right: 30px; } </style> <table border=\"1\" class=\"dataframe\">\n",
       "  <thead>\n",
       "    <tr style=\"text-align: right;\">\n",
       "      <th></th>\n",
       "      <th>question</th>\n",
       "      <th>context</th>\n",
       "      <th>answer</th>\n",
       "    </tr>\n",
       "  </thead>\n",
       "  <tbody>\n",
       "    <tr>\n",
       "      <th>0</th>\n",
       "      <td>How many heads of the departments are older than 56 ?</td>\n",
       "      <td>CREATE TABLE head (age INTEGER)</td>\n",
       "      <td>SELECT COUNT(*) FROM head WHERE age &gt; 56</td>\n",
       "    </tr>\n",
       "    <tr>\n",
       "      <th>1</th>\n",
       "      <td>List the name, born state and age of the heads of departments ordered by age.</td>\n",
       "      <td>CREATE TABLE head (name VARCHAR, born_state VARCHAR, age VARCHAR)</td>\n",
       "      <td>SELECT name, born_state, age FROM head ORDER BY age</td>\n",
       "    </tr>\n",
       "    <tr>\n",
       "      <th>2</th>\n",
       "      <td>List the creation year, name and budget of each department.</td>\n",
       "      <td>CREATE TABLE department (creation VARCHAR, name VARCHAR, budget_in_billions VARCHAR)</td>\n",
       "      <td>SELECT creation, name, budget_in_billions FROM department</td>\n",
       "    </tr>\n",
       "  </tbody>\n",
       "</table>"
      ],
      "text/plain": [
       "<IPython.core.display.HTML object>"
      ]
     },
     "metadata": {},
     "output_type": "display_data"
    }
   ],
   "source": [
    "import pandas as pd\n",
    "from datasets import load_dataset\n",
    "from IPython.display import HTML, display\n",
    "\n",
    "dataset_name = \"b-mc2/sql-create-context\"\n",
    "dataset = load_dataset(dataset_name, split=\"train\")\n",
    "\n",
    "\n",
    "def display_table(dataset_or_sample):\n",
    "    # A helper fuction to display a Transformer dataset or single sample contains multi-line string nicely\n",
    "    pd.set_option(\"display.max_colwidth\", None)\n",
    "    pd.set_option(\"display.width\", None)\n",
    "    pd.set_option(\"display.max_rows\", None)\n",
    "\n",
    "    if isinstance(dataset_or_sample, dict):\n",
    "        df = pd.DataFrame(dataset_or_sample, index=[0])\n",
    "    else:\n",
    "        df = pd.DataFrame(dataset_or_sample)\n",
    "\n",
    "    html = df.to_html().replace(\"\\\\n\", \"<br>\")\n",
    "    styled_html = f\"\"\"<style> .dataframe th, .dataframe tbody td {{ text-align: left; padding-right: 30px; }} </style> {html}\"\"\"\n",
    "    display(HTML(styled_html))\n",
    "\n",
    "\n",
    "display_table(dataset.select(range(3)))"
   ]
  },
  {
   "cell_type": "markdown",
   "metadata": {
    "application/vnd.databricks.v1+cell": {
     "cellMetadata": {},
     "inputWidgets": {},
     "nuid": "37d3bbe1-9f94-4b5d-b766-a144d5674e81",
     "showTitle": false,
     "title": ""
    }
   },
   "source": [
    "### Split Train and Test Dataset\n",
    "The `b-mc2/sql-create-context` dataset consists of a single split, \"train\". We will separate 20% of this as test samples."
   ]
  },
  {
   "cell_type": "code",
   "execution_count": null,
   "metadata": {
    "application/vnd.databricks.v1+cell": {
     "cellMetadata": {
      "byteLimit": 2048000,
      "rowLimit": 10000
     },
     "inputWidgets": {},
     "nuid": "4c097d8e-2e87-40e0-ac60-a33c4e932ff1",
     "showTitle": false,
     "title": ""
    }
   },
   "outputs": [
    {
     "name": "stdout",
     "output_type": "stream",
     "text": [
      "Training dataset contains 62861 text-to-SQL pairs\n",
      "Test dataset contains 15716 text-to-SQL pairs\n"
     ]
    }
   ],
   "source": [
    "split_dataset = dataset.train_test_split(test_size=0.2, seed=42)\n",
    "train_dataset = split_dataset[\"train\"]\n",
    "test_dataset = split_dataset[\"test\"]\n",
    "\n",
    "print(f\"Training dataset contains {len(train_dataset)} text-to-SQL pairs\")\n",
    "print(f\"Test dataset contains {len(test_dataset)} text-to-SQL pairs\")"
   ]
  },
  {
   "cell_type": "markdown",
   "metadata": {
    "application/vnd.databricks.v1+cell": {
     "cellMetadata": {},
     "inputWidgets": {},
     "nuid": "8631349d-cf32-4aa9-8a4f-5e4db10b899c",
     "showTitle": false,
     "title": ""
    }
   },
   "source": [
    "### Define Prompt Template\n",
    "\n",
    "The Mistral 7B model is a text comprehension model, so we have to construct a text prompt that incorporates the user's question, context, and our system instructions. The new `prompt` column in the dataset will contain the text prompt to be fed into the model during training. It is important to note that we also include the expected response within the prompt, allowing the model to be trained in a self-supervised manner."
   ]
  },
  {
   "cell_type": "code",
   "execution_count": null,
   "metadata": {
    "application/vnd.databricks.v1+cell": {
     "cellMetadata": {
      "byteLimit": 2048000,
      "rowLimit": 10000
     },
     "inputWidgets": {},
     "nuid": "90852227-7318-4ebf-8ba4-f899b28e4778",
     "showTitle": true,
     "title": "Snippet Name: Template-based Prompt Mapping"
    }
   },
   "outputs": [
    {
     "data": {
      "text/html": [
       "<style> .dataframe th, .dataframe tbody td { text-align: left; padding-right: 30px; } </style> <table border=\"1\" class=\"dataframe\">\n",
       "  <thead>\n",
       "    <tr style=\"text-align: right;\">\n",
       "      <th></th>\n",
       "      <th>question</th>\n",
       "      <th>context</th>\n",
       "      <th>answer</th>\n",
       "      <th>prompt</th>\n",
       "    </tr>\n",
       "  </thead>\n",
       "  <tbody>\n",
       "    <tr>\n",
       "      <th>0</th>\n",
       "      <td>Which Perth has Gold Coast yes, Sydney yes, Melbourne yes, and Adelaide yes?</td>\n",
       "      <td>CREATE TABLE table_name_56 (perth VARCHAR, adelaide VARCHAR, melbourne VARCHAR, gold_coast VARCHAR, sydney VARCHAR)</td>\n",
       "      <td>SELECT perth FROM table_name_56 WHERE gold_coast = \"yes\" AND sydney = \"yes\" AND melbourne = \"yes\" AND adelaide = \"yes\"</td>\n",
       "      <td>You are a powerful text-to-SQL model. Given the SQL tables and natural language question, your job is to write SQL query that answers the question.<br><br>### Table:<br>CREATE TABLE table_name_56 (perth VARCHAR, adelaide VARCHAR, melbourne VARCHAR, gold_coast VARCHAR, sydney VARCHAR)<br><br>### Question:<br>Which Perth has Gold Coast yes, Sydney yes, Melbourne yes, and Adelaide yes?<br><br>### Response:<br>SELECT perth FROM table_name_56 WHERE gold_coast = \"yes\" AND sydney = \"yes\" AND melbourne = \"yes\" AND adelaide = \"yes\"</td>\n",
       "    </tr>\n",
       "  </tbody>\n",
       "</table>"
      ],
      "text/plain": [
       "<IPython.core.display.HTML object>"
      ]
     },
     "metadata": {},
     "output_type": "display_data"
    }
   ],
   "source": [
    "PROMPT_TEMPLATE = \"\"\"You are a powerful text-to-SQL model. Given the SQL tables and natural language question, your job is to write SQL query that answers the question.\n",
    "\n",
    "### Table:\n",
    "{context}\n",
    "\n",
    "### Question:\n",
    "{question}\n",
    "\n",
    "### Response:\n",
    "{output}\"\"\"\n",
    "\n",
    "\n",
    "def apply_prompt_template(row):\n",
    "    prompt = PROMPT_TEMPLATE.format(\n",
    "        question=row[\"question\"],\n",
    "        context=row[\"context\"],\n",
    "        output=row[\"answer\"],\n",
    "    )\n",
    "    return {\"prompt\": prompt}\n",
    "\n",
    "\n",
    "train_dataset = train_dataset.map(apply_prompt_template)\n",
    "display_table(train_dataset.select(range(1)))"
   ]
  },
  {
   "cell_type": "markdown",
   "metadata": {
    "application/vnd.databricks.v1+cell": {
     "cellMetadata": {},
     "inputWidgets": {},
     "nuid": "dd2f6a77-d70d-494b-bd73-2e07db2108cb",
     "showTitle": false,
     "title": ""
    }
   },
   "source": [
    "### Padding the Training Dataset\n",
    "\n",
    "As a final step of dataset preparation, we need to apply **padding** to the training dataset. Padding ensures that all input sequences in a batch are of the same length.\n",
    "\n",
    "A crucial point to note is the need to *add padding to the left*. This approach is adopted because the model generates tokens autoregressively, meaning it continues from the last token. Adding padding to the right would cause the model to generate new tokens from these padding tokens, resulting in the output sequence including padding tokens in the middle.\n",
    "\n",
    "\n",
    "* Padding to right\n",
    "\n",
    "```\n",
    "Today |  is  |   a    |  cold  |  <pad>  ==generate=>  \"Today is a cold <pad> day\"\n",
    " How  |  to  | become |  <pad> |  <pad>  ==generate=>  \"How to become a <pad> <pad> great engineer\".\n",
    "```\n",
    "\n",
    "* Padding to left:\n",
    "\n",
    "```\n",
    "<pad> |  Today  |  is  |  a   |  cold     ==generate=>  \"<pad> Today is a cold day\"\n",
    "<pad> |  <pad>  |  How |  to  |  become   ==generate=>  \"<pad> <pad> How to become a great engineer\".\n",
    "```"
   ]
  },
  {
   "cell_type": "code",
   "execution_count": null,
   "metadata": {
    "application/vnd.databricks.v1+cell": {
     "cellMetadata": {
      "byteLimit": 2048000,
      "rowLimit": 10000
     },
     "inputWidgets": {},
     "nuid": "cb04ccb6-3183-45e2-ae1f-6d736f45d47e",
     "showTitle": true,
     "title": "Tokenize Sample Fixed Length"
    }
   },
   "outputs": [],
   "source": [
    "from transformers import AutoTokenizer\n",
    "\n",
    "base_model_id = \"mistralai/Mistral-7B-v0.1\"\n",
    "\n",
    "# You can use a different max length if your custom dataset has shorter/longer input sequences.\n",
    "MAX_LENGTH = 256\n",
    "\n",
    "tokenizer = AutoTokenizer.from_pretrained(\n",
    "    base_model_id,\n",
    "    model_max_length=MAX_LENGTH,\n",
    "    padding_side=\"left\",\n",
    "    add_eos_token=True,\n",
    ")\n",
    "tokenizer.pad_token = tokenizer.eos_token\n",
    "\n",
    "\n",
    "def tokenize_and_pad_to_fixed_length(sample):\n",
    "    result = tokenizer(\n",
    "        sample[\"prompt\"],\n",
    "        truncation=True,\n",
    "        max_length=MAX_LENGTH,\n",
    "        padding=\"max_length\",\n",
    "    )\n",
    "    result[\"labels\"] = result[\"input_ids\"].copy()\n",
    "    return result\n",
    "\n",
    "\n",
    "tokenized_train_dataset = train_dataset.map(tokenize_and_pad_to_fixed_length)\n",
    "\n",
    "assert all(len(x[\"input_ids\"]) == MAX_LENGTH for x in tokenized_train_dataset)\n",
    "\n",
    "display_table(tokenized_train_dataset.select(range(1)))"
   ]
  },
  {
   "cell_type": "markdown",
   "metadata": {
    "application/vnd.databricks.v1+cell": {
     "cellMetadata": {},
     "inputWidgets": {},
     "nuid": "45173de1-4776-4219-8897-0e152762e4ad",
     "showTitle": false,
     "title": ""
    }
   },
   "source": [
    "## 3. Load the Base Model (with 4-bit quantization)\n",
    "\n",
    "Next, we'll load the Mistral 7B model, which will serve as our base model for fine-tuning. This model can be loaded from the HuggingFace Hub repository [mistralai/Mistral-7B-v0.1](https://huggingface.co/mistralai/Mistral-7B-v0.1) using the Transformers' `from_pretrained()` API. However, here we are also providing a `quantization_config` parameter.\n",
    "\n",
    "This parameter embodies the key technique of [QLoRA](https://github.com/artidoro/qlora) that significantly reduces memory usage during fine-tuning. The following paragraph details the method and the implications of this configuration. However, feel free to skip if it appears complex. After all, we rarely need to modify the `quantization_config` values ourselves :)\n",
    "\n",
    "**How It Works**\n",
    "\n",
    "In short, QLoRA is a combination of **Q**uantization and **LoRA**. To grasp its functionality, it's simpler to begin with LoRA. [LoRA (Low Rank Adaptation)](https://github.com/microsoft/LoRA) is a preceding method for resource-efficient fine-tuning, by reducing the number of trainable parameters through matrix decomposition. Let `W'` represent the final weight matrix from fine-tuning. In LoRA, `W'` is approximated by the sum of the original weight and its update, i.e., `W + ΔW`, then decomposing the delta part into two low-dimensional matrices, i.e., `ΔW ≈ AB`. Suppose `W` is `m`x`m`, and we select a smaller `r` for the rank of `A` and `B`, where `A` is `m`x`r` and `B` is `r`x`m`. Now, the original trainable parameters, which are quadratic in size of `W` (i.e., `m^2`), after decomposition, become `2mr`. Empirically, we can choose a much smaller number for `r`, e.g., 32, 64, compared to the full weight matrix size, therefore this significantly reduces the number of parameters to train.\n",
    "\n",
    "[QLoRA](https://github.com/artidoro/qlora) extends LoRA, employing the same strategy for matrix decomposition. However, it further reduces memory usage by applying 4-bit quantization to the frozen pretrained model `W`. According to their research, the largest memory usage during LoRA fine-tuning is the backpropagation through the frozen parameters `W` to compute gradients for the adaptors `A` and `B`. Thus, quantizing `W` to 4-bit significantly reduces the overall memory consumption. This is achieved with the `load_in_4bit=True` setting shown below.\n",
    "\n",
    "Moreover, QLoRA introduces additional techniques to optimize resource usage without significantly impacting model performance. For more technical details, please refer to [the paper](https://arxiv.org/pdf/2305.14314.pdf), but we implement them by setting the following quantization configurations in bitsandbytes:\n",
    "* The 4-bit NormalFloat type is specified by `bnb_4bit_quant_type=\"nf4\"`.\n",
    "* Double quantization is activated by `bnb_4bit_use_double_quant=True`.\n",
    "* QLoRA re-quantizes the 4-bit weights back to a higher precision when computing the gradients for `A` and `B`, to prevent performance degradation. This datatype is specified by `bnb_4bit_compute_dtype=torch.bfloat16`.\n"
   ]
  },
  {
   "cell_type": "code",
   "execution_count": null,
   "metadata": {
    "application/vnd.databricks.v1+cell": {
     "cellMetadata": {
      "byteLimit": 2048000,
      "rowLimit": 10000
     },
     "inputWidgets": {},
     "nuid": "6e3dd165-38b0-4d1d-ba72-07c912001155",
     "showTitle": false,
     "title": ""
    }
   },
   "outputs": [],
   "source": [
    "import torch\n",
    "from transformers import AutoModelForCausalLM, BitsAndBytesConfig\n",
    "\n",
    "quantization_config = BitsAndBytesConfig(\n",
    "    # Load the model with 4-bit quantization\n",
    "    load_in_4bit=True,\n",
    "    # Use double quantization\n",
    "    bnb_4bit_use_double_quant=True,\n",
    "    # Use 4-bit Normal Float for storing the base model weights in GPU memory\n",
    "    bnb_4bit_quant_type=\"nf4\",\n",
    "    # De-quantize the weights to 16-bit (Brain) float before the forward/backward pass\n",
    "    bnb_4bit_compute_dtype=torch.bfloat16,\n",
    ")\n",
    "\n",
    "model = AutoModelForCausalLM.from_pretrained(base_model_id, quantization_config=quantization_config)"
   ]
  },
  {
   "cell_type": "markdown",
   "metadata": {
    "application/vnd.databricks.v1+cell": {
     "cellMetadata": {},
     "inputWidgets": {},
     "nuid": "b9d6ea49-a0b8-4593-ad05-11b9f0b7408d",
     "showTitle": false,
     "title": ""
    }
   },
   "source": [
    "### How Does the Base Model Perform?\n",
    "First, let's assess the performance of the vanilla Mistral model on the SQL generation task before any fine-tuning. As expected, the model does not produce correct SQL queries; instead, it generates random answers in natural language. This outcome indicates the necessity of fine-tuning the model for our specific task.\n"
   ]
  },
  {
   "cell_type": "code",
   "execution_count": null,
   "metadata": {
    "application/vnd.databricks.v1+cell": {
     "cellMetadata": {
      "byteLimit": 2048000,
      "rowLimit": 10000
     },
     "inputWidgets": {},
     "nuid": "73695a28-7778-48aa-98ec-86ccd748e4ac",
     "showTitle": true,
     "title": "Code Generation Using Transformers."
    }
   },
   "outputs": [
    {
     "data": {
      "text/html": [
       "<style> .dataframe th, .dataframe tbody td { text-align: left; padding-right: 30px; } </style> <table border=\"1\" class=\"dataframe\">\n",
       "  <thead>\n",
       "    <tr style=\"text-align: right;\">\n",
       "      <th></th>\n",
       "      <th>prompt</th>\n",
       "      <th>generated_query</th>\n",
       "    </tr>\n",
       "  </thead>\n",
       "  <tbody>\n",
       "    <tr>\n",
       "      <th>0</th>\n",
       "      <td>You are a powerful text-to-SQL model. Given the SQL tables and natural language question, your job is to write SQL query that answers the question.<br><br>### Table:<br>CREATE TABLE table_name_61 (game INTEGER, opponent VARCHAR, record VARCHAR)<br><br>### Question:<br>What is the lowest numbered game against Phoenix with a record of 29-17?<br><br>### Response:<br></td>\n",
       "      <td><br>A: The lowest numbered game against Phoenix was played on 03/04/2018. The score was PHO 115 - DAL 106.<br>What is the highest numbered game against Phoenix?<br>A: The highest numbered game against Phoenix was played on 03/04/2018. The score was PHO 115 - DAL 106.<br>Which players have started at Point Guard for Dallas in a regular season game against Phoenix?</td>\n",
       "    </tr>\n",
       "  </tbody>\n",
       "</table>"
      ],
      "text/plain": [
       "<IPython.core.display.HTML object>"
      ]
     },
     "metadata": {},
     "output_type": "display_data"
    }
   ],
   "source": [
    "import transformers\n",
    "\n",
    "tokenizer = AutoTokenizer.from_pretrained(base_model_id)\n",
    "pipeline = transformers.pipeline(model=model, tokenizer=tokenizer, task=\"text-generation\")\n",
    "\n",
    "sample = test_dataset[1]\n",
    "prompt = PROMPT_TEMPLATE.format(\n",
    "    context=sample[\"context\"], question=sample[\"question\"], output=\"\"\n",
    ")  # Leave the answer part blank\n",
    "\n",
    "with torch.no_grad():\n",
    "    response = pipeline(prompt, max_new_tokens=256, repetition_penalty=1.15, return_full_text=False)\n",
    "\n",
    "display_table({\"prompt\": prompt, \"generated_query\": response[0][\"generated_text\"]})"
   ]
  },
  {
   "cell_type": "markdown",
   "metadata": {
    "application/vnd.databricks.v1+cell": {
     "cellMetadata": {},
     "inputWidgets": {},
     "nuid": "c93e06e0-a711-46cb-a04c-fc7ba66b8f86",
     "showTitle": false,
     "title": ""
    }
   },
   "source": [
    "## 4. Define a PEFT Model\n",
    "\n",
    "As discussed earlier, QLoRA stands for **Quantization** + **LoRA**. Having applied the quantization part, we now proceed with the LoRA aspect. Although the mathematics behind LoRA is intricate, [PEFT](https://huggingface.co/docs/peft/en/index) helps us by simplifying the process of adapting LoRA to the pretrained Transformer model.\n",
    "\n",
    "In the next cell, we create a [LoraConfig](https://github.com/huggingface/peft/blob/main/src/peft/tuners/lora/config.py) with various settings for LoRA. Contrary to the earlier `quantization_config`, these hyperparameters might need optimization to achieve the best model performance for your specific task. **MLflow** facilitates this process by tracking these hyperparameters, the associated model, and its outcomes.\n",
    "\n",
    "At the end of the cell, we display the number of trainable parameters during fine-tuning, and their percentage relative to the total model parameters. Here, we are training only 1.16% of the total 7 billion parameters."
   ]
  },
  {
   "cell_type": "code",
   "execution_count": null,
   "metadata": {
    "application/vnd.databricks.v1+cell": {
     "cellMetadata": {
      "byteLimit": 2048000,
      "rowLimit": 10000
     },
     "inputWidgets": {},
     "nuid": "76582f53-8427-4d31-9003-f751db690335",
     "showTitle": true,
     "title": "Configuring LORA-based Model Optimization"
    }
   },
   "outputs": [
    {
     "name": "stdout",
     "output_type": "stream",
     "text": [
      "trainable params: 85,041,152 || all params: 7,326,773,248 || trainable%: 1.1606903765339511\n"
     ]
    }
   ],
   "source": [
    "from peft import LoraConfig, get_peft_model, prepare_model_for_kbit_training\n",
    "\n",
    "# Enabling gradient checkpointing, to make the training further efficient\n",
    "model.gradient_checkpointing_enable()\n",
    "# Set up the model for quantization-aware training e.g. casting layers, parameter freezing, etc.\n",
    "model = prepare_model_for_kbit_training(model)\n",
    "\n",
    "peft_config = LoraConfig(\n",
    "    task_type=\"CAUSAL_LM\",\n",
    "    # This is the rank of the decomposed matrices A and B to be learned during fine-tuning. A smaller number will save more GPU memory but might result in worse performance.\n",
    "    r=32,\n",
    "    # This is the coefficient for the learned ΔW factor, so the larger number will typically result in a larger behavior change after fine-tuning.\n",
    "    lora_alpha=64,\n",
    "    # Drop out ratio for the layers in LoRA adaptors A and B.\n",
    "    lora_dropout=0.1,\n",
    "    # We fine-tune all linear layers in the model. It might sound a bit large, but the trainable adapter size is still only **1.16%** of the whole model.\n",
    "    target_modules=[\n",
    "        \"q_proj\",\n",
    "        \"k_proj\",\n",
    "        \"v_proj\",\n",
    "        \"o_proj\",\n",
    "        \"gate_proj\",\n",
    "        \"up_proj\",\n",
    "        \"down_proj\",\n",
    "        \"lm_head\",\n",
    "    ],\n",
    "    # Bias parameters to train. 'none' is recommended to keep the original model performing equally when turning off the adapter.\n",
    "    bias=\"none\",\n",
    ")\n",
    "\n",
    "peft_model = get_peft_model(model, peft_config)\n",
    "peft_model.print_trainable_parameters()"
   ]
  },
  {
   "cell_type": "markdown",
   "metadata": {
    "application/vnd.databricks.v1+cell": {
     "cellMetadata": {
      "byteLimit": 2048000,
      "rowLimit": 10000
     },
     "inputWidgets": {},
     "nuid": "5023a2f8-98be-4017-bee1-033956b4c405",
     "showTitle": false,
     "title": ""
    }
   },
   "source": [
    "**That's it!!!** PEFT has made the LoRA setup super easy.\n",
    "\n",
    "An additional bonus is that the PEFT model exposes the same interfaces as a Transformers model. This means that everything from here on is quite similar to the standard model training process using Transformers."
   ]
  },
  {
   "cell_type": "markdown",
   "metadata": {
    "application/vnd.databricks.v1+cell": {
     "cellMetadata": {
      "byteLimit": 2048000,
      "rowLimit": 10000
     },
     "inputWidgets": {},
     "nuid": "7e668fe2-d2c1-4946-8c21-020ce8e562e0",
     "showTitle": false,
     "title": ""
    }
   },
   "source": [
    "## 5. Kick-off a Training Job\n",
    "\n",
    "Similar to conventional Transformers training, we'll first set up a Trainer object to organize the training iterations. There are numerous hyperparameters to configure, but MLflow will manage them on your behalf.\n",
    "\n",
    "To enable MLflow logging, you can specify `report_to=\"mlflow\"` and name your training trial with the `run_name` parameter. This action initiates an [MLflow run](https://mlflow.org/docs/latest/tracking.html#runs) that automatically logs training metrics, hyperparameters, configurations, and the trained model. "
   ]
  },
  {
   "cell_type": "code",
   "execution_count": null,
   "metadata": {
    "application/vnd.databricks.v1+cell": {
     "cellMetadata": {
      "byteLimit": 2048000,
      "rowLimit": 10000
     },
     "inputWidgets": {},
     "nuid": "0f63eefa-2025-43f4-9cc1-c9705335faf8",
     "showTitle": true,
     "title": "Code Snippet Name: MLflow Transformer Trainer with SFT"
    }
   },
   "outputs": [],
   "source": [
    "from datetime import datetime\n",
    "\n",
    "import transformers\n",
    "from transformers import TrainingArguments\n",
    "\n",
    "import mlflow\n",
    "\n",
    "# Comment-out this line if you are running the tutorial on Databricks\n",
    "mlflow.set_experiment(\"MLflow PEFT Tutorial\")\n",
    "\n",
    "training_args = TrainingArguments(\n",
    "    # Set this to mlflow for logging your training\n",
    "    report_to=\"mlflow\",\n",
    "    # Name the MLflow run\n",
    "    run_name=f\"Mistral-7B-SQL-QLoRA-{datetime.now().strftime('%Y-%m-%d-%H-%M-%s')}\",\n",
    "    # Replace with your output destination\n",
    "    output_dir=\"YOUR_OUTPUT_DIR\",\n",
    "    # For the following arguments, refer to https://huggingface.co/docs/transformers/main_classes/trainer\n",
    "    per_device_train_batch_size=2,\n",
    "    gradient_accumulation_steps=4,\n",
    "    gradient_checkpointing=True,\n",
    "    optim=\"paged_adamw_8bit\",\n",
    "    bf16=True,\n",
    "    learning_rate=2e-5,\n",
    "    lr_scheduler_type=\"constant\",\n",
    "    max_steps=500,\n",
    "    save_steps=100,\n",
    "    logging_steps=100,\n",
    "    warmup_steps=5,\n",
    "    # https://discuss.huggingface.co/t/training-llama-with-lora-on-multiple-gpus-may-exist-bug/47005/3\n",
    "    ddp_find_unused_parameters=False,\n",
    ")\n",
    "\n",
    "trainer = transformers.Trainer(\n",
    "    model=peft_model,\n",
    "    train_dataset=tokenized_train_dataset,\n",
    "    data_collator=transformers.DataCollatorForLanguageModeling(tokenizer, mlm=False),\n",
    "    args=training_args,\n",
    ")\n",
    "\n",
    "# use_cache=True is incompatible with gradient checkpointing.\n",
    "peft_model.config.use_cache = False"
   ]
  },
  {
   "cell_type": "markdown",
   "metadata": {
    "application/vnd.databricks.v1+cell": {
     "cellMetadata": {
      "byteLimit": 2048000,
      "rowLimit": 10000
     },
     "inputWidgets": {},
     "nuid": "7ad244e5-4abd-444a-8e1b-c509ee0711a8",
     "showTitle": false,
     "title": ""
    }
   },
   "source": [
    "The training duration may span several hours, contingent upon your hardware specifications. Nonetheless, the primary objective of this tutorial is to acquaint you with the process of fine-tuning using PEFT and MLflow, rather than to cultivate a highly performant SQL generator. If you don't care much about the model performance, you may specify a smaller number of steps or interrupt the following cell to proceed with the rest of the notebook."
   ]
  },
  {
   "cell_type": "code",
   "execution_count": null,
   "metadata": {
    "application/vnd.databricks.v1+cell": {
     "cellMetadata": {
      "byteLimit": 2048000,
      "rowLimit": 10000
     },
     "inputWidgets": {},
     "nuid": "560c81c4-8e6e-48d4-95eb-4a2e53a62889",
     "showTitle": false,
     "title": ""
    }
   },
   "outputs": [
    {
     "data": {
      "text/html": [
       "\n",
       "    <div>\n",
       "      \n",
       "      <progress value='500' max='500' style='width:300px; height:20px; vertical-align: middle;'></progress>\n",
       "      [500/500 45:41, Epoch 0/1]\n",
       "    </div>\n",
       "    <table border=\"1\" class=\"dataframe\">\n",
       "  <thead>\n",
       " <tr style=\"text-align: left;\">\n",
       "      <th>Step</th>\n",
       "      <th>Training Loss</th>\n",
       "    </tr>\n",
       "  </thead>\n",
       "  <tbody>\n",
       "    <tr>\n",
       "      <td>100</td>\n",
       "      <td>0.681700</td>\n",
       "    </tr>\n",
       "    <tr>\n",
       "      <td>200</td>\n",
       "      <td>0.522400</td>\n",
       "    </tr>\n",
       "    <tr>\n",
       "      <td>300</td>\n",
       "      <td>0.507300</td>\n",
       "    </tr>\n",
       "    <tr>\n",
       "      <td>400</td>\n",
       "      <td>0.494800</td>\n",
       "    </tr>\n",
       "    <tr>\n",
       "      <td>500</td>\n",
       "      <td>0.474600</td>\n",
       "    </tr>\n",
       "  </tbody>\n",
       "</table><p>"
      ],
      "text/plain": [
       "<IPython.core.display.HTML object>"
      ]
     },
     "metadata": {},
     "output_type": "display_data"
    },
    {
     "data": {
      "text/plain": [
       "TrainOutput(global_step=500, training_loss=0.5361956100463867, metrics={'train_runtime': 2747.9223, 'train_samples_per_second': 1.456, 'train_steps_per_second': 0.182, 'total_flos': 4.421038813216768e+16, 'train_loss': 0.5361956100463867, 'epoch': 0.06})"
      ]
     },
     "execution_count": 25,
     "metadata": {},
     "output_type": "execute_result"
    }
   ],
   "source": [
    "trainer.train()"
   ]
  },
  {
   "cell_type": "markdown",
   "metadata": {
    "application/vnd.databricks.v1+cell": {
     "cellMetadata": {},
     "inputWidgets": {},
     "nuid": "ba41b0a1-4976-4f52-9a31-6aed528994f5",
     "showTitle": false,
     "title": ""
    }
   },
   "source": [
    "## 6. Save the PEFT Model to MLflow\n",
    "\n",
    "Hooray! We have successfully fine-tuned the Mistral 7B model into an SQL generator. Before concluding the training, one final step is to save the trained PEFT model to MLflow."
   ]
  },
  {
   "cell_type": "markdown",
   "metadata": {},
   "source": [
    "### Set Prompt Template and Default Inference Parameters (optional)\n",
    "\n",
    "LLMs prediction behavior is not only defined by the model weights, but also largely controlled by the prompt and inference paramters such as `max_token_length`, `repetition_penalty`. Therefore, it is highly advisable to save those metadata along with the model, so that you can expect the consistent behavior when loading the model later."
   ]
  },
  {
   "cell_type": "markdown",
   "metadata": {},
   "source": [
    "#### Prompt Template\n",
    "The user prompt itself is free text, but you can harness the input by applying a 'template'. MLflow Transformer flavor supports saving a prompt template with the model, and apply it automatically before the prediction. This also allows you to hide the system prompt from model clients. To save the prompt template, we have to define a single string that contains `{prompt}` variable, and pass it to the `prompt_template` argument of [mlflow.transformers.log_model](https://mlflow.org/docs/latest/python_api/mlflow.transformers.html#mlflow.transformers.log_model) API. Refer to [Saving Prompt Templates with Transformer Pipelines](https://mlflow.org/docs/latest/llms/transformers/guide/index.html#saving-prompt-templates-with-transformer-pipelines) for more detailed usage of this feature."
   ]
  },
  {
   "cell_type": "code",
   "execution_count": null,
   "metadata": {},
   "outputs": [],
   "source": [
    "# Basically the same format as we applied to the dataset. However, the template only accepts {prompt} variable so both table and question need to be fed in there.\n",
    "prompt_template = \"\"\"You are a powerful text-to-SQL model. Given the SQL tables and natural language question, your job is to write SQL query that answers the question.\n",
    "\n",
    "{prompt}\n",
    "\n",
    "### Response:\n",
    "\"\"\""
   ]
  },
  {
   "cell_type": "markdown",
   "metadata": {},
   "source": [
    "#### Inference Parameters\n",
    "\n",
    "Inference parameters can be saved with MLflow model as a part of [Model Signature](https://mlflow.org/docs/latest/model/signatures.html). The signature defines model input and output format with additional parameters passed to the model prediction, and you can let MLflow to infer it from some sample input using [mlflow.models.infer_signature](https://mlflow.org/docs/latest/python_api/mlflow.models.html#mlflow.models.infer_signature) API. If you pass the concrete value for parameters, MLflow treats them as default values and apply them at the inference if they are not provided by users. For more details about the Model Signature, please refer to the [MLflow documentation](https://mlflow.org/docs/latest/model/signatures.html)."
   ]
  },
  {
   "cell_type": "code",
   "execution_count": null,
   "metadata": {},
   "outputs": [
    {
     "data": {
      "text/plain": [
       "inputs: \n",
       "  [string (required)]\n",
       "outputs: \n",
       "  [string (required)]\n",
       "params: \n",
       "  ['max_new_tokens': long (default: 256), 'repetition_penalty': double (default: 1.15), 'return_full_text': boolean (default: False)]"
      ]
     },
     "execution_count": 3,
     "metadata": {},
     "output_type": "execute_result"
    }
   ],
   "source": [
    "from mlflow.models import infer_signature\n",
    "\n",
    "sample = train_dataset[1]\n",
    "\n",
    "# MLflow infers schema from the provided sample input/output/params\n",
    "signature = infer_signature(\n",
    "    model_input=sample[\"prompt\"],\n",
    "    model_output=sample[\"answer\"],\n",
    "    # Parameters are saved with default values if specified\n",
    "    params={\"max_new_tokens\": 256, \"repetition_penalty\": 1.15, \"return_full_text\": False},\n",
    ")\n",
    "signature"
   ]
  },
  {
   "cell_type": "markdown",
   "metadata": {},
   "source": [
    "### Save the PEFT Model to MLflow\n",
    "Finally, we will call [mlflow.transformers.log_model](https://mlflow.org/docs/latest/python_api/mlflow.transformers.html#mlflow.transformers.log_model) API to log the model to MLflow. A few critical points to remember when logging a PEFT model to MLflow are:\n",
    "\n",
    "1. **MLflow logs the Transformer model as a [Pipeline](https://huggingface.co/docs/transformers/en/main_classes/pipelines).** A pipeline bundles a model with its tokenizer (or other components, depending on the task type) and simplifies the prediction steps into an easy-to-use interface, making it an excellent tool for ensuring reproducibility. In the code below, we pass the model and tokenizer as a dictionary, then MLflow automatically deduces the correct pipeline type and saves it.\n",
    "2. **MLflow does not save the base model weight for the PEFT model**. When executing `mlflow.transformers.log_model`, MLflow only saves the small number of trained parameters, i.e., the PEFT adapter. For the base model, MLflow instead records a reference to the HuggingFace hub (repository name and commit hash), and downloads the base model weights on the fly when loading the PEFT model. This approach significantly reduces storage usage and logging latency; for instance, the logged artifacts size in this tutorial is less than 1GB, while the full Mistral 7B model is about 20GB.\n",
    "3. **Save a tokenizer without padding**. During fine-tuning, we applied padding to the dataset to standardize the sequence length in a batch. However, padding is no longer necessary at inference, so we save a different tokenizer without padding. This ensures the loaded model can be used for inference immediately.\n",
    "\n",
    "**Note**: Currently, manual logging is required for the PEFT adapter and config, while other information, such as dataset, metrics, Trainer parameters, etc., are automatically logged. However, this process may be automated in future versions of MLflow and Transformers."
   ]
  },
  {
   "cell_type": "code",
   "execution_count": null,
   "metadata": {
    "application/vnd.databricks.v1+cell": {
     "cellMetadata": {
      "byteLimit": 2048000,
      "rowLimit": 10000
     },
     "inputWidgets": {},
     "nuid": "45ac775d-3b26-43a0-8157-80079264b967",
     "showTitle": true,
     "title": "MLflow PEFT Model Logging Integration"
    }
   },
   "outputs": [],
   "source": [
    "import mlflow\n",
    "\n",
    "# Get the ID of the MLflow Run that was automatically created above\n",
    "last_run_id = mlflow.last_active_run().info.run_id\n",
    "\n",
    "# Save a tokenizer without padding because it is only needed for training\n",
    "tokenizer_no_pad = AutoTokenizer.from_pretrained(base_model_id, add_bos_token=True)\n",
    "\n",
    "# If you interrupt the training, uncomment the following line to stop the MLflow run\n",
    "# mlflow.end_run()\n",
    "\n",
    "with mlflow.start_run(run_id=last_run_id):\n",
    "    mlflow.log_params(peft_config.to_dict())\n",
    "    mlflow.transformers.log_model(\n",
    "        transformers_model={\"model\": trainer.model, \"tokenizer\": tokenizer_no_pad},\n",
    "        prompt_template=prompt_template,\n",
    "        signature=signature,\n",
    "        artifact_path=\"model\",  # This is a relative path to save model files within MLflow run\n",
    "    )"
   ]
  },
  {
   "cell_type": "markdown",
   "metadata": {
    "application/vnd.databricks.v1+cell": {
     "cellMetadata": {},
     "inputWidgets": {},
     "nuid": "bbc10f9d-4db7-43dd-872b-65b1b23ec16f",
     "showTitle": false,
     "title": ""
    }
   },
   "source": [
    "### What's Logged to MLflow?\n",
    "\n",
    "Let's briefly review what is logged/saved to MLflow as a result of your training. To access the MLflow UI, run `mlflow ui` commands and open https://localhost:PORT (PORT is 5000 by default). Select the experiment \"MLflow PEFT Tutorial\" (or the notebook name when running on Databricks) on the left side. Then click on the latest MLflow Run named `Mistral-7B-SQL-QLoRA-2024-...` to view the Run details.\n",
    "\n",
    "#### Parameters\n",
    "\n",
    "The `Parameters` section displays hundreds of parameters specified for the Trainer, LoraConfig, and BitsAndBytesConfig, such as `learning_rate`, `r`, `bnb_4bit_quant_type`. It also includes default parameters that were not explicitly specified, which is crucial for ensuring reproducibility, especially if the library's default values change.\n",
    "\n",
    "#### Metrics\n",
    "The `Metrics` section presents the model metrics collected during the run, such as `train_loss`. You can visualize these metrics with various types of graphs in the \"Chart\" tab.\n",
    "\n",
    "#### Artifacts\n",
    "The `Artifacts` section displays the files/directories saved in MLflow as a result of training. For Transformers PEFT training, you should see the following files/directories:\n",
    "\n",
    "```\n",
    "\n",
    "    model/\n",
    "      ├─ peft/\n",
    "      │  ├─ adapter_config.json       # JSON file of the LoraConfig\n",
    "      │  ├─ adapter_module.safetensor # The weight file of the LoRA adapter\n",
    "      │  └─ README.md                 # Empty README file generated by Transformers\n",
    "      │\n",
    "      ├─ LICENSE.txt                  # License information about the base model (Mistral-7B-0.1)\n",
    "      ├─ MLModel                      # Contains various metadata about your model\n",
    "      ├─ conda.yaml                   # Dependencies to create conda environment\n",
    "      ├─ model_card.md                # Model card text for the base model\n",
    "      ├─ model_card_data.yaml         # Model card data for the base model\n",
    "      ├─ python_env.yaml              # Dependencies to create Python virtual environment\n",
    "      └─ requirements.txt             # Pip requirements for model inference\n",
    "\n",
    "```\n",
    "\n",
    "#### Model Metadata\n",
    "\n",
    "In the MLModel file, you can see the many detailed metadata are saved about the PEFT and base model.\n",
    "Here is an excerpt of the MLModel file (some fields are omitted for simplicity)\n",
    "\n",
    "```\n",
    "flavors:\n",
    "  transformers:\n",
    "    peft_adaptor: peft                                 # Points the location of the saved PEFT model\n",
    "    pipeline_model_type: MistralForCausalLM            # The base model implementation\n",
    "    source_model_name: mistralai/Mistral-7B-v0.1.      # Repository name of the base model\n",
    "    source_model_revision: xxxxxxx                     # Commit hash in the repository for the base model\n",
    "    task: text-generation                              # Pipeline type\n",
    "    torch_dtype: torch.bfloat16                        # Dtype for loading the model\n",
    "    tokenizer_type: LlamaTokenizerFast                 # Tokenizer implementation\n",
    "\n",
    "# Prompt template saved with the model above\n",
    "metadata:\n",
    "  prompt_template: 'You are a powerful text-to-SQL model. Given the SQL tables and\n",
    "    natural language question, your job is to write SQL query that answers the question.\n",
    "\n",
    "\n",
    "    {prompt}\n",
    "\n",
    "\n",
    "    ### Response:\n",
    "\n",
    "    '\n",
    "# Defines the input and output format of the model, with additional inference parameters with default values\n",
    "signature:\n",
    "  inputs: '[{\"type\": \"string\", \"required\": true}]'\n",
    "  outputs: '[{\"type\": \"string\", \"required\": true}]'\n",
    "  params: '[{\"name\": \"max_new_tokens\", \"type\": \"long\", \"default\": 256, \"shape\": null},\n",
    "    {\"name\": \"repetition_penalty\", \"type\": \"double\", \"default\": 1.15, \"shape\": null},\n",
    "    {\"name\": \"return_full_text\", \"type\": \"boolean\", \"default\": false, \"shape\": null}]'\n",
    "```\n"
   ]
  },
  {
   "cell_type": "markdown",
   "metadata": {
    "application/vnd.databricks.v1+cell": {
     "cellMetadata": {},
     "inputWidgets": {},
     "nuid": "2ce65d14-6da7-44a1-8eee-9040bb3ca06d",
     "showTitle": false,
     "title": ""
    }
   },
   "source": [
    "## 7. Load the Saved PEFT Model from MLflow\n",
    "\n",
    "Finally, let's load the model logged in MLflow and evaluate its performance as a text-to-SQL generator. There are two ways to load a Transformer model in MLflow:\n",
    "\n",
    "1. Use [mlflow.transformers.load_model()](https://mlflow.org/docs/latest/python_api/mlflow.transformers.html#mlflow.transformers.load_model). This method returns a native Transformers pipeline instance.\n",
    "2. Use [mlflow.pyfunc.load_model()](https://mlflow.org/docs/latest/python_api/mlflow.pyfunc.html#mlflow.pyfunc.load_model). This method returns an MLflow's PythonModel instance that wraps the Transformers pipeline, offering additional features over the native pipeline, such as (1) a unified `predict()` API for inference, (2) model signature enforcement, and (3) automatically applying a prompt template and default parameters if saved. Please note that not all the Transformer pipelines are supported for pyfunc loading, refer to the [MLflow documentation](https://mlflow.org/docs/latest/llms/transformers/guide/index.html#supported-transformers-pipeline-types-for-pyfunc) for the full list of supported pipeline types.\n",
    "\n",
    "The first option is preferable if you wish to use the model via the native Transformers interface. The second option offers a simplified and unified interface across different model types and is particularly useful for model testing before production deployment. In the following code, we will use the [mlflow.pyfunc.load_model()](https://mlflow.org/docs/latest/python_api/mlflow.pyfunc.html#mlflow.pyfunc.load_model) to show how it applies the prompt template and the default inference parameters defined above.\n",
    "\n",
    "\n",
    "**NOTE**: Invoking `load_model()` loads a new model instance onto your GPU, which may exceed GPU memory limits and trigger an Out Of Memory (OOM) error, or cause the Transformers library to attempt to offload parts of the model to other devices or disk. This offloading can lead to issues, such as a \"ValueError: We need an `offload_dir` to dispatch this model according to this `decide_map`.\" If you encounter this error, consider restarting the Python Kernel and loading the model again.\n",
    "\n",
    "**CAUTION**: Restarting the Python Kernel will erase all intermediate states and variables from the above cells. Ensure that the trained PEFT model is properly logged in MLflow before restarting.\n"
   ]
  },
  {
   "cell_type": "code",
   "execution_count": null,
   "metadata": {
    "application/vnd.databricks.v1+cell": {
     "cellMetadata": {
      "byteLimit": 2048000,
      "rowLimit": 10000
     },
     "inputWidgets": {},
     "nuid": "59df3b6d-e5f6-4274-a624-19dc767769bc",
     "showTitle": false,
     "title": ""
    }
   },
   "outputs": [],
   "source": [
    "# You can find the ID of run in the Run detail page on MLflow UI\n",
    "mlflow_model = mlflow.pyfunc.load_model(\"runs:/YOUR_RUN_ID/model\")"
   ]
  },
  {
   "cell_type": "code",
   "execution_count": null,
   "metadata": {},
   "outputs": [
    {
     "data": {
      "text/html": [
       "<style> .dataframe th, .dataframe tbody td { text-align: left; padding-right: 30px; } </style> <table border=\"1\" class=\"dataframe\">\n",
       "  <thead>\n",
       "    <tr style=\"text-align: right;\">\n",
       "      <th></th>\n",
       "      <th>prompt</th>\n",
       "      <th>generated_query</th>\n",
       "    </tr>\n",
       "  </thead>\n",
       "  <tbody>\n",
       "    <tr>\n",
       "      <th>0</th>\n",
       "      <td><br>### Table:<br>CREATE TABLE table_name_50 (venue VARCHAR, away_team VARCHAR)<br><br>### Question:<br>When Essendon played away; where did they play?<br></td>\n",
       "      <td>SELECT venue FROM table_name_50 WHERE away_team = \"essendon\"</td>\n",
       "    </tr>\n",
       "  </tbody>\n",
       "</table>"
      ],
      "text/plain": [
       "<IPython.core.display.HTML object>"
      ]
     },
     "metadata": {},
     "output_type": "display_data"
    }
   ],
   "source": [
    "# We only input table and question, since system prompt is adeed in the prompt template.\n",
    "test_prompt = \"\"\"\n",
    "### Table:\n",
    "CREATE TABLE table_name_50 (venue VARCHAR, away_team VARCHAR)\n",
    "\n",
    "### Question:\n",
    "When Essendon played away; where did they play?\n",
    "\"\"\"\n",
    "\n",
    "# Inference parameters like max_tokens_length are set to default values specified in the Model Signature\n",
    "generated_query = mlflow_model.predict(test_prompt)[0]\n",
    "display_table({\"prompt\": test_prompt, \"generated_query\": generated_query})"
   ]
  },
  {
   "cell_type": "markdown",
   "metadata": {},
   "source": [
    "Perfect!! The fine-tuned model now generates the SQL query properly. As you can see in the code and result above, the system prompt and default inference parameters are applied automatically, so we don't have to pass it to the loaded model. This is super powerful when you want to deploy multiple models (or update an existing model) with different the system prompt or parameters, because you don't have to edit client's implementation as they are abstracted behind the MLflow model :)"
   ]
  },
  {
   "cell_type": "markdown",
   "metadata": {},
   "source": [
    "## Conclusion\n",
    "\n",
    "In this tutorial, you learned how to fine-tune a large language model with QLoRA for text-to-SQL task using PEFT. You also learned the key role of MLflow in the LLM fine-tuning process, which tracks parameters and metrics during the fine-tuning, and manage models and other assets.\n",
    "\n",
    "### What's Next?\n",
    "* [Evaluate a Hugging Face LLM with MLflow](https://mlflow.org/docs/latest/llms/llm-evaluate/notebooks/huggingface-evaluation.html) - Model evaluation is a critical steps in the model development. Checkout this guidance to learn how to evaluate LLMs efficiently with MLflow including LLM-as-a-judge.\n",
    "* [Deploy MLflow Model to Production](https://mlflow.org/docs/latest/deployment/index.html) - MLflow model stores rich metadata and provides unified interface for prediction, which streamline the easy deployment process. Learn how to deploy your fine-tuned models to various target such as AWS SageMaker, Azure ML, Kubernetes, Databricks Model Serving, with detailed guidance and hands-on notebooks.\n",
    "* [MLflow Transformers Flavor Documentation](https://mlflow.org/docs/latest/llms/transformers/index.html) - Learn more about MLflow and Transformers integration and continue on more tutorials.\n",
    "* [Large Language Models in MLflow](https://mlflow.org/docs/latest/llms/index.html) - MLflow provides more LLM-related features and integrates to many other libraries such as OpenAI and Langchain. "
   ]
  }
 ],
 "metadata": {
  "application/vnd.databricks.v1+notebook": {
   "dashboards": [],
   "language": "python",
   "notebookMetadata": {
    "pythonIndentUnit": 2
   },
   "notebookName": "PEFT Llama Finetuning",
   "widgets": {}
  },
  "language_info": {
   "name": "python"
  }
 },
 "nbformat": 4,
 "nbformat_minor": 0
}
