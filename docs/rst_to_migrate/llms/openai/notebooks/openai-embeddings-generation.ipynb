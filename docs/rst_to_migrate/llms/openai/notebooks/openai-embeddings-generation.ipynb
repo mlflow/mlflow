{
 "cells": [
  {
   "cell_type": "markdown",
   "metadata": {},
   "source": [
    "## Advanced Tutorial: Embeddings Support with OpenAI in MLflow\n",
    "\n",
    "Welcome to this advanced guide on implementing OpenAI embeddings within the MLflow framework. This tutorial delves into the configuration and utilization of OpenAI's powerful embeddings, a key component in modern machine learning models.\n"
   ]
  },
  {
   "cell_type": "raw",
   "metadata": {},
   "source": [
    "<a href=\"https://raw.githubusercontent.com/mlflow/mlflow/master/docs/source/llms/openai/notebooks/openai-embeddings-generation.ipynb\" class=\"notebook-download-btn\"><i class=\"fas fa-download\"></i>Download this Notebook</a><br>"
   ]
  },
  {
   "cell_type": "markdown",
   "metadata": {},
   "source": [
    "### Understanding Embeddings\n",
    "\n",
    "Embeddings are a form of representation learning where words, phrases, or even entire documents are converted into vectors in a high-dimensional space. These vectors capture semantic meaning, enabling models to understand and process language more effectively. Embeddings are extensively used in natural language processing (NLP) for tasks like text classification, sentiment analysis, and language translation.\n",
    "\n",
    "### How Embeddings Work\n",
    "\n",
    "Embeddings work by mapping textual data to vectors such that the distance and direction between vectors represent relationships between the words or phrases. For example, in a well-trained embedding space, synonyms are located closer together, while unrelated terms are farther apart. This spatial arrangement allows algorithms to recognize context and semantics, enhancing their ability to interpret and respond to natural language.\n",
    "\n",
    "### In This Tutorial\n",
    "\n",
    "- **Embedding Endpoint Configuration**: Setting up and utilizing OpenAI's embedding endpoints in MLflow.\n",
    "- **Real-world Application**: Practical example of comparing the text content of various web pages to one another to determine the amount of similarity in their contextually-specific content. \n",
    "- **Efficiency and Precision Enhancements**: Techniques for improving model performance using OpenAI embeddings.\n",
    "\n",
    "By the end of this tutorial, you'll have a thorough understanding of how to integrate and leverage OpenAI embeddings in your MLflow projects, harnessing the power of advanced NLP techniques. You'll also see a real-world application of using text embeddings of documents to compare their similarity. This use case is particularly useful for web content development as a critical task when performing search engine optimization (SEO) to ensure that site page contents are not too similar to one another (which could result in a downgrade in page rankings). \n",
    "\n",
    "### Required packages\n",
    "\n",
    "In order to run this tutorial, you will need to install ``beautifulsoup4`` from PyPI.\n",
    "\n",
    "Let's dive into the world of embeddings and explore their transformative impact on machine learning models!"
   ]
  },
  {
   "cell_type": "code",
   "execution_count": 1,
   "metadata": {},
   "outputs": [],
   "source": [
    "import warnings\n",
    "\n",
    "# Disable a few less-than-useful UserWarnings from setuptools and pydantic\n",
    "warnings.filterwarnings(\"ignore\", category=UserWarning)"
   ]
  },
  {
   "cell_type": "code",
   "execution_count": 2,
   "metadata": {},
   "outputs": [],
   "source": [
    "import os\n",
    "\n",
    "import numpy as np\n",
    "import openai\n",
    "import requests\n",
    "from bs4 import BeautifulSoup\n",
    "from sklearn.metrics.pairwise import cosine_similarity, euclidean_distances\n",
    "\n",
    "import mlflow\n",
    "from mlflow.models.signature import ModelSignature\n",
    "from mlflow.types.schema import ColSpec, ParamSchema, ParamSpec, Schema, TensorSpec\n",
    "\n",
    "assert \"OPENAI_API_KEY\" in os.environ, \" OPENAI_API_KEY environment variable must be set\""
   ]
  },
  {
   "cell_type": "markdown",
   "metadata": {},
   "source": [
    "### Integrating OpenAI Model with MLflow for Document Similarity\n",
    "\n",
    "In this tutorial segment, we demonstrate the process of setting up and utilizing an OpenAI embedding model within MLflow for document similarity tasks.\n",
    "\n",
    "#### Key Steps\n",
    "\n",
    "1. **Setting an MLflow Experiment**: We begin by setting the experiment context in MLflow, specifically for document similarity, using `mlflow.set_experiment(\"Documentation Similarity\")`.\n",
    "\n",
    "2. **Logging the Model in MLflow**: We initiate an MLflow run and log metadata and access configuration parameters to communicate with a specific OpenAI endpoint. The OpenAI endpoint that we've chosen here points to the model \"text-embedding-ada-002\", chosen for its robust embedding capabilities. During this step, we detail these access configurations, the embedding task, input/output schemas, and parameters like batch size.\n",
    "\n",
    "3. **Loading the Logged Model for Use**: After logging the MLflow model, we proceed to load it using MLflow's `pyfunc` module. This is a critical step for applying the model to perform document similarity tasks within the MLflow ecosystem.\n",
    "\n",
    "These steps are essential for integrating access to OpenAI's embedding model into MLflow, facilitating advanced NLP operations like document similarity analysis.\n"
   ]
  },
  {
   "cell_type": "code",
   "execution_count": 3,
   "metadata": {},
   "outputs": [],
   "source": [
    "mlflow.set_experiment(\"Documenatation Similarity\")\n",
    "\n",
    "with mlflow.start_run():\n",
    "    model_info = mlflow.openai.log_model(\n",
    "        model=\"text-embedding-ada-002\",\n",
    "        task=openai.embeddings,\n",
    "        artifact_path=\"model\",\n",
    "        signature=ModelSignature(\n",
    "            inputs=Schema([ColSpec(type=\"string\", name=None)]),\n",
    "            outputs=Schema([TensorSpec(type=np.dtype(\"float64\"), shape=(-1,))]),\n",
    "            params=ParamSchema([ParamSpec(name=\"batch_size\", dtype=\"long\", default=1024)]),\n",
    "        ),\n",
    "    )\n",
    "\n",
    "# Load the model in pyfunc format\n",
    "model = mlflow.pyfunc.load_model(model_info.model_uri)"
   ]
  },
  {
   "cell_type": "markdown",
   "metadata": {},
   "source": [
    "### Webpage Text Extraction for Embedding Analysis\n",
    "\n",
    "This section of the tutorial introduces functions designed to extract and prepare text from webpages, a crucial step before applying embedding models for analysis.\n",
    "\n",
    "#### Overview of Functions\n",
    "\n",
    "1. **insert_space_after_tags**: \n",
    "   - Adds a space after specific HTML tags in a BeautifulSoup object for better text readability.\n",
    "\n",
    "2. **extract_text_from_url**: \n",
    "   - Extracts text from a specified webpage section using its URL and a target ID. Filters and organizes the text from tags like <h>, <li>, and <p>, excluding certain irrelevant sections.\n",
    "\n",
    "These functions are integral to preprocessing web content, ensuring that the text fed into the embedding model is clean, relevant, and well-structured."
   ]
  },
  {
   "cell_type": "code",
   "execution_count": 4,
   "metadata": {},
   "outputs": [],
   "source": [
    "def insert_space_after_tags(soup, tags):\n",
    "    \"\"\"\n",
    "    Insert a space after each tag specified in the provided BeautifulSoup object.\n",
    "\n",
    "    Args:\n",
    "        soup: BeautifulSoup object representing the parsed HTML.\n",
    "        tags: List of tag names (as strings) after which space should be inserted.\n",
    "    \"\"\"\n",
    "    for tag_name in tags:\n",
    "        for tag in soup.find_all(tag_name):\n",
    "            tag.insert_after(\" \")\n",
    "\n",
    "\n",
    "def extract_text_from_url(url, id):\n",
    "    \"\"\"\n",
    "    Extract and return text content from a specific section of a webpage.\n",
    "    \"\"\"\n",
    "    try:\n",
    "        response = requests.get(url)\n",
    "        response.raise_for_status()  # Raises HTTPError for bad requests (4XX, 5XX)\n",
    "    except requests.exceptions.RequestException as e:\n",
    "        return f\"Request failed: {e}\"\n",
    "\n",
    "    soup = BeautifulSoup(response.text, \"html.parser\")\n",
    "    target_div = soup.find(\"div\", {\"class\": \"section\", \"id\": id})\n",
    "    if not target_div:\n",
    "        return \"Target element not found.\"\n",
    "\n",
    "    insert_space_after_tags(target_div, [\"strong\", \"a\"])\n",
    "\n",
    "    content_tags = target_div.find_all([\"h1\", \"h2\", \"h3\", \"h4\", \"h5\", \"h6\", \"li\", \"p\"])\n",
    "    filtered_tags = [\n",
    "        tag\n",
    "        for tag in content_tags\n",
    "        if not (\n",
    "            (tag.name == \"li\" and tag.find(\"p\") and tag.find(\"a\", class_=\"reference external\"))\n",
    "            or (tag.name == \"p\" and tag.find_parent(\"ul\"))\n",
    "            or (tag.get_text(strip=True).lower() == \"note\")\n",
    "        )\n",
    "    ]\n",
    "\n",
    "    return \"\\n\".join(tag.get_text(separator=\" \", strip=True) for tag in filtered_tags)"
   ]
  },
  {
   "cell_type": "markdown",
   "metadata": {},
   "source": [
    "#### Detailed Workflow:\n",
    "\n",
    "- The function `extract_text_from_url` first fetches the webpage content using the `requests` library.\n",
    "- It then parses the HTML content using BeautifulSoup.\n",
    "- Specific HTML tags are targeted for text extraction, ensuring that the content is relevant and well-structured for embedding analysis.\n",
    "- The `insert_space_after_tags` function is called within `extract_text_from_url` to improve text readability post-extraction."
   ]
  },
  {
   "cell_type": "markdown",
   "metadata": {},
   "source": [
    "### Measuring Similarity and Distance Between Embeddings\n",
    "\n",
    "In this next part of the tutorial, we utilize two functions from `sklearn` to measure the similarity and distance between document embeddings, essential for evaluating and comparing text-based machine learning models.\n",
    "\n",
    "#### Function Overviews\n",
    "\n",
    "1. **cosine_similarity**:\n",
    "   - **Purpose**: Calculates the cosine similarity between two embedding vectors.\n",
    "   - **How It Works**: This function computes similarity by finding the cosine of the angle between the two vectors, a common method for assessing how similar two documents are in terms of their content.\n",
    "   - **Relevance**: Very useful in NLP, especially for tasks like document retrieval and clustering, where the goal is to find documents with similar content.\n",
    "\n",
    "2. **euclidean_distances**:\n",
    "   - **Purpose**: Computes the Euclidean distance between two embedding vectors.\n",
    "   - **Functionality**: Similar to `cosine_similarity` this function calculates the Euclidean distance, which is the \"straight line\" distance between the two points in the embedding space. This measure is useful for understanding how different two documents are.\n",
    "   - **Relevance within NLP**: Offers a more intuitive physical distance metric, useful for tasks like document classification and anomaly detection.\n",
    "\n",
    "These functions are crucial for analyzing and comparing the outputs of embedding models, providing insights into the relationships between different text data in terms of similarity and distinction."
   ]
  },
  {
   "cell_type": "markdown",
   "metadata": {},
   "source": [
    "### Comparing Webpages Using Embeddings\n",
    "\n",
    "This section of the tutorial introduces a function, `compare_pages`, designed to compare the content of two webpages using embedding models. This function is key for understanding how similar or different two given webpages are in terms of their textual content.\n",
    "\n",
    "#### Function Overview\n",
    "\n",
    "- **Function Name**: `compare_pages`\n",
    "- **Purpose**: Compares two webpages and returns a similarity score based on their content.\n",
    "- **Parameters**:\n",
    "  - `url1` and `url2`: URLs of the webpages to be compared.\n",
    "  - `id1` and `id2`: Target IDs for the main text content divs on each page.\n",
    "\n",
    "#### How It Works\n",
    "\n",
    "1. **Text Extraction**: The function starts by extracting text from the specified sections of each webpage using the `extract_text_from_url` function.\n",
    "2. **Embedding Prediction**: It then uses the previously loaded OpenAI model to generate embeddings for the extracted texts.\n",
    "3. **Similarity and Distance Measurement**: The function calculates both the cosine similarity and Euclidean distance between the two embeddings. These metrics provide a quantifiable measure of how similar or dissimilar the webpage contents are.\n",
    "4. **Result**: Returns a tuple containing the cosine similarity score and the Euclidean distance. If text extraction fails, it returns an error message.\n",
    "\n",
    "#### Practical Application\n",
    "\n",
    "This function is particularly useful in scenarios where comparing the content of different webpages is necessary, such as in content curation, plagiarism detection, or similarity analysis for SEO purposes.\n",
    "\n",
    "By leveraging the power of embeddings and similarity metrics, `compare_pages` provides a robust method for quantitatively assessing webpage content similarities and differences.\n"
   ]
  },
  {
   "cell_type": "code",
   "execution_count": 5,
   "metadata": {},
   "outputs": [],
   "source": [
    "def compare_pages(url1, url2, id1, id2):\n",
    "    \"\"\"\n",
    "    Compare two webpages and return the similarity score.\n",
    "\n",
    "    Args:\n",
    "        url1: URL of the first webpage.\n",
    "        url2: URL of the second webpage.\n",
    "        id1: The target id for the div containing the main text content of the first page\n",
    "        id2: The target id for the div containing the main text content of the second page\n",
    "\n",
    "    Returns:\n",
    "        A tuple of floats representing the similarity score for cosine similarity and euclidean distance.\n",
    "    \"\"\"\n",
    "    text1 = extract_text_from_url(url1, id1)\n",
    "    text2 = extract_text_from_url(url2, id2)\n",
    "\n",
    "    if text1 and text2:\n",
    "        embedding1 = model.predict([text1])\n",
    "        embedding2 = model.predict([text2])\n",
    "\n",
    "        return (\n",
    "            cosine_similarity(embedding1, embedding2),\n",
    "            euclidean_distances(embedding1, embedding2),\n",
    "        )\n",
    "    else:\n",
    "        return \"Failed to retrieve content.\""
   ]
  },
  {
   "cell_type": "markdown",
   "metadata": {},
   "source": [
    "### Similarity Analysis Between MLflow Documentation Pages\n",
    "\n",
    "In this tutorial segment, we demonstrate the practical application of the `compare_pages` function by comparing two specific pages from the MLflow documentation. Our goal is to assess how similar the content of the main Large Language Models (LLMs) page is to the LLM Evaluation page within the 2.8.1 release of MLflow.\n",
    "\n",
    "#### Process Overview\n",
    "\n",
    "- **Target Webpages**:\n",
    "  - The main LLMs page: [LLMs page for MLflow 2.8.1 release](https://www.mlflow.org/docs/2.8.1/llms/index.html)\n",
    "  - The LLM Evaluation page: [LLM Evaluation for MLflow 2.8.1](https://www.mlflow.org/docs/2.8.1/llms/llm-evaluate/index.html)\n",
    "- **Content IDs**: We use 'llms' for the main LLMs page and 'mlflow-llm-evaluate' for the LLM Evaluation page to target specific content sections.\n",
    "- **Comparison Execution**: The `compare_pages` function is called with these URLs and content IDs to perform the analysis.\n",
    "\n",
    "#### Results\n",
    "\n",
    "- **Cosine Similarity and Euclidean Distance**: The function returns two key metrics:\n",
    "  - Cosine Similarity: Measures the cosine of the angle between the embedding vectors of the two pages. A higher value indicates greater similarity.\n",
    "  - Euclidean Distance: Represents the 'straight-line' distance between the two points in the embedding space, with lower values indicating closer similarity.\n",
    "\n",
    "#### Interpretation\n",
    "\n",
    "The results show a high degree of cosine similarity (0.8792), suggesting that the content of the two pages is quite similar in terms of context and topics covered. The Euclidean distance of 0.4914, while relatively low, offers a complementary perspective, indicating some level of distinctiveness in the content.\n",
    "\n",
    "#### Conclusion\n",
    "\n",
    "This analysis highlights the effectiveness of using embeddings and similarity metrics for comparing webpage content. In practical terms, it helps in understanding the overlap and differences in documentation, aiding in content optimization, redundancy reduction, and ensuring comprehensive coverage of topics.\n"
   ]
  },
  {
   "cell_type": "code",
   "execution_count": 6,
   "metadata": {},
   "outputs": [
    {
     "name": "stdout",
     "output_type": "stream",
     "text": [
      "The cosine similarity between the LLMs page and the LLM Evaluation page is: [[0.879243]] and the euclidean distance is: [[0.49144073]]\n"
     ]
    }
   ],
   "source": [
    "# Get the similarity between the main LLMs page in the MLflow Docs and the LLM Evaluation page for the 2.8.1 release of MLflow\n",
    "\n",
    "llm_cosine, llm_euclid = compare_pages(\n",
    "    url1=\"https://www.mlflow.org/docs/2.8.1/llms/index.html\",\n",
    "    url2=\"https://www.mlflow.org/docs/2.8.1/llms/llm-evaluate/index.html\",\n",
    "    id1=\"llms\",\n",
    "    id2=\"mlflow-llm-evaluate\",\n",
    ")\n",
    "\n",
    "print(\n",
    "    f\"The cosine similarity between the LLMs page and the LLM Evaluation page is: {llm_cosine} and the euclidean distance is: {llm_euclid}\"\n",
    ")"
   ]
  },
  {
   "cell_type": "markdown",
   "metadata": {},
   "source": [
    "### Brief Overview of Similarity Between MLflow LLMs and Plugins Pages\n",
    "\n",
    "This section demonstrates a quick similarity analysis between the MLflow Large Language Models (LLMs) page and the Plugins page from the 2.8.1 release.\n",
    "\n",
    "#### Analysis Execution\n",
    "\n",
    "- **Pages Compared**:\n",
    "  - LLMs page: [LLMs page for MLflow 2.8.1 release](https://www.mlflow.org/docs/2.8.1/llms/index.html)\n",
    "  - Plugins page: [Plugins page for MLflow 2.8.1 release](https://www.mlflow.org/docs/2.8.1/plugins.html)\n",
    "- **IDs Used**: 'llms' for the LLMs page and 'mflow-plugins' for the Plugins page.\n",
    "- **Function**: `compare_pages` is utilized for the comparison.\n",
    "\n",
    "#### Results\n",
    "\n",
    "- **Cosine Similarity**: 0.6806, indicating moderate similarity in content.\n",
    "- **Euclidean Distance**: 0.7992, suggesting a noticeable difference in the context and topics covered by the two pages.\n",
    "\n",
    "The results reflect a moderate level of similarity between the LLMs and Plugins pages, with a significant degree of distinctiveness in their content. This analysis is useful for understanding the relationship and content overlap between different sections of the MLflow documentation."
   ]
  },
  {
   "cell_type": "code",
   "execution_count": 7,
   "metadata": {},
   "outputs": [
    {
     "name": "stdout",
     "output_type": "stream",
     "text": [
      "The cosine similarity between the LLMs page and the MLflow Projects page is: [[0.68062298]] and the euclidean distance is: [[0.79922088]]\n"
     ]
    }
   ],
   "source": [
    "# Get the similarity between the main LLMs page in the MLflow Docs and the Plugins page for the 2.8.1 release of MLflow\n",
    "\n",
    "plugins_cosine, plugins_euclid = compare_pages(\n",
    "    url1=\"https://www.mlflow.org/docs/2.8.1/llms/index.html\",\n",
    "    url2=\"https://www.mlflow.org/docs/2.8.1/plugins.html\",\n",
    "    id1=\"llms\",\n",
    "    id2=\"mflow-plugins\",\n",
    ")\n",
    "\n",
    "print(\n",
    "    f\"The cosine similarity between the LLMs page and the MLflow Projects page is: {plugins_cosine} and the euclidean distance is: {plugins_euclid}\"\n",
    ")"
   ]
  },
  {
   "cell_type": "markdown",
   "metadata": {},
   "source": [
    "### Tutorial Recap: Leveraging OpenAI Embeddings in MLflow\n",
    "\n",
    "As we conclude this tutorial, let's recap the key concepts and techniques we've explored regarding the use of OpenAI embeddings within the MLflow framework.\n",
    "\n",
    "#### Key Takeaways\n",
    "\n",
    "1. **Integrating OpenAI Models in MLflow**:\n",
    "   - We learned how to log and load OpenAI's \"text-embedding-ada-002\" model within MLflow, an essential step for utilizing these embeddings in machine learning workflows.\n",
    "\n",
    "2. **Text Extraction and Preprocessing**:\n",
    "   - The tutorial introduced methods for extracting and preprocessing text from webpages, ensuring the data is clean and structured for embedding analysis.\n",
    "\n",
    "3. **Calculating Similarity and Distance**:\n",
    "   - We delved into functions for measuring cosine similarity and Euclidean distance between document embeddings, vital for comparing textual content.\n",
    "\n",
    "4. **Real-World Application: Webpage Content Comparison**:\n",
    "   - Practical application of these concepts was demonstrated through the comparison of different MLflow documentation pages. We analyzed the similarity and differences in their content using the embeddings generated by the OpenAI model.\n",
    "\n",
    "5. **Interpreting Results**:\n",
    "   - The tutorial provided insights into interpreting the results of similarity and distance metrics, highlighting their relevance in understanding content relationships.\n",
    "\n",
    "#### Conclusion\n",
    "\n",
    "This advanced tutorial aimed to enhance your skills in applying OpenAI embeddings in MLflow, focusing on real-world applications like document similarity analysis. By integrating these powerful NLP tools, we've showcased how to extract more value and insights from textual data, a crucial aspect of modern machine learning projects.\n",
    "\n",
    "We hope this guide has been informative and instrumental in advancing your understanding and application of OpenAI embeddings within the MLflow framework.\n",
    "\n",
    "### What's Next?\n",
    "\n",
    "To continue your learning journey, see the additional [advanced tutorials for MLflow's OpenAI flavor](https://www.mlflow.org/docs/latest/llms/openai/index.html#advanced-tutorials)."
   ]
  }
 ],
 "metadata": {
  "kernelspec": {
   "display_name": "Python 3",
   "language": "python",
   "name": "python3"
  },
  "language_info": {
   "codemirror_mode": {
    "name": "ipython",
    "version": 3
   },
   "file_extension": ".py",
   "mimetype": "text/x-python",
   "name": "python",
   "nbconvert_exporter": "python",
   "pygments_lexer": "ipython3",
   "version": "3.8.13"
  }
 },
 "nbformat": 4,
 "nbformat_minor": 2
}
