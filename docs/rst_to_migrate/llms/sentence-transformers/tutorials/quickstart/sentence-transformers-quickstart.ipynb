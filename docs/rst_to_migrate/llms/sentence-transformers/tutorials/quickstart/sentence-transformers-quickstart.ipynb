{
 "cells": [
  {
   "cell_type": "markdown",
   "metadata": {},
   "source": [
    "## Introduction to Sentence Transformers and MLflow\n",
    "\n",
    "Welcome to our tutorial on leveraging **Sentence Transformers** with **MLflow** for advanced natural language processing and model management."
   ]
  },
  {
   "cell_type": "raw",
   "metadata": {},
   "source": [
    "<a href=\"https://raw.githubusercontent.com/mlflow/mlflow/master/docs/source/llms/sentence-transformers/tutorials/quickstart/sentence-transformers-quickstart.ipynb\" class=\"notebook-download-btn\"><i class=\"fas fa-download\"></i>Download this Notebook</a><br>"
   ]
  },
  {
   "cell_type": "markdown",
   "metadata": {},
   "source": [
    "### Learning Objectives\n",
    "\n",
    "- Set up a pipeline for sentence embeddings with `sentence-transformers`.\n",
    "- Log models and configurations using MLflow.\n",
    "- Understand and apply model signatures in MLflow to `sentence-transformers`.\n",
    "- Deploy and use models for inference with MLflow's features.\n",
    "\n",
    "#### What are Sentence Transformers?\n",
    "Sentence Transformers, an extension of the Hugging Face Transformers library, are designed for generating semantically rich sentence embeddings. They utilize models like BERT and RoBERTa, fine-tuned for tasks such as semantic search and text clustering, producing high-quality sentence-level embeddings.\n",
    "\n",
    "#### Benefits of Integrating MLflow with Sentence Transformers\n",
    "Combining MLflow with Sentence Transformers enhances NLP projects by:\n",
    "\n",
    "- Streamlining experiment management and logging.\n",
    "- Offering better control over model versions and configurations.\n",
    "- Ensuring reproducibility of results and model predictions.\n",
    "- Simplifying the deployment process in production environments.\n",
    "\n",
    "This integration empowers efficient tracking, management, and deployment of NLP applications."
   ]
  },
  {
   "cell_type": "code",
   "execution_count": 1,
   "metadata": {},
   "outputs": [
    {
     "name": "stdout",
     "output_type": "stream",
     "text": [
      "env: TOKENIZERS_PARALLELISM=false\n"
     ]
    }
   ],
   "source": [
    "# Disable tokenizers warnings when constructing pipelines\n",
    "%env TOKENIZERS_PARALLELISM=false\n",
    "\n",
    "import warnings\n",
    "\n",
    "# Disable a few less-than-useful UserWarnings from setuptools and pydantic\n",
    "warnings.filterwarnings(\"ignore\", category=UserWarning)"
   ]
  },
  {
   "cell_type": "markdown",
   "metadata": {},
   "source": [
    "### Setting Up the Environment for Sentence Embedding\n",
    "\n",
    "Begin your journey with Sentence Transformers and MLflow by establishing the core working environment.\n",
    "\n",
    "#### Key Steps for Initialization\n",
    "\n",
    "- Import necessary libraries: `SentenceTransformer` and `mlflow`.\n",
    "- Initialize the `\"all-MiniLM-L6-v2\"` Sentence Transformer model.\n",
    "    \n",
    "#### Model Initialization\n",
    "The compact and efficient `\"all-MiniLM-L6-v2\"` model is chosen for its effectiveness in generating meaningful sentence embeddings. Explore more models at the [Hugging Face Hub](https://huggingface.co/models?pipeline_tag=sentence-similarity&sort=trending).\n",
    "\n",
    "#### Purpose of the Model\n",
    "This model excels in transforming sentences into semantically rich embeddings, applicable in various NLP tasks like semantic search and clustering."
   ]
  },
  {
   "cell_type": "code",
   "execution_count": 2,
   "metadata": {},
   "outputs": [],
   "source": [
    "from sentence_transformers import SentenceTransformer\n",
    "\n",
    "import mlflow\n",
    "\n",
    "model = SentenceTransformer(\"all-MiniLM-L6-v2\")"
   ]
  },
  {
   "cell_type": "markdown",
   "metadata": {},
   "source": [
    "### Defining the Model Signature with MLflow\n",
    "Defining the model signature is a crucial step in setting up our Sentence Transformer model for consistent and expected behavior during inference.\n",
    "\n",
    "#### Steps for Signature Definition\n",
    "\n",
    "- **Prepare Example Sentences**: Define example sentences to demonstrate the model's input and output formats.\n",
    "- **Generate Model Signature**: Use the `mlflow.models.infer_signature` function with the model's input and output to automatically define the signature.\n",
    "\n",
    "#### Importance of the Model Signature\n",
    "\n",
    "- **Clarity in Data Formats**: Ensures clear documentation of the data types and structures the model expects and produces.\n",
    "- **Model Deployment and Usage**: Crucial for deploying models to production, ensuring the model receives inputs in the correct format and produces expected outputs.\n",
    "- **Error Prevention**: Helps in preventing errors during model inference by enforcing consistent data formats.\n",
    "\n",
    "**NOTE**: The `List[str]` input type is equivalent at inference time to `str`. The MLflow flavor uses a `ColSpec[str]` definition for the input type."
   ]
  },
  {
   "cell_type": "code",
   "execution_count": 3,
   "metadata": {},
   "outputs": [
    {
     "data": {
      "text/plain": [
       "inputs: \n",
       "  [string]\n",
       "outputs: \n",
       "  [Tensor('float32', (-1, 384))]\n",
       "params: \n",
       "  None"
      ]
     },
     "execution_count": 3,
     "metadata": {},
     "output_type": "execute_result"
    }
   ],
   "source": [
    "example_sentences = [\"A sentence to encode.\", \"Another sentence to encode.\"]\n",
    "\n",
    "# Infer the signature of the custom model by providing an input example and the resultant prediction output.\n",
    "# We're not including any custom inference parameters in this example, but you can include them as a third argument\n",
    "# to infer_signature(), as you will see in the advanced tutorials for Sentence Transformers.\n",
    "signature = mlflow.models.infer_signature(\n",
    "    model_input=example_sentences,\n",
    "    model_output=model.encode(example_sentences),\n",
    ")\n",
    "\n",
    "# Visualize the signature\n",
    "signature"
   ]
  },
  {
   "cell_type": "markdown",
   "metadata": {},
   "source": [
    "### Creating an experiment\n",
    "\n",
    "We create a new MLflow Experiment so that the run we're going to log our model to does not log to the default experiment and instead has its own contextually relevant entry."
   ]
  },
  {
   "cell_type": "code",
   "execution_count": 4,
   "metadata": {},
   "outputs": [
    {
     "data": {
      "text/plain": [
       "<Experiment: artifact_location='file:///Users/benjamin.wilson/repos/mlflow-fork/mlflow/docs/source/llms/sentence-transformers/tutorials/quickstart/mlruns/469990615226680434', creation_time=1701280211449, experiment_id='469990615226680434', last_update_time=1701280211449, lifecycle_stage='active', name='Introduction to Sentence Transformers', tags={}>"
      ]
     },
     "execution_count": 4,
     "metadata": {},
     "output_type": "execute_result"
    }
   ],
   "source": [
    "# If you are running this tutorial in local mode, leave the next line commented out.\n",
    "# Otherwise, uncomment the following line and set your tracking uri to your local or remote tracking server.\n",
    "\n",
    "# mlflow.set_tracking_uri(\"http://127.0.0.1:8080\")\n",
    "\n",
    "mlflow.set_experiment(\"Introduction to Sentence Transformers\")"
   ]
  },
  {
   "cell_type": "markdown",
   "metadata": {},
   "source": [
    "### Logging the Sentence Transformer Model with MLflow\n",
    "\n",
    "Logging the model in MLflow is essential for tracking, version control, and deployment, following the initialization and signature definition of our Sentence Transformer model.\n",
    "\n",
    "#### Steps for Logging the Model\n",
    "\n",
    "- **Start an MLflow Run**: Initiate a new run with `mlflow.start_run()`, grouping all logging operations.\n",
    "- **Log the Model**: Use `mlflow.sentence_transformers.log_model` to log the model, providing the model object, artifact path, signature, and an input example.\n",
    "\n",
    "#### Importance of Model Logging\n",
    "\n",
    "- **Model Management**: Facilitates the model's lifecycle management from training to deployment.\n",
    "- **Reproducibility and Tracking**: Enables tracking of model versions and ensures reproducibility.\n",
    "- **Ease of Deployment**: Simplifies deployment by allowing models to be easily deployed for inference."
   ]
  },
  {
   "cell_type": "code",
   "execution_count": 5,
   "metadata": {},
   "outputs": [],
   "source": [
    "with mlflow.start_run():\n",
    "    logged_model = mlflow.sentence_transformers.log_model(\n",
    "        model=model,\n",
    "        artifact_path=\"sbert_model\",\n",
    "        signature=signature,\n",
    "        input_example=example_sentences,\n",
    "    )"
   ]
  },
  {
   "cell_type": "markdown",
   "metadata": {},
   "source": [
    "### Loading the Model and Testing Inference\n",
    "\n",
    "After logging the Sentence Transformer model in MLflow, we demonstrate how to load and test it for real-time inference.\n",
    "    \n",
    "#### Loading the Model as a PyFunc\n",
    "\n",
    "- **Why PyFunc**: Load the logged model using `mlflow.pyfunc.load_model` for seamless integration into Python-based services or applications.\n",
    "- **Model URI**: Use the `logged_model.model_uri` to accurately locate and load the model from MLflow.\n",
    "\n",
    "#### Conducting Inference Tests\n",
    "\n",
    "- **Test Sentences**: Define sentences to test the model's embedding generation capabilities.\n",
    "- **Performing Predictions**: Use the model's `predict` method with test sentences to obtain embeddings.\n",
    "- **Printing Embedding Lengths**: Verify embedding generation by checking the length of embedding arrays, corresponding to the dimensionality of each sentence representation.\n",
    "\n",
    "#### Importance of Inference Testing\n",
    "\n",
    "- **Model Validation**: Confirm the model's expected behavior and data processing capability upon loading.\n",
    "- **Deployment Readiness**: Validate the model's readiness for real-time integration into application services."
   ]
  },
  {
   "cell_type": "code",
   "execution_count": 6,
   "metadata": {},
   "outputs": [
    {
     "name": "stdout",
     "output_type": "stream",
     "text": [
      "The return structure length is: 2\n",
      "The size of embedding 1 is: 384\n",
      "The size of embedding 2 is: 384\n"
     ]
    }
   ],
   "source": [
    "inference_test = [\"I enjoy pies of both apple and cherry.\", \"I prefer cookies.\"]\n",
    "\n",
    "# Load our custom model by providing the uri for where the model was logged.\n",
    "loaded_model_pyfunc = mlflow.pyfunc.load_model(logged_model.model_uri)\n",
    "\n",
    "# Perform a quick test to ensure that our loaded model generates the correct output\n",
    "embeddings_test = loaded_model_pyfunc.predict(inference_test)\n",
    "\n",
    "# Verify that the output is a list of lists of floats (our expected output format)\n",
    "print(f\"The return structure length is: {len(embeddings_test)}\")\n",
    "\n",
    "for i, embedding in enumerate(embeddings_test):\n",
    "    print(f\"The size of embedding {i + 1} is: {len(embeddings_test[i])}\")"
   ]
  },
  {
   "cell_type": "markdown",
   "metadata": {},
   "source": [
    "### Displaying Samples of Generated Embeddings\n",
    "Examine the content of embeddings to verify their quality and understand the model's output.\n",
    "    \n",
    "#### Inspecting the Embedding Samples\n",
    "\n",
    "- **Purpose of Sampling**: Inspect a sample of the entries in each embedding to understand the vector representations generated by the model.\n",
    "- **Printing Embedding Samples**: Print the first 10 entries of each embedding vector using `embedding[:10]` to get a glimpse into the model's output.\n",
    "\n",
    "#### Why Sampling is Important\n",
    "\n",
    "- **Quality Check**: Sampling provides a quick way to verify the embeddings' quality and ensures they are meaningful and non-degenerate.\n",
    "- **Understanding Model Output**: Seeing parts of the embedding vectors offers an intuitive understanding of the model's output, beneficial for debugging and development."
   ]
  },
  {
   "cell_type": "code",
   "execution_count": 7,
   "metadata": {},
   "outputs": [
    {
     "name": "stdout",
     "output_type": "stream",
     "text": [
      "The sample of the first 10 entries in embedding 1 is: [ 0.04866192 -0.03687946  0.02408808  0.03534171 -0.12739632  0.00999414\n",
      "  0.07135344 -0.01433522  0.04296691 -0.00654414]\n",
      "The sample of the first 10 entries in embedding 2 is: [-0.03879027 -0.02373698  0.01314073  0.03589077 -0.01641303 -0.0857707\n",
      "  0.08282158 -0.03173266  0.04507608  0.02777079]\n"
     ]
    }
   ],
   "source": [
    "for i, embedding in enumerate(embeddings_test):\n",
    "    print(f\"The sample of the first 10 entries in embedding {i + 1} is: {embedding[:10]}\")"
   ]
  },
  {
   "cell_type": "markdown",
   "metadata": {},
   "source": [
    "### Native Model Loading in MLflow for Extended Functionality\n",
    "Explore the full range of Sentence Transformer functionalities with MLflow's support for native model loading.\n",
    "    \n",
    "#### Why Support Native Loading?\n",
    "\n",
    "- **Access to Native Functionalities**: Native loading unlocks all the features of the Sentence Transformer model, essential for advanced NLP tasks.\n",
    "- **Loading the Model Natively**: Use `mlflow.sentence_transformers.load_model` to load the model with its full capabilities, enhancing flexibility and efficiency.\n",
    "\n",
    "#### Generating Embeddings Using Native Model\n",
    "\n",
    "- **Model Encoding**: Employ the model's native `encode` method to generate embeddings, taking advantage of optimized functionality.\n",
    "- **Importance of Native Encoding**: Native encoding ensures the utilization of the model's full embedding generation capabilities, suitable for large-scale or complex NLP applications."
   ]
  },
  {
   "cell_type": "code",
   "execution_count": 8,
   "metadata": {},
   "outputs": [
    {
     "name": "stderr",
     "output_type": "stream",
     "text": [
      "2023/11/30 15:50:24 INFO mlflow.sentence_transformers: 'runs:/eeab3c1b13594fdea13e07585b1c0596/sbert_model' resolved as 'file:///Users/benjamin.wilson/repos/mlflow-fork/mlflow/docs/source/llms/sentence-transformers/tutorials/quickstart/mlruns/469990615226680434/eeab3c1b13594fdea13e07585b1c0596/artifacts/sbert_model'\n"
     ]
    },
    {
     "name": "stdout",
     "output_type": "stream",
     "text": [
      "The sample of the native library encoding call for embedding 1 is: [ 0.04866192 -0.03687946  0.02408808  0.03534171 -0.12739632  0.00999414\n",
      "  0.07135344 -0.01433522  0.04296691 -0.00654414]\n",
      "The sample of the native library encoding call for embedding 2 is: [-0.03879027 -0.02373698  0.01314073  0.03589077 -0.01641303 -0.0857707\n",
      "  0.08282158 -0.03173266  0.04507608  0.02777079]\n"
     ]
    }
   ],
   "source": [
    "# Load the saved model as a native Sentence Transformers model (unlike above, where we loaded as a generic python function)\n",
    "loaded_model_native = mlflow.sentence_transformers.load_model(logged_model.model_uri)\n",
    "\n",
    "# Use the native model to generate embeddings by calling encode() (unlike for the generic python function which uses the single entrypoint of `predict`)\n",
    "native_embeddings = loaded_model_native.encode(inference_test)\n",
    "\n",
    "for i, embedding in enumerate(native_embeddings):\n",
    "    print(\n",
    "        f\"The sample of the native library encoding call for embedding {i + 1} is: {embedding[:10]}\"\n",
    "    )"
   ]
  },
  {
   "cell_type": "markdown",
   "metadata": {},
   "source": [
    "### Conclusion: Embracing the Power of Sentence Transformers with MLflow\n",
    "\n",
    "As we reach the end of our Introduction to Sentence Transformers tutorial, we have successfully navigated the basics of integrating the Sentence Transformers library with MLflow. This foundational knowledge sets the stage for more advanced and specialized applications in the field of Natural Language Processing (NLP).\n",
    "\n",
    "#### Recap of Key Learnings\n",
    "\n",
    "1. **Integration Basics**: We covered the essential steps of loading and logging a Sentence Transformer model using MLflow. This process demonstrated the simplicity and effectiveness of integrating cutting-edge NLP tools within MLflow's ecosystem.\n",
    "\n",
    "2. **Signature and Inference**: Through the creation of a model signature and the execution of inference tasks, we showcased how to operationalize the Sentence Transformer model, ensuring that it's ready for real-world applications.\n",
    "\n",
    "3. **Model Loading and Prediction**: We explored two ways of loading the model - as a PyFunc model and using the native Sentence Transformers loading mechanism. This dual approach highlighted the versatility of MLflow in accommodating different model interaction methods.\n",
    "\n",
    "4. **Embeddings Exploration**: By generating and examining sentence embeddings, we glimpsed the transformative potential of transformer models in capturing semantic information from text.\n",
    "\n",
    "#### Looking Ahead\n",
    "\n",
    "- **Expanding Horizons**: While this tutorial focused on the foundational aspects of Sentence Transformers and MLflow, there's a whole world of advanced applications waiting to be explored. From semantic similarity analysis to paraphrase mining, the potential use cases are vast and varied.\n",
    "\n",
    "- **Continued Learning**: We strongly encourage you to delve into the other tutorials in this series, which dive deeper into more intriguing use cases like similarity analysis, semantic search, and paraphrase mining. These tutorials will provide you with a broader understanding and more practical applications of Sentence Transformers in various NLP tasks.\n",
    "\n",
    "#### Final Thoughts\n",
    "\n",
    "The journey into NLP with Sentence Transformers and MLflow is just beginning. With the skills and insights gained from this tutorial, you are well-equipped to explore more complex and exciting applications. The integration of advanced NLP models with MLflow's robust management and deployment capabilities opens up new avenues for innovation and exploration in the field of language understanding and beyond.\n",
    "\n",
    "Thank you for joining us on this introductory journey, and we look forward to seeing how you apply these tools and concepts in your NLP endeavors!"
   ]
  }
 ],
 "metadata": {
  "kernelspec": {
   "display_name": "mlflow-dev-env",
   "language": "python",
   "name": "python3"
  },
  "language_info": {
   "codemirror_mode": {
    "name": "ipython",
    "version": 3
   },
   "file_extension": ".py",
   "mimetype": "text/x-python",
   "name": "python",
   "nbconvert_exporter": "python",
   "pygments_lexer": "ipython3",
   "version": "3.8.13"
  }
 },
 "nbformat": 4,
 "nbformat_minor": 2
}
